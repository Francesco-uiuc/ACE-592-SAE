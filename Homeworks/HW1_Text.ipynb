{
 "cells": [
  {
   "cell_type": "markdown",
   "metadata": {},
   "source": [
    "# Fly Me to the Moon!\n",
    "\n",
    "\n",
    "In this assignment:\n",
    "1. (2 points) Load a json file of Doge Coin tweets from the period Feb 2 - Feb 8, 2021. After loading them, put the following information into a dataframe:\n",
    "    - The full text of the Tweet. (string)\n",
    "    - The author of the tweet, that is their username (string)\n",
    "    - Whether or not it is a retweet. (boolean)\n",
    "    - The timestamp. (datetime)\n",
    "    - The date (YYYY-MM-DD) of the Tweet. (date)\n",
    "\n",
    "   \n",
    "__Hint: list comprehensions can be your best friend!__\n",
    "\n",
    "2. (2 points) Create a \"clean_text\" column by doing the following to \"full_text\":\n",
    "    - removing links, which are strings that start with \"http\"\n",
    "    - removing hashtags, which are strings that start with \"#\"\n",
    "    - removing mentions, which are strings that start with \"@\"\n",
    "    - converting text to lower case.\n",
    "    - removing punctuation.\n",
    "    \n",
    "   Now report:\n",
    "    - The top 10 most common words besides \"doge\", \"coin\", and \"dogecoin\" (while also omitting stop words).\n",
    "    - The top 5 Twitter accounts that are mentioned (hint: use a regular expression).\n",
    "    - The top 5 most RT'ed tweets.\n",
    "    - The top 5 hashtags besides \"#doge\" and \"dogecoin\" (hint: use a regular expression).\n",
    "    \n",
    "__Extra Credit: Report the top 5 most common emojis (1 point)__\n",
    "\n",
    "3. (2 points) Now read in the json file of Elon Musk's tweets. \n",
    "    - Find the minute volume of Elon Musk's tweets, and plot them together with the minute volume of Doge tweets. Interpret what you see. Note on the graph any Elon Musk tweets having to do with Doge Coin.\n",
    "    - On the day Elon Musk tweeted just the word \"doge,\" what were the top 10 words? What are the differences between these and the top 10 most common words in the whole data?\n",
    "\n",
    "4. (3 points) Run the Doge Coin tweets through sentiment analysis, and report:\n",
    "    - The 5 most negative and 5 most positive tweets.\n",
    "    - A graph of the sentiment over time together with tweet volume. Put a dashed verticle line at the timestamp where Elon tweeted just the word \"doge.\"\n",
    "    \n",
    "5. (6 points) Doge Coin Prices and Tweets.\n",
    "\n",
    "   a. Read in the Doge Coin price data at the 2 minute level and extract the volume, the closing price, and the timestamp. Then create two graphs:\n",
    "   - The Doge Coin closing price versus volume during the sample period. Put a dashed verticle line at the timestamp where Elon tweeted just the word \"doge.\" Interpret what the graph shows.\n",
    "   - Graph __at least__ the average Doge Coin tweet sentiment and the Doge Coin price. Annotate or graph any other information you think is relevant (__Extra Credit Graph: Put \"My Submission\" at the top of the cell to submit for one extra credit point__).\n",
    "   - Do you think that Elon Musk moved the price of Doge Coin? Was the effect permanent?\n",
    "\n",
    "   b. Calculate the correlation between the Dog Coin Tweet sentiment and the Doge Coin price in this sample period. Then suppose someone asks you to answer this question: Did positive Twitter sentiment increase the price of Doge Coin from Feb 2 to Feb 8, 2021? Specifically, describe in detail:\n",
    "     - The data you would need in addition to these data sources.\n",
    "     - The way you would read in the data and manipulate it.\n",
    "     - The sort of analysis or statistics you would calculate to answer the question.\n",
    "    "
   ]
  },
  {
   "cell_type": "code",
   "execution_count": 3,
   "metadata": {},
   "outputs": [],
   "source": [
    "import pandas as pd\n",
    "import json\n",
    "import matplotlib.pyplot as plt\n",
    "from sklearn.feature_extraction.text import CountVectorizer\n",
    "from nltk.sentiment.vader import SentimentIntensityAnalyzer\n",
    "import re\n",
    "import string\n",
    "from nltk.corpus import stopwords\n",
    "import string\n",
    "import emoji\n",
    "from datetime import timedelta"
   ]
  }
 ],
 "metadata": {
  "kernelspec": {
   "display_name": "Python 3 (ipykernel)",
   "language": "python",
   "name": "python3"
  },
  "language_info": {
   "codemirror_mode": {
    "name": "ipython",
    "version": 3
   },
   "file_extension": ".py",
   "mimetype": "text/x-python",
   "name": "python",
   "nbconvert_exporter": "python",
   "pygments_lexer": "ipython3",
   "version": "3.10.9"
  }
 },
 "nbformat": 4,
 "nbformat_minor": 4
}
