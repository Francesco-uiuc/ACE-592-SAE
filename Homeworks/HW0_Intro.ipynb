{
 "cells": [
  {
   "cell_type": "markdown",
   "metadata": {},
   "source": [
    "# Alpacalypse Now\n",
    "While the United States is home to millions of dairy cows, it is also home to a much furrier type of livestock from South America: the Alpaca.\n",
    "\n",
    "Alpacas are wool producing camelids from the Andes which, due to a very odd tax loophole, became the subject of a very large asset bubble in US agriculture around 2008. In 1995, there were around 10,000 alpacas in the United States. By 2006, there were more than 85,000.\n",
    "\n",
    "[When the Great Alpaca Bubble Burst - Priceonomics](https://priceonomics.com/when-the-great-alpaca-bubble-burst/)\n",
    "\n",
    "In a 2007 paper titled [\"Alpaca Lies? Speculative Bubbles in Agriculture: Why They Happen and How to Recognize Them\"](https://onlinelibrary-wiley-com.proxy2.library.illinois.edu/doi/full/10.1111/j.1467-9353.2007.00343.x), Tina Saitone and Richard Sexton explained that the auction price of alpacas had at one point reached $75,000 per animal. Using data on rearing costs, they explain that the price of alpaca wool would have had to grow 20\\% a year for several years in order to justify this price.  \n",
    "\n",
    "As it turned out, the alpaca market was yet another example of a speculative commodity bubble. Between 2006 and 2011, the price of alpacas dropped $30,000 (see their follow up [article](https://s.giannini.ucop.edu/uploads/giannini_public/51/b2/51b2d799-65e5-47cf-9a1b-060c75a79501/v15n5_3.pdf))\n",
    "\n",
    "Was this the end of the alpaca industry in the United States? What is the state of the US Alpaca industry today? Using data from the NASS API, you will characterize the Alpaca industry since 2007.\n",
    "\n",
    "Using the NASS API, I have already downloaded four variables from the Agricultural Census from the years 2007, 2012, and 2017: number of alpacas, number of operations with alpacas, (inventory data) total revenue from alpaca sales, and total alpacas sold (sales data). The variables are all measured at the state level. \n",
    "\n",
    "I have merged in the sales data using the code below:"
   ]
  },
  {
   "cell_type": "code",
   "execution_count": null,
   "metadata": {},
   "outputs": [],
   "source": [
    "nass_key = \"A9150F7B-9924-3966-9A15-F16AE9683F77\" "
   ]
  },
  {
   "cell_type": "code",
   "execution_count": null,
   "metadata": {},
   "outputs": [],
   "source": [
    "import requests\n",
    "import pandas as pd\n",
    "import numpy as np\n",
    "import matplotlib.pyplot as plt\n",
    "\n",
    "def download_alpaca_data(short_desc):\n",
    "    URL = \"http://quickstats.nass.usda.gov/api/api_GET/\"\n",
    "    params = {\"key\":nass_key, # Put the API KEY\n",
    "          \"year__GE\":\"2007\", # The year Census we want; the \"__GE\" means \"greater or equal\".\n",
    "          \"domain_desc\":\"TOTAL\", # total across all domains\n",
    "          \"source_desc\":\"CENSUS\",# Specify that we want the Census, not a survey.\n",
    "          \"agg_level_desc\":\"STATE\", # Specify that we want the state level.\n",
    "          \"short_desc\":short_desc # The name of the variable, so we don't \n",
    "                                                        # have to specify more params\n",
    "         }\n",
    "    r = requests.get(url = URL, params = params)\n",
    "    if r.status_code ==200:\n",
    "        return pd.DataFrame(r.json()['data'])\n",
    "    else:\n",
    "        print(\"404: Dump it, this one's garbage.\")\n",
    "        \n",
    "## Downloading the Sales Data\n",
    "alpc_sales_dollars = download_alpaca_data(\"ALPACAS - SALES, MEASURED IN $\")\n",
    "alpc_sales_head = download_alpaca_data(\"ALPACAS - SALES, MEASURED IN HEAD\")\n",
    "\n",
    "alpc_sales_dollars['sales_dollars'] = alpc_sales_dollars['Value']\n",
    "alpc_sales_dollars.drop(\"Value\",axis=1,inplace=True)\n",
    "\n",
    "alpc_sales_head['sales_head'] = alpc_sales_head['Value']\n",
    "alpc_sales_head.drop(\"Value\",axis=1,inplace=True)\n",
    "\n",
    "sales = alpc_sales_dollars.merge(alpc_sales_head,on=[\"state_name\",\"year\"])\n",
    "sales = sales[['state_name','year','sales_head','sales_dollars']]\n",
    "\n",
    "sales.to_csv(\"alpaca_sales.csv\",index=False)"
   ]
  },
  {
   "cell_type": "markdown",
   "metadata": {},
   "source": [
    "I have also downloaded the inventory data but have not merged it."
   ]
  },
  {
   "cell_type": "code",
   "execution_count": null,
   "metadata": {},
   "outputs": [],
   "source": [
    "download_alpaca_data(\"ALPACAS - INVENTORY\").to_csv(\"nass_data1.csv\",index=False)\n",
    "download_alpaca_data(\"ALPACAS - OPERATIONS WITH INVENTORY\").to_csv(\"nass_data2.csv\",index=False)"
   ]
  },
  {
   "cell_type": "markdown",
   "metadata": {},
   "source": [
    "Now do the following tasks. __For all graphs, label the x-axis and the y-axis__:\n",
    "\n",
    "1. Data cleaning (2 points, 1/2 points each)\n",
    "    \n",
    "    a. Read in the data \"nass_data1.csv\" and clean the \"value\" column to be an integer. Rename the column to \"inventory.\"\n",
    "\n",
    "    b. Read in the data \"nass_data2.csv\" and clean the \"value\" column to be an integer. Rename the column to \"farms\"\n",
    "    \n",
    "    c. Merge the data sources together into one dataframe using \"state_name\" and \"year\" as the keys.\n",
    "       \n",
    "    d. Finally, read in the \"sales\" data and merge them after cleaning the \"sales_head\" and \"sales_dollars\" columns to be numeric instead of string.\n",
    "\n",
    "\n",
    "2. Data analysis (3 points, 1 point each)\n",
    "    \n",
    "    a. Make a bar graph showing the number of alpacas in the entire US in the years 2007, 2012, and 2017. \n",
    "\n",
    "    b. Using `twinx`, add another bar to the above graph which shows the number of farms (HINT: set `position = 1` for the second graph and `position = 0` for the first graph).\n",
    "    \n",
    "    c. Report the following summary statistics for each year __in one table__:\n",
    "        - The average alpaca herd size.\n",
    "        - The average alpaca sale price.\n",
    "    \n",
    "3. __EXTRA CREDIT (1 point)__: Which 5 states had the highest growth in their alpaca population between 2007 and 2017? Show it on a bar graph."
   ]
  }
 ],
 "metadata": {
  "kernelspec": {
   "display_name": "Python 3",
   "language": "python",
   "name": "python3"
  },
  "language_info": {
   "codemirror_mode": {
    "name": "ipython",
    "version": 3
   },
   "file_extension": ".py",
   "mimetype": "text/x-python",
   "name": "python",
   "nbconvert_exporter": "python",
   "pygments_lexer": "ipython3",
   "version": "3.8.5"
  }
 },
 "nbformat": 4,
 "nbformat_minor": 4
}
