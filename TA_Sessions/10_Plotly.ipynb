{
 "cells": [
  {
   "cell_type": "markdown",
   "metadata": {},
   "source": [
    "# Data Visualization with Plotly\n",
    "https://plotly.com/python/getting-started/ \n",
    "\n",
    "## Analyzing Covid 19 Data\n",
    "\n",
    "This notebook analyzes Covid 19 data collected by the New York Times.\n",
    "\n",
    "https://github.com/nytimes/covid-19-data\n",
    "\n",
    "\n",
    "Be sure to run \"git pull origin master\" before analyzing the data to pull the most recent data (if you cloned the repo)\n"
   ]
  },
  {
   "cell_type": "code",
   "execution_count": null,
   "metadata": {},
   "outputs": [],
   "source": [
    "import pandas as pd\n",
    "import numpy as np\n",
    "# \n",
    "import plotly.express as px\n",
    "import plotly.graph_objects as go\n",
    "import matplotlib.pyplot as plt\n",
    "# \n",
    "%matplotlib inline\n",
    "!pip install chart_studio\n",
    "!pip install cufflinks\n",
    "\n",
    "# this is to make everything work properly offline \n",
    "from plotly.offline import download_plotlyjs, init_notebook_mode, plot, iplot \n",
    "init_notebook_mode(connected=True)\n",
    "cf.go_offline()\n",
    "import chart_studio.plotly as py\n",
    "import cufflinks as cf"
   ]
  },
  {
   "cell_type": "markdown",
   "metadata": {},
   "source": [
    "## Process Data"
   ]
  },
  {
   "cell_type": "markdown",
   "metadata": {},
   "source": [
    "### State level data"
   ]
  },
  {
   "cell_type": "code",
   "execution_count": null,
   "metadata": {},
   "outputs": [],
   "source": [
    "# Read data\n",
    "d = pd.read_csv(r\"C:\\Users\\Hanna Willwerth\\ACE-592\\TA_Material\\pyintro_resources\\us-states.csv\")"
   ]
  },
  {
   "cell_type": "code",
   "execution_count": null,
   "metadata": {},
   "outputs": [],
   "source": [
    "d.head(3)"
   ]
  },
  {
   "cell_type": "code",
   "execution_count": null,
   "metadata": {},
   "outputs": [],
   "source": [
    "# First sort\n",
    "d = d.sort_values(['state','date'],ascending=[True, True])"
   ]
  },
  {
   "cell_type": "code",
   "execution_count": null,
   "metadata": {},
   "outputs": [],
   "source": [
    "d.head(3)"
   ]
  },
  {
   "cell_type": "code",
   "execution_count": null,
   "metadata": {},
   "outputs": [],
   "source": [
    "# To find new cases, take the first order difference\n",
    "changes = d.groupby(\"state\")[['cases','deaths']].diff()"
   ]
  },
  {
   "cell_type": "code",
   "execution_count": null,
   "metadata": {},
   "outputs": [],
   "source": [
    "changes.head(3)"
   ]
  },
  {
   "cell_type": "code",
   "execution_count": null,
   "metadata": {},
   "outputs": [],
   "source": [
    "# Join the new numbers\n",
    "d = d.join(changes,rsuffix=\"_new\")"
   ]
  },
  {
   "cell_type": "code",
   "execution_count": null,
   "metadata": {},
   "outputs": [],
   "source": [
    "d.head(3)"
   ]
  },
  {
   "cell_type": "code",
   "execution_count": null,
   "metadata": {},
   "outputs": [],
   "source": [
    "# Taking rolling averages of the daily cases and deaths\n",
    "rm7 = d.groupby(\"state\")[['cases_new','deaths_new']].rolling(7).mean()"
   ]
  },
  {
   "cell_type": "code",
   "execution_count": null,
   "metadata": {},
   "outputs": [],
   "source": [
    "rm7=rm7.reset_index().set_index(\"level_1\")"
   ]
  },
  {
   "cell_type": "code",
   "execution_count": null,
   "metadata": {},
   "outputs": [],
   "source": [
    "d= d.join(rm7.iloc[:,1:],rsuffix=\"_rm7\")"
   ]
  },
  {
   "cell_type": "code",
   "execution_count": null,
   "metadata": {},
   "outputs": [],
   "source": [
    "d"
   ]
  },
  {
   "cell_type": "markdown",
   "metadata": {},
   "source": [
    "This cell reads in the state codes to be read with Plotly"
   ]
  },
  {
   "cell_type": "code",
   "execution_count": null,
   "metadata": {},
   "outputs": [],
   "source": [
    "state_codes = pd.read_csv(r\"C:\\Users\\Hanna Willwerth\\ACE-592\\TA_Material\\pyintro_resources\\State_Codes.csv\",usecols = ['code','state'])\n",
    "state_codes['state'] = state_codes.state.str.strip()\n",
    "state_codes['code'] = state_codes.code.str.strip()"
   ]
  },
  {
   "cell_type": "code",
   "execution_count": null,
   "metadata": {},
   "outputs": [],
   "source": [
    "state_codes;"
   ]
  },
  {
   "cell_type": "code",
   "execution_count": null,
   "metadata": {
    "scrolled": true
   },
   "outputs": [],
   "source": [
    "d = d.merge(state_codes,how='left')"
   ]
  },
  {
   "cell_type": "code",
   "execution_count": null,
   "metadata": {},
   "outputs": [],
   "source": [
    "d;"
   ]
  },
  {
   "cell_type": "markdown",
   "metadata": {},
   "source": [
    "### County level data\n",
    "\n",
    "Reading in a county geo-json file. We will use this object (counties) as an argument inside Plotly.  Don't worry about it now."
   ]
  },
  {
   "cell_type": "code",
   "execution_count": null,
   "metadata": {
    "scrolled": true
   },
   "outputs": [],
   "source": [
    "from urllib.request import urlopen\n",
    "import json\n",
    "with urlopen('https://raw.githubusercontent.com/plotly/datasets/master/geojson-counties-fips.json') as response:\n",
    "    counties = json.load(response)\n"
   ]
  },
  {
   "cell_type": "code",
   "execution_count": null,
   "metadata": {},
   "outputs": [],
   "source": [
    "county_data = pd.read_csv(r\"C:\\Users\\Hanna Willwerth\\ACE-592\\TA_Material\\pyintro_resources\\us-counties.csv\",dtype={\"fips\":str})"
   ]
  },
  {
   "cell_type": "code",
   "execution_count": null,
   "metadata": {},
   "outputs": [],
   "source": [
    "# To take differences, we need to sort the data first.\n",
    "# FIPS codes are numbers which uniquely identify geographic areas. \n",
    "county_data = county_data.sort_values([\"fips\",\"date\"])\n",
    "\n",
    "# Take the difference of the cumulative case numbers.\n",
    "county_changes = county_data.groupby(\"fips\")[['cases','deaths']].diff()\n",
    "\n",
    "# Join the new numbers\n",
    "county_data = county_data.join(county_changes,rsuffix=\"_new\")\n",
    "\n",
    "# Taking rolling averages\n",
    "rm7_county = county_data.groupby(\"state\")[['cases_new','deaths_new']].rolling(7).mean()\n",
    "\n",
    "# Join them back into the data.\n",
    "county_data = county_data.join(rm7_county.reset_index().set_index(\"level_1\").iloc[:,1:],rsuffix=\"_rm7\")"
   ]
  },
  {
   "cell_type": "code",
   "execution_count": null,
   "metadata": {},
   "outputs": [],
   "source": [
    "county_data;"
   ]
  },
  {
   "cell_type": "code",
   "execution_count": null,
   "metadata": {},
   "outputs": [],
   "source": [
    "county_data.groupby(\"fips\").last().sort_values(\"cases_new\",ascending=False).head(10)"
   ]
  },
  {
   "cell_type": "code",
   "execution_count": null,
   "metadata": {},
   "outputs": [],
   "source": [
    "county_data.groupby(\"fips\").last().sort_values(\"deaths_new\",ascending=False).head(10)"
   ]
  },
  {
   "cell_type": "code",
   "execution_count": null,
   "metadata": {},
   "outputs": [],
   "source": [
    "county_data['county-state'] = county_data['county'] + \", \" + county_data['state']"
   ]
  },
  {
   "cell_type": "code",
   "execution_count": null,
   "metadata": {},
   "outputs": [],
   "source": [
    "county_data"
   ]
  },
  {
   "cell_type": "code",
   "execution_count": null,
   "metadata": {},
   "outputs": [],
   "source": [
    "fig = px.choropleth(county_data.groupby(\"fips\").last().reset_index(), \\\n",
    "                           geojson=counties, locations='fips', color='cases_new',\n",
    "                           color_continuous_scale=\"Reds\",\n",
    "                           scope=\"usa\",\n",
    "                           range_color =(0,500),\n",
    "                            hover_name =\"county-state\",\n",
    "                            hover_data = [\"cases_new\",\"deaths_new\"]\n",
    "                          )\n",
    "\n",
    "fig.update_layout(\n",
    "    title_text = 'New Covid 19 Cases on {}, County Level'.format(county_data.date.max()),\n",
    ")\n",
    "fig.show()"
   ]
  },
  {
   "cell_type": "code",
   "execution_count": null,
   "metadata": {},
   "outputs": [],
   "source": [
    "county_data['cases_new_rate'] = county_data.groupby([\"fips\"])['cases_new'].diff()"
   ]
  },
  {
   "cell_type": "code",
   "execution_count": null,
   "metadata": {},
   "outputs": [],
   "source": [
    "fig = px.choropleth(county_data.groupby(\"fips\").last().reset_index(), \\\n",
    "                           geojson=counties, locations='fips', color='cases_new_rate',\n",
    "                           color_continuous_scale=\"RdBu_r\",\n",
    "                           scope=\"usa\",\n",
    "                           range_color =(-500,500),\n",
    "                            hover_name =\"county-state\",\n",
    "                            hover_data = [\"cases_new\",\"deaths_new\"]\n",
    "                          )\n",
    "\n",
    "fig.update_layout(\n",
    "    title_text = 'New Covid 19 Cases on {}, County Level'.format(county_data.date.max()),\n",
    ")\n",
    "fig.show()"
   ]
  },
  {
   "cell_type": "markdown",
   "metadata": {},
   "source": [
    "### State level data"
   ]
  },
  {
   "cell_type": "code",
   "execution_count": null,
   "metadata": {},
   "outputs": [],
   "source": [
    "d1=pd.DataFrame(d).reset_index()"
   ]
  },
  {
   "cell_type": "code",
   "execution_count": null,
   "metadata": {},
   "outputs": [],
   "source": [
    "fig = px.bar(d1,x=\"state\",y=\"cases_new\", \n",
    "       title=\"Covid-19 new cases by States\",\n",
    "       labels={'cases_new':\"Number of cases\",\"state\":\"State\"})\n",
    "fig.show()"
   ]
  },
  {
   "cell_type": "code",
   "execution_count": null,
   "metadata": {
    "scrolled": true
   },
   "outputs": [],
   "source": [
    "# matplotlib way\n",
    "var = \"cases_new\"\n",
    "d.groupby(\"state\").last().sort_values(var,ascending=True)[var].tail(20).plot(kind='barh');\n",
    "plt.xlabel(\"New Cases\");\n",
    "plt.xticks(rotation=-45);\n",
    "plt.ylabel(\"State\");"
   ]
  },
  {
   "cell_type": "code",
   "execution_count": null,
   "metadata": {},
   "outputs": [],
   "source": [
    "fig = px.choropleth(d.sort_values([\"date\",\"state\"]),\n",
    "              locations='code',\n",
    "              color='cases_new',\n",
    "              locationmode=\"USA-states\",\n",
    "                    hover_name='state',\n",
    "#                 colorscale = 'Blues',\n",
    "              animation_frame=\"date\",\n",
    "                    color_continuous_scale=\"Reds\",\n",
    "                    range_color=(0,5000)\n",
    "              )\n",
    "\n",
    "fig.update_layout(\n",
    "    title_text = 'New Covid 19 Cases',\n",
    "    geo_scope='usa', # limite map scope to USA\n",
    ")"
   ]
  },
  {
   "cell_type": "markdown",
   "metadata": {},
   "source": [
    "### National Level Data & Selected States"
   ]
  },
  {
   "cell_type": "code",
   "execution_count": null,
   "metadata": {},
   "outputs": [],
   "source": [
    "national = pd.DataFrame(d.groupby(\"date\")['cases_new'].sum().rolling(7).mean()).reset_index()"
   ]
  },
  {
   "cell_type": "code",
   "execution_count": null,
   "metadata": {},
   "outputs": [],
   "source": [
    "national"
   ]
  },
  {
   "cell_type": "code",
   "execution_count": null,
   "metadata": {},
   "outputs": [],
   "source": [
    "px.line(national,x='date',y=\"cases_new\")"
   ]
  },
  {
   "cell_type": "code",
   "execution_count": null,
   "metadata": {},
   "outputs": [],
   "source": [
    "ill = d[d['state']==\"Illinois\"][[\"date\",\"cases_new_rm7\"]].set_index('date')\n",
    "ca =  d[d['state']==\"California\"][[\"date\",\"cases_new_rm7\"]].set_index('date')\n",
    "tx = d[d['state']==\"Texas\"][[\"date\",\"cases_new_rm7\"]].set_index('date')"
   ]
  },
  {
   "cell_type": "code",
   "execution_count": null,
   "metadata": {},
   "outputs": [],
   "source": [
    "data=ill.join(ca,rsuffix=\"_ca\").join(tx,rsuffix=\"_tx\").reset_index()"
   ]
  },
  {
   "cell_type": "code",
   "execution_count": null,
   "metadata": {},
   "outputs": [],
   "source": [
    "fig = px.line(data,x='date',y=[\"cases_new_rm7\",\"cases_new_rm7_ca\",\"cases_new_rm7_tx\"],\n",
    "              title = \"COVID-19 Rolling 7-days Average cases\" )\n",
    "fig.show()"
   ]
  },
  {
   "cell_type": "code",
   "execution_count": null,
   "metadata": {},
   "outputs": [],
   "source": [
    "fig = go.Figure()\n",
    "fig.add_trace(go.Scatter(x=data.date,y=data.cases_new_rm7, mode='lines', line=dict(color='darkcyan'),name='Illinois'))\n",
    "fig.add_trace(go.Scatter(x=data.date,y=data.cases_new_rm7_ca, mode='lines',line=dict(color='slategrey'),name='California'))\n",
    "fig.add_trace(go.Scatter(x=data.date,y=data.cases_new_rm7_tx, mode='lines',line=dict(color='firebrick'),name='Texas'))\n",
    "\n",
    "fig.update_layout(title=\"COVID-19 Rolling 7-days Average cases\",\n",
    "                 xaxis_title=\"Date\", yaxis_title=\"Cases\")\n",
    "\n",
    "fig.update_layout(xaxis=dict(showline=True, \n",
    "                             showgrid=False,\n",
    "                             showticklabels=True,\n",
    "                             linewidth=2, \n",
    "                             linecolor='black', \n",
    "                             ticks='outside'),\n",
    "                  yaxis=dict(showline=True, linecolor='black'),\n",
    "                 plot_bgcolor='white')\n",
    "fig.show()"
   ]
  },
  {
   "cell_type": "code",
   "execution_count": null,
   "metadata": {},
   "outputs": [],
   "source": []
  }
 ],
 "metadata": {
  "kernelspec": {
   "display_name": "Python 3 (ipykernel)",
   "language": "python",
   "name": "python3"
  },
  "language_info": {
   "codemirror_mode": {
    "name": "ipython",
    "version": 3
   },
   "file_extension": ".py",
   "mimetype": "text/x-python",
   "name": "python",
   "nbconvert_exporter": "python",
   "pygments_lexer": "ipython3",
   "version": "3.8.13"
  }
 },
 "nbformat": 4,
 "nbformat_minor": 4
}
