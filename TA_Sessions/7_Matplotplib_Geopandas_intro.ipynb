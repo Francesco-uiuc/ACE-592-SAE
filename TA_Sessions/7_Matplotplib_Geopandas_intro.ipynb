{
 "cells": [
  {
   "cell_type": "markdown",
   "id": "4d5d86e0",
   "metadata": {},
   "source": [
    "# Matplotlib and Quick intro to GeoPandas\n",
    "\n",
    "Data visualization library that includes:\n",
    "- Image plot, contour plots, scatter plots, line plots, 3D plots\n",
    "- Variety of hardcopy formats\n",
    "- Interactie environments\n",
    "\n",
    "`matplotlib` has a vast number of functions. Don't worry, it is hard to remember all of them.\n",
    "\n",
    "We can always guide our work by getting codes from here: https://matplotlib.org/stable/gallery/index.html\n",
    "\n",
    "\n",
    "\n"
   ]
  },
  {
   "cell_type": "code",
   "execution_count": null,
   "id": "af485a7e",
   "metadata": {},
   "outputs": [],
   "source": [
    "import numpy as np\n",
    "import pandas as pd\n",
    "import matplotlib.pyplot as plt\n",
    "%matplotlib inline\n",
    "import geopandas\n",
    "import pyproj\n",
    "import rasterio\n",
    "import rasterstats\n",
    "import os\n",
    "import json"
   ]
  },
  {
   "cell_type": "markdown",
   "id": "48e252c4",
   "metadata": {},
   "source": [
    "As we saw in class, we can plot either by **the plt way** or **the fig and axes way**. "
   ]
  },
  {
   "cell_type": "code",
   "execution_count": null,
   "id": "320e69b6",
   "metadata": {},
   "outputs": [],
   "source": [
    "x = np.random.randn(100,1)\n",
    "y = np.random.randn(100,1)\n",
    "\n",
    "the_array = np.concatenate([x,y],axis=1)\n",
    "\n",
    "df = pd.DataFrame(the_array,columns=['X','Y'])"
   ]
  },
  {
   "cell_type": "markdown",
   "id": "73c0b7f5",
   "metadata": {},
   "source": [
    "In the object oriented way (fig and axes), we edit the objects that we want"
   ]
  },
  {
   "cell_type": "code",
   "execution_count": null,
   "id": "6e3dad53",
   "metadata": {},
   "outputs": [],
   "source": [
    "fig, ax = plt.subplots()  # Create a figure containing a single axes."
   ]
  },
  {
   "cell_type": "code",
   "execution_count": null,
   "id": "f946b68d",
   "metadata": {},
   "outputs": [],
   "source": [
    "fig, ax = plt.subplots(2,2) "
   ]
  },
  {
   "cell_type": "code",
   "execution_count": null,
   "id": "61e85f0b",
   "metadata": {},
   "outputs": [],
   "source": [
    "fig, ax = plt.subplots(2,1) "
   ]
  },
  {
   "cell_type": "markdown",
   "id": "681c19e6",
   "metadata": {},
   "source": [
    "The syntax for plotting is: `ax.plot(data, linestyle, color, marker)` "
   ]
  },
  {
   "cell_type": "code",
   "execution_count": null,
   "id": "944874fc",
   "metadata": {},
   "outputs": [],
   "source": [
    "fig, ax = plt.subplots()  # Create a figure containing a single axes.\n",
    "ax.plot(np.linspace(100,200,100), df['Y'])  # Plot some data on the axes."
   ]
  },
  {
   "cell_type": "code",
   "execution_count": null,
   "id": "6951c322",
   "metadata": {},
   "outputs": [],
   "source": [
    "fig, ax = plt.subplots()  # Create a figure containing a single axes.\n",
    "ax.plot(np.linspace(100,200,100), df['Y'], linestyle=\"--\",color=\"darkcyan\",marker=\"p\");\n"
   ]
  },
  {
   "cell_type": "code",
   "execution_count": null,
   "id": "f13bedb4",
   "metadata": {},
   "outputs": [],
   "source": [
    "fig, ax = plt.subplots()  # Create a figure containing a single axes.\n",
    "ax.plot(np.linspace(100,200,100), df['Y'], linestyle=\"--\",color=\"darkcyan\",marker=\"p\");\n",
    "ax.set_title(\"Title of the plot\");\n",
    "ax.set_xlabel(\"this is the x-axis label\");\n",
    "ax.set_ylabel(\"this is the y-axis label\");\n"
   ]
  },
  {
   "cell_type": "code",
   "execution_count": null,
   "id": "35569dc2",
   "metadata": {},
   "outputs": [],
   "source": [
    "fig, axes = plt.subplots(2,1, figsize=(12,5))\n",
    "axes[0].plot(np.linspace(100,200,100), df['Y'], color=\"darkred\");\n",
    "axes[1].hist(df['Y'], bins=10, color=\"darkcyan\");\n",
    "axes[0].set_title(\"Top Plot\", fontsize=15);\n",
    "axes[0].set_ylabel(\"Y label top\");\n",
    "axes[1].set_title(\"Bottom Plot\", fontsize=15);\n",
    "axes[1].set_ylabel(\"Y label bottom\");\n",
    "#fig.savefig(\"export_figure.pdf\")"
   ]
  },
  {
   "cell_type": "markdown",
   "id": "434bb2cb",
   "metadata": {},
   "source": [
    "What if we need different data in the same plot:"
   ]
  },
  {
   "cell_type": "code",
   "execution_count": null,
   "id": "2540a352",
   "metadata": {},
   "outputs": [],
   "source": [
    "fig, ax = plt.subplots(1, figsize=(10, 6));\n",
    "ax.plot(np.random.randn(100).cumsum(), linestyle=\"--\", marker = \".\", label=\"first\");\n",
    "ax.plot(np.random.randn(100).cumsum(), linestyle=\":\" , marker = \"o\", label=\"second\");\n",
    "ax.plot(np.random.randn(100).cumsum(), linestyle=\"-.\", marker = \"s\", label=\"third\");\n",
    "ax.legend(loc=\"best\", fontsize=15);\n",
    "ax.set_title(\"multiple plots in one subplot\", fontsize=18);"
   ]
  },
  {
   "cell_type": "markdown",
   "id": "eac47180",
   "metadata": {},
   "source": [
    "We can also add some text inside the subplot with:\n",
    "- `ax.text(x, y, \"text\", fontsize)`: Inserts text into subplot\n",
    "- `ax.annotate(\"text\",xy,xytext, arrowprops)`: inserts an arrow with . Using ax.annotate() the arrow head points at xy and the bottom left corner of the text will be placed at xytext."
   ]
  },
  {
   "cell_type": "code",
   "execution_count": null,
   "id": "a163ffa9",
   "metadata": {},
   "outputs": [],
   "source": [
    "fig, ax = plt.subplots(1, figsize=(10, 5))\n",
    "ax.plot(np.random.randn(100).cumsum(), linestyle=\"--\", marker = \".\", label=\"first\");\n",
    "ax.plot(np.random.randn(100).cumsum(), linestyle=\":\" , marker = \"o\", label=\"second\");\n",
    "ax.plot(np.random.randn(100).cumsum(), linestyle=\"-.\", marker = \"s\", label=\"third\");\n",
    "ax.legend(loc=\"best\", fontsize=15);\n",
    "ax.set_title(\"multiple plots in one subplot\", fontsize=18)\n",
    "ax.text(0,0, \"here\", fontsize=20)\n",
    "ax.annotate(\"there\",fontsize=20, xy=(0,0),xytext=(60,0),arrowprops=dict(facecolor=\"black\"))"
   ]
  },
  {
   "cell_type": "markdown",
   "id": "ea26f92e",
   "metadata": {},
   "source": [
    "#### Best practice: an overall\n",
    "1. Step 1: Create a figure object and subplots:\n",
    "2. Step 2: Plot data\n",
    "3. Step 3: Set colors, markers and line styles\n",
    "4. Step 4: Set title, axis labels and ticks\n",
    "5. Step 5: Add legend or other parameters\n",
    "6. Step 6: Save plot."
   ]
  },
  {
   "cell_type": "markdown",
   "id": "ce057a38",
   "metadata": {},
   "source": [
    "In case that you want to read some data and plot it, it is the same intuition."
   ]
  },
  {
   "cell_type": "code",
   "execution_count": null,
   "id": "2935349a",
   "metadata": {},
   "outputs": [],
   "source": [
    "pwd"
   ]
  },
  {
   "cell_type": "code",
   "execution_count": null,
   "id": "05a0feac",
   "metadata": {},
   "outputs": [],
   "source": [
    "data = pd.read_csv('pyintro_resources/fivethirtyeight/alcohol-consumption/drinks.csv')"
   ]
  },
  {
   "cell_type": "code",
   "execution_count": null,
   "id": "34300723",
   "metadata": {},
   "outputs": [],
   "source": [
    "data.head()"
   ]
  },
  {
   "cell_type": "code",
   "execution_count": null,
   "id": "09668bb9",
   "metadata": {},
   "outputs": [],
   "source": [
    "data.sort_values(['total_litres_of_pure_alcohol'], ascending=False).head(10)"
   ]
  },
  {
   "cell_type": "code",
   "execution_count": null,
   "id": "02e4162f",
   "metadata": {},
   "outputs": [],
   "source": [
    "# Step 1:\n",
    "fig, ax = plt.subplots(2,2, figsize=(12,7))\n",
    "\n",
    "# Step 2 and 3: plot data, decide style, colors. \n",
    "\n",
    "ax[0,0].scatter(range(0,193),data['beer_servings'], color=\"lightcoral\", alpha=0.5);\n",
    "ax[0,1].plot(range(0,193),data['spirit_servings'],color=\"goldenrod\", linewidth=3);\n",
    "ax[1,0].plot(range(0,193),data['wine_servings'], color=\"skyblue\", marker=\"+\");\n",
    "ax[1,1].plot(range(0,193),data['total_litres_of_pure_alcohol'], color=\"g\", linestyle=\"--\", label = \"total litres\");\n",
    "\n",
    "\n",
    "# Step 4: set titles and others labels to the subfigures\n",
    "\n",
    "ax[0,0].set_title(\"Scatter plot - Beer\");\n",
    "ax[0,1].set_title(\"Plot Spirit\");\n",
    "ax[1,0].set_title(\"Wine\");\n",
    "ax[1,1].set_title(\"Total litres\");\n",
    "\n",
    "# Step 5: Adding other parameters (Legends)\n",
    "\n",
    "ax[1,1].legend(fontsize=10);\n",
    "fig.suptitle('This is a long figure title', fontsize=16)\n",
    "# Step 6: Saveplot:\n",
    "\n",
    "fig.savefig(\"myplot.pdf\")"
   ]
  },
  {
   "cell_type": "markdown",
   "id": "4bd68649",
   "metadata": {},
   "source": [
    "## Okay, so that's neat, I guess. Put what the heck is on the x-axis??"
   ]
  },
  {
   "cell_type": "markdown",
   "id": "61d80abd",
   "metadata": {},
   "source": [
    "Well... That's simply just the index for the country, so it is essentially meaningless. \n",
    "\n",
    "To draw some meaning, let's first look at some of the highest values.. "
   ]
  },
  {
   "cell_type": "code",
   "execution_count": null,
   "id": "6efa423e",
   "metadata": {
    "scrolled": true
   },
   "outputs": [],
   "source": [
    "#top 10 wine drinking countries in the world \n",
    "data[['country','wine_servings']].sort_values(by='wine_servings', ascending=False).head(10)\n",
    "#Look at the wine graph above, we see a jump around the x-value 61 where France is"
   ]
  },
  {
   "cell_type": "code",
   "execution_count": null,
   "id": "96530ddc",
   "metadata": {},
   "outputs": [],
   "source": [
    "#Top 10 beer drinking countries in the world\n",
    "data[['country','beer_servings']].sort_values(by='beer_servings', ascending=False).head(10)"
   ]
  },
  {
   "cell_type": "code",
   "execution_count": null,
   "id": "6c71d75e",
   "metadata": {},
   "outputs": [],
   "source": [
    "data.columns"
   ]
  },
  {
   "cell_type": "code",
   "execution_count": null,
   "id": "cd5136e2",
   "metadata": {
    "scrolled": true
   },
   "outputs": [],
   "source": [
    "#Top 10 spirit drinking countries in the world\n",
    "drink_geo[['country','spirit_servings']].sort_values(by='spirit_servings', ascending=False).head(10)"
   ]
  },
  {
   "cell_type": "code",
   "execution_count": null,
   "id": "78f71ac5",
   "metadata": {
    "scrolled": true
   },
   "outputs": [],
   "source": [
    "#Top 10 total liters of pure alcohol drinking countries in the world\n",
    "drink_geo[['country','total_litres_of_pure_alcohol']].sort_values(by='total_litres_of_pure_alcohol', ascending=False).head(10)"
   ]
  },
  {
   "cell_type": "markdown",
   "id": "4f3cde95",
   "metadata": {},
   "source": [
    "### Ideally with countries, we would like to see them mapped given they are a geographic feature."
   ]
  },
  {
   "cell_type": "markdown",
   "id": "2fbe8864",
   "metadata": {},
   "source": [
    "# Geopandas!"
   ]
  },
  {
   "cell_type": "markdown",
   "id": "edae0551",
   "metadata": {},
   "source": [
    "Main library to manage geospatial data: \n",
    "- Geopandas https://geopandas.org/index.html"
   ]
  },
  {
   "cell_type": "code",
   "execution_count": null,
   "id": "a0a638d0",
   "metadata": {},
   "outputs": [],
   "source": [
    "pwd"
   ]
  },
  {
   "cell_type": "code",
   "execution_count": null,
   "id": "34b9b927",
   "metadata": {},
   "outputs": [],
   "source": [
    "the_world=\"pyintro_resources/Longitude_Graticules_and_World_Countries_Boundaries.geojson\"\n",
    "world=geopandas.read_file(the_world)"
   ]
  },
  {
   "cell_type": "markdown",
   "id": "14a23b64",
   "metadata": {},
   "source": [
    "## Check that Coordinate Reference System (CRS)!"
   ]
  },
  {
   "cell_type": "code",
   "execution_count": null,
   "id": "dd0c3a27",
   "metadata": {},
   "outputs": [],
   "source": [
    "world.crs"
   ]
  },
  {
   "cell_type": "code",
   "execution_count": null,
   "id": "964e8082",
   "metadata": {},
   "outputs": [],
   "source": [
    "world.head()"
   ]
  },
  {
   "cell_type": "code",
   "execution_count": null,
   "id": "aee0b8a8",
   "metadata": {},
   "outputs": [],
   "source": [
    "world.plot();"
   ]
  },
  {
   "cell_type": "code",
   "execution_count": null,
   "id": "659be932",
   "metadata": {},
   "outputs": [],
   "source": [
    "len(world)"
   ]
  },
  {
   "cell_type": "code",
   "execution_count": null,
   "id": "37972ab3",
   "metadata": {},
   "outputs": [],
   "source": [
    "len(data)"
   ]
  },
  {
   "cell_type": "markdown",
   "id": "81379d0b",
   "metadata": {},
   "source": [
    "## Let's merge these two data together! "
   ]
  },
  {
   "cell_type": "code",
   "execution_count": null,
   "id": "5bd572c7",
   "metadata": {},
   "outputs": [],
   "source": [
    "#What about data types??\n",
    "print(type(data))\n",
    "print(type(world))"
   ]
  },
  {
   "cell_type": "code",
   "execution_count": null,
   "id": "cc7e961f",
   "metadata": {},
   "outputs": [],
   "source": [
    "data.columns"
   ]
  },
  {
   "cell_type": "code",
   "execution_count": null,
   "id": "734e92d2",
   "metadata": {},
   "outputs": [],
   "source": [
    "world.columns"
   ]
  },
  {
   "cell_type": "markdown",
   "id": "cbae6477",
   "metadata": {},
   "source": [
    "### We have to have something to merge on...."
   ]
  },
  {
   "cell_type": "code",
   "execution_count": null,
   "id": "532d6678",
   "metadata": {},
   "outputs": [],
   "source": [
    "world_drink=data.merge(world, how='left',left_on='country', right_on='CNTRY_NAME')"
   ]
  },
  {
   "cell_type": "code",
   "execution_count": null,
   "id": "63a773af",
   "metadata": {},
   "outputs": [],
   "source": [
    "len(world_drink)"
   ]
  },
  {
   "cell_type": "code",
   "execution_count": null,
   "id": "d715e56b",
   "metadata": {},
   "outputs": [],
   "source": [
    "world_drink.head()"
   ]
  },
  {
   "cell_type": "code",
   "execution_count": null,
   "id": "cd1e8226",
   "metadata": {},
   "outputs": [],
   "source": [
    "world_drink.head()"
   ]
  },
  {
   "cell_type": "code",
   "execution_count": null,
   "id": "4328a3cf",
   "metadata": {},
   "outputs": [],
   "source": [
    "type(world_drink)"
   ]
  },
  {
   "cell_type": "code",
   "execution_count": null,
   "id": "5dfa942b",
   "metadata": {},
   "outputs": [],
   "source": [
    "drink_geo=geopandas.GeoDataFrame(world_drink, geometry=world_drink.geometry)"
   ]
  },
  {
   "cell_type": "code",
   "execution_count": null,
   "id": "f1fb6c42",
   "metadata": {},
   "outputs": [],
   "source": [
    "type(drink_geo)"
   ]
  },
  {
   "cell_type": "code",
   "execution_count": null,
   "id": "344ad5c1",
   "metadata": {},
   "outputs": [],
   "source": [
    "drink_geo.plot()"
   ]
  },
  {
   "cell_type": "markdown",
   "id": "d10266d1",
   "metadata": {},
   "source": [
    "Wait... Where is the USA & Russia??\n",
    "\n",
    "Let's look at the orignial data sources to see what may have been going on."
   ]
  },
  {
   "cell_type": "code",
   "execution_count": null,
   "id": "ae378786",
   "metadata": {
    "scrolled": true
   },
   "outputs": [],
   "source": [
    "#First, let's start with the US\n",
    "world.loc[world['CNTRY_NAME'].str.contains(\"States\")]"
   ]
  },
  {
   "cell_type": "code",
   "execution_count": null,
   "id": "2f5c4e56",
   "metadata": {},
   "outputs": [],
   "source": [
    "data.loc[data['country'].str.contains(\"USA\")]"
   ]
  },
  {
   "cell_type": "markdown",
   "id": "28ce56ac",
   "metadata": {},
   "source": [
    "When we merged python did not know to treat USA and United States as the same country name. This is often resolved by having a country codes columns but we have to deal with just the names for now. Let's change one of the names and re-run some of what we did above "
   ]
  },
  {
   "cell_type": "code",
   "execution_count": null,
   "id": "99d0a8da",
   "metadata": {
    "scrolled": true
   },
   "outputs": [],
   "source": [
    "#code to replace one of the country names \n",
    "data['country'].replace({'USA':\"United States\"}, inplace=True)"
   ]
  },
  {
   "cell_type": "code",
   "execution_count": null,
   "id": "f382432c",
   "metadata": {
    "scrolled": false
   },
   "outputs": [],
   "source": [
    "data.loc[data.country=='United States']"
   ]
  },
  {
   "cell_type": "code",
   "execution_count": null,
   "id": "aaad5469",
   "metadata": {
    "scrolled": true
   },
   "outputs": [],
   "source": [
    "#Secondly, let's look with at Russia\n",
    "world.loc[world['CNTRY_NAME'].str.contains(\"Russia\")]"
   ]
  },
  {
   "cell_type": "code",
   "execution_count": null,
   "id": "7ca19760",
   "metadata": {},
   "outputs": [],
   "source": [
    "data.loc[data['country'].str.contains(\"Russia\")]"
   ]
  },
  {
   "cell_type": "markdown",
   "id": "5c5deb4a",
   "metadata": {},
   "source": [
    "When we merged python did not know to treat Russia and Russian Federation as the same country name. "
   ]
  },
  {
   "cell_type": "code",
   "execution_count": null,
   "id": "2ebb3fc5",
   "metadata": {
    "scrolled": true
   },
   "outputs": [],
   "source": [
    "#code to replace one of the country names \n",
    "data['country'].replace({'Russian Federation':\"Russia\"}, inplace=True)"
   ]
  },
  {
   "cell_type": "code",
   "execution_count": null,
   "id": "398d4780",
   "metadata": {
    "scrolled": false
   },
   "outputs": [],
   "source": [
    "data.loc[data.country=='Russia']"
   ]
  },
  {
   "cell_type": "code",
   "execution_count": null,
   "id": "a32194e3",
   "metadata": {},
   "outputs": [],
   "source": [
    "#remerge\n",
    "world_drink=data.merge(world, how='left',left_on='country', right_on='CNTRY_NAME')\n",
    "#reconvert to geopandas\n",
    "drink_geo=geopandas.GeoDataFrame(world_drink, geometry=world_drink.geometry)\n",
    "#Plot\n",
    "drink_geo.plot()"
   ]
  },
  {
   "cell_type": "code",
   "execution_count": null,
   "id": "c549dbae",
   "metadata": {
    "scrolled": true
   },
   "outputs": [],
   "source": [
    "drink_geo.columns"
   ]
  },
  {
   "cell_type": "code",
   "execution_count": null,
   "id": "27197b5d",
   "metadata": {},
   "outputs": [],
   "source": [
    "f,a =plt.subplots(2,2)"
   ]
  },
  {
   "cell_type": "code",
   "execution_count": null,
   "id": "45fa3c37",
   "metadata": {},
   "outputs": [],
   "source": [
    "drink_geo.plot()"
   ]
  },
  {
   "cell_type": "markdown",
   "id": "f3ad4ea4",
   "metadata": {},
   "source": [
    "### How to plot world beer consumption?"
   ]
  },
  {
   "cell_type": "code",
   "execution_count": null,
   "id": "efec9841",
   "metadata": {},
   "outputs": [],
   "source": [
    "f,a=plt.subplots(figsize=(10,7))\n",
    "drink_geo.plot(ax=a, column='beer_servings',legend=True, legend_kwds={'shrink': 0.3})\n",
    "plt.axis(\"off\")\n",
    "plt.title(\"World Beer Consumption\",fontsize=20)"
   ]
  },
  {
   "cell_type": "markdown",
   "id": "89839d43",
   "metadata": {},
   "source": [
    "## What about wine, spirits and pure alcohol??"
   ]
  },
  {
   "cell_type": "markdown",
   "id": "0af9e613",
   "metadata": {},
   "source": [
    "### Let's slowly build a graph that contains all of this info.."
   ]
  },
  {
   "cell_type": "code",
   "execution_count": null,
   "id": "57fe8686",
   "metadata": {},
   "outputs": [],
   "source": [
    "fig,ax=plt.subplots(2,2, figsize=(25,7));\n",
    "drink_geo.plot(ax=ax[0,0], column='beer_servings',legend=True, legend_kwds={'shrink': 0.75});\n",
    "ax[0,0].set_title('World Beer Consumption');\n",
    "ax[0,0].axis('off');"
   ]
  },
  {
   "cell_type": "code",
   "execution_count": null,
   "id": "ff5e4b60",
   "metadata": {},
   "outputs": [],
   "source": [
    "drink_geo.columns"
   ]
  },
  {
   "cell_type": "code",
   "execution_count": null,
   "id": "27bd2665",
   "metadata": {
    "scrolled": false
   },
   "outputs": [],
   "source": [
    "fig,ax=plt.subplots(2,2, constrained_layout=True, figsize=(25,15));\n",
    "#Beer \n",
    "drink_geo.plot(ax=ax[0,0], column='beer_servings',legend=True, legend_kwds={'shrink': 0.5});\n",
    "ax[0,0].set_title('Beer Consumption',fontsize=30);\n",
    "ax[0,0].axis('off');\n",
    "#Spritis\n",
    "drink_geo.plot(ax=ax[0,1], column='spirit_servings',legend=True, legend_kwds={'shrink': 0.5});\n",
    "ax[0,1].set_title('Spirit servings',fontsize=30);\n",
    "ax[0,1].axis('off');\n",
    "\n"
   ]
  },
  {
   "cell_type": "code",
   "execution_count": null,
   "id": "3d21aeb7",
   "metadata": {
    "scrolled": false
   },
   "outputs": [],
   "source": [
    "fig,ax=plt.subplots(2,2, constrained_layout=True, figsize=(25,15));\n",
    "#Beer \n",
    "drink_geo.plot(ax=ax[0,0], column='beer_servings',legend=True, legend_kwds={'shrink': 0.5});\n",
    "ax[0,0].set_title('Beer Consumption',fontsize=30);\n",
    "ax[0,0].axis('off');\n",
    "#Spritis\n",
    "drink_geo.plot(ax=ax[0,1], column='spirit_servings',legend=True, legend_kwds={'shrink': 0.5});\n",
    "ax[0,1].set_title('Spirit servings',fontsize=30);\n",
    "ax[0,1].axis('off');\n",
    "#Wine\n",
    "drink_geo.plot(ax=ax[1,0], column='wine_servings',legend=True, legend_kwds={'shrink': 0.5});\n",
    "ax[1,0].set_title('Wine servings',fontsize=30);\n",
    "ax[1,0].axis('off');\n",
    "#Pure alcohol\n",
    "drink_geo.plot(ax=ax[1,1], column='total_litres_of_pure_alcohol',legend=True, legend_kwds={'shrink': 0.5});\n",
    "ax[1,1].set_title('Total liters of Pure Alcohol',fontsize=30);\n",
    "ax[1,1].axis('off');\n",
    "plt.suptitle('World Alcohol Consumption by type',fontsize=50);\n"
   ]
  },
  {
   "cell_type": "markdown",
   "id": "6e153145",
   "metadata": {},
   "source": [
    "# It is kind of bland with all of the same colors\n",
    "(could be good that way as well)"
   ]
  },
  {
   "cell_type": "markdown",
   "id": "7ccf49d4",
   "metadata": {},
   "source": [
    "Different colored choropleth maps options can be found at this [link](https://matplotlib.org/stable/tutorials/colors/colormaps.html)"
   ]
  },
  {
   "cell_type": "code",
   "execution_count": null,
   "id": "3286b08f",
   "metadata": {
    "scrolled": false
   },
   "outputs": [],
   "source": [
    "fig,ax=plt.subplots(2,2, constrained_layout=True, figsize=(25,15));\n",
    "#Beer \n",
    "drink_geo.plot(ax=ax[0,0], column='beer_servings',legend=True, legend_kwds={'shrink': 0.5}, cmap='Purples');\n",
    "ax[0,0].set_title('Beer Consumption',fontsize=30);\n",
    "ax[0,0].axis('off');\n",
    "#Spritis\n",
    "drink_geo.plot(ax=ax[0,1], column='spirit_servings',legend=True, legend_kwds={'shrink': 0.5}, cmap='Greens');\n",
    "ax[0,1].set_title('Spirit servings',fontsize=30);\n",
    "ax[0,1].axis('off');\n",
    "#Wine\n",
    "drink_geo.plot(ax=ax[1,0], column='wine_servings',legend=True, legend_kwds={'shrink': 0.5}, cmap='Reds');\n",
    "ax[1,0].set_title('Wine servings',fontsize=30);\n",
    "ax[1,0].axis('off');\n",
    "#Pure alcohol\n",
    "drink_geo.plot(ax=ax[1,1], column='total_litres_of_pure_alcohol',legend=True, legend_kwds={'shrink': 0.5}, cmap='Oranges');\n",
    "ax[1,1].set_title('Total liters of Pure Alcohol',fontsize=30);\n",
    "ax[1,1].axis('off');\n",
    "plt.suptitle('World Alcohol Consumption by type',fontsize=50);\n"
   ]
  },
  {
   "cell_type": "markdown",
   "id": "db4ec1d9",
   "metadata": {},
   "source": [
    "### Are different kind of alcohol compliments or substitutes?"
   ]
  },
  {
   "cell_type": "code",
   "execution_count": null,
   "id": "355452f0",
   "metadata": {},
   "outputs": [],
   "source": [
    "corr_drink=drink_geo[['beer_servings','spirit_servings','wine_servings']]"
   ]
  },
  {
   "cell_type": "code",
   "execution_count": null,
   "id": "a084d062",
   "metadata": {},
   "outputs": [],
   "source": [
    "corr_drink.corr()"
   ]
  }
 ],
 "metadata": {
  "kernelspec": {
   "display_name": "Python 3 (ipykernel)",
   "language": "python",
   "name": "python3"
  },
  "language_info": {
   "codemirror_mode": {
    "name": "ipython",
    "version": 3
   },
   "file_extension": ".py",
   "mimetype": "text/x-python",
   "name": "python",
   "nbconvert_exporter": "python",
   "pygments_lexer": "ipython3",
   "version": "3.8.5"
  }
 },
 "nbformat": 4,
 "nbformat_minor": 5
}
