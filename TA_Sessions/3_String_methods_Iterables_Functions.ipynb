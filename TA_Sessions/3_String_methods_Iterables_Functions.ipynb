{
 "cells": [
  {
   "cell_type": "markdown",
   "metadata": {},
   "source": [
    "# String methods, Iterables, and Functions\n",
    "\n",
    "In this Jupyter Notebook we will cover basic string methods, go over an example on word counts, how to use iterables, conditional executions (if/else/elif statements), lists comprehensions and how to write your own function.\n",
    "\n",
    "# Notebook Outline\n",
    "- [String Methods](#Native-String-Methods)\n",
    "- [Word Count Expamples](#Let's-do-some-word-counting!)\n",
    "- [Loops and Conditionals](#Loops-and-Conditionals)\n",
    "- [Nesting](#Nesting)\n",
    "- [Lists Comprehensions](#Lists-Comprehensions)\n",
    "- [Functions](#Functions)\n",
    "- [Lambda Functions](#Lambda-Functions)"
   ]
  },
  {
   "cell_type": "markdown",
   "metadata": {},
   "source": [
    "## Native String Methods"
   ]
  },
  {
   "cell_type": "code",
   "execution_count": null,
   "metadata": {},
   "outputs": [],
   "source": [
    "friend= '''You've got a friend in me\n",
    "You've got a friend in me\n",
    "When the road looks rough ahead\n",
    "And you're miles and miles\n",
    "From your nice warm bed\n",
    "You just remember what your old pal said\n",
    "Boy, you've got a friend in me\n",
    "Yeah, you've got a friend in me\n",
    "You've got a friend in me\n",
    "You've got a friend in me\n",
    "You got troubles, I've got 'em too\n",
    "There isn't anything I wouldn't do for you\n",
    "We stick together and see it through\n",
    "'Cause you've got a friend in me\n",
    "You've got a friend in me\n",
    "Some other folks might be\n",
    "A little bit smarter than I am\n",
    "Bigger and stronger too\n",
    "Maybe\n",
    "But none of them will ever love you\n",
    "The way I do\n",
    "It's me and you, boy\n",
    "And as the years go by\n",
    "Our friendship will never die\n",
    "You're gonna see it's our destiny\n",
    "You've got a friend in me\n",
    "You've got a friend in me\n",
    "You've got a friend in me'''"
   ]
  },
  {
   "cell_type": "markdown",
   "metadata": {},
   "source": [
    "How would we create a list, where each element was a line from the song?"
   ]
  },
  {
   "cell_type": "code",
   "execution_count": null,
   "metadata": {},
   "outputs": [],
   "source": [
    "#let's take a look at the object \n",
    "friend"
   ]
  },
  {
   "cell_type": "markdown",
   "metadata": {},
   "source": [
    "How many words are in the song?"
   ]
  },
  {
   "cell_type": "code",
   "execution_count": null,
   "metadata": {},
   "outputs": [],
   "source": [
    "total_words=friend.split()\n",
    "total_words"
   ]
  },
  {
   "cell_type": "code",
   "execution_count": null,
   "metadata": {},
   "outputs": [],
   "source": [
    "len(total_words)"
   ]
  },
  {
   "cell_type": "code",
   "execution_count": null,
   "metadata": {},
   "outputs": [],
   "source": [
    "#Because each line is seperated by '\\n' we can use the .split() function!\n",
    "lines=friend.split(\"\\n\")\n",
    "lines"
   ]
  },
  {
   "cell_type": "code",
   "execution_count": null,
   "metadata": {},
   "outputs": [],
   "source": [
    "#use the .lower() function to put everything in lowercase \n",
    "print(friend.lower())"
   ]
  },
  {
   "cell_type": "code",
   "execution_count": null,
   "metadata": {},
   "outputs": [],
   "source": [
    "#use the .upper() function to put everything in uppercase \n",
    "print(friend.upper())"
   ]
  },
  {
   "cell_type": "code",
   "execution_count": null,
   "metadata": {},
   "outputs": [],
   "source": [
    "# Finding length of a string\n",
    "word='science'"
   ]
  },
  {
   "cell_type": "code",
   "execution_count": null,
   "metadata": {},
   "outputs": [],
   "source": [
    "print(len(word))"
   ]
  },
  {
   "cell_type": "code",
   "execution_count": null,
   "metadata": {},
   "outputs": [],
   "source": [
    "import string \n",
    "string.punctuation"
   ]
  },
  {
   "cell_type": "code",
   "execution_count": null,
   "metadata": {},
   "outputs": [],
   "source": [
    "friend.count(\"you've\")"
   ]
  },
  {
   "cell_type": "markdown",
   "metadata": {},
   "source": [
    "### Importanct of lowering strings! "
   ]
  },
  {
   "cell_type": "code",
   "execution_count": null,
   "metadata": {},
   "outputs": [],
   "source": [
    "friend.lower().count(\"you've\")"
   ]
  },
  {
   "cell_type": "markdown",
   "metadata": {},
   "source": [
    "# Let's do some word counting! "
   ]
  },
  {
   "cell_type": "code",
   "execution_count": null,
   "metadata": {
    "scrolled": true
   },
   "outputs": [],
   "source": [
    "help(str.maketrans)"
   ]
  },
  {
   "cell_type": "markdown",
   "metadata": {},
   "source": [
    "## Must also remove punctuaction! "
   ]
  },
  {
   "cell_type": "code",
   "execution_count": null,
   "metadata": {},
   "outputs": [],
   "source": [
    "# This maketrans function can be used to remove a list of characters from a string.\n",
    "remv_punc = str.maketrans('','',string.punctuation)\n",
    "\n",
    "friend_nopunc=friend.translate(remv_punc).lower()\n",
    "friend_nopunc[:50]"
   ]
  },
  {
   "cell_type": "code",
   "execution_count": null,
   "metadata": {
    "scrolled": true
   },
   "outputs": [],
   "source": [
    "import pandas as pd\n",
    "\n",
    "# Split on whitespace and on new lines\n",
    "lines_words = [x.split(\" \") for x in friend_nopunc.split(\"\\n\")]\n",
    "lines_words[:50]"
   ]
  },
  {
   "cell_type": "markdown",
   "metadata": {},
   "source": [
    "#### Yay! Now we have relatively clean data! "
   ]
  },
  {
   "cell_type": "markdown",
   "metadata": {},
   "source": [
    "## The slow way to count words"
   ]
  },
  {
   "cell_type": "code",
   "execution_count": null,
   "metadata": {},
   "outputs": [],
   "source": [
    "# Convert each to pandas Series object\n",
    "lines_series = [pd.Series(x) for x in lines_words]\n",
    "lines_series"
   ]
  },
  {
   "cell_type": "code",
   "execution_count": null,
   "metadata": {},
   "outputs": [],
   "source": [
    "# Call function \"value_counts\" to count the number of words.\n",
    "lines_wcs = [x.value_counts() for x in lines_series]\n",
    "lines_wcs"
   ]
  },
  {
   "cell_type": "code",
   "execution_count": null,
   "metadata": {},
   "outputs": [],
   "source": [
    "# Concatenate them all together\n",
    "df = pd.concat(lines_wcs,axis=1)\n",
    "df"
   ]
  },
  {
   "cell_type": "code",
   "execution_count": null,
   "metadata": {
    "scrolled": true
   },
   "outputs": [],
   "source": [
    "#fill missing values with zero and transpose\n",
    "df = pd.concat(lines_wcs,axis=1).fillna(0).T\n",
    "df"
   ]
  },
  {
   "cell_type": "code",
   "execution_count": null,
   "metadata": {},
   "outputs": [],
   "source": [
    "df.sum()"
   ]
  },
  {
   "cell_type": "code",
   "execution_count": null,
   "metadata": {},
   "outputs": [],
   "source": [
    "df.sum().sort_values(ascending=False).head(10)"
   ]
  },
  {
   "cell_type": "markdown",
   "metadata": {},
   "source": [
    "## Do not forget about stop words! "
   ]
  },
  {
   "cell_type": "code",
   "execution_count": null,
   "metadata": {},
   "outputs": [],
   "source": [
    "from nltk.corpus import stopwords\n",
    "dem_words = stopwords.words(\"english\")\n",
    "dem_words\n",
    "#notice something about one of the top words in our song and its presence in the stop word list??"
   ]
  },
  {
   "cell_type": "code",
   "execution_count": null,
   "metadata": {},
   "outputs": [],
   "source": [
    "#make dem_words a string instead of a list for the next step\n",
    "dem_wordz=' '.join(dem_words)\n",
    "dem_wordz"
   ]
  },
  {
   "cell_type": "code",
   "execution_count": null,
   "metadata": {
    "scrolled": true
   },
   "outputs": [],
   "source": [
    "#remove puncuation from stop words string\n",
    "remv_punc = str.maketrans('','',string.punctuation)\n",
    "dem_words_no_punc=dem_wordz.translate(remv_punc).lower()\n",
    "dem_words_no_punc"
   ]
  },
  {
   "cell_type": "code",
   "execution_count": null,
   "metadata": {},
   "outputs": [],
   "source": [
    "#convert dem_words_no_punc back to a list \n",
    "dem_words_final=dem_words_no_punc.split(\" \")\n",
    "dem_words_final"
   ]
  },
  {
   "cell_type": "code",
   "execution_count": null,
   "metadata": {},
   "outputs": [],
   "source": [
    "df_no_sws = df.loc[:,~df.columns.isin(dem_words_final)]\n",
    "df_no_sws.head()"
   ]
  },
  {
   "cell_type": "markdown",
   "metadata": {},
   "source": [
    "#### What that one line did, step by step:\n",
    "              df.loc[:,~df.columns.isin(dem_words)]\n",
    "  \n",
    "  1. First it called the list of columns and assessed a Boolean condition: are any of the column labels in the list \"dem_words\"? `df.columns.isin(dem_words_final)`\n",
    "  2. Then it took the negative of that condition using the character \"\\~\"; now it assesses whether a character __isn't__ in the list:`~df.columns.isin(dem_words_final)`\n",
    "  3. Then, using the object `df`, it only selects the columns where the condition holds (\"True\"), meaning those column labels that are not in the list \"dem_words_final\": `df.loc[:,~df.columns.isin(dem_words_final)]`\n",
    "          "
   ]
  },
  {
   "cell_type": "code",
   "execution_count": null,
   "metadata": {
    "scrolled": false
   },
   "outputs": [],
   "source": [
    "df_no_sws.sum().sort_values(ascending=False).head(5)"
   ]
  },
  {
   "cell_type": "markdown",
   "metadata": {},
   "source": [
    "### The fast way!\n",
    "#### It may not seem fast now, but if you are working with a lot of data this can be much, much quicker"
   ]
  },
  {
   "cell_type": "code",
   "execution_count": null,
   "metadata": {},
   "outputs": [],
   "source": [
    "dem_words_final #this was our final stop words list "
   ]
  },
  {
   "cell_type": "code",
   "execution_count": null,
   "metadata": {},
   "outputs": [],
   "source": [
    "from sklearn.feature_extraction.text import CountVectorizer\n",
    "help(CountVectorizer)"
   ]
  },
  {
   "cell_type": "code",
   "execution_count": null,
   "metadata": {
    "scrolled": true
   },
   "outputs": [],
   "source": [
    "string_list = [x for x in friend_nopunc.split(\"\\n\")]\n",
    "string_list[:]"
   ]
  },
  {
   "cell_type": "code",
   "execution_count": null,
   "metadata": {},
   "outputs": [],
   "source": [
    "vct = CountVectorizer(stop_words=dem_words_final )\n",
    "X= vct.fit_transform(string_list)\n",
    "word_counts = pd.DataFrame(X.sum(axis=0))\n",
    "word_counts.columns = vct.get_feature_names()\n",
    "word_counts = word_counts.T"
   ]
  },
  {
   "cell_type": "code",
   "execution_count": null,
   "metadata": {},
   "outputs": [],
   "source": [
    "word_counts = word_counts[0].sort_values(ascending=False)\n",
    "word_counts.head(5)"
   ]
  },
  {
   "cell_type": "markdown",
   "metadata": {},
   "source": [
    "## Loops and Conditionals"
   ]
  },
  {
   "cell_type": "markdown",
   "metadata": {},
   "source": [
    "### What the heck is an iterable???\n",
    "\n",
    "### \"Iterable is an object which can be looped over or iterated over with the help of a for loop. Objects like lists, tuples, sets, dictionaries, strings, etc. are called iterables. In short and simpler terms, iterable is anything that you can loop over.\" \n",
    "#### Source: [Analytics Vidhya](https://www.analyticsvidhya.com/blog/2021/07/everything-you-should-know-about-iterables-and-iterators-in-python-as-a-data-scientist/#:~:text=Iterable%20is%20an%20object%20which,that%20you%20can%20loop%20over.)"
   ]
  },
  {
   "cell_type": "code",
   "execution_count": null,
   "metadata": {},
   "outputs": [],
   "source": [
    "# print numbers in a certain range\n",
    "for i in range(5):\n",
    "    print (i)"
   ]
  },
  {
   "cell_type": "code",
   "execution_count": null,
   "metadata": {},
   "outputs": [],
   "source": [
    "for i in range(0,10,3): #Range frim 0 to 10 with increment/step size 3\n",
    "    print(i)"
   ]
  },
  {
   "cell_type": "code",
   "execution_count": null,
   "metadata": {},
   "outputs": [],
   "source": [
    "# loop of the cubed numbers:\n",
    "for x in range(1,5):\n",
    "    print(x**3)"
   ]
  },
  {
   "cell_type": "code",
   "execution_count": null,
   "metadata": {},
   "outputs": [],
   "source": [
    "# If we want to have as a result a list of numbers, we can do:\n",
    "cubes=[]\n",
    "for x in range(1,5):\n",
    "    cubes.append(x**3)\n",
    "    \n",
    "cubes"
   ]
  },
  {
   "cell_type": "markdown",
   "metadata": {},
   "source": [
    "### If Statement:"
   ]
  },
  {
   "cell_type": "code",
   "execution_count": null,
   "metadata": {},
   "outputs": [],
   "source": [
    "# if a exists, print\n",
    "a = 3\n",
    "if a:\n",
    "    print ('a =', a)"
   ]
  },
  {
   "cell_type": "code",
   "execution_count": null,
   "metadata": {},
   "outputs": [],
   "source": [
    "if(1<2):\n",
    "    print (\"1 IS less than 2!\")"
   ]
  },
  {
   "cell_type": "markdown",
   "metadata": {},
   "source": [
    "### If else Statement:"
   ]
  },
  {
   "cell_type": "code",
   "execution_count": null,
   "metadata": {},
   "outputs": [],
   "source": [
    "# Example 1:\n",
    "x=5\n",
    "y=10\n",
    "if(x>=5):\n",
    "    if(y!=10):\n",
    "        print (\"option A\")\n",
    "    else:\n",
    "        print (\"option B\")\n",
    "else:\n",
    "    if(y<11):\n",
    "        print (\"option C\")\n",
    "    else:\n",
    "        print (\"option D\")"
   ]
  },
  {
   "cell_type": "code",
   "execution_count": null,
   "metadata": {},
   "outputs": [],
   "source": [
    "# Example 2:\n",
    "x= range(10)\n",
    "type(x)"
   ]
  },
  {
   "cell_type": "code",
   "execution_count": null,
   "metadata": {},
   "outputs": [],
   "source": [
    "for element in x:\n",
    "    print(element)"
   ]
  },
  {
   "cell_type": "code",
   "execution_count": null,
   "metadata": {},
   "outputs": [],
   "source": [
    "for i in x:\n",
    "    if i < 4:\n",
    "        print(i)"
   ]
  },
  {
   "cell_type": "code",
   "execution_count": null,
   "metadata": {},
   "outputs": [],
   "source": [
    "for i in x:\n",
    "    if i < 4:\n",
    "        print(i)\n",
    "    else:\n",
    "        print('{} is not less than 4'.format(i))"
   ]
  },
  {
   "cell_type": "code",
   "execution_count": null,
   "metadata": {},
   "outputs": [],
   "source": [
    "for i in x:\n",
    "    if i < 4:\n",
    "        print(i)\n",
    "    else:\n",
    "        print(f'{i}is not less than 4')"
   ]
  },
  {
   "cell_type": "markdown",
   "metadata": {},
   "source": [
    "### Elif Statement:"
   ]
  },
  {
   "cell_type": "code",
   "execution_count": null,
   "metadata": {},
   "outputs": [],
   "source": [
    "# elif specify an alternative condition: \n",
    "for i in x:\n",
    "    if i < 4:\n",
    "        print('{} is less than 4'.format(i))\n",
    "    elif i > 4:\n",
    "        print('{} is greater than 4'.format(i))"
   ]
  },
  {
   "cell_type": "code",
   "execution_count": null,
   "metadata": {},
   "outputs": [],
   "source": [
    "# we can add an else that catches everything else besides the two options at if and elif\n",
    "for i in x:\n",
    "    if i < 4:\n",
    "        print('{} is less than 4'.format(i))\n",
    "    elif i > 4:\n",
    "        print('{} is greater than 4'.format(i))\n",
    "    else:\n",
    "        print('{} is equal to 4'.format(i))"
   ]
  },
  {
   "cell_type": "markdown",
   "metadata": {},
   "source": [
    "Other examples of iterables:\n",
    "- Finding the sum of the numbers of a list\n",
    "- Finding the length of a string"
   ]
  },
  {
   "cell_type": "code",
   "execution_count": null,
   "metadata": {},
   "outputs": [],
   "source": [
    "# Let's define a list:\n",
    "x = list(range(5)) "
   ]
  },
  {
   "cell_type": "code",
   "execution_count": null,
   "metadata": {},
   "outputs": [],
   "source": [
    "print(x)"
   ]
  },
  {
   "cell_type": "code",
   "execution_count": null,
   "metadata": {},
   "outputs": [],
   "source": [
    "sum(x)"
   ]
  },
  {
   "cell_type": "code",
   "execution_count": null,
   "metadata": {},
   "outputs": [],
   "source": [
    "k=5\n",
    "sum=0\n",
    "for i in range(k):\n",
    "    sum =+ i \n",
    "    print('we are in loop',i,'and the sum equals',sum)\n",
    "\n",
    "print('we finished!')\n",
    "print('The sum of the first {} integers is {}'.format(k, sum))"
   ]
  },
  {
   "cell_type": "code",
   "execution_count": null,
   "metadata": {},
   "outputs": [],
   "source": [
    "word"
   ]
  },
  {
   "cell_type": "code",
   "execution_count": null,
   "metadata": {},
   "outputs": [],
   "source": [
    "length=0\n",
    "for char in word:\n",
    "    length+=1\n",
    "print('The word {} has {} characters'.format(word,length))\n"
   ]
  },
  {
   "cell_type": "markdown",
   "metadata": {},
   "source": [
    "## Nesting"
   ]
  },
  {
   "cell_type": "code",
   "execution_count": null,
   "metadata": {},
   "outputs": [],
   "source": [
    "#this is how the loop will look like when we nest to index:\n",
    "print('i j')\n",
    "for i in range(4):\n",
    "    for j in range(3):\n",
    "        print(i, j)"
   ]
  },
  {
   "cell_type": "markdown",
   "metadata": {},
   "source": [
    "We saw a couple of examples of for loops in python. However, sometimes is useful an alternative way to express them. Specially, if those alternative will be more efficient (in term of code and time). In some cases, we will make use of list comprehensions. Here we will se how that works:"
   ]
  },
  {
   "cell_type": "markdown",
   "metadata": {},
   "source": [
    "## Lists Comprehensions\n",
    "\n",
    "List comprehensions provide a concise way to create lists. Common applications are to make new lists where each element is the result of some operations applied to each member of another sequence or iterable, or to create a subsequence of those elements that satisfy a certain condition.\n",
    "\n"
   ]
  },
  {
   "cell_type": "code",
   "execution_count": null,
   "metadata": {},
   "outputs": [],
   "source": [
    "# We saw above, the following for loop:\n",
    "cubes=[]\n",
    "for x in range(3,7):\n",
    "    cubes.append(x**3)\n",
    "    \n",
    "cubes"
   ]
  },
  {
   "cell_type": "code",
   "execution_count": null,
   "metadata": {},
   "outputs": [],
   "source": [
    "# We can express the same result using a list comprehension as following:\n",
    "cubes = [x**3 for x in range(3,7)]\n",
    "cubes"
   ]
  },
  {
   "cell_type": "markdown",
   "metadata": {},
   "source": [
    "Compare the two codes above. A list comprehension was only one line of code!\n",
    "\n",
    "A list comprehension consists of brackets containing an expression followed by a `for` clause, then zero or more `for` or `if` clauses."
   ]
  },
  {
   "cell_type": "markdown",
   "metadata": {},
   "source": [
    "If the expression is a tuple (e.g. the (x, y) in the following example), it must be parenthesized."
   ]
  },
  {
   "cell_type": "code",
   "execution_count": null,
   "metadata": {},
   "outputs": [],
   "source": [
    "# Example 2:\n",
    "# this listcomp combines the elements of two lists if the elements are different:\n",
    "#x in range(3)= 0,1,2\n",
    "#y in range(2,4)=2,3\n",
    "[(x, y) for x in range(3) for y in range(2,4) if x != y]"
   ]
  },
  {
   "cell_type": "code",
   "execution_count": null,
   "metadata": {},
   "outputs": [],
   "source": [
    "# Which is equivalent to:\n",
    "# Compare the order of the for loops here, with respect to the listcomp above\n",
    "combs = [] #empty list\n",
    "for x in range(3):\n",
    "    for y in range(2,4):\n",
    "        if x != y:\n",
    "            combs.append((x, y))\n",
    "combs"
   ]
  },
  {
   "cell_type": "code",
   "execution_count": null,
   "metadata": {},
   "outputs": [],
   "source": [
    "# Example 3:\n",
    "\n",
    "# Here is a vector:\n",
    "vec = [-4, -2, 0, 2, 4]\n",
    "vec"
   ]
  },
  {
   "cell_type": "code",
   "execution_count": null,
   "metadata": {},
   "outputs": [],
   "source": [
    "# create a new list with the values doubled (x*2)\n",
    "[x*2 for x in vec]\n"
   ]
  },
  {
   "cell_type": "code",
   "execution_count": null,
   "metadata": {},
   "outputs": [],
   "source": [
    "#  filter the list to exclude negative numbers\n",
    "[x for x in vec if x>=0]"
   ]
  },
  {
   "cell_type": "code",
   "execution_count": null,
   "metadata": {},
   "outputs": [],
   "source": [
    "# apply the function abs() (absolute value) to all the elements of vec:\n",
    "[abs(x) for x in vec]"
   ]
  },
  {
   "cell_type": "code",
   "execution_count": null,
   "metadata": {},
   "outputs": [],
   "source": [
    "# Exampl 4:\n",
    "# We have a list in which elements contains white spaces, like:\n",
    "\n",
    "colors = ['  green', '   blue  ', '     orange  ']\n",
    "# We need to remove that space. We can do that with the method .strip :\n",
    "\n",
    "[element.strip() for element in colors]"
   ]
  },
  {
   "cell_type": "code",
   "execution_count": null,
   "metadata": {},
   "outputs": [],
   "source": [
    "# Example 5:\n",
    "# create a list of 2-tuples like (number, square)\n",
    "# Note that tuple must be parenthesized:\n",
    "[(x, x**2) for x in range(6)]"
   ]
  },
  {
   "cell_type": "code",
   "execution_count": null,
   "metadata": {},
   "outputs": [],
   "source": [
    "# Example 6:\n",
    "# flatten a list using a listcomp with two 'for'\n",
    "vec = [[1,2,3], [4,5,6], [7,8,9]]\n",
    "vec\n",
    "#And say we want this: [1,2,3,4,5,6,7,8,9]"
   ]
  },
  {
   "cell_type": "code",
   "execution_count": null,
   "metadata": {},
   "outputs": [],
   "source": [
    "# First, what is we use only one for?:\n",
    "[x for x in vec]\n",
    "\n",
    "# we get the same!"
   ]
  },
  {
   "cell_type": "code",
   "execution_count": null,
   "metadata": {},
   "outputs": [],
   "source": [
    "# Using two for:\n",
    "[num for x in vec for num in x]\n",
    "\n",
    "# the first expression `num` is the outcome that we will see.\n",
    "# the first for is to extract the elements (lists inside the list)\n",
    "# the second for is to extract the numbers inside the list"
   ]
  },
  {
   "cell_type": "markdown",
   "metadata": {},
   "source": [
    "## Functions"
   ]
  },
  {
   "cell_type": "code",
   "execution_count": null,
   "metadata": {},
   "outputs": [],
   "source": [
    "# function without an argument:\n",
    "\n",
    "def greeting():\n",
    "    print ('hello')"
   ]
  },
  {
   "cell_type": "code",
   "execution_count": null,
   "metadata": {},
   "outputs": [],
   "source": [
    "greeting()"
   ]
  },
  {
   "cell_type": "code",
   "execution_count": null,
   "metadata": {},
   "outputs": [],
   "source": [
    "# let's define a function with one argument, called name:\n",
    "def greeting2(name):\n",
    "    print ('Hello,',name,'!')"
   ]
  },
  {
   "cell_type": "code",
   "execution_count": null,
   "metadata": {},
   "outputs": [],
   "source": [
    "greeting2('Adam')"
   ]
  },
  {
   "cell_type": "code",
   "execution_count": null,
   "metadata": {},
   "outputs": [],
   "source": [
    "# define function with return value\n",
    "def greetingstring(first,last):\n",
    "    string=\"Hello {} {}, How are you? How about that invisible hand?\".format(first,last)\n",
    "    return string"
   ]
  },
  {
   "cell_type": "code",
   "execution_count": null,
   "metadata": {},
   "outputs": [],
   "source": [
    "greetingstring('Adam','Smith')"
   ]
  },
  {
   "cell_type": "code",
   "execution_count": null,
   "metadata": {},
   "outputs": [],
   "source": [
    "# write a function to square an integer\n",
    "\n",
    "def square(x):\n",
    "    x2 = x**2"
   ]
  },
  {
   "cell_type": "code",
   "execution_count": null,
   "metadata": {},
   "outputs": [],
   "source": [
    "# Note that the function will not return what we are expecting:\n",
    "square(5)"
   ]
  },
  {
   "cell_type": "code",
   "execution_count": null,
   "metadata": {},
   "outputs": [],
   "source": [
    "# We need a return inside the function:\n",
    "def square(x):\n",
    "    x2 = x**2\n",
    "    return x2\n"
   ]
  },
  {
   "cell_type": "code",
   "execution_count": null,
   "metadata": {},
   "outputs": [],
   "source": [
    "square(5)"
   ]
  },
  {
   "cell_type": "code",
   "execution_count": null,
   "metadata": {},
   "outputs": [],
   "source": [
    "# or, we can simply do:\n",
    "def square(x):\n",
    "    return x**2"
   ]
  },
  {
   "cell_type": "code",
   "execution_count": null,
   "metadata": {},
   "outputs": [],
   "source": [
    "square(3)"
   ]
  },
  {
   "cell_type": "markdown",
   "metadata": {},
   "source": [
    "# Multiple Arguments in a function"
   ]
  },
  {
   "cell_type": "markdown",
   "metadata": {},
   "source": [
    "## The good 'ol Quadratic formula\n",
    "$x=\\frac{-b\\pm\\sqrt{b^2-4ac}}{2a}$\n"
   ]
  },
  {
   "cell_type": "code",
   "execution_count": null,
   "metadata": {},
   "outputs": [],
   "source": [
    "def quad(a,b,c):\n",
    "    return ((-b+((b**2) -(4*a*c))**.5)/(2*a),(-b-((b**2) -(4*a*c))**.5)/(2*a))"
   ]
  },
  {
   "cell_type": "markdown",
   "metadata": {},
   "source": [
    "Find $X$: $X^2 -X -6=0 $"
   ]
  },
  {
   "cell_type": "code",
   "execution_count": null,
   "metadata": {},
   "outputs": [],
   "source": [
    "quad(1,-1,-6)"
   ]
  },
  {
   "cell_type": "markdown",
   "metadata": {},
   "source": [
    "## Lambda Functions\n",
    "\n",
    "A lambda function/expression is a small **anonymous function** (we don't assign a name to it). \n",
    "\n",
    "syntax:\n",
    "\n",
    "`lambda` *arguments*: *expression*\n",
    "\n",
    "In the expression part, we only can write ONE expression (for example `argument+2` will be one expression). While in the argument part, we can have multiple arguments.\n"
   ]
  },
  {
   "cell_type": "code",
   "execution_count": null,
   "metadata": {},
   "outputs": [],
   "source": [
    "x = lambda a : a**2\n",
    "print(x(5))"
   ]
  },
  {
   "cell_type": "markdown",
   "metadata": {},
   "source": [
    "In the example above, `x` represents a *function*. And we can use is in other functions (we will see it below). "
   ]
  },
  {
   "cell_type": "markdown",
   "metadata": {},
   "source": [
    "Also, we can use three arguments too: "
   ]
  },
  {
   "cell_type": "code",
   "execution_count": null,
   "metadata": {},
   "outputs": [],
   "source": [
    "x = lambda a, b, c : ((-b+((b**2) -(4*a*c))**.5)/(2*a),(-b-((b**2) -(4*a*c))**.5)/(2*a))\n",
    "print(x(1,-1,-6))"
   ]
  },
  {
   "cell_type": "markdown",
   "metadata": {},
   "source": [
    "**Why we should use this?**\n",
    "\n",
    "Remember than everything is an object in Python. Functions are objects too! so we can use lambda functions inside a function.  The power of lambda is better shown when you use them as an anonymous function inside another function: "
   ]
  },
  {
   "cell_type": "code",
   "execution_count": null,
   "metadata": {},
   "outputs": [],
   "source": [
    "# Assume that we want to create a function that add a 5 to its input. \n",
    "# However, the input will be doubled before adding 5. Use lambda function to double the number, and use it\n",
    "# inside a function: \n",
    "def func(x):\n",
    "    func2= lambda x: x*2\n",
    "    return func2(x)+5\n"
   ]
  },
  {
   "cell_type": "code",
   "execution_count": null,
   "metadata": {},
   "outputs": [],
   "source": [
    "func(3)"
   ]
  },
  {
   "cell_type": "markdown",
   "metadata": {},
   "source": [
    "### Lambda function with Filter:\n",
    "Here is another example. We have a list of numbers:"
   ]
  },
  {
   "cell_type": "code",
   "execution_count": null,
   "metadata": {},
   "outputs": [],
   "source": [
    "# we can define a function that returns a Boolean expression (True/False) if the remainder of the division is zero.\n",
    "#  Operator \"%\" divides left hand operand by right hand operand and returns remainder. \n",
    "    \n",
    "def is_even(n):\n",
    "    return n%2==0\n"
   ]
  },
  {
   "cell_type": "code",
   "execution_count": null,
   "metadata": {},
   "outputs": [],
   "source": [
    "is_even(3)"
   ]
  },
  {
   "cell_type": "code",
   "execution_count": null,
   "metadata": {},
   "outputs": [],
   "source": [
    "nums = [2,4,7,5,8,10,15]"
   ]
  },
  {
   "cell_type": "markdown",
   "metadata": {},
   "source": [
    "`filter()` method constructs an iterator from elements of an iterable for which a function returns true. `filter()` takes two arguments: a **function**--that tests if elements of an iterable return true or false-- and an **iterable** which is to be filtered, could be sets, lists, tuples, or containers of any iterators \n"
   ]
  },
  {
   "cell_type": "code",
   "execution_count": null,
   "metadata": {},
   "outputs": [],
   "source": [
    "evens = list(filter(is_even,nums))"
   ]
  },
  {
   "cell_type": "code",
   "execution_count": null,
   "metadata": {},
   "outputs": [],
   "source": [
    "print(evens)"
   ]
  },
  {
   "cell_type": "markdown",
   "metadata": {},
   "source": [
    "In the example above, we had to define the function in advance. And we can save time and space if we make use of a lambda function as below:"
   ]
  },
  {
   "cell_type": "code",
   "execution_count": null,
   "metadata": {},
   "outputs": [],
   "source": [
    "evens = list(filter(lambda n: n%2==0, nums))"
   ]
  },
  {
   "cell_type": "code",
   "execution_count": null,
   "metadata": {},
   "outputs": [],
   "source": [
    "print(evens)"
   ]
  },
  {
   "cell_type": "markdown",
   "metadata": {},
   "source": [
    "Here is another example of the lambda with filter:"
   ]
  },
  {
   "cell_type": "code",
   "execution_count": null,
   "metadata": {},
   "outputs": [],
   "source": [
    "leq10 = list(filter(lambda n: n>=10, nums))"
   ]
  },
  {
   "cell_type": "code",
   "execution_count": null,
   "metadata": {},
   "outputs": [],
   "source": [
    "print(leq10)"
   ]
  },
  {
   "cell_type": "markdown",
   "metadata": {},
   "source": [
    "### Lambda Functions with Map:\n",
    "\n",
    "The `map()` function in Python takes in a function and a list as an argument. A new list is returned which contains all the lambda modified items returned by that function for each item.\n",
    "\n",
    "In **map**: Function will be applied to all objects of iterable. In **filter**: Function will be applied to only those objects of iterable who goes *True* on the condition specified in expression.\n"
   ]
  },
  {
   "cell_type": "code",
   "execution_count": null,
   "metadata": {},
   "outputs": [],
   "source": [
    "# to get double of a each item. \n",
    "num = [5, 7, 22, 97, 54, 62] \n",
    "  \n",
    "double = list(map(lambda x: x*2, num)) \n",
    "print(double) "
   ]
  },
  {
   "cell_type": "code",
   "execution_count": null,
   "metadata": {},
   "outputs": [],
   "source": [
    "# upper case letter:\n",
    "\n",
    "colors = ['green', 'blue','orange','red']\n",
    "\n",
    "uppered = list(map(lambda color: str.upper(color), colors))"
   ]
  },
  {
   "cell_type": "code",
   "execution_count": null,
   "metadata": {},
   "outputs": [],
   "source": [
    "print(uppered)"
   ]
  },
  {
   "cell_type": "markdown",
   "metadata": {},
   "source": [
    "### Lambda Functions with Reduce:\n",
    "\n",
    "The `reduce()` function takes as argument a function and a list. This performs a repetitive operation over the pairs of the iterable. The reduce() function belongs to the `functools` module. \n"
   ]
  },
  {
   "cell_type": "code",
   "execution_count": null,
   "metadata": {},
   "outputs": [],
   "source": [
    "from functools import reduce\n",
    "\n",
    "list = [1,2,3,4,5,6,7]\n",
    "\n",
    "sum = reduce((lambda x,y: x*y ), list)"
   ]
  },
  {
   "cell_type": "code",
   "execution_count": null,
   "metadata": {},
   "outputs": [],
   "source": [
    "print(sum)"
   ]
  },
  {
   "cell_type": "markdown",
   "metadata": {},
   "source": [
    "Here the results of previous two elements are added to the next element and this goes on till the end of the list like ((((((1*2)*3)*4)*5)*6)*7)."
   ]
  }
 ],
 "metadata": {
  "kernelspec": {
   "display_name": "Python 3 (ipykernel)",
   "language": "python",
   "name": "python3"
  },
  "language_info": {
   "codemirror_mode": {
    "name": "ipython",
    "version": 3
   },
   "file_extension": ".py",
   "mimetype": "text/x-python",
   "name": "python",
   "nbconvert_exporter": "python",
   "pygments_lexer": "ipython3",
   "version": "3.8.5"
  }
 },
 "nbformat": 4,
 "nbformat_minor": 4
}
