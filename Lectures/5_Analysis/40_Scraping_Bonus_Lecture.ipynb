{
 "cells": [
  {
   "cell_type": "markdown",
   "metadata": {
    "slideshow": {
     "slide_type": "slide"
    }
   },
   "source": [
    "# Advanced Web Scraping\n",
    "### Selenium and Scrapy"
   ]
  },
  {
   "cell_type": "markdown",
   "metadata": {
    "slideshow": {
     "slide_type": "slide"
    }
   },
   "source": [
    "In class, we went over using `requests` and `BeautifulSoup` to scrape web pages.\n",
    "\n",
    "When is this not enough?\n",
    "- When the webpage has javascript you need.\n",
    "- When you need to interact with the webpage.\n",
    "- When you want to parallelize or manage many scrapers at once.\n"
   ]
  },
  {
   "cell_type": "markdown",
   "metadata": {
    "slideshow": {
     "slide_type": "slide"
    }
   },
   "source": [
    "What each package does:\n",
    "#### __Selenium__\n",
    "   - Creates an instance of a web browser which you can use to interact with a web page.\n",
    "   \n",
    "#### __Scrapy__\n",
    "   \n",
    "   - A larger package that manages scraping \"spiders.\""
   ]
  },
  {
   "cell_type": "markdown",
   "metadata": {
    "slideshow": {
     "slide_type": "slide"
    }
   },
   "source": [
    "When do you use each one?\n",
    "\n",
    "#### Selenium\n",
    "- When you need to interact dynamically with a web page.\n",
    "\n",
    "#### Scrapy\n",
    "- When you need to manage several spiders at once and set parameters on how they scrape.\n",
    "\n"
   ]
  },
  {
   "cell_type": "markdown",
   "metadata": {
    "slideshow": {
     "slide_type": "slide"
    }
   },
   "source": [
    "### Scraping using Selenium\n",
    "- Create a web browser instance\n",
    "- Interact with the elements on the web page.\n",
    "- Download what you want.\n",
    "\n",
    "For this example, I'm going to interact with a web page and click things and edit drop down menus."
   ]
  },
  {
   "cell_type": "code",
   "execution_count": 22,
   "metadata": {
    "slideshow": {
     "slide_type": "slide"
    }
   },
   "outputs": [],
   "source": [
    "from selenium import webdriver\n",
    "from selenium.webdriver.common.keys import Keys\n",
    "from selenium.webdriver.support.ui import Select\n",
    "from selenium.webdriver import FirefoxOptions\n",
    "\n",
    "import pandas as pd"
   ]
  },
  {
   "cell_type": "markdown",
   "metadata": {
    "slideshow": {
     "slide_type": "slide"
    }
   },
   "source": [
    "First, create a web browser"
   ]
  },
  {
   "cell_type": "code",
   "execution_count": 23,
   "metadata": {
    "slideshow": {
     "slide_type": "-"
    }
   },
   "outputs": [],
   "source": [
    "driver = webdriver.Firefox()"
   ]
  },
  {
   "cell_type": "markdown",
   "metadata": {
    "slideshow": {
     "slide_type": "slide"
    }
   },
   "source": [
    "Go to the web page."
   ]
  },
  {
   "cell_type": "code",
   "execution_count": 24,
   "metadata": {
    "slideshow": {
     "slide_type": "-"
    }
   },
   "outputs": [],
   "source": [
    "driver.get(\"https://www.naab-css.org/dairy-cross-reference\")"
   ]
  },
  {
   "cell_type": "markdown",
   "metadata": {
    "slideshow": {
     "slide_type": "slide"
    }
   },
   "source": [
    "Suppose that I want to enter something into the \"NAAB Code\" field. First I have to find it:"
   ]
  },
  {
   "cell_type": "code",
   "execution_count": 25,
   "metadata": {
    "slideshow": {
     "slide_type": "-"
    }
   },
   "outputs": [],
   "source": [
    "naab_id = driver.find_element_by_name(\"ctl00$ctl00$ContentPlaceHolder_Content$ContentPlaceHolder_Content$TextBox_NAABCode\")"
   ]
  },
  {
   "cell_type": "markdown",
   "metadata": {
    "slideshow": {
     "slide_type": "slide"
    }
   },
   "source": [
    "Now I can use \"send_keys\" to put text in the field:"
   ]
  },
  {
   "cell_type": "code",
   "execution_count": 26,
   "metadata": {
    "slideshow": {
     "slide_type": "-"
    }
   },
   "outputs": [],
   "source": [
    "naab_id.send_keys(\"This is not a code!\")"
   ]
  },
  {
   "cell_type": "markdown",
   "metadata": {
    "slideshow": {
     "slide_type": "slide"
    }
   },
   "source": [
    "Now I have to click \"search\":"
   ]
  },
  {
   "cell_type": "code",
   "execution_count": 27,
   "metadata": {
    "slideshow": {
     "slide_type": "-"
    }
   },
   "outputs": [],
   "source": [
    "search_naab_code = driver.find_elements_by_name(\"ctl00$ctl00$ContentPlaceHolder_Content$ContentPlaceHolder_Content$Button_SearchNAAB\")[0]\n",
    "\n",
    "search_naab_code.click()"
   ]
  },
  {
   "cell_type": "markdown",
   "metadata": {
    "slideshow": {
     "slide_type": "slide"
    }
   },
   "source": [
    "That's not a real code, so I need to go back:"
   ]
  },
  {
   "cell_type": "code",
   "execution_count": 28,
   "metadata": {
    "slideshow": {
     "slide_type": "-"
    }
   },
   "outputs": [],
   "source": [
    "driver.back()"
   ]
  },
  {
   "cell_type": "markdown",
   "metadata": {
    "slideshow": {
     "slide_type": "slide"
    }
   },
   "source": [
    "Now I will find the box again, clear it, and put in an actual code:"
   ]
  },
  {
   "cell_type": "code",
   "execution_count": 29,
   "metadata": {
    "scrolled": true,
    "slideshow": {
     "slide_type": "-"
    }
   },
   "outputs": [],
   "source": [
    "naab_id = driver.find_element_by_name(\"ctl00$ctl00$ContentPlaceHolder_Content$ContentPlaceHolder_Content$TextBox_NAABCode\")\n",
    "\n",
    "naab_id.clear()\n",
    "\n",
    "naab_id.send_keys(\"029HO16708\")"
   ]
  },
  {
   "cell_type": "markdown",
   "metadata": {
    "slideshow": {
     "slide_type": "slide"
    }
   },
   "source": [
    "Click \"Search\""
   ]
  },
  {
   "cell_type": "code",
   "execution_count": 31,
   "metadata": {
    "slideshow": {
     "slide_type": "-"
    }
   },
   "outputs": [],
   "source": [
    "search_naab_code = driver.find_elements_by_name(\"ctl00$ctl00$ContentPlaceHolder_Content$ContentPlaceHolder_Content$Button_SearchNAAB\")[0]\n",
    "\n",
    "search_naab_code.click()"
   ]
  },
  {
   "cell_type": "markdown",
   "metadata": {
    "slideshow": {
     "slide_type": "slide"
    }
   },
   "source": [
    "Now we can scrape the table:"
   ]
  },
  {
   "cell_type": "code",
   "execution_count": 32,
   "metadata": {
    "slideshow": {
     "slide_type": "-"
    }
   },
   "outputs": [
    {
     "data": {
      "text/html": [
       "<div>\n",
       "<style scoped>\n",
       "    .dataframe tbody tr th:only-of-type {\n",
       "        vertical-align: middle;\n",
       "    }\n",
       "\n",
       "    .dataframe tbody tr th {\n",
       "        vertical-align: top;\n",
       "    }\n",
       "\n",
       "    .dataframe thead th {\n",
       "        text-align: right;\n",
       "    }\n",
       "</style>\n",
       "<table border=\"1\" class=\"dataframe\">\n",
       "  <thead>\n",
       "    <tr style=\"text-align: right;\">\n",
       "      <th></th>\n",
       "      <th>0</th>\n",
       "      <th>1</th>\n",
       "    </tr>\n",
       "  </thead>\n",
       "  <tbody>\n",
       "    <tr>\n",
       "      <th>0</th>\n",
       "      <td>Breed</td>\n",
       "      <td>HO</td>\n",
       "    </tr>\n",
       "    <tr>\n",
       "      <th>1</th>\n",
       "      <td>Country</td>\n",
       "      <td>ITA</td>\n",
       "    </tr>\n",
       "    <tr>\n",
       "      <th>2</th>\n",
       "      <td>ID Number</td>\n",
       "      <td>028990245854</td>\n",
       "    </tr>\n",
       "    <tr>\n",
       "      <th>3</th>\n",
       "      <td>Semen Release Date</td>\n",
       "      <td>2013-5</td>\n",
       "    </tr>\n",
       "    <tr>\n",
       "      <th>4</th>\n",
       "      <td>Status</td>\n",
       "      <td>I</td>\n",
       "    </tr>\n",
       "    <tr>\n",
       "      <th>5</th>\n",
       "      <td>Sampling Code</td>\n",
       "      <td>NaN</td>\n",
       "    </tr>\n",
       "    <tr>\n",
       "      <th>6</th>\n",
       "      <td>Original Controller</td>\n",
       "      <td>NaN</td>\n",
       "    </tr>\n",
       "    <tr>\n",
       "      <th>7</th>\n",
       "      <td>Reg. Name</td>\n",
       "      <td>GEGANIA DOB.DODY ET TV TL TY</td>\n",
       "    </tr>\n",
       "    <tr>\n",
       "      <th>8</th>\n",
       "      <td>Short Name</td>\n",
       "      <td>DODY</td>\n",
       "    </tr>\n",
       "    <tr>\n",
       "      <th>9</th>\n",
       "      <td>Birthdate</td>\n",
       "      <td>10/3/2011</td>\n",
       "    </tr>\n",
       "    <tr>\n",
       "      <th>10</th>\n",
       "      <td>Sire Breed</td>\n",
       "      <td>HO</td>\n",
       "    </tr>\n",
       "    <tr>\n",
       "      <th>11</th>\n",
       "      <td>Sire Country</td>\n",
       "      <td>USA</td>\n",
       "    </tr>\n",
       "    <tr>\n",
       "      <th>12</th>\n",
       "      <td>Sire ID Number</td>\n",
       "      <td>000061980877</td>\n",
       "    </tr>\n",
       "    <tr>\n",
       "      <th>13</th>\n",
       "      <td>Dam Breed</td>\n",
       "      <td>HO</td>\n",
       "    </tr>\n",
       "    <tr>\n",
       "      <th>14</th>\n",
       "      <td>Dam Country</td>\n",
       "      <td>ITA</td>\n",
       "    </tr>\n",
       "    <tr>\n",
       "      <th>15</th>\n",
       "      <td>Dam ID Number</td>\n",
       "      <td>028990149192</td>\n",
       "    </tr>\n",
       "    <tr>\n",
       "      <th>16</th>\n",
       "      <td>MGS Breed</td>\n",
       "      <td>HO</td>\n",
       "    </tr>\n",
       "    <tr>\n",
       "      <th>17</th>\n",
       "      <td>MGS Country</td>\n",
       "      <td>DEU</td>\n",
       "    </tr>\n",
       "    <tr>\n",
       "      <th>18</th>\n",
       "      <td>MGS ID Number</td>\n",
       "      <td>000000253642</td>\n",
       "    </tr>\n",
       "    <tr>\n",
       "      <th>19</th>\n",
       "      <td>Controller Number</td>\n",
       "      <td>0029</td>\n",
       "    </tr>\n",
       "    <tr>\n",
       "      <th>20</th>\n",
       "      <td>Primary NAAB Code</td>\n",
       "      <td>029HO16708</td>\n",
       "    </tr>\n",
       "    <tr>\n",
       "      <th>21</th>\n",
       "      <td>Secondary NAAB Code(s)</td>\n",
       "      <td>NaN</td>\n",
       "    </tr>\n",
       "    <tr>\n",
       "      <th>22</th>\n",
       "      <td>Genotype Information</td>\n",
       "      <td>TL TV TY</td>\n",
       "    </tr>\n",
       "  </tbody>\n",
       "</table>\n",
       "</div>"
      ],
      "text/plain": [
       "                         0                             1\n",
       "0                    Breed                            HO\n",
       "1                  Country                           ITA\n",
       "2                ID Number                  028990245854\n",
       "3       Semen Release Date                        2013-5\n",
       "4                   Status                             I\n",
       "5            Sampling Code                           NaN\n",
       "6      Original Controller                           NaN\n",
       "7                Reg. Name  GEGANIA DOB.DODY ET TV TL TY\n",
       "8               Short Name                          DODY\n",
       "9                Birthdate                     10/3/2011\n",
       "10              Sire Breed                            HO\n",
       "11            Sire Country                           USA\n",
       "12          Sire ID Number                  000061980877\n",
       "13               Dam Breed                            HO\n",
       "14             Dam Country                           ITA\n",
       "15           Dam ID Number                  028990149192\n",
       "16               MGS Breed                            HO\n",
       "17             MGS Country                           DEU\n",
       "18           MGS ID Number                  000000253642\n",
       "19       Controller Number                          0029\n",
       "20       Primary NAAB Code                    029HO16708\n",
       "21  Secondary NAAB Code(s)                           NaN\n",
       "22    Genotype Information                      TL TV TY"
      ]
     },
     "execution_count": 32,
     "metadata": {},
     "output_type": "execute_result"
    }
   ],
   "source": [
    "table = driver.find_elements_by_class_name('DairyCrossTable')[0]\n",
    "\n",
    "pd.read_html(table.get_attribute('outerHTML'))[0]"
   ]
  },
  {
   "cell_type": "markdown",
   "metadata": {
    "slideshow": {
     "slide_type": "slide"
    }
   },
   "source": [
    "Now suppose we want to interact with the dropdown menus. How do we do that?\n",
    "- Find the elements.\n",
    "- Select the item you want.\n",
    "- Click the button."
   ]
  },
  {
   "cell_type": "code",
   "execution_count": 33,
   "metadata": {
    "slideshow": {
     "slide_type": "-"
    }
   },
   "outputs": [],
   "source": [
    "driver.back()"
   ]
  },
  {
   "cell_type": "markdown",
   "metadata": {
    "slideshow": {
     "slide_type": "slide"
    }
   },
   "source": [
    "First the Breed selection:"
   ]
  },
  {
   "cell_type": "code",
   "execution_count": 34,
   "metadata": {
    "slideshow": {
     "slide_type": "-"
    }
   },
   "outputs": [
    {
     "data": {
      "text/plain": [
       "['-- Select Breed --',\n",
       " 'AMERICAN LINEBACK',\n",
       " 'AYRSHIRE',\n",
       " 'BROWN SWISS',\n",
       " 'CROSSBREEDS (XX)',\n",
       " 'Dairy Cross (XD)',\n",
       " 'DUTCH BELTED',\n",
       " 'Fleckvieh',\n",
       " 'GIROLANDO',\n",
       " 'GUERNSEY',\n",
       " 'HOLSTEIN',\n",
       " 'INTERNATIONAL RED DAIRY',\n",
       " 'JERSEY',\n",
       " 'MILKING DEVON',\n",
       " 'MONTBELIARDE',\n",
       " 'MUESE-RHINE-ISSEL',\n",
       " 'NORWEGIAN RED AND WHITE',\n",
       " 'RED & WHITE HOLSTEIN',\n",
       " 'SHORTHORN (Milking)',\n",
       " 'SIMMENTAL',\n",
       " 'SWEDISH RED AND WHITE']"
      ]
     },
     "execution_count": 34,
     "metadata": {},
     "output_type": "execute_result"
    }
   ],
   "source": [
    "breed_list = \"ctl00$ctl00$ContentPlaceHolder_Content$ContentPlaceHolder_Content$DropDownList_Breed\"\n",
    "\n",
    "breed_dropdown = Select(driver.find_element_by_name(breed_list))\n",
    "\n",
    "[x.text for x in breed_dropdown.options]"
   ]
  },
  {
   "cell_type": "code",
   "execution_count": 35,
   "metadata": {},
   "outputs": [],
   "source": [
    "breed_dropdown.select_by_visible_text('HOLSTEIN')"
   ]
  },
  {
   "cell_type": "markdown",
   "metadata": {
    "slideshow": {
     "slide_type": "slide"
    }
   },
   "source": [
    "Country selection:"
   ]
  },
  {
   "cell_type": "code",
   "execution_count": 36,
   "metadata": {
    "slideshow": {
     "slide_type": "-"
    }
   },
   "outputs": [],
   "source": [
    "country_name = \"ctl00$ctl00$ContentPlaceHolder_Content$ContentPlaceHolder_Content$DropDownList_Country\"\n",
    "\n",
    "country_dropdown = Select(driver.find_element_by_name(country_name))\n",
    "\n",
    "country_dropdown.select_by_visible_text(\"USA/840\")"
   ]
  },
  {
   "cell_type": "markdown",
   "metadata": {
    "slideshow": {
     "slide_type": "slide"
    }
   },
   "source": [
    "Now just enter the id number in the box:"
   ]
  },
  {
   "cell_type": "code",
   "execution_count": 37,
   "metadata": {
    "slideshow": {
     "slide_type": "-"
    }
   },
   "outputs": [],
   "source": [
    "id_entry = \"ctl00$ctl00$ContentPlaceHolder_Content$ContentPlaceHolder_Content$TextBox_IDNumber\"\n",
    "\n",
    "id_enter = driver.find_element_by_name(id_entry)\n",
    "\n",
    "id_enter.send_keys(\"003141494481\")"
   ]
  },
  {
   "cell_type": "markdown",
   "metadata": {
    "slideshow": {
     "slide_type": "slide"
    }
   },
   "source": [
    "Click \"Search\""
   ]
  },
  {
   "cell_type": "code",
   "execution_count": 38,
   "metadata": {
    "slideshow": {
     "slide_type": "-"
    }
   },
   "outputs": [],
   "source": [
    "search_name=\"ctl00$ctl00$ContentPlaceHolder_Content$ContentPlaceHolder_Content$Button_SearchRegNumber\"\n",
    "\n",
    "search_box = driver.find_element_by_name(search_name)\n",
    "\n",
    "search_box.click()"
   ]
  },
  {
   "cell_type": "markdown",
   "metadata": {
    "slideshow": {
     "slide_type": "slide"
    }
   },
   "source": [
    "And now scrape the table:"
   ]
  },
  {
   "cell_type": "code",
   "execution_count": 39,
   "metadata": {
    "slideshow": {
     "slide_type": "-"
    }
   },
   "outputs": [
    {
     "data": {
      "text/html": [
       "<div>\n",
       "<style scoped>\n",
       "    .dataframe tbody tr th:only-of-type {\n",
       "        vertical-align: middle;\n",
       "    }\n",
       "\n",
       "    .dataframe tbody tr th {\n",
       "        vertical-align: top;\n",
       "    }\n",
       "\n",
       "    .dataframe thead th {\n",
       "        text-align: right;\n",
       "    }\n",
       "</style>\n",
       "<table border=\"1\" class=\"dataframe\">\n",
       "  <thead>\n",
       "    <tr style=\"text-align: right;\">\n",
       "      <th></th>\n",
       "      <th>0</th>\n",
       "      <th>1</th>\n",
       "    </tr>\n",
       "  </thead>\n",
       "  <tbody>\n",
       "    <tr>\n",
       "      <th>0</th>\n",
       "      <td>Breed</td>\n",
       "      <td>HO</td>\n",
       "    </tr>\n",
       "    <tr>\n",
       "      <th>1</th>\n",
       "      <td>Country</td>\n",
       "      <td>840</td>\n",
       "    </tr>\n",
       "    <tr>\n",
       "      <th>2</th>\n",
       "      <td>ID Number</td>\n",
       "      <td>003141494481</td>\n",
       "    </tr>\n",
       "    <tr>\n",
       "      <th>3</th>\n",
       "      <td>Semen Release Date</td>\n",
       "      <td>2018-8</td>\n",
       "    </tr>\n",
       "    <tr>\n",
       "      <th>4</th>\n",
       "      <td>Status</td>\n",
       "      <td>A</td>\n",
       "    </tr>\n",
       "    <tr>\n",
       "      <th>5</th>\n",
       "      <td>Sampling Code</td>\n",
       "      <td>NaN</td>\n",
       "    </tr>\n",
       "    <tr>\n",
       "      <th>6</th>\n",
       "      <td>Original Controller</td>\n",
       "      <td>NaN</td>\n",
       "    </tr>\n",
       "    <tr>\n",
       "      <th>7</th>\n",
       "      <td>Reg. Name</td>\n",
       "      <td>DENOVO 7895 MENTOR-ET</td>\n",
       "    </tr>\n",
       "    <tr>\n",
       "      <th>8</th>\n",
       "      <td>Short Name</td>\n",
       "      <td>MENTOR</td>\n",
       "    </tr>\n",
       "    <tr>\n",
       "      <th>9</th>\n",
       "      <td>Birthdate</td>\n",
       "      <td>6/13/2017</td>\n",
       "    </tr>\n",
       "    <tr>\n",
       "      <th>10</th>\n",
       "      <td>Sire Breed</td>\n",
       "      <td>HO</td>\n",
       "    </tr>\n",
       "    <tr>\n",
       "      <th>11</th>\n",
       "      <td>Sire Country</td>\n",
       "      <td>840</td>\n",
       "    </tr>\n",
       "    <tr>\n",
       "      <th>12</th>\n",
       "      <td>Sire ID Number</td>\n",
       "      <td>003128461509</td>\n",
       "    </tr>\n",
       "    <tr>\n",
       "      <th>13</th>\n",
       "      <td>Dam Breed</td>\n",
       "      <td>HO</td>\n",
       "    </tr>\n",
       "    <tr>\n",
       "      <th>14</th>\n",
       "      <td>Dam Country</td>\n",
       "      <td>840</td>\n",
       "    </tr>\n",
       "    <tr>\n",
       "      <th>15</th>\n",
       "      <td>Dam ID Number</td>\n",
       "      <td>003128557698</td>\n",
       "    </tr>\n",
       "    <tr>\n",
       "      <th>16</th>\n",
       "      <td>MGS Breed</td>\n",
       "      <td>HO</td>\n",
       "    </tr>\n",
       "    <tr>\n",
       "      <th>17</th>\n",
       "      <td>MGS Country</td>\n",
       "      <td>NLD</td>\n",
       "    </tr>\n",
       "    <tr>\n",
       "      <th>18</th>\n",
       "      <td>MGS ID Number</td>\n",
       "      <td>000755898903</td>\n",
       "    </tr>\n",
       "    <tr>\n",
       "      <th>19</th>\n",
       "      <td>Controller Number</td>\n",
       "      <td>0029</td>\n",
       "    </tr>\n",
       "    <tr>\n",
       "      <th>20</th>\n",
       "      <td>Primary NAAB Code</td>\n",
       "      <td>029HO18775</td>\n",
       "    </tr>\n",
       "    <tr>\n",
       "      <th>21</th>\n",
       "      <td>Secondary NAAB Code(s)</td>\n",
       "      <td>629HO18775</td>\n",
       "    </tr>\n",
       "    <tr>\n",
       "      <th>22</th>\n",
       "      <td>Genotype Information</td>\n",
       "      <td>TD TC TL TY TV TR</td>\n",
       "    </tr>\n",
       "  </tbody>\n",
       "</table>\n",
       "</div>"
      ],
      "text/plain": [
       "                         0                      1\n",
       "0                    Breed                     HO\n",
       "1                  Country                    840\n",
       "2                ID Number           003141494481\n",
       "3       Semen Release Date                 2018-8\n",
       "4                   Status                      A\n",
       "5            Sampling Code                    NaN\n",
       "6      Original Controller                    NaN\n",
       "7                Reg. Name  DENOVO 7895 MENTOR-ET\n",
       "8               Short Name                 MENTOR\n",
       "9                Birthdate              6/13/2017\n",
       "10              Sire Breed                     HO\n",
       "11            Sire Country                    840\n",
       "12          Sire ID Number           003128461509\n",
       "13               Dam Breed                     HO\n",
       "14             Dam Country                    840\n",
       "15           Dam ID Number           003128557698\n",
       "16               MGS Breed                     HO\n",
       "17             MGS Country                    NLD\n",
       "18           MGS ID Number           000755898903\n",
       "19       Controller Number                   0029\n",
       "20       Primary NAAB Code             029HO18775\n",
       "21  Secondary NAAB Code(s)             629HO18775\n",
       "22    Genotype Information      TD TC TL TY TV TR"
      ]
     },
     "execution_count": 39,
     "metadata": {},
     "output_type": "execute_result"
    }
   ],
   "source": [
    "table = driver.find_elements_by_class_name('DairyCrossTable')[0]\n",
    "\n",
    "pd.read_html(table.get_attribute('outerHTML'))[0]"
   ]
  },
  {
   "cell_type": "markdown",
   "metadata": {
    "slideshow": {
     "slide_type": "slide"
    }
   },
   "source": [
    "In this case, I did not actually need to interact with any javascript, and thus no need to use `selenium`. However, there are many cases when you'll need it. For example, `scrapy` and `BeautifulSoup` __cannot__ interact with any javascript.\n",
    "\n",
    "In the case you don't need to interact with javascript, `scrapy` is a much better package for doing scraping."
   ]
  },
  {
   "cell_type": "markdown",
   "metadata": {
    "slideshow": {
     "slide_type": "slide"
    }
   },
   "source": [
    "### What is `scrapy`?\n",
    "A framework for webcrawling which creates \"spiders\" that autonomously crawl websites for you.\n",
    "\n",
    "What are it's advantages?\n",
    "- Automated: no need to run a script multiple times. Running it once spawns spiders to do work for you.\n",
    "- Parallel: will easily run in parallel.\n",
    "- Parameters: constrains the spiders to only run at some times and under certain conditions.\n"
   ]
  },
  {
   "cell_type": "markdown",
   "metadata": {
    "slideshow": {
     "slide_type": "slide"
    }
   },
   "source": [
    "### Rule of Scraping: Don't Be A Jerk\n",
    "Scraping too agressively can crash the website, which is against the scraping code.\n",
    "\n",
    "Using `scrapy`, you can tell it to only scrape during certain hours (like hours with less traffic) and to stop when the website gets overloaded.\n",
    "\n",
    "__Scrapy is a more responsible and efficient way to scrape websites.__"
   ]
  },
  {
   "cell_type": "markdown",
   "metadata": {
    "slideshow": {
     "slide_type": "slide"
    }
   },
   "source": [
    "### Example:\n",
    "To scrape the tables I needed, I programmed a `scrapy` spider to go to a list of websites.\n",
    "\n",
    "This is a much better way to scrape a long list of websites that I needed."
   ]
  }
 ],
 "metadata": {
  "celltoolbar": "Slideshow",
  "kernelspec": {
   "display_name": "Python 3 (ipykernel)",
   "language": "python",
   "name": "python3"
  },
  "language_info": {
   "codemirror_mode": {
    "name": "ipython",
    "version": 3
   },
   "file_extension": ".py",
   "mimetype": "text/x-python",
   "name": "python",
   "nbconvert_exporter": "python",
   "pygments_lexer": "ipython3",
   "version": "3.9.12"
  }
 },
 "nbformat": 4,
 "nbformat_minor": 4
}
