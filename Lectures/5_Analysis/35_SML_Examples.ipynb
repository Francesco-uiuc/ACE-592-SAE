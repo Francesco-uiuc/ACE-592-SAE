{
  "cells": [
    {
      "cell_type": "markdown",
      "metadata": {
        "id": "hCtEXyImK5ce"
      },
      "source": [
        "# Supervised Machine Learning Examples\n",
        "## 1. Penalized Regression\n",
        "## 2. Random Forest\n",
        "## 3. Deep Neural Network"
      ]
    },
    {
      "cell_type": "code",
      "execution_count": 2,
      "metadata": {
        "scrolled": true,
        "id": "V_LdAJe2K5ci"
      },
      "outputs": [],
      "source": [
        "from sklearn.preprocessing import StandardScaler\n",
        "from sklearn.linear_model import ElasticNet, ElasticNetCV\n",
        "from sklearn.linear_model import LassoCV\n",
        "from sklearn.model_selection import train_test_split\n",
        "from sklearn.linear_model import Lasso\n",
        "from sklearn.model_selection import GridSearchCV\n",
        "from sklearn.ensemble import RandomForestRegressor\n",
        "from sklearn.model_selection import RandomizedSearchCV\n",
        "\n",
        "import tensorflow as tf\n",
        "from tensorflow import keras\n",
        "from tensorflow.keras import layers\n",
        "from tensorflow.keras.layers.experimental import preprocessing\n",
        "\n",
        "import pandas as pd\n",
        "import numpy as np\n",
        "import matplotlib.pyplot as plt\n",
        "\n",
        "data_dir = \"C:/Users/jhtchns2/Box/ACE 592 SAE Spring 2022/Class Examples/4_Analysis/\""
      ]
    },
    {
      "cell_type": "markdown",
      "metadata": {
        "id": "wc2IaMXEK5cl"
      },
      "source": [
        "## 1. Penalized Regression Example\n",
        "\n",
        "To demonstrate SML methods, we will be using a dataset of house prices used in a Kaggle competition."
      ]
    },
    {
      "cell_type": "code",
      "execution_count": 85,
      "metadata": {
        "id": "2pV0lFDDK5cn",
        "outputId": "23b503ec-073e-4082-d236-947688c16c68",
        "colab": {
          "base_uri": "https://localhost:8080/",
          "height": 299
        }
      },
      "outputs": [
        {
          "output_type": "execute_result",
          "data": {
            "text/plain": [
              "   Id  LotFrontage    LotArea  OverallQual  OverallCond  YearBuilt  \\\n",
              "0   1    18.144573  13.833054            7     3.991517       2003   \n",
              "1   2    20.673625  14.117918            6     6.000033       1976   \n",
              "2   3    18.668047  14.476512            7     3.991517       2001   \n",
              "3   4    17.249651  14.106196            7     3.991517       1915   \n",
              "4   5    21.314283  15.022008            8     3.991517       2000   \n",
              "\n",
              "   YearRemodAdd  MasVnrArea  BsmtFinSF1  BsmtFinSF2  ...  SaleType_New  \\\n",
              "0          2003   19.433175  144.117862         0.0  ...           0.0   \n",
              "1          1976   54.598150  181.719186         0.0  ...           0.0   \n",
              "2          2002   17.768840  110.441033         0.0  ...           0.0   \n",
              "3          1970   54.598150   61.795315         0.0  ...           0.0   \n",
              "4          2000   25.404164  136.624601         0.0  ...           0.0   \n",
              "\n",
              "   SaleType_Oth  SaleType_WD  SaleCondition_Abnorml  SaleCondition_AdjLand  \\\n",
              "0           0.0          1.0                    0.0                    0.0   \n",
              "1           0.0          1.0                    0.0                    0.0   \n",
              "2           0.0          1.0                    0.0                    0.0   \n",
              "3           0.0          1.0                    1.0                    0.0   \n",
              "4           0.0          1.0                    0.0                    0.0   \n",
              "\n",
              "   SaleCondition_Alloca  SaleCondition_Family  SaleCondition_Normal  \\\n",
              "0                   0.0                   0.0                   1.0   \n",
              "1                   0.0                   0.0                   1.0   \n",
              "2                   0.0                   0.0                   1.0   \n",
              "3                   0.0                   0.0                   0.0   \n",
              "4                   0.0                   0.0                   1.0   \n",
              "\n",
              "   SaleCondition_Partial  Saleprice  \n",
              "0                    0.0   208501.0  \n",
              "1                    0.0   181501.0  \n",
              "2                    0.0   223501.0  \n",
              "3                    0.0   140001.0  \n",
              "4                    0.0   250001.0  \n",
              "\n",
              "[5 rows x 380 columns]"
            ],
            "text/html": [
              "\n",
              "  <div id=\"df-9b2101e7-15bf-4e2a-a27e-afc90a98507f\">\n",
              "    <div class=\"colab-df-container\">\n",
              "      <div>\n",
              "<style scoped>\n",
              "    .dataframe tbody tr th:only-of-type {\n",
              "        vertical-align: middle;\n",
              "    }\n",
              "\n",
              "    .dataframe tbody tr th {\n",
              "        vertical-align: top;\n",
              "    }\n",
              "\n",
              "    .dataframe thead th {\n",
              "        text-align: right;\n",
              "    }\n",
              "</style>\n",
              "<table border=\"1\" class=\"dataframe\">\n",
              "  <thead>\n",
              "    <tr style=\"text-align: right;\">\n",
              "      <th></th>\n",
              "      <th>Id</th>\n",
              "      <th>LotFrontage</th>\n",
              "      <th>LotArea</th>\n",
              "      <th>OverallQual</th>\n",
              "      <th>OverallCond</th>\n",
              "      <th>YearBuilt</th>\n",
              "      <th>YearRemodAdd</th>\n",
              "      <th>MasVnrArea</th>\n",
              "      <th>BsmtFinSF1</th>\n",
              "      <th>BsmtFinSF2</th>\n",
              "      <th>...</th>\n",
              "      <th>SaleType_New</th>\n",
              "      <th>SaleType_Oth</th>\n",
              "      <th>SaleType_WD</th>\n",
              "      <th>SaleCondition_Abnorml</th>\n",
              "      <th>SaleCondition_AdjLand</th>\n",
              "      <th>SaleCondition_Alloca</th>\n",
              "      <th>SaleCondition_Family</th>\n",
              "      <th>SaleCondition_Normal</th>\n",
              "      <th>SaleCondition_Partial</th>\n",
              "      <th>Saleprice</th>\n",
              "    </tr>\n",
              "  </thead>\n",
              "  <tbody>\n",
              "    <tr>\n",
              "      <th>0</th>\n",
              "      <td>1</td>\n",
              "      <td>18.144573</td>\n",
              "      <td>13.833054</td>\n",
              "      <td>7</td>\n",
              "      <td>3.991517</td>\n",
              "      <td>2003</td>\n",
              "      <td>2003</td>\n",
              "      <td>19.433175</td>\n",
              "      <td>144.117862</td>\n",
              "      <td>0.0</td>\n",
              "      <td>...</td>\n",
              "      <td>0.0</td>\n",
              "      <td>0.0</td>\n",
              "      <td>1.0</td>\n",
              "      <td>0.0</td>\n",
              "      <td>0.0</td>\n",
              "      <td>0.0</td>\n",
              "      <td>0.0</td>\n",
              "      <td>1.0</td>\n",
              "      <td>0.0</td>\n",
              "      <td>208501.0</td>\n",
              "    </tr>\n",
              "    <tr>\n",
              "      <th>1</th>\n",
              "      <td>2</td>\n",
              "      <td>20.673625</td>\n",
              "      <td>14.117918</td>\n",
              "      <td>6</td>\n",
              "      <td>6.000033</td>\n",
              "      <td>1976</td>\n",
              "      <td>1976</td>\n",
              "      <td>54.598150</td>\n",
              "      <td>181.719186</td>\n",
              "      <td>0.0</td>\n",
              "      <td>...</td>\n",
              "      <td>0.0</td>\n",
              "      <td>0.0</td>\n",
              "      <td>1.0</td>\n",
              "      <td>0.0</td>\n",
              "      <td>0.0</td>\n",
              "      <td>0.0</td>\n",
              "      <td>0.0</td>\n",
              "      <td>1.0</td>\n",
              "      <td>0.0</td>\n",
              "      <td>181501.0</td>\n",
              "    </tr>\n",
              "    <tr>\n",
              "      <th>2</th>\n",
              "      <td>3</td>\n",
              "      <td>18.668047</td>\n",
              "      <td>14.476512</td>\n",
              "      <td>7</td>\n",
              "      <td>3.991517</td>\n",
              "      <td>2001</td>\n",
              "      <td>2002</td>\n",
              "      <td>17.768840</td>\n",
              "      <td>110.441033</td>\n",
              "      <td>0.0</td>\n",
              "      <td>...</td>\n",
              "      <td>0.0</td>\n",
              "      <td>0.0</td>\n",
              "      <td>1.0</td>\n",
              "      <td>0.0</td>\n",
              "      <td>0.0</td>\n",
              "      <td>0.0</td>\n",
              "      <td>0.0</td>\n",
              "      <td>1.0</td>\n",
              "      <td>0.0</td>\n",
              "      <td>223501.0</td>\n",
              "    </tr>\n",
              "    <tr>\n",
              "      <th>3</th>\n",
              "      <td>4</td>\n",
              "      <td>17.249651</td>\n",
              "      <td>14.106196</td>\n",
              "      <td>7</td>\n",
              "      <td>3.991517</td>\n",
              "      <td>1915</td>\n",
              "      <td>1970</td>\n",
              "      <td>54.598150</td>\n",
              "      <td>61.795315</td>\n",
              "      <td>0.0</td>\n",
              "      <td>...</td>\n",
              "      <td>0.0</td>\n",
              "      <td>0.0</td>\n",
              "      <td>1.0</td>\n",
              "      <td>1.0</td>\n",
              "      <td>0.0</td>\n",
              "      <td>0.0</td>\n",
              "      <td>0.0</td>\n",
              "      <td>0.0</td>\n",
              "      <td>0.0</td>\n",
              "      <td>140001.0</td>\n",
              "    </tr>\n",
              "    <tr>\n",
              "      <th>4</th>\n",
              "      <td>5</td>\n",
              "      <td>21.314283</td>\n",
              "      <td>15.022008</td>\n",
              "      <td>8</td>\n",
              "      <td>3.991517</td>\n",
              "      <td>2000</td>\n",
              "      <td>2000</td>\n",
              "      <td>25.404164</td>\n",
              "      <td>136.624601</td>\n",
              "      <td>0.0</td>\n",
              "      <td>...</td>\n",
              "      <td>0.0</td>\n",
              "      <td>0.0</td>\n",
              "      <td>1.0</td>\n",
              "      <td>0.0</td>\n",
              "      <td>0.0</td>\n",
              "      <td>0.0</td>\n",
              "      <td>0.0</td>\n",
              "      <td>1.0</td>\n",
              "      <td>0.0</td>\n",
              "      <td>250001.0</td>\n",
              "    </tr>\n",
              "  </tbody>\n",
              "</table>\n",
              "<p>5 rows × 380 columns</p>\n",
              "</div>\n",
              "      <button class=\"colab-df-convert\" onclick=\"convertToInteractive('df-9b2101e7-15bf-4e2a-a27e-afc90a98507f')\"\n",
              "              title=\"Convert this dataframe to an interactive table.\"\n",
              "              style=\"display:none;\">\n",
              "        \n",
              "  <svg xmlns=\"http://www.w3.org/2000/svg\" height=\"24px\"viewBox=\"0 0 24 24\"\n",
              "       width=\"24px\">\n",
              "    <path d=\"M0 0h24v24H0V0z\" fill=\"none\"/>\n",
              "    <path d=\"M18.56 5.44l.94 2.06.94-2.06 2.06-.94-2.06-.94-.94-2.06-.94 2.06-2.06.94zm-11 1L8.5 8.5l.94-2.06 2.06-.94-2.06-.94L8.5 2.5l-.94 2.06-2.06.94zm10 10l.94 2.06.94-2.06 2.06-.94-2.06-.94-.94-2.06-.94 2.06-2.06.94z\"/><path d=\"M17.41 7.96l-1.37-1.37c-.4-.4-.92-.59-1.43-.59-.52 0-1.04.2-1.43.59L10.3 9.45l-7.72 7.72c-.78.78-.78 2.05 0 2.83L4 21.41c.39.39.9.59 1.41.59.51 0 1.02-.2 1.41-.59l7.78-7.78 2.81-2.81c.8-.78.8-2.07 0-2.86zM5.41 20L4 18.59l7.72-7.72 1.47 1.35L5.41 20z\"/>\n",
              "  </svg>\n",
              "      </button>\n",
              "      \n",
              "  <style>\n",
              "    .colab-df-container {\n",
              "      display:flex;\n",
              "      flex-wrap:wrap;\n",
              "      gap: 12px;\n",
              "    }\n",
              "\n",
              "    .colab-df-convert {\n",
              "      background-color: #E8F0FE;\n",
              "      border: none;\n",
              "      border-radius: 50%;\n",
              "      cursor: pointer;\n",
              "      display: none;\n",
              "      fill: #1967D2;\n",
              "      height: 32px;\n",
              "      padding: 0 0 0 0;\n",
              "      width: 32px;\n",
              "    }\n",
              "\n",
              "    .colab-df-convert:hover {\n",
              "      background-color: #E2EBFA;\n",
              "      box-shadow: 0px 1px 2px rgba(60, 64, 67, 0.3), 0px 1px 3px 1px rgba(60, 64, 67, 0.15);\n",
              "      fill: #174EA6;\n",
              "    }\n",
              "\n",
              "    [theme=dark] .colab-df-convert {\n",
              "      background-color: #3B4455;\n",
              "      fill: #D2E3FC;\n",
              "    }\n",
              "\n",
              "    [theme=dark] .colab-df-convert:hover {\n",
              "      background-color: #434B5C;\n",
              "      box-shadow: 0px 1px 3px 1px rgba(0, 0, 0, 0.15);\n",
              "      filter: drop-shadow(0px 1px 2px rgba(0, 0, 0, 0.3));\n",
              "      fill: #FFFFFF;\n",
              "    }\n",
              "  </style>\n",
              "\n",
              "      <script>\n",
              "        const buttonEl =\n",
              "          document.querySelector('#df-9b2101e7-15bf-4e2a-a27e-afc90a98507f button.colab-df-convert');\n",
              "        buttonEl.style.display =\n",
              "          google.colab.kernel.accessAllowed ? 'block' : 'none';\n",
              "\n",
              "        async function convertToInteractive(key) {\n",
              "          const element = document.querySelector('#df-9b2101e7-15bf-4e2a-a27e-afc90a98507f');\n",
              "          const dataTable =\n",
              "            await google.colab.kernel.invokeFunction('convertToInteractive',\n",
              "                                                     [key], {});\n",
              "          if (!dataTable) return;\n",
              "\n",
              "          const docLinkHtml = 'Like what you see? Visit the ' +\n",
              "            '<a target=\"_blank\" href=https://colab.research.google.com/notebooks/data_table.ipynb>data table notebook</a>'\n",
              "            + ' to learn more about interactive tables.';\n",
              "          element.innerHTML = '';\n",
              "          dataTable['output_type'] = 'display_data';\n",
              "          await google.colab.output.renderOutput(dataTable, element);\n",
              "          const docLink = document.createElement('div');\n",
              "          docLink.innerHTML = docLinkHtml;\n",
              "          element.appendChild(docLink);\n",
              "        }\n",
              "      </script>\n",
              "    </div>\n",
              "  </div>\n",
              "  "
            ]
          },
          "metadata": {},
          "execution_count": 85
        }
      ],
      "source": [
        "df = pd.read_csv(\"./housing_train.csv\")\n",
        "\n",
        "df.head()"
      ]
    },
    {
      "cell_type": "code",
      "execution_count": 86,
      "metadata": {
        "id": "VtAIOu9KK5co",
        "outputId": "db4a565b-6569-4f0e-88cd-652608254891",
        "colab": {
          "base_uri": "https://localhost:8080/",
          "height": 447
        }
      },
      "outputs": [
        {
          "output_type": "execute_result",
          "data": {
            "text/plain": [
              "<Axes: ylabel='Frequency'>"
            ]
          },
          "metadata": {},
          "execution_count": 86
        },
        {
          "output_type": "display_data",
          "data": {
            "text/plain": [
              "<Figure size 640x480 with 1 Axes>"
            ],
            "image/png": "[encoded data removed]"
          },
          "metadata": {}
        }
      ],
      "source": [
        "df['Saleprice'].plot(kind=\"hist\")"
      ]
    },
    {
      "cell_type": "markdown",
      "metadata": {
        "id": "9vd2GaIHK5cp"
      },
      "source": [
        "Some minor data cleaning"
      ]
    },
    {
      "cell_type": "code",
      "execution_count": 87,
      "metadata": {
        "id": "J-bzFIloK5cq"
      },
      "outputs": [],
      "source": [
        "df['decade'] = df['YearBuilt'].apply(lambda x: str(x)[:3]) + \"0\"\n",
        "\n",
        "decades = pd.get_dummies(df.decade)\n",
        "\n",
        "decades.columns = [\"decade_\"+x for x in decades.columns]\n",
        "\n",
        "df = pd.concat([df,decades],axis=1)"
      ]
    },
    {
      "cell_type": "code",
      "source": [
        "df = df.dropna()"
      ],
      "metadata": {
        "id": "1-VeJDeZL0NF"
      },
      "execution_count": 88,
      "outputs": []
    },
    {
      "cell_type": "markdown",
      "metadata": {
        "id": "MvtVHJGSK5cr"
      },
      "source": [
        "How many features could we use to predict house prices?"
      ]
    },
    {
      "cell_type": "code",
      "execution_count": 89,
      "metadata": {
        "id": "xqPAAr2AK5cs",
        "outputId": "a94747bc-a789-4e30-d4e4-5047a4f6dbc9",
        "colab": {
          "base_uri": "https://localhost:8080/"
        }
      },
      "outputs": [
        {
          "output_type": "execute_result",
          "data": {
            "text/plain": [
              "390"
            ]
          },
          "metadata": {},
          "execution_count": 89
        }
      ],
      "source": [
        "features = list(df.columns)[1:5] + list(df.iloc[:,7:379].columns) + list(df.iloc[:,381:].columns)\n",
        "\n",
        "len(features)"
      ]
    },
    {
      "cell_type": "markdown",
      "metadata": {
        "id": "0-xBdbAAK5ct"
      },
      "source": [
        "Oof! Is there any way we could reduce this down a little bit?\n",
        "\n",
        "First let's scale the data."
      ]
    },
    {
      "cell_type": "code",
      "execution_count": 90,
      "metadata": {
        "id": "q11Bq3dzK5cv"
      },
      "outputs": [],
      "source": [
        "X = StandardScaler().fit_transform(df[features])\n",
        "\n",
        "y = StandardScaler().fit_transform(df[['Saleprice']])"
      ]
    },
    {
      "cell_type": "markdown",
      "metadata": {
        "id": "n5BfN_FGK5cx"
      },
      "source": [
        "Now let's instantiate a Lasso model. Recall that alpha here is how much we penalize large coefficients."
      ]
    },
    {
      "cell_type": "code",
      "execution_count": 92,
      "metadata": {
        "id": "IZwSHnOMK5c1"
      },
      "outputs": [],
      "source": [
        "from sklearn.linear_model import Lasso\n",
        "\n",
        "lasso_model = Lasso(alpha=.1)\n",
        "\n",
        "lasso_model = lasso_model.fit(y=y,X=X)"
      ]
    },
    {
      "cell_type": "markdown",
      "metadata": {
        "id": "SUBGkvrEK5c2"
      },
      "source": [
        "Now let's look at the coefficients:"
      ]
    },
    {
      "cell_type": "code",
      "execution_count": 93,
      "metadata": {
        "scrolled": true,
        "id": "tF_kaRruK5c3",
        "outputId": "41083c91-74dd-47e6-8b31-97d6c68ce389",
        "colab": {
          "base_uri": "https://localhost:8080/"
        }
      },
      "outputs": [
        {
          "output_type": "execute_result",
          "data": {
            "text/plain": [
              "array([ 0.        ,  0.06750831,  0.24537118,  0.        , -0.        ,\n",
              "       -0.        ,  0.        , -0.        ,  0.13228805,  0.        ,\n",
              "        0.00064547, -0.        ,  0.19043861,  0.        , -0.        ,\n",
              "        0.        ,  0.        , -0.        , -0.        ,  0.        ,\n",
              "        0.00621077,  0.        ,  0.        ,  0.0653992 ,  0.        ,\n",
              "        0.        , -0.        ,  0.        ,  0.        , -0.        ,\n",
              "       -0.        , -0.        , -0.        , -0.        ,  0.        ,\n",
              "       -0.        , -0.        , -0.        ,  0.05221773,  0.        ,\n",
              "        0.03317849,  0.        ,  0.0756655 ,  0.00214743, -0.        ,\n",
              "        0.        ,  0.        ,  0.        ,  0.        ,  0.        ,\n",
              "        0.        , -0.        , -0.        , -0.        ,  0.        ,\n",
              "        0.        ,  0.        ,  0.        , -0.        ,  0.        ,\n",
              "        0.        , -0.        ,  0.        ,  0.        , -0.        ,\n",
              "       -0.        ,  0.        ,  0.        ,  0.        ,  0.        ,\n",
              "        0.        ,  0.        , -0.        ,  0.        ,  0.        ,\n",
              "       -0.        , -0.        ,  0.        ,  0.        ,  0.        ,\n",
              "        0.        ,  0.        ,  0.        ,  0.        ,  0.        ,\n",
              "        0.04463623,  0.        , -0.        ,  0.        , -0.        ,\n",
              "        0.        , -0.        ,  0.        , -0.        , -0.        ,\n",
              "       -0.        , -0.        ,  0.        , -0.        ,  0.        ,\n",
              "       -0.        ,  0.        , -0.        , -0.        ,  0.        ,\n",
              "       -0.        ,  0.        , -0.        , -0.        ,  0.        ,\n",
              "       -0.        ,  0.        ,  0.        ,  0.        , -0.        ,\n",
              "       -0.        ,  0.        ,  0.        , -0.        , -0.        ,\n",
              "        0.        , -0.        , -0.        ,  0.        , -0.        ,\n",
              "        0.        ,  0.        , -0.        ,  0.        , -0.        ,\n",
              "       -0.        ,  0.        ,  0.        ,  0.        , -0.        ,\n",
              "       -0.        , -0.        ,  0.        , -0.        , -0.        ,\n",
              "       -0.        , -0.        ,  0.        ,  0.        , -0.        ,\n",
              "       -0.        , -0.        , -0.        ,  0.        ,  0.        ,\n",
              "       -0.        ,  0.        , -0.        , -0.        ,  0.        ,\n",
              "       -0.        ,  0.        , -0.        , -0.        , -0.        ,\n",
              "       -0.        , -0.        , -0.        ,  0.        ,  0.        ,\n",
              "        0.        ,  0.        ,  0.        ,  0.        ,  0.        ,\n",
              "       -0.        , -0.        , -0.        , -0.        , -0.        ,\n",
              "       -0.        , -0.        ,  0.        , -0.        ,  0.        ,\n",
              "        0.        , -0.        ,  0.        , -0.        ,  0.        ,\n",
              "        0.        , -0.        ,  0.        , -0.        ,  0.        ,\n",
              "        0.        ,  0.        , -0.        , -0.        ,  0.        ,\n",
              "       -0.        ,  0.        , -0.        ,  0.        ,  0.        ,\n",
              "        0.        , -0.        ,  0.        , -0.        , -0.        ,\n",
              "        0.        , -0.        ,  0.        , -0.        , -0.        ,\n",
              "       -0.        ,  0.        , -0.        ,  0.        ,  0.        ,\n",
              "        0.        , -0.        , -0.        , -0.        ,  0.        ,\n",
              "        0.        , -0.        , -0.        ,  0.        , -0.        ,\n",
              "       -0.        , -0.        ,  0.        , -0.        ,  0.        ,\n",
              "        0.00329544,  0.        ,  0.        , -0.03634412, -0.        ,\n",
              "       -0.        , -0.        ,  0.        ,  0.        , -0.        ,\n",
              "       -0.        ,  0.        , -0.        , -0.        , -0.        ,\n",
              "        0.07830395, -0.        ,  0.        , -0.        , -0.        ,\n",
              "       -0.        , -0.        , -0.        , -0.        ,  0.        ,\n",
              "        0.        ,  0.0119979 ,  0.        , -0.        , -0.        ,\n",
              "        0.        ,  0.        ,  0.        , -0.        , -0.        ,\n",
              "       -0.        ,  0.        , -0.        , -0.        , -0.        ,\n",
              "       -0.        , -0.        ,  0.        ,  0.        ,  0.        ,\n",
              "       -0.        , -0.        ,  0.        , -0.        ,  0.        ,\n",
              "        0.        , -0.        , -0.        , -0.        , -0.        ,\n",
              "        0.        , -0.        , -0.        , -0.        , -0.        ,\n",
              "        0.        ,  0.05838391, -0.        ,  0.        , -0.        ,\n",
              "       -0.        , -0.        , -0.        , -0.        , -0.        ,\n",
              "        0.        ,  0.        ,  0.        , -0.        ,  0.        ,\n",
              "       -0.        , -0.        ,  0.        , -0.        ,  0.        ,\n",
              "       -0.        ,  0.        , -0.        , -0.        , -0.        ,\n",
              "        0.        , -0.        ,  0.        , -0.        ,  0.        ,\n",
              "       -0.        ,  0.        , -0.        , -0.        ,  0.        ,\n",
              "        0.        , -0.        , -0.        , -0.        , -0.        ,\n",
              "        0.        , -0.        , -0.        ,  0.        , -0.        ,\n",
              "       -0.        , -0.        , -0.        ,  0.        ,  0.        ,\n",
              "        0.        ,  0.        , -0.        ,  0.        , -0.        ,\n",
              "       -0.        , -0.        ,  0.        , -0.        ,  0.        ,\n",
              "       -0.        ,  0.        ,  0.        ,  0.        ,  0.        ,\n",
              "       -0.        , -0.        ,  0.        , -0.        , -0.        ,\n",
              "       -0.        , -0.        , -0.        ,  0.        , -0.        ,\n",
              "        0.        , -0.        ,  0.        ,  0.        , -0.        ,\n",
              "       -0.        , -0.        , -0.        , -0.        , -0.        ,\n",
              "        0.        ,  0.        ,  0.        , -0.        , -0.        ,\n",
              "       -0.        , -0.        , -0.        , -0.        , -0.        ,\n",
              "       -0.        ,  0.        ,  0.        ,  0.        ,  0.        ])"
            ]
          },
          "metadata": {},
          "execution_count": 93
        }
      ],
      "source": [
        "lasso_model.coef_"
      ]
    },
    {
      "cell_type": "markdown",
      "metadata": {
        "id": "030IyscxK5c4"
      },
      "source": [
        "Notice that it has zeroed out a bunch of coefficients."
      ]
    },
    {
      "cell_type": "code",
      "execution_count": 94,
      "metadata": {
        "id": "5IxiZJWjK5c5",
        "outputId": "7c9be90e-6dc8-4593-d524-2eb7c7927907",
        "colab": {
          "base_uri": "https://localhost:8080/"
        }
      },
      "outputs": [
        {
          "output_type": "stream",
          "name": "stdout",
          "text": [
            "17\n"
          ]
        },
        {
          "output_type": "execute_result",
          "data": {
            "text/plain": [
              "Index(['LotArea', 'OverallQual', 'TotalBsmtSF', '2ndFlrSF', 'GrLivArea',\n",
              "       'Fireplaces', 'GarageArea', 'Total_Home_Quality', 'YrBltAndRemod',\n",
              "       'Total_Bathrooms', 'Total_porch_sf', 'GarageCars_log_sq',\n",
              "       'ExterQual_Ex', 'ExterQual_TA', 'BsmtQual_Ex', 'BsmtExposure_Gd',\n",
              "       'KitchenQual_Ex'],\n",
              "      dtype='object')"
            ]
          },
          "metadata": {},
          "execution_count": 94
        }
      ],
      "source": [
        "bool_ = lasso_model.coef_!=0\n",
        "print(sum(bool_))\n",
        "df[features].iloc[:,bool_].columns"
      ]
    },
    {
      "cell_type": "markdown",
      "metadata": {
        "id": "OfCTZLEAK5c5"
      },
      "source": [
        "So that's already an improvement! Here's what happen when we choose different values of alpha"
      ]
    },
    {
      "cell_type": "code",
      "execution_count": 95,
      "metadata": {
        "scrolled": true,
        "id": "J_OTs1KiK5c6",
        "outputId": "d2f710db-9c6f-4f0a-d0e0-560e63a1513e",
        "colab": {
          "base_uri": "https://localhost:8080/"
        }
      },
      "outputs": [
        {
          "output_type": "stream",
          "name": "stderr",
          "text": [
            "<ipython-input-95-09cde4858af5>:6: UserWarning: With alpha=0, this algorithm does not converge well. You are advised to use the LinearRegression estimator\n",
            "  lasso_model = lasso_model.fit(y=y,X=X)\n",
            "/usr/local/lib/python3.9/dist-packages/sklearn/linear_model/_coordinate_descent.py:631: UserWarning: Coordinate descent with no regularization may lead to unexpected results and is discouraged.\n",
            "  model = cd_fast.enet_coordinate_descent(\n",
            "/usr/local/lib/python3.9/dist-packages/sklearn/linear_model/_coordinate_descent.py:631: ConvergenceWarning: Objective did not converge. You might want to increase the number of iterations, check the scale of the features or consider increasing regularisation. Duality gap: 3.099e+01, tolerance: 5.980e-02 Linear regression models with null weight for the l1 regularization term are more efficiently fitted using one of the solvers implemented in sklearn.linear_model.Ridge/RidgeCV instead.\n",
            "  model = cd_fast.enet_coordinate_descent(\n"
          ]
        }
      ],
      "source": [
        "def get_coefs(alpha,features,target):\n",
        "    X = StandardScaler().fit_transform(df[features])\n",
        "    y = StandardScaler().fit_transform(df[target])\n",
        "    \n",
        "    lasso_model =Lasso(alpha=alpha)\n",
        "    lasso_model = lasso_model.fit(y=y,X=X)\n",
        "    \n",
        "    coefs = lasso_model.coef_\n",
        "    \n",
        "    return coefs\n",
        "\n",
        "Alpha = np.arange(0,1,.01)\n",
        "\n",
        "coef_lists = [list(get_coefs(a,df[features].iloc[:,bool_].columns,[\"Saleprice\"])) for a in Alpha]\n"
      ]
    },
    {
      "cell_type": "code",
      "execution_count": 96,
      "metadata": {
        "id": "lCaq9sZoK5c7",
        "outputId": "2a415620-bae2-4932-90b0-08201fe0e916",
        "colab": {
          "base_uri": "https://localhost:8080/",
          "height": 447
        }
      },
      "outputs": [
        {
          "output_type": "execute_result",
          "data": {
            "text/plain": [
              "<matplotlib.lines.Line2D at 0x7f5134877ee0>"
            ]
          },
          "metadata": {},
          "execution_count": 96
        },
        {
          "output_type": "display_data",
          "data": {
            "text/plain": [
              "<Figure size 640x480 with 1 Axes>"
            ],
            "image/png": "[encoded data removed]"
          },
          "metadata": {}
        }
      ],
      "source": [
        "Coefs = pd.DataFrame(coef_lists)\n",
        "\n",
        "Coefs.columns = df[features].iloc[:,bool_].columns\n",
        "Coefs.index=Alpha\n",
        "\n",
        "Coefs.plot(cmap=\"tab20\")\n",
        "plt.legend(loc=(1,0))\n",
        "plt.axhline(0,ls=\"--\",color=\"black\")"
      ]
    },
    {
      "cell_type": "markdown",
      "metadata": {
        "id": "ce_SThELK5c8"
      },
      "source": [
        "But how do we know we got the right value of alpha?\n",
        "\n",
        "One way is to choose them based on __prediction error__. Let's use cross validation!"
      ]
    },
    {
      "cell_type": "code",
      "execution_count": 97,
      "metadata": {
        "id": "lkz0iqQuK5c8",
        "outputId": "70d785fe-45fd-4f6a-8be3-5309d7e9057e",
        "colab": {
          "base_uri": "https://localhost:8080/"
        }
      },
      "outputs": [
        {
          "output_type": "stream",
          "name": "stdout",
          "text": [
            "alpha = .05, RMSE =0.44941091844216347\n",
            "alpha = .15, RMSE =0.5703163295409373\n"
          ]
        }
      ],
      "source": [
        "from sklearn.model_selection import train_test_split\n",
        "\n",
        "X_train, X_test, y_train, y_test = train_test_split(X, y, test_size=0.2, random_state=0)\n",
        "\n",
        "model = Lasso(alpha=.05).fit(X_train,y_train)\n",
        "\n",
        "y_hat = model.predict(X_test)\n",
        "\n",
        "rmse = ((y_hat - y_test[:,0])**2).mean()**.5\n",
        "print(\"alpha = .05, RMSE =\" + str(rmse)) \n",
        "\n",
        "model = Lasso(alpha=.15).fit(X_train,y_train)\n",
        "\n",
        "y_hat = model.predict(X_test)\n",
        "\n",
        "rmse = ((y_hat - y_test[:,0])**2).mean()**.5\n",
        "print(\"alpha = .15, RMSE =\" + str(rmse)) "
      ]
    },
    {
      "cell_type": "code",
      "execution_count": 98,
      "metadata": {
        "id": "Lnz69nbfK5c9"
      },
      "outputs": [],
      "source": [
        "def get_alpha_rmse(alpha):\n",
        "    X_train, X_test, y_train, y_test = train_test_split(X, y, test_size=0.2, random_state=0)\n",
        "    model = Lasso(alpha=alpha).fit(X_train,y_train)\n",
        "\n",
        "    y_hat = model.predict(X_test)\n",
        "\n",
        "    rmse = ((y_hat - y_test[:,0])**2).mean()\n",
        "    return rmse "
      ]
    },
    {
      "cell_type": "code",
      "execution_count": 99,
      "metadata": {
        "id": "0iMcNAQsK5c9",
        "outputId": "ee5a1c2f-4015-4d35-990e-4c3c8bd7e74d",
        "colab": {
          "base_uri": "https://localhost:8080/"
        }
      },
      "outputs": [
        {
          "output_type": "stream",
          "name": "stderr",
          "text": [
            "/usr/local/lib/python3.9/dist-packages/sklearn/linear_model/_coordinate_descent.py:631: ConvergenceWarning: Objective did not converge. You might want to increase the number of iterations, check the scale of the features or consider increasing regularisation. Duality gap: 2.631e+00, tolerance: 4.380e-02\n",
            "  model = cd_fast.enet_coordinate_descent(\n",
            "/usr/local/lib/python3.9/dist-packages/sklearn/linear_model/_coordinate_descent.py:631: ConvergenceWarning: Objective did not converge. You might want to increase the number of iterations, check the scale of the features or consider increasing regularisation. Duality gap: 7.803e-02, tolerance: 4.380e-02\n",
            "  model = cd_fast.enet_coordinate_descent(\n",
            "/usr/local/lib/python3.9/dist-packages/sklearn/linear_model/_coordinate_descent.py:631: ConvergenceWarning: Objective did not converge. You might want to increase the number of iterations, check the scale of the features or consider increasing regularisation. Duality gap: 4.483e-02, tolerance: 4.380e-02\n",
            "  model = cd_fast.enet_coordinate_descent(\n"
          ]
        }
      ],
      "source": [
        "A = np.arange(.0001,1,.001)\n",
        "\n",
        "rmses = [get_alpha_rmse(a) for a in A]"
      ]
    },
    {
      "cell_type": "code",
      "execution_count": 100,
      "metadata": {
        "id": "KR_zUMfJK5c-",
        "outputId": "a3f8ed17-07b7-4cba-b05e-d3a50a486ac7",
        "colab": {
          "base_uri": "https://localhost:8080/",
          "height": 447
        }
      },
      "outputs": [
        {
          "output_type": "execute_result",
          "data": {
            "text/plain": [
              "[<matplotlib.lines.Line2D at 0x7f5133bcee50>]"
            ]
          },
          "metadata": {},
          "execution_count": 100
        },
        {
          "output_type": "display_data",
          "data": {
            "text/plain": [
              "<Figure size 640x480 with 1 Axes>"
            ],
            "image/png": "[encoded data removed]"
          },
          "metadata": {}
        }
      ],
      "source": [
        "plt.plot(A,rmses)"
      ]
    },
    {
      "cell_type": "markdown",
      "metadata": {
        "id": "vUNvcx5OK5c-"
      },
      "source": [
        "So the lowest possible value is the best one.\n",
        "\n",
        "We could have done this easier with the `LassoCV` function, which will do it with K-folds:"
      ]
    },
    {
      "cell_type": "code",
      "execution_count": 101,
      "metadata": {
        "scrolled": true,
        "id": "MEK5TCSLK5c-",
        "outputId": "22401229-4a71-4ba6-8c94-3a8a1d79da06",
        "colab": {
          "base_uri": "https://localhost:8080/"
        }
      },
      "outputs": [
        {
          "output_type": "stream",
          "name": "stderr",
          "text": [
            "/usr/local/lib/python3.9/dist-packages/sklearn/linear_model/_coordinate_descent.py:1568: DataConversionWarning: A column-vector y was passed when a 1d array was expected. Please change the shape of y to (n_samples, ), for example using ravel().\n",
            "  y = column_or_1d(y, warn=True)\n",
            "/usr/local/lib/python3.9/dist-packages/sklearn/linear_model/_coordinate_descent.py:617: ConvergenceWarning: Objective did not converge. You might want to increase the number of iterations. Duality gap: 4.501407035877111, tolerance: 0.05362177791439129\n",
            "  model = cd_fast.enet_coordinate_descent_gram(\n",
            "/usr/local/lib/python3.9/dist-packages/sklearn/linear_model/_coordinate_descent.py:617: ConvergenceWarning: Objective did not converge. You might want to increase the number of iterations. Duality gap: 4.04588019128209, tolerance: 0.055900643852521574\n",
            "  model = cd_fast.enet_coordinate_descent_gram(\n",
            "/usr/local/lib/python3.9/dist-packages/sklearn/linear_model/_coordinate_descent.py:617: ConvergenceWarning: Objective did not converge. You might want to increase the number of iterations. Duality gap: 4.07394600708062, tolerance: 0.053630235942623505\n",
            "  model = cd_fast.enet_coordinate_descent_gram(\n",
            "/usr/local/lib/python3.9/dist-packages/sklearn/linear_model/_coordinate_descent.py:617: ConvergenceWarning: Objective did not converge. You might want to increase the number of iterations. Duality gap: 3.987601273394736, tolerance: 0.05331430207399433\n",
            "  model = cd_fast.enet_coordinate_descent_gram(\n",
            "/usr/local/lib/python3.9/dist-packages/sklearn/linear_model/_coordinate_descent.py:617: ConvergenceWarning: Objective did not converge. You might want to increase the number of iterations. Duality gap: 3.8848529156871177, tolerance: 0.05616653214917538\n",
            "  model = cd_fast.enet_coordinate_descent_gram(\n",
            "/usr/local/lib/python3.9/dist-packages/sklearn/linear_model/_coordinate_descent.py:617: ConvergenceWarning: Objective did not converge. You might want to increase the number of iterations. Duality gap: 4.34627223706608, tolerance: 0.0519323466371249\n",
            "  model = cd_fast.enet_coordinate_descent_gram(\n",
            "/usr/local/lib/python3.9/dist-packages/sklearn/linear_model/_coordinate_descent.py:617: ConvergenceWarning: Objective did not converge. You might want to increase the number of iterations. Duality gap: 4.527928175124607, tolerance: 0.05435719727293771\n",
            "  model = cd_fast.enet_coordinate_descent_gram(\n",
            "/usr/local/lib/python3.9/dist-packages/sklearn/linear_model/_coordinate_descent.py:617: ConvergenceWarning: Objective did not converge. You might want to increase the number of iterations. Duality gap: 0.0739091728413328, tolerance: 0.052397549714977974\n",
            "  model = cd_fast.enet_coordinate_descent_gram(\n",
            "/usr/local/lib/python3.9/dist-packages/sklearn/linear_model/_coordinate_descent.py:617: ConvergenceWarning: Objective did not converge. You might want to increase the number of iterations. Duality gap: 4.008197188827938, tolerance: 0.052397549714977974\n",
            "  model = cd_fast.enet_coordinate_descent_gram(\n",
            "/usr/local/lib/python3.9/dist-packages/sklearn/linear_model/_coordinate_descent.py:617: ConvergenceWarning: Objective did not converge. You might want to increase the number of iterations. Duality gap: 0.10111746209641126, tolerance: 0.05272612850390727\n",
            "  model = cd_fast.enet_coordinate_descent_gram(\n",
            "/usr/local/lib/python3.9/dist-packages/sklearn/linear_model/_coordinate_descent.py:617: ConvergenceWarning: Objective did not converge. You might want to increase the number of iterations. Duality gap: 3.9551401220597704, tolerance: 0.05272612850390727\n",
            "  model = cd_fast.enet_coordinate_descent_gram(\n",
            "/usr/local/lib/python3.9/dist-packages/sklearn/linear_model/_coordinate_descent.py:617: ConvergenceWarning: Objective did not converge. You might want to increase the number of iterations. Duality gap: 0.12022694899897601, tolerance: 0.054071606573008836\n",
            "  model = cd_fast.enet_coordinate_descent_gram(\n",
            "/usr/local/lib/python3.9/dist-packages/sklearn/linear_model/_coordinate_descent.py:617: ConvergenceWarning: Objective did not converge. You might want to increase the number of iterations. Duality gap: 3.265037029640151, tolerance: 0.054071606573008836\n",
            "  model = cd_fast.enet_coordinate_descent_gram(\n"
          ]
        }
      ],
      "source": [
        "from sklearn.linear_model import LassoCV\n",
        "\n",
        "Alpha = np.arange(0,1,.005)\n",
        "lasso_model = LassoCV(alphas=A,cv=10)\n",
        "\n",
        "lasso_model = lasso_model.fit(X,y)"
      ]
    },
    {
      "cell_type": "code",
      "execution_count": 102,
      "metadata": {
        "id": "8Cu1p3PHK5c_",
        "outputId": "af1738cd-9dd6-4700-e149-26da7540e260",
        "colab": {
          "base_uri": "https://localhost:8080/"
        }
      },
      "outputs": [
        {
          "output_type": "execute_result",
          "data": {
            "text/plain": [
              "(114, 0.0091)"
            ]
          },
          "metadata": {},
          "execution_count": 102
        }
      ],
      "source": [
        "(lasso_model.coef_!=0).sum(),  lasso_model.alpha_"
      ]
    },
    {
      "cell_type": "code",
      "source": [
        "df['y_hat_lasso'] = lasso_model.predict(X)"
      ],
      "metadata": {
        "id": "-K08vxVxTcN2"
      },
      "execution_count": 104,
      "outputs": []
    },
    {
      "cell_type": "code",
      "source": [
        "rmse_lasso = ((y[:,0] - df['y_hat_lasso'])**2).mean()**.5"
      ],
      "metadata": {
        "id": "tc8tLWyvT2FG"
      },
      "execution_count": 108,
      "outputs": []
    },
    {
      "cell_type": "markdown",
      "metadata": {
        "id": "c0oNVcNZK5dC"
      },
      "source": [
        "So it wanted to keep about half the variables, mainly because it picked a very small value of alpha. __What might we do in this case?__\n",
        "\n",
        "Suppose that we wanted to train an __Elastic Net__ to check these results."
      ]
    },
    {
      "cell_type": "code",
      "execution_count": 109,
      "metadata": {
        "scrolled": true,
        "id": "EB5dilHQK5dC",
        "outputId": "827402fb-7644-4b88-a53e-93ada5a4f8e8",
        "colab": {
          "base_uri": "https://localhost:8080/"
        }
      },
      "outputs": [
        {
          "output_type": "execute_result",
          "data": {
            "text/plain": [
              "array([ 0.        ,  0.        ,  0.19395279, -0.        , -0.        ,\n",
              "       -0.        , -0.        ,  0.        ,  0.08509996,  0.        ,\n",
              "        0.        , -0.        ,  0.06838225,  0.        , -0.        ,\n",
              "        0.        ,  0.        ,  0.        , -0.        ,  0.        ,\n",
              "        0.        ,  0.        ,  0.02270286,  0.05312769,  0.        ,\n",
              "        0.        , -0.        ,  0.        ,  0.        , -0.        ,\n",
              "       -0.        , -0.        , -0.        , -0.        ,  0.        ,\n",
              "       -0.        , -0.        , -0.        ,  0.03832446,  0.        ,\n",
              "        0.        ,  0.        ,  0.04979025,  0.        , -0.        ,\n",
              "        0.        ,  0.        ,  0.        ,  0.        ,  0.        ,\n",
              "        0.        , -0.        , -0.        , -0.        ,  0.        ,\n",
              "        0.        ,  0.        ,  0.        , -0.        ,  0.04613349,\n",
              "        0.        , -0.        ,  0.        ,  0.        , -0.        ,\n",
              "       -0.        ,  0.        ,  0.        ,  0.        ,  0.        ,\n",
              "        0.        ,  0.        , -0.        ,  0.        ,  0.        ,\n",
              "       -0.        , -0.        ,  0.        ,  0.        ,  0.        ,\n",
              "        0.        ,  0.01221726,  0.        ,  0.        ,  0.05647957,\n",
              "        0.04293842,  0.        , -0.        ,  0.        , -0.        ,\n",
              "       -0.        , -0.        ,  0.        , -0.        , -0.        ,\n",
              "       -0.        , -0.        ,  0.        , -0.        ,  0.        ,\n",
              "       -0.        , -0.        , -0.        , -0.        ,  0.        ,\n",
              "       -0.        ,  0.        , -0.        , -0.        ,  0.        ,\n",
              "       -0.        ,  0.        ,  0.        ,  0.        , -0.        ,\n",
              "       -0.        ,  0.        ,  0.        , -0.        , -0.        ,\n",
              "        0.        , -0.        , -0.        , -0.        , -0.        ,\n",
              "        0.        ,  0.        , -0.        ,  0.        , -0.        ,\n",
              "       -0.        ,  0.        ,  0.        ,  0.        , -0.        ,\n",
              "        0.        , -0.        , -0.        , -0.        , -0.        ,\n",
              "       -0.        , -0.        ,  0.        ,  0.        , -0.        ,\n",
              "       -0.        , -0.        ,  0.        ,  0.        ,  0.        ,\n",
              "        0.        ,  0.        , -0.        , -0.        ,  0.        ,\n",
              "       -0.        ,  0.        , -0.        , -0.        , -0.        ,\n",
              "       -0.        , -0.        , -0.        ,  0.        ,  0.        ,\n",
              "        0.        ,  0.        ,  0.        , -0.        ,  0.        ,\n",
              "       -0.        , -0.        , -0.        , -0.        , -0.        ,\n",
              "       -0.        , -0.        ,  0.        , -0.        ,  0.        ,\n",
              "       -0.        , -0.        ,  0.        , -0.        , -0.        ,\n",
              "        0.        , -0.        ,  0.        , -0.        ,  0.        ,\n",
              "        0.        ,  0.        ,  0.        ,  0.        ,  0.        ,\n",
              "       -0.        ,  0.        , -0.        ,  0.        ,  0.        ,\n",
              "        0.        , -0.        ,  0.        , -0.        ,  0.        ,\n",
              "        0.        , -0.        ,  0.        , -0.        , -0.        ,\n",
              "       -0.        , -0.        , -0.        ,  0.        ,  0.        ,\n",
              "        0.        , -0.        , -0.        , -0.        ,  0.        ,\n",
              "        0.        , -0.        , -0.        ,  0.        , -0.        ,\n",
              "       -0.        , -0.        ,  0.        , -0.        ,  0.        ,\n",
              "        0.        , -0.        ,  0.        , -0.01533578,  0.        ,\n",
              "       -0.        , -0.        , -0.        ,  0.        , -0.        ,\n",
              "       -0.        ,  0.        , -0.        , -0.        , -0.        ,\n",
              "        0.03704932, -0.        ,  0.        , -0.        , -0.        ,\n",
              "       -0.        , -0.        , -0.        , -0.        ,  0.        ,\n",
              "        0.        ,  0.        ,  0.        , -0.        , -0.        ,\n",
              "       -0.        , -0.        ,  0.        , -0.        , -0.        ,\n",
              "       -0.        ,  0.        , -0.        , -0.        , -0.        ,\n",
              "       -0.        , -0.        ,  0.        ,  0.        ,  0.        ,\n",
              "        0.        , -0.        ,  0.        , -0.        ,  0.        ,\n",
              "       -0.        , -0.        , -0.        , -0.        , -0.        ,\n",
              "        0.        , -0.        , -0.        , -0.        , -0.        ,\n",
              "        0.        ,  0.00419053, -0.        ,  0.        , -0.        ,\n",
              "       -0.        , -0.        , -0.        , -0.        , -0.        ,\n",
              "        0.        ,  0.        ,  0.        , -0.        ,  0.        ,\n",
              "       -0.        , -0.        ,  0.        , -0.        ,  0.        ,\n",
              "       -0.        ,  0.        , -0.        , -0.        , -0.        ,\n",
              "        0.        , -0.        ,  0.        , -0.        ,  0.        ,\n",
              "       -0.        ,  0.        , -0.        , -0.        ,  0.        ,\n",
              "       -0.        , -0.        , -0.        , -0.        , -0.        ,\n",
              "        0.        , -0.        , -0.        ,  0.        , -0.        ,\n",
              "       -0.        , -0.        , -0.        ,  0.        ,  0.        ,\n",
              "        0.        ,  0.        , -0.        ,  0.        , -0.        ,\n",
              "       -0.        , -0.        ,  0.        , -0.        ,  0.        ,\n",
              "       -0.        , -0.        , -0.        ,  0.        ,  0.        ,\n",
              "        0.        , -0.        ,  0.        , -0.        , -0.        ,\n",
              "       -0.        , -0.        , -0.        ,  0.        , -0.        ,\n",
              "        0.        , -0.        ,  0.        ,  0.        , -0.        ,\n",
              "       -0.        , -0.        , -0.        , -0.        , -0.        ,\n",
              "        0.        ,  0.        ,  0.        , -0.        , -0.        ,\n",
              "       -0.        , -0.        , -0.        , -0.        , -0.        ,\n",
              "       -0.        ,  0.        ,  0.        ,  0.        ,  0.        ])"
            ]
          },
          "metadata": {},
          "execution_count": 109
        }
      ],
      "source": [
        "model = ElasticNet(alpha=.5,l1_ratio=.5)\n",
        "model = model.fit(X,y)\n",
        "model.coef_"
      ]
    },
    {
      "cell_type": "markdown",
      "metadata": {
        "id": "uYUiwmEfK5dE"
      },
      "source": [
        "How do we choose two parameters at once?\n",
        "\n",
        "This is where we can us `GridSearchCV`:"
      ]
    },
    {
      "cell_type": "markdown",
      "metadata": {
        "id": "hDoUkJDcK5dF"
      },
      "source": [
        "To tell it how we want to search, I need to supply a dictionary with the gridspace."
      ]
    },
    {
      "cell_type": "code",
      "execution_count": 110,
      "metadata": {
        "id": "6G4RMwphK5dH"
      },
      "outputs": [],
      "source": [
        "param_grid ={\"alpha\":np.arange(0,1.1,.025),\"l1_ratio\":np.arange(0,1.1,.1)}\n",
        "model = GridSearchCV(ElasticNet(),param_grid,n_jobs=6) # Notice I can parallelize it!\n",
        "model = model.fit(X,y)"
      ]
    },
    {
      "cell_type": "code",
      "execution_count": 111,
      "metadata": {
        "id": "eIZrMnKkK5dI",
        "outputId": "5b96e012-da0d-418c-d994-b017b621878d",
        "colab": {
          "base_uri": "https://localhost:8080/",
          "height": 74
        }
      },
      "outputs": [
        {
          "output_type": "execute_result",
          "data": {
            "text/plain": [
              "ElasticNet(alpha=0.1, l1_ratio=0.1)"
            ],
            "text/html": [
              "<style>#sk-container-id-6 {color: black;background-color: white;}#sk-container-id-6 pre{padding: 0;}#sk-container-id-6 div.sk-toggleable {background-color: white;}#sk-container-id-6 label.sk-toggleable__label {cursor: pointer;display: block;width: 100%;margin-bottom: 0;padding: 0.3em;box-sizing: border-box;text-align: center;}#sk-container-id-6 label.sk-toggleable__label-arrow:before {content: \"▸\";float: left;margin-right: 0.25em;color: #696969;}#sk-container-id-6 label.sk-toggleable__label-arrow:hover:before {color: black;}#sk-container-id-6 div.sk-estimator:hover label.sk-toggleable__label-arrow:before {color: black;}#sk-container-id-6 div.sk-toggleable__content {max-height: 0;max-width: 0;overflow: hidden;text-align: left;background-color: #f0f8ff;}#sk-container-id-6 div.sk-toggleable__content pre {margin: 0.2em;color: black;border-radius: 0.25em;background-color: #f0f8ff;}#sk-container-id-6 input.sk-toggleable__control:checked~div.sk-toggleable__content {max-height: 200px;max-width: 100%;overflow: auto;}#sk-container-id-6 input.sk-toggleable__control:checked~label.sk-toggleable__label-arrow:before {content: \"▾\";}#sk-container-id-6 div.sk-estimator input.sk-toggleable__control:checked~label.sk-toggleable__label {background-color: #d4ebff;}#sk-container-id-6 div.sk-label input.sk-toggleable__control:checked~label.sk-toggleable__label {background-color: #d4ebff;}#sk-container-id-6 input.sk-hidden--visually {border: 0;clip: rect(1px 1px 1px 1px);clip: rect(1px, 1px, 1px, 1px);height: 1px;margin: -1px;overflow: hidden;padding: 0;position: absolute;width: 1px;}#sk-container-id-6 div.sk-estimator {font-family: monospace;background-color: #f0f8ff;border: 1px dotted black;border-radius: 0.25em;box-sizing: border-box;margin-bottom: 0.5em;}#sk-container-id-6 div.sk-estimator:hover {background-color: #d4ebff;}#sk-container-id-6 div.sk-parallel-item::after {content: \"\";width: 100%;border-bottom: 1px solid gray;flex-grow: 1;}#sk-container-id-6 div.sk-label:hover label.sk-toggleable__label {background-color: #d4ebff;}#sk-container-id-6 div.sk-serial::before {content: \"\";position: absolute;border-left: 1px solid gray;box-sizing: border-box;top: 0;bottom: 0;left: 50%;z-index: 0;}#sk-container-id-6 div.sk-serial {display: flex;flex-direction: column;align-items: center;background-color: white;padding-right: 0.2em;padding-left: 0.2em;position: relative;}#sk-container-id-6 div.sk-item {position: relative;z-index: 1;}#sk-container-id-6 div.sk-parallel {display: flex;align-items: stretch;justify-content: center;background-color: white;position: relative;}#sk-container-id-6 div.sk-item::before, #sk-container-id-6 div.sk-parallel-item::before {content: \"\";position: absolute;border-left: 1px solid gray;box-sizing: border-box;top: 0;bottom: 0;left: 50%;z-index: -1;}#sk-container-id-6 div.sk-parallel-item {display: flex;flex-direction: column;z-index: 1;position: relative;background-color: white;}#sk-container-id-6 div.sk-parallel-item:first-child::after {align-self: flex-end;width: 50%;}#sk-container-id-6 div.sk-parallel-item:last-child::after {align-self: flex-start;width: 50%;}#sk-container-id-6 div.sk-parallel-item:only-child::after {width: 0;}#sk-container-id-6 div.sk-dashed-wrapped {border: 1px dashed gray;margin: 0 0.4em 0.5em 0.4em;box-sizing: border-box;padding-bottom: 0.4em;background-color: white;}#sk-container-id-6 div.sk-label label {font-family: monospace;font-weight: bold;display: inline-block;line-height: 1.2em;}#sk-container-id-6 div.sk-label-container {text-align: center;}#sk-container-id-6 div.sk-container {/* jupyter's `normalize.less` sets `[hidden] { display: none; }` but bootstrap.min.css set `[hidden] { display: none !important; }` so we also need the `!important` here to be able to override the default hidden behavior on the sphinx rendered scikit-learn.org. See: https://github.com/scikit-learn/scikit-learn/issues/21755 */display: inline-block !important;position: relative;}#sk-container-id-6 div.sk-text-repr-fallback {display: none;}</style><div id=\"sk-container-id-6\" class=\"sk-top-container\"><div class=\"sk-text-repr-fallback\"><pre>ElasticNet(alpha=0.1, l1_ratio=0.1)</pre><b>In a Jupyter environment, please rerun this cell to show the HTML representation or trust the notebook. <br />On GitHub, the HTML representation is unable to render, please try loading this page with nbviewer.org.</b></div><div class=\"sk-container\" hidden><div class=\"sk-item\"><div class=\"sk-estimator sk-toggleable\"><input class=\"sk-toggleable__control sk-hidden--visually\" id=\"sk-estimator-id-10\" type=\"checkbox\" checked><label for=\"sk-estimator-id-10\" class=\"sk-toggleable__label sk-toggleable__label-arrow\">ElasticNet</label><div class=\"sk-toggleable__content\"><pre>ElasticNet(alpha=0.1, l1_ratio=0.1)</pre></div></div></div></div></div>"
            ]
          },
          "metadata": {},
          "execution_count": 111
        }
      ],
      "source": [
        "model.best_estimator_"
      ]
    },
    {
      "cell_type": "markdown",
      "metadata": {
        "id": "nYUEfB1uK5dK"
      },
      "source": [
        "So now it tells us that the best estimator has an alpha of .025 and a mixing parameter of 0.4"
      ]
    },
    {
      "cell_type": "code",
      "execution_count": 112,
      "metadata": {
        "id": "4uDoA-JsK5dL"
      },
      "outputs": [],
      "source": [
        "best_coefs = model.best_estimator_.coef_"
      ]
    },
    {
      "cell_type": "code",
      "execution_count": 113,
      "metadata": {
        "id": "69pdomspK5dM",
        "outputId": "1f421f14-22b8-43d6-96b9-1e64eb42ace7",
        "colab": {
          "base_uri": "https://localhost:8080/"
        }
      },
      "outputs": [
        {
          "output_type": "execute_result",
          "data": {
            "text/plain": [
              "136"
            ]
          },
          "metadata": {},
          "execution_count": 113
        }
      ],
      "source": [
        "(best_coefs!=0).sum()"
      ]
    },
    {
      "cell_type": "code",
      "source": [
        "df['y_hat_elast'] = model.predict(X)"
      ],
      "metadata": {
        "id": "7h7pPzruSipa"
      },
      "execution_count": 114,
      "outputs": []
    },
    {
      "cell_type": "markdown",
      "metadata": {
        "id": "WEYVk3OUK5dM"
      },
      "source": [
        "Still around 100 variables, so probably ok for prediction (but not great for variable selection!)\n",
        "\n",
        "RMSE is:"
      ]
    },
    {
      "cell_type": "code",
      "source": [
        "rmse_elast = ((y[:,0] - df['y_hat_elast'])**2).mean()**.5\n",
        "rmse_elast"
      ],
      "metadata": {
        "id": "fWFwvkMHSyyR",
        "outputId": "1fe72bad-7691-4a19-ea54-bf475220ee8a",
        "colab": {
          "base_uri": "https://localhost:8080/"
        }
      },
      "execution_count": 115,
      "outputs": [
        {
          "output_type": "execute_result",
          "data": {
            "text/plain": [
              "0.2433237942330312"
            ]
          },
          "metadata": {},
          "execution_count": 115
        }
      ]
    },
    {
      "cell_type": "markdown",
      "metadata": {
        "id": "MP7WNkJeK5dN"
      },
      "source": [
        "Predicting on the test set:"
      ]
    },
    {
      "cell_type": "code",
      "execution_count": 37,
      "metadata": {
        "id": "RCTPF9TBK5dO",
        "outputId": "37d62ca3-182e-429c-bca9-2e8858395509",
        "colab": {
          "base_uri": "https://localhost:8080/",
          "height": 381
        }
      },
      "outputs": [
        {
          "output_type": "error",
          "ename": "FileNotFoundError",
          "evalue": "ignored",
          "traceback": [
            "\u001b[0;31m---------------------------------------------------------------------------\u001b[0m",
            "\u001b[0;31mFileNotFoundError\u001b[0m                         Traceback (most recent call last)",
            "\u001b[0;32m<ipython-input-37-67ceedd8cba3>\u001b[0m in \u001b[0;36m<cell line: 1>\u001b[0;34m()\u001b[0m\n\u001b[0;32m----> 1\u001b[0;31m \u001b[0mtest\u001b[0m \u001b[0;34m=\u001b[0m \u001b[0mpd\u001b[0m\u001b[0;34m.\u001b[0m\u001b[0mread_csv\u001b[0m\u001b[0;34m(\u001b[0m\u001b[0mdata_dir\u001b[0m\u001b[0;34m+\u001b[0m\u001b[0;34m\"housing_test.csv\"\u001b[0m\u001b[0;34m)\u001b[0m\u001b[0;34m\u001b[0m\u001b[0;34m\u001b[0m\u001b[0m\n\u001b[0m\u001b[1;32m      2\u001b[0m \u001b[0;34m\u001b[0m\u001b[0m\n\u001b[1;32m      3\u001b[0m \u001b[0mtest\u001b[0m\u001b[0;34m[\u001b[0m\u001b[0;34m'decade'\u001b[0m\u001b[0;34m]\u001b[0m \u001b[0;34m=\u001b[0m \u001b[0mtest\u001b[0m\u001b[0;34m[\u001b[0m\u001b[0;34m'YearBuilt'\u001b[0m\u001b[0;34m]\u001b[0m\u001b[0;34m.\u001b[0m\u001b[0mapply\u001b[0m\u001b[0;34m(\u001b[0m\u001b[0;32mlambda\u001b[0m \u001b[0mx\u001b[0m\u001b[0;34m:\u001b[0m \u001b[0mstr\u001b[0m\u001b[0;34m(\u001b[0m\u001b[0mx\u001b[0m\u001b[0;34m)\u001b[0m\u001b[0;34m[\u001b[0m\u001b[0;34m:\u001b[0m\u001b[0;36m3\u001b[0m\u001b[0;34m]\u001b[0m\u001b[0;34m)\u001b[0m \u001b[0;34m+\u001b[0m \u001b[0;34m\"0\"\u001b[0m\u001b[0;34m\u001b[0m\u001b[0;34m\u001b[0m\u001b[0m\n\u001b[1;32m      4\u001b[0m \u001b[0;34m\u001b[0m\u001b[0m\n\u001b[1;32m      5\u001b[0m \u001b[0mdecades\u001b[0m \u001b[0;34m=\u001b[0m \u001b[0mpd\u001b[0m\u001b[0;34m.\u001b[0m\u001b[0mget_dummies\u001b[0m\u001b[0;34m(\u001b[0m\u001b[0mtest\u001b[0m\u001b[0;34m.\u001b[0m\u001b[0mdecade\u001b[0m\u001b[0;34m)\u001b[0m\u001b[0;34m\u001b[0m\u001b[0;34m\u001b[0m\u001b[0m\n",
            "\u001b[0;32m/usr/local/lib/python3.9/dist-packages/pandas/util/_decorators.py\u001b[0m in \u001b[0;36mwrapper\u001b[0;34m(*args, **kwargs)\u001b[0m\n\u001b[1;32m    209\u001b[0m                 \u001b[0;32melse\u001b[0m\u001b[0;34m:\u001b[0m\u001b[0;34m\u001b[0m\u001b[0;34m\u001b[0m\u001b[0m\n\u001b[1;32m    210\u001b[0m                     \u001b[0mkwargs\u001b[0m\u001b[0;34m[\u001b[0m\u001b[0mnew_arg_name\u001b[0m\u001b[0;34m]\u001b[0m \u001b[0;34m=\u001b[0m \u001b[0mnew_arg_value\u001b[0m\u001b[0;34m\u001b[0m\u001b[0;34m\u001b[0m\u001b[0m\n\u001b[0;32m--> 211\u001b[0;31m             \u001b[0;32mreturn\u001b[0m \u001b[0mfunc\u001b[0m\u001b[0;34m(\u001b[0m\u001b[0;34m*\u001b[0m\u001b[0margs\u001b[0m\u001b[0;34m,\u001b[0m \u001b[0;34m**\u001b[0m\u001b[0mkwargs\u001b[0m\u001b[0;34m)\u001b[0m\u001b[0;34m\u001b[0m\u001b[0;34m\u001b[0m\u001b[0m\n\u001b[0m\u001b[1;32m    212\u001b[0m \u001b[0;34m\u001b[0m\u001b[0m\n\u001b[1;32m    213\u001b[0m         \u001b[0;32mreturn\u001b[0m \u001b[0mcast\u001b[0m\u001b[0;34m(\u001b[0m\u001b[0mF\u001b[0m\u001b[0;34m,\u001b[0m \u001b[0mwrapper\u001b[0m\u001b[0;34m)\u001b[0m\u001b[0;34m\u001b[0m\u001b[0;34m\u001b[0m\u001b[0m\n",
            "\u001b[0;32m/usr/local/lib/python3.9/dist-packages/pandas/util/_decorators.py\u001b[0m in \u001b[0;36mwrapper\u001b[0;34m(*args, **kwargs)\u001b[0m\n\u001b[1;32m    329\u001b[0m                     \u001b[0mstacklevel\u001b[0m\u001b[0;34m=\u001b[0m\u001b[0mfind_stack_level\u001b[0m\u001b[0;34m(\u001b[0m\u001b[0;34m)\u001b[0m\u001b[0;34m,\u001b[0m\u001b[0;34m\u001b[0m\u001b[0;34m\u001b[0m\u001b[0m\n\u001b[1;32m    330\u001b[0m                 )\n\u001b[0;32m--> 331\u001b[0;31m             \u001b[0;32mreturn\u001b[0m \u001b[0mfunc\u001b[0m\u001b[0;34m(\u001b[0m\u001b[0;34m*\u001b[0m\u001b[0margs\u001b[0m\u001b[0;34m,\u001b[0m \u001b[0;34m**\u001b[0m\u001b[0mkwargs\u001b[0m\u001b[0;34m)\u001b[0m\u001b[0;34m\u001b[0m\u001b[0;34m\u001b[0m\u001b[0m\n\u001b[0m\u001b[1;32m    332\u001b[0m \u001b[0;34m\u001b[0m\u001b[0m\n\u001b[1;32m    333\u001b[0m         \u001b[0;31m# error: \"Callable[[VarArg(Any), KwArg(Any)], Any]\" has no\u001b[0m\u001b[0;34m\u001b[0m\u001b[0;34m\u001b[0m\u001b[0m\n",
            "\u001b[0;32m/usr/local/lib/python3.9/dist-packages/pandas/io/parsers/readers.py\u001b[0m in \u001b[0;36mread_csv\u001b[0;34m(filepath_or_buffer, sep, delimiter, header, names, index_col, usecols, squeeze, prefix, mangle_dupe_cols, dtype, engine, converters, true_values, false_values, skipinitialspace, skiprows, skipfooter, nrows, na_values, keep_default_na, na_filter, verbose, skip_blank_lines, parse_dates, infer_datetime_format, keep_date_col, date_parser, dayfirst, cache_dates, iterator, chunksize, compression, thousands, decimal, lineterminator, quotechar, quoting, doublequote, escapechar, comment, encoding, encoding_errors, dialect, error_bad_lines, warn_bad_lines, on_bad_lines, delim_whitespace, low_memory, memory_map, float_precision, storage_options)\u001b[0m\n\u001b[1;32m    948\u001b[0m     \u001b[0mkwds\u001b[0m\u001b[0;34m.\u001b[0m\u001b[0mupdate\u001b[0m\u001b[0;34m(\u001b[0m\u001b[0mkwds_defaults\u001b[0m\u001b[0;34m)\u001b[0m\u001b[0;34m\u001b[0m\u001b[0;34m\u001b[0m\u001b[0m\n\u001b[1;32m    949\u001b[0m \u001b[0;34m\u001b[0m\u001b[0m\n\u001b[0;32m--> 950\u001b[0;31m     \u001b[0;32mreturn\u001b[0m \u001b[0m_read\u001b[0m\u001b[0;34m(\u001b[0m\u001b[0mfilepath_or_buffer\u001b[0m\u001b[0;34m,\u001b[0m \u001b[0mkwds\u001b[0m\u001b[0;34m)\u001b[0m\u001b[0;34m\u001b[0m\u001b[0;34m\u001b[0m\u001b[0m\n\u001b[0m\u001b[1;32m    951\u001b[0m \u001b[0;34m\u001b[0m\u001b[0m\n\u001b[1;32m    952\u001b[0m \u001b[0;34m\u001b[0m\u001b[0m\n",
            "\u001b[0;32m/usr/local/lib/python3.9/dist-packages/pandas/io/parsers/readers.py\u001b[0m in \u001b[0;36m_read\u001b[0;34m(filepath_or_buffer, kwds)\u001b[0m\n\u001b[1;32m    603\u001b[0m \u001b[0;34m\u001b[0m\u001b[0m\n\u001b[1;32m    604\u001b[0m     \u001b[0;31m# Create the parser.\u001b[0m\u001b[0;34m\u001b[0m\u001b[0;34m\u001b[0m\u001b[0m\n\u001b[0;32m--> 605\u001b[0;31m     \u001b[0mparser\u001b[0m \u001b[0;34m=\u001b[0m \u001b[0mTextFileReader\u001b[0m\u001b[0;34m(\u001b[0m\u001b[0mfilepath_or_buffer\u001b[0m\u001b[0;34m,\u001b[0m \u001b[0;34m**\u001b[0m\u001b[0mkwds\u001b[0m\u001b[0;34m)\u001b[0m\u001b[0;34m\u001b[0m\u001b[0;34m\u001b[0m\u001b[0m\n\u001b[0m\u001b[1;32m    606\u001b[0m \u001b[0;34m\u001b[0m\u001b[0m\n\u001b[1;32m    607\u001b[0m     \u001b[0;32mif\u001b[0m \u001b[0mchunksize\u001b[0m \u001b[0;32mor\u001b[0m \u001b[0miterator\u001b[0m\u001b[0;34m:\u001b[0m\u001b[0;34m\u001b[0m\u001b[0;34m\u001b[0m\u001b[0m\n",
            "\u001b[0;32m/usr/local/lib/python3.9/dist-packages/pandas/io/parsers/readers.py\u001b[0m in \u001b[0;36m__init__\u001b[0;34m(self, f, engine, **kwds)\u001b[0m\n\u001b[1;32m   1440\u001b[0m \u001b[0;34m\u001b[0m\u001b[0m\n\u001b[1;32m   1441\u001b[0m         \u001b[0mself\u001b[0m\u001b[0;34m.\u001b[0m\u001b[0mhandles\u001b[0m\u001b[0;34m:\u001b[0m \u001b[0mIOHandles\u001b[0m \u001b[0;34m|\u001b[0m \u001b[0;32mNone\u001b[0m \u001b[0;34m=\u001b[0m \u001b[0;32mNone\u001b[0m\u001b[0;34m\u001b[0m\u001b[0;34m\u001b[0m\u001b[0m\n\u001b[0;32m-> 1442\u001b[0;31m         \u001b[0mself\u001b[0m\u001b[0;34m.\u001b[0m\u001b[0m_engine\u001b[0m \u001b[0;34m=\u001b[0m \u001b[0mself\u001b[0m\u001b[0;34m.\u001b[0m\u001b[0m_make_engine\u001b[0m\u001b[0;34m(\u001b[0m\u001b[0mf\u001b[0m\u001b[0;34m,\u001b[0m \u001b[0mself\u001b[0m\u001b[0;34m.\u001b[0m\u001b[0mengine\u001b[0m\u001b[0;34m)\u001b[0m\u001b[0;34m\u001b[0m\u001b[0;34m\u001b[0m\u001b[0m\n\u001b[0m\u001b[1;32m   1443\u001b[0m \u001b[0;34m\u001b[0m\u001b[0m\n\u001b[1;32m   1444\u001b[0m     \u001b[0;32mdef\u001b[0m \u001b[0mclose\u001b[0m\u001b[0;34m(\u001b[0m\u001b[0mself\u001b[0m\u001b[0;34m)\u001b[0m \u001b[0;34m->\u001b[0m \u001b[0;32mNone\u001b[0m\u001b[0;34m:\u001b[0m\u001b[0;34m\u001b[0m\u001b[0;34m\u001b[0m\u001b[0m\n",
            "\u001b[0;32m/usr/local/lib/python3.9/dist-packages/pandas/io/parsers/readers.py\u001b[0m in \u001b[0;36m_make_engine\u001b[0;34m(self, f, engine)\u001b[0m\n\u001b[1;32m   1733\u001b[0m                 \u001b[0;32mif\u001b[0m \u001b[0;34m\"b\"\u001b[0m \u001b[0;32mnot\u001b[0m \u001b[0;32min\u001b[0m \u001b[0mmode\u001b[0m\u001b[0;34m:\u001b[0m\u001b[0;34m\u001b[0m\u001b[0;34m\u001b[0m\u001b[0m\n\u001b[1;32m   1734\u001b[0m                     \u001b[0mmode\u001b[0m \u001b[0;34m+=\u001b[0m \u001b[0;34m\"b\"\u001b[0m\u001b[0;34m\u001b[0m\u001b[0;34m\u001b[0m\u001b[0m\n\u001b[0;32m-> 1735\u001b[0;31m             self.handles = get_handle(\n\u001b[0m\u001b[1;32m   1736\u001b[0m                 \u001b[0mf\u001b[0m\u001b[0;34m,\u001b[0m\u001b[0;34m\u001b[0m\u001b[0;34m\u001b[0m\u001b[0m\n\u001b[1;32m   1737\u001b[0m                 \u001b[0mmode\u001b[0m\u001b[0;34m,\u001b[0m\u001b[0;34m\u001b[0m\u001b[0;34m\u001b[0m\u001b[0m\n",
            "\u001b[0;32m/usr/local/lib/python3.9/dist-packages/pandas/io/common.py\u001b[0m in \u001b[0;36mget_handle\u001b[0;34m(path_or_buf, mode, encoding, compression, memory_map, is_text, errors, storage_options)\u001b[0m\n\u001b[1;32m    854\u001b[0m         \u001b[0;32mif\u001b[0m \u001b[0mioargs\u001b[0m\u001b[0;34m.\u001b[0m\u001b[0mencoding\u001b[0m \u001b[0;32mand\u001b[0m \u001b[0;34m\"b\"\u001b[0m \u001b[0;32mnot\u001b[0m \u001b[0;32min\u001b[0m \u001b[0mioargs\u001b[0m\u001b[0;34m.\u001b[0m\u001b[0mmode\u001b[0m\u001b[0;34m:\u001b[0m\u001b[0;34m\u001b[0m\u001b[0;34m\u001b[0m\u001b[0m\n\u001b[1;32m    855\u001b[0m             \u001b[0;31m# Encoding\u001b[0m\u001b[0;34m\u001b[0m\u001b[0;34m\u001b[0m\u001b[0m\n\u001b[0;32m--> 856\u001b[0;31m             handle = open(\n\u001b[0m\u001b[1;32m    857\u001b[0m                 \u001b[0mhandle\u001b[0m\u001b[0;34m,\u001b[0m\u001b[0;34m\u001b[0m\u001b[0;34m\u001b[0m\u001b[0m\n\u001b[1;32m    858\u001b[0m                 \u001b[0mioargs\u001b[0m\u001b[0;34m.\u001b[0m\u001b[0mmode\u001b[0m\u001b[0;34m,\u001b[0m\u001b[0;34m\u001b[0m\u001b[0;34m\u001b[0m\u001b[0m\n",
            "\u001b[0;31mFileNotFoundError\u001b[0m: [Errno 2] No such file or directory: 'C:/Users/jhtchns2/Box/ACE 592 SAE Spring 2022/Class Examples/4_Analysis/housing_test.csv'"
          ]
        }
      ],
      "source": [
        "test = pd.read_csv(data_dir+\"housing_test.csv\")\n",
        "\n",
        "test['decade'] = test['YearBuilt'].apply(lambda x: str(x)[:3]) + \"0\"\n",
        "\n",
        "decades = pd.get_dummies(test.decade)\n",
        "\n",
        "decades.columns = [\"decade_\"+x for x in decades.columns]\n",
        "\n",
        "test = pd.concat([test,decades],axis=1)"
      ]
    },
    {
      "cell_type": "code",
      "execution_count": null,
      "metadata": {
        "id": "Dfd8YPP7K5dO"
      },
      "outputs": [],
      "source": [
        "X_test = StandardScaler().fit_transform(test[features])"
      ]
    },
    {
      "cell_type": "code",
      "execution_count": null,
      "metadata": {
        "id": "AHEbDYyFK5dO",
        "outputId": "bb81dc7c-e40d-4aee-9939-799b0db85792"
      },
      "outputs": [
        {
          "data": {
            "text/plain": [
              "<matplotlib.legend.Legend at 0x21fd0800910>"
            ]
          },
          "execution_count": 31,
          "metadata": {},
          "output_type": "execute_result"
        },
        {
          "data": {
            "image/png": "[encoded data removed]",
            "text/plain": [
              "<Figure size 432x288 with 1 Axes>"
            ]
          },
          "metadata": {
            "needs_background": "light"
          },
          "output_type": "display_data"
        }
      ],
      "source": [
        "pd.Series(model.predict(X_test)).plot(kind=\"hist\",label=\"Prediction with Test\")\n",
        "pd.Series(y[:,0]).plot(kind=\"hist\",color=\"C3\",alpha=.5,bins=14,label=\"Training Target\")\n",
        "plt.legend()"
      ]
    },
    {
      "cell_type": "markdown",
      "metadata": {
        "id": "m3MB-UiSK5dP"
      },
      "source": [
        "## 2. Random Forest\n",
        "\n",
        "Continuing with the home price data we were looking at.\n",
        "\n",
        "I'll use a reduced number of features from our LASSO example:"
      ]
    },
    {
      "cell_type": "code",
      "execution_count": 38,
      "metadata": {
        "id": "RLfRyyvhK5dQ"
      },
      "outputs": [],
      "source": [
        "features = ['LotArea', 'OverallQual', 'TotalBsmtSF', '2ndFlrSF', 'GrLivArea',\n",
        "               'Fireplaces', 'GarageArea', 'Total_Home_Quality', 'TotalSF',\n",
        "               'YrBltAndRemod', 'Total_Bathrooms', 'GarageCars_log_sq',\n",
        "               'Neighborhood_NoRidge', 'ExterQual_Ex', 'ExterQual_TA', 'BsmtQual_Ex',\n",
        "               'BsmtExposure_Gd', 'KitchenQual_Ex']"
      ]
    },
    {
      "cell_type": "code",
      "execution_count": 39,
      "metadata": {
        "id": "q2ZQuVISK5dQ"
      },
      "outputs": [],
      "source": [
        "X = StandardScaler().fit_transform(df[features])\n",
        "\n",
        "y = StandardScaler().fit_transform(df[['Saleprice']])"
      ]
    },
    {
      "cell_type": "markdown",
      "metadata": {
        "id": "yhKwsSY_K5dR"
      },
      "source": [
        "Now let's specify a smallish grid to search over:"
      ]
    },
    {
      "cell_type": "code",
      "execution_count": 40,
      "metadata": {
        "id": "5FYya3c7K5dR"
      },
      "outputs": [],
      "source": [
        "number_trees = np.arange(200,2000,20)\n",
        "max_depth = np.arange(10,110,10)\n",
        "min_samples_leaf = [1, 2, 4]\n",
        "\n",
        "random_grid = {'n_estimators': number_trees,\n",
        "               'max_depth': max_depth,\n",
        "               'min_samples_leaf': min_samples_leaf,\n",
        "               'bootstrap': [True,False]}"
      ]
    },
    {
      "cell_type": "markdown",
      "metadata": {
        "id": "worE78E6K5dS"
      },
      "source": [
        "Now I'll instantiate a new model object:"
      ]
    },
    {
      "cell_type": "code",
      "execution_count": 41,
      "metadata": {
        "id": "u1LGLyUJK5dc"
      },
      "outputs": [],
      "source": [
        "rf = RandomForestRegressor()"
      ]
    },
    {
      "cell_type": "markdown",
      "metadata": {
        "id": "YvRvXUr8K5dd"
      },
      "source": [
        "While we could still use `GridSearch`, I'll use `RandomizedSearchCV` which will do it faster (since it does it randomly) at the expense of possibly not landing on the global min."
      ]
    },
    {
      "cell_type": "code",
      "execution_count": 42,
      "metadata": {
        "id": "uGgP-lGSK5dd",
        "outputId": "928f85be-963c-4c8c-b6fc-bb5939ca1322",
        "colab": {
          "base_uri": "https://localhost:8080/",
          "height": 152
        }
      },
      "outputs": [
        {
          "output_type": "stream",
          "name": "stderr",
          "text": [
            "/usr/local/lib/python3.9/dist-packages/sklearn/model_selection/_search.py:909: DataConversionWarning: A column-vector y was passed when a 1d array was expected. Please change the shape of y to (n_samples,), for example using ravel().\n",
            "  self.best_estimator_.fit(X, y, **fit_params)\n"
          ]
        },
        {
          "output_type": "execute_result",
          "data": {
            "text/plain": [
              "RandomizedSearchCV(estimator=RandomForestRegressor(), n_iter=20, n_jobs=-1,\n",
              "                   param_distributions={'bootstrap': [True, False],\n",
              "                                        'max_depth': array([ 10,  20,  30,  40,  50,  60,  70,  80,  90, 100]),\n",
              "                                        'min_samples_leaf': [1, 2, 4],\n",
              "                                        'n_estimators': array([ 200,  220,  240,  260,  280,  300,  320,  340,  360,  380,  400,\n",
              "        420,  440,  460,  480,  500,  520,  540,  560,  580,  600,  620,\n",
              "        640,  660,  680,  700,  720,  740,  760,  780,  800,  820,  840,\n",
              "        860,  880,  900,  920,  940,  960,  980, 1000, 1020, 1040, 1060,\n",
              "       1080, 1100, 1120, 1140, 1160, 1180, 1200, 1220, 1240, 1260, 1280,\n",
              "       1300, 1320, 1340, 1360, 1380, 1400, 1420, 1440, 1460, 1480, 1500,\n",
              "       1520, 1540, 1560, 1580, 1600, 1620, 1640, 1660, 1680, 1700, 1720,\n",
              "       1740, 1760, 1780, 1800, 1820, 1840, 1860, 1880, 1900, 1920, 1940,\n",
              "       1960, 1980])},\n",
              "                   random_state=40)"
            ],
            "text/html": [
              "<style>#sk-container-id-4 {color: black;background-color: white;}#sk-container-id-4 pre{padding: 0;}#sk-container-id-4 div.sk-toggleable {background-color: white;}#sk-container-id-4 label.sk-toggleable__label {cursor: pointer;display: block;width: 100%;margin-bottom: 0;padding: 0.3em;box-sizing: border-box;text-align: center;}#sk-container-id-4 label.sk-toggleable__label-arrow:before {content: \"▸\";float: left;margin-right: 0.25em;color: #696969;}#sk-container-id-4 label.sk-toggleable__label-arrow:hover:before {color: black;}#sk-container-id-4 div.sk-estimator:hover label.sk-toggleable__label-arrow:before {color: black;}#sk-container-id-4 div.sk-toggleable__content {max-height: 0;max-width: 0;overflow: hidden;text-align: left;background-color: #f0f8ff;}#sk-container-id-4 div.sk-toggleable__content pre {margin: 0.2em;color: black;border-radius: 0.25em;background-color: #f0f8ff;}#sk-container-id-4 input.sk-toggleable__control:checked~div.sk-toggleable__content {max-height: 200px;max-width: 100%;overflow: auto;}#sk-container-id-4 input.sk-toggleable__control:checked~label.sk-toggleable__label-arrow:before {content: \"▾\";}#sk-container-id-4 div.sk-estimator input.sk-toggleable__control:checked~label.sk-toggleable__label {background-color: #d4ebff;}#sk-container-id-4 div.sk-label input.sk-toggleable__control:checked~label.sk-toggleable__label {background-color: #d4ebff;}#sk-container-id-4 input.sk-hidden--visually {border: 0;clip: rect(1px 1px 1px 1px);clip: rect(1px, 1px, 1px, 1px);height: 1px;margin: -1px;overflow: hidden;padding: 0;position: absolute;width: 1px;}#sk-container-id-4 div.sk-estimator {font-family: monospace;background-color: #f0f8ff;border: 1px dotted black;border-radius: 0.25em;box-sizing: border-box;margin-bottom: 0.5em;}#sk-container-id-4 div.sk-estimator:hover {background-color: #d4ebff;}#sk-container-id-4 div.sk-parallel-item::after {content: \"\";width: 100%;border-bottom: 1px solid gray;flex-grow: 1;}#sk-container-id-4 div.sk-label:hover label.sk-toggleable__label {background-color: #d4ebff;}#sk-container-id-4 div.sk-serial::before {content: \"\";position: absolute;border-left: 1px solid gray;box-sizing: border-box;top: 0;bottom: 0;left: 50%;z-index: 0;}#sk-container-id-4 div.sk-serial {display: flex;flex-direction: column;align-items: center;background-color: white;padding-right: 0.2em;padding-left: 0.2em;position: relative;}#sk-container-id-4 div.sk-item {position: relative;z-index: 1;}#sk-container-id-4 div.sk-parallel {display: flex;align-items: stretch;justify-content: center;background-color: white;position: relative;}#sk-container-id-4 div.sk-item::before, #sk-container-id-4 div.sk-parallel-item::before {content: \"\";position: absolute;border-left: 1px solid gray;box-sizing: border-box;top: 0;bottom: 0;left: 50%;z-index: -1;}#sk-container-id-4 div.sk-parallel-item {display: flex;flex-direction: column;z-index: 1;position: relative;background-color: white;}#sk-container-id-4 div.sk-parallel-item:first-child::after {align-self: flex-end;width: 50%;}#sk-container-id-4 div.sk-parallel-item:last-child::after {align-self: flex-start;width: 50%;}#sk-container-id-4 div.sk-parallel-item:only-child::after {width: 0;}#sk-container-id-4 div.sk-dashed-wrapped {border: 1px dashed gray;margin: 0 0.4em 0.5em 0.4em;box-sizing: border-box;padding-bottom: 0.4em;background-color: white;}#sk-container-id-4 div.sk-label label {font-family: monospace;font-weight: bold;display: inline-block;line-height: 1.2em;}#sk-container-id-4 div.sk-label-container {text-align: center;}#sk-container-id-4 div.sk-container {/* jupyter's `normalize.less` sets `[hidden] { display: none; }` but bootstrap.min.css set `[hidden] { display: none !important; }` so we also need the `!important` here to be able to override the default hidden behavior on the sphinx rendered scikit-learn.org. See: https://github.com/scikit-learn/scikit-learn/issues/21755 */display: inline-block !important;position: relative;}#sk-container-id-4 div.sk-text-repr-fallback {display: none;}</style><div id=\"sk-container-id-4\" class=\"sk-top-container\"><div class=\"sk-text-repr-fallback\"><pre>RandomizedSearchCV(estimator=RandomForestRegressor(), n_iter=20, n_jobs=-1,\n",
              "                   param_distributions={&#x27;bootstrap&#x27;: [True, False],\n",
              "                                        &#x27;max_depth&#x27;: array([ 10,  20,  30,  40,  50,  60,  70,  80,  90, 100]),\n",
              "                                        &#x27;min_samples_leaf&#x27;: [1, 2, 4],\n",
              "                                        &#x27;n_estimators&#x27;: array([ 200,  220,  240,  260,  280,  300,  320,  340,  360,  380,  400,\n",
              "        420,  440,  460,  480,  500,  520,  540,  560,  580,  600,  620,\n",
              "        640,  660,  680,  700,  720,  740,  760,  780,  800,  820,  840,\n",
              "        860,  880,  900,  920,  940,  960,  980, 1000, 1020, 1040, 1060,\n",
              "       1080, 1100, 1120, 1140, 1160, 1180, 1200, 1220, 1240, 1260, 1280,\n",
              "       1300, 1320, 1340, 1360, 1380, 1400, 1420, 1440, 1460, 1480, 1500,\n",
              "       1520, 1540, 1560, 1580, 1600, 1620, 1640, 1660, 1680, 1700, 1720,\n",
              "       1740, 1760, 1780, 1800, 1820, 1840, 1860, 1880, 1900, 1920, 1940,\n",
              "       1960, 1980])},\n",
              "                   random_state=40)</pre><b>In a Jupyter environment, please rerun this cell to show the HTML representation or trust the notebook. <br />On GitHub, the HTML representation is unable to render, please try loading this page with nbviewer.org.</b></div><div class=\"sk-container\" hidden><div class=\"sk-item sk-dashed-wrapped\"><div class=\"sk-label-container\"><div class=\"sk-label sk-toggleable\"><input class=\"sk-toggleable__control sk-hidden--visually\" id=\"sk-estimator-id-6\" type=\"checkbox\" ><label for=\"sk-estimator-id-6\" class=\"sk-toggleable__label sk-toggleable__label-arrow\">RandomizedSearchCV</label><div class=\"sk-toggleable__content\"><pre>RandomizedSearchCV(estimator=RandomForestRegressor(), n_iter=20, n_jobs=-1,\n",
              "                   param_distributions={&#x27;bootstrap&#x27;: [True, False],\n",
              "                                        &#x27;max_depth&#x27;: array([ 10,  20,  30,  40,  50,  60,  70,  80,  90, 100]),\n",
              "                                        &#x27;min_samples_leaf&#x27;: [1, 2, 4],\n",
              "                                        &#x27;n_estimators&#x27;: array([ 200,  220,  240,  260,  280,  300,  320,  340,  360,  380,  400,\n",
              "        420,  440,  460,  480,  500,  520,  540,  560,  580,  600,  620,\n",
              "        640,  660,  680,  700,  720,  740,  760,  780,  800,  820,  840,\n",
              "        860,  880,  900,  920,  940,  960,  980, 1000, 1020, 1040, 1060,\n",
              "       1080, 1100, 1120, 1140, 1160, 1180, 1200, 1220, 1240, 1260, 1280,\n",
              "       1300, 1320, 1340, 1360, 1380, 1400, 1420, 1440, 1460, 1480, 1500,\n",
              "       1520, 1540, 1560, 1580, 1600, 1620, 1640, 1660, 1680, 1700, 1720,\n",
              "       1740, 1760, 1780, 1800, 1820, 1840, 1860, 1880, 1900, 1920, 1940,\n",
              "       1960, 1980])},\n",
              "                   random_state=40)</pre></div></div></div><div class=\"sk-parallel\"><div class=\"sk-parallel-item\"><div class=\"sk-item\"><div class=\"sk-label-container\"><div class=\"sk-label sk-toggleable\"><input class=\"sk-toggleable__control sk-hidden--visually\" id=\"sk-estimator-id-7\" type=\"checkbox\" ><label for=\"sk-estimator-id-7\" class=\"sk-toggleable__label sk-toggleable__label-arrow\">estimator: RandomForestRegressor</label><div class=\"sk-toggleable__content\"><pre>RandomForestRegressor()</pre></div></div></div><div class=\"sk-serial\"><div class=\"sk-item\"><div class=\"sk-estimator sk-toggleable\"><input class=\"sk-toggleable__control sk-hidden--visually\" id=\"sk-estimator-id-8\" type=\"checkbox\" ><label for=\"sk-estimator-id-8\" class=\"sk-toggleable__label sk-toggleable__label-arrow\">RandomForestRegressor</label><div class=\"sk-toggleable__content\"><pre>RandomForestRegressor()</pre></div></div></div></div></div></div></div></div></div></div>"
            ]
          },
          "metadata": {},
          "execution_count": 42
        }
      ],
      "source": [
        "rf_random = RandomizedSearchCV(rf,random_grid,n_iter=20,n_jobs=-1,random_state=40)\n",
        "\n",
        "rf_random.fit(X,y)"
      ]
    },
    {
      "cell_type": "code",
      "execution_count": 43,
      "metadata": {
        "id": "wSmVEmVVK5de",
        "outputId": "83758573-2524-4412-f3d6-df8f2055f8e3",
        "colab": {
          "base_uri": "https://localhost:8080/"
        }
      },
      "outputs": [
        {
          "output_type": "execute_result",
          "data": {
            "text/plain": [
              "{'n_estimators': 1420,\n",
              " 'min_samples_leaf': 2,\n",
              " 'max_depth': 50,\n",
              " 'bootstrap': True}"
            ]
          },
          "metadata": {},
          "execution_count": 43
        }
      ],
      "source": [
        "rf_random.best_params_"
      ]
    },
    {
      "cell_type": "markdown",
      "metadata": {
        "id": "2LFf6pQpK5de"
      },
      "source": [
        "Now let's see how it looks:"
      ]
    },
    {
      "cell_type": "code",
      "execution_count": 45,
      "metadata": {
        "id": "4e_hzZq7K5df",
        "outputId": "f4b1ae7d-e934-4e56-da50-0e04e3953440",
        "colab": {
          "base_uri": "https://localhost:8080/"
        }
      },
      "outputs": [
        {
          "output_type": "stream",
          "name": "stderr",
          "text": [
            "<ipython-input-45-ef1422d236f2>:1: SettingWithCopyWarning: \n",
            "A value is trying to be set on a copy of a slice from a DataFrame.\n",
            "Try using .loc[row_indexer,col_indexer] = value instead\n",
            "\n",
            "See the caveats in the documentation: https://pandas.pydata.org/pandas-docs/stable/user_guide/indexing.html#returning-a-view-versus-a-copy\n",
            "  df['y_hat_rf'] = rf_random.predict(X)\n"
          ]
        }
      ],
      "source": [
        "df['y_hat_rf'] = rf_random.predict(X)"
      ]
    },
    {
      "cell_type": "code",
      "execution_count": 46,
      "metadata": {
        "id": "ifXMvklDK5df",
        "outputId": "b35404ce-b927-404b-dab9-46f644506c83",
        "colab": {
          "base_uri": "https://localhost:8080/"
        }
      },
      "outputs": [
        {
          "output_type": "execute_result",
          "data": {
            "text/plain": [
              "0      0.303722\n",
              "1     -0.090930\n",
              "2      0.517320\n",
              "3     -0.300461\n",
              "4      1.190737\n",
              "         ...   \n",
              "593   -0.815241\n",
              "594    1.684939\n",
              "595   -0.821620\n",
              "596    0.128714\n",
              "597    0.222350\n",
              "Name: y_hat_rf, Length: 598, dtype: float64"
            ]
          },
          "metadata": {},
          "execution_count": 46
        }
      ],
      "source": [
        "df['y_hat_rf']"
      ]
    },
    {
      "cell_type": "code",
      "execution_count": 47,
      "metadata": {
        "id": "AskhJLFoK5df",
        "outputId": "4d69415b-82bc-465d-c36f-e5ab322f420b",
        "colab": {
          "base_uri": "https://localhost:8080/"
        }
      },
      "outputs": [
        {
          "output_type": "stream",
          "name": "stderr",
          "text": [
            "<ipython-input-47-db313f1b0dc4>:1: SettingWithCopyWarning: \n",
            "A value is trying to be set on a copy of a slice from a DataFrame.\n",
            "Try using .loc[row_indexer,col_indexer] = value instead\n",
            "\n",
            "See the caveats in the documentation: https://pandas.pydata.org/pandas-docs/stable/user_guide/indexing.html#returning-a-view-versus-a-copy\n",
            "  df['y'] = y\n"
          ]
        }
      ],
      "source": [
        "df['y'] = y"
      ]
    },
    {
      "cell_type": "code",
      "execution_count": 54,
      "metadata": {
        "id": "DGHoXgDuK5dg",
        "outputId": "a5a7ce29-bb1f-4eee-cd67-ce188807dcc4",
        "colab": {
          "base_uri": "https://localhost:8080/",
          "height": 467
        }
      },
      "outputs": [
        {
          "output_type": "execute_result",
          "data": {
            "text/plain": [
              "[<matplotlib.lines.Line2D at 0x7f51465255e0>]"
            ]
          },
          "metadata": {},
          "execution_count": 54
        },
        {
          "output_type": "display_data",
          "data": {
            "text/plain": [
              "<Figure size 640x480 with 1 Axes>"
            ],
            "image/png": "[encoded data removed]"
          },
          "metadata": {}
        }
      ],
      "source": [
        "df[['y','y_hat_rf']].plot(kind='scatter',y=\"y\",x='y_hat_rf',alpha=.35)\n",
        "plt.plot(np.linspace(-2,7,10),np.linspace(-2,7,10),color=\"black\",ls=\"--\")"
      ]
    },
    {
      "cell_type": "code",
      "execution_count": 52,
      "metadata": {
        "id": "ufN5887mK5dg"
      },
      "outputs": [],
      "source": [
        "rmse_rf = ((df['y']-df['y_hat_rf'])**2).mean()**.5"
      ]
    },
    {
      "cell_type": "markdown",
      "metadata": {
        "id": "WMi6fA-cK5dh"
      },
      "source": [
        "Where is it predicting the worst?\n",
        "\n",
        "Is this good or bad?"
      ]
    },
    {
      "cell_type": "markdown",
      "metadata": {
        "id": "z-ckjRajK5dh"
      },
      "source": [
        "Let's look at some test data:"
      ]
    },
    {
      "cell_type": "code",
      "execution_count": 55,
      "metadata": {
        "id": "3LcDLJRGK5di",
        "outputId": "5188a2df-01e2-48dd-8f73-0e9ac123cca7",
        "colab": {
          "base_uri": "https://localhost:8080/",
          "height": 166
        }
      },
      "outputs": [
        {
          "output_type": "error",
          "ename": "NameError",
          "evalue": "ignored",
          "traceback": [
            "\u001b[0;31m---------------------------------------------------------------------------\u001b[0m",
            "\u001b[0;31mNameError\u001b[0m                                 Traceback (most recent call last)",
            "\u001b[0;32m<ipython-input-55-2b10f15e5c98>\u001b[0m in \u001b[0;36m<cell line: 1>\u001b[0;34m()\u001b[0m\n\u001b[0;32m----> 1\u001b[0;31m \u001b[0mX_test\u001b[0m \u001b[0;34m=\u001b[0m \u001b[0mtest\u001b[0m\u001b[0;34m[\u001b[0m\u001b[0mfeatures\u001b[0m\u001b[0;34m]\u001b[0m\u001b[0;34m.\u001b[0m\u001b[0mvalues\u001b[0m\u001b[0;34m\u001b[0m\u001b[0;34m\u001b[0m\u001b[0m\n\u001b[0m",
            "\u001b[0;31mNameError\u001b[0m: name 'test' is not defined"
          ]
        }
      ],
      "source": [
        "X_test = test[features].values"
      ]
    },
    {
      "cell_type": "code",
      "execution_count": null,
      "metadata": {
        "id": "DwYtsb8_K5dj"
      },
      "outputs": [],
      "source": [
        "test['sale_price_pred'] = rf_random.predict(X_test)"
      ]
    },
    {
      "cell_type": "code",
      "execution_count": null,
      "metadata": {
        "id": "Sdj-Ii6NK5dj",
        "outputId": "87881383-4823-4969-9acd-c0f41718d8f4"
      },
      "outputs": [
        {
          "data": {
            "text/plain": [
              "<AxesSubplot:ylabel='Frequency'>"
            ]
          },
          "execution_count": 25,
          "metadata": {},
          "output_type": "execute_result"
        },
        {
          "data": {
            "image/png": "[encoded data removed]",
            "text/plain": [
              "<Figure size 432x288 with 1 Axes>"
            ]
          },
          "metadata": {
            "needs_background": "light"
          },
          "output_type": "display_data"
        }
      ],
      "source": [
        "test.sale_price_pred.plot(kind=\"hist\",bins=30,alpha=.3)\n",
        "df['y'].plot(kind=\"hist\",bins=40,color='C3',alpha=.3)"
      ]
    },
    {
      "cell_type": "markdown",
      "metadata": {
        "id": "dyNeEiIDK5dj"
      },
      "source": [
        "Luckily, they look quite similar."
      ]
    },
    {
      "cell_type": "code",
      "execution_count": null,
      "metadata": {
        "id": "DuOus7dJK5dl"
      },
      "outputs": [],
      "source": [
        "test[['sale_price_pred']].to_csv(\"rf_prices.csv\",index=False)"
      ]
    },
    {
      "cell_type": "markdown",
      "metadata": {
        "id": "ZH4tzcRzK5dm"
      },
      "source": [
        "## 3. DNN Example\n",
        "\n",
        "Using our housing example, let's estimate a DNN and compare it to the results of the Random Forest.\n",
        "\n",
        "This example borrows heavily from:\n",
        "\n",
        "https://colab.research.google.com/github/tensorflow/docs/blob/master/site/en/tutorials/keras/regression.ipynb#scrollTo=F0qutYAKwoda"
      ]
    },
    {
      "cell_type": "markdown",
      "metadata": {
        "id": "1Q-CDKWjK5dn"
      },
      "source": [
        "In the Tensorflow package, we can add a preprocessing step into the network itself:"
      ]
    },
    {
      "cell_type": "code",
      "execution_count": 56,
      "metadata": {
        "id": "HRlrTEv3K5dn"
      },
      "outputs": [],
      "source": [
        "normalizer = preprocessing.Normalization()\n",
        "\n",
        "normalizer.adapt(X)"
      ]
    },
    {
      "cell_type": "markdown",
      "metadata": {
        "id": "WLr5v6tsK5do"
      },
      "source": [
        "In the given code, they made a nice function that will build a two hidden layer, 64 neuron network given a normalization object."
      ]
    },
    {
      "cell_type": "code",
      "execution_count": 57,
      "metadata": {
        "id": "t4YfQzuQK5dp"
      },
      "outputs": [],
      "source": [
        "def build_and_compile_model(norm):\n",
        "    model = keras.Sequential([\n",
        "              norm,\n",
        "              layers.Dense(64, activation='relu'),\n",
        "              layers.Dense(64, activation='relu'),\n",
        "              layers.Dense(1) # Notice this one only has one neuron, so it is the output layer.\n",
        "              ])\n",
        "\n",
        "    model.compile(loss='mean_absolute_error',\n",
        "                optimizer=tf.keras.optimizers.Adam(0.001))\n",
        "    return model"
      ]
    },
    {
      "cell_type": "code",
      "execution_count": 58,
      "metadata": {
        "id": "KSi7vYhnK5dr",
        "outputId": "cb552c8e-e1f0-4d04-8cce-d76bdc656bfc",
        "colab": {
          "base_uri": "https://localhost:8080/"
        }
      },
      "outputs": [
        {
          "output_type": "stream",
          "name": "stdout",
          "text": [
            "Model: \"sequential\"\n",
            "_________________________________________________________________\n",
            " Layer (type)                Output Shape              Param #   \n",
            "=================================================================\n",
            " normalization (Normalizatio  (None, 18)               37        \n",
            " n)                                                              \n",
            "                                                                 \n",
            " dense (Dense)               (None, 64)                1216      \n",
            "                                                                 \n",
            " dense_1 (Dense)             (None, 64)                4160      \n",
            "                                                                 \n",
            " dense_2 (Dense)             (None, 1)                 65        \n",
            "                                                                 \n",
            "=================================================================\n",
            "Total params: 5,478\n",
            "Trainable params: 5,441\n",
            "Non-trainable params: 37\n",
            "_________________________________________________________________\n"
          ]
        }
      ],
      "source": [
        "model = build_and_compile_model(normalizer)\n",
        "\n",
        "model.summary()"
      ]
    },
    {
      "cell_type": "markdown",
      "metadata": {
        "id": "4ili7r9mK5ds"
      },
      "source": [
        "There are 5k parameters to train!"
      ]
    },
    {
      "cell_type": "code",
      "execution_count": 59,
      "metadata": {
        "id": "lO5aS18vK5ds"
      },
      "outputs": [],
      "source": [
        "runs = model.fit(X,y,validation_split=0.2,\n",
        "                    verbose=0, epochs=1000)"
      ]
    },
    {
      "cell_type": "code",
      "execution_count": 60,
      "metadata": {
        "id": "g1Ns8W7hK5ds",
        "outputId": "b39cf58b-466f-4516-be66-fc94559ba6c1",
        "colab": {
          "base_uri": "https://localhost:8080/",
          "height": 447
        }
      },
      "outputs": [
        {
          "output_type": "execute_result",
          "data": {
            "text/plain": [
              "[<matplotlib.lines.Line2D at 0x7f51465022b0>]"
            ]
          },
          "metadata": {},
          "execution_count": 60
        },
        {
          "output_type": "display_data",
          "data": {
            "text/plain": [
              "<Figure size 640x480 with 1 Axes>"
            ],
            "image/png": "[encoded data removed]"
          },
          "metadata": {}
        }
      ],
      "source": [
        "plt.plot(runs.history['loss'])"
      ]
    },
    {
      "cell_type": "code",
      "execution_count": 61,
      "metadata": {
        "id": "O_Td9f-qK5ds",
        "outputId": "fd12233f-8d3f-4de2-a8e3-b6585a5a5be1",
        "colab": {
          "base_uri": "https://localhost:8080/"
        }
      },
      "outputs": [
        {
          "output_type": "stream",
          "name": "stdout",
          "text": [
            "19/19 [==============================] - 0s 1ms/step\n"
          ]
        },
        {
          "output_type": "stream",
          "name": "stderr",
          "text": [
            "<ipython-input-61-5c4793b6207c>:1: SettingWithCopyWarning: \n",
            "A value is trying to be set on a copy of a slice from a DataFrame.\n",
            "Try using .loc[row_indexer,col_indexer] = value instead\n",
            "\n",
            "See the caveats in the documentation: https://pandas.pydata.org/pandas-docs/stable/user_guide/indexing.html#returning-a-view-versus-a-copy\n",
            "  df['y_hat_dnn'] = model.predict(X)\n"
          ]
        }
      ],
      "source": [
        "df['y_hat_dnn'] = model.predict(X)"
      ]
    },
    {
      "cell_type": "code",
      "execution_count": 64,
      "metadata": {
        "id": "fdrADJyWK5dt",
        "outputId": "b4815604-3578-4d33-f8d4-aa5bd63b6a8d",
        "colab": {
          "base_uri": "https://localhost:8080/",
          "height": 467
        }
      },
      "outputs": [
        {
          "output_type": "execute_result",
          "data": {
            "text/plain": [
              "[<matplotlib.lines.Line2D at 0x7f51356baf70>]"
            ]
          },
          "metadata": {},
          "execution_count": 64
        },
        {
          "output_type": "display_data",
          "data": {
            "text/plain": [
              "<Figure size 640x480 with 1 Axes>"
            ],
            "image/png": "[encoded data removed]"
          },
          "metadata": {}
        }
      ],
      "source": [
        "df[['y','y_hat_dnn']].plot(kind='scatter',y=\"y\",x='y_hat_dnn',alpha=.35)\n",
        "plt.plot(np.linspace(-2,7,10),np.linspace(-2,7,10),color=\"black\",ls=\"--\")"
      ]
    },
    {
      "cell_type": "markdown",
      "metadata": {
        "id": "ykOQpsavK5dt"
      },
      "source": [
        "Now let's look at the RMSE"
      ]
    },
    {
      "cell_type": "code",
      "execution_count": 65,
      "metadata": {
        "id": "h4Dl6DV2K5dt"
      },
      "outputs": [],
      "source": [
        "rmse_dnn = ((df['y']-df['y_hat_dnn'])**2).mean()**.5"
      ]
    },
    {
      "cell_type": "code",
      "source": [
        "rmse_dnn"
      ],
      "metadata": {
        "id": "2j2dFR4kScvg",
        "outputId": "20882d70-d696-4837-c947-c4ee5eaaa2d1",
        "colab": {
          "base_uri": "https://localhost:8080/"
        }
      },
      "execution_count": 66,
      "outputs": [
        {
          "output_type": "execute_result",
          "data": {
            "text/plain": [
              "0.1792646141679223"
            ]
          },
          "metadata": {},
          "execution_count": 66
        }
      ]
    },
    {
      "cell_type": "markdown",
      "source": [
        "Let's compare all of the RMSEs"
      ],
      "metadata": {
        "id": "-WZeEqSiTAMW"
      }
    },
    {
      "cell_type": "code",
      "source": [
        "pd.Series([rmse_lasso,rmse_elast,rmse_rf,rmse_dnn],index=[\"Lasso\",\"Elastic Net\",\"Random Forest\",\"DNN\"]).plot(kind='bar')\n",
        "plt.ylabel(\"RMSE\")\n",
        "plt.xticks(rotation=0)"
      ],
      "metadata": {
        "id": "AutnY-ufS7V7",
        "outputId": "03ada047-7654-446d-f22d-211921bc44ed",
        "colab": {
          "base_uri": "https://localhost:8080/",
          "height": 517
        }
      },
      "execution_count": 116,
      "outputs": [
        {
          "output_type": "execute_result",
          "data": {
            "text/plain": [
              "(array([0, 1, 2, 3]),\n",
              " [Text(0, 0, 'Lasso'),\n",
              "  Text(1, 0, 'Elastic Net'),\n",
              "  Text(2, 0, 'Random Forest'),\n",
              "  Text(3, 0, 'DNN')])"
            ]
          },
          "metadata": {},
          "execution_count": 116
        },
        {
          "output_type": "display_data",
          "data": {
            "text/plain": [
              "<Figure size 640x480 with 1 Axes>"
            ],
            "image/png": "[encoded data removed]"
          },
          "metadata": {}
        }
      ]
    },
    {
      "cell_type": "markdown",
      "metadata": {
        "id": "xcO9DzwfK5du"
      },
      "source": [
        "So actually not as good as our Random Forest. Possibly this is because DNN is actually less helpful on smaller datasets.\n",
        "\n",
        "We could likely get higher efficiency from trying to choose different neuron and hidden layer sizes."
      ]
    }
  ],
  "metadata": {
    "celltoolbar": "Slideshow",
    "kernelspec": {
      "display_name": "Python 3",
      "language": "python",
      "name": "python3"
    },
    "language_info": {
      "codemirror_mode": {
        "name": "ipython",
        "version": 3
      },
      "file_extension": ".py",
      "mimetype": "text/x-python",
      "name": "python",
      "nbconvert_exporter": "python",
      "pygments_lexer": "ipython3",
      "version": "3.8.5"
    },
    "colab": {
      "provenance": []
    }
  },
  "nbformat": 4,
  "nbformat_minor": 0
}