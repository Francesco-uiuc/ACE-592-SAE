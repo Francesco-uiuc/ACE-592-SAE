{
 "cells": [
  {
   "cell_type": "markdown",
   "metadata": {},
   "source": [
    "##  1. PCA Exercise: Asset Indices\n",
    "\n",
    "Using the assets data, attempt to estimate a PCA model to make an asset index.\n",
    "1. Choose the number of components\n",
    "2. Are you able to assign meaning to each component?\n",
    "\n",
    "Data is available in the Box in \"Class Examples.\" To read it in, just change the `data_dir` variable below."
   ]
  },
  {
   "cell_type": "code",
   "execution_count": 1,
   "metadata": {},
   "outputs": [],
   "source": [
    "data_dir = \"C:/Users/jhtchns2/Box/ACE_592_SAE/Class_Examples/4_Analysis/\""
   ]
  },
  {
   "cell_type": "code",
   "execution_count": 2,
   "metadata": {},
   "outputs": [],
   "source": [
    "from sklearn.preprocessing import StandardScaler\n",
    "from sklearn.decomposition import PCA\n",
    "import numpy as np\n",
    "import pandas as pd\n",
    "\n",
    "df = pd.read_csv(data_dir+\"asset_data.csv\")\n",
    "\n",
    "\n",
    "class PCA_Model:\n",
    "    def __init__(self,ncomps,data,cols):\n",
    "        \n",
    "        self.ncomps = ncomps\n",
    "        self.cols = cols\n",
    "        self.data = data\n",
    "        self.scaled_data = StandardScaler().fit_transform(data[cols].values)\n",
    "        \n",
    "    def fit(self):\n",
    "        self.PCA_obj = PCA(self.ncomps).fit(self.scaled_data)\n",
    "    \n",
    "    def describe(self):\n",
    "        explvar_ = self.PCA_obj.explained_variance_ratio_\n",
    "\n",
    "        explvar = pd.DataFrame(explvar_[np.newaxis,:]*100,\\\n",
    "                               columns=[\"Component \" + str(x) for x in range(self.ncomps)],\\\n",
    "                               index=[\"% Explained Variance\"])\n",
    "        \n",
    "        loadscores_ = self.PCA_obj.components_\n",
    "        loadscores = pd.DataFrame(loadscores_,\\\n",
    "                                  columns=self.cols,\\\n",
    "                                  index=[\"Component \" + str(x) for x in range(self.ncomps)])\n",
    "        print(\"Explains {0:0.2f}% of the variance\".format(round(sum(explvar_),2)*100))\n",
    "        print(explvar)\n",
    "        print(loadscores)\n",
    "        return explvar,loadscores\n",
    "    \n",
    "    def gen_data(self):\n",
    "        return self.PCA_obj.transform(self.scaled_data)\n",
    "    \n",
    "    def graph(self,alpha=.6):\n",
    "        self.graphdata = pd.concat([self.data[[color]].reset_index(drop=True),\\\n",
    "                                    pd.DataFrame(self.gen_data()).reset_index(drop=True)],axis=1)\n",
    "        if self.ncomps==2:\n",
    "            return self.graphdata.plot(kind=\"scatter\",x=0,y=1,\\\n",
    "                                       c=color,alpha=alpha,colormap=cm)\n",
    "        else:\n",
    "            ax = plt.axes(projection='3d')\n",
    "            ax.scatter3D(self.graphdata[0], \\\n",
    "                         self.graphdata[1], \\\n",
    "                         self.graphdata[2])#, \\\n",
    "                         #c=color,colormap=cm)\n",
    "    "
   ]
  },
  {
   "cell_type": "markdown",
   "metadata": {},
   "source": [
    "## 2. Clustering: Income and Democracy\n",
    "\n",
    "In the paper \"Grouped Patterns of Heterogeneity in Panel Data\" by Bonhomme and Manresa, they explore how to cluster countries by income (`lrgdpch`) and democracy (`fhpolrigaug`).\n",
    "\n",
    "How would you do the clustering?\n",
    "\n",
    "Data is available in the Box in \"Class Examples.\" To read it in, just change the `data_dir` variable below."
   ]
  },
  {
   "cell_type": "code",
   "execution_count": 3,
   "metadata": {},
   "outputs": [],
   "source": [
    "data_dir = \"C:/Users/jhtchns2/Box/ACE_592_SAE/Class_Examples/4_Analysis/\""
   ]
  },
  {
   "cell_type": "code",
   "execution_count": 4,
   "metadata": {},
   "outputs": [],
   "source": [
    "from sklearn.cluster import KMeans\n",
    "from sklearn.preprocessing import StandardScaler\n",
    "from sklearn.metrics import silhouette_samples, silhouette_score\n",
    "import pandas as pd\n",
    "import numpy as np\n",
    "import matplotlib.pyplot as plt\n",
    "\n",
    "df = pd.read_csv(data_dir+\"Income-and-Democracy-Data-AER-adjustment.csv\")\n",
    "\n",
    "class Kmeans_Model:\n",
    "    def __init__(self,data,num_clusters):\n",
    "        self.df = StandardScaler().fit_transform(data)\n",
    "        self.K = num_clusters\n",
    "        \n",
    "    def fit(self):    \n",
    "        self.model = KMeans(self.K).fit(self.df)\n",
    "    \n",
    "    def predict(self):\n",
    "        self.prediction = self.model.predict(self.df)\n",
    "        return self.prediction\n",
    "    \n",
    "    def sil_score(self):\n",
    "        return silhouette_score(self.df,self.model.predict(self.df),sample_size=10000)\n",
    "    \n",
    "def score_by_k(data,K):\n",
    "    model = Kmeans_Model(data,K)\n",
    "    model.fit()\n",
    "    return model.sil_score()\n",
    "\n",
    "def inertia_by_k(data,K):\n",
    "    model = Kmeans_Model(data,K)\n",
    "    model.fit()\n",
    "    return model.model.inertia_"
   ]
  }
 ],
 "metadata": {
  "kernelspec": {
   "display_name": "Python 3 (ipykernel)",
   "language": "python",
   "name": "python3"
  },
  "language_info": {
   "codemirror_mode": {
    "name": "ipython",
    "version": 3
   },
   "file_extension": ".py",
   "mimetype": "text/x-python",
   "name": "python",
   "nbconvert_exporter": "python",
   "pygments_lexer": "ipython3",
   "version": "3.11.7"
  }
 },
 "nbformat": 4,
 "nbformat_minor": 4
}
