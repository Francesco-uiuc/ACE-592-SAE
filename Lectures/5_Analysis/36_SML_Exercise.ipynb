{
 "cells": [
  {
   "cell_type": "markdown",
   "id": "5bfd710e",
   "metadata": {},
   "source": [
    "## Housing Prices and Words\n",
    "\n",
    "The data for this exercise has been scraped from Zillow and contains the price, the number of bedrooms, the number of bathrooms, the square footage, the location, and a description. The objective of this assignment is to use LASSO to understand which words contribute the most to price.\n",
    "\n",
    "I have done most of the work for you in terms of processing the text. What is left is for you to fit the models at various levels of alpha and interpret the results."
   ]
  },
  {
   "cell_type": "code",
   "execution_count": 104,
   "id": "2b44e74a",
   "metadata": {},
   "outputs": [],
   "source": [
    "import pandas as pd\n",
    "from sklearn.feature_extraction.text import CountVectorizer\n",
    "from sklearn.feature_extraction.text import TfidfVectorizer\n",
    "from nltk.corpus import stopwords\n",
    "from sklearn.preprocessing import StandardScaler\n",
    "from sklearn.linear_model import ElasticNet, ElasticNetCV\n",
    "from sklearn.linear_model import LassoCV\n",
    "from sklearn.model_selection import train_test_split\n",
    "from sklearn.linear_model import Lasso\n",
    "from sklearn.model_selection import GridSearchCV\n",
    "from sklearn.ensemble import RandomForestRegressor\n",
    "from sklearn.model_selection import RandomizedSearchCV\n",
    "import numpy as np \n",
    "from sklearn.linear_model import Lasso\n",
    "\n",
    "data_dir = \"C:/Users/jhtchns2/Box/ACE 592 SAE - Spring 2023/Class_Examples/4_Analysis/\"\n",
    "df = pd.read_csv(data_dir+'ZillowWebscrap_Champaign.csv')"
   ]
  },
  {
   "cell_type": "code",
   "execution_count": 105,
   "id": "3a09072f",
   "metadata": {},
   "outputs": [],
   "source": [
    "sw_list = stopwords.words('english') + ['amp','',\" \"]\n",
    "\n",
    "vct = CountVectorizer(stop_words=sw_list)\n",
    "tfidf = TfidfVectorizer(stop_words=sw_list)\n",
    "\n",
    "X = vct.fit_transform(df['description']).todense()\n",
    "X = pd.DataFrame(X,columns=[\"word_\" + x for x in vct.get_feature_names_out()])\n",
    "df = pd.concat([df,X],axis=1) \n",
    "\n",
    "X_tfidf = tfidf.fit_transform(df['description']).todense()\n",
    "X_tfidf = \\\n",
    "pd.DataFrame(X_tfidf,\n",
    "             columns = [\"word_tfidf_\" +x for x in tfidf.get_feature_names_out()])\n",
    "df = pd.concat([df,X_tfidf],axis=1) \n",
    "\n",
    "cols = ['beds', 'baths', 'sq_feet','lat','lon'] + list(df.columns[10:])\n",
    "\n",
    "X = StandardScaler().fit_transform(df[cols])\n",
    "\n",
    "y = StandardScaler().fit_transform(df[['price']])\n",
    "\n",
    "def get_coefs(alpha,features,target):\n",
    "    X = StandardScaler().fit_transform(df[features])\n",
    "    y = StandardScaler().fit_transform(df[target])\n",
    "    \n",
    "    lasso_model =Lasso(alpha=alpha)\n",
    "    lasso_model = lasso_model.fit(y=y,X=X)\n",
    "    \n",
    "    coefs = lasso_model.coef_\n",
    "    \n",
    "    return coefs\n",
    "\n",
    "Alpha = np.arange(0,1,.01)"
   ]
  }
 ],
 "metadata": {
  "kernelspec": {
   "display_name": "Python 3 (ipykernel)",
   "language": "python",
   "name": "python3"
  },
  "language_info": {
   "codemirror_mode": {
    "name": "ipython",
    "version": 3
   },
   "file_extension": ".py",
   "mimetype": "text/x-python",
   "name": "python",
   "nbconvert_exporter": "python",
   "pygments_lexer": "ipython3",
   "version": "3.11.0"
  }
 },
 "nbformat": 4,
 "nbformat_minor": 5
}
