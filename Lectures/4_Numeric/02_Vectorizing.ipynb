{
 "cells": [
  {
   "cell_type": "markdown",
   "metadata": {
    "slideshow": {
     "slide_type": "slide"
    }
   },
   "source": [
    "## Vectorizing Operations"
   ]
  },
  {
   "cell_type": "markdown",
   "metadata": {
    "slideshow": {
     "slide_type": "-"
    }
   },
   "source": [
    "The first element on our checklist was to examine data types.\n",
    "\n",
    "If we have downcast all our data, what should we do next?"
   ]
  },
  {
   "cell_type": "markdown",
   "metadata": {
    "slideshow": {
     "slide_type": "slide"
    }
   },
   "source": [
    "### What is vectorization?\n",
    "Vectorization is doing operations on sets of values instead of individual values.\n",
    "\n",
    "Example of a numpy function that is \"vectorized\":"
   ]
  },
  {
   "cell_type": "code",
   "execution_count": 1,
   "metadata": {
    "slideshow": {
     "slide_type": "-"
    }
   },
   "outputs": [],
   "source": [
    "import numpy as np"
   ]
  },
  {
   "cell_type": "code",
   "execution_count": 2,
   "metadata": {
    "slideshow": {
     "slide_type": "-"
    }
   },
   "outputs": [
    {
     "name": "stdout",
     "output_type": "stream",
     "text": [
      "96.2 µs ± 9.17 µs per loop (mean ± std. dev. of 7 runs, 1,000 loops each)\n"
     ]
    }
   ],
   "source": [
    "%timeit np.sum(np.arange(100000))"
   ]
  },
  {
   "cell_type": "markdown",
   "metadata": {
    "slideshow": {
     "slide_type": "slide"
    }
   },
   "source": [
    "Compare this to a function that is not vectorized:"
   ]
  },
  {
   "cell_type": "code",
   "execution_count": 3,
   "metadata": {
    "slideshow": {
     "slide_type": "-"
    }
   },
   "outputs": [
    {
     "name": "stdout",
     "output_type": "stream",
     "text": [
      "21 ns ± 1.8 ns per loop (mean ± std. dev. of 7 runs, 100,000,000 loops each)\n"
     ]
    }
   ],
   "source": [
    "def sum_test():    \n",
    "    total = 0\n",
    "    for i in np.arange(100000):\n",
    "        total += i\n",
    "    return total\n",
    "\n",
    "%timeit sum_test"
   ]
  },
  {
   "cell_type": "markdown",
   "metadata": {
    "slideshow": {
     "slide_type": "slide"
    }
   },
   "source": [
    "Orders of magnitude faster.\n",
    "\n",
    "Often it feels easier to use for loops because they are easier to conceive and write. Taking time to vectorize an operation can help speed up code significantly, however."
   ]
  },
  {
   "cell_type": "markdown",
   "metadata": {
    "slideshow": {
     "slide_type": "slide"
    }
   },
   "source": [
    "Another example of an operation we already vectorized:\n",
    "\n",
    "To look at crop rotation, we had to assign values to an array based on the values of other arrays.\n",
    "\n",
    "The non-vectorized version:"
   ]
  },
  {
   "cell_type": "code",
   "execution_count": 4,
   "metadata": {
    "slideshow": {
     "slide_type": "-"
    }
   },
   "outputs": [],
   "source": [
    "y16 = np.random.randint(0,2,size=1000000).reshape(1000,1000)\n",
    "y17 = np.random.randint(0,2,size=1000000).reshape(1000,1000)"
   ]
  },
  {
   "cell_type": "code",
   "execution_count": 5,
   "metadata": {
    "slideshow": {
     "slide_type": "slide"
    }
   },
   "outputs": [
    {
     "name": "stdout",
     "output_type": "stream",
     "text": [
      "654 ms ± 19.6 ms per loop (mean ± std. dev. of 7 runs, 1 loop each)\n"
     ]
    }
   ],
   "source": [
    "def non_vect():\n",
    "    rotate = np.zeros([1000,1000])\n",
    "    for i in range(1000):\n",
    "        for j in range(1000):\n",
    "            rotate[i,j] = (1-y16[i,j])*y17[i,j]\n",
    "    return rotate\n",
    "\n",
    "%timeit non_vect()"
   ]
  },
  {
   "cell_type": "markdown",
   "metadata": {
    "slideshow": {
     "slide_type": "slide"
    }
   },
   "source": [
    "The vectorized version:"
   ]
  },
  {
   "cell_type": "code",
   "execution_count": 6,
   "metadata": {
    "slideshow": {
     "slide_type": "-"
    }
   },
   "outputs": [
    {
     "data": {
      "text/plain": [
       "array([[1, 0, 0, ..., 0, 0, 0],\n",
       "       [0, 0, 0, ..., 0, 0, 0],\n",
       "       [0, 1, 0, ..., 1, 0, 0],\n",
       "       ...,\n",
       "       [0, 0, 1, ..., 0, 0, 0],\n",
       "       [0, 0, 0, ..., 0, 0, 0],\n",
       "       [0, 0, 1, ..., 0, 0, 0]])"
      ]
     },
     "execution_count": 6,
     "metadata": {},
     "output_type": "execute_result"
    }
   ],
   "source": [
    "(1-y16)*y17"
   ]
  },
  {
   "cell_type": "code",
   "execution_count": 7,
   "metadata": {
    "slideshow": {
     "slide_type": "-"
    }
   },
   "outputs": [
    {
     "name": "stdout",
     "output_type": "stream",
     "text": [
      "3.76 ms ± 509 µs per loop (mean ± std. dev. of 7 runs, 100 loops each)\n"
     ]
    }
   ],
   "source": [
    "%timeit (1-y16)*y17"
   ]
  },
  {
   "cell_type": "markdown",
   "metadata": {
    "slideshow": {
     "slide_type": "slide"
    }
   },
   "source": [
    "Which is quite a bit of a speed improvement.\n",
    "\n",
    "Another useful aspect of vectorization is that `numpy` will __broadcast__ arrays together:"
   ]
  },
  {
   "cell_type": "code",
   "execution_count": 8,
   "metadata": {
    "slideshow": {
     "slide_type": "-"
    }
   },
   "outputs": [],
   "source": [
    "import numpy as np\n",
    "sample = np.random.normal(loc=[4., 20.], scale=[1., 3.5],\n",
    "                           size=(10, 2))"
   ]
  },
  {
   "cell_type": "code",
   "execution_count": 9,
   "metadata": {
    "slideshow": {
     "slide_type": "-"
    }
   },
   "outputs": [
    {
     "data": {
      "text/plain": [
       "array([[ 3.22583888, 12.80841919],\n",
       "       [ 3.06673373, 24.35108675],\n",
       "       [ 3.91665864, 20.30968926],\n",
       "       [ 4.99287654, 17.67844944],\n",
       "       [ 3.17975809, 15.09755365],\n",
       "       [ 2.03942398, 19.63728082],\n",
       "       [ 4.41554203, 20.41823852],\n",
       "       [ 3.48653573, 22.69152129],\n",
       "       [ 4.95747064, 21.40917424],\n",
       "       [ 4.44111039, 17.11444411]])"
      ]
     },
     "execution_count": 9,
     "metadata": {},
     "output_type": "execute_result"
    }
   ],
   "source": [
    "sample"
   ]
  },
  {
   "cell_type": "code",
   "execution_count": 10,
   "metadata": {
    "slideshow": {
     "slide_type": "slide"
    }
   },
   "outputs": [
    {
     "data": {
      "text/plain": [
       "array([ 3.77219487, 19.15158573])"
      ]
     },
     "execution_count": 10,
     "metadata": {},
     "output_type": "execute_result"
    }
   ],
   "source": [
    "sample.mean(axis=0)"
   ]
  },
  {
   "cell_type": "code",
   "execution_count": 11,
   "metadata": {
    "slideshow": {
     "slide_type": "-"
    }
   },
   "outputs": [],
   "source": [
    "mu = sample.mean(axis=0)"
   ]
  },
  {
   "cell_type": "code",
   "execution_count": 12,
   "metadata": {},
   "outputs": [
    {
     "data": {
      "text/plain": [
       "array([ 3.77219487, 19.15158573])"
      ]
     },
     "execution_count": 12,
     "metadata": {},
     "output_type": "execute_result"
    }
   ],
   "source": [
    "mu"
   ]
  },
  {
   "cell_type": "markdown",
   "metadata": {
    "slideshow": {
     "slide_type": "-"
    }
   },
   "source": [
    "How could we demean this?"
   ]
  },
  {
   "cell_type": "code",
   "execution_count": 13,
   "metadata": {
    "slideshow": {
     "slide_type": "slide"
    }
   },
   "outputs": [
    {
     "data": {
      "text/plain": [
       "array([[-0.54635598, -6.34316654],\n",
       "       [-0.70546113,  5.19950102],\n",
       "       [ 0.14446377,  1.15810353],\n",
       "       [ 1.22068167, -1.47313629],\n",
       "       [-0.59243677, -4.05403208],\n",
       "       [-1.73277089,  0.48569509],\n",
       "       [ 0.64334717,  1.26665279],\n",
       "       [-0.28565914,  3.53993557],\n",
       "       [ 1.18527578,  2.25758851],\n",
       "       [ 0.66891553, -2.03714161]])"
      ]
     },
     "execution_count": 13,
     "metadata": {},
     "output_type": "execute_result"
    }
   ],
   "source": [
    "sample - mu"
   ]
  },
  {
   "cell_type": "markdown",
   "metadata": {
    "slideshow": {
     "slide_type": "slide"
    }
   },
   "source": [
    "Why did this work? These are not compatible arrays!\n",
    "\n",
    "When an operation is done between two mismatched arrays, `numpy` first checks whether the right most dimension matches. If they match, it broadcasts (essentially repeats) the array so that it becomes the same shape as the other array.\n",
    "\n",
    "In this case, it found an array that was (10,2) and (,2), so it simply repeated the mean 10 times so that it was (10,2). Then it did an element by element subtraction.\n",
    "\n",
    "This could be used to standardize arrays:"
   ]
  },
  {
   "cell_type": "code",
   "execution_count": 14,
   "metadata": {
    "slideshow": {
     "slide_type": "slide"
    }
   },
   "outputs": [],
   "source": [
    "std = sample.std(axis=0)"
   ]
  },
  {
   "cell_type": "code",
   "execution_count": 15,
   "metadata": {
    "slideshow": {
     "slide_type": "-"
    }
   },
   "outputs": [
    {
     "data": {
      "text/plain": [
       "array([[-0.6105236 , -1.90531718],\n",
       "       [-0.78831511,  1.56179072],\n",
       "       [ 0.16143055,  0.34786325],\n",
       "       [ 1.36404652, -0.44249065],\n",
       "       [-0.66201642, -1.21772256],\n",
       "       [-1.93627884,  0.14588979],\n",
       "       [ 0.71890607,  0.38046854],\n",
       "       [-0.31920882,  1.06330174],\n",
       "       [ 1.32448232,  0.67811907],\n",
       "       [ 0.74747734, -0.61190273]])"
      ]
     },
     "execution_count": 15,
     "metadata": {},
     "output_type": "execute_result"
    }
   ],
   "source": [
    "(sample -mu)/std"
   ]
  },
  {
   "cell_type": "markdown",
   "metadata": {
    "slideshow": {
     "slide_type": "slide"
    }
   },
   "source": [
    "You can very easily do this with pandas dataframes too:"
   ]
  },
  {
   "cell_type": "code",
   "execution_count": 16,
   "metadata": {
    "slideshow": {
     "slide_type": "-"
    }
   },
   "outputs": [],
   "source": [
    "import pandas as pd\n",
    "sample_df = pd.DataFrame(sample)"
   ]
  },
  {
   "cell_type": "code",
   "execution_count": 17,
   "metadata": {
    "slideshow": {
     "slide_type": "slide"
    }
   },
   "outputs": [
    {
     "data": {
      "text/html": [
       "<div>\n",
       "<style scoped>\n",
       "    .dataframe tbody tr th:only-of-type {\n",
       "        vertical-align: middle;\n",
       "    }\n",
       "\n",
       "    .dataframe tbody tr th {\n",
       "        vertical-align: top;\n",
       "    }\n",
       "\n",
       "    .dataframe thead th {\n",
       "        text-align: right;\n",
       "    }\n",
       "</style>\n",
       "<table border=\"1\" class=\"dataframe\">\n",
       "  <thead>\n",
       "    <tr style=\"text-align: right;\">\n",
       "      <th></th>\n",
       "      <th>0</th>\n",
       "      <th>1</th>\n",
       "    </tr>\n",
       "  </thead>\n",
       "  <tbody>\n",
       "    <tr>\n",
       "      <th>0</th>\n",
       "      <td>-0.579194</td>\n",
       "      <td>-1.807543</td>\n",
       "    </tr>\n",
       "    <tr>\n",
       "      <th>1</th>\n",
       "      <td>-0.747861</td>\n",
       "      <td>1.481645</td>\n",
       "    </tr>\n",
       "    <tr>\n",
       "      <th>2</th>\n",
       "      <td>0.153146</td>\n",
       "      <td>0.330012</td>\n",
       "    </tr>\n",
       "    <tr>\n",
       "      <th>3</th>\n",
       "      <td>1.294048</td>\n",
       "      <td>-0.419783</td>\n",
       "    </tr>\n",
       "    <tr>\n",
       "      <th>4</th>\n",
       "      <td>-0.628044</td>\n",
       "      <td>-1.155233</td>\n",
       "    </tr>\n",
       "    <tr>\n",
       "      <th>5</th>\n",
       "      <td>-1.836915</td>\n",
       "      <td>0.138403</td>\n",
       "    </tr>\n",
       "    <tr>\n",
       "      <th>6</th>\n",
       "      <td>0.682014</td>\n",
       "      <td>0.360944</td>\n",
       "    </tr>\n",
       "    <tr>\n",
       "      <th>7</th>\n",
       "      <td>-0.302828</td>\n",
       "      <td>1.008737</td>\n",
       "    </tr>\n",
       "    <tr>\n",
       "      <th>8</th>\n",
       "      <td>1.256514</td>\n",
       "      <td>0.643320</td>\n",
       "    </tr>\n",
       "    <tr>\n",
       "      <th>9</th>\n",
       "      <td>0.709119</td>\n",
       "      <td>-0.580502</td>\n",
       "    </tr>\n",
       "  </tbody>\n",
       "</table>\n",
       "</div>"
      ],
      "text/plain": [
       "          0         1\n",
       "0 -0.579194 -1.807543\n",
       "1 -0.747861  1.481645\n",
       "2  0.153146  0.330012\n",
       "3  1.294048 -0.419783\n",
       "4 -0.628044 -1.155233\n",
       "5 -1.836915  0.138403\n",
       "6  0.682014  0.360944\n",
       "7 -0.302828  1.008737\n",
       "8  1.256514  0.643320\n",
       "9  0.709119 -0.580502"
      ]
     },
     "execution_count": 17,
     "metadata": {},
     "output_type": "execute_result"
    }
   ],
   "source": [
    "(sample_df-sample_df.mean())/sample_df.std()"
   ]
  },
  {
   "cell_type": "markdown",
   "metadata": {
    "slideshow": {
     "slide_type": "slide"
    }
   },
   "source": [
    "### An aside: data stacking and pivoting with pandas\n",
    "We have not yet mentioned all of the ways to do pivot tables and data transformations in pandas.\n",
    "\n",
    "Let' start with the \"stack\" function"
   ]
  },
  {
   "cell_type": "code",
   "execution_count": 18,
   "metadata": {
    "slideshow": {
     "slide_type": "-"
    }
   },
   "outputs": [],
   "source": [
    "import pandas as pd\n",
    "\n",
    "df = pd.read_csv(\"panel_example.csv\")\n",
    "\n",
    "df = df.set_index(['i','t'])"
   ]
  },
  {
   "cell_type": "markdown",
   "metadata": {
    "slideshow": {
     "slide_type": "slide"
    }
   },
   "source": [
    "Dataframes can use multi-level indices which can be useful:"
   ]
  },
  {
   "cell_type": "code",
   "execution_count": 19,
   "metadata": {},
   "outputs": [],
   "source": [
    "df['value2'] = df['value'] +2"
   ]
  },
  {
   "cell_type": "code",
   "execution_count": 20,
   "metadata": {
    "slideshow": {
     "slide_type": "-"
    }
   },
   "outputs": [
    {
     "data": {
      "text/html": [
       "<div>\n",
       "<style scoped>\n",
       "    .dataframe tbody tr th:only-of-type {\n",
       "        vertical-align: middle;\n",
       "    }\n",
       "\n",
       "    .dataframe tbody tr th {\n",
       "        vertical-align: top;\n",
       "    }\n",
       "\n",
       "    .dataframe thead th {\n",
       "        text-align: right;\n",
       "    }\n",
       "</style>\n",
       "<table border=\"1\" class=\"dataframe\">\n",
       "  <thead>\n",
       "    <tr style=\"text-align: right;\">\n",
       "      <th>t</th>\n",
       "      <th>0</th>\n",
       "      <th>1</th>\n",
       "      <th>2</th>\n",
       "      <th>3</th>\n",
       "      <th>4</th>\n",
       "      <th>5</th>\n",
       "      <th>6</th>\n",
       "      <th>7</th>\n",
       "      <th>8</th>\n",
       "      <th>9</th>\n",
       "    </tr>\n",
       "    <tr>\n",
       "      <th>i</th>\n",
       "      <th></th>\n",
       "      <th></th>\n",
       "      <th></th>\n",
       "      <th></th>\n",
       "      <th></th>\n",
       "      <th></th>\n",
       "      <th></th>\n",
       "      <th></th>\n",
       "      <th></th>\n",
       "      <th></th>\n",
       "    </tr>\n",
       "  </thead>\n",
       "  <tbody>\n",
       "    <tr>\n",
       "      <th>0</th>\n",
       "      <td>4.688026</td>\n",
       "      <td>5.522693</td>\n",
       "      <td>3.794489</td>\n",
       "      <td>3.964962</td>\n",
       "      <td>2.411890</td>\n",
       "      <td>3.411730</td>\n",
       "      <td>5.471047</td>\n",
       "      <td>2.224358</td>\n",
       "      <td>3.014295</td>\n",
       "      <td>3.628636</td>\n",
       "    </tr>\n",
       "    <tr>\n",
       "      <th>1</th>\n",
       "      <td>20.763822</td>\n",
       "      <td>21.364728</td>\n",
       "      <td>16.473118</td>\n",
       "      <td>22.906417</td>\n",
       "      <td>20.685359</td>\n",
       "      <td>23.985350</td>\n",
       "      <td>17.449606</td>\n",
       "      <td>24.309989</td>\n",
       "      <td>19.684198</td>\n",
       "      <td>19.468067</td>\n",
       "    </tr>\n",
       "    <tr>\n",
       "      <th>2</th>\n",
       "      <td>13.345220</td>\n",
       "      <td>13.759424</td>\n",
       "      <td>15.433405</td>\n",
       "      <td>7.599836</td>\n",
       "      <td>12.815756</td>\n",
       "      <td>9.567005</td>\n",
       "      <td>13.707837</td>\n",
       "      <td>5.037831</td>\n",
       "      <td>9.862822</td>\n",
       "      <td>17.529517</td>\n",
       "    </tr>\n",
       "    <tr>\n",
       "      <th>3</th>\n",
       "      <td>2.874506</td>\n",
       "      <td>17.500661</td>\n",
       "      <td>21.603200</td>\n",
       "      <td>3.615383</td>\n",
       "      <td>12.067565</td>\n",
       "      <td>12.347808</td>\n",
       "      <td>6.555567</td>\n",
       "      <td>7.524997</td>\n",
       "      <td>-2.819713</td>\n",
       "      <td>-12.429077</td>\n",
       "    </tr>\n",
       "  </tbody>\n",
       "</table>\n",
       "</div>"
      ],
      "text/plain": [
       "t          0          1          2          3          4          5  \\\n",
       "i                                                                     \n",
       "0   4.688026   5.522693   3.794489   3.964962   2.411890   3.411730   \n",
       "1  20.763822  21.364728  16.473118  22.906417  20.685359  23.985350   \n",
       "2  13.345220  13.759424  15.433405   7.599836  12.815756   9.567005   \n",
       "3   2.874506  17.500661  21.603200   3.615383  12.067565  12.347808   \n",
       "\n",
       "t          6          7          8          9  \n",
       "i                                              \n",
       "0   5.471047   2.224358   3.014295   3.628636  \n",
       "1  17.449606  24.309989  19.684198  19.468067  \n",
       "2  13.707837   5.037831   9.862822  17.529517  \n",
       "3   6.555567   7.524997  -2.819713 -12.429077  "
      ]
     },
     "execution_count": 20,
     "metadata": {},
     "output_type": "execute_result"
    }
   ],
   "source": [
    "df_wide = df['value'].unstack()\n",
    "\n",
    "df_wide"
   ]
  },
  {
   "cell_type": "markdown",
   "metadata": {
    "slideshow": {
     "slide_type": "slide"
    }
   },
   "source": [
    "So calling `unstack` will automatically use the outermost index. Setting the level will change this behavior."
   ]
  },
  {
   "cell_type": "code",
   "execution_count": 21,
   "metadata": {
    "slideshow": {
     "slide_type": "-"
    }
   },
   "outputs": [
    {
     "data": {
      "text/html": [
       "<div>\n",
       "<style scoped>\n",
       "    .dataframe tbody tr th:only-of-type {\n",
       "        vertical-align: middle;\n",
       "    }\n",
       "\n",
       "    .dataframe tbody tr th {\n",
       "        vertical-align: top;\n",
       "    }\n",
       "\n",
       "    .dataframe thead tr th {\n",
       "        text-align: left;\n",
       "    }\n",
       "\n",
       "    .dataframe thead tr:last-of-type th {\n",
       "        text-align: right;\n",
       "    }\n",
       "</style>\n",
       "<table border=\"1\" class=\"dataframe\">\n",
       "  <thead>\n",
       "    <tr>\n",
       "      <th></th>\n",
       "      <th colspan=\"4\" halign=\"left\">value</th>\n",
       "      <th colspan=\"4\" halign=\"left\">value2</th>\n",
       "    </tr>\n",
       "    <tr>\n",
       "      <th>i</th>\n",
       "      <th>0</th>\n",
       "      <th>1</th>\n",
       "      <th>2</th>\n",
       "      <th>3</th>\n",
       "      <th>0</th>\n",
       "      <th>1</th>\n",
       "      <th>2</th>\n",
       "      <th>3</th>\n",
       "    </tr>\n",
       "    <tr>\n",
       "      <th>t</th>\n",
       "      <th></th>\n",
       "      <th></th>\n",
       "      <th></th>\n",
       "      <th></th>\n",
       "      <th></th>\n",
       "      <th></th>\n",
       "      <th></th>\n",
       "      <th></th>\n",
       "    </tr>\n",
       "  </thead>\n",
       "  <tbody>\n",
       "    <tr>\n",
       "      <th>0</th>\n",
       "      <td>4.688026</td>\n",
       "      <td>20.763822</td>\n",
       "      <td>13.345220</td>\n",
       "      <td>2.874506</td>\n",
       "      <td>6.688026</td>\n",
       "      <td>22.763822</td>\n",
       "      <td>15.345220</td>\n",
       "      <td>4.874506</td>\n",
       "    </tr>\n",
       "    <tr>\n",
       "      <th>1</th>\n",
       "      <td>5.522693</td>\n",
       "      <td>21.364728</td>\n",
       "      <td>13.759424</td>\n",
       "      <td>17.500661</td>\n",
       "      <td>7.522693</td>\n",
       "      <td>23.364728</td>\n",
       "      <td>15.759424</td>\n",
       "      <td>19.500661</td>\n",
       "    </tr>\n",
       "    <tr>\n",
       "      <th>2</th>\n",
       "      <td>3.794489</td>\n",
       "      <td>16.473118</td>\n",
       "      <td>15.433405</td>\n",
       "      <td>21.603200</td>\n",
       "      <td>5.794489</td>\n",
       "      <td>18.473118</td>\n",
       "      <td>17.433405</td>\n",
       "      <td>23.603200</td>\n",
       "    </tr>\n",
       "    <tr>\n",
       "      <th>3</th>\n",
       "      <td>3.964962</td>\n",
       "      <td>22.906417</td>\n",
       "      <td>7.599836</td>\n",
       "      <td>3.615383</td>\n",
       "      <td>5.964962</td>\n",
       "      <td>24.906417</td>\n",
       "      <td>9.599836</td>\n",
       "      <td>5.615383</td>\n",
       "    </tr>\n",
       "    <tr>\n",
       "      <th>4</th>\n",
       "      <td>2.411890</td>\n",
       "      <td>20.685359</td>\n",
       "      <td>12.815756</td>\n",
       "      <td>12.067565</td>\n",
       "      <td>4.411890</td>\n",
       "      <td>22.685359</td>\n",
       "      <td>14.815756</td>\n",
       "      <td>14.067565</td>\n",
       "    </tr>\n",
       "    <tr>\n",
       "      <th>5</th>\n",
       "      <td>3.411730</td>\n",
       "      <td>23.985350</td>\n",
       "      <td>9.567005</td>\n",
       "      <td>12.347808</td>\n",
       "      <td>5.411730</td>\n",
       "      <td>25.985350</td>\n",
       "      <td>11.567005</td>\n",
       "      <td>14.347808</td>\n",
       "    </tr>\n",
       "    <tr>\n",
       "      <th>6</th>\n",
       "      <td>5.471047</td>\n",
       "      <td>17.449606</td>\n",
       "      <td>13.707837</td>\n",
       "      <td>6.555567</td>\n",
       "      <td>7.471047</td>\n",
       "      <td>19.449606</td>\n",
       "      <td>15.707837</td>\n",
       "      <td>8.555567</td>\n",
       "    </tr>\n",
       "    <tr>\n",
       "      <th>7</th>\n",
       "      <td>2.224358</td>\n",
       "      <td>24.309989</td>\n",
       "      <td>5.037831</td>\n",
       "      <td>7.524997</td>\n",
       "      <td>4.224358</td>\n",
       "      <td>26.309989</td>\n",
       "      <td>7.037831</td>\n",
       "      <td>9.524997</td>\n",
       "    </tr>\n",
       "    <tr>\n",
       "      <th>8</th>\n",
       "      <td>3.014295</td>\n",
       "      <td>19.684198</td>\n",
       "      <td>9.862822</td>\n",
       "      <td>-2.819713</td>\n",
       "      <td>5.014295</td>\n",
       "      <td>21.684198</td>\n",
       "      <td>11.862822</td>\n",
       "      <td>-0.819713</td>\n",
       "    </tr>\n",
       "    <tr>\n",
       "      <th>9</th>\n",
       "      <td>3.628636</td>\n",
       "      <td>19.468067</td>\n",
       "      <td>17.529517</td>\n",
       "      <td>-12.429077</td>\n",
       "      <td>5.628636</td>\n",
       "      <td>21.468067</td>\n",
       "      <td>19.529517</td>\n",
       "      <td>-10.429077</td>\n",
       "    </tr>\n",
       "  </tbody>\n",
       "</table>\n",
       "</div>"
      ],
      "text/plain": [
       "      value                                     value2                        \\\n",
       "i         0          1          2          3         0          1          2   \n",
       "t                                                                              \n",
       "0  4.688026  20.763822  13.345220   2.874506  6.688026  22.763822  15.345220   \n",
       "1  5.522693  21.364728  13.759424  17.500661  7.522693  23.364728  15.759424   \n",
       "2  3.794489  16.473118  15.433405  21.603200  5.794489  18.473118  17.433405   \n",
       "3  3.964962  22.906417   7.599836   3.615383  5.964962  24.906417   9.599836   \n",
       "4  2.411890  20.685359  12.815756  12.067565  4.411890  22.685359  14.815756   \n",
       "5  3.411730  23.985350   9.567005  12.347808  5.411730  25.985350  11.567005   \n",
       "6  5.471047  17.449606  13.707837   6.555567  7.471047  19.449606  15.707837   \n",
       "7  2.224358  24.309989   5.037831   7.524997  4.224358  26.309989   7.037831   \n",
       "8  3.014295  19.684198   9.862822  -2.819713  5.014295  21.684198  11.862822   \n",
       "9  3.628636  19.468067  17.529517 -12.429077  5.628636  21.468067  19.529517   \n",
       "\n",
       "              \n",
       "i          3  \n",
       "t             \n",
       "0   4.874506  \n",
       "1  19.500661  \n",
       "2  23.603200  \n",
       "3   5.615383  \n",
       "4  14.067565  \n",
       "5  14.347808  \n",
       "6   8.555567  \n",
       "7   9.524997  \n",
       "8  -0.819713  \n",
       "9 -10.429077  "
      ]
     },
     "execution_count": 21,
     "metadata": {},
     "output_type": "execute_result"
    }
   ],
   "source": [
    "df.unstack(level=0)"
   ]
  },
  {
   "cell_type": "markdown",
   "metadata": {
    "slideshow": {
     "slide_type": "slide"
    }
   },
   "source": [
    "A fancier version of this is the `pivot_table` function, which can handle statistics."
   ]
  },
  {
   "cell_type": "code",
   "execution_count": 22,
   "metadata": {
    "slideshow": {
     "slide_type": "-"
    }
   },
   "outputs": [
    {
     "data": {
      "text/html": [
       "<div>\n",
       "<style scoped>\n",
       "    .dataframe tbody tr th:only-of-type {\n",
       "        vertical-align: middle;\n",
       "    }\n",
       "\n",
       "    .dataframe tbody tr th {\n",
       "        vertical-align: top;\n",
       "    }\n",
       "\n",
       "    .dataframe thead th {\n",
       "        text-align: right;\n",
       "    }\n",
       "</style>\n",
       "<table border=\"1\" class=\"dataframe\">\n",
       "  <thead>\n",
       "    <tr style=\"text-align: right;\">\n",
       "      <th>i</th>\n",
       "      <th>0</th>\n",
       "      <th>1</th>\n",
       "      <th>2</th>\n",
       "      <th>3</th>\n",
       "    </tr>\n",
       "    <tr>\n",
       "      <th>t</th>\n",
       "      <th></th>\n",
       "      <th></th>\n",
       "      <th></th>\n",
       "      <th></th>\n",
       "    </tr>\n",
       "  </thead>\n",
       "  <tbody>\n",
       "    <tr>\n",
       "      <th>0</th>\n",
       "      <td>6.688026</td>\n",
       "      <td>22.763822</td>\n",
       "      <td>15.345220</td>\n",
       "      <td>4.874506</td>\n",
       "    </tr>\n",
       "    <tr>\n",
       "      <th>1</th>\n",
       "      <td>7.522693</td>\n",
       "      <td>23.364728</td>\n",
       "      <td>15.759424</td>\n",
       "      <td>19.500661</td>\n",
       "    </tr>\n",
       "    <tr>\n",
       "      <th>2</th>\n",
       "      <td>5.794489</td>\n",
       "      <td>18.473118</td>\n",
       "      <td>17.433405</td>\n",
       "      <td>23.603200</td>\n",
       "    </tr>\n",
       "    <tr>\n",
       "      <th>3</th>\n",
       "      <td>5.964962</td>\n",
       "      <td>24.906417</td>\n",
       "      <td>9.599836</td>\n",
       "      <td>5.615383</td>\n",
       "    </tr>\n",
       "    <tr>\n",
       "      <th>4</th>\n",
       "      <td>4.411890</td>\n",
       "      <td>22.685359</td>\n",
       "      <td>14.815756</td>\n",
       "      <td>14.067565</td>\n",
       "    </tr>\n",
       "    <tr>\n",
       "      <th>5</th>\n",
       "      <td>5.411730</td>\n",
       "      <td>25.985350</td>\n",
       "      <td>11.567005</td>\n",
       "      <td>14.347808</td>\n",
       "    </tr>\n",
       "    <tr>\n",
       "      <th>6</th>\n",
       "      <td>7.471047</td>\n",
       "      <td>19.449606</td>\n",
       "      <td>15.707837</td>\n",
       "      <td>8.555567</td>\n",
       "    </tr>\n",
       "    <tr>\n",
       "      <th>7</th>\n",
       "      <td>4.224358</td>\n",
       "      <td>26.309989</td>\n",
       "      <td>7.037831</td>\n",
       "      <td>9.524997</td>\n",
       "    </tr>\n",
       "    <tr>\n",
       "      <th>8</th>\n",
       "      <td>5.014295</td>\n",
       "      <td>21.684198</td>\n",
       "      <td>11.862822</td>\n",
       "      <td>-0.819713</td>\n",
       "    </tr>\n",
       "    <tr>\n",
       "      <th>9</th>\n",
       "      <td>5.628636</td>\n",
       "      <td>21.468067</td>\n",
       "      <td>19.529517</td>\n",
       "      <td>-10.429077</td>\n",
       "    </tr>\n",
       "  </tbody>\n",
       "</table>\n",
       "</div>"
      ],
      "text/plain": [
       "i         0          1          2          3\n",
       "t                                           \n",
       "0  6.688026  22.763822  15.345220   4.874506\n",
       "1  7.522693  23.364728  15.759424  19.500661\n",
       "2  5.794489  18.473118  17.433405  23.603200\n",
       "3  5.964962  24.906417   9.599836   5.615383\n",
       "4  4.411890  22.685359  14.815756  14.067565\n",
       "5  5.411730  25.985350  11.567005  14.347808\n",
       "6  7.471047  19.449606  15.707837   8.555567\n",
       "7  4.224358  26.309989   7.037831   9.524997\n",
       "8  5.014295  21.684198  11.862822  -0.819713\n",
       "9  5.628636  21.468067  19.529517 -10.429077"
      ]
     },
     "execution_count": 22,
     "metadata": {},
     "output_type": "execute_result"
    }
   ],
   "source": [
    "pd.pivot(df.reset_index(),columns=\"i\",values='value2',index=\"t\")"
   ]
  },
  {
   "cell_type": "markdown",
   "metadata": {
    "slideshow": {
     "slide_type": "slide"
    }
   },
   "source": [
    "Cow data example"
   ]
  },
  {
   "cell_type": "code",
   "execution_count": 24,
   "metadata": {
    "slideshow": {
     "slide_type": "-"
    }
   },
   "outputs": [],
   "source": [
    "data_dir=\"C:/Users/jhtchns2/Box/ACE 592 SAE - Spring 2023/Class_Examples/3_Numeric/\"\n",
    "d = pd.read_csv(data_dir + \"naab_example.csv\")\n",
    "\n",
    "# Make an id\n",
    "d['id'] = d['breed'] + d['country_of_origin'] + d['sire_code'].astype(str)"
   ]
  },
  {
   "cell_type": "code",
   "execution_count": 25,
   "metadata": {
    "slideshow": {
     "slide_type": "slide"
    }
   },
   "outputs": [
    {
     "data": {
      "text/html": [
       "<div>\n",
       "<style scoped>\n",
       "    .dataframe tbody tr th:only-of-type {\n",
       "        vertical-align: middle;\n",
       "    }\n",
       "\n",
       "    .dataframe tbody tr th {\n",
       "        vertical-align: top;\n",
       "    }\n",
       "\n",
       "    .dataframe thead th {\n",
       "        text-align: right;\n",
       "    }\n",
       "</style>\n",
       "<table border=\"1\" class=\"dataframe\">\n",
       "  <thead>\n",
       "    <tr style=\"text-align: right;\">\n",
       "      <th>eval_period</th>\n",
       "      <th>2000-02</th>\n",
       "      <th>2000-05</th>\n",
       "      <th>2000-08</th>\n",
       "      <th>2000-11</th>\n",
       "      <th>2001-02</th>\n",
       "      <th>2001-05</th>\n",
       "      <th>2001-08</th>\n",
       "      <th>2001-11</th>\n",
       "      <th>2002-02</th>\n",
       "      <th>2002-05</th>\n",
       "      <th>...</th>\n",
       "      <th>2017-08</th>\n",
       "      <th>2017-12</th>\n",
       "      <th>2018-04</th>\n",
       "      <th>2018-08</th>\n",
       "      <th>2018-12</th>\n",
       "      <th>2019-04</th>\n",
       "      <th>2019-08</th>\n",
       "      <th>2019-12</th>\n",
       "      <th>2020-04</th>\n",
       "      <th>2020-08</th>\n",
       "    </tr>\n",
       "    <tr>\n",
       "      <th>id</th>\n",
       "      <th></th>\n",
       "      <th></th>\n",
       "      <th></th>\n",
       "      <th></th>\n",
       "      <th></th>\n",
       "      <th></th>\n",
       "      <th></th>\n",
       "      <th></th>\n",
       "      <th></th>\n",
       "      <th></th>\n",
       "      <th></th>\n",
       "      <th></th>\n",
       "      <th></th>\n",
       "      <th></th>\n",
       "      <th></th>\n",
       "      <th></th>\n",
       "      <th></th>\n",
       "      <th></th>\n",
       "      <th></th>\n",
       "      <th></th>\n",
       "      <th></th>\n",
       "    </tr>\n",
       "  </thead>\n",
       "  <tbody>\n",
       "    <tr>\n",
       "      <th>AY84010863</th>\n",
       "      <td>NaN</td>\n",
       "      <td>NaN</td>\n",
       "      <td>NaN</td>\n",
       "      <td>NaN</td>\n",
       "      <td>NaN</td>\n",
       "      <td>NaN</td>\n",
       "      <td>NaN</td>\n",
       "      <td>NaN</td>\n",
       "      <td>NaN</td>\n",
       "      <td>NaN</td>\n",
       "      <td>...</td>\n",
       "      <td>NaN</td>\n",
       "      <td>NaN</td>\n",
       "      <td>NaN</td>\n",
       "      <td>NaN</td>\n",
       "      <td>1054.142857</td>\n",
       "      <td>1054.142857</td>\n",
       "      <td>975.038847</td>\n",
       "      <td>956.241855</td>\n",
       "      <td>954.899273</td>\n",
       "      <td>932.919628</td>\n",
       "    </tr>\n",
       "    <tr>\n",
       "      <th>AY8401881</th>\n",
       "      <td>NaN</td>\n",
       "      <td>NaN</td>\n",
       "      <td>NaN</td>\n",
       "      <td>NaN</td>\n",
       "      <td>NaN</td>\n",
       "      <td>NaN</td>\n",
       "      <td>NaN</td>\n",
       "      <td>NaN</td>\n",
       "      <td>NaN</td>\n",
       "      <td>NaN</td>\n",
       "      <td>...</td>\n",
       "      <td>NaN</td>\n",
       "      <td>NaN</td>\n",
       "      <td>NaN</td>\n",
       "      <td>NaN</td>\n",
       "      <td>NaN</td>\n",
       "      <td>NaN</td>\n",
       "      <td>NaN</td>\n",
       "      <td>NaN</td>\n",
       "      <td>NaN</td>\n",
       "      <td>NaN</td>\n",
       "    </tr>\n",
       "    <tr>\n",
       "      <th>AY8401885</th>\n",
       "      <td>NaN</td>\n",
       "      <td>NaN</td>\n",
       "      <td>NaN</td>\n",
       "      <td>NaN</td>\n",
       "      <td>NaN</td>\n",
       "      <td>NaN</td>\n",
       "      <td>NaN</td>\n",
       "      <td>NaN</td>\n",
       "      <td>NaN</td>\n",
       "      <td>NaN</td>\n",
       "      <td>...</td>\n",
       "      <td>NaN</td>\n",
       "      <td>NaN</td>\n",
       "      <td>NaN</td>\n",
       "      <td>NaN</td>\n",
       "      <td>NaN</td>\n",
       "      <td>NaN</td>\n",
       "      <td>891.235589</td>\n",
       "      <td>879.487469</td>\n",
       "      <td>768.072290</td>\n",
       "      <td>NaN</td>\n",
       "    </tr>\n",
       "    <tr>\n",
       "      <th>AY8401886</th>\n",
       "      <td>NaN</td>\n",
       "      <td>NaN</td>\n",
       "      <td>NaN</td>\n",
       "      <td>NaN</td>\n",
       "      <td>NaN</td>\n",
       "      <td>NaN</td>\n",
       "      <td>NaN</td>\n",
       "      <td>NaN</td>\n",
       "      <td>NaN</td>\n",
       "      <td>NaN</td>\n",
       "      <td>...</td>\n",
       "      <td>1256.993734</td>\n",
       "      <td>1282.056391</td>\n",
       "      <td>1300.070175</td>\n",
       "      <td>1318.867168</td>\n",
       "      <td>1410.502506</td>\n",
       "      <td>1246.028822</td>\n",
       "      <td>1040.828321</td>\n",
       "      <td>1115.233083</td>\n",
       "      <td>1093.371038</td>\n",
       "      <td>840.605119</td>\n",
       "    </tr>\n",
       "    <tr>\n",
       "      <th>AY8401887</th>\n",
       "      <td>NaN</td>\n",
       "      <td>NaN</td>\n",
       "      <td>NaN</td>\n",
       "      <td>NaN</td>\n",
       "      <td>NaN</td>\n",
       "      <td>NaN</td>\n",
       "      <td>NaN</td>\n",
       "      <td>NaN</td>\n",
       "      <td>NaN</td>\n",
       "      <td>NaN</td>\n",
       "      <td>...</td>\n",
       "      <td>NaN</td>\n",
       "      <td>NaN</td>\n",
       "      <td>NaN</td>\n",
       "      <td>NaN</td>\n",
       "      <td>NaN</td>\n",
       "      <td>NaN</td>\n",
       "      <td>NaN</td>\n",
       "      <td>NaN</td>\n",
       "      <td>NaN</td>\n",
       "      <td>NaN</td>\n",
       "    </tr>\n",
       "    <tr>\n",
       "      <th>...</th>\n",
       "      <td>...</td>\n",
       "      <td>...</td>\n",
       "      <td>...</td>\n",
       "      <td>...</td>\n",
       "      <td>...</td>\n",
       "      <td>...</td>\n",
       "      <td>...</td>\n",
       "      <td>...</td>\n",
       "      <td>...</td>\n",
       "      <td>...</td>\n",
       "      <td>...</td>\n",
       "      <td>...</td>\n",
       "      <td>...</td>\n",
       "      <td>...</td>\n",
       "      <td>...</td>\n",
       "      <td>...</td>\n",
       "      <td>...</td>\n",
       "      <td>...</td>\n",
       "      <td>...</td>\n",
       "      <td>...</td>\n",
       "      <td>...</td>\n",
       "    </tr>\n",
       "    <tr>\n",
       "      <th>WWUSA9334</th>\n",
       "      <td>NaN</td>\n",
       "      <td>NaN</td>\n",
       "      <td>NaN</td>\n",
       "      <td>NaN</td>\n",
       "      <td>NaN</td>\n",
       "      <td>NaN</td>\n",
       "      <td>NaN</td>\n",
       "      <td>NaN</td>\n",
       "      <td>NaN</td>\n",
       "      <td>NaN</td>\n",
       "      <td>...</td>\n",
       "      <td>NaN</td>\n",
       "      <td>NaN</td>\n",
       "      <td>NaN</td>\n",
       "      <td>NaN</td>\n",
       "      <td>NaN</td>\n",
       "      <td>NaN</td>\n",
       "      <td>NaN</td>\n",
       "      <td>NaN</td>\n",
       "      <td>NaN</td>\n",
       "      <td>NaN</td>\n",
       "    </tr>\n",
       "    <tr>\n",
       "      <th>WWUSA9335</th>\n",
       "      <td>NaN</td>\n",
       "      <td>NaN</td>\n",
       "      <td>NaN</td>\n",
       "      <td>NaN</td>\n",
       "      <td>NaN</td>\n",
       "      <td>NaN</td>\n",
       "      <td>NaN</td>\n",
       "      <td>NaN</td>\n",
       "      <td>NaN</td>\n",
       "      <td>970.0</td>\n",
       "      <td>...</td>\n",
       "      <td>NaN</td>\n",
       "      <td>NaN</td>\n",
       "      <td>NaN</td>\n",
       "      <td>NaN</td>\n",
       "      <td>NaN</td>\n",
       "      <td>NaN</td>\n",
       "      <td>NaN</td>\n",
       "      <td>NaN</td>\n",
       "      <td>NaN</td>\n",
       "      <td>NaN</td>\n",
       "    </tr>\n",
       "    <tr>\n",
       "      <th>WWUSA9336</th>\n",
       "      <td>NaN</td>\n",
       "      <td>NaN</td>\n",
       "      <td>NaN</td>\n",
       "      <td>NaN</td>\n",
       "      <td>NaN</td>\n",
       "      <td>NaN</td>\n",
       "      <td>NaN</td>\n",
       "      <td>NaN</td>\n",
       "      <td>NaN</td>\n",
       "      <td>NaN</td>\n",
       "      <td>...</td>\n",
       "      <td>NaN</td>\n",
       "      <td>NaN</td>\n",
       "      <td>NaN</td>\n",
       "      <td>NaN</td>\n",
       "      <td>NaN</td>\n",
       "      <td>NaN</td>\n",
       "      <td>NaN</td>\n",
       "      <td>NaN</td>\n",
       "      <td>NaN</td>\n",
       "      <td>NaN</td>\n",
       "    </tr>\n",
       "    <tr>\n",
       "      <th>WWUSA9374</th>\n",
       "      <td>NaN</td>\n",
       "      <td>NaN</td>\n",
       "      <td>NaN</td>\n",
       "      <td>NaN</td>\n",
       "      <td>NaN</td>\n",
       "      <td>NaN</td>\n",
       "      <td>NaN</td>\n",
       "      <td>NaN</td>\n",
       "      <td>NaN</td>\n",
       "      <td>NaN</td>\n",
       "      <td>...</td>\n",
       "      <td>NaN</td>\n",
       "      <td>NaN</td>\n",
       "      <td>NaN</td>\n",
       "      <td>NaN</td>\n",
       "      <td>NaN</td>\n",
       "      <td>NaN</td>\n",
       "      <td>NaN</td>\n",
       "      <td>NaN</td>\n",
       "      <td>NaN</td>\n",
       "      <td>NaN</td>\n",
       "    </tr>\n",
       "    <tr>\n",
       "      <th>WWUSA9439</th>\n",
       "      <td>2190.0</td>\n",
       "      <td>2200.0</td>\n",
       "      <td>1526.0</td>\n",
       "      <td>1496.0</td>\n",
       "      <td>1454.0</td>\n",
       "      <td>1515.0</td>\n",
       "      <td>1500.0</td>\n",
       "      <td>1500.0</td>\n",
       "      <td>1534.0</td>\n",
       "      <td>1507.0</td>\n",
       "      <td>...</td>\n",
       "      <td>NaN</td>\n",
       "      <td>NaN</td>\n",
       "      <td>NaN</td>\n",
       "      <td>NaN</td>\n",
       "      <td>NaN</td>\n",
       "      <td>NaN</td>\n",
       "      <td>NaN</td>\n",
       "      <td>NaN</td>\n",
       "      <td>NaN</td>\n",
       "      <td>NaN</td>\n",
       "    </tr>\n",
       "  </tbody>\n",
       "</table>\n",
       "<p>21309 rows × 70 columns</p>\n",
       "</div>"
      ],
      "text/plain": [
       "eval_period  2000-02  2000-05  2000-08  2000-11  2001-02  2001-05  2001-08  \\\n",
       "id                                                                           \n",
       "AY84010863       NaN      NaN      NaN      NaN      NaN      NaN      NaN   \n",
       "AY8401881        NaN      NaN      NaN      NaN      NaN      NaN      NaN   \n",
       "AY8401885        NaN      NaN      NaN      NaN      NaN      NaN      NaN   \n",
       "AY8401886        NaN      NaN      NaN      NaN      NaN      NaN      NaN   \n",
       "AY8401887        NaN      NaN      NaN      NaN      NaN      NaN      NaN   \n",
       "...              ...      ...      ...      ...      ...      ...      ...   \n",
       "WWUSA9334        NaN      NaN      NaN      NaN      NaN      NaN      NaN   \n",
       "WWUSA9335        NaN      NaN      NaN      NaN      NaN      NaN      NaN   \n",
       "WWUSA9336        NaN      NaN      NaN      NaN      NaN      NaN      NaN   \n",
       "WWUSA9374        NaN      NaN      NaN      NaN      NaN      NaN      NaN   \n",
       "WWUSA9439     2190.0   2200.0   1526.0   1496.0   1454.0   1515.0   1500.0   \n",
       "\n",
       "eval_period  2001-11  2002-02  2002-05  ...      2017-08      2017-12  \\\n",
       "id                                      ...                             \n",
       "AY84010863       NaN      NaN      NaN  ...          NaN          NaN   \n",
       "AY8401881        NaN      NaN      NaN  ...          NaN          NaN   \n",
       "AY8401885        NaN      NaN      NaN  ...          NaN          NaN   \n",
       "AY8401886        NaN      NaN      NaN  ...  1256.993734  1282.056391   \n",
       "AY8401887        NaN      NaN      NaN  ...          NaN          NaN   \n",
       "...              ...      ...      ...  ...          ...          ...   \n",
       "WWUSA9334        NaN      NaN      NaN  ...          NaN          NaN   \n",
       "WWUSA9335        NaN      NaN    970.0  ...          NaN          NaN   \n",
       "WWUSA9336        NaN      NaN      NaN  ...          NaN          NaN   \n",
       "WWUSA9374        NaN      NaN      NaN  ...          NaN          NaN   \n",
       "WWUSA9439     1500.0   1534.0   1507.0  ...          NaN          NaN   \n",
       "\n",
       "eval_period      2018-04      2018-08      2018-12      2019-04      2019-08  \\\n",
       "id                                                                             \n",
       "AY84010863           NaN          NaN  1054.142857  1054.142857   975.038847   \n",
       "AY8401881            NaN          NaN          NaN          NaN          NaN   \n",
       "AY8401885            NaN          NaN          NaN          NaN   891.235589   \n",
       "AY8401886    1300.070175  1318.867168  1410.502506  1246.028822  1040.828321   \n",
       "AY8401887            NaN          NaN          NaN          NaN          NaN   \n",
       "...                  ...          ...          ...          ...          ...   \n",
       "WWUSA9334            NaN          NaN          NaN          NaN          NaN   \n",
       "WWUSA9335            NaN          NaN          NaN          NaN          NaN   \n",
       "WWUSA9336            NaN          NaN          NaN          NaN          NaN   \n",
       "WWUSA9374            NaN          NaN          NaN          NaN          NaN   \n",
       "WWUSA9439            NaN          NaN          NaN          NaN          NaN   \n",
       "\n",
       "eval_period      2019-12      2020-04     2020-08  \n",
       "id                                                 \n",
       "AY84010863    956.241855   954.899273  932.919628  \n",
       "AY8401881            NaN          NaN         NaN  \n",
       "AY8401885     879.487469   768.072290         NaN  \n",
       "AY8401886    1115.233083  1093.371038  840.605119  \n",
       "AY8401887            NaN          NaN         NaN  \n",
       "...                  ...          ...         ...  \n",
       "WWUSA9334            NaN          NaN         NaN  \n",
       "WWUSA9335            NaN          NaN         NaN  \n",
       "WWUSA9336            NaN          NaN         NaN  \n",
       "WWUSA9374            NaN          NaN         NaN  \n",
       "WWUSA9439            NaN          NaN         NaN  \n",
       "\n",
       "[21309 rows x 70 columns]"
      ]
     },
     "execution_count": 25,
     "metadata": {},
     "output_type": "execute_result"
    }
   ],
   "source": [
    "pd.pivot_table(d,index='id',columns=['eval_period'],values='pta_milk')"
   ]
  },
  {
   "cell_type": "markdown",
   "metadata": {
    "slideshow": {
     "slide_type": "slide"
    }
   },
   "source": [
    "Using an index that applies to more than one cow means we can specify an \"aggfunc\" (aggregation function):"
   ]
  },
  {
   "cell_type": "code",
   "execution_count": 26,
   "metadata": {
    "slideshow": {
     "slide_type": "-"
    }
   },
   "outputs": [
    {
     "data": {
      "text/html": [
       "<div>\n",
       "<style scoped>\n",
       "    .dataframe tbody tr th:only-of-type {\n",
       "        vertical-align: middle;\n",
       "    }\n",
       "\n",
       "    .dataframe tbody tr th {\n",
       "        vertical-align: top;\n",
       "    }\n",
       "\n",
       "    .dataframe thead th {\n",
       "        text-align: right;\n",
       "    }\n",
       "</style>\n",
       "<table border=\"1\" class=\"dataframe\">\n",
       "  <thead>\n",
       "    <tr style=\"text-align: right;\">\n",
       "      <th>breed</th>\n",
       "      <th>AY</th>\n",
       "      <th>BS</th>\n",
       "      <th>GU</th>\n",
       "      <th>HO</th>\n",
       "      <th>JE</th>\n",
       "      <th>MI</th>\n",
       "      <th>MO</th>\n",
       "      <th>MS</th>\n",
       "      <th>NR</th>\n",
       "      <th>RE</th>\n",
       "      <th>SM</th>\n",
       "      <th>SR</th>\n",
       "      <th>WW</th>\n",
       "    </tr>\n",
       "    <tr>\n",
       "      <th>eval_period</th>\n",
       "      <th></th>\n",
       "      <th></th>\n",
       "      <th></th>\n",
       "      <th></th>\n",
       "      <th></th>\n",
       "      <th></th>\n",
       "      <th></th>\n",
       "      <th></th>\n",
       "      <th></th>\n",
       "      <th></th>\n",
       "      <th></th>\n",
       "      <th></th>\n",
       "      <th></th>\n",
       "    </tr>\n",
       "  </thead>\n",
       "  <tbody>\n",
       "    <tr>\n",
       "      <th>2000-02</th>\n",
       "      <td>1078.620000</td>\n",
       "      <td>1314.545455</td>\n",
       "      <td>1296.542857</td>\n",
       "      <td>1563.768177</td>\n",
       "      <td>1268.117647</td>\n",
       "      <td>NaN</td>\n",
       "      <td>NaN</td>\n",
       "      <td>1087.714286</td>\n",
       "      <td>NaN</td>\n",
       "      <td>NaN</td>\n",
       "      <td>NaN</td>\n",
       "      <td>NaN</td>\n",
       "      <td>1413.426667</td>\n",
       "    </tr>\n",
       "    <tr>\n",
       "      <th>2000-05</th>\n",
       "      <td>1136.027027</td>\n",
       "      <td>1362.111111</td>\n",
       "      <td>1434.968750</td>\n",
       "      <td>1634.062262</td>\n",
       "      <td>1370.114583</td>\n",
       "      <td>NaN</td>\n",
       "      <td>NaN</td>\n",
       "      <td>1185.714286</td>\n",
       "      <td>NaN</td>\n",
       "      <td>NaN</td>\n",
       "      <td>NaN</td>\n",
       "      <td>NaN</td>\n",
       "      <td>1353.507463</td>\n",
       "    </tr>\n",
       "    <tr>\n",
       "      <th>2000-08</th>\n",
       "      <td>1164.090909</td>\n",
       "      <td>1373.444444</td>\n",
       "      <td>1536.958333</td>\n",
       "      <td>1646.885486</td>\n",
       "      <td>1386.071429</td>\n",
       "      <td>NaN</td>\n",
       "      <td>NaN</td>\n",
       "      <td>1161.285714</td>\n",
       "      <td>NaN</td>\n",
       "      <td>NaN</td>\n",
       "      <td>NaN</td>\n",
       "      <td>NaN</td>\n",
       "      <td>652.254545</td>\n",
       "    </tr>\n",
       "    <tr>\n",
       "      <th>2000-11</th>\n",
       "      <td>1209.303030</td>\n",
       "      <td>1466.000000</td>\n",
       "      <td>1519.043478</td>\n",
       "      <td>1677.508021</td>\n",
       "      <td>1394.630000</td>\n",
       "      <td>NaN</td>\n",
       "      <td>NaN</td>\n",
       "      <td>1063.142857</td>\n",
       "      <td>NaN</td>\n",
       "      <td>NaN</td>\n",
       "      <td>NaN</td>\n",
       "      <td>NaN</td>\n",
       "      <td>685.795918</td>\n",
       "    </tr>\n",
       "    <tr>\n",
       "      <th>2001-02</th>\n",
       "      <td>1211.911765</td>\n",
       "      <td>1466.571429</td>\n",
       "      <td>1617.818182</td>\n",
       "      <td>1714.026560</td>\n",
       "      <td>1439.809524</td>\n",
       "      <td>NaN</td>\n",
       "      <td>NaN</td>\n",
       "      <td>1167.375000</td>\n",
       "      <td>NaN</td>\n",
       "      <td>NaN</td>\n",
       "      <td>NaN</td>\n",
       "      <td>NaN</td>\n",
       "      <td>681.295455</td>\n",
       "    </tr>\n",
       "    <tr>\n",
       "      <th>...</th>\n",
       "      <td>...</td>\n",
       "      <td>...</td>\n",
       "      <td>...</td>\n",
       "      <td>...</td>\n",
       "      <td>...</td>\n",
       "      <td>...</td>\n",
       "      <td>...</td>\n",
       "      <td>...</td>\n",
       "      <td>...</td>\n",
       "      <td>...</td>\n",
       "      <td>...</td>\n",
       "      <td>...</td>\n",
       "      <td>...</td>\n",
       "    </tr>\n",
       "    <tr>\n",
       "      <th>2019-04</th>\n",
       "      <td>1508.389523</td>\n",
       "      <td>2286.680058</td>\n",
       "      <td>1585.225705</td>\n",
       "      <td>3251.635882</td>\n",
       "      <td>2217.836529</td>\n",
       "      <td>NaN</td>\n",
       "      <td>8.5</td>\n",
       "      <td>703.710097</td>\n",
       "      <td>1748.428571</td>\n",
       "      <td>991.800000</td>\n",
       "      <td>NaN</td>\n",
       "      <td>1194.785714</td>\n",
       "      <td>245.571429</td>\n",
       "    </tr>\n",
       "    <tr>\n",
       "      <th>2019-08</th>\n",
       "      <td>1476.929166</td>\n",
       "      <td>2296.416700</td>\n",
       "      <td>1539.566514</td>\n",
       "      <td>3265.445018</td>\n",
       "      <td>2227.282702</td>\n",
       "      <td>NaN</td>\n",
       "      <td>-39.5</td>\n",
       "      <td>783.097222</td>\n",
       "      <td>1783.428571</td>\n",
       "      <td>961.346154</td>\n",
       "      <td>NaN</td>\n",
       "      <td>1295.428571</td>\n",
       "      <td>-66.000000</td>\n",
       "    </tr>\n",
       "    <tr>\n",
       "      <th>2019-12</th>\n",
       "      <td>1467.566768</td>\n",
       "      <td>2324.473739</td>\n",
       "      <td>1525.470566</td>\n",
       "      <td>3296.811459</td>\n",
       "      <td>2297.008547</td>\n",
       "      <td>-1670.0</td>\n",
       "      <td>-6.0</td>\n",
       "      <td>785.478175</td>\n",
       "      <td>1752.625000</td>\n",
       "      <td>1040.260870</td>\n",
       "      <td>-480.0</td>\n",
       "      <td>1278.285714</td>\n",
       "      <td>130.000000</td>\n",
       "    </tr>\n",
       "    <tr>\n",
       "      <th>2020-04</th>\n",
       "      <td>1459.563196</td>\n",
       "      <td>2321.168832</td>\n",
       "      <td>1405.034589</td>\n",
       "      <td>3241.028369</td>\n",
       "      <td>2219.641943</td>\n",
       "      <td>-2191.0</td>\n",
       "      <td>-452.0</td>\n",
       "      <td>817.612733</td>\n",
       "      <td>1720.555556</td>\n",
       "      <td>717.038462</td>\n",
       "      <td>-997.0</td>\n",
       "      <td>1186.571429</td>\n",
       "      <td>-601.428571</td>\n",
       "    </tr>\n",
       "    <tr>\n",
       "      <th>2020-08</th>\n",
       "      <td>1463.068668</td>\n",
       "      <td>2256.733842</td>\n",
       "      <td>1380.596169</td>\n",
       "      <td>3231.587631</td>\n",
       "      <td>2206.785783</td>\n",
       "      <td>-2117.0</td>\n",
       "      <td>-335.0</td>\n",
       "      <td>763.465691</td>\n",
       "      <td>1848.333333</td>\n",
       "      <td>1103.166667</td>\n",
       "      <td>-954.0</td>\n",
       "      <td>1390.857143</td>\n",
       "      <td>-686.500000</td>\n",
       "    </tr>\n",
       "  </tbody>\n",
       "</table>\n",
       "<p>70 rows × 13 columns</p>\n",
       "</div>"
      ],
      "text/plain": [
       "breed                 AY           BS           GU           HO           JE  \\\n",
       "eval_period                                                                    \n",
       "2000-02      1078.620000  1314.545455  1296.542857  1563.768177  1268.117647   \n",
       "2000-05      1136.027027  1362.111111  1434.968750  1634.062262  1370.114583   \n",
       "2000-08      1164.090909  1373.444444  1536.958333  1646.885486  1386.071429   \n",
       "2000-11      1209.303030  1466.000000  1519.043478  1677.508021  1394.630000   \n",
       "2001-02      1211.911765  1466.571429  1617.818182  1714.026560  1439.809524   \n",
       "...                  ...          ...          ...          ...          ...   \n",
       "2019-04      1508.389523  2286.680058  1585.225705  3251.635882  2217.836529   \n",
       "2019-08      1476.929166  2296.416700  1539.566514  3265.445018  2227.282702   \n",
       "2019-12      1467.566768  2324.473739  1525.470566  3296.811459  2297.008547   \n",
       "2020-04      1459.563196  2321.168832  1405.034589  3241.028369  2219.641943   \n",
       "2020-08      1463.068668  2256.733842  1380.596169  3231.587631  2206.785783   \n",
       "\n",
       "breed            MI     MO           MS           NR           RE     SM  \\\n",
       "eval_period                                                                \n",
       "2000-02         NaN    NaN  1087.714286          NaN          NaN    NaN   \n",
       "2000-05         NaN    NaN  1185.714286          NaN          NaN    NaN   \n",
       "2000-08         NaN    NaN  1161.285714          NaN          NaN    NaN   \n",
       "2000-11         NaN    NaN  1063.142857          NaN          NaN    NaN   \n",
       "2001-02         NaN    NaN  1167.375000          NaN          NaN    NaN   \n",
       "...             ...    ...          ...          ...          ...    ...   \n",
       "2019-04         NaN    8.5   703.710097  1748.428571   991.800000    NaN   \n",
       "2019-08         NaN  -39.5   783.097222  1783.428571   961.346154    NaN   \n",
       "2019-12     -1670.0   -6.0   785.478175  1752.625000  1040.260870 -480.0   \n",
       "2020-04     -2191.0 -452.0   817.612733  1720.555556   717.038462 -997.0   \n",
       "2020-08     -2117.0 -335.0   763.465691  1848.333333  1103.166667 -954.0   \n",
       "\n",
       "breed                 SR           WW  \n",
       "eval_period                            \n",
       "2000-02              NaN  1413.426667  \n",
       "2000-05              NaN  1353.507463  \n",
       "2000-08              NaN   652.254545  \n",
       "2000-11              NaN   685.795918  \n",
       "2001-02              NaN   681.295455  \n",
       "...                  ...          ...  \n",
       "2019-04      1194.785714   245.571429  \n",
       "2019-08      1295.428571   -66.000000  \n",
       "2019-12      1278.285714   130.000000  \n",
       "2020-04      1186.571429  -601.428571  \n",
       "2020-08      1390.857143  -686.500000  \n",
       "\n",
       "[70 rows x 13 columns]"
      ]
     },
     "execution_count": 26,
     "metadata": {},
     "output_type": "execute_result"
    }
   ],
   "source": [
    "breed_avgs = pd.pivot_table(d,index='breed',columns=['eval_period'],values='pta_milk',aggfunc=\"mean\")\n",
    "\n",
    "breed_avgs.T"
   ]
  },
  {
   "cell_type": "code",
   "execution_count": 27,
   "metadata": {
    "scrolled": true,
    "slideshow": {
     "slide_type": "slide"
    }
   },
   "outputs": [
    {
     "data": {
      "text/plain": [
       "<AxesSubplot: xlabel='eval_period'>"
      ]
     },
     "execution_count": 27,
     "metadata": {},
     "output_type": "execute_result"
    },
    {
     "data": {
      "image/png": "[encoded data removed]",
      "text/plain": [
       "<Figure size 640x480 with 1 Axes>"
      ]
     },
     "metadata": {},
     "output_type": "display_data"
    }
   ],
   "source": [
    "breed_avgs.T.iloc[:,:5].plot()"
   ]
  },
  {
   "cell_type": "markdown",
   "metadata": {
    "slideshow": {
     "slide_type": "-"
    }
   },
   "source": [
    "Most \"improvement\" in milk yield has happened with \"HO\" (Holstein) cows."
   ]
  }
 ],
 "metadata": {
  "celltoolbar": "Slideshow",
  "kernelspec": {
   "display_name": "Python 3 (ipykernel)",
   "language": "python",
   "name": "python3"
  },
  "language_info": {
   "codemirror_mode": {
    "name": "ipython",
    "version": 3
   },
   "file_extension": ".py",
   "mimetype": "text/x-python",
   "name": "python",
   "nbconvert_exporter": "python",
   "pygments_lexer": "ipython3",
   "version": "3.11.0"
  },
  "rise": {
   "height": "80%",
   "transition": "none"
  }
 },
 "nbformat": 4,
 "nbformat_minor": 4
}
