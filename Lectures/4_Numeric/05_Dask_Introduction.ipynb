{
 "cells": [
  {
   "cell_type": "markdown",
   "metadata": {
    "slideshow": {
     "slide_type": "slide"
    }
   },
   "source": [
    "# Intro to Dask\n"
   ]
  },
  {
   "cell_type": "markdown",
   "metadata": {
    "slideshow": {
     "slide_type": "slide"
    }
   },
   "source": [
    "### What is dask?\n",
    "A package in python that does __distributed programming__. It is useful as a higher level interface for doing complicated distributed programming in an intuitive way. \n",
    "\n",
    "Distributed programming is useful when you don't have the ability to read things entirely into memory, and so of great use when we have large datasets.\n",
    "\n",
    "It is similar in function to __Apache Spark__ or the `pyspark` package for Python.\n",
    "\n",
    "Before we learned how to manually parallelize operations, but in `dask` it will more or less be done automatically. A great advantage is that the interface mimics `pandas` and `numpy` and so can be used easily.\n"
   ]
  },
  {
   "cell_type": "markdown",
   "metadata": {
    "slideshow": {
     "slide_type": "slide"
    }
   },
   "source": [
    "\n",
    "### Delayed tasks\n",
    "\n",
    "One of the first handy things that `dask` can do is do functions in a batch using the `delayed` framework\n",
    "\n",
    "Before doing that, we need to initiate a client for us to work with:"
   ]
  },
  {
   "cell_type": "code",
   "execution_count": 1,
   "metadata": {
    "slideshow": {
     "slide_type": "-"
    }
   },
   "outputs": [
    {
     "data": {
      "text/html": [
       "<div>\n",
       "    <div style=\"width: 24px; height: 24px; background-color: #e1e1e1; border: 3px solid #9D9D9D; border-radius: 5px; position: absolute;\"> </div>\n",
       "    <div style=\"margin-left: 48px;\">\n",
       "        <h3 style=\"margin-bottom: 0px;\">Client</h3>\n",
       "        <p style=\"color: #9D9D9D; margin-bottom: 0px;\">Client-2924ea9e-cf32-11ed-a908-7cb27da2d36a</p>\n",
       "        <table style=\"width: 100%; text-align: left;\">\n",
       "\n",
       "        <tr>\n",
       "        \n",
       "            <td style=\"text-align: left;\"><strong>Connection method:</strong> Cluster object</td>\n",
       "            <td style=\"text-align: left;\"><strong>Cluster type:</strong> distributed.LocalCluster</td>\n",
       "        \n",
       "        </tr>\n",
       "\n",
       "        \n",
       "            <tr>\n",
       "                <td style=\"text-align: left;\">\n",
       "                    <strong>Dashboard: </strong> <a href=\"http://127.0.0.1:8787/status\" target=\"_blank\">http://127.0.0.1:8787/status</a>\n",
       "                </td>\n",
       "                <td style=\"text-align: left;\"></td>\n",
       "            </tr>\n",
       "        \n",
       "\n",
       "        </table>\n",
       "\n",
       "        \n",
       "\n",
       "        \n",
       "            <details>\n",
       "            <summary style=\"margin-bottom: 20px;\"><h3 style=\"display: inline;\">Cluster Info</h3></summary>\n",
       "            <div class=\"jp-RenderedHTMLCommon jp-RenderedHTML jp-mod-trusted jp-OutputArea-output\">\n",
       "    <div style=\"width: 24px; height: 24px; background-color: #e1e1e1; border: 3px solid #9D9D9D; border-radius: 5px; position: absolute;\">\n",
       "    </div>\n",
       "    <div style=\"margin-left: 48px;\">\n",
       "        <h3 style=\"margin-bottom: 0px; margin-top: 0px;\">LocalCluster</h3>\n",
       "        <p style=\"color: #9D9D9D; margin-bottom: 0px;\">1dff4088</p>\n",
       "        <table style=\"width: 100%; text-align: left;\">\n",
       "            <tr>\n",
       "                <td style=\"text-align: left;\">\n",
       "                    <strong>Dashboard:</strong> <a href=\"http://127.0.0.1:8787/status\" target=\"_blank\">http://127.0.0.1:8787/status</a>\n",
       "                </td>\n",
       "                <td style=\"text-align: left;\">\n",
       "                    <strong>Workers:</strong> 4\n",
       "                </td>\n",
       "            </tr>\n",
       "            <tr>\n",
       "                <td style=\"text-align: left;\">\n",
       "                    <strong>Total threads:</strong> 8\n",
       "                </td>\n",
       "                <td style=\"text-align: left;\">\n",
       "                    <strong>Total memory:</strong> 31.67 GiB\n",
       "                </td>\n",
       "            </tr>\n",
       "            \n",
       "            <tr>\n",
       "    <td style=\"text-align: left;\"><strong>Status:</strong> running</td>\n",
       "    <td style=\"text-align: left;\"><strong>Using processes:</strong> True</td>\n",
       "</tr>\n",
       "\n",
       "            \n",
       "        </table>\n",
       "\n",
       "        <details>\n",
       "            <summary style=\"margin-bottom: 20px;\">\n",
       "                <h3 style=\"display: inline;\">Scheduler Info</h3>\n",
       "            </summary>\n",
       "\n",
       "            <div style=\"\">\n",
       "    <div>\n",
       "        <div style=\"width: 24px; height: 24px; background-color: #FFF7E5; border: 3px solid #FF6132; border-radius: 5px; position: absolute;\"> </div>\n",
       "        <div style=\"margin-left: 48px;\">\n",
       "            <h3 style=\"margin-bottom: 0px;\">Scheduler</h3>\n",
       "            <p style=\"color: #9D9D9D; margin-bottom: 0px;\">Scheduler-8de7b7a4-c95d-453d-a9a5-4462ec21c2c0</p>\n",
       "            <table style=\"width: 100%; text-align: left;\">\n",
       "                <tr>\n",
       "                    <td style=\"text-align: left;\">\n",
       "                        <strong>Comm:</strong> tcp://127.0.0.1:52012\n",
       "                    </td>\n",
       "                    <td style=\"text-align: left;\">\n",
       "                        <strong>Workers:</strong> 4\n",
       "                    </td>\n",
       "                </tr>\n",
       "                <tr>\n",
       "                    <td style=\"text-align: left;\">\n",
       "                        <strong>Dashboard:</strong> <a href=\"http://127.0.0.1:8787/status\" target=\"_blank\">http://127.0.0.1:8787/status</a>\n",
       "                    </td>\n",
       "                    <td style=\"text-align: left;\">\n",
       "                        <strong>Total threads:</strong> 8\n",
       "                    </td>\n",
       "                </tr>\n",
       "                <tr>\n",
       "                    <td style=\"text-align: left;\">\n",
       "                        <strong>Started:</strong> Just now\n",
       "                    </td>\n",
       "                    <td style=\"text-align: left;\">\n",
       "                        <strong>Total memory:</strong> 31.67 GiB\n",
       "                    </td>\n",
       "                </tr>\n",
       "            </table>\n",
       "        </div>\n",
       "    </div>\n",
       "\n",
       "    <details style=\"margin-left: 48px;\">\n",
       "        <summary style=\"margin-bottom: 20px;\">\n",
       "            <h3 style=\"display: inline;\">Workers</h3>\n",
       "        </summary>\n",
       "\n",
       "        \n",
       "        <div style=\"margin-bottom: 20px;\">\n",
       "            <div style=\"width: 24px; height: 24px; background-color: #DBF5FF; border: 3px solid #4CC9FF; border-radius: 5px; position: absolute;\"> </div>\n",
       "            <div style=\"margin-left: 48px;\">\n",
       "            <details>\n",
       "                <summary>\n",
       "                    <h4 style=\"margin-bottom: 0px; display: inline;\">Worker: 0</h4>\n",
       "                </summary>\n",
       "                <table style=\"width: 100%; text-align: left;\">\n",
       "                    <tr>\n",
       "                        <td style=\"text-align: left;\">\n",
       "                            <strong>Comm: </strong> tcp://127.0.0.1:52031\n",
       "                        </td>\n",
       "                        <td style=\"text-align: left;\">\n",
       "                            <strong>Total threads: </strong> 2\n",
       "                        </td>\n",
       "                    </tr>\n",
       "                    <tr>\n",
       "                        <td style=\"text-align: left;\">\n",
       "                            <strong>Dashboard: </strong> <a href=\"http://127.0.0.1:52033/status\" target=\"_blank\">http://127.0.0.1:52033/status</a>\n",
       "                        </td>\n",
       "                        <td style=\"text-align: left;\">\n",
       "                            <strong>Memory: </strong> 7.92 GiB\n",
       "                        </td>\n",
       "                    </tr>\n",
       "                    <tr>\n",
       "                        <td style=\"text-align: left;\">\n",
       "                            <strong>Nanny: </strong> tcp://127.0.0.1:52015\n",
       "                        </td>\n",
       "                        <td style=\"text-align: left;\"></td>\n",
       "                    </tr>\n",
       "                    <tr>\n",
       "                        <td colspan=\"2\" style=\"text-align: left;\">\n",
       "                            <strong>Local directory: </strong> C:\\Users\\jhtchns2\\AppData\\Local\\Temp\\dask-worker-space\\worker-vmo5zk0q\n",
       "                        </td>\n",
       "                    </tr>\n",
       "\n",
       "                    \n",
       "\n",
       "                    \n",
       "\n",
       "                </table>\n",
       "            </details>\n",
       "            </div>\n",
       "        </div>\n",
       "        \n",
       "        <div style=\"margin-bottom: 20px;\">\n",
       "            <div style=\"width: 24px; height: 24px; background-color: #DBF5FF; border: 3px solid #4CC9FF; border-radius: 5px; position: absolute;\"> </div>\n",
       "            <div style=\"margin-left: 48px;\">\n",
       "            <details>\n",
       "                <summary>\n",
       "                    <h4 style=\"margin-bottom: 0px; display: inline;\">Worker: 1</h4>\n",
       "                </summary>\n",
       "                <table style=\"width: 100%; text-align: left;\">\n",
       "                    <tr>\n",
       "                        <td style=\"text-align: left;\">\n",
       "                            <strong>Comm: </strong> tcp://127.0.0.1:52035\n",
       "                        </td>\n",
       "                        <td style=\"text-align: left;\">\n",
       "                            <strong>Total threads: </strong> 2\n",
       "                        </td>\n",
       "                    </tr>\n",
       "                    <tr>\n",
       "                        <td style=\"text-align: left;\">\n",
       "                            <strong>Dashboard: </strong> <a href=\"http://127.0.0.1:52039/status\" target=\"_blank\">http://127.0.0.1:52039/status</a>\n",
       "                        </td>\n",
       "                        <td style=\"text-align: left;\">\n",
       "                            <strong>Memory: </strong> 7.92 GiB\n",
       "                        </td>\n",
       "                    </tr>\n",
       "                    <tr>\n",
       "                        <td style=\"text-align: left;\">\n",
       "                            <strong>Nanny: </strong> tcp://127.0.0.1:52016\n",
       "                        </td>\n",
       "                        <td style=\"text-align: left;\"></td>\n",
       "                    </tr>\n",
       "                    <tr>\n",
       "                        <td colspan=\"2\" style=\"text-align: left;\">\n",
       "                            <strong>Local directory: </strong> C:\\Users\\jhtchns2\\AppData\\Local\\Temp\\dask-worker-space\\worker-0bz13388\n",
       "                        </td>\n",
       "                    </tr>\n",
       "\n",
       "                    \n",
       "\n",
       "                    \n",
       "\n",
       "                </table>\n",
       "            </details>\n",
       "            </div>\n",
       "        </div>\n",
       "        \n",
       "        <div style=\"margin-bottom: 20px;\">\n",
       "            <div style=\"width: 24px; height: 24px; background-color: #DBF5FF; border: 3px solid #4CC9FF; border-radius: 5px; position: absolute;\"> </div>\n",
       "            <div style=\"margin-left: 48px;\">\n",
       "            <details>\n",
       "                <summary>\n",
       "                    <h4 style=\"margin-bottom: 0px; display: inline;\">Worker: 2</h4>\n",
       "                </summary>\n",
       "                <table style=\"width: 100%; text-align: left;\">\n",
       "                    <tr>\n",
       "                        <td style=\"text-align: left;\">\n",
       "                            <strong>Comm: </strong> tcp://127.0.0.1:52036\n",
       "                        </td>\n",
       "                        <td style=\"text-align: left;\">\n",
       "                            <strong>Total threads: </strong> 2\n",
       "                        </td>\n",
       "                    </tr>\n",
       "                    <tr>\n",
       "                        <td style=\"text-align: left;\">\n",
       "                            <strong>Dashboard: </strong> <a href=\"http://127.0.0.1:52041/status\" target=\"_blank\">http://127.0.0.1:52041/status</a>\n",
       "                        </td>\n",
       "                        <td style=\"text-align: left;\">\n",
       "                            <strong>Memory: </strong> 7.92 GiB\n",
       "                        </td>\n",
       "                    </tr>\n",
       "                    <tr>\n",
       "                        <td style=\"text-align: left;\">\n",
       "                            <strong>Nanny: </strong> tcp://127.0.0.1:52017\n",
       "                        </td>\n",
       "                        <td style=\"text-align: left;\"></td>\n",
       "                    </tr>\n",
       "                    <tr>\n",
       "                        <td colspan=\"2\" style=\"text-align: left;\">\n",
       "                            <strong>Local directory: </strong> C:\\Users\\jhtchns2\\AppData\\Local\\Temp\\dask-worker-space\\worker-i8rfi5zp\n",
       "                        </td>\n",
       "                    </tr>\n",
       "\n",
       "                    \n",
       "\n",
       "                    \n",
       "\n",
       "                </table>\n",
       "            </details>\n",
       "            </div>\n",
       "        </div>\n",
       "        \n",
       "        <div style=\"margin-bottom: 20px;\">\n",
       "            <div style=\"width: 24px; height: 24px; background-color: #DBF5FF; border: 3px solid #4CC9FF; border-radius: 5px; position: absolute;\"> </div>\n",
       "            <div style=\"margin-left: 48px;\">\n",
       "            <details>\n",
       "                <summary>\n",
       "                    <h4 style=\"margin-bottom: 0px; display: inline;\">Worker: 3</h4>\n",
       "                </summary>\n",
       "                <table style=\"width: 100%; text-align: left;\">\n",
       "                    <tr>\n",
       "                        <td style=\"text-align: left;\">\n",
       "                            <strong>Comm: </strong> tcp://127.0.0.1:52032\n",
       "                        </td>\n",
       "                        <td style=\"text-align: left;\">\n",
       "                            <strong>Total threads: </strong> 2\n",
       "                        </td>\n",
       "                    </tr>\n",
       "                    <tr>\n",
       "                        <td style=\"text-align: left;\">\n",
       "                            <strong>Dashboard: </strong> <a href=\"http://127.0.0.1:52037/status\" target=\"_blank\">http://127.0.0.1:52037/status</a>\n",
       "                        </td>\n",
       "                        <td style=\"text-align: left;\">\n",
       "                            <strong>Memory: </strong> 7.92 GiB\n",
       "                        </td>\n",
       "                    </tr>\n",
       "                    <tr>\n",
       "                        <td style=\"text-align: left;\">\n",
       "                            <strong>Nanny: </strong> tcp://127.0.0.1:52018\n",
       "                        </td>\n",
       "                        <td style=\"text-align: left;\"></td>\n",
       "                    </tr>\n",
       "                    <tr>\n",
       "                        <td colspan=\"2\" style=\"text-align: left;\">\n",
       "                            <strong>Local directory: </strong> C:\\Users\\jhtchns2\\AppData\\Local\\Temp\\dask-worker-space\\worker-ifjqthvc\n",
       "                        </td>\n",
       "                    </tr>\n",
       "\n",
       "                    \n",
       "\n",
       "                    \n",
       "\n",
       "                </table>\n",
       "            </details>\n",
       "            </div>\n",
       "        </div>\n",
       "        \n",
       "\n",
       "    </details>\n",
       "</div>\n",
       "\n",
       "        </details>\n",
       "    </div>\n",
       "</div>\n",
       "            </details>\n",
       "        \n",
       "\n",
       "    </div>\n",
       "</div>"
      ],
      "text/plain": [
       "<Client: 'tcp://127.0.0.1:52012' processes=4 threads=8, memory=31.67 GiB>"
      ]
     },
     "execution_count": 1,
     "metadata": {},
     "output_type": "execute_result"
    }
   ],
   "source": [
    "from dask.distributed import Client, progress\n",
    "client = Client(threads_per_worker=2, n_workers=4)\n",
    "client"
   ]
  },
  {
   "cell_type": "markdown",
   "metadata": {
    "slideshow": {
     "slide_type": "slide"
    }
   },
   "source": [
    "Say that we wanted to run this sequence of functions:"
   ]
  },
  {
   "cell_type": "code",
   "execution_count": 9,
   "metadata": {
    "slideshow": {
     "slide_type": "-"
    }
   },
   "outputs": [],
   "source": [
    "import time\n",
    "import random\n",
    "import pandas as pd\n",
    "\n",
    "def inc(x):\n",
    "    time.sleep(1)\n",
    "    return x + 1\n",
    "\n",
    "def dec(x):\n",
    "    time.sleep(1)\n",
    "    return x - 1\n",
    "\n",
    "def add(x, y):\n",
    "    time.sleep(1)\n",
    "    return x + y"
   ]
  },
  {
   "cell_type": "code",
   "execution_count": 10,
   "metadata": {
    "slideshow": {
     "slide_type": "slide"
    }
   },
   "outputs": [
    {
     "name": "stdout",
     "output_type": "stream",
     "text": [
      "CPU times: total: 172 ms\n",
      "Wall time: 3 s\n"
     ]
    },
    {
     "data": {
      "text/plain": [
       "3"
      ]
     },
     "execution_count": 10,
     "metadata": {},
     "output_type": "execute_result"
    }
   ],
   "source": [
    "%%time\n",
    "x = inc(1)\n",
    "y = dec(2)\n",
    "z = add(x, y)\n",
    "z "
   ]
  },
  {
   "cell_type": "markdown",
   "metadata": {
    "slideshow": {
     "slide_type": "slide"
    }
   },
   "source": [
    "Notice that the function `inc` and the function `dec` could be called independently! You only need to add them at the end.\n",
    "\n",
    "The power of the dask delayed framework is its ability to lay out the best way to execute it before it needs to be done:"
   ]
  },
  {
   "cell_type": "code",
   "execution_count": 11,
   "metadata": {
    "slideshow": {
     "slide_type": "-"
    }
   },
   "outputs": [],
   "source": [
    "import dask\n",
    "inc_d = dask.delayed(inc)\n",
    "dec_d = dask.delayed(dec)\n",
    "add_d = dask.delayed(add)"
   ]
  },
  {
   "cell_type": "code",
   "execution_count": 12,
   "metadata": {
    "slideshow": {
     "slide_type": "-"
    }
   },
   "outputs": [
    {
     "data": {
      "text/plain": [
       "Delayed('add-37eb8aab-397e-4e37-bf97-1c94fc03618c')"
      ]
     },
     "execution_count": 12,
     "metadata": {},
     "output_type": "execute_result"
    }
   ],
   "source": [
    "x = inc_d(1)\n",
    "y = dec_d(2)\n",
    "z = add_d(x, y)\n",
    "z"
   ]
  },
  {
   "cell_type": "markdown",
   "metadata": {
    "slideshow": {
     "slide_type": "slide"
    }
   },
   "source": [
    "That didn't take any time at all. Why? Because it hasn't run it yet."
   ]
  },
  {
   "cell_type": "code",
   "execution_count": 13,
   "metadata": {
    "slideshow": {
     "slide_type": "-"
    }
   },
   "outputs": [
    {
     "data": {
      "image/png": "[encoded data removed]",
      "text/plain": [
       "<IPython.core.display.Image object>"
      ]
     },
     "execution_count": 13,
     "metadata": {},
     "output_type": "execute_result"
    }
   ],
   "source": [
    "z.visualize(rankdir='LR')"
   ]
  },
  {
   "cell_type": "code",
   "execution_count": 14,
   "metadata": {
    "slideshow": {
     "slide_type": "slide"
    }
   },
   "outputs": [
    {
     "name": "stdout",
     "output_type": "stream",
     "text": [
      "CPU times: total: 78.1 ms\n",
      "Wall time: 2.05 s\n"
     ]
    },
    {
     "data": {
      "text/plain": [
       "3"
      ]
     },
     "execution_count": 14,
     "metadata": {},
     "output_type": "execute_result"
    }
   ],
   "source": [
    "%%time\n",
    "z.compute()"
   ]
  },
  {
   "cell_type": "code",
   "execution_count": 15,
   "metadata": {
    "slideshow": {
     "slide_type": "slide"
    }
   },
   "outputs": [
    {
     "name": "stdout",
     "output_type": "stream",
     "text": [
      "CPU times: total: 2.23 s\n",
      "Wall time: 1min\n"
     ]
    }
   ],
   "source": [
    "%%time\n",
    "zs_s = []\n",
    "for i in range(20):\n",
    "    x = inc(i)\n",
    "    y = dec(x)\n",
    "    z = add(x, y)\n",
    "    zs_s.append(z)"
   ]
  },
  {
   "cell_type": "code",
   "execution_count": 16,
   "metadata": {
    "slideshow": {
     "slide_type": "-"
    }
   },
   "outputs": [],
   "source": [
    "zs_f = []\n",
    "for i in range(20):\n",
    "    x = inc_d(i)\n",
    "    y = dec_d(x)\n",
    "    z = add_d(x, y)\n",
    "    zs_f.append(z)"
   ]
  },
  {
   "cell_type": "code",
   "execution_count": 17,
   "metadata": {
    "slideshow": {
     "slide_type": "slide"
    }
   },
   "outputs": [
    {
     "name": "stdout",
     "output_type": "stream",
     "text": [
      "CPU times: total: 328 ms\n",
      "Wall time: 8.13 s\n"
     ]
    }
   ],
   "source": [
    "%%time\n",
    "zs = dask.compute(*zs_f)"
   ]
  },
  {
   "cell_type": "markdown",
   "metadata": {
    "slideshow": {
     "slide_type": "slide"
    }
   },
   "source": [
    "Using Dask makes parallelizing quite easy!\n",
    "\n",
    "## Distributed Programming\n",
    "\n",
    "### Dask Dataframe\n",
    "\n",
    "One of the most useful implementations of `dask` is using the `dataframe` API, which mimicks an actual DataFrame.\n",
    "\n",
    "For this example and your homework, we will look at a bilateral trade flows dataset called BACI. We will be analyzing the years 2012-2018."
   ]
  },
  {
   "cell_type": "code",
   "execution_count": 18,
   "metadata": {
    "slideshow": {
     "slide_type": "-"
    }
   },
   "outputs": [
    {
     "data": {
      "text/html": [
       "<div>\n",
       "<style scoped>\n",
       "    .dataframe tbody tr th:only-of-type {\n",
       "        vertical-align: middle;\n",
       "    }\n",
       "\n",
       "    .dataframe tbody tr th {\n",
       "        vertical-align: top;\n",
       "    }\n",
       "\n",
       "    .dataframe thead th {\n",
       "        text-align: right;\n",
       "    }\n",
       "</style>\n",
       "<table border=\"1\" class=\"dataframe\">\n",
       "  <thead>\n",
       "    <tr style=\"text-align: right;\">\n",
       "      <th></th>\n",
       "      <th>t</th>\n",
       "      <th>i</th>\n",
       "      <th>j</th>\n",
       "      <th>k</th>\n",
       "      <th>v</th>\n",
       "      <th>q</th>\n",
       "    </tr>\n",
       "  </thead>\n",
       "  <tbody>\n",
       "    <tr>\n",
       "      <th>0</th>\n",
       "      <td>2018</td>\n",
       "      <td>4</td>\n",
       "      <td>24</td>\n",
       "      <td>845420</td>\n",
       "      <td>101.397000</td>\n",
       "      <td>26.000000</td>\n",
       "    </tr>\n",
       "    <tr>\n",
       "      <th>1</th>\n",
       "      <td>2018</td>\n",
       "      <td>4</td>\n",
       "      <td>24</td>\n",
       "      <td>848180</td>\n",
       "      <td>2.328000</td>\n",
       "      <td>0.007000</td>\n",
       "    </tr>\n",
       "    <tr>\n",
       "      <th>2</th>\n",
       "      <td>2018</td>\n",
       "      <td>4</td>\n",
       "      <td>31</td>\n",
       "      <td>80212</td>\n",
       "      <td>1.982000</td>\n",
       "      <td>0.196000</td>\n",
       "    </tr>\n",
       "    <tr>\n",
       "      <th>3</th>\n",
       "      <td>2018</td>\n",
       "      <td>4</td>\n",
       "      <td>31</td>\n",
       "      <td>570110</td>\n",
       "      <td>1.844099</td>\n",
       "      <td>0.049148</td>\n",
       "    </tr>\n",
       "    <tr>\n",
       "      <th>4</th>\n",
       "      <td>2018</td>\n",
       "      <td>4</td>\n",
       "      <td>32</td>\n",
       "      <td>340319</td>\n",
       "      <td>8.631243</td>\n",
       "      <td>0.113000</td>\n",
       "    </tr>\n",
       "    <tr>\n",
       "      <th>...</th>\n",
       "      <td>...</td>\n",
       "      <td>...</td>\n",
       "      <td>...</td>\n",
       "      <td>...</td>\n",
       "      <td>...</td>\n",
       "      <td>...</td>\n",
       "    </tr>\n",
       "    <tr>\n",
       "      <th>95</th>\n",
       "      <td>2018</td>\n",
       "      <td>4</td>\n",
       "      <td>40</td>\n",
       "      <td>650610</td>\n",
       "      <td>1.925000</td>\n",
       "      <td>0.023000</td>\n",
       "    </tr>\n",
       "    <tr>\n",
       "      <th>96</th>\n",
       "      <td>2018</td>\n",
       "      <td>4</td>\n",
       "      <td>40</td>\n",
       "      <td>710310</td>\n",
       "      <td>6.168000</td>\n",
       "      <td>0.732000</td>\n",
       "    </tr>\n",
       "    <tr>\n",
       "      <th>97</th>\n",
       "      <td>2018</td>\n",
       "      <td>4</td>\n",
       "      <td>40</td>\n",
       "      <td>710399</td>\n",
       "      <td>49.661000</td>\n",
       "      <td>0.006000</td>\n",
       "    </tr>\n",
       "    <tr>\n",
       "      <th>98</th>\n",
       "      <td>2018</td>\n",
       "      <td>4</td>\n",
       "      <td>40</td>\n",
       "      <td>711311</td>\n",
       "      <td>1.377000</td>\n",
       "      <td>0.001000</td>\n",
       "    </tr>\n",
       "    <tr>\n",
       "      <th>99</th>\n",
       "      <td>2018</td>\n",
       "      <td>4</td>\n",
       "      <td>40</td>\n",
       "      <td>711620</td>\n",
       "      <td>1.188000</td>\n",
       "      <td>0.003000</td>\n",
       "    </tr>\n",
       "  </tbody>\n",
       "</table>\n",
       "<p>100 rows × 6 columns</p>\n",
       "</div>"
      ],
      "text/plain": [
       "       t  i   j       k           v          q\n",
       "0   2018  4  24  845420  101.397000  26.000000\n",
       "1   2018  4  24  848180    2.328000   0.007000\n",
       "2   2018  4  31   80212    1.982000   0.196000\n",
       "3   2018  4  31  570110    1.844099   0.049148\n",
       "4   2018  4  32  340319    8.631243   0.113000\n",
       "..   ... ..  ..     ...         ...        ...\n",
       "95  2018  4  40  650610    1.925000   0.023000\n",
       "96  2018  4  40  710310    6.168000   0.732000\n",
       "97  2018  4  40  710399   49.661000   0.006000\n",
       "98  2018  4  40  711311    1.377000   0.001000\n",
       "99  2018  4  40  711620    1.188000   0.003000\n",
       "\n",
       "[100 rows x 6 columns]"
      ]
     },
     "execution_count": 18,
     "metadata": {},
     "output_type": "execute_result"
    }
   ],
   "source": [
    "df18 = pd.read_csv(\"P:trade_data/BACI_HS12_Y2018_V202001.csv\",nrows=100)\n",
    "df18"
   ]
  },
  {
   "cell_type": "markdown",
   "metadata": {
    "slideshow": {
     "slide_type": "slide"
    }
   },
   "source": [
    "Each row represents the trade flows from country $i$ to country $j$ for product $k$ in time $t$ in terms of either value or quantity.\n",
    "\n",
    "Since we have 8 million rows of data in one year, this means we can expect about 56 million rows in the final dataset. This will be hard to work with all in memory at the same time!\n",
    "\n",
    "Some options:\n",
    "1. Chunk all our operations and run on each file.\n",
    "2. Use the `dask` `dataframe` API framework.\n",
    "\n",
    "We got a sense for how to use option 1, so now let's go to option 2."
   ]
  },
  {
   "cell_type": "code",
   "execution_count": 19,
   "metadata": {
    "slideshow": {
     "slide_type": "slide"
    }
   },
   "outputs": [],
   "source": [
    "import dask.dataframe as dd"
   ]
  },
  {
   "cell_type": "code",
   "execution_count": 25,
   "metadata": {
    "slideshow": {
     "slide_type": "-"
    }
   },
   "outputs": [
    {
     "data": {
      "text/html": [
       "<div><strong>Dask DataFrame Structure:</strong></div>\n",
       "<div>\n",
       "<style scoped>\n",
       "    .dataframe tbody tr th:only-of-type {\n",
       "        vertical-align: middle;\n",
       "    }\n",
       "\n",
       "    .dataframe tbody tr th {\n",
       "        vertical-align: top;\n",
       "    }\n",
       "\n",
       "    .dataframe thead th {\n",
       "        text-align: right;\n",
       "    }\n",
       "</style>\n",
       "<table border=\"1\" class=\"dataframe\">\n",
       "  <thead>\n",
       "    <tr style=\"text-align: right;\">\n",
       "      <th></th>\n",
       "      <th>t</th>\n",
       "      <th>i</th>\n",
       "      <th>j</th>\n",
       "      <th>k</th>\n",
       "      <th>v</th>\n",
       "      <th>q</th>\n",
       "    </tr>\n",
       "    <tr>\n",
       "      <th>npartitions=66</th>\n",
       "      <th></th>\n",
       "      <th></th>\n",
       "      <th></th>\n",
       "      <th></th>\n",
       "      <th></th>\n",
       "      <th></th>\n",
       "    </tr>\n",
       "  </thead>\n",
       "  <tbody>\n",
       "    <tr>\n",
       "      <th></th>\n",
       "      <td>int64</td>\n",
       "      <td>int64</td>\n",
       "      <td>int64</td>\n",
       "      <td>int64</td>\n",
       "      <td>float64</td>\n",
       "      <td>float64</td>\n",
       "    </tr>\n",
       "    <tr>\n",
       "      <th></th>\n",
       "      <td>...</td>\n",
       "      <td>...</td>\n",
       "      <td>...</td>\n",
       "      <td>...</td>\n",
       "      <td>...</td>\n",
       "      <td>...</td>\n",
       "    </tr>\n",
       "    <tr>\n",
       "      <th>...</th>\n",
       "      <td>...</td>\n",
       "      <td>...</td>\n",
       "      <td>...</td>\n",
       "      <td>...</td>\n",
       "      <td>...</td>\n",
       "      <td>...</td>\n",
       "    </tr>\n",
       "    <tr>\n",
       "      <th></th>\n",
       "      <td>...</td>\n",
       "      <td>...</td>\n",
       "      <td>...</td>\n",
       "      <td>...</td>\n",
       "      <td>...</td>\n",
       "      <td>...</td>\n",
       "    </tr>\n",
       "    <tr>\n",
       "      <th></th>\n",
       "      <td>...</td>\n",
       "      <td>...</td>\n",
       "      <td>...</td>\n",
       "      <td>...</td>\n",
       "      <td>...</td>\n",
       "      <td>...</td>\n",
       "    </tr>\n",
       "  </tbody>\n",
       "</table>\n",
       "</div>\n",
       "<div>Dask Name: read-csv, 1 graph layer</div>"
      ],
      "text/plain": [
       "Dask DataFrame Structure:\n",
       "                    t      i      j      k        v        q\n",
       "npartitions=66                                              \n",
       "                int64  int64  int64  int64  float64  float64\n",
       "                  ...    ...    ...    ...      ...      ...\n",
       "...               ...    ...    ...    ...      ...      ...\n",
       "                  ...    ...    ...    ...      ...      ...\n",
       "                  ...    ...    ...    ...      ...      ...\n",
       "Dask Name: read-csv, 1 graph layer"
      ]
     },
     "execution_count": 25,
     "metadata": {},
     "output_type": "execute_result"
    }
   ],
   "source": [
    "df = dd.read_csv(\"P:trade_data\\BACI_HS12_V202201\\BACI_HS12_Y*.csv\")\n",
    "df"
   ]
  },
  {
   "cell_type": "markdown",
   "metadata": {
    "slideshow": {
     "slide_type": "slide"
    }
   },
   "source": [
    "Notice I used read_csv to find __all__ the files in that directory and read them into one structure."
   ]
  },
  {
   "cell_type": "code",
   "execution_count": 23,
   "metadata": {
    "slideshow": {
     "slide_type": "-"
    }
   },
   "outputs": [
    {
     "data": {
      "text/plain": [
       "['P:trade_data/BACI_HS12_V202201\\\\BACI_HS12_Y2012_V202201.csv',\n",
       " 'P:trade_data/BACI_HS12_V202201\\\\BACI_HS12_Y2013_V202201.csv',\n",
       " 'P:trade_data/BACI_HS12_V202201\\\\BACI_HS12_Y2014_V202201.csv',\n",
       " 'P:trade_data/BACI_HS12_V202201\\\\BACI_HS12_Y2015_V202201.csv',\n",
       " 'P:trade_data/BACI_HS12_V202201\\\\BACI_HS12_Y2016_V202201.csv',\n",
       " 'P:trade_data/BACI_HS12_V202201\\\\BACI_HS12_Y2017_V202201.csv',\n",
       " 'P:trade_data/BACI_HS12_V202201\\\\BACI_HS12_Y2018_V202201.csv',\n",
       " 'P:trade_data/BACI_HS12_V202201\\\\BACI_HS12_Y2019_V202201.csv',\n",
       " 'P:trade_data/BACI_HS12_V202201\\\\BACI_HS12_Y2020_V202201.csv']"
      ]
     },
     "execution_count": 23,
     "metadata": {},
     "output_type": "execute_result"
    }
   ],
   "source": [
    "import glob\n",
    "glob.glob(\"P:trade_data/BACI_HS12_V202201/BACI_HS12_Y*.csv\")"
   ]
  },
  {
   "cell_type": "markdown",
   "metadata": {
    "slideshow": {
     "slide_type": "slide"
    }
   },
   "source": [
    "But why did it give me 75 partitions if I only have 7 csv files?"
   ]
  },
  {
   "cell_type": "code",
   "execution_count": 26,
   "metadata": {
    "slideshow": {
     "slide_type": "-"
    }
   },
   "outputs": [
    {
     "data": {
      "text/plain": [
       "<AxesSubplot: >"
      ]
     },
     "execution_count": 26,
     "metadata": {},
     "output_type": "execute_result"
    },
    {
     "data": {
      "image/png": "[encoded data removed]",
      "text/plain": [
       "<Figure size 640x480 with 1 Axes>"
      ]
     },
     "metadata": {},
     "output_type": "display_data"
    }
   ],
   "source": [
    "df.map_partitions(len).compute().plot(kind='bar')"
   ]
  },
  {
   "cell_type": "markdown",
   "metadata": {
    "slideshow": {
     "slide_type": "slide"
    }
   },
   "source": [
    "So all the partitions are about the same number of obs."
   ]
  },
  {
   "cell_type": "code",
   "execution_count": 27,
   "metadata": {
    "slideshow": {
     "slide_type": "-"
    }
   },
   "outputs": [
    {
     "data": {
      "text/plain": [
       "<AxesSubplot: >"
      ]
     },
     "execution_count": 27,
     "metadata": {},
     "output_type": "execute_result"
    },
    {
     "data": {
      "image/png": "[encoded data removed]",
      "text/plain": [
       "<Figure size 640x480 with 1 Axes>"
      ]
     },
     "metadata": {},
     "output_type": "display_data"
    }
   ],
   "source": [
    "def mem_usage(x):\n",
    "    return x.memory_usage().sum()\n",
    "\n",
    "df.map_partitions(mem_usage).compute().plot(kind='bar')"
   ]
  },
  {
   "cell_type": "markdown",
   "metadata": {
    "slideshow": {
     "slide_type": "slide"
    }
   },
   "source": [
    "And about the same memory usage (around 60 mb per partition).\n",
    "\n",
    "__Rule of thumb__: partitions should be around 100 mb each.\n",
    "\n",
    "Here `dask` tries to do it automatically.\n",
    "\n",
    "My strategic use of the `map_partitions` will map a function to each partition."
   ]
  },
  {
   "cell_type": "markdown",
   "metadata": {
    "slideshow": {
     "slide_type": "slide"
    }
   },
   "source": [
    "All 9 of these files now exist as \"partitions\" in this dataframe object. Now when we do an operation it will be \"distributed\" to all the partitions.\n",
    "\n",
    "So now the advantage of this framework is that we can run operations on all the data but `dask` does the chunking and parallelizing for us!\n",
    "\n",
    "__Advantage__: no need to do everything in memory!\n",
    "\n",
    "__Disadvantage__: will be slower than in-memory.\n",
    "\n",
    "Thus only an advantage when your data will not fit in memory."
   ]
  },
  {
   "cell_type": "markdown",
   "metadata": {
    "slideshow": {
     "slide_type": "slide"
    }
   },
   "source": [
    "#### How it works:\n",
    "- Run as many operations as you need to on the symbolic dataframe object.\n",
    "- Call \"compute\" when you actually need to see the results."
   ]
  },
  {
   "cell_type": "code",
   "execution_count": 32,
   "metadata": {
    "slideshow": {
     "slide_type": "-"
    }
   },
   "outputs": [
    {
     "data": {
      "text/html": [
       "<div><strong>Dask DataFrame Structure:</strong></div>\n",
       "<div>\n",
       "<style scoped>\n",
       "    .dataframe tbody tr th:only-of-type {\n",
       "        vertical-align: middle;\n",
       "    }\n",
       "\n",
       "    .dataframe tbody tr th {\n",
       "        vertical-align: top;\n",
       "    }\n",
       "\n",
       "    .dataframe thead th {\n",
       "        text-align: right;\n",
       "    }\n",
       "</style>\n",
       "<table border=\"1\" class=\"dataframe\">\n",
       "  <thead>\n",
       "    <tr style=\"text-align: right;\">\n",
       "      <th></th>\n",
       "      <th>t</th>\n",
       "      <th>i</th>\n",
       "      <th>j</th>\n",
       "      <th>k</th>\n",
       "      <th>v</th>\n",
       "      <th>q</th>\n",
       "    </tr>\n",
       "    <tr>\n",
       "      <th>npartitions=66</th>\n",
       "      <th></th>\n",
       "      <th></th>\n",
       "      <th></th>\n",
       "      <th></th>\n",
       "      <th></th>\n",
       "      <th></th>\n",
       "    </tr>\n",
       "  </thead>\n",
       "  <tbody>\n",
       "    <tr>\n",
       "      <th></th>\n",
       "      <td>int64</td>\n",
       "      <td>int64</td>\n",
       "      <td>int64</td>\n",
       "      <td>int64</td>\n",
       "      <td>float64</td>\n",
       "      <td>float64</td>\n",
       "    </tr>\n",
       "    <tr>\n",
       "      <th></th>\n",
       "      <td>...</td>\n",
       "      <td>...</td>\n",
       "      <td>...</td>\n",
       "      <td>...</td>\n",
       "      <td>...</td>\n",
       "      <td>...</td>\n",
       "    </tr>\n",
       "    <tr>\n",
       "      <th>...</th>\n",
       "      <td>...</td>\n",
       "      <td>...</td>\n",
       "      <td>...</td>\n",
       "      <td>...</td>\n",
       "      <td>...</td>\n",
       "      <td>...</td>\n",
       "    </tr>\n",
       "    <tr>\n",
       "      <th></th>\n",
       "      <td>...</td>\n",
       "      <td>...</td>\n",
       "      <td>...</td>\n",
       "      <td>...</td>\n",
       "      <td>...</td>\n",
       "      <td>...</td>\n",
       "    </tr>\n",
       "    <tr>\n",
       "      <th></th>\n",
       "      <td>...</td>\n",
       "      <td>...</td>\n",
       "      <td>...</td>\n",
       "      <td>...</td>\n",
       "      <td>...</td>\n",
       "      <td>...</td>\n",
       "    </tr>\n",
       "  </tbody>\n",
       "</table>\n",
       "</div>\n",
       "<div>Dask Name: read-csv, 1 graph layer</div>"
      ],
      "text/plain": [
       "Dask DataFrame Structure:\n",
       "                    t      i      j      k        v        q\n",
       "npartitions=66                                              \n",
       "                int64  int64  int64  int64  float64  float64\n",
       "                  ...    ...    ...    ...      ...      ...\n",
       "...               ...    ...    ...    ...      ...      ...\n",
       "                  ...    ...    ...    ...      ...      ...\n",
       "                  ...    ...    ...    ...      ...      ...\n",
       "Dask Name: read-csv, 1 graph layer"
      ]
     },
     "execution_count": 32,
     "metadata": {},
     "output_type": "execute_result"
    }
   ],
   "source": [
    "df#.visualize()"
   ]
  },
  {
   "cell_type": "markdown",
   "metadata": {
    "slideshow": {
     "slide_type": "slide"
    }
   },
   "source": [
    "Note that the read_csv function has \"1 graph layer.\"\n",
    "\n",
    "What happens if we add an operation?"
   ]
  },
  {
   "cell_type": "code",
   "execution_count": 33,
   "metadata": {
    "slideshow": {
     "slide_type": "-"
    }
   },
   "outputs": [
    {
     "data": {
      "text/html": [
       "<div><strong>Dask DataFrame Structure:</strong></div>\n",
       "<div>\n",
       "<style scoped>\n",
       "    .dataframe tbody tr th:only-of-type {\n",
       "        vertical-align: middle;\n",
       "    }\n",
       "\n",
       "    .dataframe tbody tr th {\n",
       "        vertical-align: top;\n",
       "    }\n",
       "\n",
       "    .dataframe thead th {\n",
       "        text-align: right;\n",
       "    }\n",
       "</style>\n",
       "<table border=\"1\" class=\"dataframe\">\n",
       "  <thead>\n",
       "    <tr style=\"text-align: right;\">\n",
       "      <th></th>\n",
       "      <th>t</th>\n",
       "      <th>i</th>\n",
       "      <th>j</th>\n",
       "      <th>k</th>\n",
       "      <th>v</th>\n",
       "      <th>q</th>\n",
       "    </tr>\n",
       "    <tr>\n",
       "      <th>npartitions=66</th>\n",
       "      <th></th>\n",
       "      <th></th>\n",
       "      <th></th>\n",
       "      <th></th>\n",
       "      <th></th>\n",
       "      <th></th>\n",
       "    </tr>\n",
       "  </thead>\n",
       "  <tbody>\n",
       "    <tr>\n",
       "      <th></th>\n",
       "      <td>int64</td>\n",
       "      <td>int64</td>\n",
       "      <td>int64</td>\n",
       "      <td>int64</td>\n",
       "      <td>float64</td>\n",
       "      <td>float64</td>\n",
       "    </tr>\n",
       "    <tr>\n",
       "      <th></th>\n",
       "      <td>...</td>\n",
       "      <td>...</td>\n",
       "      <td>...</td>\n",
       "      <td>...</td>\n",
       "      <td>...</td>\n",
       "      <td>...</td>\n",
       "    </tr>\n",
       "    <tr>\n",
       "      <th>...</th>\n",
       "      <td>...</td>\n",
       "      <td>...</td>\n",
       "      <td>...</td>\n",
       "      <td>...</td>\n",
       "      <td>...</td>\n",
       "      <td>...</td>\n",
       "    </tr>\n",
       "    <tr>\n",
       "      <th></th>\n",
       "      <td>...</td>\n",
       "      <td>...</td>\n",
       "      <td>...</td>\n",
       "      <td>...</td>\n",
       "      <td>...</td>\n",
       "      <td>...</td>\n",
       "    </tr>\n",
       "    <tr>\n",
       "      <th></th>\n",
       "      <td>...</td>\n",
       "      <td>...</td>\n",
       "      <td>...</td>\n",
       "      <td>...</td>\n",
       "      <td>...</td>\n",
       "      <td>...</td>\n",
       "    </tr>\n",
       "  </tbody>\n",
       "</table>\n",
       "</div>\n",
       "<div>Dask Name: loc-series, 4 graph layers</div>"
      ],
      "text/plain": [
       "Dask DataFrame Structure:\n",
       "                    t      i      j      k        v        q\n",
       "npartitions=66                                              \n",
       "                int64  int64  int64  int64  float64  float64\n",
       "                  ...    ...    ...    ...      ...      ...\n",
       "...               ...    ...    ...    ...      ...      ...\n",
       "                  ...    ...    ...    ...      ...      ...\n",
       "                  ...    ...    ...    ...      ...      ...\n",
       "Dask Name: loc-series, 4 graph layers"
      ]
     },
     "execution_count": 33,
     "metadata": {},
     "output_type": "execute_result"
    }
   ],
   "source": [
    "df.loc[df.t==2018]"
   ]
  },
  {
   "cell_type": "markdown",
   "metadata": {
    "slideshow": {
     "slide_type": "slide"
    }
   },
   "source": [
    "So it added a couple more tasks after I did a slicing.\n",
    "\n",
    "Let's add one more:"
   ]
  },
  {
   "cell_type": "code",
   "execution_count": 35,
   "metadata": {
    "slideshow": {
     "slide_type": "-"
    }
   },
   "outputs": [
    {
     "data": {
      "text/plain": [
       "Dask Series Structure:\n",
       "npartitions=1\n",
       "    float64\n",
       "        ...\n",
       "Name: v, dtype: float64\n",
       "Dask Name: truediv, 10 graph layers"
      ]
     },
     "execution_count": 35,
     "metadata": {},
     "output_type": "execute_result"
    }
   ],
   "source": [
    "df.loc[df.t==2018].groupby(\"k\")['v'].mean()"
   ]
  },
  {
   "cell_type": "markdown",
   "metadata": {
    "slideshow": {
     "slide_type": "slide"
    }
   },
   "source": [
    "So taking a group average for the year 2018 takes 489 tasks.\n",
    "\n",
    "When we actually need the results, we can run `compute`:"
   ]
  },
  {
   "cell_type": "code",
   "execution_count": 36,
   "metadata": {
    "slideshow": {
     "slide_type": "-"
    }
   },
   "outputs": [
    {
     "data": {
      "text/plain": [
       "k\n",
       "10121     1524.747365\n",
       "10129     1219.522900\n",
       "10130       50.608992\n",
       "10190       94.922452\n",
       "10221     2119.432946\n",
       "             ...     \n",
       "970200     316.031400\n",
       "970300    1158.938646\n",
       "970400      90.111293\n",
       "970500     469.196650\n",
       "970600    1600.675885\n",
       "Name: v, Length: 5199, dtype: float64"
      ]
     },
     "execution_count": 36,
     "metadata": {},
     "output_type": "execute_result"
    }
   ],
   "source": [
    "df.loc[df.t==2018].groupby(\"k\")['v'].mean().compute()"
   ]
  },
  {
   "cell_type": "markdown",
   "metadata": {
    "slideshow": {
     "slide_type": "-"
    }
   },
   "source": [
    "So now we can calculate a useful summary statistic of the entire dataset without having to read the entire dataset!"
   ]
  },
  {
   "cell_type": "markdown",
   "metadata": {
    "slideshow": {
     "slide_type": "slide"
    }
   },
   "source": [
    "#### Persisting memory\n",
    "\n",
    "In case you want one set of results in memory, you can use the `persist` function to put your results in memory.\n",
    "\n",
    "Suppose I want to persist the product with the code 10121:"
   ]
  },
  {
   "cell_type": "code",
   "execution_count": 37,
   "metadata": {
    "slideshow": {
     "slide_type": "-"
    }
   },
   "outputs": [],
   "source": [
    "df10121 = df[df.k==10121].persist()"
   ]
  },
  {
   "cell_type": "code",
   "execution_count": 38,
   "metadata": {
    "slideshow": {
     "slide_type": "-"
    }
   },
   "outputs": [
    {
     "data": {
      "text/html": [
       "<div><strong>Dask DataFrame Structure:</strong></div>\n",
       "<div>\n",
       "<style scoped>\n",
       "    .dataframe tbody tr th:only-of-type {\n",
       "        vertical-align: middle;\n",
       "    }\n",
       "\n",
       "    .dataframe tbody tr th {\n",
       "        vertical-align: top;\n",
       "    }\n",
       "\n",
       "    .dataframe thead th {\n",
       "        text-align: right;\n",
       "    }\n",
       "</style>\n",
       "<table border=\"1\" class=\"dataframe\">\n",
       "  <thead>\n",
       "    <tr style=\"text-align: right;\">\n",
       "      <th></th>\n",
       "      <th>t</th>\n",
       "      <th>i</th>\n",
       "      <th>j</th>\n",
       "      <th>k</th>\n",
       "      <th>v</th>\n",
       "      <th>q</th>\n",
       "    </tr>\n",
       "    <tr>\n",
       "      <th>npartitions=66</th>\n",
       "      <th></th>\n",
       "      <th></th>\n",
       "      <th></th>\n",
       "      <th></th>\n",
       "      <th></th>\n",
       "      <th></th>\n",
       "    </tr>\n",
       "  </thead>\n",
       "  <tbody>\n",
       "    <tr>\n",
       "      <th></th>\n",
       "      <td>int64</td>\n",
       "      <td>int64</td>\n",
       "      <td>int64</td>\n",
       "      <td>int64</td>\n",
       "      <td>float64</td>\n",
       "      <td>float64</td>\n",
       "    </tr>\n",
       "    <tr>\n",
       "      <th></th>\n",
       "      <td>...</td>\n",
       "      <td>...</td>\n",
       "      <td>...</td>\n",
       "      <td>...</td>\n",
       "      <td>...</td>\n",
       "      <td>...</td>\n",
       "    </tr>\n",
       "    <tr>\n",
       "      <th>...</th>\n",
       "      <td>...</td>\n",
       "      <td>...</td>\n",
       "      <td>...</td>\n",
       "      <td>...</td>\n",
       "      <td>...</td>\n",
       "      <td>...</td>\n",
       "    </tr>\n",
       "    <tr>\n",
       "      <th></th>\n",
       "      <td>...</td>\n",
       "      <td>...</td>\n",
       "      <td>...</td>\n",
       "      <td>...</td>\n",
       "      <td>...</td>\n",
       "      <td>...</td>\n",
       "    </tr>\n",
       "    <tr>\n",
       "      <th></th>\n",
       "      <td>...</td>\n",
       "      <td>...</td>\n",
       "      <td>...</td>\n",
       "      <td>...</td>\n",
       "      <td>...</td>\n",
       "      <td>...</td>\n",
       "    </tr>\n",
       "  </tbody>\n",
       "</table>\n",
       "</div>\n",
       "<div>Dask Name: getitem, 1 graph layer</div>"
      ],
      "text/plain": [
       "Dask DataFrame Structure:\n",
       "                    t      i      j      k        v        q\n",
       "npartitions=66                                              \n",
       "                int64  int64  int64  int64  float64  float64\n",
       "                  ...    ...    ...    ...      ...      ...\n",
       "...               ...    ...    ...    ...      ...      ...\n",
       "                  ...    ...    ...    ...      ...      ...\n",
       "                  ...    ...    ...    ...      ...      ...\n",
       "Dask Name: getitem, 1 graph layer"
      ]
     },
     "execution_count": 38,
     "metadata": {},
     "output_type": "execute_result"
    }
   ],
   "source": [
    "df10121"
   ]
  },
  {
   "cell_type": "markdown",
   "metadata": {
    "slideshow": {
     "slide_type": "slide"
    }
   },
   "source": [
    "Now it will apply all these changes in the background so we can keep working. \n",
    " \n",
    "Notice that it's still not a real \"dataframe\" yet. This is because its keeping the results distributed across the nodes. We can keep calling more functions on this flow and when it's done it will finish much quicker."
   ]
  },
  {
   "cell_type": "markdown",
   "metadata": {
    "slideshow": {
     "slide_type": "-"
    }
   },
   "source": [
    "The downside of this is that it has transferred some of this (but not all of it) into the distributed RAM.\n",
    "\n",
    "The upside here is that it can be called very quickly:"
   ]
  },
  {
   "cell_type": "code",
   "execution_count": 39,
   "metadata": {
    "slideshow": {
     "slide_type": "-"
    }
   },
   "outputs": [
    {
     "data": {
      "text/html": [
       "<div>\n",
       "<style scoped>\n",
       "    .dataframe tbody tr th:only-of-type {\n",
       "        vertical-align: middle;\n",
       "    }\n",
       "\n",
       "    .dataframe tbody tr th {\n",
       "        vertical-align: top;\n",
       "    }\n",
       "\n",
       "    .dataframe thead th {\n",
       "        text-align: right;\n",
       "    }\n",
       "</style>\n",
       "<table border=\"1\" class=\"dataframe\">\n",
       "  <thead>\n",
       "    <tr style=\"text-align: right;\">\n",
       "      <th></th>\n",
       "      <th>t</th>\n",
       "      <th>i</th>\n",
       "      <th>j</th>\n",
       "      <th>k</th>\n",
       "      <th>v</th>\n",
       "      <th>q</th>\n",
       "    </tr>\n",
       "  </thead>\n",
       "  <tbody>\n",
       "    <tr>\n",
       "      <th>12599</th>\n",
       "      <td>2012</td>\n",
       "      <td>12</td>\n",
       "      <td>251</td>\n",
       "      <td>10121</td>\n",
       "      <td>71.698</td>\n",
       "      <td>0.500</td>\n",
       "    </tr>\n",
       "    <tr>\n",
       "      <th>17215</th>\n",
       "      <td>2012</td>\n",
       "      <td>20</td>\n",
       "      <td>251</td>\n",
       "      <td>10121</td>\n",
       "      <td>2.314</td>\n",
       "      <td>1.400</td>\n",
       "    </tr>\n",
       "    <tr>\n",
       "      <th>27980</th>\n",
       "      <td>2012</td>\n",
       "      <td>31</td>\n",
       "      <td>842</td>\n",
       "      <td>10121</td>\n",
       "      <td>45.200</td>\n",
       "      <td>3.569</td>\n",
       "    </tr>\n",
       "    <tr>\n",
       "      <th>28796</th>\n",
       "      <td>2012</td>\n",
       "      <td>32</td>\n",
       "      <td>36</td>\n",
       "      <td>10121</td>\n",
       "      <td>708.296</td>\n",
       "      <td>0.500</td>\n",
       "    </tr>\n",
       "    <tr>\n",
       "      <th>29346</th>\n",
       "      <td>2012</td>\n",
       "      <td>32</td>\n",
       "      <td>40</td>\n",
       "      <td>10121</td>\n",
       "      <td>10.090</td>\n",
       "      <td>0.400</td>\n",
       "    </tr>\n",
       "    <tr>\n",
       "      <th>...</th>\n",
       "      <td>...</td>\n",
       "      <td>...</td>\n",
       "      <td>...</td>\n",
       "      <td>...</td>\n",
       "      <td>...</td>\n",
       "      <td>...</td>\n",
       "    </tr>\n",
       "    <tr>\n",
       "      <th>10526681</th>\n",
       "      <td>2020</td>\n",
       "      <td>858</td>\n",
       "      <td>842</td>\n",
       "      <td>10121</td>\n",
       "      <td>50.600</td>\n",
       "      <td>0.500</td>\n",
       "    </tr>\n",
       "    <tr>\n",
       "      <th>10527439</th>\n",
       "      <td>2020</td>\n",
       "      <td>860</td>\n",
       "      <td>4</td>\n",
       "      <td>10121</td>\n",
       "      <td>1.500</td>\n",
       "      <td>0.477</td>\n",
       "    </tr>\n",
       "    <tr>\n",
       "      <th>10532385</th>\n",
       "      <td>2020</td>\n",
       "      <td>860</td>\n",
       "      <td>417</td>\n",
       "      <td>10121</td>\n",
       "      <td>1.433</td>\n",
       "      <td>0.410</td>\n",
       "    </tr>\n",
       "    <tr>\n",
       "      <th>10548361</th>\n",
       "      <td>2020</td>\n",
       "      <td>894</td>\n",
       "      <td>404</td>\n",
       "      <td>10121</td>\n",
       "      <td>5.993</td>\n",
       "      <td>4.500</td>\n",
       "    </tr>\n",
       "    <tr>\n",
       "      <th>10552087</th>\n",
       "      <td>2020</td>\n",
       "      <td>894</td>\n",
       "      <td>716</td>\n",
       "      <td>10121</td>\n",
       "      <td>1.492</td>\n",
       "      <td>1.350</td>\n",
       "    </tr>\n",
       "  </tbody>\n",
       "</table>\n",
       "<p>8382 rows × 6 columns</p>\n",
       "</div>"
      ],
      "text/plain": [
       "             t    i    j      k        v      q\n",
       "12599     2012   12  251  10121   71.698  0.500\n",
       "17215     2012   20  251  10121    2.314  1.400\n",
       "27980     2012   31  842  10121   45.200  3.569\n",
       "28796     2012   32   36  10121  708.296  0.500\n",
       "29346     2012   32   40  10121   10.090  0.400\n",
       "...        ...  ...  ...    ...      ...    ...\n",
       "10526681  2020  858  842  10121   50.600  0.500\n",
       "10527439  2020  860    4  10121    1.500  0.477\n",
       "10532385  2020  860  417  10121    1.433  0.410\n",
       "10548361  2020  894  404  10121    5.993  4.500\n",
       "10552087  2020  894  716  10121    1.492  1.350\n",
       "\n",
       "[8382 rows x 6 columns]"
      ]
     },
     "execution_count": 39,
     "metadata": {},
     "output_type": "execute_result"
    }
   ],
   "source": [
    "df10121.compute()"
   ]
  },
  {
   "cell_type": "markdown",
   "metadata": {
    "slideshow": {
     "slide_type": "slide"
    }
   },
   "source": [
    "So what is the difference between `persist` and `compute`?\n",
    "\n",
    "The command `persist` puts it into distributed memory (each worker holding a part of the data) so there are still as many partitions as before. The command `compute` puts it into one python object in your environment. \n",
    "\n",
    "__Why we use `persist`__:\n",
    "- We want to call something into the distributed memory to calculate with `compute`.\n",
    "- We need it to run asynchronously.\n",
    "- We need to \"set up\" a computation that we will eventually compute.\n",
    "    - Essentially saves us from having to wait a very long time"
   ]
  },
  {
   "cell_type": "markdown",
   "metadata": {
    "slideshow": {
     "slide_type": "slide"
    }
   },
   "source": [
    "### Merging"
   ]
  },
  {
   "cell_type": "markdown",
   "metadata": {
    "slideshow": {
     "slide_type": "-"
    }
   },
   "source": [
    "Doing merges can be accomplished the usual way:"
   ]
  },
  {
   "cell_type": "code",
   "execution_count": 40,
   "metadata": {
    "slideshow": {
     "slide_type": "-"
    }
   },
   "outputs": [],
   "source": [
    "products = pd.read_csv(\"P:trade_data/product_codes_HS12_V202001.csv\")\n",
    "products = products.rename(columns={\"code\":\"k\"})"
   ]
  },
  {
   "cell_type": "code",
   "execution_count": 41,
   "metadata": {
    "slideshow": {
     "slide_type": "-"
    }
   },
   "outputs": [
    {
     "data": {
      "text/html": [
       "<div>\n",
       "<style scoped>\n",
       "    .dataframe tbody tr th:only-of-type {\n",
       "        vertical-align: middle;\n",
       "    }\n",
       "\n",
       "    .dataframe tbody tr th {\n",
       "        vertical-align: top;\n",
       "    }\n",
       "\n",
       "    .dataframe thead th {\n",
       "        text-align: right;\n",
       "    }\n",
       "</style>\n",
       "<table border=\"1\" class=\"dataframe\">\n",
       "  <thead>\n",
       "    <tr style=\"text-align: right;\">\n",
       "      <th></th>\n",
       "      <th>k</th>\n",
       "      <th>description</th>\n",
       "    </tr>\n",
       "  </thead>\n",
       "  <tbody>\n",
       "    <tr>\n",
       "      <th>0</th>\n",
       "      <td>10121</td>\n",
       "      <td>Horses: live, pure-bred breeding animals</td>\n",
       "    </tr>\n",
       "    <tr>\n",
       "      <th>1</th>\n",
       "      <td>10129</td>\n",
       "      <td>Horses: live, other than pure-bred breeding an...</td>\n",
       "    </tr>\n",
       "    <tr>\n",
       "      <th>2</th>\n",
       "      <td>10130</td>\n",
       "      <td>Asses: live</td>\n",
       "    </tr>\n",
       "    <tr>\n",
       "      <th>3</th>\n",
       "      <td>10190</td>\n",
       "      <td>Mules and hinnies: live</td>\n",
       "    </tr>\n",
       "    <tr>\n",
       "      <th>4</th>\n",
       "      <td>10221</td>\n",
       "      <td>Cattle: live, pure-bred breeding animals</td>\n",
       "    </tr>\n",
       "    <tr>\n",
       "      <th>...</th>\n",
       "      <td>...</td>\n",
       "      <td>...</td>\n",
       "    </tr>\n",
       "    <tr>\n",
       "      <th>5197</th>\n",
       "      <td>970300</td>\n",
       "      <td>Sculptures and statuary: original, in any mate...</td>\n",
       "    </tr>\n",
       "    <tr>\n",
       "      <th>5198</th>\n",
       "      <td>970400</td>\n",
       "      <td>Stamps, postage or revenue: stamp-postmarks, f...</td>\n",
       "    </tr>\n",
       "    <tr>\n",
       "      <th>5199</th>\n",
       "      <td>970500</td>\n",
       "      <td>Collections and collectors' pieces: of zoologi...</td>\n",
       "    </tr>\n",
       "    <tr>\n",
       "      <th>5200</th>\n",
       "      <td>970600</td>\n",
       "      <td>Antiques: of an age exceeding one hundred years</td>\n",
       "    </tr>\n",
       "    <tr>\n",
       "      <th>5201</th>\n",
       "      <td>999999</td>\n",
       "      <td>Commodities not specified according to kind</td>\n",
       "    </tr>\n",
       "  </tbody>\n",
       "</table>\n",
       "<p>5202 rows × 2 columns</p>\n",
       "</div>"
      ],
      "text/plain": [
       "           k                                        description\n",
       "0      10121           Horses: live, pure-bred breeding animals\n",
       "1      10129  Horses: live, other than pure-bred breeding an...\n",
       "2      10130                                        Asses: live\n",
       "3      10190                            Mules and hinnies: live\n",
       "4      10221           Cattle: live, pure-bred breeding animals\n",
       "...      ...                                                ...\n",
       "5197  970300  Sculptures and statuary: original, in any mate...\n",
       "5198  970400  Stamps, postage or revenue: stamp-postmarks, f...\n",
       "5199  970500  Collections and collectors' pieces: of zoologi...\n",
       "5200  970600    Antiques: of an age exceeding one hundred years\n",
       "5201  999999        Commodities not specified according to kind\n",
       "\n",
       "[5202 rows x 2 columns]"
      ]
     },
     "execution_count": 41,
     "metadata": {},
     "output_type": "execute_result"
    }
   ],
   "source": [
    "products"
   ]
  },
  {
   "cell_type": "code",
   "execution_count": 42,
   "metadata": {
    "slideshow": {
     "slide_type": "slide"
    }
   },
   "outputs": [
    {
     "data": {
      "text/html": [
       "<div><strong>Dask DataFrame Structure:</strong></div>\n",
       "<div>\n",
       "<style scoped>\n",
       "    .dataframe tbody tr th:only-of-type {\n",
       "        vertical-align: middle;\n",
       "    }\n",
       "\n",
       "    .dataframe tbody tr th {\n",
       "        vertical-align: top;\n",
       "    }\n",
       "\n",
       "    .dataframe thead th {\n",
       "        text-align: right;\n",
       "    }\n",
       "</style>\n",
       "<table border=\"1\" class=\"dataframe\">\n",
       "  <thead>\n",
       "    <tr style=\"text-align: right;\">\n",
       "      <th></th>\n",
       "      <th>t</th>\n",
       "      <th>i</th>\n",
       "      <th>j</th>\n",
       "      <th>k</th>\n",
       "      <th>v</th>\n",
       "      <th>q</th>\n",
       "      <th>description</th>\n",
       "    </tr>\n",
       "    <tr>\n",
       "      <th>npartitions=66</th>\n",
       "      <th></th>\n",
       "      <th></th>\n",
       "      <th></th>\n",
       "      <th></th>\n",
       "      <th></th>\n",
       "      <th></th>\n",
       "      <th></th>\n",
       "    </tr>\n",
       "  </thead>\n",
       "  <tbody>\n",
       "    <tr>\n",
       "      <th></th>\n",
       "      <td>int64</td>\n",
       "      <td>int64</td>\n",
       "      <td>int64</td>\n",
       "      <td>int64</td>\n",
       "      <td>float64</td>\n",
       "      <td>float64</td>\n",
       "      <td>object</td>\n",
       "    </tr>\n",
       "    <tr>\n",
       "      <th></th>\n",
       "      <td>...</td>\n",
       "      <td>...</td>\n",
       "      <td>...</td>\n",
       "      <td>...</td>\n",
       "      <td>...</td>\n",
       "      <td>...</td>\n",
       "      <td>...</td>\n",
       "    </tr>\n",
       "    <tr>\n",
       "      <th>...</th>\n",
       "      <td>...</td>\n",
       "      <td>...</td>\n",
       "      <td>...</td>\n",
       "      <td>...</td>\n",
       "      <td>...</td>\n",
       "      <td>...</td>\n",
       "      <td>...</td>\n",
       "    </tr>\n",
       "    <tr>\n",
       "      <th></th>\n",
       "      <td>...</td>\n",
       "      <td>...</td>\n",
       "      <td>...</td>\n",
       "      <td>...</td>\n",
       "      <td>...</td>\n",
       "      <td>...</td>\n",
       "      <td>...</td>\n",
       "    </tr>\n",
       "    <tr>\n",
       "      <th></th>\n",
       "      <td>...</td>\n",
       "      <td>...</td>\n",
       "      <td>...</td>\n",
       "      <td>...</td>\n",
       "      <td>...</td>\n",
       "      <td>...</td>\n",
       "      <td>...</td>\n",
       "    </tr>\n",
       "  </tbody>\n",
       "</table>\n",
       "</div>\n",
       "<div>Dask Name: merge_chunk, 3 graph layers</div>"
      ],
      "text/plain": [
       "Dask DataFrame Structure:\n",
       "                    t      i      j      k        v        q description\n",
       "npartitions=66                                                          \n",
       "                int64  int64  int64  int64  float64  float64      object\n",
       "                  ...    ...    ...    ...      ...      ...         ...\n",
       "...               ...    ...    ...    ...      ...      ...         ...\n",
       "                  ...    ...    ...    ...      ...      ...         ...\n",
       "                  ...    ...    ...    ...      ...      ...         ...\n",
       "Dask Name: merge_chunk, 3 graph layers"
      ]
     },
     "execution_count": 42,
     "metadata": {},
     "output_type": "execute_result"
    }
   ],
   "source": [
    "df_wdes = df.merge(products)\n",
    "df_wdes"
   ]
  },
  {
   "cell_type": "markdown",
   "metadata": {
    "slideshow": {
     "slide_type": "-"
    }
   },
   "source": [
    "So now we've merged in a text description of our product codes"
   ]
  },
  {
   "cell_type": "code",
   "execution_count": 43,
   "metadata": {
    "slideshow": {
     "slide_type": "slide"
    }
   },
   "outputs": [],
   "source": [
    "countries = pd.read_csv(\"P:trade_data/country_codes_V202001.csv\",encoding = \"ISO-8859-1\")\n",
    "countries = countries.rename(columns={\"country_code\":\"i\",\"country_name_full\":\"name_i\"})\n",
    "df_wdes = df_wdes.merge(countries[['i','name_i']])\n",
    "\n",
    "countries = pd.read_csv(\"P:trade_data/country_codes_V202001.csv\",encoding = \"ISO-8859-1\")\n",
    "countries = countries.rename(columns={\"country_code\":\"j\",\"country_name_full\":\"name_j\"})\n",
    "df_wdes = df_wdes.merge(countries[['j','name_j']])"
   ]
  },
  {
   "cell_type": "code",
   "execution_count": 44,
   "metadata": {
    "slideshow": {
     "slide_type": "-"
    }
   },
   "outputs": [
    {
     "data": {
      "text/html": [
       "<div>\n",
       "<style scoped>\n",
       "    .dataframe tbody tr th:only-of-type {\n",
       "        vertical-align: middle;\n",
       "    }\n",
       "\n",
       "    .dataframe tbody tr th {\n",
       "        vertical-align: top;\n",
       "    }\n",
       "\n",
       "    .dataframe thead th {\n",
       "        text-align: right;\n",
       "    }\n",
       "</style>\n",
       "<table border=\"1\" class=\"dataframe\">\n",
       "  <thead>\n",
       "    <tr style=\"text-align: right;\">\n",
       "      <th></th>\n",
       "      <th>t</th>\n",
       "      <th>i</th>\n",
       "      <th>j</th>\n",
       "      <th>k</th>\n",
       "      <th>v</th>\n",
       "      <th>q</th>\n",
       "      <th>description</th>\n",
       "      <th>name_i</th>\n",
       "      <th>name_j</th>\n",
       "    </tr>\n",
       "  </thead>\n",
       "  <tbody>\n",
       "    <tr>\n",
       "      <th>0</th>\n",
       "      <td>2012</td>\n",
       "      <td>4</td>\n",
       "      <td>8</td>\n",
       "      <td>610469</td>\n",
       "      <td>2.734</td>\n",
       "      <td>0.044</td>\n",
       "      <td>Trousers, bib and brace overalls, breeches and...</td>\n",
       "      <td>Afghanistan</td>\n",
       "      <td>Albania</td>\n",
       "    </tr>\n",
       "    <tr>\n",
       "      <th>1</th>\n",
       "      <td>2012</td>\n",
       "      <td>4</td>\n",
       "      <td>8</td>\n",
       "      <td>630900</td>\n",
       "      <td>0.110</td>\n",
       "      <td>0.082</td>\n",
       "      <td>Clothing: worn, and other worn articles</td>\n",
       "      <td>Afghanistan</td>\n",
       "      <td>Albania</td>\n",
       "    </tr>\n",
       "    <tr>\n",
       "      <th>2</th>\n",
       "      <td>2012</td>\n",
       "      <td>20</td>\n",
       "      <td>8</td>\n",
       "      <td>910211</td>\n",
       "      <td>2.314</td>\n",
       "      <td>0.003</td>\n",
       "      <td>Wrist-watches: electrically operated, with or ...</td>\n",
       "      <td>Andorra</td>\n",
       "      <td>Albania</td>\n",
       "    </tr>\n",
       "    <tr>\n",
       "      <th>3</th>\n",
       "      <td>2012</td>\n",
       "      <td>20</td>\n",
       "      <td>8</td>\n",
       "      <td>960810</td>\n",
       "      <td>0.144</td>\n",
       "      <td>NaN</td>\n",
       "      <td>Pens: ball point</td>\n",
       "      <td>Andorra</td>\n",
       "      <td>Albania</td>\n",
       "    </tr>\n",
       "    <tr>\n",
       "      <th>4</th>\n",
       "      <td>2012</td>\n",
       "      <td>20</td>\n",
       "      <td>8</td>\n",
       "      <td>80510</td>\n",
       "      <td>1.457</td>\n",
       "      <td>2.228</td>\n",
       "      <td>Fruit, edible: oranges, fresh or dried</td>\n",
       "      <td>Andorra</td>\n",
       "      <td>Albania</td>\n",
       "    </tr>\n",
       "    <tr>\n",
       "      <th>5</th>\n",
       "      <td>2012</td>\n",
       "      <td>28</td>\n",
       "      <td>8</td>\n",
       "      <td>170490</td>\n",
       "      <td>0.064</td>\n",
       "      <td>0.009</td>\n",
       "      <td>Sugar confectionery: (excluding chewing gum, i...</td>\n",
       "      <td>Antigua and Barbuda</td>\n",
       "      <td>Albania</td>\n",
       "    </tr>\n",
       "    <tr>\n",
       "      <th>6</th>\n",
       "      <td>2012</td>\n",
       "      <td>28</td>\n",
       "      <td>8</td>\n",
       "      <td>80550</td>\n",
       "      <td>3.389</td>\n",
       "      <td>4.517</td>\n",
       "      <td>Fruit, edible: lemons (Citrus limon, Citrus li...</td>\n",
       "      <td>Antigua and Barbuda</td>\n",
       "      <td>Albania</td>\n",
       "    </tr>\n",
       "    <tr>\n",
       "      <th>7</th>\n",
       "      <td>2012</td>\n",
       "      <td>28</td>\n",
       "      <td>8</td>\n",
       "      <td>200811</td>\n",
       "      <td>1.571</td>\n",
       "      <td>0.427</td>\n",
       "      <td>Nuts: ground-nuts, whether or not containing a...</td>\n",
       "      <td>Antigua and Barbuda</td>\n",
       "      <td>Albania</td>\n",
       "    </tr>\n",
       "    <tr>\n",
       "      <th>8</th>\n",
       "      <td>2012</td>\n",
       "      <td>28</td>\n",
       "      <td>8</td>\n",
       "      <td>190531</td>\n",
       "      <td>0.030</td>\n",
       "      <td>0.005</td>\n",
       "      <td>Food preparations: sweet biscuits, whether or ...</td>\n",
       "      <td>Antigua and Barbuda</td>\n",
       "      <td>Albania</td>\n",
       "    </tr>\n",
       "    <tr>\n",
       "      <th>9</th>\n",
       "      <td>2012</td>\n",
       "      <td>28</td>\n",
       "      <td>8</td>\n",
       "      <td>230400</td>\n",
       "      <td>15.601</td>\n",
       "      <td>25.000</td>\n",
       "      <td>Oil-cake and other solid residues: whether or ...</td>\n",
       "      <td>Antigua and Barbuda</td>\n",
       "      <td>Albania</td>\n",
       "    </tr>\n",
       "  </tbody>\n",
       "</table>\n",
       "</div>"
      ],
      "text/plain": [
       "      t   i  j       k       v       q  \\\n",
       "0  2012   4  8  610469   2.734   0.044   \n",
       "1  2012   4  8  630900   0.110   0.082   \n",
       "2  2012  20  8  910211   2.314   0.003   \n",
       "3  2012  20  8  960810   0.144     NaN   \n",
       "4  2012  20  8   80510   1.457   2.228   \n",
       "5  2012  28  8  170490   0.064   0.009   \n",
       "6  2012  28  8   80550   3.389   4.517   \n",
       "7  2012  28  8  200811   1.571   0.427   \n",
       "8  2012  28  8  190531   0.030   0.005   \n",
       "9  2012  28  8  230400  15.601  25.000   \n",
       "\n",
       "                                         description               name_i  \\\n",
       "0  Trousers, bib and brace overalls, breeches and...          Afghanistan   \n",
       "1            Clothing: worn, and other worn articles          Afghanistan   \n",
       "2  Wrist-watches: electrically operated, with or ...              Andorra   \n",
       "3                                   Pens: ball point              Andorra   \n",
       "4             Fruit, edible: oranges, fresh or dried              Andorra   \n",
       "5  Sugar confectionery: (excluding chewing gum, i...  Antigua and Barbuda   \n",
       "6  Fruit, edible: lemons (Citrus limon, Citrus li...  Antigua and Barbuda   \n",
       "7  Nuts: ground-nuts, whether or not containing a...  Antigua and Barbuda   \n",
       "8  Food preparations: sweet biscuits, whether or ...  Antigua and Barbuda   \n",
       "9  Oil-cake and other solid residues: whether or ...  Antigua and Barbuda   \n",
       "\n",
       "    name_j  \n",
       "0  Albania  \n",
       "1  Albania  \n",
       "2  Albania  \n",
       "3  Albania  \n",
       "4  Albania  \n",
       "5  Albania  \n",
       "6  Albania  \n",
       "7  Albania  \n",
       "8  Albania  \n",
       "9  Albania  "
      ]
     },
     "execution_count": 44,
     "metadata": {},
     "output_type": "execute_result"
    }
   ],
   "source": [
    "df_wdes.head(10)"
   ]
  },
  {
   "cell_type": "markdown",
   "metadata": {
    "slideshow": {
     "slide_type": "slide"
    }
   },
   "source": [
    "### Which dataframe operations the dask API supports:\n",
    "\n",
    "__Element by element operations__"
   ]
  },
  {
   "cell_type": "code",
   "execution_count": 45,
   "metadata": {
    "slideshow": {
     "slide_type": "-"
    }
   },
   "outputs": [],
   "source": [
    "df_wdes['avg_price'] = df_wdes['v']/df_wdes['q']"
   ]
  },
  {
   "cell_type": "markdown",
   "metadata": {
    "slideshow": {
     "slide_type": "-"
    }
   },
   "source": [
    "Since its delaying the operations, it won't run until I call `compute`, though notice that it just added a column to this dataset."
   ]
  },
  {
   "cell_type": "code",
   "execution_count": 46,
   "metadata": {
    "slideshow": {
     "slide_type": "-"
    }
   },
   "outputs": [
    {
     "data": {
      "text/html": [
       "<div>\n",
       "<style scoped>\n",
       "    .dataframe tbody tr th:only-of-type {\n",
       "        vertical-align: middle;\n",
       "    }\n",
       "\n",
       "    .dataframe tbody tr th {\n",
       "        vertical-align: top;\n",
       "    }\n",
       "\n",
       "    .dataframe thead th {\n",
       "        text-align: right;\n",
       "    }\n",
       "</style>\n",
       "<table border=\"1\" class=\"dataframe\">\n",
       "  <thead>\n",
       "    <tr style=\"text-align: right;\">\n",
       "      <th></th>\n",
       "      <th>t</th>\n",
       "      <th>i</th>\n",
       "      <th>j</th>\n",
       "      <th>k</th>\n",
       "      <th>v</th>\n",
       "      <th>q</th>\n",
       "      <th>description</th>\n",
       "      <th>name_i</th>\n",
       "      <th>name_j</th>\n",
       "      <th>avg_price</th>\n",
       "    </tr>\n",
       "  </thead>\n",
       "  <tbody>\n",
       "    <tr>\n",
       "      <th>0</th>\n",
       "      <td>2012</td>\n",
       "      <td>4</td>\n",
       "      <td>8</td>\n",
       "      <td>610469</td>\n",
       "      <td>2.734</td>\n",
       "      <td>0.044</td>\n",
       "      <td>Trousers, bib and brace overalls, breeches and...</td>\n",
       "      <td>Afghanistan</td>\n",
       "      <td>Albania</td>\n",
       "      <td>62.136364</td>\n",
       "    </tr>\n",
       "    <tr>\n",
       "      <th>1</th>\n",
       "      <td>2012</td>\n",
       "      <td>4</td>\n",
       "      <td>8</td>\n",
       "      <td>630900</td>\n",
       "      <td>0.110</td>\n",
       "      <td>0.082</td>\n",
       "      <td>Clothing: worn, and other worn articles</td>\n",
       "      <td>Afghanistan</td>\n",
       "      <td>Albania</td>\n",
       "      <td>1.341463</td>\n",
       "    </tr>\n",
       "    <tr>\n",
       "      <th>2</th>\n",
       "      <td>2012</td>\n",
       "      <td>20</td>\n",
       "      <td>8</td>\n",
       "      <td>910211</td>\n",
       "      <td>2.314</td>\n",
       "      <td>0.003</td>\n",
       "      <td>Wrist-watches: electrically operated, with or ...</td>\n",
       "      <td>Andorra</td>\n",
       "      <td>Albania</td>\n",
       "      <td>771.333333</td>\n",
       "    </tr>\n",
       "    <tr>\n",
       "      <th>3</th>\n",
       "      <td>2012</td>\n",
       "      <td>20</td>\n",
       "      <td>8</td>\n",
       "      <td>960810</td>\n",
       "      <td>0.144</td>\n",
       "      <td>NaN</td>\n",
       "      <td>Pens: ball point</td>\n",
       "      <td>Andorra</td>\n",
       "      <td>Albania</td>\n",
       "      <td>NaN</td>\n",
       "    </tr>\n",
       "    <tr>\n",
       "      <th>4</th>\n",
       "      <td>2012</td>\n",
       "      <td>20</td>\n",
       "      <td>8</td>\n",
       "      <td>80510</td>\n",
       "      <td>1.457</td>\n",
       "      <td>2.228</td>\n",
       "      <td>Fruit, edible: oranges, fresh or dried</td>\n",
       "      <td>Andorra</td>\n",
       "      <td>Albania</td>\n",
       "      <td>0.653950</td>\n",
       "    </tr>\n",
       "    <tr>\n",
       "      <th>5</th>\n",
       "      <td>2012</td>\n",
       "      <td>28</td>\n",
       "      <td>8</td>\n",
       "      <td>170490</td>\n",
       "      <td>0.064</td>\n",
       "      <td>0.009</td>\n",
       "      <td>Sugar confectionery: (excluding chewing gum, i...</td>\n",
       "      <td>Antigua and Barbuda</td>\n",
       "      <td>Albania</td>\n",
       "      <td>7.111111</td>\n",
       "    </tr>\n",
       "    <tr>\n",
       "      <th>6</th>\n",
       "      <td>2012</td>\n",
       "      <td>28</td>\n",
       "      <td>8</td>\n",
       "      <td>80550</td>\n",
       "      <td>3.389</td>\n",
       "      <td>4.517</td>\n",
       "      <td>Fruit, edible: lemons (Citrus limon, Citrus li...</td>\n",
       "      <td>Antigua and Barbuda</td>\n",
       "      <td>Albania</td>\n",
       "      <td>0.750277</td>\n",
       "    </tr>\n",
       "    <tr>\n",
       "      <th>7</th>\n",
       "      <td>2012</td>\n",
       "      <td>28</td>\n",
       "      <td>8</td>\n",
       "      <td>200811</td>\n",
       "      <td>1.571</td>\n",
       "      <td>0.427</td>\n",
       "      <td>Nuts: ground-nuts, whether or not containing a...</td>\n",
       "      <td>Antigua and Barbuda</td>\n",
       "      <td>Albania</td>\n",
       "      <td>3.679157</td>\n",
       "    </tr>\n",
       "    <tr>\n",
       "      <th>8</th>\n",
       "      <td>2012</td>\n",
       "      <td>28</td>\n",
       "      <td>8</td>\n",
       "      <td>190531</td>\n",
       "      <td>0.030</td>\n",
       "      <td>0.005</td>\n",
       "      <td>Food preparations: sweet biscuits, whether or ...</td>\n",
       "      <td>Antigua and Barbuda</td>\n",
       "      <td>Albania</td>\n",
       "      <td>6.000000</td>\n",
       "    </tr>\n",
       "    <tr>\n",
       "      <th>9</th>\n",
       "      <td>2012</td>\n",
       "      <td>28</td>\n",
       "      <td>8</td>\n",
       "      <td>230400</td>\n",
       "      <td>15.601</td>\n",
       "      <td>25.000</td>\n",
       "      <td>Oil-cake and other solid residues: whether or ...</td>\n",
       "      <td>Antigua and Barbuda</td>\n",
       "      <td>Albania</td>\n",
       "      <td>0.624040</td>\n",
       "    </tr>\n",
       "  </tbody>\n",
       "</table>\n",
       "</div>"
      ],
      "text/plain": [
       "      t   i  j       k       v       q  \\\n",
       "0  2012   4  8  610469   2.734   0.044   \n",
       "1  2012   4  8  630900   0.110   0.082   \n",
       "2  2012  20  8  910211   2.314   0.003   \n",
       "3  2012  20  8  960810   0.144     NaN   \n",
       "4  2012  20  8   80510   1.457   2.228   \n",
       "5  2012  28  8  170490   0.064   0.009   \n",
       "6  2012  28  8   80550   3.389   4.517   \n",
       "7  2012  28  8  200811   1.571   0.427   \n",
       "8  2012  28  8  190531   0.030   0.005   \n",
       "9  2012  28  8  230400  15.601  25.000   \n",
       "\n",
       "                                         description               name_i  \\\n",
       "0  Trousers, bib and brace overalls, breeches and...          Afghanistan   \n",
       "1            Clothing: worn, and other worn articles          Afghanistan   \n",
       "2  Wrist-watches: electrically operated, with or ...              Andorra   \n",
       "3                                   Pens: ball point              Andorra   \n",
       "4             Fruit, edible: oranges, fresh or dried              Andorra   \n",
       "5  Sugar confectionery: (excluding chewing gum, i...  Antigua and Barbuda   \n",
       "6  Fruit, edible: lemons (Citrus limon, Citrus li...  Antigua and Barbuda   \n",
       "7  Nuts: ground-nuts, whether or not containing a...  Antigua and Barbuda   \n",
       "8  Food preparations: sweet biscuits, whether or ...  Antigua and Barbuda   \n",
       "9  Oil-cake and other solid residues: whether or ...  Antigua and Barbuda   \n",
       "\n",
       "    name_j   avg_price  \n",
       "0  Albania   62.136364  \n",
       "1  Albania    1.341463  \n",
       "2  Albania  771.333333  \n",
       "3  Albania         NaN  \n",
       "4  Albania    0.653950  \n",
       "5  Albania    7.111111  \n",
       "6  Albania    0.750277  \n",
       "7  Albania    3.679157  \n",
       "8  Albania    6.000000  \n",
       "9  Albania    0.624040  "
      ]
     },
     "execution_count": 46,
     "metadata": {},
     "output_type": "execute_result"
    }
   ],
   "source": [
    "df_wdes.head(10)"
   ]
  },
  {
   "cell_type": "markdown",
   "metadata": {
    "slideshow": {
     "slide_type": "slide"
    }
   },
   "source": [
    "__Selecting and slicing__"
   ]
  },
  {
   "cell_type": "code",
   "execution_count": 47,
   "metadata": {
    "slideshow": {
     "slide_type": "-"
    }
   },
   "outputs": [],
   "source": [
    "avg18 = df_wdes.loc[df_wdes.t==2018]['avg_price']"
   ]
  },
  {
   "cell_type": "markdown",
   "metadata": {
    "slideshow": {
     "slide_type": "-"
    }
   },
   "source": [
    "Now call compute to actually make a DataFrame:"
   ]
  },
  {
   "cell_type": "code",
   "execution_count": 48,
   "metadata": {
    "slideshow": {
     "slide_type": "-"
    }
   },
   "outputs": [],
   "source": [
    "ex = avg18.compute()"
   ]
  },
  {
   "cell_type": "code",
   "execution_count": 49,
   "metadata": {
    "slideshow": {
     "slide_type": "-"
    }
   },
   "outputs": [
    {
     "data": {
      "text/plain": [
       "0             4.400577\n",
       "1           375.857143\n",
       "2            33.822069\n",
       "3            17.344262\n",
       "4             1.149123\n",
       "              ...     \n",
       "1320367      25.013333\n",
       "1320368       4.453061\n",
       "1320369     112.579270\n",
       "1320370    5000.000000\n",
       "1320371      30.149686\n",
       "Name: avg_price, Length: 10271079, dtype: float64"
      ]
     },
     "execution_count": 49,
     "metadata": {},
     "output_type": "execute_result"
    }
   ],
   "source": [
    "ex"
   ]
  },
  {
   "cell_type": "markdown",
   "metadata": {
    "slideshow": {
     "slide_type": "slide"
    }
   },
   "source": [
    "__Statistical functions__"
   ]
  },
  {
   "cell_type": "code",
   "execution_count": 50,
   "metadata": {
    "slideshow": {
     "slide_type": "-"
    }
   },
   "outputs": [
    {
     "data": {
      "text/plain": [
       "616.2335182946804"
      ]
     },
     "execution_count": 50,
     "metadata": {},
     "output_type": "execute_result"
    }
   ],
   "source": [
    "avg18.mean().compute()"
   ]
  },
  {
   "cell_type": "code",
   "execution_count": 51,
   "metadata": {
    "slideshow": {
     "slide_type": "-"
    }
   },
   "outputs": [
    {
     "data": {
      "text/plain": [
       "35164417425.70555"
      ]
     },
     "execution_count": 51,
     "metadata": {},
     "output_type": "execute_result"
    }
   ],
   "source": [
    "avg18.var().compute()"
   ]
  },
  {
   "cell_type": "markdown",
   "metadata": {
    "slideshow": {
     "slide_type": "slide"
    }
   },
   "source": [
    "__Typical pandas functionality__"
   ]
  },
  {
   "cell_type": "code",
   "execution_count": 52,
   "metadata": {
    "slideshow": {
     "slide_type": "-"
    }
   },
   "outputs": [],
   "source": [
    "product_counts = df['k'].value_counts().compute()\n",
    "\n",
    "product_dict = products.set_index(\"k\")['description'].to_dict()\n",
    "\n",
    "product_counts.index=  pd.Series(product_counts.index).replace(product_dict)"
   ]
  },
  {
   "cell_type": "code",
   "execution_count": 53,
   "metadata": {
    "slideshow": {
     "slide_type": "-"
    }
   },
   "outputs": [
    {
     "data": {
      "text/plain": [
       "Plastics: other articles n.e.c. in chapter 39                                                                                                                                                                             117540\n",
       "Iron or steel: articles n.e.c.in heading 7326                                                                                                                                                                             102137\n",
       "Printed matter: books, brochures, leaflets and similar printed matter n.e.c. in item no. 4901.10 or 4901.91                                                                                                                93445\n",
       "T-shirts, singlets and other vests: of cotton, knitted or crocheted                                                                                                                                                        92834\n",
       "Electrical static converters                                                                                                                                                                                               92771\n",
       "Vehicle parts and accessories: n.e.c. in heading no. 8708                                                                                                                                                                  92214\n",
       "Rubber: vulcanised (other than hard rubber), gaskets, washers and other seals, of non-cellular rubber                                                                                                                      88414\n",
       "Communication apparatus (excluding telephone sets or base stations): machines for the reception, conversion and transmission or regeneration of voice, images or other data, including switching and routing apparatus     88356\n",
       "Taps, cocks, valves and similar appliances: for pipes, boiler shells, tanks, vats or the like, including thermostatically controlled valves                                                                                86790\n",
       "Food preparations: n.e.c. in item no. 2106.10                                                                                                                                                                              86776\n",
       "Name: k, dtype: int64"
      ]
     },
     "execution_count": 53,
     "metadata": {},
     "output_type": "execute_result"
    }
   ],
   "source": [
    "product_counts.head(10)"
   ]
  },
  {
   "cell_type": "code",
   "execution_count": 54,
   "metadata": {
    "slideshow": {
     "slide_type": "slide"
    }
   },
   "outputs": [
    {
     "data": {
      "text/plain": [
       "1336879    7.059573e+08\n",
       "90921      6.965135e+08\n",
       "117372     6.924810e+08\n",
       "108906     6.868821e+08\n",
       "121201     6.857592e+08\n",
       "109270     6.776354e+08\n",
       "113560     6.497960e+08\n",
       "1431949    6.115246e+08\n",
       "98624      5.912236e+08\n",
       "1563422    5.808956e+08\n",
       "Name: q, dtype: float64"
      ]
     },
     "execution_count": 54,
     "metadata": {},
     "output_type": "execute_result"
    }
   ],
   "source": [
    "df['q'].nlargest(10).compute()"
   ]
  },
  {
   "cell_type": "markdown",
   "metadata": {
    "slideshow": {
     "slide_type": "-"
    }
   },
   "source": [
    "In this case, `nlargest` returns the n largest elements of a column.\n",
    "\n",
    "It also does groupby in parallel:"
   ]
  },
  {
   "cell_type": "code",
   "execution_count": 55,
   "metadata": {
    "slideshow": {
     "slide_type": "slide"
    }
   },
   "outputs": [],
   "source": [
    "country_v_sums = df.groupby(\"i\")['v'].sum().compute()"
   ]
  },
  {
   "cell_type": "code",
   "execution_count": 56,
   "metadata": {},
   "outputs": [
    {
     "data": {
      "text/plain": [
       "i\n",
       "156    2.249401e+10\n",
       "842    1.319568e+10\n",
       "276    1.223787e+10\n",
       "392    6.673620e+09\n",
       "410    5.191421e+09\n",
       "           ...     \n",
       "500    2.891476e+04\n",
       "574    2.670580e+04\n",
       "612    1.796377e+04\n",
       "876    9.984833e+03\n",
       "530    2.722692e+03\n",
       "Name: v, Length: 228, dtype: float64"
      ]
     },
     "execution_count": 56,
     "metadata": {},
     "output_type": "execute_result"
    }
   ],
   "source": [
    "country_v_sums.sort_values(ascending=False)"
   ]
  },
  {
   "cell_type": "markdown",
   "metadata": {
    "slideshow": {
     "slide_type": "-"
    }
   },
   "source": [
    "You'll notice another advantage of this framework is that you can do standard `pandas` operations but in parallel."
   ]
  },
  {
   "cell_type": "markdown",
   "metadata": {
    "slideshow": {
     "slide_type": "slide"
    }
   },
   "source": [
    "## Dask Bags\n",
    "This works with dataframes well, but about with python objects?\n",
    "\n",
    "This is what `bags` are for. Bags essentially hold a list of python objects which can be parsed with any function necessary. \n",
    "\n",
    "This is handier for something like text analysis or image analysis where our objects are unstructured."
   ]
  },
  {
   "cell_type": "code",
   "execution_count": 58,
   "metadata": {
    "slideshow": {
     "slide_type": "slide"
    }
   },
   "outputs": [],
   "source": [
    "import dask.bag as db\n",
    "import json\n",
    "\n",
    "doge = db.read_text('C:/Users/jhtchns2/Box/ACE 592 SAE - Spring 2023/Class_Examples/3_Numeric/doge_tweets*.json')"
   ]
  },
  {
   "cell_type": "code",
   "execution_count": 59,
   "metadata": {
    "scrolled": true,
    "slideshow": {
     "slide_type": "-"
    }
   },
   "outputs": [
    {
     "data": {
      "text/plain": [
       "('[{\"created_at\":\"Tue Feb 02 14:10:12 +0000 2021\",\"id\":1356605843580588034,\"id_str\":\"1356605843580588034\",\"text\":\"RT @lotsoftips: Wow #doge is ready to pop \\\\ud83d\\\\ude80\\\\n\\\\n#dogearmy #dogetothemoon #DogeToAdollar https:\\\\/\\\\/t.co\\\\/ZmJUQNeVpn\",\"source\":\"\\\\u003ca href=\\\\\"http:\\\\/\\\\/twitter.com\\\\/download\\\\/android\\\\\" rel=\\\\\"nofollow\\\\\"\\\\u003eTwitter for Android\\\\u003c\\\\/a\\\\u003e\",\"truncated\":false,\"in_reply_to_status_id\":null,\"in_reply_to_status_id_str\":null,\"in_reply_to_user_id\":null,\"in_reply_to_user_id_str\":null,\"in_reply_to_screen_name\":null,\"user\":{\"id\":1355879070089814021,\"id_str\":\"1355879070089814021\",\"name\":\"DOGECOIN UNIVERSE\",\"screen_name\":\"DOGECOINUNIVER1\",\"location\":\"New York, NY\",\"url\":null,\"description\":\"Welcome to Dogecoin Universe. Where you can find updates and inspiration on your #dogecoin investment. #BUYDOGECOIN The Future Is Ours! #Dogecoinarmy\",\"translator_type\":\"none\",\"protected\":false,\"verified\":false,\"followers_count\":152,\"friends_count\":609,\"listed_count\":0,\"favourites_count\":1902,\"statuses_count\":1031,\"created_at\":\"Sun Jan 31 14:02:49 +0000 2021\",\"utc_offset\":null,\"time_zone\":null,\"geo_enabled\":false,\"lang\":null,\"contributors_enabled\":false,\"is_translator\":false,\"profile_background_color\":\"F5F8FA\",\"profile_background_image_url\":\"\",\"profile_background_image_url_https\":\"\",\"profile_background_tile\":false,\"profile_link_color\":\"1DA1F2\",\"profile_sidebar_border_color\":\"C0DEED\",\"profile_sidebar_fill_color\":\"DDEEF6\",\"profile_text_color\":\"333333\",\"profile_use_background_image\":true,\"profile_image_url\":\"http:\\\\/\\\\/pbs.twimg.com\\\\/profile_images\\\\/1355916502365560839\\\\/d4wEvlfr_normal.jpg\",\"profile_image_url_https\":\"https:\\\\/\\\\/pbs.twimg.com\\\\/profile_images\\\\/1355916502365560839\\\\/d4wEvlfr_normal.jpg\",\"profile_banner_url\":\"https:\\\\/\\\\/pbs.twimg.com\\\\/profile_banners\\\\/1355879070089814021\\\\/1612200724\",\"default_profile\":true,\"default_profile_image\":false,\"following\":null,\"follow_request_sent\":null,\"notifications\":null},\"geo\":null,\"coordinates\":null,\"place\":null,\"contributors\":null,\"retweeted_status\":{\"created_at\":\"Tue Feb 02 14:09:24 +0000 2021\",\"id\":1356605644057546753,\"id_str\":\"1356605644057546753\",\"text\":\"Wow #doge is ready to pop \\\\ud83d\\\\ude80\\\\n\\\\n#dogearmy #dogetothemoon #DogeToAdollar https:\\\\/\\\\/t.co\\\\/ZmJUQNeVpn\",\"display_text_range\":[0,68],\"source\":\"\\\\u003ca href=\\\\\"https:\\\\/\\\\/mobile.twitter.com\\\\\" rel=\\\\\"nofollow\\\\\"\\\\u003eTwitter Web App\\\\u003c\\\\/a\\\\u003e\",\"truncated\":false,\"in_reply_to_status_id\":null,\"in_reply_to_status_id_str\":null,\"in_reply_to_user_id\":null,\"in_reply_to_user_id_str\":null,\"in_reply_to_screen_name\":null,\"user\":{\"id\":2257170955,\"id_str\":\"2257170955\",\"name\":\"Lots of Tips\",\"screen_name\":\"lotsoftips\",\"location\":null,\"url\":null,\"description\":null,\"translator_type\":\"none\",\"protected\":false,\"verified\":false,\"followers_count\":75,\"friends_count\":438,\"listed_count\":0,\"favourites_count\":53,\"statuses_count\":157,\"created_at\":\"Sun Dec 22 02:22:25 +0000 2013\",\"utc_offset\":null,\"time_zone\":null,\"geo_enabled\":false,\"lang\":null,\"contributors_enabled\":false,\"is_translator\":false,\"profile_background_color\":\"C0DEED\",\"profile_background_image_url\":\"http:\\\\/\\\\/abs.twimg.com\\\\/images\\\\/themes\\\\/theme1\\\\/bg.png\",\"profile_background_image_url_https\":\"https:\\\\/\\\\/abs.twimg.com\\\\/images\\\\/themes\\\\/theme1\\\\/bg.png\",\"profile_background_tile\":false,\"profile_link_color\":\"1DA1F2\",\"profile_sidebar_border_color\":\"C0DEED\",\"profile_sidebar_fill_color\":\"DDEEF6\",\"profile_text_color\":\"333333\",\"profile_use_background_image\":true,\"profile_image_url\":\"http:\\\\/\\\\/pbs.twimg.com\\\\/profile_images\\\\/414582456373637120\\\\/zDHcZBWX_normal.jpeg\",\"profile_image_url_https\":\"https:\\\\/\\\\/pbs.twimg.com\\\\/profile_images\\\\/414582456373637120\\\\/zDHcZBWX_normal.jpeg\",\"default_profile\":true,\"default_profile_image\":false,\"following\":null,\"follow_request_sent\":null,\"notifications\":null},\"geo\":null,\"coordinates\":null,\"place\":null,\"contributors\":null,\"is_quote_status\":false,\"quote_count\":0,\"reply_count\":0,\"retweet_count\":1,\"favorite_count\":2,\"entities\":{\"hashtags\":[{\"text\":\"doge\",\"indices\":[4,9]},{\"text\":\"dogearmy\",\"indices\":[29,38]},{\"text\":\"dogetothemoon\",\"indices\":[39,53]},{\"text\":\"DogeToAdollar\",\"indices\":[54,68]}],\"urls\":[],\"user_mentions\":[],\"symbols\":[],\"media\":[{\"id\":1356605511618203654,\"id_str\":\"1356605511618203654\",\"indices\":[69,92],\"media_url\":\"http:\\\\/\\\\/pbs.twimg.com\\\\/media\\\\/EtOhhnRXEAY4Y4U.jpg\",\"media_url_https\":\"https:\\\\/\\\\/pbs.twimg.com\\\\/media\\\\/EtOhhnRXEAY4Y4U.jpg\",\"url\":\"https:\\\\/\\\\/t.co\\\\/ZmJUQNeVpn\",\"display_url\":\"pic.twitter.com\\\\/ZmJUQNeVpn\",\"expanded_url\":\"https:\\\\/\\\\/twitter.com\\\\/lotsoftips\\\\/status\\\\/1356605644057546753\\\\/photo\\\\/1\",\"type\":\"photo\",\"sizes\":{\"thumb\":{\"w\":150,\"h\":150,\"resize\":\"crop\"},\"large\":{\"w\":2048,\"h\":543,\"resize\":\"fit\"},\"medium\":{\"w\":1200,\"h\":318,\"resize\":\"fit\"},\"small\":{\"w\":680,\"h\":180,\"resize\":\"fit\"}}}]},\"extended_entities\":{\"media\":[{\"id\":1356605511618203654,\"id_str\":\"1356605511618203654\",\"indices\":[69,92],\"media_url\":\"http:\\\\/\\\\/pbs.twimg.com\\\\/media\\\\/EtOhhnRXEAY4Y4U.jpg\",\"media_url_https\":\"https:\\\\/\\\\/pbs.twimg.com\\\\/media\\\\/EtOhhnRXEAY4Y4U.jpg\",\"url\":\"https:\\\\/\\\\/t.co\\\\/ZmJUQNeVpn\",\"display_url\":\"pic.twitter.com\\\\/ZmJUQNeVpn\",\"expanded_url\":\"https:\\\\/\\\\/twitter.com\\\\/lotsoftips\\\\/status\\\\/1356605644057546753\\\\/photo\\\\/1\",\"type\":\"photo\",\"sizes\":{\"thumb\":{\"w\":150,\"h\":150,\"resize\":\"crop\"},\"large\":{\"w\":2048,\"h\":543,\"resize\":\"fit\"},\"medium\":{\"w\":1200,\"h\":318,\"resize\":\"fit\"},\"small\":{\"w\":680,\"h\":180,\"resize\":\"fit\"}}}]},\"favorited\":false,\"retweeted\":false,\"possibly_sensitive\":false,\"filter_level\":\"low\",\"lang\":\"en\"},\"is_quote_status\":false,\"quote_count\":0,\"reply_count\":0,\"retweet_count\":0,\"favorite_count\":0,\"entities\":{\"hashtags\":[{\"text\":\"doge\",\"indices\":[20,25]},{\"text\":\"dogearmy\",\"indices\":[45,54]},{\"text\":\"dogetothemoon\",\"indices\":[55,69]},{\"text\":\"DogeToAdollar\",\"indices\":[70,84]}],\"urls\":[],\"user_mentions\":[{\"screen_name\":\"lotsoftips\",\"name\":\"Lots of Tips\",\"id\":2257170955,\"id_str\":\"2257170955\",\"indices\":[3,14]}],\"symbols\":[],\"media\":[{\"id\":1356605511618203654,\"id_str\":\"1356605511618203654\",\"indices\":[85,108],\"media_url\":\"http:\\\\/\\\\/pbs.twimg.com\\\\/media\\\\/EtOhhnRXEAY4Y4U.jpg\",\"media_url_https\":\"https:\\\\/\\\\/pbs.twimg.com\\\\/media\\\\/EtOhhnRXEAY4Y4U.jpg\",\"url\":\"https:\\\\/\\\\/t.co\\\\/ZmJUQNeVpn\",\"display_url\":\"pic.twitter.com\\\\/ZmJUQNeVpn\",\"expanded_url\":\"https:\\\\/\\\\/twitter.com\\\\/lotsoftips\\\\/status\\\\/1356605644057546753\\\\/photo\\\\/1\",\"type\":\"photo\",\"sizes\":{\"thumb\":{\"w\":150,\"h\":150,\"resize\":\"crop\"},\"large\":{\"w\":2048,\"h\":543,\"resize\":\"fit\"},\"medium\":{\"w\":1200,\"h\":318,\"resize\":\"fit\"},\"small\":{\"w\":680,\"h\":180,\"resize\":\"fit\"}},\"source_status_id\":1356605644057546753,\"source_status_id_str\":\"1356605644057546753\",\"source_user_id\":2257170955,\"source_user_id_str\":\"2257170955\"}]},\"extended_entities\":{\"media\":[{\"id\":1356605511618203654,\"id_str\":\"1356605511618203654\",\"indices\":[85,108],\"media_url\":\"http:\\\\/\\\\/pbs.twimg.com\\\\/media\\\\/EtOhhnRXEAY4Y4U.jpg\",\"media_url_https\":\"https:\\\\/\\\\/pbs.twimg.com\\\\/media\\\\/EtOhhnRXEAY4Y4U.jpg\",\"url\":\"https:\\\\/\\\\/t.co\\\\/ZmJUQNeVpn\",\"display_url\":\"pic.twitter.com\\\\/ZmJUQNeVpn\",\"expanded_url\":\"https:\\\\/\\\\/twitter.com\\\\/lotsoftips\\\\/status\\\\/1356605644057546753\\\\/photo\\\\/1\",\"type\":\"photo\",\"sizes\":{\"thumb\":{\"w\":150,\"h\":150,\"resize\":\"crop\"},\"large\":{\"w\":2048,\"h\":543,\"resize\":\"fit\"},\"medium\":{\"w\":1200,\"h\":318,\"resize\":\"fit\"},\"small\":{\"w\":680,\"h\":180,\"resize\":\"fit\"}},\"source_status_id\":1356605644057546753,\"source_status_id_str\":\"1356605644057546753\",\"source_user_id\":2257170955,\"source_user_id_str\":\"2257170955\"}]},\"favorited\":false,\"retweeted\":false,\"possibly_sensitive\":false,\"filter_level\":\"low\",\"lang\":\"en\",\"timestamp_ms\":\"1612275012284\"},\\n',)"
      ]
     },
     "execution_count": 59,
     "metadata": {},
     "output_type": "execute_result"
    }
   ],
   "source": [
    "doge.take(1)"
   ]
  },
  {
   "cell_type": "markdown",
   "metadata": {
    "slideshow": {
     "slide_type": "slide"
    }
   },
   "source": [
    "So now we've extracted a tweet! We could apply a function so that they become json objects:"
   ]
  },
  {
   "cell_type": "markdown",
   "metadata": {
    "slideshow": {
     "slide_type": "-"
    }
   },
   "source": [
    "To take each one individually, have to do some parsing of the strings so I wrote this function:"
   ]
  },
  {
   "cell_type": "code",
   "execution_count": 60,
   "metadata": {
    "slideshow": {
     "slide_type": "-"
    }
   },
   "outputs": [],
   "source": [
    "def make_json(x):\n",
    "    if x[0] ==\"[\":\n",
    "        extract = x[1:-2]\n",
    "    elif x[-1] ==\"]\":\n",
    "        extract = x[:-1]\n",
    "    else:\n",
    "        extract = x[:-2]\n",
    "    return json.loads(extract)"
   ]
  },
  {
   "cell_type": "code",
   "execution_count": 61,
   "metadata": {
    "slideshow": {
     "slide_type": "-"
    }
   },
   "outputs": [],
   "source": [
    "doge = doge.map(make_json)"
   ]
  },
  {
   "cell_type": "markdown",
   "metadata": {
    "slideshow": {
     "slide_type": "slide"
    }
   },
   "source": [
    "So now what if we wanted to extract all of the timestamps from the data?"
   ]
  },
  {
   "cell_type": "code",
   "execution_count": 62,
   "metadata": {
    "slideshow": {
     "slide_type": "-"
    }
   },
   "outputs": [],
   "source": [
    "times = doge.map(lambda x: x['created_at'])"
   ]
  },
  {
   "cell_type": "code",
   "execution_count": 63,
   "metadata": {},
   "outputs": [
    {
     "data": {
      "text/plain": [
       "dask.bag<lambda, npartitions=2>"
      ]
     },
     "execution_count": 63,
     "metadata": {},
     "output_type": "execute_result"
    }
   ],
   "source": [
    "times"
   ]
  },
  {
   "cell_type": "code",
   "execution_count": 64,
   "metadata": {
    "slideshow": {
     "slide_type": "-"
    }
   },
   "outputs": [],
   "source": [
    "time_stamps = times.compute()"
   ]
  },
  {
   "cell_type": "code",
   "execution_count": 65,
   "metadata": {
    "slideshow": {
     "slide_type": "slide"
    }
   },
   "outputs": [
    {
     "data": {
      "text/plain": [
       "0         Tue Feb 02 14:10:12 +0000 2021\n",
       "1         Tue Feb 02 14:10:13 +0000 2021\n",
       "2         Tue Feb 02 14:10:13 +0000 2021\n",
       "3         Tue Feb 02 14:10:16 +0000 2021\n",
       "4         Tue Feb 02 14:10:16 +0000 2021\n",
       "                       ...              \n",
       "138548    Tue Feb 02 21:39:41 +0000 2021\n",
       "138549    Tue Feb 02 21:39:41 +0000 2021\n",
       "138550    Tue Feb 02 21:39:42 +0000 2021\n",
       "138551    Tue Feb 02 21:39:42 +0000 2021\n",
       "138552    Tue Feb 02 21:39:43 +0000 2021\n",
       "Length: 138553, dtype: object"
      ]
     },
     "execution_count": 65,
     "metadata": {},
     "output_type": "execute_result"
    }
   ],
   "source": [
    "pd.Series(time_stamps)"
   ]
  },
  {
   "cell_type": "markdown",
   "metadata": {
    "slideshow": {
     "slide_type": "slide"
    }
   },
   "source": [
    "We could also write a function that processes the data in some way:"
   ]
  },
  {
   "cell_type": "code",
   "execution_count": 66,
   "metadata": {
    "slideshow": {
     "slide_type": "-"
    }
   },
   "outputs": [],
   "source": [
    "import re\n",
    "\n",
    "find_hashtags = re.compile(\"#\\w+\")\n",
    "\n",
    "def get_hashtags(x):\n",
    "    text = x['text']\n",
    "    return find_hashtags.findall(text)"
   ]
  },
  {
   "cell_type": "code",
   "execution_count": 67,
   "metadata": {
    "slideshow": {
     "slide_type": "slide"
    }
   },
   "outputs": [
    {
     "data": {
      "text/plain": [
       "[['#doge', '#dogearmy', '#dogetothemoon', '#DogeToAdollar'],\n",
       " ['#dogecoin'],\n",
       " [],\n",
       " ['#dogecoin'],\n",
       " ['#dogecoin', '#Cardano'],\n",
       " ['#Meth',\n",
       "  '#ETH',\n",
       "  '#future',\n",
       "  '#crypto',\n",
       "  '#coin',\n",
       "  '#btc',\n",
       "  '#bitcoin',\n",
       "  '#invest',\n",
       "  '#dogecoin'],\n",
       " ['#dogecointoadollar', '#DogecoinToTheMoon', '#dogecoin'],\n",
       " ['#DOGE'],\n",
       " [],\n",
       " []]"
      ]
     },
     "execution_count": 67,
     "metadata": {},
     "output_type": "execute_result"
    }
   ],
   "source": [
    "doge_hash = doge.map(get_hashtags)\n",
    "\n",
    "res = doge_hash.compute()\n",
    "\n",
    "res[:10]"
   ]
  },
  {
   "cell_type": "code",
   "execution_count": 68,
   "metadata": {
    "slideshow": {
     "slide_type": "slide"
    }
   },
   "outputs": [],
   "source": [
    "def flatten_list(_2d_list):\n",
    "    flat_list = []\n",
    "    # Iterate through the outer list\n",
    "    for element in _2d_list:\n",
    "        if type(element) is list:\n",
    "            # If the element is of type list, iterate through the sublist\n",
    "            for item in element:\n",
    "                flat_list.append(item)\n",
    "        else:\n",
    "            flat_list.append(element)\n",
    "    return flat_list"
   ]
  },
  {
   "cell_type": "code",
   "execution_count": 69,
   "metadata": {
    "slideshow": {
     "slide_type": "slide"
    }
   },
   "outputs": [
    {
     "data": {
      "text/plain": [
       "#dogecoin          60305\n",
       "#Dogecoin          39178\n",
       "#dogearmy          20241\n",
       "#DOGE              17123\n",
       "#doge              16769\n",
       "                   ...  \n",
       "#signal                2\n",
       "#raredigitalart        2\n",
       "#blockchai             2\n",
       "#dogeland              2\n",
       "#rally                 2\n",
       "Length: 2942, dtype: int64"
      ]
     },
     "execution_count": 69,
     "metadata": {},
     "output_type": "execute_result"
    }
   ],
   "source": [
    "hash_list = flatten_list(doge_hash)\n",
    "\n",
    "pd.Series(hash_list).value_counts()"
   ]
  },
  {
   "cell_type": "code",
   "execution_count": 70,
   "metadata": {
    "slideshow": {
     "slide_type": "-"
    }
   },
   "outputs": [
    {
     "data": {
      "text/plain": [
       "dask.bag<make_json, npartitions=2>"
      ]
     },
     "execution_count": 70,
     "metadata": {},
     "output_type": "execute_result"
    }
   ],
   "source": [
    "doge"
   ]
  },
  {
   "cell_type": "markdown",
   "metadata": {
    "slideshow": {
     "slide_type": "slide"
    }
   },
   "source": [
    "Only two partitions. Can me make it more?"
   ]
  },
  {
   "cell_type": "code",
   "execution_count": null,
   "metadata": {
    "slideshow": {
     "slide_type": "-"
    }
   },
   "outputs": [],
   "source": [
    "doge = doge.repartition(10)"
   ]
  },
  {
   "cell_type": "code",
   "execution_count": null,
   "metadata": {
    "slideshow": {
     "slide_type": "-"
    }
   },
   "outputs": [
    {
     "name": "stderr",
     "output_type": "stream",
     "text": [
      "2023-03-30 15:14:33,021 - distributed.nanny - WARNING - Restarting worker\n"
     ]
    }
   ],
   "source": [
    "doge.persist()"
   ]
  },
  {
   "cell_type": "code",
   "execution_count": 73,
   "metadata": {
    "slideshow": {
     "slide_type": "slide"
    }
   },
   "outputs": [
    {
     "name": "stderr",
     "output_type": "stream",
     "text": [
      "2023-03-30 15:09:54,514 - distributed.nanny.memory - WARNING - Worker tcp://127.0.0.1:52036 (pid=1528) exceeded 95% memory budget. Restarting...\n",
      "2023-03-30 15:09:55,881 - distributed.nanny - WARNING - Restarting worker\n",
      "2023-03-30 15:11:27,349 - distributed.nanny.memory - WARNING - Worker tcp://127.0.0.1:52031 (pid=12736) exceeded 95% memory budget. Restarting...\n",
      "2023-03-30 15:11:28,926 - distributed.nanny - WARNING - Restarting worker\n",
      "2023-03-30 15:12:57,890 - distributed.nanny.memory - WARNING - Worker tcp://127.0.0.1:52035 (pid=8296) exceeded 95% memory budget. Restarting...\n",
      "2023-03-30 15:12:59,352 - distributed.nanny - WARNING - Restarting worker\n",
      "2023-03-30 15:14:31,228 - distributed.nanny.memory - WARNING - Worker tcp://127.0.0.1:52328 (pid=21140) exceeded 95% memory budget. Restarting...\n"
     ]
    },
    {
     "ename": "KilledWorker",
     "evalue": "Attempted to run task ('repartition-get_hashtags-3670b0c5a5a4288afe144f0db46e5549', 3) on 3 different workers, but all those workers died while running it. The last worker that attempt to run the task was tcp://127.0.0.1:52328. Inspecting worker logs is often a good next step to diagnose what went wrong. For more information see https://distributed.dask.org/en/stable/killed.html.",
     "output_type": "error",
     "traceback": [
      "\u001b[1;31m---------------------------------------------------------------------------\u001b[0m",
      "\u001b[1;31mKilledWorker\u001b[0m                              Traceback (most recent call last)",
      "Cell \u001b[1;32mIn[73], line 3\u001b[0m\n\u001b[0;32m      1\u001b[0m doge_hash \u001b[38;5;241m=\u001b[39m doge\u001b[38;5;241m.\u001b[39mmap(get_hashtags)\n\u001b[1;32m----> 3\u001b[0m res \u001b[38;5;241m=\u001b[39m \u001b[43mdoge_hash\u001b[49m\u001b[38;5;241;43m.\u001b[39;49m\u001b[43mcompute\u001b[49m\u001b[43m(\u001b[49m\u001b[43m)\u001b[49m\n\u001b[0;32m      5\u001b[0m res[:\u001b[38;5;241m10\u001b[39m]\n",
      "File \u001b[1;32m~\\.conda\\envs\\test\\Lib\\site-packages\\dask\\base.py:314\u001b[0m, in \u001b[0;36mDaskMethodsMixin.compute\u001b[1;34m(self, **kwargs)\u001b[0m\n\u001b[0;32m    290\u001b[0m \u001b[38;5;28;01mdef\u001b[39;00m \u001b[38;5;21mcompute\u001b[39m(\u001b[38;5;28mself\u001b[39m, \u001b[38;5;241m*\u001b[39m\u001b[38;5;241m*\u001b[39mkwargs):\n\u001b[0;32m    291\u001b[0m \u001b[38;5;250m    \u001b[39m\u001b[38;5;124;03m\"\"\"Compute this dask collection\u001b[39;00m\n\u001b[0;32m    292\u001b[0m \n\u001b[0;32m    293\u001b[0m \u001b[38;5;124;03m    This turns a lazy Dask collection into its in-memory equivalent.\u001b[39;00m\n\u001b[1;32m   (...)\u001b[0m\n\u001b[0;32m    312\u001b[0m \u001b[38;5;124;03m    dask.base.compute\u001b[39;00m\n\u001b[0;32m    313\u001b[0m \u001b[38;5;124;03m    \"\"\"\u001b[39;00m\n\u001b[1;32m--> 314\u001b[0m     (result,) \u001b[38;5;241m=\u001b[39m \u001b[43mcompute\u001b[49m\u001b[43m(\u001b[49m\u001b[38;5;28;43mself\u001b[39;49m\u001b[43m,\u001b[49m\u001b[43m \u001b[49m\u001b[43mtraverse\u001b[49m\u001b[38;5;241;43m=\u001b[39;49m\u001b[38;5;28;43;01mFalse\u001b[39;49;00m\u001b[43m,\u001b[49m\u001b[43m \u001b[49m\u001b[38;5;241;43m*\u001b[39;49m\u001b[38;5;241;43m*\u001b[39;49m\u001b[43mkwargs\u001b[49m\u001b[43m)\u001b[49m\n\u001b[0;32m    315\u001b[0m     \u001b[38;5;28;01mreturn\u001b[39;00m result\n",
      "File \u001b[1;32m~\\.conda\\envs\\test\\Lib\\site-packages\\dask\\base.py:599\u001b[0m, in \u001b[0;36mcompute\u001b[1;34m(traverse, optimize_graph, scheduler, get, *args, **kwargs)\u001b[0m\n\u001b[0;32m    596\u001b[0m     keys\u001b[38;5;241m.\u001b[39mappend(x\u001b[38;5;241m.\u001b[39m__dask_keys__())\n\u001b[0;32m    597\u001b[0m     postcomputes\u001b[38;5;241m.\u001b[39mappend(x\u001b[38;5;241m.\u001b[39m__dask_postcompute__())\n\u001b[1;32m--> 599\u001b[0m results \u001b[38;5;241m=\u001b[39m \u001b[43mschedule\u001b[49m\u001b[43m(\u001b[49m\u001b[43mdsk\u001b[49m\u001b[43m,\u001b[49m\u001b[43m \u001b[49m\u001b[43mkeys\u001b[49m\u001b[43m,\u001b[49m\u001b[43m \u001b[49m\u001b[38;5;241;43m*\u001b[39;49m\u001b[38;5;241;43m*\u001b[39;49m\u001b[43mkwargs\u001b[49m\u001b[43m)\u001b[49m\n\u001b[0;32m    600\u001b[0m \u001b[38;5;28;01mreturn\u001b[39;00m repack([f(r, \u001b[38;5;241m*\u001b[39ma) \u001b[38;5;28;01mfor\u001b[39;00m r, (f, a) \u001b[38;5;129;01min\u001b[39;00m \u001b[38;5;28mzip\u001b[39m(results, postcomputes)])\n",
      "File \u001b[1;32m~\\.conda\\envs\\test\\Lib\\site-packages\\distributed\\client.py:3144\u001b[0m, in \u001b[0;36mClient.get\u001b[1;34m(self, dsk, keys, workers, allow_other_workers, resources, sync, asynchronous, direct, retries, priority, fifo_timeout, actors, **kwargs)\u001b[0m\n\u001b[0;32m   3142\u001b[0m         should_rejoin \u001b[38;5;241m=\u001b[39m \u001b[38;5;28;01mFalse\u001b[39;00m\n\u001b[0;32m   3143\u001b[0m \u001b[38;5;28;01mtry\u001b[39;00m:\n\u001b[1;32m-> 3144\u001b[0m     results \u001b[38;5;241m=\u001b[39m \u001b[38;5;28;43mself\u001b[39;49m\u001b[38;5;241;43m.\u001b[39;49m\u001b[43mgather\u001b[49m\u001b[43m(\u001b[49m\u001b[43mpacked\u001b[49m\u001b[43m,\u001b[49m\u001b[43m \u001b[49m\u001b[43masynchronous\u001b[49m\u001b[38;5;241;43m=\u001b[39;49m\u001b[43masynchronous\u001b[49m\u001b[43m,\u001b[49m\u001b[43m \u001b[49m\u001b[43mdirect\u001b[49m\u001b[38;5;241;43m=\u001b[39;49m\u001b[43mdirect\u001b[49m\u001b[43m)\u001b[49m\n\u001b[0;32m   3145\u001b[0m \u001b[38;5;28;01mfinally\u001b[39;00m:\n\u001b[0;32m   3146\u001b[0m     \u001b[38;5;28;01mfor\u001b[39;00m f \u001b[38;5;129;01min\u001b[39;00m futures\u001b[38;5;241m.\u001b[39mvalues():\n",
      "File \u001b[1;32m~\\.conda\\envs\\test\\Lib\\site-packages\\distributed\\client.py:2313\u001b[0m, in \u001b[0;36mClient.gather\u001b[1;34m(self, futures, errors, direct, asynchronous)\u001b[0m\n\u001b[0;32m   2311\u001b[0m \u001b[38;5;28;01melse\u001b[39;00m:\n\u001b[0;32m   2312\u001b[0m     local_worker \u001b[38;5;241m=\u001b[39m \u001b[38;5;28;01mNone\u001b[39;00m\n\u001b[1;32m-> 2313\u001b[0m \u001b[38;5;28;01mreturn\u001b[39;00m \u001b[38;5;28;43mself\u001b[39;49m\u001b[38;5;241;43m.\u001b[39;49m\u001b[43msync\u001b[49m\u001b[43m(\u001b[49m\n\u001b[0;32m   2314\u001b[0m \u001b[43m    \u001b[49m\u001b[38;5;28;43mself\u001b[39;49m\u001b[38;5;241;43m.\u001b[39;49m\u001b[43m_gather\u001b[49m\u001b[43m,\u001b[49m\n\u001b[0;32m   2315\u001b[0m \u001b[43m    \u001b[49m\u001b[43mfutures\u001b[49m\u001b[43m,\u001b[49m\n\u001b[0;32m   2316\u001b[0m \u001b[43m    \u001b[49m\u001b[43merrors\u001b[49m\u001b[38;5;241;43m=\u001b[39;49m\u001b[43merrors\u001b[49m\u001b[43m,\u001b[49m\n\u001b[0;32m   2317\u001b[0m \u001b[43m    \u001b[49m\u001b[43mdirect\u001b[49m\u001b[38;5;241;43m=\u001b[39;49m\u001b[43mdirect\u001b[49m\u001b[43m,\u001b[49m\n\u001b[0;32m   2318\u001b[0m \u001b[43m    \u001b[49m\u001b[43mlocal_worker\u001b[49m\u001b[38;5;241;43m=\u001b[39;49m\u001b[43mlocal_worker\u001b[49m\u001b[43m,\u001b[49m\n\u001b[0;32m   2319\u001b[0m \u001b[43m    \u001b[49m\u001b[43masynchronous\u001b[49m\u001b[38;5;241;43m=\u001b[39;49m\u001b[43masynchronous\u001b[49m\u001b[43m,\u001b[49m\n\u001b[0;32m   2320\u001b[0m \u001b[43m\u001b[49m\u001b[43m)\u001b[49m\n",
      "File \u001b[1;32m~\\.conda\\envs\\test\\Lib\\site-packages\\distributed\\utils.py:338\u001b[0m, in \u001b[0;36mSyncMethodMixin.sync\u001b[1;34m(self, func, asynchronous, callback_timeout, *args, **kwargs)\u001b[0m\n\u001b[0;32m    336\u001b[0m     \u001b[38;5;28;01mreturn\u001b[39;00m future\n\u001b[0;32m    337\u001b[0m \u001b[38;5;28;01melse\u001b[39;00m:\n\u001b[1;32m--> 338\u001b[0m     \u001b[38;5;28;01mreturn\u001b[39;00m \u001b[43msync\u001b[49m\u001b[43m(\u001b[49m\n\u001b[0;32m    339\u001b[0m \u001b[43m        \u001b[49m\u001b[38;5;28;43mself\u001b[39;49m\u001b[38;5;241;43m.\u001b[39;49m\u001b[43mloop\u001b[49m\u001b[43m,\u001b[49m\u001b[43m \u001b[49m\u001b[43mfunc\u001b[49m\u001b[43m,\u001b[49m\u001b[43m \u001b[49m\u001b[38;5;241;43m*\u001b[39;49m\u001b[43margs\u001b[49m\u001b[43m,\u001b[49m\u001b[43m \u001b[49m\u001b[43mcallback_timeout\u001b[49m\u001b[38;5;241;43m=\u001b[39;49m\u001b[43mcallback_timeout\u001b[49m\u001b[43m,\u001b[49m\u001b[43m \u001b[49m\u001b[38;5;241;43m*\u001b[39;49m\u001b[38;5;241;43m*\u001b[39;49m\u001b[43mkwargs\u001b[49m\n\u001b[0;32m    340\u001b[0m \u001b[43m    \u001b[49m\u001b[43m)\u001b[49m\n",
      "File \u001b[1;32m~\\.conda\\envs\\test\\Lib\\site-packages\\distributed\\utils.py:405\u001b[0m, in \u001b[0;36msync\u001b[1;34m(loop, func, callback_timeout, *args, **kwargs)\u001b[0m\n\u001b[0;32m    403\u001b[0m \u001b[38;5;28;01mif\u001b[39;00m error:\n\u001b[0;32m    404\u001b[0m     typ, exc, tb \u001b[38;5;241m=\u001b[39m error\n\u001b[1;32m--> 405\u001b[0m     \u001b[38;5;28;01mraise\u001b[39;00m exc\u001b[38;5;241m.\u001b[39mwith_traceback(tb)\n\u001b[0;32m    406\u001b[0m \u001b[38;5;28;01melse\u001b[39;00m:\n\u001b[0;32m    407\u001b[0m     \u001b[38;5;28;01mreturn\u001b[39;00m result\n",
      "File \u001b[1;32m~\\.conda\\envs\\test\\Lib\\site-packages\\distributed\\utils.py:378\u001b[0m, in \u001b[0;36msync.<locals>.f\u001b[1;34m()\u001b[0m\n\u001b[0;32m    376\u001b[0m         future \u001b[38;5;241m=\u001b[39m asyncio\u001b[38;5;241m.\u001b[39mwait_for(future, callback_timeout)\n\u001b[0;32m    377\u001b[0m     future \u001b[38;5;241m=\u001b[39m asyncio\u001b[38;5;241m.\u001b[39mensure_future(future)\n\u001b[1;32m--> 378\u001b[0m     result \u001b[38;5;241m=\u001b[39m \u001b[38;5;28;01myield\u001b[39;00m future\n\u001b[0;32m    379\u001b[0m \u001b[38;5;28;01mexcept\u001b[39;00m \u001b[38;5;167;01mException\u001b[39;00m:\n\u001b[0;32m    380\u001b[0m     error \u001b[38;5;241m=\u001b[39m sys\u001b[38;5;241m.\u001b[39mexc_info()\n",
      "File \u001b[1;32m~\\.conda\\envs\\test\\Lib\\site-packages\\tornado\\gen.py:769\u001b[0m, in \u001b[0;36mRunner.run\u001b[1;34m(self)\u001b[0m\n\u001b[0;32m    766\u001b[0m exc_info \u001b[38;5;241m=\u001b[39m \u001b[38;5;28;01mNone\u001b[39;00m\n\u001b[0;32m    768\u001b[0m \u001b[38;5;28;01mtry\u001b[39;00m:\n\u001b[1;32m--> 769\u001b[0m     value \u001b[38;5;241m=\u001b[39m future\u001b[38;5;241m.\u001b[39mresult()\n\u001b[0;32m    770\u001b[0m \u001b[38;5;28;01mexcept\u001b[39;00m \u001b[38;5;167;01mException\u001b[39;00m:\n\u001b[0;32m    771\u001b[0m     exc_info \u001b[38;5;241m=\u001b[39m sys\u001b[38;5;241m.\u001b[39mexc_info()\n",
      "File \u001b[1;32m~\\.conda\\envs\\test\\Lib\\site-packages\\distributed\\client.py:2176\u001b[0m, in \u001b[0;36mClient._gather\u001b[1;34m(self, futures, errors, direct, local_worker)\u001b[0m\n\u001b[0;32m   2174\u001b[0m         exc \u001b[38;5;241m=\u001b[39m CancelledError(key)\n\u001b[0;32m   2175\u001b[0m     \u001b[38;5;28;01melse\u001b[39;00m:\n\u001b[1;32m-> 2176\u001b[0m         \u001b[38;5;28;01mraise\u001b[39;00m exception\u001b[38;5;241m.\u001b[39mwith_traceback(traceback)\n\u001b[0;32m   2177\u001b[0m     \u001b[38;5;28;01mraise\u001b[39;00m exc\n\u001b[0;32m   2178\u001b[0m \u001b[38;5;28;01mif\u001b[39;00m errors \u001b[38;5;241m==\u001b[39m \u001b[38;5;124m\"\u001b[39m\u001b[38;5;124mskip\u001b[39m\u001b[38;5;124m\"\u001b[39m:\n",
      "\u001b[1;31mKilledWorker\u001b[0m: Attempted to run task ('repartition-get_hashtags-3670b0c5a5a4288afe144f0db46e5549', 3) on 3 different workers, but all those workers died while running it. The last worker that attempt to run the task was tcp://127.0.0.1:52328. Inspecting worker logs is often a good next step to diagnose what went wrong. For more information see https://distributed.dask.org/en/stable/killed.html."
     ]
    }
   ],
   "source": [
    "doge_hash = doge.map(get_hashtags)\n",
    "\n",
    "res = doge_hash.compute()\n",
    "\n",
    "res[:10]"
   ]
  },
  {
   "cell_type": "markdown",
   "metadata": {
    "slideshow": {
     "slide_type": "slide"
    }
   },
   "source": [
    "We can also filter our tweets accordingly:"
   ]
  },
  {
   "cell_type": "code",
   "execution_count": null,
   "metadata": {
    "slideshow": {
     "slide_type": "-"
    }
   },
   "outputs": [],
   "source": [
    "doge.filter(lambda x: pd.to_datetime(x['created_at']) > pd.to_datetime('2021-02-04T15:00:00-05:00')).take(1)"
   ]
  },
  {
   "cell_type": "markdown",
   "metadata": {
    "slideshow": {
     "slide_type": "slide"
    }
   },
   "source": [
    "#### Takeaway message: we can process any kind of data with dask without having to put anything in memory.\n",
    "\n",
    "In this case, we could be reading text using dask, processing it in parallel, and writing it out each time.\n",
    "\n",
    "When could we apply this?\n",
    "\n",
    "1. In Homework 1, we needed to read large amounts of tweets in. Rather than read them all in at once, we could have filtered them as json files using a `dask` \"bag.\"\n",
    "    - The Dask `bag` is frequently used in unstructured data processing.\n",
    "2. In Homework 2, we could have read several .tif files in and process them in a distributed framework. \n",
    "    - Very useful if you had several raster files that you need to read in."
   ]
  },
  {
   "cell_type": "markdown",
   "metadata": {
    "slideshow": {
     "slide_type": "slide"
    }
   },
   "source": [
    "### Dask Arrays\n",
    "\n",
    "Just as there is a dataframe object, there is also a `dask` equivalent to a `numpy` array.\n",
    "\n",
    "As an example, let's make a giant array:"
   ]
  },
  {
   "cell_type": "code",
   "execution_count": null,
   "metadata": {
    "slideshow": {
     "slide_type": "-"
    }
   },
   "outputs": [],
   "source": [
    "import dask.array as da\n",
    "x = da.random.random((80000, 80000), chunks=(1000, 1000))"
   ]
  },
  {
   "cell_type": "code",
   "execution_count": null,
   "metadata": {
    "slideshow": {
     "slide_type": "-"
    }
   },
   "outputs": [],
   "source": [
    "x"
   ]
  },
  {
   "cell_type": "markdown",
   "metadata": {
    "slideshow": {
     "slide_type": "slide"
    }
   },
   "source": [
    "My machine will not read this in since it exceeds the memory usage of my machine.\n",
    "\n",
    "However, that doesn't mean we can't calculate some basic statistics:"
   ]
  },
  {
   "cell_type": "code",
   "execution_count": null,
   "metadata": {
    "scrolled": true,
    "slideshow": {
     "slide_type": "-"
    }
   },
   "outputs": [],
   "source": [
    "x.mean(axis=0)[::10].compute()"
   ]
  },
  {
   "cell_type": "markdown",
   "metadata": {
    "slideshow": {
     "slide_type": "slide"
    }
   },
   "source": [
    "These arrays support nearly every operation that numpy arrays support. Notably, it supports __linear algebra__."
   ]
  },
  {
   "cell_type": "code",
   "execution_count": null,
   "metadata": {
    "slideshow": {
     "slide_type": "-"
    }
   },
   "outputs": [],
   "source": [
    "from dask.array import linalg\n",
    "x = da.random.random((20000, 20000), chunks=(1000, 1000))\n",
    "x_inv = linalg.inv(x)"
   ]
  },
  {
   "cell_type": "code",
   "execution_count": null,
   "metadata": {
    "slideshow": {
     "slide_type": "slide"
    }
   },
   "outputs": [],
   "source": [
    "x"
   ]
  },
  {
   "cell_type": "code",
   "execution_count": null,
   "metadata": {
    "slideshow": {
     "slide_type": "-"
    }
   },
   "outputs": [],
   "source": [
    "x_inv[:100,:10].compute()"
   ]
  },
  {
   "cell_type": "markdown",
   "metadata": {
    "slideshow": {
     "slide_type": "-"
    }
   },
   "source": [
    "Being able to take an inverse of an array in parallel with minimal memory is __very powerful__ and __very useful__ in many cases!"
   ]
  },
  {
   "cell_type": "markdown",
   "metadata": {
    "slideshow": {
     "slide_type": "slide"
    }
   },
   "source": [
    "One of the uses of dask arrays would be processing high granularity satelite data.\n",
    "\n",
    "Your workflow might look like:\n",
    "- Read in a numpy array from a raster.\n",
    "- Process the numpy array in the desired way (e.g. clipping, transformations).\n",
    "- Write out the processed file.\n",
    "\n",
    "Potentially useful for doing linear algebra on very large arrays as well."
   ]
  },
  {
   "cell_type": "markdown",
   "metadata": {
    "slideshow": {
     "slide_type": "slide"
    }
   },
   "source": [
    "## Other Application of Dask\n",
    "- Machine learning\n",
    "    - Dask has a package that blends seamlessly with the `sklearn` machine learning packages, which makes processing, cross-validation, and hyperparameter tuning all possible in the `dask` framework.\n",
    "- Cluster programming\n",
    "    - One of the best uses of `dask` is working on __multiple computers__, which is what this framework is usually used for.\n",
    "    - While its useful on a desktop, it is the most powerful when you have multiple clusters on a server you can use.\n"
   ]
  },
  {
   "cell_type": "markdown",
   "metadata": {
    "slideshow": {
     "slide_type": "slide"
    }
   },
   "source": [
    "### Next Topic: Using Clusters and Cloud Computing"
   ]
  }
 ],
 "metadata": {
  "celltoolbar": "Slideshow",
  "kernelspec": {
   "display_name": "Python 3 (ipykernel)",
   "language": "python",
   "name": "python3"
  },
  "language_info": {
   "codemirror_mode": {
    "name": "ipython",
    "version": 3
   },
   "file_extension": ".py",
   "mimetype": "text/x-python",
   "name": "python",
   "nbconvert_exporter": "python",
   "pygments_lexer": "ipython3",
   "version": "3.11.0"
  },
  "rise": {
   "height": "80%",
   "transition": "none"
  }
 },
 "nbformat": 4,
 "nbformat_minor": 4
}
