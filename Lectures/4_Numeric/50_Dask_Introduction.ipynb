{
 "cells": [
  {
   "cell_type": "markdown",
   "metadata": {
    "slideshow": {
     "slide_type": "slide"
    }
   },
   "source": [
    "# Intro to Dask\n"
   ]
  },
  {
   "cell_type": "markdown",
   "metadata": {
    "slideshow": {
     "slide_type": "slide"
    }
   },
   "source": [
    "### What is dask?\n",
    "A package in python that does __distributed programming__. It is useful as a higher level interface for doing complicated distributed programming in an intuitive way. \n",
    "\n",
    "Distributed programming is useful when you don't have the ability to read things entirely into memory, and so of great use when we have large datasets.\n",
    "\n",
    "It is similar in function to __Apache Spark__ or the `pyspark` package for Python.\n",
    "\n",
    "Before we learned how to manually parallelize operations, but in `dask` it will more or less be done automatically. A great advantage is that the interface mimics `pandas` and `numpy` and so can be used easily.\n"
   ]
  },
  {
   "cell_type": "markdown",
   "metadata": {
    "slideshow": {
     "slide_type": "slide"
    }
   },
   "source": [
    "\n",
    "### Delayed tasks\n",
    "\n",
    "One of the first handy things that `dask` can do is do functions in a batch using the `delayed` framework\n",
    "\n",
    "Before doing that, we need to initiate a client for us to work with:"
   ]
  },
  {
   "cell_type": "code",
   "execution_count": 1,
   "metadata": {
    "slideshow": {
     "slide_type": "-"
    }
   },
   "outputs": [
    {
     "data": {
      "text/html": [
       "<div>\n",
       "    <div style=\"width: 24px; height: 24px; background-color: #e1e1e1; border: 3px solid #9D9D9D; border-radius: 5px; position: absolute;\"> </div>\n",
       "    <div style=\"margin-left: 48px;\">\n",
       "        <h3 style=\"margin-bottom: 0px;\">Client</h3>\n",
       "        <p style=\"color: #9D9D9D; margin-bottom: 0px;\">Client-d8d6459c-afe6-11ee-8e88-7cb27da2d36a</p>\n",
       "        <table style=\"width: 100%; text-align: left;\">\n",
       "\n",
       "        <tr>\n",
       "        \n",
       "            <td style=\"text-align: left;\"><strong>Connection method:</strong> Cluster object</td>\n",
       "            <td style=\"text-align: left;\"><strong>Cluster type:</strong> distributed.LocalCluster</td>\n",
       "        \n",
       "        </tr>\n",
       "\n",
       "        \n",
       "            <tr>\n",
       "                <td style=\"text-align: left;\">\n",
       "                    <strong>Dashboard: </strong> <a href=\"http://127.0.0.1:8787/status\" target=\"_blank\">http://127.0.0.1:8787/status</a>\n",
       "                </td>\n",
       "                <td style=\"text-align: left;\"></td>\n",
       "            </tr>\n",
       "        \n",
       "\n",
       "        </table>\n",
       "\n",
       "        \n",
       "\n",
       "        \n",
       "            <details>\n",
       "            <summary style=\"margin-bottom: 20px;\"><h3 style=\"display: inline;\">Cluster Info</h3></summary>\n",
       "            <div class=\"jp-RenderedHTMLCommon jp-RenderedHTML jp-mod-trusted jp-OutputArea-output\">\n",
       "    <div style=\"width: 24px; height: 24px; background-color: #e1e1e1; border: 3px solid #9D9D9D; border-radius: 5px; position: absolute;\">\n",
       "    </div>\n",
       "    <div style=\"margin-left: 48px;\">\n",
       "        <h3 style=\"margin-bottom: 0px; margin-top: 0px;\">LocalCluster</h3>\n",
       "        <p style=\"color: #9D9D9D; margin-bottom: 0px;\">67993362</p>\n",
       "        <table style=\"width: 100%; text-align: left;\">\n",
       "            <tr>\n",
       "                <td style=\"text-align: left;\">\n",
       "                    <strong>Dashboard:</strong> <a href=\"http://127.0.0.1:8787/status\" target=\"_blank\">http://127.0.0.1:8787/status</a>\n",
       "                </td>\n",
       "                <td style=\"text-align: left;\">\n",
       "                    <strong>Workers:</strong> 4\n",
       "                </td>\n",
       "            </tr>\n",
       "            <tr>\n",
       "                <td style=\"text-align: left;\">\n",
       "                    <strong>Total threads:</strong> 8\n",
       "                </td>\n",
       "                <td style=\"text-align: left;\">\n",
       "                    <strong>Total memory:</strong> 31.67 GiB\n",
       "                </td>\n",
       "            </tr>\n",
       "            \n",
       "            <tr>\n",
       "    <td style=\"text-align: left;\"><strong>Status:</strong> running</td>\n",
       "    <td style=\"text-align: left;\"><strong>Using processes:</strong> True</td>\n",
       "</tr>\n",
       "\n",
       "            \n",
       "        </table>\n",
       "\n",
       "        <details>\n",
       "            <summary style=\"margin-bottom: 20px;\">\n",
       "                <h3 style=\"display: inline;\">Scheduler Info</h3>\n",
       "            </summary>\n",
       "\n",
       "            <div style=\"\">\n",
       "    <div>\n",
       "        <div style=\"width: 24px; height: 24px; background-color: #FFF7E5; border: 3px solid #FF6132; border-radius: 5px; position: absolute;\"> </div>\n",
       "        <div style=\"margin-left: 48px;\">\n",
       "            <h3 style=\"margin-bottom: 0px;\">Scheduler</h3>\n",
       "            <p style=\"color: #9D9D9D; margin-bottom: 0px;\">Scheduler-a223f765-6d6b-4ad2-a574-621a41341038</p>\n",
       "            <table style=\"width: 100%; text-align: left;\">\n",
       "                <tr>\n",
       "                    <td style=\"text-align: left;\">\n",
       "                        <strong>Comm:</strong> tcp://127.0.0.1:51745\n",
       "                    </td>\n",
       "                    <td style=\"text-align: left;\">\n",
       "                        <strong>Workers:</strong> 4\n",
       "                    </td>\n",
       "                </tr>\n",
       "                <tr>\n",
       "                    <td style=\"text-align: left;\">\n",
       "                        <strong>Dashboard:</strong> <a href=\"http://127.0.0.1:8787/status\" target=\"_blank\">http://127.0.0.1:8787/status</a>\n",
       "                    </td>\n",
       "                    <td style=\"text-align: left;\">\n",
       "                        <strong>Total threads:</strong> 8\n",
       "                    </td>\n",
       "                </tr>\n",
       "                <tr>\n",
       "                    <td style=\"text-align: left;\">\n",
       "                        <strong>Started:</strong> Just now\n",
       "                    </td>\n",
       "                    <td style=\"text-align: left;\">\n",
       "                        <strong>Total memory:</strong> 31.67 GiB\n",
       "                    </td>\n",
       "                </tr>\n",
       "            </table>\n",
       "        </div>\n",
       "    </div>\n",
       "\n",
       "    <details style=\"margin-left: 48px;\">\n",
       "        <summary style=\"margin-bottom: 20px;\">\n",
       "            <h3 style=\"display: inline;\">Workers</h3>\n",
       "        </summary>\n",
       "\n",
       "        \n",
       "        <div style=\"margin-bottom: 20px;\">\n",
       "            <div style=\"width: 24px; height: 24px; background-color: #DBF5FF; border: 3px solid #4CC9FF; border-radius: 5px; position: absolute;\"> </div>\n",
       "            <div style=\"margin-left: 48px;\">\n",
       "            <details>\n",
       "                <summary>\n",
       "                    <h4 style=\"margin-bottom: 0px; display: inline;\">Worker: 0</h4>\n",
       "                </summary>\n",
       "                <table style=\"width: 100%; text-align: left;\">\n",
       "                    <tr>\n",
       "                        <td style=\"text-align: left;\">\n",
       "                            <strong>Comm: </strong> tcp://127.0.0.1:51767\n",
       "                        </td>\n",
       "                        <td style=\"text-align: left;\">\n",
       "                            <strong>Total threads: </strong> 2\n",
       "                        </td>\n",
       "                    </tr>\n",
       "                    <tr>\n",
       "                        <td style=\"text-align: left;\">\n",
       "                            <strong>Dashboard: </strong> <a href=\"http://127.0.0.1:51774/status\" target=\"_blank\">http://127.0.0.1:51774/status</a>\n",
       "                        </td>\n",
       "                        <td style=\"text-align: left;\">\n",
       "                            <strong>Memory: </strong> 7.92 GiB\n",
       "                        </td>\n",
       "                    </tr>\n",
       "                    <tr>\n",
       "                        <td style=\"text-align: left;\">\n",
       "                            <strong>Nanny: </strong> tcp://127.0.0.1:51748\n",
       "                        </td>\n",
       "                        <td style=\"text-align: left;\"></td>\n",
       "                    </tr>\n",
       "                    <tr>\n",
       "                        <td colspan=\"2\" style=\"text-align: left;\">\n",
       "                            <strong>Local directory: </strong> C:\\Users\\jhtchns2\\AppData\\Local\\Temp\\dask-scratch-space\\worker-qpw3j1l8\n",
       "                        </td>\n",
       "                    </tr>\n",
       "\n",
       "                    \n",
       "\n",
       "                    \n",
       "\n",
       "                </table>\n",
       "            </details>\n",
       "            </div>\n",
       "        </div>\n",
       "        \n",
       "        <div style=\"margin-bottom: 20px;\">\n",
       "            <div style=\"width: 24px; height: 24px; background-color: #DBF5FF; border: 3px solid #4CC9FF; border-radius: 5px; position: absolute;\"> </div>\n",
       "            <div style=\"margin-left: 48px;\">\n",
       "            <details>\n",
       "                <summary>\n",
       "                    <h4 style=\"margin-bottom: 0px; display: inline;\">Worker: 1</h4>\n",
       "                </summary>\n",
       "                <table style=\"width: 100%; text-align: left;\">\n",
       "                    <tr>\n",
       "                        <td style=\"text-align: left;\">\n",
       "                            <strong>Comm: </strong> tcp://127.0.0.1:51766\n",
       "                        </td>\n",
       "                        <td style=\"text-align: left;\">\n",
       "                            <strong>Total threads: </strong> 2\n",
       "                        </td>\n",
       "                    </tr>\n",
       "                    <tr>\n",
       "                        <td style=\"text-align: left;\">\n",
       "                            <strong>Dashboard: </strong> <a href=\"http://127.0.0.1:51772/status\" target=\"_blank\">http://127.0.0.1:51772/status</a>\n",
       "                        </td>\n",
       "                        <td style=\"text-align: left;\">\n",
       "                            <strong>Memory: </strong> 7.92 GiB\n",
       "                        </td>\n",
       "                    </tr>\n",
       "                    <tr>\n",
       "                        <td style=\"text-align: left;\">\n",
       "                            <strong>Nanny: </strong> tcp://127.0.0.1:51750\n",
       "                        </td>\n",
       "                        <td style=\"text-align: left;\"></td>\n",
       "                    </tr>\n",
       "                    <tr>\n",
       "                        <td colspan=\"2\" style=\"text-align: left;\">\n",
       "                            <strong>Local directory: </strong> C:\\Users\\jhtchns2\\AppData\\Local\\Temp\\dask-scratch-space\\worker-f5l3jaiu\n",
       "                        </td>\n",
       "                    </tr>\n",
       "\n",
       "                    \n",
       "\n",
       "                    \n",
       "\n",
       "                </table>\n",
       "            </details>\n",
       "            </div>\n",
       "        </div>\n",
       "        \n",
       "        <div style=\"margin-bottom: 20px;\">\n",
       "            <div style=\"width: 24px; height: 24px; background-color: #DBF5FF; border: 3px solid #4CC9FF; border-radius: 5px; position: absolute;\"> </div>\n",
       "            <div style=\"margin-left: 48px;\">\n",
       "            <details>\n",
       "                <summary>\n",
       "                    <h4 style=\"margin-bottom: 0px; display: inline;\">Worker: 2</h4>\n",
       "                </summary>\n",
       "                <table style=\"width: 100%; text-align: left;\">\n",
       "                    <tr>\n",
       "                        <td style=\"text-align: left;\">\n",
       "                            <strong>Comm: </strong> tcp://127.0.0.1:51765\n",
       "                        </td>\n",
       "                        <td style=\"text-align: left;\">\n",
       "                            <strong>Total threads: </strong> 2\n",
       "                        </td>\n",
       "                    </tr>\n",
       "                    <tr>\n",
       "                        <td style=\"text-align: left;\">\n",
       "                            <strong>Dashboard: </strong> <a href=\"http://127.0.0.1:51770/status\" target=\"_blank\">http://127.0.0.1:51770/status</a>\n",
       "                        </td>\n",
       "                        <td style=\"text-align: left;\">\n",
       "                            <strong>Memory: </strong> 7.92 GiB\n",
       "                        </td>\n",
       "                    </tr>\n",
       "                    <tr>\n",
       "                        <td style=\"text-align: left;\">\n",
       "                            <strong>Nanny: </strong> tcp://127.0.0.1:51752\n",
       "                        </td>\n",
       "                        <td style=\"text-align: left;\"></td>\n",
       "                    </tr>\n",
       "                    <tr>\n",
       "                        <td colspan=\"2\" style=\"text-align: left;\">\n",
       "                            <strong>Local directory: </strong> C:\\Users\\jhtchns2\\AppData\\Local\\Temp\\dask-scratch-space\\worker-y5gif3we\n",
       "                        </td>\n",
       "                    </tr>\n",
       "\n",
       "                    \n",
       "\n",
       "                    \n",
       "\n",
       "                </table>\n",
       "            </details>\n",
       "            </div>\n",
       "        </div>\n",
       "        \n",
       "        <div style=\"margin-bottom: 20px;\">\n",
       "            <div style=\"width: 24px; height: 24px; background-color: #DBF5FF; border: 3px solid #4CC9FF; border-radius: 5px; position: absolute;\"> </div>\n",
       "            <div style=\"margin-left: 48px;\">\n",
       "            <details>\n",
       "                <summary>\n",
       "                    <h4 style=\"margin-bottom: 0px; display: inline;\">Worker: 3</h4>\n",
       "                </summary>\n",
       "                <table style=\"width: 100%; text-align: left;\">\n",
       "                    <tr>\n",
       "                        <td style=\"text-align: left;\">\n",
       "                            <strong>Comm: </strong> tcp://127.0.0.1:51764\n",
       "                        </td>\n",
       "                        <td style=\"text-align: left;\">\n",
       "                            <strong>Total threads: </strong> 2\n",
       "                        </td>\n",
       "                    </tr>\n",
       "                    <tr>\n",
       "                        <td style=\"text-align: left;\">\n",
       "                            <strong>Dashboard: </strong> <a href=\"http://127.0.0.1:51768/status\" target=\"_blank\">http://127.0.0.1:51768/status</a>\n",
       "                        </td>\n",
       "                        <td style=\"text-align: left;\">\n",
       "                            <strong>Memory: </strong> 7.92 GiB\n",
       "                        </td>\n",
       "                    </tr>\n",
       "                    <tr>\n",
       "                        <td style=\"text-align: left;\">\n",
       "                            <strong>Nanny: </strong> tcp://127.0.0.1:51754\n",
       "                        </td>\n",
       "                        <td style=\"text-align: left;\"></td>\n",
       "                    </tr>\n",
       "                    <tr>\n",
       "                        <td colspan=\"2\" style=\"text-align: left;\">\n",
       "                            <strong>Local directory: </strong> C:\\Users\\jhtchns2\\AppData\\Local\\Temp\\dask-scratch-space\\worker-kwosxz5o\n",
       "                        </td>\n",
       "                    </tr>\n",
       "\n",
       "                    \n",
       "\n",
       "                    \n",
       "\n",
       "                </table>\n",
       "            </details>\n",
       "            </div>\n",
       "        </div>\n",
       "        \n",
       "\n",
       "    </details>\n",
       "</div>\n",
       "\n",
       "        </details>\n",
       "    </div>\n",
       "</div>\n",
       "            </details>\n",
       "        \n",
       "\n",
       "    </div>\n",
       "</div>"
      ],
      "text/plain": [
       "<Client: 'tcp://127.0.0.1:51745' processes=4 threads=8, memory=31.67 GiB>"
      ]
     },
     "execution_count": 1,
     "metadata": {},
     "output_type": "execute_result"
    }
   ],
   "source": [
    "from dask.distributed import Client, progress\n",
    "client = Client(threads_per_worker=2, n_workers=4)\n",
    "client"
   ]
  },
  {
   "cell_type": "markdown",
   "metadata": {
    "slideshow": {
     "slide_type": "slide"
    }
   },
   "source": [
    "Say that we wanted to run this sequence of functions:"
   ]
  },
  {
   "cell_type": "code",
   "execution_count": 2,
   "metadata": {
    "slideshow": {
     "slide_type": "-"
    }
   },
   "outputs": [],
   "source": [
    "import time\n",
    "import random\n",
    "import pandas as pd\n",
    "\n",
    "def inc(x):\n",
    "    time.sleep(1)\n",
    "    return x + 1\n",
    "\n",
    "def dec(x):\n",
    "    time.sleep(1)\n",
    "    return x - 1\n",
    "\n",
    "def add(x, y):\n",
    "    time.sleep(1)\n",
    "    return x + y"
   ]
  },
  {
   "cell_type": "code",
   "execution_count": 3,
   "metadata": {
    "slideshow": {
     "slide_type": "slide"
    }
   },
   "outputs": [
    {
     "name": "stdout",
     "output_type": "stream",
     "text": [
      "CPU times: total: 125 ms\n",
      "Wall time: 3.01 s\n"
     ]
    },
    {
     "data": {
      "text/plain": [
       "3"
      ]
     },
     "execution_count": 3,
     "metadata": {},
     "output_type": "execute_result"
    }
   ],
   "source": [
    "%%time\n",
    "x = inc(1)\n",
    "y = dec(2)\n",
    "z = add(x, y)\n",
    "z "
   ]
  },
  {
   "cell_type": "markdown",
   "metadata": {
    "slideshow": {
     "slide_type": "slide"
    }
   },
   "source": [
    "Notice that the function `inc` and the function `dec` could be called independently! You only need to add them at the end.\n",
    "\n",
    "The power of the dask delayed framework is its ability to lay out the best way to execute it before it needs to be done:"
   ]
  },
  {
   "cell_type": "code",
   "execution_count": 4,
   "metadata": {
    "slideshow": {
     "slide_type": "-"
    }
   },
   "outputs": [],
   "source": [
    "import dask\n",
    "inc_d = dask.delayed(inc)\n",
    "dec_d = dask.delayed(dec)\n",
    "add_d = dask.delayed(add)"
   ]
  },
  {
   "cell_type": "code",
   "execution_count": 5,
   "metadata": {
    "slideshow": {
     "slide_type": "-"
    }
   },
   "outputs": [
    {
     "data": {
      "text/plain": [
       "Delayed('add-39011c07-6041-4d76-8f2b-86f23f2de45c')"
      ]
     },
     "execution_count": 5,
     "metadata": {},
     "output_type": "execute_result"
    }
   ],
   "source": [
    "x = inc_d(1)\n",
    "y = dec_d(2)\n",
    "z = add_d(x, y)\n",
    "z"
   ]
  },
  {
   "cell_type": "markdown",
   "metadata": {
    "slideshow": {
     "slide_type": "slide"
    }
   },
   "source": [
    "That didn't take any time at all. Why? Because it hasn't run it yet."
   ]
  },
  {
   "cell_type": "code",
   "execution_count": 6,
   "metadata": {
    "slideshow": {
     "slide_type": "-"
    }
   },
   "outputs": [
    {
     "data": {
      "image/png": "[encoded data removed]",
      "text/plain": [
       "<IPython.core.display.Image object>"
      ]
     },
     "execution_count": 6,
     "metadata": {},
     "output_type": "execute_result"
    }
   ],
   "source": [
    "z.visualize(rankdir='LR')"
   ]
  },
  {
   "cell_type": "code",
   "execution_count": 7,
   "metadata": {
    "slideshow": {
     "slide_type": "slide"
    }
   },
   "outputs": [
    {
     "name": "stdout",
     "output_type": "stream",
     "text": [
      "CPU times: total: 250 ms\n",
      "Wall time: 2.03 s\n"
     ]
    },
    {
     "data": {
      "text/plain": [
       "3"
      ]
     },
     "execution_count": 7,
     "metadata": {},
     "output_type": "execute_result"
    }
   ],
   "source": [
    "%%time\n",
    "z.compute()"
   ]
  },
  {
   "cell_type": "code",
   "execution_count": 8,
   "metadata": {
    "slideshow": {
     "slide_type": "slide"
    }
   },
   "outputs": [
    {
     "name": "stdout",
     "output_type": "stream",
     "text": [
      "CPU times: total: 1.38 s\n",
      "Wall time: 1min\n"
     ]
    }
   ],
   "source": [
    "%%time\n",
    "zs_s = []\n",
    "for i in range(20):\n",
    "    x = inc(i)\n",
    "    y = dec(x)\n",
    "    z = add(x, y)\n",
    "    zs_s.append(z)"
   ]
  },
  {
   "cell_type": "code",
   "execution_count": 9,
   "metadata": {
    "slideshow": {
     "slide_type": "-"
    }
   },
   "outputs": [],
   "source": [
    "zs_f = []\n",
    "for i in range(20):\n",
    "    x = inc_d(i)\n",
    "    y = dec_d(x)\n",
    "    z = add_d(x, y)\n",
    "    zs_f.append(z)"
   ]
  },
  {
   "cell_type": "code",
   "execution_count": 10,
   "metadata": {
    "slideshow": {
     "slide_type": "slide"
    }
   },
   "outputs": [
    {
     "name": "stdout",
     "output_type": "stream",
     "text": [
      "CPU times: total: 1.05 s\n",
      "Wall time: 8.66 s\n"
     ]
    }
   ],
   "source": [
    "%%time\n",
    "zs = dask.compute(*zs_f)"
   ]
  },
  {
   "cell_type": "markdown",
   "metadata": {
    "slideshow": {
     "slide_type": "slide"
    }
   },
   "source": [
    "Using Dask makes parallelizing quite easy!\n",
    "\n",
    "## Distributed Programming\n",
    "\n",
    "### Dask Dataframe\n",
    "\n",
    "One of the most useful implementations of `dask` is using the `dataframe` API, which mimicks an actual DataFrame.\n",
    "\n",
    "For this example and your homework, we will look at a bilateral trade flows dataset called BACI. We will be analyzing the years 2012-2018."
   ]
  },
  {
   "cell_type": "code",
   "execution_count": 7,
   "metadata": {},
   "outputs": [],
   "source": [
    "trade_dir = \"C:/Users/jhtchns2/Box/ACE_592_SAE/Homework_3/BACI_HS12_V202201/\""
   ]
  },
  {
   "cell_type": "code",
   "execution_count": 8,
   "metadata": {
    "slideshow": {
     "slide_type": "-"
    }
   },
   "outputs": [
    {
     "data": {
      "text/html": [
       "<div>\n",
       "<style scoped>\n",
       "    .dataframe tbody tr th:only-of-type {\n",
       "        vertical-align: middle;\n",
       "    }\n",
       "\n",
       "    .dataframe tbody tr th {\n",
       "        vertical-align: top;\n",
       "    }\n",
       "\n",
       "    .dataframe thead th {\n",
       "        text-align: right;\n",
       "    }\n",
       "</style>\n",
       "<table border=\"1\" class=\"dataframe\">\n",
       "  <thead>\n",
       "    <tr style=\"text-align: right;\">\n",
       "      <th></th>\n",
       "      <th>t</th>\n",
       "      <th>i</th>\n",
       "      <th>j</th>\n",
       "      <th>k</th>\n",
       "      <th>v</th>\n",
       "      <th>q</th>\n",
       "    </tr>\n",
       "  </thead>\n",
       "  <tbody>\n",
       "    <tr>\n",
       "      <th>0</th>\n",
       "      <td>2018</td>\n",
       "      <td>4</td>\n",
       "      <td>24</td>\n",
       "      <td>845420</td>\n",
       "      <td>114.415</td>\n",
       "      <td>26.000</td>\n",
       "    </tr>\n",
       "    <tr>\n",
       "      <th>1</th>\n",
       "      <td>2018</td>\n",
       "      <td>4</td>\n",
       "      <td>24</td>\n",
       "      <td>848180</td>\n",
       "      <td>2.631</td>\n",
       "      <td>0.007</td>\n",
       "    </tr>\n",
       "    <tr>\n",
       "      <th>2</th>\n",
       "      <td>2018</td>\n",
       "      <td>4</td>\n",
       "      <td>31</td>\n",
       "      <td>80211</td>\n",
       "      <td>0.333</td>\n",
       "      <td>0.042</td>\n",
       "    </tr>\n",
       "    <tr>\n",
       "      <th>3</th>\n",
       "      <td>2018</td>\n",
       "      <td>4</td>\n",
       "      <td>31</td>\n",
       "      <td>80212</td>\n",
       "      <td>1.982</td>\n",
       "      <td>0.196</td>\n",
       "    </tr>\n",
       "    <tr>\n",
       "      <th>4</th>\n",
       "      <td>2018</td>\n",
       "      <td>4</td>\n",
       "      <td>31</td>\n",
       "      <td>80620</td>\n",
       "      <td>0.174</td>\n",
       "      <td>0.042</td>\n",
       "    </tr>\n",
       "    <tr>\n",
       "      <th>...</th>\n",
       "      <td>...</td>\n",
       "      <td>...</td>\n",
       "      <td>...</td>\n",
       "      <td>...</td>\n",
       "      <td>...</td>\n",
       "      <td>...</td>\n",
       "    </tr>\n",
       "    <tr>\n",
       "      <th>95</th>\n",
       "      <td>2018</td>\n",
       "      <td>4</td>\n",
       "      <td>40</td>\n",
       "      <td>190590</td>\n",
       "      <td>0.039</td>\n",
       "      <td>0.022</td>\n",
       "    </tr>\n",
       "    <tr>\n",
       "      <th>96</th>\n",
       "      <td>2018</td>\n",
       "      <td>4</td>\n",
       "      <td>40</td>\n",
       "      <td>200811</td>\n",
       "      <td>0.011</td>\n",
       "      <td>0.003</td>\n",
       "    </tr>\n",
       "    <tr>\n",
       "      <th>97</th>\n",
       "      <td>2018</td>\n",
       "      <td>4</td>\n",
       "      <td>40</td>\n",
       "      <td>200899</td>\n",
       "      <td>0.020</td>\n",
       "      <td>0.013</td>\n",
       "    </tr>\n",
       "    <tr>\n",
       "      <th>98</th>\n",
       "      <td>2018</td>\n",
       "      <td>4</td>\n",
       "      <td>40</td>\n",
       "      <td>300590</td>\n",
       "      <td>2.036</td>\n",
       "      <td>0.024</td>\n",
       "    </tr>\n",
       "    <tr>\n",
       "      <th>99</th>\n",
       "      <td>2018</td>\n",
       "      <td>4</td>\n",
       "      <td>40</td>\n",
       "      <td>300650</td>\n",
       "      <td>4.091</td>\n",
       "      <td>0.050</td>\n",
       "    </tr>\n",
       "  </tbody>\n",
       "</table>\n",
       "<p>100 rows × 6 columns</p>\n",
       "</div>"
      ],
      "text/plain": [
       "       t  i   j       k        v       q\n",
       "0   2018  4  24  845420  114.415  26.000\n",
       "1   2018  4  24  848180    2.631   0.007\n",
       "2   2018  4  31   80211    0.333   0.042\n",
       "3   2018  4  31   80212    1.982   0.196\n",
       "4   2018  4  31   80620    0.174   0.042\n",
       "..   ... ..  ..     ...      ...     ...\n",
       "95  2018  4  40  190590    0.039   0.022\n",
       "96  2018  4  40  200811    0.011   0.003\n",
       "97  2018  4  40  200899    0.020   0.013\n",
       "98  2018  4  40  300590    2.036   0.024\n",
       "99  2018  4  40  300650    4.091   0.050\n",
       "\n",
       "[100 rows x 6 columns]"
      ]
     },
     "execution_count": 8,
     "metadata": {},
     "output_type": "execute_result"
    }
   ],
   "source": [
    "df18 = pd.read_csv(trade_dir + \"BACI_HS12_Y2018_V202201.csv\",nrows=100)\n",
    "df18"
   ]
  },
  {
   "cell_type": "markdown",
   "metadata": {
    "slideshow": {
     "slide_type": "slide"
    }
   },
   "source": [
    "Each row represents the trade flows from country $i$ to country $j$ for product $k$ in time $t$ in terms of either value or quantity.\n",
    "\n",
    "Since we have 8 million rows of data in one year, this means we can expect about 56 million rows in the final dataset. This will be hard to work with all in memory at the same time!\n",
    "\n",
    "Some options:\n",
    "1. Chunk all our operations and run on each file.\n",
    "2. Use the `dask` `dataframe` API framework.\n",
    "\n",
    "We got a sense for how to use option 1, so now let's go to option 2."
   ]
  },
  {
   "cell_type": "code",
   "execution_count": 9,
   "metadata": {
    "slideshow": {
     "slide_type": "slide"
    }
   },
   "outputs": [],
   "source": [
    "import dask.dataframe as dd"
   ]
  },
  {
   "cell_type": "code",
   "execution_count": 10,
   "metadata": {
    "slideshow": {
     "slide_type": "-"
    }
   },
   "outputs": [
    {
     "data": {
      "text/html": [
       "<div><strong>Dask DataFrame Structure:</strong></div>\n",
       "<div>\n",
       "<style scoped>\n",
       "    .dataframe tbody tr th:only-of-type {\n",
       "        vertical-align: middle;\n",
       "    }\n",
       "\n",
       "    .dataframe tbody tr th {\n",
       "        vertical-align: top;\n",
       "    }\n",
       "\n",
       "    .dataframe thead th {\n",
       "        text-align: right;\n",
       "    }\n",
       "</style>\n",
       "<table border=\"1\" class=\"dataframe\">\n",
       "  <thead>\n",
       "    <tr style=\"text-align: right;\">\n",
       "      <th></th>\n",
       "      <th>t</th>\n",
       "      <th>i</th>\n",
       "      <th>j</th>\n",
       "      <th>k</th>\n",
       "      <th>v</th>\n",
       "      <th>q</th>\n",
       "    </tr>\n",
       "    <tr>\n",
       "      <th>npartitions=66</th>\n",
       "      <th></th>\n",
       "      <th></th>\n",
       "      <th></th>\n",
       "      <th></th>\n",
       "      <th></th>\n",
       "      <th></th>\n",
       "    </tr>\n",
       "  </thead>\n",
       "  <tbody>\n",
       "    <tr>\n",
       "      <th></th>\n",
       "      <td>int64</td>\n",
       "      <td>int64</td>\n",
       "      <td>int64</td>\n",
       "      <td>int64</td>\n",
       "      <td>float64</td>\n",
       "      <td>float64</td>\n",
       "    </tr>\n",
       "    <tr>\n",
       "      <th></th>\n",
       "      <td>...</td>\n",
       "      <td>...</td>\n",
       "      <td>...</td>\n",
       "      <td>...</td>\n",
       "      <td>...</td>\n",
       "      <td>...</td>\n",
       "    </tr>\n",
       "    <tr>\n",
       "      <th>...</th>\n",
       "      <td>...</td>\n",
       "      <td>...</td>\n",
       "      <td>...</td>\n",
       "      <td>...</td>\n",
       "      <td>...</td>\n",
       "      <td>...</td>\n",
       "    </tr>\n",
       "    <tr>\n",
       "      <th></th>\n",
       "      <td>...</td>\n",
       "      <td>...</td>\n",
       "      <td>...</td>\n",
       "      <td>...</td>\n",
       "      <td>...</td>\n",
       "      <td>...</td>\n",
       "    </tr>\n",
       "    <tr>\n",
       "      <th></th>\n",
       "      <td>...</td>\n",
       "      <td>...</td>\n",
       "      <td>...</td>\n",
       "      <td>...</td>\n",
       "      <td>...</td>\n",
       "      <td>...</td>\n",
       "    </tr>\n",
       "  </tbody>\n",
       "</table>\n",
       "</div>\n",
       "<div>Dask Name: read-csv, 1 graph layer</div>"
      ],
      "text/plain": [
       "Dask DataFrame Structure:\n",
       "                    t      i      j      k        v        q\n",
       "npartitions=66                                              \n",
       "                int64  int64  int64  int64  float64  float64\n",
       "                  ...    ...    ...    ...      ...      ...\n",
       "...               ...    ...    ...    ...      ...      ...\n",
       "                  ...    ...    ...    ...      ...      ...\n",
       "                  ...    ...    ...    ...      ...      ...\n",
       "Dask Name: read-csv, 1 graph layer"
      ]
     },
     "execution_count": 10,
     "metadata": {},
     "output_type": "execute_result"
    }
   ],
   "source": [
    "df = dd.read_csv(trade_dir + \"BACI_HS12_Y*.csv\")\n",
    "df"
   ]
  },
  {
   "cell_type": "markdown",
   "metadata": {
    "slideshow": {
     "slide_type": "slide"
    }
   },
   "source": [
    "Notice I used read_csv to find __all__ the files in that directory and read them into one structure."
   ]
  },
  {
   "cell_type": "code",
   "execution_count": 11,
   "metadata": {
    "slideshow": {
     "slide_type": "-"
    }
   },
   "outputs": [
    {
     "data": {
      "text/plain": [
       "['C:/Users/jhtchns2/Box/ACE_592_SAE/Homework_3/BACI_HS12_V202201\\\\BACI_HS12_Y2012_V202201.csv',\n",
       " 'C:/Users/jhtchns2/Box/ACE_592_SAE/Homework_3/BACI_HS12_V202201\\\\BACI_HS12_Y2013_V202201.csv',\n",
       " 'C:/Users/jhtchns2/Box/ACE_592_SAE/Homework_3/BACI_HS12_V202201\\\\BACI_HS12_Y2014_V202201.csv',\n",
       " 'C:/Users/jhtchns2/Box/ACE_592_SAE/Homework_3/BACI_HS12_V202201\\\\BACI_HS12_Y2015_V202201.csv',\n",
       " 'C:/Users/jhtchns2/Box/ACE_592_SAE/Homework_3/BACI_HS12_V202201\\\\BACI_HS12_Y2016_V202201.csv',\n",
       " 'C:/Users/jhtchns2/Box/ACE_592_SAE/Homework_3/BACI_HS12_V202201\\\\BACI_HS12_Y2017_V202201.csv',\n",
       " 'C:/Users/jhtchns2/Box/ACE_592_SAE/Homework_3/BACI_HS12_V202201\\\\BACI_HS12_Y2018_V202201.csv',\n",
       " 'C:/Users/jhtchns2/Box/ACE_592_SAE/Homework_3/BACI_HS12_V202201\\\\BACI_HS12_Y2019_V202201.csv',\n",
       " 'C:/Users/jhtchns2/Box/ACE_592_SAE/Homework_3/BACI_HS12_V202201\\\\BACI_HS12_Y2020_V202201.csv']"
      ]
     },
     "execution_count": 11,
     "metadata": {},
     "output_type": "execute_result"
    }
   ],
   "source": [
    "import glob\n",
    "glob.glob(trade_dir + \"BACI_HS12_Y*.csv\")"
   ]
  },
  {
   "cell_type": "markdown",
   "metadata": {
    "slideshow": {
     "slide_type": "slide"
    }
   },
   "source": [
    "But why did it give me 66 partitions if I only have 7 csv files?"
   ]
  },
  {
   "cell_type": "code",
   "execution_count": null,
   "metadata": {
    "slideshow": {
     "slide_type": "-"
    }
   },
   "outputs": [],
   "source": [
    "df.map_partitions(len).compute().plot(kind='bar')"
   ]
  },
  {
   "cell_type": "markdown",
   "metadata": {
    "slideshow": {
     "slide_type": "slide"
    }
   },
   "source": [
    "So all the partitions are about the same number of obs."
   ]
  },
  {
   "cell_type": "code",
   "execution_count": null,
   "metadata": {
    "slideshow": {
     "slide_type": "-"
    }
   },
   "outputs": [],
   "source": [
    "def mem_usage(x):\n",
    "    return x.memory_usage().sum()\n",
    "\n",
    "df.map_partitions(mem_usage).compute().plot(kind='bar')"
   ]
  },
  {
   "cell_type": "markdown",
   "metadata": {
    "slideshow": {
     "slide_type": "slide"
    }
   },
   "source": [
    "And about the same memory usage (around 60 mb per partition).\n",
    "\n",
    "__Rule of thumb__: partitions should be around 100 mb each.\n",
    "\n",
    "Here `dask` tries to do it automatically.\n",
    "\n",
    "My strategic use of the `map_partitions` will map a function to each partition."
   ]
  },
  {
   "cell_type": "markdown",
   "metadata": {
    "slideshow": {
     "slide_type": "slide"
    }
   },
   "source": [
    "All 7 of these files now exist as \"partitions\" in this dataframe object. Now when we do an operation it will be \"distributed\" to all the partitions.\n",
    "\n",
    "So now the advantage of this framework is that we can run operations on all the data but `dask` does the chunking and parallelizing for us!\n",
    "\n",
    "__Advantage__: no need to do everything in memory!\n",
    "\n",
    "__Disadvantage__: will be slower than in-memory.\n",
    "\n",
    "Thus only an advantage when your data will not fit in memory."
   ]
  },
  {
   "cell_type": "markdown",
   "metadata": {
    "slideshow": {
     "slide_type": "slide"
    }
   },
   "source": [
    "#### How it works:\n",
    "- Run as many operations as you need to on the symbolic dataframe object.\n",
    "- Call \"compute\" when you actually need to see the results."
   ]
  },
  {
   "cell_type": "code",
   "execution_count": 23,
   "metadata": {
    "slideshow": {
     "slide_type": "-"
    }
   },
   "outputs": [
    {
     "data": {
      "text/html": [
       "<div><strong>Dask DataFrame Structure:</strong></div>\n",
       "<div>\n",
       "<style scoped>\n",
       "    .dataframe tbody tr th:only-of-type {\n",
       "        vertical-align: middle;\n",
       "    }\n",
       "\n",
       "    .dataframe tbody tr th {\n",
       "        vertical-align: top;\n",
       "    }\n",
       "\n",
       "    .dataframe thead th {\n",
       "        text-align: right;\n",
       "    }\n",
       "</style>\n",
       "<table border=\"1\" class=\"dataframe\">\n",
       "  <thead>\n",
       "    <tr style=\"text-align: right;\">\n",
       "      <th></th>\n",
       "      <th>t</th>\n",
       "      <th>i</th>\n",
       "      <th>j</th>\n",
       "      <th>k</th>\n",
       "      <th>v</th>\n",
       "      <th>q</th>\n",
       "    </tr>\n",
       "    <tr>\n",
       "      <th>npartitions=66</th>\n",
       "      <th></th>\n",
       "      <th></th>\n",
       "      <th></th>\n",
       "      <th></th>\n",
       "      <th></th>\n",
       "      <th></th>\n",
       "    </tr>\n",
       "  </thead>\n",
       "  <tbody>\n",
       "    <tr>\n",
       "      <th></th>\n",
       "      <td>int64</td>\n",
       "      <td>int64</td>\n",
       "      <td>int64</td>\n",
       "      <td>int64</td>\n",
       "      <td>float64</td>\n",
       "      <td>float64</td>\n",
       "    </tr>\n",
       "    <tr>\n",
       "      <th></th>\n",
       "      <td>...</td>\n",
       "      <td>...</td>\n",
       "      <td>...</td>\n",
       "      <td>...</td>\n",
       "      <td>...</td>\n",
       "      <td>...</td>\n",
       "    </tr>\n",
       "    <tr>\n",
       "      <th>...</th>\n",
       "      <td>...</td>\n",
       "      <td>...</td>\n",
       "      <td>...</td>\n",
       "      <td>...</td>\n",
       "      <td>...</td>\n",
       "      <td>...</td>\n",
       "    </tr>\n",
       "    <tr>\n",
       "      <th></th>\n",
       "      <td>...</td>\n",
       "      <td>...</td>\n",
       "      <td>...</td>\n",
       "      <td>...</td>\n",
       "      <td>...</td>\n",
       "      <td>...</td>\n",
       "    </tr>\n",
       "    <tr>\n",
       "      <th></th>\n",
       "      <td>...</td>\n",
       "      <td>...</td>\n",
       "      <td>...</td>\n",
       "      <td>...</td>\n",
       "      <td>...</td>\n",
       "      <td>...</td>\n",
       "    </tr>\n",
       "  </tbody>\n",
       "</table>\n",
       "</div>\n",
       "<div>Dask Name: read-csv, 1 graph layer</div>"
      ],
      "text/plain": [
       "Dask DataFrame Structure:\n",
       "                    t      i      j      k        v        q\n",
       "npartitions=66                                              \n",
       "                int64  int64  int64  int64  float64  float64\n",
       "                  ...    ...    ...    ...      ...      ...\n",
       "...               ...    ...    ...    ...      ...      ...\n",
       "                  ...    ...    ...    ...      ...      ...\n",
       "                  ...    ...    ...    ...      ...      ...\n",
       "Dask Name: read-csv, 1 graph layer"
      ]
     },
     "execution_count": 23,
     "metadata": {},
     "output_type": "execute_result"
    }
   ],
   "source": [
    "df"
   ]
  },
  {
   "cell_type": "markdown",
   "metadata": {
    "slideshow": {
     "slide_type": "slide"
    }
   },
   "source": [
    "Note that the read_csv function has \"1 graph layer.\"\n",
    "\n",
    "What happens if we add an operation?"
   ]
  },
  {
   "cell_type": "code",
   "execution_count": 24,
   "metadata": {
    "slideshow": {
     "slide_type": "-"
    }
   },
   "outputs": [
    {
     "data": {
      "text/html": [
       "<div><strong>Dask DataFrame Structure:</strong></div>\n",
       "<div>\n",
       "<style scoped>\n",
       "    .dataframe tbody tr th:only-of-type {\n",
       "        vertical-align: middle;\n",
       "    }\n",
       "\n",
       "    .dataframe tbody tr th {\n",
       "        vertical-align: top;\n",
       "    }\n",
       "\n",
       "    .dataframe thead th {\n",
       "        text-align: right;\n",
       "    }\n",
       "</style>\n",
       "<table border=\"1\" class=\"dataframe\">\n",
       "  <thead>\n",
       "    <tr style=\"text-align: right;\">\n",
       "      <th></th>\n",
       "      <th>t</th>\n",
       "      <th>i</th>\n",
       "      <th>j</th>\n",
       "      <th>k</th>\n",
       "      <th>v</th>\n",
       "      <th>q</th>\n",
       "    </tr>\n",
       "    <tr>\n",
       "      <th>npartitions=66</th>\n",
       "      <th></th>\n",
       "      <th></th>\n",
       "      <th></th>\n",
       "      <th></th>\n",
       "      <th></th>\n",
       "      <th></th>\n",
       "    </tr>\n",
       "  </thead>\n",
       "  <tbody>\n",
       "    <tr>\n",
       "      <th></th>\n",
       "      <td>int64</td>\n",
       "      <td>int64</td>\n",
       "      <td>int64</td>\n",
       "      <td>int64</td>\n",
       "      <td>float64</td>\n",
       "      <td>float64</td>\n",
       "    </tr>\n",
       "    <tr>\n",
       "      <th></th>\n",
       "      <td>...</td>\n",
       "      <td>...</td>\n",
       "      <td>...</td>\n",
       "      <td>...</td>\n",
       "      <td>...</td>\n",
       "      <td>...</td>\n",
       "    </tr>\n",
       "    <tr>\n",
       "      <th>...</th>\n",
       "      <td>...</td>\n",
       "      <td>...</td>\n",
       "      <td>...</td>\n",
       "      <td>...</td>\n",
       "      <td>...</td>\n",
       "      <td>...</td>\n",
       "    </tr>\n",
       "    <tr>\n",
       "      <th></th>\n",
       "      <td>...</td>\n",
       "      <td>...</td>\n",
       "      <td>...</td>\n",
       "      <td>...</td>\n",
       "      <td>...</td>\n",
       "      <td>...</td>\n",
       "    </tr>\n",
       "    <tr>\n",
       "      <th></th>\n",
       "      <td>...</td>\n",
       "      <td>...</td>\n",
       "      <td>...</td>\n",
       "      <td>...</td>\n",
       "      <td>...</td>\n",
       "      <td>...</td>\n",
       "    </tr>\n",
       "  </tbody>\n",
       "</table>\n",
       "</div>\n",
       "<div>Dask Name: loc-series, 4 graph layers</div>"
      ],
      "text/plain": [
       "Dask DataFrame Structure:\n",
       "                    t      i      j      k        v        q\n",
       "npartitions=66                                              \n",
       "                int64  int64  int64  int64  float64  float64\n",
       "                  ...    ...    ...    ...      ...      ...\n",
       "...               ...    ...    ...    ...      ...      ...\n",
       "                  ...    ...    ...    ...      ...      ...\n",
       "                  ...    ...    ...    ...      ...      ...\n",
       "Dask Name: loc-series, 4 graph layers"
      ]
     },
     "execution_count": 24,
     "metadata": {},
     "output_type": "execute_result"
    }
   ],
   "source": [
    "df.loc[df.t==2018]"
   ]
  },
  {
   "cell_type": "markdown",
   "metadata": {
    "slideshow": {
     "slide_type": "slide"
    }
   },
   "source": [
    "So it added a couple more tasks after I did a slicing.\n",
    "\n",
    "Let's add one more:"
   ]
  },
  {
   "cell_type": "code",
   "execution_count": 25,
   "metadata": {
    "slideshow": {
     "slide_type": "-"
    }
   },
   "outputs": [
    {
     "data": {
      "text/plain": [
       "Dask Series Structure:\n",
       "npartitions=1\n",
       "    float64\n",
       "        ...\n",
       "Name: v, dtype: float64\n",
       "Dask Name: truediv, 10 graph layers"
      ]
     },
     "execution_count": 25,
     "metadata": {},
     "output_type": "execute_result"
    }
   ],
   "source": [
    "df.loc[df.t==2018].groupby(\"k\")['v'].mean()"
   ]
  },
  {
   "cell_type": "markdown",
   "metadata": {
    "slideshow": {
     "slide_type": "slide"
    }
   },
   "source": [
    "So taking a group average for the year 2018 takes 10 graph layers.\n",
    "\n",
    "When we actually need the results, we can run `compute`:"
   ]
  },
  {
   "cell_type": "code",
   "execution_count": 26,
   "metadata": {
    "slideshow": {
     "slide_type": "-"
    }
   },
   "outputs": [
    {
     "data": {
      "text/plain": [
       "k\n",
       "10121     1524.747365\n",
       "10129     1219.522900\n",
       "10130       50.608992\n",
       "10190       94.922452\n",
       "10221     2119.432946\n",
       "             ...     \n",
       "970200     316.031400\n",
       "970300    1158.938646\n",
       "970400      90.111293\n",
       "970500     469.196650\n",
       "970600    1600.675885\n",
       "Name: v, Length: 5199, dtype: float64"
      ]
     },
     "execution_count": 26,
     "metadata": {},
     "output_type": "execute_result"
    }
   ],
   "source": [
    "df.loc[df.t==2018].groupby(\"k\")['v'].mean().compute()"
   ]
  },
  {
   "cell_type": "markdown",
   "metadata": {
    "slideshow": {
     "slide_type": "-"
    }
   },
   "source": [
    "So now we can calculate a useful summary statistic of the entire dataset without having to read the entire dataset!"
   ]
  },
  {
   "cell_type": "markdown",
   "metadata": {
    "slideshow": {
     "slide_type": "slide"
    }
   },
   "source": [
    "#### Persisting memory\n",
    "\n",
    "In case you want one set of results in memory, you can use the `persist` function to put your results in memory.\n",
    "\n",
    "Suppose I want to persist the product with the code 10121:"
   ]
  },
  {
   "cell_type": "code",
   "execution_count": 27,
   "metadata": {
    "slideshow": {
     "slide_type": "-"
    }
   },
   "outputs": [],
   "source": [
    "df10121 = df[df.k==10121].persist()"
   ]
  },
  {
   "cell_type": "code",
   "execution_count": 28,
   "metadata": {
    "slideshow": {
     "slide_type": "-"
    }
   },
   "outputs": [
    {
     "data": {
      "text/html": [
       "<div><strong>Dask DataFrame Structure:</strong></div>\n",
       "<div>\n",
       "<style scoped>\n",
       "    .dataframe tbody tr th:only-of-type {\n",
       "        vertical-align: middle;\n",
       "    }\n",
       "\n",
       "    .dataframe tbody tr th {\n",
       "        vertical-align: top;\n",
       "    }\n",
       "\n",
       "    .dataframe thead th {\n",
       "        text-align: right;\n",
       "    }\n",
       "</style>\n",
       "<table border=\"1\" class=\"dataframe\">\n",
       "  <thead>\n",
       "    <tr style=\"text-align: right;\">\n",
       "      <th></th>\n",
       "      <th>t</th>\n",
       "      <th>i</th>\n",
       "      <th>j</th>\n",
       "      <th>k</th>\n",
       "      <th>v</th>\n",
       "      <th>q</th>\n",
       "    </tr>\n",
       "    <tr>\n",
       "      <th>npartitions=66</th>\n",
       "      <th></th>\n",
       "      <th></th>\n",
       "      <th></th>\n",
       "      <th></th>\n",
       "      <th></th>\n",
       "      <th></th>\n",
       "    </tr>\n",
       "  </thead>\n",
       "  <tbody>\n",
       "    <tr>\n",
       "      <th></th>\n",
       "      <td>int64</td>\n",
       "      <td>int64</td>\n",
       "      <td>int64</td>\n",
       "      <td>int64</td>\n",
       "      <td>float64</td>\n",
       "      <td>float64</td>\n",
       "    </tr>\n",
       "    <tr>\n",
       "      <th></th>\n",
       "      <td>...</td>\n",
       "      <td>...</td>\n",
       "      <td>...</td>\n",
       "      <td>...</td>\n",
       "      <td>...</td>\n",
       "      <td>...</td>\n",
       "    </tr>\n",
       "    <tr>\n",
       "      <th>...</th>\n",
       "      <td>...</td>\n",
       "      <td>...</td>\n",
       "      <td>...</td>\n",
       "      <td>...</td>\n",
       "      <td>...</td>\n",
       "      <td>...</td>\n",
       "    </tr>\n",
       "    <tr>\n",
       "      <th></th>\n",
       "      <td>...</td>\n",
       "      <td>...</td>\n",
       "      <td>...</td>\n",
       "      <td>...</td>\n",
       "      <td>...</td>\n",
       "      <td>...</td>\n",
       "    </tr>\n",
       "    <tr>\n",
       "      <th></th>\n",
       "      <td>...</td>\n",
       "      <td>...</td>\n",
       "      <td>...</td>\n",
       "      <td>...</td>\n",
       "      <td>...</td>\n",
       "      <td>...</td>\n",
       "    </tr>\n",
       "  </tbody>\n",
       "</table>\n",
       "</div>\n",
       "<div>Dask Name: getitem, 1 graph layer</div>"
      ],
      "text/plain": [
       "Dask DataFrame Structure:\n",
       "                    t      i      j      k        v        q\n",
       "npartitions=66                                              \n",
       "                int64  int64  int64  int64  float64  float64\n",
       "                  ...    ...    ...    ...      ...      ...\n",
       "...               ...    ...    ...    ...      ...      ...\n",
       "                  ...    ...    ...    ...      ...      ...\n",
       "                  ...    ...    ...    ...      ...      ...\n",
       "Dask Name: getitem, 1 graph layer"
      ]
     },
     "execution_count": 28,
     "metadata": {},
     "output_type": "execute_result"
    }
   ],
   "source": [
    "df10121"
   ]
  },
  {
   "cell_type": "markdown",
   "metadata": {
    "slideshow": {
     "slide_type": "slide"
    }
   },
   "source": [
    "Now it will apply all these changes in the background so we can keep working. \n",
    " \n",
    "Notice that it's still not a real \"dataframe\" yet. This is because its keeping the results distributed across the nodes. We can keep calling more functions on this flow and when it's done it will finish much quicker."
   ]
  },
  {
   "cell_type": "markdown",
   "metadata": {
    "slideshow": {
     "slide_type": "-"
    }
   },
   "source": [
    "The downside of this is that it has transferred some of this (but not all of it) into the distributed RAM.\n",
    "\n",
    "The upside here is that it can be called very quickly:"
   ]
  },
  {
   "cell_type": "code",
   "execution_count": 29,
   "metadata": {
    "slideshow": {
     "slide_type": "-"
    }
   },
   "outputs": [
    {
     "data": {
      "text/html": [
       "<div>\n",
       "<style scoped>\n",
       "    .dataframe tbody tr th:only-of-type {\n",
       "        vertical-align: middle;\n",
       "    }\n",
       "\n",
       "    .dataframe tbody tr th {\n",
       "        vertical-align: top;\n",
       "    }\n",
       "\n",
       "    .dataframe thead th {\n",
       "        text-align: right;\n",
       "    }\n",
       "</style>\n",
       "<table border=\"1\" class=\"dataframe\">\n",
       "  <thead>\n",
       "    <tr style=\"text-align: right;\">\n",
       "      <th></th>\n",
       "      <th>t</th>\n",
       "      <th>i</th>\n",
       "      <th>j</th>\n",
       "      <th>k</th>\n",
       "      <th>v</th>\n",
       "      <th>q</th>\n",
       "    </tr>\n",
       "  </thead>\n",
       "  <tbody>\n",
       "    <tr>\n",
       "      <th>12599</th>\n",
       "      <td>2012</td>\n",
       "      <td>12</td>\n",
       "      <td>251</td>\n",
       "      <td>10121</td>\n",
       "      <td>71.698</td>\n",
       "      <td>0.500</td>\n",
       "    </tr>\n",
       "    <tr>\n",
       "      <th>17215</th>\n",
       "      <td>2012</td>\n",
       "      <td>20</td>\n",
       "      <td>251</td>\n",
       "      <td>10121</td>\n",
       "      <td>2.314</td>\n",
       "      <td>1.400</td>\n",
       "    </tr>\n",
       "    <tr>\n",
       "      <th>27980</th>\n",
       "      <td>2012</td>\n",
       "      <td>31</td>\n",
       "      <td>842</td>\n",
       "      <td>10121</td>\n",
       "      <td>45.200</td>\n",
       "      <td>3.569</td>\n",
       "    </tr>\n",
       "    <tr>\n",
       "      <th>28796</th>\n",
       "      <td>2012</td>\n",
       "      <td>32</td>\n",
       "      <td>36</td>\n",
       "      <td>10121</td>\n",
       "      <td>708.296</td>\n",
       "      <td>0.500</td>\n",
       "    </tr>\n",
       "    <tr>\n",
       "      <th>29346</th>\n",
       "      <td>2012</td>\n",
       "      <td>32</td>\n",
       "      <td>40</td>\n",
       "      <td>10121</td>\n",
       "      <td>10.090</td>\n",
       "      <td>0.400</td>\n",
       "    </tr>\n",
       "    <tr>\n",
       "      <th>...</th>\n",
       "      <td>...</td>\n",
       "      <td>...</td>\n",
       "      <td>...</td>\n",
       "      <td>...</td>\n",
       "      <td>...</td>\n",
       "      <td>...</td>\n",
       "    </tr>\n",
       "    <tr>\n",
       "      <th>10526681</th>\n",
       "      <td>2020</td>\n",
       "      <td>858</td>\n",
       "      <td>842</td>\n",
       "      <td>10121</td>\n",
       "      <td>50.600</td>\n",
       "      <td>0.500</td>\n",
       "    </tr>\n",
       "    <tr>\n",
       "      <th>10527439</th>\n",
       "      <td>2020</td>\n",
       "      <td>860</td>\n",
       "      <td>4</td>\n",
       "      <td>10121</td>\n",
       "      <td>1.500</td>\n",
       "      <td>0.477</td>\n",
       "    </tr>\n",
       "    <tr>\n",
       "      <th>10532385</th>\n",
       "      <td>2020</td>\n",
       "      <td>860</td>\n",
       "      <td>417</td>\n",
       "      <td>10121</td>\n",
       "      <td>1.433</td>\n",
       "      <td>0.410</td>\n",
       "    </tr>\n",
       "    <tr>\n",
       "      <th>10548361</th>\n",
       "      <td>2020</td>\n",
       "      <td>894</td>\n",
       "      <td>404</td>\n",
       "      <td>10121</td>\n",
       "      <td>5.993</td>\n",
       "      <td>4.500</td>\n",
       "    </tr>\n",
       "    <tr>\n",
       "      <th>10552087</th>\n",
       "      <td>2020</td>\n",
       "      <td>894</td>\n",
       "      <td>716</td>\n",
       "      <td>10121</td>\n",
       "      <td>1.492</td>\n",
       "      <td>1.350</td>\n",
       "    </tr>\n",
       "  </tbody>\n",
       "</table>\n",
       "<p>8382 rows × 6 columns</p>\n",
       "</div>"
      ],
      "text/plain": [
       "             t    i    j      k        v      q\n",
       "12599     2012   12  251  10121   71.698  0.500\n",
       "17215     2012   20  251  10121    2.314  1.400\n",
       "27980     2012   31  842  10121   45.200  3.569\n",
       "28796     2012   32   36  10121  708.296  0.500\n",
       "29346     2012   32   40  10121   10.090  0.400\n",
       "...        ...  ...  ...    ...      ...    ...\n",
       "10526681  2020  858  842  10121   50.600  0.500\n",
       "10527439  2020  860    4  10121    1.500  0.477\n",
       "10532385  2020  860  417  10121    1.433  0.410\n",
       "10548361  2020  894  404  10121    5.993  4.500\n",
       "10552087  2020  894  716  10121    1.492  1.350\n",
       "\n",
       "[8382 rows x 6 columns]"
      ]
     },
     "execution_count": 29,
     "metadata": {},
     "output_type": "execute_result"
    }
   ],
   "source": [
    "df10121.compute()"
   ]
  },
  {
   "cell_type": "markdown",
   "metadata": {
    "slideshow": {
     "slide_type": "slide"
    }
   },
   "source": [
    "So what is the difference between `persist` and `compute`?\n",
    "\n",
    "The command `persist` puts it into distributed memory (each worker holding a part of the data) so there are still as many partitions as before. The command `compute` puts it into one python object in your environment. \n",
    "\n",
    "__Why we use `persist`__:\n",
    "- We want to call something into the distributed memory to calculate with `compute`.\n",
    "- We need it to run asynchronously.\n",
    "- We need to \"set up\" a computation that we will eventually compute.\n",
    "    - Essentially saves us from having to wait a very long time"
   ]
  },
  {
   "cell_type": "markdown",
   "metadata": {
    "slideshow": {
     "slide_type": "slide"
    }
   },
   "source": [
    "### Merging"
   ]
  },
  {
   "cell_type": "markdown",
   "metadata": {
    "slideshow": {
     "slide_type": "-"
    }
   },
   "source": [
    "Doing merges can be accomplished the usual way:"
   ]
  },
  {
   "cell_type": "code",
   "execution_count": 32,
   "metadata": {
    "slideshow": {
     "slide_type": "-"
    }
   },
   "outputs": [],
   "source": [
    "products = pd.read_csv(trade_dir + \"product_codes_HS12_V202201.csv\")\n",
    "products = products.rename(columns={\"code\":\"k\"})"
   ]
  },
  {
   "cell_type": "code",
   "execution_count": 33,
   "metadata": {
    "scrolled": true,
    "slideshow": {
     "slide_type": "-"
    }
   },
   "outputs": [
    {
     "data": {
      "text/html": [
       "<div>\n",
       "<style scoped>\n",
       "    .dataframe tbody tr th:only-of-type {\n",
       "        vertical-align: middle;\n",
       "    }\n",
       "\n",
       "    .dataframe tbody tr th {\n",
       "        vertical-align: top;\n",
       "    }\n",
       "\n",
       "    .dataframe thead th {\n",
       "        text-align: right;\n",
       "    }\n",
       "</style>\n",
       "<table border=\"1\" class=\"dataframe\">\n",
       "  <thead>\n",
       "    <tr style=\"text-align: right;\">\n",
       "      <th></th>\n",
       "      <th>k</th>\n",
       "      <th>description</th>\n",
       "    </tr>\n",
       "  </thead>\n",
       "  <tbody>\n",
       "    <tr>\n",
       "      <th>0</th>\n",
       "      <td>10121</td>\n",
       "      <td>Horses: live, pure-bred breeding animals</td>\n",
       "    </tr>\n",
       "    <tr>\n",
       "      <th>1</th>\n",
       "      <td>10129</td>\n",
       "      <td>Horses: live, other than pure-bred breeding an...</td>\n",
       "    </tr>\n",
       "    <tr>\n",
       "      <th>2</th>\n",
       "      <td>10130</td>\n",
       "      <td>Asses: live</td>\n",
       "    </tr>\n",
       "    <tr>\n",
       "      <th>3</th>\n",
       "      <td>10190</td>\n",
       "      <td>Mules and hinnies: live</td>\n",
       "    </tr>\n",
       "    <tr>\n",
       "      <th>4</th>\n",
       "      <td>10221</td>\n",
       "      <td>Cattle: live, pure-bred breeding animals</td>\n",
       "    </tr>\n",
       "    <tr>\n",
       "      <th>...</th>\n",
       "      <td>...</td>\n",
       "      <td>...</td>\n",
       "    </tr>\n",
       "    <tr>\n",
       "      <th>65</th>\n",
       "      <td>20711</td>\n",
       "      <td>Meat and edible offal: of fowls of the species...</td>\n",
       "    </tr>\n",
       "    <tr>\n",
       "      <th>66</th>\n",
       "      <td>20712</td>\n",
       "      <td>Meat and edible offal: of fowls of the species...</td>\n",
       "    </tr>\n",
       "    <tr>\n",
       "      <th>67</th>\n",
       "      <td>20713</td>\n",
       "      <td>Meat and edible offal: of fowls of the species...</td>\n",
       "    </tr>\n",
       "    <tr>\n",
       "      <th>68</th>\n",
       "      <td>20714</td>\n",
       "      <td>Meat and edible offal: of fowls of the species...</td>\n",
       "    </tr>\n",
       "    <tr>\n",
       "      <th>69</th>\n",
       "      <td>20724</td>\n",
       "      <td>Meat and edible offal: of turkeys, not cut in ...</td>\n",
       "    </tr>\n",
       "  </tbody>\n",
       "</table>\n",
       "<p>70 rows × 2 columns</p>\n",
       "</div>"
      ],
      "text/plain": [
       "        k                                        description\n",
       "0   10121           Horses: live, pure-bred breeding animals\n",
       "1   10129  Horses: live, other than pure-bred breeding an...\n",
       "2   10130                                        Asses: live\n",
       "3   10190                            Mules and hinnies: live\n",
       "4   10221           Cattle: live, pure-bred breeding animals\n",
       "..    ...                                                ...\n",
       "65  20711  Meat and edible offal: of fowls of the species...\n",
       "66  20712  Meat and edible offal: of fowls of the species...\n",
       "67  20713  Meat and edible offal: of fowls of the species...\n",
       "68  20714  Meat and edible offal: of fowls of the species...\n",
       "69  20724  Meat and edible offal: of turkeys, not cut in ...\n",
       "\n",
       "[70 rows x 2 columns]"
      ]
     },
     "execution_count": 33,
     "metadata": {},
     "output_type": "execute_result"
    }
   ],
   "source": [
    "products.head(70)"
   ]
  },
  {
   "cell_type": "code",
   "execution_count": 34,
   "metadata": {
    "slideshow": {
     "slide_type": "slide"
    }
   },
   "outputs": [
    {
     "data": {
      "text/html": [
       "<div><strong>Dask DataFrame Structure:</strong></div>\n",
       "<div>\n",
       "<style scoped>\n",
       "    .dataframe tbody tr th:only-of-type {\n",
       "        vertical-align: middle;\n",
       "    }\n",
       "\n",
       "    .dataframe tbody tr th {\n",
       "        vertical-align: top;\n",
       "    }\n",
       "\n",
       "    .dataframe thead th {\n",
       "        text-align: right;\n",
       "    }\n",
       "</style>\n",
       "<table border=\"1\" class=\"dataframe\">\n",
       "  <thead>\n",
       "    <tr style=\"text-align: right;\">\n",
       "      <th></th>\n",
       "      <th>t</th>\n",
       "      <th>i</th>\n",
       "      <th>j</th>\n",
       "      <th>k</th>\n",
       "      <th>v</th>\n",
       "      <th>q</th>\n",
       "      <th>description</th>\n",
       "    </tr>\n",
       "    <tr>\n",
       "      <th>npartitions=66</th>\n",
       "      <th></th>\n",
       "      <th></th>\n",
       "      <th></th>\n",
       "      <th></th>\n",
       "      <th></th>\n",
       "      <th></th>\n",
       "      <th></th>\n",
       "    </tr>\n",
       "  </thead>\n",
       "  <tbody>\n",
       "    <tr>\n",
       "      <th></th>\n",
       "      <td>int64</td>\n",
       "      <td>int64</td>\n",
       "      <td>int64</td>\n",
       "      <td>int64</td>\n",
       "      <td>float64</td>\n",
       "      <td>float64</td>\n",
       "      <td>string</td>\n",
       "    </tr>\n",
       "    <tr>\n",
       "      <th></th>\n",
       "      <td>...</td>\n",
       "      <td>...</td>\n",
       "      <td>...</td>\n",
       "      <td>...</td>\n",
       "      <td>...</td>\n",
       "      <td>...</td>\n",
       "      <td>...</td>\n",
       "    </tr>\n",
       "    <tr>\n",
       "      <th>...</th>\n",
       "      <td>...</td>\n",
       "      <td>...</td>\n",
       "      <td>...</td>\n",
       "      <td>...</td>\n",
       "      <td>...</td>\n",
       "      <td>...</td>\n",
       "      <td>...</td>\n",
       "    </tr>\n",
       "    <tr>\n",
       "      <th></th>\n",
       "      <td>...</td>\n",
       "      <td>...</td>\n",
       "      <td>...</td>\n",
       "      <td>...</td>\n",
       "      <td>...</td>\n",
       "      <td>...</td>\n",
       "      <td>...</td>\n",
       "    </tr>\n",
       "    <tr>\n",
       "      <th></th>\n",
       "      <td>...</td>\n",
       "      <td>...</td>\n",
       "      <td>...</td>\n",
       "      <td>...</td>\n",
       "      <td>...</td>\n",
       "      <td>...</td>\n",
       "      <td>...</td>\n",
       "    </tr>\n",
       "  </tbody>\n",
       "</table>\n",
       "</div>\n",
       "<div>Dask Name: merge_chunk, 4 graph layers</div>"
      ],
      "text/plain": [
       "Dask DataFrame Structure:\n",
       "                    t      i      j      k        v        q description\n",
       "npartitions=66                                                          \n",
       "                int64  int64  int64  int64  float64  float64      string\n",
       "                  ...    ...    ...    ...      ...      ...         ...\n",
       "...               ...    ...    ...    ...      ...      ...         ...\n",
       "                  ...    ...    ...    ...      ...      ...         ...\n",
       "                  ...    ...    ...    ...      ...      ...         ...\n",
       "Dask Name: merge_chunk, 4 graph layers"
      ]
     },
     "execution_count": 34,
     "metadata": {},
     "output_type": "execute_result"
    }
   ],
   "source": [
    "df_wdes = df.merge(products)\n",
    "df_wdes"
   ]
  },
  {
   "cell_type": "code",
   "execution_count": 35,
   "metadata": {},
   "outputs": [
    {
     "data": {
      "text/html": [
       "<div>\n",
       "<style scoped>\n",
       "    .dataframe tbody tr th:only-of-type {\n",
       "        vertical-align: middle;\n",
       "    }\n",
       "\n",
       "    .dataframe tbody tr th {\n",
       "        vertical-align: top;\n",
       "    }\n",
       "\n",
       "    .dataframe thead th {\n",
       "        text-align: right;\n",
       "    }\n",
       "</style>\n",
       "<table border=\"1\" class=\"dataframe\">\n",
       "  <thead>\n",
       "    <tr style=\"text-align: right;\">\n",
       "      <th></th>\n",
       "      <th>t</th>\n",
       "      <th>i</th>\n",
       "      <th>j</th>\n",
       "      <th>k</th>\n",
       "      <th>v</th>\n",
       "      <th>q</th>\n",
       "      <th>description</th>\n",
       "    </tr>\n",
       "  </thead>\n",
       "  <tbody>\n",
       "    <tr>\n",
       "      <th>0</th>\n",
       "      <td>2012</td>\n",
       "      <td>4</td>\n",
       "      <td>8</td>\n",
       "      <td>610469</td>\n",
       "      <td>2.734</td>\n",
       "      <td>0.044</td>\n",
       "      <td>Trousers, bib and brace overalls, breeches and...</td>\n",
       "    </tr>\n",
       "    <tr>\n",
       "      <th>1</th>\n",
       "      <td>2012</td>\n",
       "      <td>4</td>\n",
       "      <td>124</td>\n",
       "      <td>610469</td>\n",
       "      <td>0.059</td>\n",
       "      <td>0.002</td>\n",
       "      <td>Trousers, bib and brace overalls, breeches and...</td>\n",
       "    </tr>\n",
       "    <tr>\n",
       "      <th>2</th>\n",
       "      <td>2012</td>\n",
       "      <td>4</td>\n",
       "      <td>276</td>\n",
       "      <td>610469</td>\n",
       "      <td>0.024</td>\n",
       "      <td>0.001</td>\n",
       "      <td>Trousers, bib and brace overalls, breeches and...</td>\n",
       "    </tr>\n",
       "    <tr>\n",
       "      <th>3</th>\n",
       "      <td>2012</td>\n",
       "      <td>4</td>\n",
       "      <td>757</td>\n",
       "      <td>610469</td>\n",
       "      <td>1.020</td>\n",
       "      <td>0.017</td>\n",
       "      <td>Trousers, bib and brace overalls, breeches and...</td>\n",
       "    </tr>\n",
       "    <tr>\n",
       "      <th>4</th>\n",
       "      <td>2012</td>\n",
       "      <td>8</td>\n",
       "      <td>124</td>\n",
       "      <td>610469</td>\n",
       "      <td>0.358</td>\n",
       "      <td>0.011</td>\n",
       "      <td>Trousers, bib and brace overalls, breeches and...</td>\n",
       "    </tr>\n",
       "  </tbody>\n",
       "</table>\n",
       "</div>"
      ],
      "text/plain": [
       "      t  i    j       k      v      q  \\\n",
       "0  2012  4    8  610469  2.734  0.044   \n",
       "1  2012  4  124  610469  0.059  0.002   \n",
       "2  2012  4  276  610469  0.024  0.001   \n",
       "3  2012  4  757  610469  1.020  0.017   \n",
       "4  2012  8  124  610469  0.358  0.011   \n",
       "\n",
       "                                         description  \n",
       "0  Trousers, bib and brace overalls, breeches and...  \n",
       "1  Trousers, bib and brace overalls, breeches and...  \n",
       "2  Trousers, bib and brace overalls, breeches and...  \n",
       "3  Trousers, bib and brace overalls, breeches and...  \n",
       "4  Trousers, bib and brace overalls, breeches and...  "
      ]
     },
     "execution_count": 35,
     "metadata": {},
     "output_type": "execute_result"
    }
   ],
   "source": [
    "df_wdes.head()"
   ]
  },
  {
   "cell_type": "markdown",
   "metadata": {
    "slideshow": {
     "slide_type": "-"
    }
   },
   "source": [
    "So now we've merged in a text description of our product codes"
   ]
  },
  {
   "cell_type": "code",
   "execution_count": 36,
   "metadata": {},
   "outputs": [
    {
     "data": {
      "text/plain": [
       "'C:/Users/jhtchns2/Box/ACE_592_SAE/Homework_3/BACI_HS12_V202201/'"
      ]
     },
     "execution_count": 36,
     "metadata": {},
     "output_type": "execute_result"
    }
   ],
   "source": [
    "trade_dir"
   ]
  },
  {
   "cell_type": "code",
   "execution_count": 38,
   "metadata": {},
   "outputs": [
    {
     "data": {
      "text/plain": [
       "'C:/Users/jhtchns2/Box/ACE_592_SAE/Homework_3/BACI_HS12_V202201/country_codes_V202201.csv'"
      ]
     },
     "execution_count": 38,
     "metadata": {},
     "output_type": "execute_result"
    }
   ],
   "source": [
    "'C:/Users/jhtchns2/Box/ACE_592_SAE/Homework_3/BACI_HS12_V202201/country_codes_V202201.csv'"
   ]
  },
  {
   "cell_type": "code",
   "execution_count": 39,
   "metadata": {
    "slideshow": {
     "slide_type": "slide"
    }
   },
   "outputs": [],
   "source": [
    "countries = pd.read_csv(trade_dir + \"country_codes_V202201.csv\",encoding = \"ISO-8859-1\")\n",
    "countries = countries.rename(columns={\"country_code\":\"i\",\"country_name_full\":\"name_i\"})\n",
    "df_wdes = df_wdes.merge(countries[['i','name_i']])\n",
    "\n",
    "countries = pd.read_csv(trade_dir + \"country_codes_V202201.csv\",encoding = \"ISO-8859-1\")\n",
    "countries = countries.rename(columns={\"country_code\":\"j\",\"country_name_full\":\"name_j\"})\n",
    "df_wdes = df_wdes.merge(countries[['j','name_j']])"
   ]
  },
  {
   "cell_type": "code",
   "execution_count": 40,
   "metadata": {
    "collapsed": true,
    "slideshow": {
     "slide_type": "-"
    }
   },
   "outputs": [
    {
     "data": {
      "text/html": [
       "<div>\n",
       "<style scoped>\n",
       "    .dataframe tbody tr th:only-of-type {\n",
       "        vertical-align: middle;\n",
       "    }\n",
       "\n",
       "    .dataframe tbody tr th {\n",
       "        vertical-align: top;\n",
       "    }\n",
       "\n",
       "    .dataframe thead th {\n",
       "        text-align: right;\n",
       "    }\n",
       "</style>\n",
       "<table border=\"1\" class=\"dataframe\">\n",
       "  <thead>\n",
       "    <tr style=\"text-align: right;\">\n",
       "      <th></th>\n",
       "      <th>t</th>\n",
       "      <th>i</th>\n",
       "      <th>j</th>\n",
       "      <th>k</th>\n",
       "      <th>v</th>\n",
       "      <th>q</th>\n",
       "      <th>description</th>\n",
       "      <th>name_i</th>\n",
       "      <th>name_j</th>\n",
       "    </tr>\n",
       "  </thead>\n",
       "  <tbody>\n",
       "    <tr>\n",
       "      <th>0</th>\n",
       "      <td>2012</td>\n",
       "      <td>4</td>\n",
       "      <td>8</td>\n",
       "      <td>610469</td>\n",
       "      <td>2.734</td>\n",
       "      <td>0.044</td>\n",
       "      <td>Trousers, bib and brace overalls, breeches and...</td>\n",
       "      <td>Afghanistan</td>\n",
       "      <td>Albania</td>\n",
       "    </tr>\n",
       "    <tr>\n",
       "      <th>1</th>\n",
       "      <td>2012</td>\n",
       "      <td>4</td>\n",
       "      <td>8</td>\n",
       "      <td>630900</td>\n",
       "      <td>0.110</td>\n",
       "      <td>0.082</td>\n",
       "      <td>Clothing: worn, and other worn articles</td>\n",
       "      <td>Afghanistan</td>\n",
       "      <td>Albania</td>\n",
       "    </tr>\n",
       "    <tr>\n",
       "      <th>2</th>\n",
       "      <td>2012</td>\n",
       "      <td>20</td>\n",
       "      <td>8</td>\n",
       "      <td>910211</td>\n",
       "      <td>2.314</td>\n",
       "      <td>0.003</td>\n",
       "      <td>Wrist-watches: electrically operated, with or ...</td>\n",
       "      <td>Andorra</td>\n",
       "      <td>Albania</td>\n",
       "    </tr>\n",
       "    <tr>\n",
       "      <th>3</th>\n",
       "      <td>2012</td>\n",
       "      <td>20</td>\n",
       "      <td>8</td>\n",
       "      <td>960810</td>\n",
       "      <td>0.144</td>\n",
       "      <td>NaN</td>\n",
       "      <td>Pens: ball point</td>\n",
       "      <td>Andorra</td>\n",
       "      <td>Albania</td>\n",
       "    </tr>\n",
       "    <tr>\n",
       "      <th>4</th>\n",
       "      <td>2012</td>\n",
       "      <td>20</td>\n",
       "      <td>8</td>\n",
       "      <td>80510</td>\n",
       "      <td>1.457</td>\n",
       "      <td>2.228</td>\n",
       "      <td>Fruit, edible: oranges, fresh or dried</td>\n",
       "      <td>Andorra</td>\n",
       "      <td>Albania</td>\n",
       "    </tr>\n",
       "    <tr>\n",
       "      <th>5</th>\n",
       "      <td>2012</td>\n",
       "      <td>28</td>\n",
       "      <td>8</td>\n",
       "      <td>170490</td>\n",
       "      <td>0.064</td>\n",
       "      <td>0.009</td>\n",
       "      <td>Sugar confectionery: (excluding chewing gum, i...</td>\n",
       "      <td>Antigua and Barbuda</td>\n",
       "      <td>Albania</td>\n",
       "    </tr>\n",
       "    <tr>\n",
       "      <th>6</th>\n",
       "      <td>2012</td>\n",
       "      <td>28</td>\n",
       "      <td>8</td>\n",
       "      <td>80550</td>\n",
       "      <td>3.389</td>\n",
       "      <td>4.517</td>\n",
       "      <td>Fruit, edible: lemons (Citrus limon, Citrus li...</td>\n",
       "      <td>Antigua and Barbuda</td>\n",
       "      <td>Albania</td>\n",
       "    </tr>\n",
       "    <tr>\n",
       "      <th>7</th>\n",
       "      <td>2012</td>\n",
       "      <td>28</td>\n",
       "      <td>8</td>\n",
       "      <td>200811</td>\n",
       "      <td>1.571</td>\n",
       "      <td>0.427</td>\n",
       "      <td>Nuts: ground-nuts, whether or not containing a...</td>\n",
       "      <td>Antigua and Barbuda</td>\n",
       "      <td>Albania</td>\n",
       "    </tr>\n",
       "    <tr>\n",
       "      <th>8</th>\n",
       "      <td>2012</td>\n",
       "      <td>28</td>\n",
       "      <td>8</td>\n",
       "      <td>190531</td>\n",
       "      <td>0.030</td>\n",
       "      <td>0.005</td>\n",
       "      <td>Food preparations: sweet biscuits, whether or ...</td>\n",
       "      <td>Antigua and Barbuda</td>\n",
       "      <td>Albania</td>\n",
       "    </tr>\n",
       "    <tr>\n",
       "      <th>9</th>\n",
       "      <td>2012</td>\n",
       "      <td>28</td>\n",
       "      <td>8</td>\n",
       "      <td>230400</td>\n",
       "      <td>15.601</td>\n",
       "      <td>25.000</td>\n",
       "      <td>Oil-cake and other solid residues: whether or ...</td>\n",
       "      <td>Antigua and Barbuda</td>\n",
       "      <td>Albania</td>\n",
       "    </tr>\n",
       "  </tbody>\n",
       "</table>\n",
       "</div>"
      ],
      "text/plain": [
       "      t   i  j       k       v       q  \\\n",
       "0  2012   4  8  610469   2.734   0.044   \n",
       "1  2012   4  8  630900   0.110   0.082   \n",
       "2  2012  20  8  910211   2.314   0.003   \n",
       "3  2012  20  8  960810   0.144     NaN   \n",
       "4  2012  20  8   80510   1.457   2.228   \n",
       "5  2012  28  8  170490   0.064   0.009   \n",
       "6  2012  28  8   80550   3.389   4.517   \n",
       "7  2012  28  8  200811   1.571   0.427   \n",
       "8  2012  28  8  190531   0.030   0.005   \n",
       "9  2012  28  8  230400  15.601  25.000   \n",
       "\n",
       "                                         description               name_i  \\\n",
       "0  Trousers, bib and brace overalls, breeches and...          Afghanistan   \n",
       "1            Clothing: worn, and other worn articles          Afghanistan   \n",
       "2  Wrist-watches: electrically operated, with or ...              Andorra   \n",
       "3                                   Pens: ball point              Andorra   \n",
       "4             Fruit, edible: oranges, fresh or dried              Andorra   \n",
       "5  Sugar confectionery: (excluding chewing gum, i...  Antigua and Barbuda   \n",
       "6  Fruit, edible: lemons (Citrus limon, Citrus li...  Antigua and Barbuda   \n",
       "7  Nuts: ground-nuts, whether or not containing a...  Antigua and Barbuda   \n",
       "8  Food preparations: sweet biscuits, whether or ...  Antigua and Barbuda   \n",
       "9  Oil-cake and other solid residues: whether or ...  Antigua and Barbuda   \n",
       "\n",
       "    name_j  \n",
       "0  Albania  \n",
       "1  Albania  \n",
       "2  Albania  \n",
       "3  Albania  \n",
       "4  Albania  \n",
       "5  Albania  \n",
       "6  Albania  \n",
       "7  Albania  \n",
       "8  Albania  \n",
       "9  Albania  "
      ]
     },
     "execution_count": 40,
     "metadata": {},
     "output_type": "execute_result"
    }
   ],
   "source": [
    "df_wdes.head(10)"
   ]
  },
  {
   "cell_type": "markdown",
   "metadata": {
    "slideshow": {
     "slide_type": "slide"
    }
   },
   "source": [
    "### Which dataframe operations the dask API supports:\n",
    "\n",
    "__Element by element operations__"
   ]
  },
  {
   "cell_type": "code",
   "execution_count": 41,
   "metadata": {
    "slideshow": {
     "slide_type": "-"
    }
   },
   "outputs": [],
   "source": [
    "df_wdes['avg_price'] = df_wdes['v']/df_wdes['q']"
   ]
  },
  {
   "cell_type": "markdown",
   "metadata": {
    "slideshow": {
     "slide_type": "-"
    }
   },
   "source": [
    "Since its delaying the operations, it won't run until I call `compute`, though notice that it just added a column to this dataset."
   ]
  },
  {
   "cell_type": "code",
   "execution_count": 42,
   "metadata": {
    "slideshow": {
     "slide_type": "-"
    }
   },
   "outputs": [
    {
     "data": {
      "text/html": [
       "<div>\n",
       "<style scoped>\n",
       "    .dataframe tbody tr th:only-of-type {\n",
       "        vertical-align: middle;\n",
       "    }\n",
       "\n",
       "    .dataframe tbody tr th {\n",
       "        vertical-align: top;\n",
       "    }\n",
       "\n",
       "    .dataframe thead th {\n",
       "        text-align: right;\n",
       "    }\n",
       "</style>\n",
       "<table border=\"1\" class=\"dataframe\">\n",
       "  <thead>\n",
       "    <tr style=\"text-align: right;\">\n",
       "      <th></th>\n",
       "      <th>t</th>\n",
       "      <th>i</th>\n",
       "      <th>j</th>\n",
       "      <th>k</th>\n",
       "      <th>v</th>\n",
       "      <th>q</th>\n",
       "      <th>description</th>\n",
       "      <th>name_i</th>\n",
       "      <th>name_j</th>\n",
       "      <th>avg_price</th>\n",
       "    </tr>\n",
       "  </thead>\n",
       "  <tbody>\n",
       "    <tr>\n",
       "      <th>0</th>\n",
       "      <td>2012</td>\n",
       "      <td>4</td>\n",
       "      <td>8</td>\n",
       "      <td>610469</td>\n",
       "      <td>2.734</td>\n",
       "      <td>0.044</td>\n",
       "      <td>Trousers, bib and brace overalls, breeches and...</td>\n",
       "      <td>Afghanistan</td>\n",
       "      <td>Albania</td>\n",
       "      <td>62.136364</td>\n",
       "    </tr>\n",
       "    <tr>\n",
       "      <th>1</th>\n",
       "      <td>2012</td>\n",
       "      <td>4</td>\n",
       "      <td>8</td>\n",
       "      <td>630900</td>\n",
       "      <td>0.110</td>\n",
       "      <td>0.082</td>\n",
       "      <td>Clothing: worn, and other worn articles</td>\n",
       "      <td>Afghanistan</td>\n",
       "      <td>Albania</td>\n",
       "      <td>1.341463</td>\n",
       "    </tr>\n",
       "    <tr>\n",
       "      <th>2</th>\n",
       "      <td>2012</td>\n",
       "      <td>20</td>\n",
       "      <td>8</td>\n",
       "      <td>910211</td>\n",
       "      <td>2.314</td>\n",
       "      <td>0.003</td>\n",
       "      <td>Wrist-watches: electrically operated, with or ...</td>\n",
       "      <td>Andorra</td>\n",
       "      <td>Albania</td>\n",
       "      <td>771.333333</td>\n",
       "    </tr>\n",
       "    <tr>\n",
       "      <th>3</th>\n",
       "      <td>2012</td>\n",
       "      <td>20</td>\n",
       "      <td>8</td>\n",
       "      <td>960810</td>\n",
       "      <td>0.144</td>\n",
       "      <td>NaN</td>\n",
       "      <td>Pens: ball point</td>\n",
       "      <td>Andorra</td>\n",
       "      <td>Albania</td>\n",
       "      <td>NaN</td>\n",
       "    </tr>\n",
       "    <tr>\n",
       "      <th>4</th>\n",
       "      <td>2012</td>\n",
       "      <td>20</td>\n",
       "      <td>8</td>\n",
       "      <td>80510</td>\n",
       "      <td>1.457</td>\n",
       "      <td>2.228</td>\n",
       "      <td>Fruit, edible: oranges, fresh or dried</td>\n",
       "      <td>Andorra</td>\n",
       "      <td>Albania</td>\n",
       "      <td>0.653950</td>\n",
       "    </tr>\n",
       "    <tr>\n",
       "      <th>5</th>\n",
       "      <td>2012</td>\n",
       "      <td>28</td>\n",
       "      <td>8</td>\n",
       "      <td>170490</td>\n",
       "      <td>0.064</td>\n",
       "      <td>0.009</td>\n",
       "      <td>Sugar confectionery: (excluding chewing gum, i...</td>\n",
       "      <td>Antigua and Barbuda</td>\n",
       "      <td>Albania</td>\n",
       "      <td>7.111111</td>\n",
       "    </tr>\n",
       "    <tr>\n",
       "      <th>6</th>\n",
       "      <td>2012</td>\n",
       "      <td>28</td>\n",
       "      <td>8</td>\n",
       "      <td>80550</td>\n",
       "      <td>3.389</td>\n",
       "      <td>4.517</td>\n",
       "      <td>Fruit, edible: lemons (Citrus limon, Citrus li...</td>\n",
       "      <td>Antigua and Barbuda</td>\n",
       "      <td>Albania</td>\n",
       "      <td>0.750277</td>\n",
       "    </tr>\n",
       "    <tr>\n",
       "      <th>7</th>\n",
       "      <td>2012</td>\n",
       "      <td>28</td>\n",
       "      <td>8</td>\n",
       "      <td>200811</td>\n",
       "      <td>1.571</td>\n",
       "      <td>0.427</td>\n",
       "      <td>Nuts: ground-nuts, whether or not containing a...</td>\n",
       "      <td>Antigua and Barbuda</td>\n",
       "      <td>Albania</td>\n",
       "      <td>3.679157</td>\n",
       "    </tr>\n",
       "    <tr>\n",
       "      <th>8</th>\n",
       "      <td>2012</td>\n",
       "      <td>28</td>\n",
       "      <td>8</td>\n",
       "      <td>190531</td>\n",
       "      <td>0.030</td>\n",
       "      <td>0.005</td>\n",
       "      <td>Food preparations: sweet biscuits, whether or ...</td>\n",
       "      <td>Antigua and Barbuda</td>\n",
       "      <td>Albania</td>\n",
       "      <td>6.000000</td>\n",
       "    </tr>\n",
       "    <tr>\n",
       "      <th>9</th>\n",
       "      <td>2012</td>\n",
       "      <td>28</td>\n",
       "      <td>8</td>\n",
       "      <td>230400</td>\n",
       "      <td>15.601</td>\n",
       "      <td>25.000</td>\n",
       "      <td>Oil-cake and other solid residues: whether or ...</td>\n",
       "      <td>Antigua and Barbuda</td>\n",
       "      <td>Albania</td>\n",
       "      <td>0.624040</td>\n",
       "    </tr>\n",
       "  </tbody>\n",
       "</table>\n",
       "</div>"
      ],
      "text/plain": [
       "      t   i  j       k       v       q  \\\n",
       "0  2012   4  8  610469   2.734   0.044   \n",
       "1  2012   4  8  630900   0.110   0.082   \n",
       "2  2012  20  8  910211   2.314   0.003   \n",
       "3  2012  20  8  960810   0.144     NaN   \n",
       "4  2012  20  8   80510   1.457   2.228   \n",
       "5  2012  28  8  170490   0.064   0.009   \n",
       "6  2012  28  8   80550   3.389   4.517   \n",
       "7  2012  28  8  200811   1.571   0.427   \n",
       "8  2012  28  8  190531   0.030   0.005   \n",
       "9  2012  28  8  230400  15.601  25.000   \n",
       "\n",
       "                                         description               name_i  \\\n",
       "0  Trousers, bib and brace overalls, breeches and...          Afghanistan   \n",
       "1            Clothing: worn, and other worn articles          Afghanistan   \n",
       "2  Wrist-watches: electrically operated, with or ...              Andorra   \n",
       "3                                   Pens: ball point              Andorra   \n",
       "4             Fruit, edible: oranges, fresh or dried              Andorra   \n",
       "5  Sugar confectionery: (excluding chewing gum, i...  Antigua and Barbuda   \n",
       "6  Fruit, edible: lemons (Citrus limon, Citrus li...  Antigua and Barbuda   \n",
       "7  Nuts: ground-nuts, whether or not containing a...  Antigua and Barbuda   \n",
       "8  Food preparations: sweet biscuits, whether or ...  Antigua and Barbuda   \n",
       "9  Oil-cake and other solid residues: whether or ...  Antigua and Barbuda   \n",
       "\n",
       "    name_j   avg_price  \n",
       "0  Albania   62.136364  \n",
       "1  Albania    1.341463  \n",
       "2  Albania  771.333333  \n",
       "3  Albania         NaN  \n",
       "4  Albania    0.653950  \n",
       "5  Albania    7.111111  \n",
       "6  Albania    0.750277  \n",
       "7  Albania    3.679157  \n",
       "8  Albania    6.000000  \n",
       "9  Albania    0.624040  "
      ]
     },
     "execution_count": 42,
     "metadata": {},
     "output_type": "execute_result"
    }
   ],
   "source": [
    "df_wdes.head(10)"
   ]
  },
  {
   "cell_type": "markdown",
   "metadata": {
    "slideshow": {
     "slide_type": "slide"
    }
   },
   "source": [
    "__Selecting and slicing__"
   ]
  },
  {
   "cell_type": "code",
   "execution_count": 43,
   "metadata": {
    "slideshow": {
     "slide_type": "-"
    }
   },
   "outputs": [],
   "source": [
    "avg18 = df_wdes.loc[df_wdes.t==2018]['avg_price']"
   ]
  },
  {
   "cell_type": "markdown",
   "metadata": {
    "slideshow": {
     "slide_type": "-"
    }
   },
   "source": [
    "Now call compute to actually make a DataFrame:"
   ]
  },
  {
   "cell_type": "code",
   "execution_count": 44,
   "metadata": {
    "slideshow": {
     "slide_type": "-"
    }
   },
   "outputs": [],
   "source": [
    "ex = avg18.compute()"
   ]
  },
  {
   "cell_type": "code",
   "execution_count": 45,
   "metadata": {
    "slideshow": {
     "slide_type": "-"
    }
   },
   "outputs": [
    {
     "data": {
      "text/plain": [
       "0             4.400577\n",
       "1           375.857143\n",
       "2            33.822069\n",
       "3            17.344262\n",
       "4             1.149123\n",
       "              ...     \n",
       "1367573      25.013333\n",
       "1367574       4.453061\n",
       "1367575     112.579270\n",
       "1367576    5000.000000\n",
       "1367577      30.149686\n",
       "Name: avg_price, Length: 11167345, dtype: float64"
      ]
     },
     "execution_count": 45,
     "metadata": {},
     "output_type": "execute_result"
    }
   ],
   "source": [
    "ex"
   ]
  },
  {
   "cell_type": "markdown",
   "metadata": {
    "slideshow": {
     "slide_type": "slide"
    }
   },
   "source": [
    "__Statistical functions__"
   ]
  },
  {
   "cell_type": "code",
   "execution_count": 46,
   "metadata": {
    "slideshow": {
     "slide_type": "-"
    }
   },
   "outputs": [
    {
     "data": {
      "text/plain": [
       "686.1705899366867"
      ]
     },
     "execution_count": 46,
     "metadata": {},
     "output_type": "execute_result"
    }
   ],
   "source": [
    "avg18.mean().compute()"
   ]
  },
  {
   "cell_type": "code",
   "execution_count": 47,
   "metadata": {
    "slideshow": {
     "slide_type": "-"
    }
   },
   "outputs": [
    {
     "data": {
      "text/plain": [
       "39495527007.07975"
      ]
     },
     "execution_count": 47,
     "metadata": {},
     "output_type": "execute_result"
    }
   ],
   "source": [
    "avg18.var().compute()"
   ]
  },
  {
   "cell_type": "markdown",
   "metadata": {
    "slideshow": {
     "slide_type": "slide"
    }
   },
   "source": [
    "__Typical pandas functionality__"
   ]
  },
  {
   "cell_type": "code",
   "execution_count": 48,
   "metadata": {
    "slideshow": {
     "slide_type": "-"
    }
   },
   "outputs": [],
   "source": [
    "product_counts = df['k'].value_counts().compute()\n",
    "\n",
    "product_dict = products.set_index(\"k\")['description'].to_dict()\n",
    "\n",
    "product_counts.index=  pd.Series(product_counts.index).replace(product_dict)"
   ]
  },
  {
   "cell_type": "code",
   "execution_count": 49,
   "metadata": {
    "slideshow": {
     "slide_type": "-"
    }
   },
   "outputs": [
    {
     "data": {
      "text/plain": [
       "k\n",
       "Plastics: other articles n.e.c. in chapter 39                                                                                                                                                                             117540\n",
       "Iron or steel: articles n.e.c.in heading 7326                                                                                                                                                                             102137\n",
       "Printed matter: books, brochures, leaflets and similar printed matter n.e.c. in item no. 4901.10 or 4901.91                                                                                                                93445\n",
       "T-shirts, singlets and other vests: of cotton, knitted or crocheted                                                                                                                                                        92834\n",
       "Electrical static converters                                                                                                                                                                                               92771\n",
       "Vehicle parts and accessories: n.e.c. in heading no. 8708                                                                                                                                                                  92214\n",
       "Rubber: vulcanised (other than hard rubber), gaskets, washers and other seals, of non-cellular rubber                                                                                                                      88414\n",
       "Communication apparatus (excluding telephone sets or base stations): machines for the reception, conversion and transmission or regeneration of voice, images or other data, including switching and routing apparatus     88356\n",
       "Taps, cocks, valves and similar appliances: for pipes, boiler shells, tanks, vats or the like, including thermostatically controlled valves                                                                                86790\n",
       "Food preparations: n.e.c. in item no. 2106.10                                                                                                                                                                              86776\n",
       "Name: count, dtype: int64"
      ]
     },
     "execution_count": 49,
     "metadata": {},
     "output_type": "execute_result"
    }
   ],
   "source": [
    "product_counts.head(10)"
   ]
  },
  {
   "cell_type": "code",
   "execution_count": 50,
   "metadata": {
    "slideshow": {
     "slide_type": "slide"
    }
   },
   "outputs": [
    {
     "data": {
      "text/plain": [
       "1336879    7.059573e+08\n",
       "90921      6.965135e+08\n",
       "117372     6.924810e+08\n",
       "108906     6.868821e+08\n",
       "121201     6.857592e+08\n",
       "109270     6.776354e+08\n",
       "113560     6.497960e+08\n",
       "1431949    6.115246e+08\n",
       "98624      5.912236e+08\n",
       "1563422    5.808956e+08\n",
       "Name: q, dtype: float64"
      ]
     },
     "execution_count": 50,
     "metadata": {},
     "output_type": "execute_result"
    }
   ],
   "source": [
    "df['q'].nlargest(10).compute()"
   ]
  },
  {
   "cell_type": "markdown",
   "metadata": {
    "slideshow": {
     "slide_type": "-"
    }
   },
   "source": [
    "In this case, `nlargest` returns the n largest elements of a column.\n",
    "\n",
    "It also does groupby in parallel:"
   ]
  },
  {
   "cell_type": "code",
   "execution_count": 38,
   "metadata": {
    "slideshow": {
     "slide_type": "slide"
    }
   },
   "outputs": [],
   "source": [
    "country_v_sums = df.groupby(\"i\")['v'].sum().compute()"
   ]
  },
  {
   "cell_type": "code",
   "execution_count": 40,
   "metadata": {
    "collapsed": true
   },
   "outputs": [
    {
     "data": {
      "text/html": [
       "<div>\n",
       "<style scoped>\n",
       "    .dataframe tbody tr th:only-of-type {\n",
       "        vertical-align: middle;\n",
       "    }\n",
       "\n",
       "    .dataframe tbody tr th {\n",
       "        vertical-align: top;\n",
       "    }\n",
       "\n",
       "    .dataframe thead th {\n",
       "        text-align: right;\n",
       "    }\n",
       "</style>\n",
       "<table border=\"1\" class=\"dataframe\">\n",
       "  <thead>\n",
       "    <tr style=\"text-align: right;\">\n",
       "      <th></th>\n",
       "      <th>j</th>\n",
       "      <th>country_name_abbreviation</th>\n",
       "      <th>name_j</th>\n",
       "      <th>iso_2digit_alpha</th>\n",
       "      <th>iso_3digit_alpha</th>\n",
       "    </tr>\n",
       "  </thead>\n",
       "  <tbody>\n",
       "    <tr>\n",
       "      <th>0</th>\n",
       "      <td>4</td>\n",
       "      <td>Afghanistan</td>\n",
       "      <td>Afghanistan</td>\n",
       "      <td>AF</td>\n",
       "      <td>AFG</td>\n",
       "    </tr>\n",
       "    <tr>\n",
       "      <th>1</th>\n",
       "      <td>8</td>\n",
       "      <td>Albania</td>\n",
       "      <td>Albania</td>\n",
       "      <td>AL</td>\n",
       "      <td>ALB</td>\n",
       "    </tr>\n",
       "    <tr>\n",
       "      <th>2</th>\n",
       "      <td>12</td>\n",
       "      <td>Algeria</td>\n",
       "      <td>Algeria</td>\n",
       "      <td>DZ</td>\n",
       "      <td>DZA</td>\n",
       "    </tr>\n",
       "    <tr>\n",
       "      <th>3</th>\n",
       "      <td>16</td>\n",
       "      <td>American Samoa</td>\n",
       "      <td>American Samoa</td>\n",
       "      <td>AS</td>\n",
       "      <td>ASM</td>\n",
       "    </tr>\n",
       "    <tr>\n",
       "      <th>4</th>\n",
       "      <td>20</td>\n",
       "      <td>Andorra</td>\n",
       "      <td>Andorra</td>\n",
       "      <td>AD</td>\n",
       "      <td>AND</td>\n",
       "    </tr>\n",
       "    <tr>\n",
       "      <th>...</th>\n",
       "      <td>...</td>\n",
       "      <td>...</td>\n",
       "      <td>...</td>\n",
       "      <td>...</td>\n",
       "      <td>...</td>\n",
       "    </tr>\n",
       "    <tr>\n",
       "      <th>222</th>\n",
       "      <td>876</td>\n",
       "      <td>Wallis and Futuna Isds</td>\n",
       "      <td>Wallis and Futuna Islands</td>\n",
       "      <td>WF</td>\n",
       "      <td>WLF</td>\n",
       "    </tr>\n",
       "    <tr>\n",
       "      <th>223</th>\n",
       "      <td>882</td>\n",
       "      <td>Samoa</td>\n",
       "      <td>Samoa</td>\n",
       "      <td>WS</td>\n",
       "      <td>WSM</td>\n",
       "    </tr>\n",
       "    <tr>\n",
       "      <th>224</th>\n",
       "      <td>887</td>\n",
       "      <td>Yemen</td>\n",
       "      <td>Yemen</td>\n",
       "      <td>YE</td>\n",
       "      <td>YEM</td>\n",
       "    </tr>\n",
       "    <tr>\n",
       "      <th>225</th>\n",
       "      <td>891</td>\n",
       "      <td>Serbia and Montenegro</td>\n",
       "      <td>Serbia and Montenegro</td>\n",
       "      <td>CS</td>\n",
       "      <td>SCG</td>\n",
       "    </tr>\n",
       "    <tr>\n",
       "      <th>226</th>\n",
       "      <td>894</td>\n",
       "      <td>Zambia</td>\n",
       "      <td>Zambia</td>\n",
       "      <td>ZM</td>\n",
       "      <td>ZMB</td>\n",
       "    </tr>\n",
       "  </tbody>\n",
       "</table>\n",
       "<p>227 rows × 5 columns</p>\n",
       "</div>"
      ],
      "text/plain": [
       "       j country_name_abbreviation                     name_j  \\\n",
       "0      4               Afghanistan                Afghanistan   \n",
       "1      8                   Albania                    Albania   \n",
       "2     12                   Algeria                    Algeria   \n",
       "3     16            American Samoa             American Samoa   \n",
       "4     20                   Andorra                    Andorra   \n",
       "..   ...                       ...                        ...   \n",
       "222  876    Wallis and Futuna Isds  Wallis and Futuna Islands   \n",
       "223  882                     Samoa                      Samoa   \n",
       "224  887                     Yemen                      Yemen   \n",
       "225  891     Serbia and Montenegro      Serbia and Montenegro   \n",
       "226  894                    Zambia                     Zambia   \n",
       "\n",
       "    iso_2digit_alpha iso_3digit_alpha  \n",
       "0                 AF              AFG  \n",
       "1                 AL              ALB  \n",
       "2                 DZ              DZA  \n",
       "3                 AS              ASM  \n",
       "4                 AD              AND  \n",
       "..               ...              ...  \n",
       "222               WF              WLF  \n",
       "223               WS              WSM  \n",
       "224               YE              YEM  \n",
       "225               CS              SCG  \n",
       "226               ZM              ZMB  \n",
       "\n",
       "[227 rows x 5 columns]"
      ]
     },
     "execution_count": 40,
     "metadata": {},
     "output_type": "execute_result"
    }
   ],
   "source": [
    "countries"
   ]
  },
  {
   "cell_type": "code",
   "execution_count": 44,
   "metadata": {
    "scrolled": true
   },
   "outputs": [
    {
     "data": {
      "text/html": [
       "<div>\n",
       "<style scoped>\n",
       "    .dataframe tbody tr th:only-of-type {\n",
       "        vertical-align: middle;\n",
       "    }\n",
       "\n",
       "    .dataframe tbody tr th {\n",
       "        vertical-align: top;\n",
       "    }\n",
       "\n",
       "    .dataframe thead th {\n",
       "        text-align: right;\n",
       "    }\n",
       "</style>\n",
       "<table border=\"1\" class=\"dataframe\">\n",
       "  <thead>\n",
       "    <tr style=\"text-align: right;\">\n",
       "      <th></th>\n",
       "      <th>i</th>\n",
       "      <th>v</th>\n",
       "      <th>j</th>\n",
       "      <th>country_name_abbreviation</th>\n",
       "      <th>name_j</th>\n",
       "      <th>iso_2digit_alpha</th>\n",
       "      <th>iso_3digit_alpha</th>\n",
       "    </tr>\n",
       "  </thead>\n",
       "  <tbody>\n",
       "    <tr>\n",
       "      <th>0</th>\n",
       "      <td>156</td>\n",
       "      <td>2.249401e+10</td>\n",
       "      <td>156.0</td>\n",
       "      <td>China</td>\n",
       "      <td>China</td>\n",
       "      <td>CN</td>\n",
       "      <td>CHN</td>\n",
       "    </tr>\n",
       "    <tr>\n",
       "      <th>1</th>\n",
       "      <td>842</td>\n",
       "      <td>1.319568e+10</td>\n",
       "      <td>842.0</td>\n",
       "      <td>USA</td>\n",
       "      <td>USA, Puerto Rico and US Virgin Islands</td>\n",
       "      <td>US</td>\n",
       "      <td>USA</td>\n",
       "    </tr>\n",
       "    <tr>\n",
       "      <th>2</th>\n",
       "      <td>276</td>\n",
       "      <td>1.223787e+10</td>\n",
       "      <td>276.0</td>\n",
       "      <td>Germany</td>\n",
       "      <td>Germany</td>\n",
       "      <td>DE</td>\n",
       "      <td>DEU</td>\n",
       "    </tr>\n",
       "    <tr>\n",
       "      <th>3</th>\n",
       "      <td>392</td>\n",
       "      <td>6.673620e+09</td>\n",
       "      <td>392.0</td>\n",
       "      <td>Japan</td>\n",
       "      <td>Japan</td>\n",
       "      <td>JP</td>\n",
       "      <td>JPN</td>\n",
       "    </tr>\n",
       "    <tr>\n",
       "      <th>4</th>\n",
       "      <td>410</td>\n",
       "      <td>5.191421e+09</td>\n",
       "      <td>410.0</td>\n",
       "      <td>Rep. of Korea</td>\n",
       "      <td>Republic of Korea</td>\n",
       "      <td>KR</td>\n",
       "      <td>KOR</td>\n",
       "    </tr>\n",
       "    <tr>\n",
       "      <th>5</th>\n",
       "      <td>251</td>\n",
       "      <td>4.905990e+09</td>\n",
       "      <td>251.0</td>\n",
       "      <td>France</td>\n",
       "      <td>France, Monaco</td>\n",
       "      <td>FR</td>\n",
       "      <td>FRA</td>\n",
       "    </tr>\n",
       "    <tr>\n",
       "      <th>6</th>\n",
       "      <td>381</td>\n",
       "      <td>4.451748e+09</td>\n",
       "      <td>381.0</td>\n",
       "      <td>Italy</td>\n",
       "      <td>Italy</td>\n",
       "      <td>IT</td>\n",
       "      <td>ITA</td>\n",
       "    </tr>\n",
       "    <tr>\n",
       "      <th>7</th>\n",
       "      <td>528</td>\n",
       "      <td>4.450314e+09</td>\n",
       "      <td>528.0</td>\n",
       "      <td>Netherlands</td>\n",
       "      <td>Netherlands</td>\n",
       "      <td>NL</td>\n",
       "      <td>NLD</td>\n",
       "    </tr>\n",
       "    <tr>\n",
       "      <th>8</th>\n",
       "      <td>826</td>\n",
       "      <td>3.804737e+09</td>\n",
       "      <td>826.0</td>\n",
       "      <td>United Kingdom</td>\n",
       "      <td>United Kingdom</td>\n",
       "      <td>GB</td>\n",
       "      <td>GBR</td>\n",
       "    </tr>\n",
       "    <tr>\n",
       "      <th>9</th>\n",
       "      <td>124</td>\n",
       "      <td>3.770678e+09</td>\n",
       "      <td>124.0</td>\n",
       "      <td>Canada</td>\n",
       "      <td>Canada</td>\n",
       "      <td>CA</td>\n",
       "      <td>CAN</td>\n",
       "    </tr>\n",
       "  </tbody>\n",
       "</table>\n",
       "</div>"
      ],
      "text/plain": [
       "     i             v      j country_name_abbreviation  \\\n",
       "0  156  2.249401e+10  156.0                     China   \n",
       "1  842  1.319568e+10  842.0                       USA   \n",
       "2  276  1.223787e+10  276.0                   Germany   \n",
       "3  392  6.673620e+09  392.0                     Japan   \n",
       "4  410  5.191421e+09  410.0             Rep. of Korea   \n",
       "5  251  4.905990e+09  251.0                    France   \n",
       "6  381  4.451748e+09  381.0                     Italy   \n",
       "7  528  4.450314e+09  528.0               Netherlands   \n",
       "8  826  3.804737e+09  826.0            United Kingdom   \n",
       "9  124  3.770678e+09  124.0                    Canada   \n",
       "\n",
       "                                   name_j iso_2digit_alpha iso_3digit_alpha  \n",
       "0                                   China               CN              CHN  \n",
       "1  USA, Puerto Rico and US Virgin Islands               US              USA  \n",
       "2                                 Germany               DE              DEU  \n",
       "3                                   Japan               JP              JPN  \n",
       "4                       Republic of Korea               KR              KOR  \n",
       "5                          France, Monaco               FR              FRA  \n",
       "6                                   Italy               IT              ITA  \n",
       "7                             Netherlands               NL              NLD  \n",
       "8                          United Kingdom               GB              GBR  \n",
       "9                                  Canada               CA              CAN  "
      ]
     },
     "execution_count": 44,
     "metadata": {},
     "output_type": "execute_result"
    }
   ],
   "source": [
    "country_v_sums.sort_values(ascending=False).reset_index().merge(countries,how=\"left\",right_on=\"j\",left_on=\"i\").head(10)"
   ]
  },
  {
   "cell_type": "markdown",
   "metadata": {
    "slideshow": {
     "slide_type": "-"
    }
   },
   "source": [
    "You'll notice another advantage of this framework is that you can do standard `pandas` operations but in parallel."
   ]
  },
  {
   "cell_type": "markdown",
   "metadata": {
    "slideshow": {
     "slide_type": "slide"
    }
   },
   "source": [
    "## Dask Bags\n",
    "This works with dataframes well, but about with python objects?\n",
    "\n",
    "This is what `bags` are for. Bags essentially hold a list of python objects which can be parsed with any function necessary. \n",
    "\n",
    "This is handier for something like text analysis or image analysis where our objects are unstructured."
   ]
  },
  {
   "cell_type": "code",
   "execution_count": 45,
   "metadata": {
    "slideshow": {
     "slide_type": "slide"
    }
   },
   "outputs": [],
   "source": [
    "import dask.bag as db\n",
    "import json\n",
    "\n",
    "doge = db.read_text('C:/Users/jhtchns2/Box/ACE_592_SAE/Class_Examples/3_Numeric/doge_tweets*.json')"
   ]
  },
  {
   "cell_type": "code",
   "execution_count": 46,
   "metadata": {
    "scrolled": true,
    "slideshow": {
     "slide_type": "-"
    }
   },
   "outputs": [
    {
     "data": {
      "text/plain": [
       "('[{\"created_at\":\"Tue Feb 02 14:10:12 +0000 2021\",\"id\":1356605843580588034,\"id_str\":\"1356605843580588034\",\"text\":\"RT @lotsoftips: Wow #doge is ready to pop \\\\ud83d\\\\ude80\\\\n\\\\n#dogearmy #dogetothemoon #DogeToAdollar https:\\\\/\\\\/t.co\\\\/ZmJUQNeVpn\",\"source\":\"\\\\u003ca href=\\\\\"http:\\\\/\\\\/twitter.com\\\\/download\\\\/android\\\\\" rel=\\\\\"nofollow\\\\\"\\\\u003eTwitter for Android\\\\u003c\\\\/a\\\\u003e\",\"truncated\":false,\"in_reply_to_status_id\":null,\"in_reply_to_status_id_str\":null,\"in_reply_to_user_id\":null,\"in_reply_to_user_id_str\":null,\"in_reply_to_screen_name\":null,\"user\":{\"id\":1355879070089814021,\"id_str\":\"1355879070089814021\",\"name\":\"DOGECOIN UNIVERSE\",\"screen_name\":\"DOGECOINUNIVER1\",\"location\":\"New York, NY\",\"url\":null,\"description\":\"Welcome to Dogecoin Universe. Where you can find updates and inspiration on your #dogecoin investment. #BUYDOGECOIN The Future Is Ours! #Dogecoinarmy\",\"translator_type\":\"none\",\"protected\":false,\"verified\":false,\"followers_count\":152,\"friends_count\":609,\"listed_count\":0,\"favourites_count\":1902,\"statuses_count\":1031,\"created_at\":\"Sun Jan 31 14:02:49 +0000 2021\",\"utc_offset\":null,\"time_zone\":null,\"geo_enabled\":false,\"lang\":null,\"contributors_enabled\":false,\"is_translator\":false,\"profile_background_color\":\"F5F8FA\",\"profile_background_image_url\":\"\",\"profile_background_image_url_https\":\"\",\"profile_background_tile\":false,\"profile_link_color\":\"1DA1F2\",\"profile_sidebar_border_color\":\"C0DEED\",\"profile_sidebar_fill_color\":\"DDEEF6\",\"profile_text_color\":\"333333\",\"profile_use_background_image\":true,\"profile_image_url\":\"http:\\\\/\\\\/pbs.twimg.com\\\\/profile_images\\\\/1355916502365560839\\\\/d4wEvlfr_normal.jpg\",\"profile_image_url_https\":\"https:\\\\/\\\\/pbs.twimg.com\\\\/profile_images\\\\/1355916502365560839\\\\/d4wEvlfr_normal.jpg\",\"profile_banner_url\":\"https:\\\\/\\\\/pbs.twimg.com\\\\/profile_banners\\\\/1355879070089814021\\\\/1612200724\",\"default_profile\":true,\"default_profile_image\":false,\"following\":null,\"follow_request_sent\":null,\"notifications\":null},\"geo\":null,\"coordinates\":null,\"place\":null,\"contributors\":null,\"retweeted_status\":{\"created_at\":\"Tue Feb 02 14:09:24 +0000 2021\",\"id\":1356605644057546753,\"id_str\":\"1356605644057546753\",\"text\":\"Wow #doge is ready to pop \\\\ud83d\\\\ude80\\\\n\\\\n#dogearmy #dogetothemoon #DogeToAdollar https:\\\\/\\\\/t.co\\\\/ZmJUQNeVpn\",\"display_text_range\":[0,68],\"source\":\"\\\\u003ca href=\\\\\"https:\\\\/\\\\/mobile.twitter.com\\\\\" rel=\\\\\"nofollow\\\\\"\\\\u003eTwitter Web App\\\\u003c\\\\/a\\\\u003e\",\"truncated\":false,\"in_reply_to_status_id\":null,\"in_reply_to_status_id_str\":null,\"in_reply_to_user_id\":null,\"in_reply_to_user_id_str\":null,\"in_reply_to_screen_name\":null,\"user\":{\"id\":2257170955,\"id_str\":\"2257170955\",\"name\":\"Lots of Tips\",\"screen_name\":\"lotsoftips\",\"location\":null,\"url\":null,\"description\":null,\"translator_type\":\"none\",\"protected\":false,\"verified\":false,\"followers_count\":75,\"friends_count\":438,\"listed_count\":0,\"favourites_count\":53,\"statuses_count\":157,\"created_at\":\"Sun Dec 22 02:22:25 +0000 2013\",\"utc_offset\":null,\"time_zone\":null,\"geo_enabled\":false,\"lang\":null,\"contributors_enabled\":false,\"is_translator\":false,\"profile_background_color\":\"C0DEED\",\"profile_background_image_url\":\"http:\\\\/\\\\/abs.twimg.com\\\\/images\\\\/themes\\\\/theme1\\\\/bg.png\",\"profile_background_image_url_https\":\"https:\\\\/\\\\/abs.twimg.com\\\\/images\\\\/themes\\\\/theme1\\\\/bg.png\",\"profile_background_tile\":false,\"profile_link_color\":\"1DA1F2\",\"profile_sidebar_border_color\":\"C0DEED\",\"profile_sidebar_fill_color\":\"DDEEF6\",\"profile_text_color\":\"333333\",\"profile_use_background_image\":true,\"profile_image_url\":\"http:\\\\/\\\\/pbs.twimg.com\\\\/profile_images\\\\/414582456373637120\\\\/zDHcZBWX_normal.jpeg\",\"profile_image_url_https\":\"https:\\\\/\\\\/pbs.twimg.com\\\\/profile_images\\\\/414582456373637120\\\\/zDHcZBWX_normal.jpeg\",\"default_profile\":true,\"default_profile_image\":false,\"following\":null,\"follow_request_sent\":null,\"notifications\":null},\"geo\":null,\"coordinates\":null,\"place\":null,\"contributors\":null,\"is_quote_status\":false,\"quote_count\":0,\"reply_count\":0,\"retweet_count\":1,\"favorite_count\":2,\"entities\":{\"hashtags\":[{\"text\":\"doge\",\"indices\":[4,9]},{\"text\":\"dogearmy\",\"indices\":[29,38]},{\"text\":\"dogetothemoon\",\"indices\":[39,53]},{\"text\":\"DogeToAdollar\",\"indices\":[54,68]}],\"urls\":[],\"user_mentions\":[],\"symbols\":[],\"media\":[{\"id\":1356605511618203654,\"id_str\":\"1356605511618203654\",\"indices\":[69,92],\"media_url\":\"http:\\\\/\\\\/pbs.twimg.com\\\\/media\\\\/EtOhhnRXEAY4Y4U.jpg\",\"media_url_https\":\"https:\\\\/\\\\/pbs.twimg.com\\\\/media\\\\/EtOhhnRXEAY4Y4U.jpg\",\"url\":\"https:\\\\/\\\\/t.co\\\\/ZmJUQNeVpn\",\"display_url\":\"pic.twitter.com\\\\/ZmJUQNeVpn\",\"expanded_url\":\"https:\\\\/\\\\/twitter.com\\\\/lotsoftips\\\\/status\\\\/1356605644057546753\\\\/photo\\\\/1\",\"type\":\"photo\",\"sizes\":{\"thumb\":{\"w\":150,\"h\":150,\"resize\":\"crop\"},\"large\":{\"w\":2048,\"h\":543,\"resize\":\"fit\"},\"medium\":{\"w\":1200,\"h\":318,\"resize\":\"fit\"},\"small\":{\"w\":680,\"h\":180,\"resize\":\"fit\"}}}]},\"extended_entities\":{\"media\":[{\"id\":1356605511618203654,\"id_str\":\"1356605511618203654\",\"indices\":[69,92],\"media_url\":\"http:\\\\/\\\\/pbs.twimg.com\\\\/media\\\\/EtOhhnRXEAY4Y4U.jpg\",\"media_url_https\":\"https:\\\\/\\\\/pbs.twimg.com\\\\/media\\\\/EtOhhnRXEAY4Y4U.jpg\",\"url\":\"https:\\\\/\\\\/t.co\\\\/ZmJUQNeVpn\",\"display_url\":\"pic.twitter.com\\\\/ZmJUQNeVpn\",\"expanded_url\":\"https:\\\\/\\\\/twitter.com\\\\/lotsoftips\\\\/status\\\\/1356605644057546753\\\\/photo\\\\/1\",\"type\":\"photo\",\"sizes\":{\"thumb\":{\"w\":150,\"h\":150,\"resize\":\"crop\"},\"large\":{\"w\":2048,\"h\":543,\"resize\":\"fit\"},\"medium\":{\"w\":1200,\"h\":318,\"resize\":\"fit\"},\"small\":{\"w\":680,\"h\":180,\"resize\":\"fit\"}}}]},\"favorited\":false,\"retweeted\":false,\"possibly_sensitive\":false,\"filter_level\":\"low\",\"lang\":\"en\"},\"is_quote_status\":false,\"quote_count\":0,\"reply_count\":0,\"retweet_count\":0,\"favorite_count\":0,\"entities\":{\"hashtags\":[{\"text\":\"doge\",\"indices\":[20,25]},{\"text\":\"dogearmy\",\"indices\":[45,54]},{\"text\":\"dogetothemoon\",\"indices\":[55,69]},{\"text\":\"DogeToAdollar\",\"indices\":[70,84]}],\"urls\":[],\"user_mentions\":[{\"screen_name\":\"lotsoftips\",\"name\":\"Lots of Tips\",\"id\":2257170955,\"id_str\":\"2257170955\",\"indices\":[3,14]}],\"symbols\":[],\"media\":[{\"id\":1356605511618203654,\"id_str\":\"1356605511618203654\",\"indices\":[85,108],\"media_url\":\"http:\\\\/\\\\/pbs.twimg.com\\\\/media\\\\/EtOhhnRXEAY4Y4U.jpg\",\"media_url_https\":\"https:\\\\/\\\\/pbs.twimg.com\\\\/media\\\\/EtOhhnRXEAY4Y4U.jpg\",\"url\":\"https:\\\\/\\\\/t.co\\\\/ZmJUQNeVpn\",\"display_url\":\"pic.twitter.com\\\\/ZmJUQNeVpn\",\"expanded_url\":\"https:\\\\/\\\\/twitter.com\\\\/lotsoftips\\\\/status\\\\/1356605644057546753\\\\/photo\\\\/1\",\"type\":\"photo\",\"sizes\":{\"thumb\":{\"w\":150,\"h\":150,\"resize\":\"crop\"},\"large\":{\"w\":2048,\"h\":543,\"resize\":\"fit\"},\"medium\":{\"w\":1200,\"h\":318,\"resize\":\"fit\"},\"small\":{\"w\":680,\"h\":180,\"resize\":\"fit\"}},\"source_status_id\":1356605644057546753,\"source_status_id_str\":\"1356605644057546753\",\"source_user_id\":2257170955,\"source_user_id_str\":\"2257170955\"}]},\"extended_entities\":{\"media\":[{\"id\":1356605511618203654,\"id_str\":\"1356605511618203654\",\"indices\":[85,108],\"media_url\":\"http:\\\\/\\\\/pbs.twimg.com\\\\/media\\\\/EtOhhnRXEAY4Y4U.jpg\",\"media_url_https\":\"https:\\\\/\\\\/pbs.twimg.com\\\\/media\\\\/EtOhhnRXEAY4Y4U.jpg\",\"url\":\"https:\\\\/\\\\/t.co\\\\/ZmJUQNeVpn\",\"display_url\":\"pic.twitter.com\\\\/ZmJUQNeVpn\",\"expanded_url\":\"https:\\\\/\\\\/twitter.com\\\\/lotsoftips\\\\/status\\\\/1356605644057546753\\\\/photo\\\\/1\",\"type\":\"photo\",\"sizes\":{\"thumb\":{\"w\":150,\"h\":150,\"resize\":\"crop\"},\"large\":{\"w\":2048,\"h\":543,\"resize\":\"fit\"},\"medium\":{\"w\":1200,\"h\":318,\"resize\":\"fit\"},\"small\":{\"w\":680,\"h\":180,\"resize\":\"fit\"}},\"source_status_id\":1356605644057546753,\"source_status_id_str\":\"1356605644057546753\",\"source_user_id\":2257170955,\"source_user_id_str\":\"2257170955\"}]},\"favorited\":false,\"retweeted\":false,\"possibly_sensitive\":false,\"filter_level\":\"low\",\"lang\":\"en\",\"timestamp_ms\":\"1612275012284\"},\\n',)"
      ]
     },
     "execution_count": 46,
     "metadata": {},
     "output_type": "execute_result"
    }
   ],
   "source": [
    "doge.take(1)"
   ]
  },
  {
   "cell_type": "markdown",
   "metadata": {
    "slideshow": {
     "slide_type": "slide"
    }
   },
   "source": [
    "So now we've extracted a tweet! We could apply a function so that they become json objects:"
   ]
  },
  {
   "cell_type": "markdown",
   "metadata": {
    "slideshow": {
     "slide_type": "-"
    }
   },
   "source": [
    "To take each one individually, have to do some parsing of the strings so I wrote this function:"
   ]
  },
  {
   "cell_type": "code",
   "execution_count": 47,
   "metadata": {
    "slideshow": {
     "slide_type": "-"
    }
   },
   "outputs": [],
   "source": [
    "def make_json(x):\n",
    "    if x[0] ==\"[\":\n",
    "        extract = x[1:-2]\n",
    "    elif x[-1] ==\"]\":\n",
    "        extract = x[:-1]\n",
    "    else:\n",
    "        extract = x[:-2]\n",
    "    return json.loads(extract)"
   ]
  },
  {
   "cell_type": "code",
   "execution_count": 48,
   "metadata": {
    "slideshow": {
     "slide_type": "-"
    }
   },
   "outputs": [],
   "source": [
    "doge = doge.map(make_json)"
   ]
  },
  {
   "cell_type": "markdown",
   "metadata": {
    "slideshow": {
     "slide_type": "slide"
    }
   },
   "source": [
    "So now what if we wanted to extract all of the timestamps from the data?"
   ]
  },
  {
   "cell_type": "code",
   "execution_count": 49,
   "metadata": {
    "slideshow": {
     "slide_type": "-"
    }
   },
   "outputs": [],
   "source": [
    "times = doge.map(lambda x: x['created_at'])"
   ]
  },
  {
   "cell_type": "code",
   "execution_count": 50,
   "metadata": {},
   "outputs": [
    {
     "data": {
      "text/plain": [
       "dask.bag<lambda, npartitions=2>"
      ]
     },
     "execution_count": 50,
     "metadata": {},
     "output_type": "execute_result"
    }
   ],
   "source": [
    "times"
   ]
  },
  {
   "cell_type": "code",
   "execution_count": 51,
   "metadata": {
    "slideshow": {
     "slide_type": "-"
    }
   },
   "outputs": [],
   "source": [
    "time_stamps = times.compute()"
   ]
  },
  {
   "cell_type": "code",
   "execution_count": 65,
   "metadata": {
    "slideshow": {
     "slide_type": "slide"
    }
   },
   "outputs": [
    {
     "data": {
      "text/plain": [
       "0         Tue Feb 02 14:10:12 +0000 2021\n",
       "1         Tue Feb 02 14:10:13 +0000 2021\n",
       "2         Tue Feb 02 14:10:13 +0000 2021\n",
       "3         Tue Feb 02 14:10:16 +0000 2021\n",
       "4         Tue Feb 02 14:10:16 +0000 2021\n",
       "                       ...              \n",
       "138548    Tue Feb 02 21:39:41 +0000 2021\n",
       "138549    Tue Feb 02 21:39:41 +0000 2021\n",
       "138550    Tue Feb 02 21:39:42 +0000 2021\n",
       "138551    Tue Feb 02 21:39:42 +0000 2021\n",
       "138552    Tue Feb 02 21:39:43 +0000 2021\n",
       "Length: 138553, dtype: object"
      ]
     },
     "execution_count": 65,
     "metadata": {},
     "output_type": "execute_result"
    }
   ],
   "source": [
    "pd.Series(time_stamps)"
   ]
  },
  {
   "cell_type": "markdown",
   "metadata": {
    "slideshow": {
     "slide_type": "slide"
    }
   },
   "source": [
    "We could also write a function that processes the data in some way:"
   ]
  },
  {
   "cell_type": "code",
   "execution_count": 66,
   "metadata": {
    "slideshow": {
     "slide_type": "-"
    }
   },
   "outputs": [],
   "source": [
    "import re\n",
    "\n",
    "find_hashtags = re.compile(\"#\\w+\")\n",
    "\n",
    "def get_hashtags(x):\n",
    "    text = x['text']\n",
    "    return find_hashtags.findall(text)"
   ]
  },
  {
   "cell_type": "code",
   "execution_count": 67,
   "metadata": {
    "slideshow": {
     "slide_type": "slide"
    }
   },
   "outputs": [
    {
     "data": {
      "text/plain": [
       "[['#doge', '#dogearmy', '#dogetothemoon', '#DogeToAdollar'],\n",
       " ['#dogecoin'],\n",
       " [],\n",
       " ['#dogecoin'],\n",
       " ['#dogecoin', '#Cardano'],\n",
       " ['#Meth',\n",
       "  '#ETH',\n",
       "  '#future',\n",
       "  '#crypto',\n",
       "  '#coin',\n",
       "  '#btc',\n",
       "  '#bitcoin',\n",
       "  '#invest',\n",
       "  '#dogecoin'],\n",
       " ['#dogecointoadollar', '#DogecoinToTheMoon', '#dogecoin'],\n",
       " ['#DOGE'],\n",
       " [],\n",
       " []]"
      ]
     },
     "execution_count": 67,
     "metadata": {},
     "output_type": "execute_result"
    }
   ],
   "source": [
    "doge_hash = doge.map(get_hashtags)\n",
    "\n",
    "res = doge_hash.compute()\n",
    "\n",
    "res[:10]"
   ]
  },
  {
   "cell_type": "code",
   "execution_count": 68,
   "metadata": {
    "slideshow": {
     "slide_type": "slide"
    }
   },
   "outputs": [],
   "source": [
    "def flatten_list(_2d_list):\n",
    "    flat_list = []\n",
    "    # Iterate through the outer list\n",
    "    for element in _2d_list:\n",
    "        if type(element) is list:\n",
    "            # If the element is of type list, iterate through the sublist\n",
    "            for item in element:\n",
    "                flat_list.append(item)\n",
    "        else:\n",
    "            flat_list.append(element)\n",
    "    return flat_list"
   ]
  },
  {
   "cell_type": "code",
   "execution_count": 69,
   "metadata": {
    "slideshow": {
     "slide_type": "slide"
    }
   },
   "outputs": [
    {
     "data": {
      "text/plain": [
       "#dogecoin          60305\n",
       "#Dogecoin          39178\n",
       "#dogearmy          20241\n",
       "#DOGE              17123\n",
       "#doge              16769\n",
       "                   ...  \n",
       "#signal                2\n",
       "#raredigitalart        2\n",
       "#blockchai             2\n",
       "#dogeland              2\n",
       "#rally                 2\n",
       "Length: 2942, dtype: int64"
      ]
     },
     "execution_count": 69,
     "metadata": {},
     "output_type": "execute_result"
    }
   ],
   "source": [
    "hash_list = flatten_list(doge_hash)\n",
    "\n",
    "pd.Series(hash_list).value_counts()"
   ]
  },
  {
   "cell_type": "code",
   "execution_count": 70,
   "metadata": {
    "slideshow": {
     "slide_type": "-"
    }
   },
   "outputs": [
    {
     "data": {
      "text/plain": [
       "dask.bag<make_json, npartitions=2>"
      ]
     },
     "execution_count": 70,
     "metadata": {},
     "output_type": "execute_result"
    }
   ],
   "source": [
    "doge"
   ]
  },
  {
   "cell_type": "markdown",
   "metadata": {
    "slideshow": {
     "slide_type": "slide"
    }
   },
   "source": [
    "Only two partitions. Can me make it more?"
   ]
  },
  {
   "cell_type": "code",
   "execution_count": null,
   "metadata": {
    "slideshow": {
     "slide_type": "-"
    }
   },
   "outputs": [],
   "source": [
    "doge = doge.repartition(10)"
   ]
  },
  {
   "cell_type": "code",
   "execution_count": null,
   "metadata": {
    "slideshow": {
     "slide_type": "-"
    }
   },
   "outputs": [
    {
     "name": "stderr",
     "output_type": "stream",
     "text": [
      "2023-03-30 15:14:33,021 - distributed.nanny - WARNING - Restarting worker\n"
     ]
    }
   ],
   "source": [
    "doge.persist()"
   ]
  },
  {
   "cell_type": "code",
   "execution_count": 73,
   "metadata": {
    "slideshow": {
     "slide_type": "slide"
    }
   },
   "outputs": [
    {
     "name": "stderr",
     "output_type": "stream",
     "text": [
      "2023-03-30 15:09:54,514 - distributed.nanny.memory - WARNING - Worker tcp://127.0.0.1:52036 (pid=1528) exceeded 95% memory budget. Restarting...\n",
      "2023-03-30 15:09:55,881 - distributed.nanny - WARNING - Restarting worker\n",
      "2023-03-30 15:11:27,349 - distributed.nanny.memory - WARNING - Worker tcp://127.0.0.1:52031 (pid=12736) exceeded 95% memory budget. Restarting...\n",
      "2023-03-30 15:11:28,926 - distributed.nanny - WARNING - Restarting worker\n",
      "2023-03-30 15:12:57,890 - distributed.nanny.memory - WARNING - Worker tcp://127.0.0.1:52035 (pid=8296) exceeded 95% memory budget. Restarting...\n",
      "2023-03-30 15:12:59,352 - distributed.nanny - WARNING - Restarting worker\n",
      "2023-03-30 15:14:31,228 - distributed.nanny.memory - WARNING - Worker tcp://127.0.0.1:52328 (pid=21140) exceeded 95% memory budget. Restarting...\n"
     ]
    },
    {
     "ename": "KilledWorker",
     "evalue": "Attempted to run task ('repartition-get_hashtags-3670b0c5a5a4288afe144f0db46e5549', 3) on 3 different workers, but all those workers died while running it. The last worker that attempt to run the task was tcp://127.0.0.1:52328. Inspecting worker logs is often a good next step to diagnose what went wrong. For more information see https://distributed.dask.org/en/stable/killed.html.",
     "output_type": "error",
     "traceback": [
      "\u001b[1;31m---------------------------------------------------------------------------\u001b[0m",
      "\u001b[1;31mKilledWorker\u001b[0m                              Traceback (most recent call last)",
      "Cell \u001b[1;32mIn[73], line 3\u001b[0m\n\u001b[0;32m      1\u001b[0m doge_hash \u001b[38;5;241m=\u001b[39m doge\u001b[38;5;241m.\u001b[39mmap(get_hashtags)\n\u001b[1;32m----> 3\u001b[0m res \u001b[38;5;241m=\u001b[39m \u001b[43mdoge_hash\u001b[49m\u001b[38;5;241;43m.\u001b[39;49m\u001b[43mcompute\u001b[49m\u001b[43m(\u001b[49m\u001b[43m)\u001b[49m\n\u001b[0;32m      5\u001b[0m res[:\u001b[38;5;241m10\u001b[39m]\n",
      "File \u001b[1;32m~\\.conda\\envs\\test\\Lib\\site-packages\\dask\\base.py:314\u001b[0m, in \u001b[0;36mDaskMethodsMixin.compute\u001b[1;34m(self, **kwargs)\u001b[0m\n\u001b[0;32m    290\u001b[0m \u001b[38;5;28;01mdef\u001b[39;00m \u001b[38;5;21mcompute\u001b[39m(\u001b[38;5;28mself\u001b[39m, \u001b[38;5;241m*\u001b[39m\u001b[38;5;241m*\u001b[39mkwargs):\n\u001b[0;32m    291\u001b[0m \u001b[38;5;250m    \u001b[39m\u001b[38;5;124;03m\"\"\"Compute this dask collection\u001b[39;00m\n\u001b[0;32m    292\u001b[0m \n\u001b[0;32m    293\u001b[0m \u001b[38;5;124;03m    This turns a lazy Dask collection into its in-memory equivalent.\u001b[39;00m\n\u001b[1;32m   (...)\u001b[0m\n\u001b[0;32m    312\u001b[0m \u001b[38;5;124;03m    dask.base.compute\u001b[39;00m\n\u001b[0;32m    313\u001b[0m \u001b[38;5;124;03m    \"\"\"\u001b[39;00m\n\u001b[1;32m--> 314\u001b[0m     (result,) \u001b[38;5;241m=\u001b[39m \u001b[43mcompute\u001b[49m\u001b[43m(\u001b[49m\u001b[38;5;28;43mself\u001b[39;49m\u001b[43m,\u001b[49m\u001b[43m \u001b[49m\u001b[43mtraverse\u001b[49m\u001b[38;5;241;43m=\u001b[39;49m\u001b[38;5;28;43;01mFalse\u001b[39;49;00m\u001b[43m,\u001b[49m\u001b[43m \u001b[49m\u001b[38;5;241;43m*\u001b[39;49m\u001b[38;5;241;43m*\u001b[39;49m\u001b[43mkwargs\u001b[49m\u001b[43m)\u001b[49m\n\u001b[0;32m    315\u001b[0m     \u001b[38;5;28;01mreturn\u001b[39;00m result\n",
      "File \u001b[1;32m~\\.conda\\envs\\test\\Lib\\site-packages\\dask\\base.py:599\u001b[0m, in \u001b[0;36mcompute\u001b[1;34m(traverse, optimize_graph, scheduler, get, *args, **kwargs)\u001b[0m\n\u001b[0;32m    596\u001b[0m     keys\u001b[38;5;241m.\u001b[39mappend(x\u001b[38;5;241m.\u001b[39m__dask_keys__())\n\u001b[0;32m    597\u001b[0m     postcomputes\u001b[38;5;241m.\u001b[39mappend(x\u001b[38;5;241m.\u001b[39m__dask_postcompute__())\n\u001b[1;32m--> 599\u001b[0m results \u001b[38;5;241m=\u001b[39m \u001b[43mschedule\u001b[49m\u001b[43m(\u001b[49m\u001b[43mdsk\u001b[49m\u001b[43m,\u001b[49m\u001b[43m \u001b[49m\u001b[43mkeys\u001b[49m\u001b[43m,\u001b[49m\u001b[43m \u001b[49m\u001b[38;5;241;43m*\u001b[39;49m\u001b[38;5;241;43m*\u001b[39;49m\u001b[43mkwargs\u001b[49m\u001b[43m)\u001b[49m\n\u001b[0;32m    600\u001b[0m \u001b[38;5;28;01mreturn\u001b[39;00m repack([f(r, \u001b[38;5;241m*\u001b[39ma) \u001b[38;5;28;01mfor\u001b[39;00m r, (f, a) \u001b[38;5;129;01min\u001b[39;00m \u001b[38;5;28mzip\u001b[39m(results, postcomputes)])\n",
      "File \u001b[1;32m~\\.conda\\envs\\test\\Lib\\site-packages\\distributed\\client.py:3144\u001b[0m, in \u001b[0;36mClient.get\u001b[1;34m(self, dsk, keys, workers, allow_other_workers, resources, sync, asynchronous, direct, retries, priority, fifo_timeout, actors, **kwargs)\u001b[0m\n\u001b[0;32m   3142\u001b[0m         should_rejoin \u001b[38;5;241m=\u001b[39m \u001b[38;5;28;01mFalse\u001b[39;00m\n\u001b[0;32m   3143\u001b[0m \u001b[38;5;28;01mtry\u001b[39;00m:\n\u001b[1;32m-> 3144\u001b[0m     results \u001b[38;5;241m=\u001b[39m \u001b[38;5;28;43mself\u001b[39;49m\u001b[38;5;241;43m.\u001b[39;49m\u001b[43mgather\u001b[49m\u001b[43m(\u001b[49m\u001b[43mpacked\u001b[49m\u001b[43m,\u001b[49m\u001b[43m \u001b[49m\u001b[43masynchronous\u001b[49m\u001b[38;5;241;43m=\u001b[39;49m\u001b[43masynchronous\u001b[49m\u001b[43m,\u001b[49m\u001b[43m \u001b[49m\u001b[43mdirect\u001b[49m\u001b[38;5;241;43m=\u001b[39;49m\u001b[43mdirect\u001b[49m\u001b[43m)\u001b[49m\n\u001b[0;32m   3145\u001b[0m \u001b[38;5;28;01mfinally\u001b[39;00m:\n\u001b[0;32m   3146\u001b[0m     \u001b[38;5;28;01mfor\u001b[39;00m f \u001b[38;5;129;01min\u001b[39;00m futures\u001b[38;5;241m.\u001b[39mvalues():\n",
      "File \u001b[1;32m~\\.conda\\envs\\test\\Lib\\site-packages\\distributed\\client.py:2313\u001b[0m, in \u001b[0;36mClient.gather\u001b[1;34m(self, futures, errors, direct, asynchronous)\u001b[0m\n\u001b[0;32m   2311\u001b[0m \u001b[38;5;28;01melse\u001b[39;00m:\n\u001b[0;32m   2312\u001b[0m     local_worker \u001b[38;5;241m=\u001b[39m \u001b[38;5;28;01mNone\u001b[39;00m\n\u001b[1;32m-> 2313\u001b[0m \u001b[38;5;28;01mreturn\u001b[39;00m \u001b[38;5;28;43mself\u001b[39;49m\u001b[38;5;241;43m.\u001b[39;49m\u001b[43msync\u001b[49m\u001b[43m(\u001b[49m\n\u001b[0;32m   2314\u001b[0m \u001b[43m    \u001b[49m\u001b[38;5;28;43mself\u001b[39;49m\u001b[38;5;241;43m.\u001b[39;49m\u001b[43m_gather\u001b[49m\u001b[43m,\u001b[49m\n\u001b[0;32m   2315\u001b[0m \u001b[43m    \u001b[49m\u001b[43mfutures\u001b[49m\u001b[43m,\u001b[49m\n\u001b[0;32m   2316\u001b[0m \u001b[43m    \u001b[49m\u001b[43merrors\u001b[49m\u001b[38;5;241;43m=\u001b[39;49m\u001b[43merrors\u001b[49m\u001b[43m,\u001b[49m\n\u001b[0;32m   2317\u001b[0m \u001b[43m    \u001b[49m\u001b[43mdirect\u001b[49m\u001b[38;5;241;43m=\u001b[39;49m\u001b[43mdirect\u001b[49m\u001b[43m,\u001b[49m\n\u001b[0;32m   2318\u001b[0m \u001b[43m    \u001b[49m\u001b[43mlocal_worker\u001b[49m\u001b[38;5;241;43m=\u001b[39;49m\u001b[43mlocal_worker\u001b[49m\u001b[43m,\u001b[49m\n\u001b[0;32m   2319\u001b[0m \u001b[43m    \u001b[49m\u001b[43masynchronous\u001b[49m\u001b[38;5;241;43m=\u001b[39;49m\u001b[43masynchronous\u001b[49m\u001b[43m,\u001b[49m\n\u001b[0;32m   2320\u001b[0m \u001b[43m\u001b[49m\u001b[43m)\u001b[49m\n",
      "File \u001b[1;32m~\\.conda\\envs\\test\\Lib\\site-packages\\distributed\\utils.py:338\u001b[0m, in \u001b[0;36mSyncMethodMixin.sync\u001b[1;34m(self, func, asynchronous, callback_timeout, *args, **kwargs)\u001b[0m\n\u001b[0;32m    336\u001b[0m     \u001b[38;5;28;01mreturn\u001b[39;00m future\n\u001b[0;32m    337\u001b[0m \u001b[38;5;28;01melse\u001b[39;00m:\n\u001b[1;32m--> 338\u001b[0m     \u001b[38;5;28;01mreturn\u001b[39;00m \u001b[43msync\u001b[49m\u001b[43m(\u001b[49m\n\u001b[0;32m    339\u001b[0m \u001b[43m        \u001b[49m\u001b[38;5;28;43mself\u001b[39;49m\u001b[38;5;241;43m.\u001b[39;49m\u001b[43mloop\u001b[49m\u001b[43m,\u001b[49m\u001b[43m \u001b[49m\u001b[43mfunc\u001b[49m\u001b[43m,\u001b[49m\u001b[43m \u001b[49m\u001b[38;5;241;43m*\u001b[39;49m\u001b[43margs\u001b[49m\u001b[43m,\u001b[49m\u001b[43m \u001b[49m\u001b[43mcallback_timeout\u001b[49m\u001b[38;5;241;43m=\u001b[39;49m\u001b[43mcallback_timeout\u001b[49m\u001b[43m,\u001b[49m\u001b[43m \u001b[49m\u001b[38;5;241;43m*\u001b[39;49m\u001b[38;5;241;43m*\u001b[39;49m\u001b[43mkwargs\u001b[49m\n\u001b[0;32m    340\u001b[0m \u001b[43m    \u001b[49m\u001b[43m)\u001b[49m\n",
      "File \u001b[1;32m~\\.conda\\envs\\test\\Lib\\site-packages\\distributed\\utils.py:405\u001b[0m, in \u001b[0;36msync\u001b[1;34m(loop, func, callback_timeout, *args, **kwargs)\u001b[0m\n\u001b[0;32m    403\u001b[0m \u001b[38;5;28;01mif\u001b[39;00m error:\n\u001b[0;32m    404\u001b[0m     typ, exc, tb \u001b[38;5;241m=\u001b[39m error\n\u001b[1;32m--> 405\u001b[0m     \u001b[38;5;28;01mraise\u001b[39;00m exc\u001b[38;5;241m.\u001b[39mwith_traceback(tb)\n\u001b[0;32m    406\u001b[0m \u001b[38;5;28;01melse\u001b[39;00m:\n\u001b[0;32m    407\u001b[0m     \u001b[38;5;28;01mreturn\u001b[39;00m result\n",
      "File \u001b[1;32m~\\.conda\\envs\\test\\Lib\\site-packages\\distributed\\utils.py:378\u001b[0m, in \u001b[0;36msync.<locals>.f\u001b[1;34m()\u001b[0m\n\u001b[0;32m    376\u001b[0m         future \u001b[38;5;241m=\u001b[39m asyncio\u001b[38;5;241m.\u001b[39mwait_for(future, callback_timeout)\n\u001b[0;32m    377\u001b[0m     future \u001b[38;5;241m=\u001b[39m asyncio\u001b[38;5;241m.\u001b[39mensure_future(future)\n\u001b[1;32m--> 378\u001b[0m     result \u001b[38;5;241m=\u001b[39m \u001b[38;5;28;01myield\u001b[39;00m future\n\u001b[0;32m    379\u001b[0m \u001b[38;5;28;01mexcept\u001b[39;00m \u001b[38;5;167;01mException\u001b[39;00m:\n\u001b[0;32m    380\u001b[0m     error \u001b[38;5;241m=\u001b[39m sys\u001b[38;5;241m.\u001b[39mexc_info()\n",
      "File \u001b[1;32m~\\.conda\\envs\\test\\Lib\\site-packages\\tornado\\gen.py:769\u001b[0m, in \u001b[0;36mRunner.run\u001b[1;34m(self)\u001b[0m\n\u001b[0;32m    766\u001b[0m exc_info \u001b[38;5;241m=\u001b[39m \u001b[38;5;28;01mNone\u001b[39;00m\n\u001b[0;32m    768\u001b[0m \u001b[38;5;28;01mtry\u001b[39;00m:\n\u001b[1;32m--> 769\u001b[0m     value \u001b[38;5;241m=\u001b[39m future\u001b[38;5;241m.\u001b[39mresult()\n\u001b[0;32m    770\u001b[0m \u001b[38;5;28;01mexcept\u001b[39;00m \u001b[38;5;167;01mException\u001b[39;00m:\n\u001b[0;32m    771\u001b[0m     exc_info \u001b[38;5;241m=\u001b[39m sys\u001b[38;5;241m.\u001b[39mexc_info()\n",
      "File \u001b[1;32m~\\.conda\\envs\\test\\Lib\\site-packages\\distributed\\client.py:2176\u001b[0m, in \u001b[0;36mClient._gather\u001b[1;34m(self, futures, errors, direct, local_worker)\u001b[0m\n\u001b[0;32m   2174\u001b[0m         exc \u001b[38;5;241m=\u001b[39m CancelledError(key)\n\u001b[0;32m   2175\u001b[0m     \u001b[38;5;28;01melse\u001b[39;00m:\n\u001b[1;32m-> 2176\u001b[0m         \u001b[38;5;28;01mraise\u001b[39;00m exception\u001b[38;5;241m.\u001b[39mwith_traceback(traceback)\n\u001b[0;32m   2177\u001b[0m     \u001b[38;5;28;01mraise\u001b[39;00m exc\n\u001b[0;32m   2178\u001b[0m \u001b[38;5;28;01mif\u001b[39;00m errors \u001b[38;5;241m==\u001b[39m \u001b[38;5;124m\"\u001b[39m\u001b[38;5;124mskip\u001b[39m\u001b[38;5;124m\"\u001b[39m:\n",
      "\u001b[1;31mKilledWorker\u001b[0m: Attempted to run task ('repartition-get_hashtags-3670b0c5a5a4288afe144f0db46e5549', 3) on 3 different workers, but all those workers died while running it. The last worker that attempt to run the task was tcp://127.0.0.1:52328. Inspecting worker logs is often a good next step to diagnose what went wrong. For more information see https://distributed.dask.org/en/stable/killed.html."
     ]
    }
   ],
   "source": [
    "doge_hash = doge.map(get_hashtags)\n",
    "\n",
    "res = doge_hash.compute()\n",
    "\n",
    "res[:10]"
   ]
  },
  {
   "cell_type": "markdown",
   "metadata": {
    "slideshow": {
     "slide_type": "slide"
    }
   },
   "source": [
    "We can also filter our tweets accordingly:"
   ]
  },
  {
   "cell_type": "code",
   "execution_count": 52,
   "metadata": {
    "slideshow": {
     "slide_type": "-"
    }
   },
   "outputs": [
    {
     "name": "stderr",
     "output_type": "stream",
     "text": [
      "Task exception was never retrieved\n",
      "future: <Task finished name='Task-993778' coro=<Client._gather.<locals>.wait() done, defined at C:\\Users\\jhtchns2\\.conda\\envs\\test\\Lib\\site-packages\\distributed\\client.py:2141> exception=AllExit()>\n",
      "Traceback (most recent call last):\n",
      "  File \"C:\\Users\\jhtchns2\\.conda\\envs\\test\\Lib\\site-packages\\distributed\\client.py\", line 2150, in wait\n",
      "    raise AllExit()\n",
      "distributed.client.AllExit\n"
     ]
    },
    {
     "ename": "KeyboardInterrupt",
     "evalue": "",
     "output_type": "error",
     "traceback": [
      "\u001b[1;31m---------------------------------------------------------------------------\u001b[0m",
      "\u001b[1;31mKeyboardInterrupt\u001b[0m                         Traceback (most recent call last)",
      "Cell \u001b[1;32mIn[52], line 1\u001b[0m\n\u001b[1;32m----> 1\u001b[0m \u001b[43mdoge\u001b[49m\u001b[38;5;241;43m.\u001b[39;49m\u001b[43mfilter\u001b[49m\u001b[43m(\u001b[49m\u001b[38;5;28;43;01mlambda\u001b[39;49;00m\u001b[43m \u001b[49m\u001b[43mx\u001b[49m\u001b[43m:\u001b[49m\u001b[43m \u001b[49m\u001b[43mpd\u001b[49m\u001b[38;5;241;43m.\u001b[39;49m\u001b[43mto_datetime\u001b[49m\u001b[43m(\u001b[49m\u001b[43mx\u001b[49m\u001b[43m[\u001b[49m\u001b[38;5;124;43m'\u001b[39;49m\u001b[38;5;124;43mcreated_at\u001b[39;49m\u001b[38;5;124;43m'\u001b[39;49m\u001b[43m]\u001b[49m\u001b[43m)\u001b[49m\u001b[43m \u001b[49m\u001b[38;5;241;43m>\u001b[39;49m\u001b[43m \u001b[49m\u001b[43mpd\u001b[49m\u001b[38;5;241;43m.\u001b[39;49m\u001b[43mto_datetime\u001b[49m\u001b[43m(\u001b[49m\u001b[38;5;124;43m'\u001b[39;49m\u001b[38;5;124;43m2021-02-04T15:00:00-05:00\u001b[39;49m\u001b[38;5;124;43m'\u001b[39;49m\u001b[43m)\u001b[49m\u001b[43m)\u001b[49m\u001b[38;5;241;43m.\u001b[39;49m\u001b[43mtake\u001b[49m\u001b[43m(\u001b[49m\u001b[38;5;241;43m1\u001b[39;49m\u001b[43m)\u001b[49m\n",
      "File \u001b[1;32m~\\.conda\\envs\\test\\Lib\\site-packages\\dask\\bag\\core.py:1456\u001b[0m, in \u001b[0;36mBag.take\u001b[1;34m(self, k, npartitions, compute, warn)\u001b[0m\n\u001b[0;32m   1453\u001b[0m b \u001b[38;5;241m=\u001b[39m Bag(graph, name, \u001b[38;5;241m1\u001b[39m)\n\u001b[0;32m   1455\u001b[0m \u001b[38;5;28;01mif\u001b[39;00m compute:\n\u001b[1;32m-> 1456\u001b[0m     \u001b[38;5;28;01mreturn\u001b[39;00m \u001b[38;5;28mtuple\u001b[39m(\u001b[43mb\u001b[49m\u001b[38;5;241;43m.\u001b[39;49m\u001b[43mcompute\u001b[49m\u001b[43m(\u001b[49m\u001b[43m)\u001b[49m)\n\u001b[0;32m   1457\u001b[0m \u001b[38;5;28;01melse\u001b[39;00m:\n\u001b[0;32m   1458\u001b[0m     \u001b[38;5;28;01mreturn\u001b[39;00m b\n",
      "File \u001b[1;32m~\\.conda\\envs\\test\\Lib\\site-packages\\dask\\base.py:314\u001b[0m, in \u001b[0;36mDaskMethodsMixin.compute\u001b[1;34m(self, **kwargs)\u001b[0m\n\u001b[0;32m    290\u001b[0m \u001b[38;5;28;01mdef\u001b[39;00m \u001b[38;5;21mcompute\u001b[39m(\u001b[38;5;28mself\u001b[39m, \u001b[38;5;241m*\u001b[39m\u001b[38;5;241m*\u001b[39mkwargs):\n\u001b[0;32m    291\u001b[0m \u001b[38;5;250m    \u001b[39m\u001b[38;5;124;03m\"\"\"Compute this dask collection\u001b[39;00m\n\u001b[0;32m    292\u001b[0m \n\u001b[0;32m    293\u001b[0m \u001b[38;5;124;03m    This turns a lazy Dask collection into its in-memory equivalent.\u001b[39;00m\n\u001b[1;32m   (...)\u001b[0m\n\u001b[0;32m    312\u001b[0m \u001b[38;5;124;03m    dask.base.compute\u001b[39;00m\n\u001b[0;32m    313\u001b[0m \u001b[38;5;124;03m    \"\"\"\u001b[39;00m\n\u001b[1;32m--> 314\u001b[0m     (result,) \u001b[38;5;241m=\u001b[39m \u001b[43mcompute\u001b[49m\u001b[43m(\u001b[49m\u001b[38;5;28;43mself\u001b[39;49m\u001b[43m,\u001b[49m\u001b[43m \u001b[49m\u001b[43mtraverse\u001b[49m\u001b[38;5;241;43m=\u001b[39;49m\u001b[38;5;28;43;01mFalse\u001b[39;49;00m\u001b[43m,\u001b[49m\u001b[43m \u001b[49m\u001b[38;5;241;43m*\u001b[39;49m\u001b[38;5;241;43m*\u001b[39;49m\u001b[43mkwargs\u001b[49m\u001b[43m)\u001b[49m\n\u001b[0;32m    315\u001b[0m     \u001b[38;5;28;01mreturn\u001b[39;00m result\n",
      "File \u001b[1;32m~\\.conda\\envs\\test\\Lib\\site-packages\\dask\\base.py:599\u001b[0m, in \u001b[0;36mcompute\u001b[1;34m(traverse, optimize_graph, scheduler, get, *args, **kwargs)\u001b[0m\n\u001b[0;32m    596\u001b[0m     keys\u001b[38;5;241m.\u001b[39mappend(x\u001b[38;5;241m.\u001b[39m__dask_keys__())\n\u001b[0;32m    597\u001b[0m     postcomputes\u001b[38;5;241m.\u001b[39mappend(x\u001b[38;5;241m.\u001b[39m__dask_postcompute__())\n\u001b[1;32m--> 599\u001b[0m results \u001b[38;5;241m=\u001b[39m \u001b[43mschedule\u001b[49m\u001b[43m(\u001b[49m\u001b[43mdsk\u001b[49m\u001b[43m,\u001b[49m\u001b[43m \u001b[49m\u001b[43mkeys\u001b[49m\u001b[43m,\u001b[49m\u001b[43m \u001b[49m\u001b[38;5;241;43m*\u001b[39;49m\u001b[38;5;241;43m*\u001b[39;49m\u001b[43mkwargs\u001b[49m\u001b[43m)\u001b[49m\n\u001b[0;32m    600\u001b[0m \u001b[38;5;28;01mreturn\u001b[39;00m repack([f(r, \u001b[38;5;241m*\u001b[39ma) \u001b[38;5;28;01mfor\u001b[39;00m r, (f, a) \u001b[38;5;129;01min\u001b[39;00m \u001b[38;5;28mzip\u001b[39m(results, postcomputes)])\n",
      "File \u001b[1;32m~\\.conda\\envs\\test\\Lib\\site-packages\\distributed\\client.py:3144\u001b[0m, in \u001b[0;36mClient.get\u001b[1;34m(self, dsk, keys, workers, allow_other_workers, resources, sync, asynchronous, direct, retries, priority, fifo_timeout, actors, **kwargs)\u001b[0m\n\u001b[0;32m   3142\u001b[0m         should_rejoin \u001b[38;5;241m=\u001b[39m \u001b[38;5;28;01mFalse\u001b[39;00m\n\u001b[0;32m   3143\u001b[0m \u001b[38;5;28;01mtry\u001b[39;00m:\n\u001b[1;32m-> 3144\u001b[0m     results \u001b[38;5;241m=\u001b[39m \u001b[38;5;28;43mself\u001b[39;49m\u001b[38;5;241;43m.\u001b[39;49m\u001b[43mgather\u001b[49m\u001b[43m(\u001b[49m\u001b[43mpacked\u001b[49m\u001b[43m,\u001b[49m\u001b[43m \u001b[49m\u001b[43masynchronous\u001b[49m\u001b[38;5;241;43m=\u001b[39;49m\u001b[43masynchronous\u001b[49m\u001b[43m,\u001b[49m\u001b[43m \u001b[49m\u001b[43mdirect\u001b[49m\u001b[38;5;241;43m=\u001b[39;49m\u001b[43mdirect\u001b[49m\u001b[43m)\u001b[49m\n\u001b[0;32m   3145\u001b[0m \u001b[38;5;28;01mfinally\u001b[39;00m:\n\u001b[0;32m   3146\u001b[0m     \u001b[38;5;28;01mfor\u001b[39;00m f \u001b[38;5;129;01min\u001b[39;00m futures\u001b[38;5;241m.\u001b[39mvalues():\n",
      "File \u001b[1;32m~\\.conda\\envs\\test\\Lib\\site-packages\\distributed\\client.py:2313\u001b[0m, in \u001b[0;36mClient.gather\u001b[1;34m(self, futures, errors, direct, asynchronous)\u001b[0m\n\u001b[0;32m   2311\u001b[0m \u001b[38;5;28;01melse\u001b[39;00m:\n\u001b[0;32m   2312\u001b[0m     local_worker \u001b[38;5;241m=\u001b[39m \u001b[38;5;28;01mNone\u001b[39;00m\n\u001b[1;32m-> 2313\u001b[0m \u001b[38;5;28;01mreturn\u001b[39;00m \u001b[38;5;28;43mself\u001b[39;49m\u001b[38;5;241;43m.\u001b[39;49m\u001b[43msync\u001b[49m\u001b[43m(\u001b[49m\n\u001b[0;32m   2314\u001b[0m \u001b[43m    \u001b[49m\u001b[38;5;28;43mself\u001b[39;49m\u001b[38;5;241;43m.\u001b[39;49m\u001b[43m_gather\u001b[49m\u001b[43m,\u001b[49m\n\u001b[0;32m   2315\u001b[0m \u001b[43m    \u001b[49m\u001b[43mfutures\u001b[49m\u001b[43m,\u001b[49m\n\u001b[0;32m   2316\u001b[0m \u001b[43m    \u001b[49m\u001b[43merrors\u001b[49m\u001b[38;5;241;43m=\u001b[39;49m\u001b[43merrors\u001b[49m\u001b[43m,\u001b[49m\n\u001b[0;32m   2317\u001b[0m \u001b[43m    \u001b[49m\u001b[43mdirect\u001b[49m\u001b[38;5;241;43m=\u001b[39;49m\u001b[43mdirect\u001b[49m\u001b[43m,\u001b[49m\n\u001b[0;32m   2318\u001b[0m \u001b[43m    \u001b[49m\u001b[43mlocal_worker\u001b[49m\u001b[38;5;241;43m=\u001b[39;49m\u001b[43mlocal_worker\u001b[49m\u001b[43m,\u001b[49m\n\u001b[0;32m   2319\u001b[0m \u001b[43m    \u001b[49m\u001b[43masynchronous\u001b[49m\u001b[38;5;241;43m=\u001b[39;49m\u001b[43masynchronous\u001b[49m\u001b[43m,\u001b[49m\n\u001b[0;32m   2320\u001b[0m \u001b[43m\u001b[49m\u001b[43m)\u001b[49m\n",
      "File \u001b[1;32m~\\.conda\\envs\\test\\Lib\\site-packages\\distributed\\utils.py:338\u001b[0m, in \u001b[0;36mSyncMethodMixin.sync\u001b[1;34m(self, func, asynchronous, callback_timeout, *args, **kwargs)\u001b[0m\n\u001b[0;32m    336\u001b[0m     \u001b[38;5;28;01mreturn\u001b[39;00m future\n\u001b[0;32m    337\u001b[0m \u001b[38;5;28;01melse\u001b[39;00m:\n\u001b[1;32m--> 338\u001b[0m     \u001b[38;5;28;01mreturn\u001b[39;00m \u001b[43msync\u001b[49m\u001b[43m(\u001b[49m\n\u001b[0;32m    339\u001b[0m \u001b[43m        \u001b[49m\u001b[38;5;28;43mself\u001b[39;49m\u001b[38;5;241;43m.\u001b[39;49m\u001b[43mloop\u001b[49m\u001b[43m,\u001b[49m\u001b[43m \u001b[49m\u001b[43mfunc\u001b[49m\u001b[43m,\u001b[49m\u001b[43m \u001b[49m\u001b[38;5;241;43m*\u001b[39;49m\u001b[43margs\u001b[49m\u001b[43m,\u001b[49m\u001b[43m \u001b[49m\u001b[43mcallback_timeout\u001b[49m\u001b[38;5;241;43m=\u001b[39;49m\u001b[43mcallback_timeout\u001b[49m\u001b[43m,\u001b[49m\u001b[43m \u001b[49m\u001b[38;5;241;43m*\u001b[39;49m\u001b[38;5;241;43m*\u001b[39;49m\u001b[43mkwargs\u001b[49m\n\u001b[0;32m    340\u001b[0m \u001b[43m    \u001b[49m\u001b[43m)\u001b[49m\n",
      "File \u001b[1;32m~\\.conda\\envs\\test\\Lib\\site-packages\\distributed\\utils.py:401\u001b[0m, in \u001b[0;36msync\u001b[1;34m(loop, func, callback_timeout, *args, **kwargs)\u001b[0m\n\u001b[0;32m    399\u001b[0m \u001b[38;5;28;01melse\u001b[39;00m:\n\u001b[0;32m    400\u001b[0m     \u001b[38;5;28;01mwhile\u001b[39;00m \u001b[38;5;129;01mnot\u001b[39;00m e\u001b[38;5;241m.\u001b[39mis_set():\n\u001b[1;32m--> 401\u001b[0m         \u001b[43mwait\u001b[49m\u001b[43m(\u001b[49m\u001b[38;5;241;43m10\u001b[39;49m\u001b[43m)\u001b[49m\n\u001b[0;32m    403\u001b[0m \u001b[38;5;28;01mif\u001b[39;00m error:\n\u001b[0;32m    404\u001b[0m     typ, exc, tb \u001b[38;5;241m=\u001b[39m error\n",
      "File \u001b[1;32m~\\.conda\\envs\\test\\Lib\\site-packages\\distributed\\utils.py:390\u001b[0m, in \u001b[0;36msync.<locals>.wait\u001b[1;34m(timeout)\u001b[0m\n\u001b[0;32m    388\u001b[0m \u001b[38;5;28;01mdef\u001b[39;00m \u001b[38;5;21mwait\u001b[39m(timeout):\n\u001b[0;32m    389\u001b[0m     \u001b[38;5;28;01mtry\u001b[39;00m:\n\u001b[1;32m--> 390\u001b[0m         \u001b[38;5;28;01mreturn\u001b[39;00m \u001b[43me\u001b[49m\u001b[38;5;241;43m.\u001b[39;49m\u001b[43mwait\u001b[49m\u001b[43m(\u001b[49m\u001b[43mtimeout\u001b[49m\u001b[43m)\u001b[49m\n\u001b[0;32m    391\u001b[0m     \u001b[38;5;28;01mexcept\u001b[39;00m \u001b[38;5;167;01mKeyboardInterrupt\u001b[39;00m:\n\u001b[0;32m    392\u001b[0m         loop\u001b[38;5;241m.\u001b[39madd_callback(cancel)\n",
      "File \u001b[1;32m~\\.conda\\envs\\test\\Lib\\threading.py:622\u001b[0m, in \u001b[0;36mEvent.wait\u001b[1;34m(self, timeout)\u001b[0m\n\u001b[0;32m    620\u001b[0m signaled \u001b[38;5;241m=\u001b[39m \u001b[38;5;28mself\u001b[39m\u001b[38;5;241m.\u001b[39m_flag\n\u001b[0;32m    621\u001b[0m \u001b[38;5;28;01mif\u001b[39;00m \u001b[38;5;129;01mnot\u001b[39;00m signaled:\n\u001b[1;32m--> 622\u001b[0m     signaled \u001b[38;5;241m=\u001b[39m \u001b[38;5;28;43mself\u001b[39;49m\u001b[38;5;241;43m.\u001b[39;49m\u001b[43m_cond\u001b[49m\u001b[38;5;241;43m.\u001b[39;49m\u001b[43mwait\u001b[49m\u001b[43m(\u001b[49m\u001b[43mtimeout\u001b[49m\u001b[43m)\u001b[49m\n\u001b[0;32m    623\u001b[0m \u001b[38;5;28;01mreturn\u001b[39;00m signaled\n",
      "File \u001b[1;32m~\\.conda\\envs\\test\\Lib\\threading.py:324\u001b[0m, in \u001b[0;36mCondition.wait\u001b[1;34m(self, timeout)\u001b[0m\n\u001b[0;32m    322\u001b[0m \u001b[38;5;28;01melse\u001b[39;00m:\n\u001b[0;32m    323\u001b[0m     \u001b[38;5;28;01mif\u001b[39;00m timeout \u001b[38;5;241m>\u001b[39m \u001b[38;5;241m0\u001b[39m:\n\u001b[1;32m--> 324\u001b[0m         gotit \u001b[38;5;241m=\u001b[39m \u001b[43mwaiter\u001b[49m\u001b[38;5;241;43m.\u001b[39;49m\u001b[43macquire\u001b[49m\u001b[43m(\u001b[49m\u001b[38;5;28;43;01mTrue\u001b[39;49;00m\u001b[43m,\u001b[49m\u001b[43m \u001b[49m\u001b[43mtimeout\u001b[49m\u001b[43m)\u001b[49m\n\u001b[0;32m    325\u001b[0m     \u001b[38;5;28;01melse\u001b[39;00m:\n\u001b[0;32m    326\u001b[0m         gotit \u001b[38;5;241m=\u001b[39m waiter\u001b[38;5;241m.\u001b[39macquire(\u001b[38;5;28;01mFalse\u001b[39;00m)\n",
      "\u001b[1;31mKeyboardInterrupt\u001b[0m: "
     ]
    }
   ],
   "source": [
    "doge.filter(lambda x: pd.to_datetime(x['created_at']) > pd.to_datetime('2021-02-04T15:00:00-05:00')).take(1)"
   ]
  },
  {
   "cell_type": "markdown",
   "metadata": {
    "slideshow": {
     "slide_type": "slide"
    }
   },
   "source": [
    "#### Takeaway message: we can process any kind of data with dask without having to put anything in memory.\n",
    "\n",
    "In this case, we could be reading text using dask, processing it in parallel, and writing it out each time.\n",
    "\n",
    "When could we apply this?\n",
    "\n",
    "1. In Homework 1, we needed to read large amounts of tweets in. Rather than read them all in at once, we could have filtered them as json files using a `dask` \"bag.\"\n",
    "    - The Dask `bag` is frequently used in unstructured data processing.\n",
    "2. In Homework 2, we could have read several .tif files in and process them in a distributed framework. \n",
    "    - Very useful if you had several raster files that you need to read in."
   ]
  },
  {
   "cell_type": "markdown",
   "metadata": {
    "slideshow": {
     "slide_type": "slide"
    }
   },
   "source": [
    "### Dask Arrays\n",
    "\n",
    "Just as there is a dataframe object, there is also a `dask` equivalent to a `numpy` array.\n",
    "\n",
    "As an example, let's make a giant array:"
   ]
  },
  {
   "cell_type": "code",
   "execution_count": 53,
   "metadata": {
    "slideshow": {
     "slide_type": "-"
    }
   },
   "outputs": [],
   "source": [
    "import dask.array as da\n",
    "x = da.random.random((80000, 80000), chunks=(1000, 1000))"
   ]
  },
  {
   "cell_type": "code",
   "execution_count": 54,
   "metadata": {
    "slideshow": {
     "slide_type": "-"
    }
   },
   "outputs": [
    {
     "data": {
      "text/html": [
       "<table>\n",
       "    <tr>\n",
       "        <td>\n",
       "            <table style=\"border-collapse: collapse;\">\n",
       "                <thead>\n",
       "                    <tr>\n",
       "                        <td> </td>\n",
       "                        <th> Array </th>\n",
       "                        <th> Chunk </th>\n",
       "                    </tr>\n",
       "                </thead>\n",
       "                <tbody>\n",
       "                    \n",
       "                    <tr>\n",
       "                        <th> Bytes </th>\n",
       "                        <td> 47.68 GiB </td>\n",
       "                        <td> 7.63 MiB </td>\n",
       "                    </tr>\n",
       "                    \n",
       "                    <tr>\n",
       "                        <th> Shape </th>\n",
       "                        <td> (80000, 80000) </td>\n",
       "                        <td> (1000, 1000) </td>\n",
       "                    </tr>\n",
       "                    <tr>\n",
       "                        <th> Dask graph </th>\n",
       "                        <td colspan=\"2\"> 6400 chunks in 1 graph layer </td>\n",
       "                    </tr>\n",
       "                    <tr>\n",
       "                        <th> Data type </th>\n",
       "                        <td colspan=\"2\"> float64 numpy.ndarray </td>\n",
       "                    </tr>\n",
       "                </tbody>\n",
       "            </table>\n",
       "        </td>\n",
       "        <td>\n",
       "        <svg width=\"170\" height=\"170\" style=\"stroke:rgb(0,0,0);stroke-width:1\" >\n",
       "\n",
       "  <!-- Horizontal lines -->\n",
       "  <line x1=\"0\" y1=\"0\" x2=\"120\" y2=\"0\" style=\"stroke-width:2\" />\n",
       "  <line x1=\"0\" y1=\"6\" x2=\"120\" y2=\"6\" />\n",
       "  <line x1=\"0\" y1=\"12\" x2=\"120\" y2=\"12\" />\n",
       "  <line x1=\"0\" y1=\"18\" x2=\"120\" y2=\"18\" />\n",
       "  <line x1=\"0\" y1=\"24\" x2=\"120\" y2=\"24\" />\n",
       "  <line x1=\"0\" y1=\"31\" x2=\"120\" y2=\"31\" />\n",
       "  <line x1=\"0\" y1=\"37\" x2=\"120\" y2=\"37\" />\n",
       "  <line x1=\"0\" y1=\"43\" x2=\"120\" y2=\"43\" />\n",
       "  <line x1=\"0\" y1=\"49\" x2=\"120\" y2=\"49\" />\n",
       "  <line x1=\"0\" y1=\"55\" x2=\"120\" y2=\"55\" />\n",
       "  <line x1=\"0\" y1=\"63\" x2=\"120\" y2=\"63\" />\n",
       "  <line x1=\"0\" y1=\"69\" x2=\"120\" y2=\"69\" />\n",
       "  <line x1=\"0\" y1=\"75\" x2=\"120\" y2=\"75\" />\n",
       "  <line x1=\"0\" y1=\"81\" x2=\"120\" y2=\"81\" />\n",
       "  <line x1=\"0\" y1=\"87\" x2=\"120\" y2=\"87\" />\n",
       "  <line x1=\"0\" y1=\"94\" x2=\"120\" y2=\"94\" />\n",
       "  <line x1=\"0\" y1=\"100\" x2=\"120\" y2=\"100\" />\n",
       "  <line x1=\"0\" y1=\"106\" x2=\"120\" y2=\"106\" />\n",
       "  <line x1=\"0\" y1=\"112\" x2=\"120\" y2=\"112\" />\n",
       "  <line x1=\"0\" y1=\"120\" x2=\"120\" y2=\"120\" style=\"stroke-width:2\" />\n",
       "\n",
       "  <!-- Vertical lines -->\n",
       "  <line x1=\"0\" y1=\"0\" x2=\"0\" y2=\"120\" style=\"stroke-width:2\" />\n",
       "  <line x1=\"6\" y1=\"0\" x2=\"6\" y2=\"120\" />\n",
       "  <line x1=\"12\" y1=\"0\" x2=\"12\" y2=\"120\" />\n",
       "  <line x1=\"18\" y1=\"0\" x2=\"18\" y2=\"120\" />\n",
       "  <line x1=\"24\" y1=\"0\" x2=\"24\" y2=\"120\" />\n",
       "  <line x1=\"31\" y1=\"0\" x2=\"31\" y2=\"120\" />\n",
       "  <line x1=\"37\" y1=\"0\" x2=\"37\" y2=\"120\" />\n",
       "  <line x1=\"43\" y1=\"0\" x2=\"43\" y2=\"120\" />\n",
       "  <line x1=\"49\" y1=\"0\" x2=\"49\" y2=\"120\" />\n",
       "  <line x1=\"55\" y1=\"0\" x2=\"55\" y2=\"120\" />\n",
       "  <line x1=\"63\" y1=\"0\" x2=\"63\" y2=\"120\" />\n",
       "  <line x1=\"69\" y1=\"0\" x2=\"69\" y2=\"120\" />\n",
       "  <line x1=\"75\" y1=\"0\" x2=\"75\" y2=\"120\" />\n",
       "  <line x1=\"81\" y1=\"0\" x2=\"81\" y2=\"120\" />\n",
       "  <line x1=\"87\" y1=\"0\" x2=\"87\" y2=\"120\" />\n",
       "  <line x1=\"94\" y1=\"0\" x2=\"94\" y2=\"120\" />\n",
       "  <line x1=\"100\" y1=\"0\" x2=\"100\" y2=\"120\" />\n",
       "  <line x1=\"106\" y1=\"0\" x2=\"106\" y2=\"120\" />\n",
       "  <line x1=\"112\" y1=\"0\" x2=\"112\" y2=\"120\" />\n",
       "  <line x1=\"120\" y1=\"0\" x2=\"120\" y2=\"120\" style=\"stroke-width:2\" />\n",
       "\n",
       "  <!-- Colored Rectangle -->\n",
       "  <polygon points=\"0.0,0.0 120.0,0.0 120.0,120.0 0.0,120.0\" style=\"fill:#8B4903A0;stroke-width:0\"/>\n",
       "\n",
       "  <!-- Text -->\n",
       "  <text x=\"60.000000\" y=\"140.000000\" font-size=\"1.0rem\" font-weight=\"100\" text-anchor=\"middle\" >80000</text>\n",
       "  <text x=\"140.000000\" y=\"60.000000\" font-size=\"1.0rem\" font-weight=\"100\" text-anchor=\"middle\" transform=\"rotate(-90,140.000000,60.000000)\">80000</text>\n",
       "</svg>\n",
       "        </td>\n",
       "    </tr>\n",
       "</table>"
      ],
      "text/plain": [
       "dask.array<random_sample, shape=(80000, 80000), dtype=float64, chunksize=(1000, 1000), chunktype=numpy.ndarray>"
      ]
     },
     "execution_count": 54,
     "metadata": {},
     "output_type": "execute_result"
    }
   ],
   "source": [
    "x"
   ]
  },
  {
   "cell_type": "markdown",
   "metadata": {
    "slideshow": {
     "slide_type": "slide"
    }
   },
   "source": [
    "My machine will not read this in since it exceeds the memory usage of my machine.\n",
    "\n",
    "However, that doesn't mean we can't calculate some basic statistics:"
   ]
  },
  {
   "cell_type": "code",
   "execution_count": 55,
   "metadata": {
    "scrolled": true,
    "slideshow": {
     "slide_type": "-"
    }
   },
   "outputs": [
    {
     "data": {
      "text/plain": [
       "array([0.4993584 , 0.49939984, 0.49827143, ..., 0.50095479, 0.5003962 ,\n",
       "       0.50016227])"
      ]
     },
     "execution_count": 55,
     "metadata": {},
     "output_type": "execute_result"
    }
   ],
   "source": [
    "x.mean(axis=0)[::10].compute()"
   ]
  },
  {
   "cell_type": "markdown",
   "metadata": {
    "slideshow": {
     "slide_type": "slide"
    }
   },
   "source": [
    "These arrays support nearly every operation that numpy arrays support. Notably, it supports __linear algebra__."
   ]
  },
  {
   "cell_type": "code",
   "execution_count": 57,
   "metadata": {
    "slideshow": {
     "slide_type": "-"
    }
   },
   "outputs": [
    {
     "name": "stderr",
     "output_type": "stream",
     "text": [
      "C:\\Users\\jhtchns2\\.conda\\envs\\test\\Lib\\site-packages\\dask\\array\\routines.py:328: PerformanceWarning: Increasing number of chunks by factor of 20\n",
      "  intermediate = blockwise(\n"
     ]
    }
   ],
   "source": [
    "from dask.array import linalg\n",
    "x = da.random.random((20000, 20000), chunks=(1000, 1000))\n",
    "x_inv = linalg.inv(x)"
   ]
  },
  {
   "cell_type": "code",
   "execution_count": 58,
   "metadata": {
    "slideshow": {
     "slide_type": "-"
    }
   },
   "outputs": [
    {
     "data": {
      "text/plain": [
       "array([[ 1.21593785e-03,  6.73375389e-02, -7.13804914e-02,\n",
       "        -1.21162336e-01,  1.28899702e-02,  5.62641342e-03,\n",
       "         6.95968024e-02, -2.56818080e-02,  1.89912607e-02,\n",
       "        -2.61100816e-03],\n",
       "       [ 2.61616409e-02, -6.86558705e-02,  6.52618023e-02,\n",
       "         9.40312590e-02, -8.01381858e-02, -1.63524405e-03,\n",
       "        -5.02506127e-02,  6.60098174e-02, -3.17245356e-02,\n",
       "        -8.92349228e-03],\n",
       "       [ 8.43674505e-03,  3.51474813e-02, -2.02393794e-02,\n",
       "        -3.15210136e-02, -2.99537317e-02,  1.22945451e-02,\n",
       "         4.31345146e-02, -1.20077361e-02,  1.39735007e-02,\n",
       "        -1.27641635e-02],\n",
       "       [ 5.59843313e-03, -1.02174422e-01,  1.17442552e-01,\n",
       "         2.03888583e-01, -1.70034277e-02, -6.91144978e-03,\n",
       "        -9.39511630e-02,  5.05134353e-02, -2.52697446e-02,\n",
       "         1.39908812e-02],\n",
       "       [-1.44051184e-02, -5.30744215e-02,  2.70865461e-02,\n",
       "         4.85729495e-02,  3.43931999e-02, -2.52786952e-02,\n",
       "        -2.85525494e-02,  1.89638873e-02,  3.83332025e-03,\n",
       "         1.12079761e-02],\n",
       "       [-4.15387821e-03,  2.31142192e-02, -4.85042114e-02,\n",
       "        -1.08594286e-01,  1.76360317e-02, -1.32435644e-02,\n",
       "         7.71614834e-02, -3.33615768e-02,  2.75417243e-02,\n",
       "         5.49047480e-03],\n",
       "       [ 1.77344065e-03, -3.19512911e-02,  4.65922377e-02,\n",
       "         9.38970187e-02, -4.59791985e-02,  1.79316205e-02,\n",
       "        -4.88077090e-02,  2.18025223e-02, -2.06256476e-02,\n",
       "        -1.94417986e-02],\n",
       "       [-3.83454166e-03, -5.89624735e-02,  8.18691844e-02,\n",
       "         1.29353370e-01,  1.20937470e-03,  8.55309425e-03,\n",
       "        -3.97325400e-02, -1.76852920e-02,  5.42954864e-04,\n",
       "         9.67893257e-03],\n",
       "       [ 5.94912761e-03, -1.39411906e-01,  1.27070594e-01,\n",
       "         2.34387995e-01, -4.85411406e-02, -2.60695094e-02,\n",
       "        -1.04822211e-01,  8.10285693e-02, -3.55011950e-03,\n",
       "         1.54091774e-02],\n",
       "       [-2.52728189e-03,  1.05003018e-01, -1.32644421e-01,\n",
       "        -2.49005324e-01,  4.33710361e-02, -9.25258837e-03,\n",
       "         1.21076374e-01, -4.73472294e-02,  2.00767097e-02,\n",
       "        -4.93000293e-03],\n",
       "       [ 1.85586834e-02, -1.83643963e-02,  2.43434457e-02,\n",
       "         7.14462114e-02, -3.44409617e-02,  8.76472187e-03,\n",
       "        -3.86179612e-03, -7.17064081e-04,  1.71486312e-02,\n",
       "        -3.13274087e-03],\n",
       "       [ 2.09071880e-02, -4.02991792e-02,  2.97601693e-02,\n",
       "         3.88266386e-02, -5.39706618e-02, -1.80772141e-02,\n",
       "        -4.86519533e-02,  4.53204530e-02, -8.20613990e-03,\n",
       "        -1.38714091e-02],\n",
       "       [ 1.21772811e-02, -6.26046165e-02,  7.27123875e-02,\n",
       "         1.40258126e-01, -1.34757648e-02, -5.30344106e-03,\n",
       "        -9.30003251e-02,  3.65114431e-02, -2.58820368e-02,\n",
       "        -7.13412230e-04],\n",
       "       [-6.52992321e-04, -5.64677100e-03,  3.97873939e-02,\n",
       "         3.66142869e-02, -9.38308347e-03,  7.18765345e-03,\n",
       "        -1.86711272e-03, -1.06555433e-02, -1.08172565e-02,\n",
       "        -2.29035648e-02],\n",
       "       [-9.92816752e-03, -2.11922756e-02,  4.59134756e-02,\n",
       "         9.28079058e-02,  1.60113225e-02,  7.41617757e-03,\n",
       "        -3.11721328e-02, -1.21281649e-02, -2.24578202e-03,\n",
       "        -2.49069101e-03],\n",
       "       [-1.18201133e-02, -3.52578769e-02, -3.81870586e-03,\n",
       "        -2.07902879e-03,  2.91067889e-02, -3.12483945e-02,\n",
       "         2.41088218e-02,  7.31639836e-03,  3.95107189e-02,\n",
       "         1.56456490e-02],\n",
       "       [-1.68822346e-02, -6.06459805e-02,  5.24841081e-02,\n",
       "         1.18254603e-01,  1.21899993e-02, -1.74531942e-02,\n",
       "        -8.65136109e-02,  2.10511351e-02, -3.86506751e-03,\n",
       "         1.22060001e-02],\n",
       "       [-1.36769857e-02,  4.92286343e-02, -1.07342470e-02,\n",
       "         3.66262865e-02,  6.95918814e-02,  4.07451162e-02,\n",
       "        -3.60832951e-02, -1.11144611e-02, -2.46483433e-02,\n",
       "         1.01758911e-02],\n",
       "       [ 1.52735241e-02,  2.63046037e-02, -4.47397238e-02,\n",
       "        -6.78039875e-02, -5.23377536e-02,  7.78051401e-03,\n",
       "         2.14852639e-02,  2.61571233e-02, -9.75893441e-04,\n",
       "        -2.40795596e-03],\n",
       "       [-2.01420055e-02,  1.44408330e-02,  1.64748048e-02,\n",
       "         9.83213679e-03,  2.45902205e-02,  1.56860641e-02,\n",
       "        -2.49826336e-03, -2.08657916e-02, -1.58099974e-02,\n",
       "        -3.95777588e-04],\n",
       "       [-2.34046297e-02, -1.35445363e-01,  1.55347623e-01,\n",
       "         2.97182698e-01,  2.90988007e-02,  2.51945798e-03,\n",
       "        -1.35305683e-01,  3.03697930e-02, -1.05052763e-02,\n",
       "         2.50546676e-02],\n",
       "       [ 2.34324937e-02,  1.35666950e-02, -2.12585388e-02,\n",
       "        -5.87418866e-02, -3.35063353e-02, -1.60003341e-02,\n",
       "         2.36571860e-02, -2.24549174e-04,  5.17130572e-03,\n",
       "         5.92255312e-03],\n",
       "       [-3.36847602e-03, -2.12944517e-02,  4.00484366e-02,\n",
       "         1.21441096e-01, -1.44151666e-03,  2.51893594e-02,\n",
       "        -4.70275570e-02, -4.77482544e-03,  3.38654011e-03,\n",
       "         1.60167026e-02],\n",
       "       [-4.42016574e-03, -1.11438141e-01,  1.46893049e-01,\n",
       "         3.14017411e-01, -1.94550540e-02,  1.11894144e-02,\n",
       "        -1.27182393e-01,  2.21608451e-02, -1.11396450e-02,\n",
       "         3.42218081e-03],\n",
       "       [ 1.05755170e-02, -8.60973357e-04, -4.45867520e-02,\n",
       "        -1.34206594e-01, -1.97044575e-03, -3.97075045e-02,\n",
       "         7.49833652e-02,  3.60744663e-03,  1.78299028e-02,\n",
       "        -3.50106091e-04],\n",
       "       [-7.65144286e-03,  6.26069616e-03, -1.51538978e-03,\n",
       "         1.93889237e-02, -4.69281056e-03,  1.69619360e-02,\n",
       "         2.22416450e-02, -1.70411943e-02,  1.30686962e-02,\n",
       "         5.45874843e-03],\n",
       "       [-2.28161813e-02,  5.32852246e-02, -7.71351133e-02,\n",
       "        -1.28865891e-01,  6.46079735e-02,  6.85086489e-03,\n",
       "         7.79688717e-02, -2.28011834e-02,  2.88701791e-03,\n",
       "         7.46806890e-03],\n",
       "       [-1.39878753e-03, -3.97303866e-02,  4.21598264e-02,\n",
       "         1.19533522e-01,  6.91330161e-03,  1.01696726e-02,\n",
       "        -6.15267914e-02,  1.27408827e-02, -1.57560976e-02,\n",
       "         9.09896769e-03],\n",
       "       [ 2.51484974e-03, -5.61992878e-02,  4.33371788e-02,\n",
       "         6.75125142e-03,  6.23591547e-03, -3.71504307e-02,\n",
       "        -6.07142635e-03, -9.94430852e-03,  1.16934749e-02,\n",
       "        -3.53097948e-03],\n",
       "       [ 1.82798830e-04,  6.03852946e-02, -6.31429427e-02,\n",
       "        -1.52183568e-01,  3.16741628e-02, -7.08034068e-03,\n",
       "         7.66582042e-02, -1.52184685e-02,  1.59945410e-02,\n",
       "        -1.96838863e-02],\n",
       "       [-1.04254774e-02, -4.27048220e-02,  6.60644828e-02,\n",
       "         1.51946446e-01, -4.93117703e-03,  2.30301629e-02,\n",
       "        -4.51908931e-02,  5.06443700e-03, -1.29337535e-02,\n",
       "         4.40116685e-03],\n",
       "       [-1.24518117e-02, -9.42323286e-02,  6.86977287e-02,\n",
       "         1.26411585e-01,  1.09069460e-02, -4.17390256e-02,\n",
       "        -8.16377655e-02,  5.31757936e-02, -1.39897456e-02,\n",
       "         1.86513006e-02],\n",
       "       [-5.29082332e-03,  7.02173357e-02, -8.73867305e-02,\n",
       "        -1.79627163e-01, -2.47711028e-03, -9.58343812e-03,\n",
       "         8.72951230e-02, -1.12963734e-02,  8.48629947e-03,\n",
       "        -5.21326323e-03],\n",
       "       [-1.89794250e-02, -1.05419990e-01,  8.26888514e-02,\n",
       "         1.68965846e-01,  2.91868057e-02, -3.57562316e-02,\n",
       "        -8.79373392e-02,  4.22830204e-02,  6.41916097e-03,\n",
       "         1.93249196e-02],\n",
       "       [-6.72252464e-03,  1.32297400e-01, -1.44840462e-01,\n",
       "        -2.18574328e-01,  3.19726776e-03,  1.60592380e-02,\n",
       "         9.71120549e-02, -4.70686415e-02,  8.88387326e-03,\n",
       "        -1.29841998e-02],\n",
       "       [-3.95343385e-03, -2.82378775e-02,  4.91847311e-02,\n",
       "         1.05874436e-01, -1.87050604e-02,  2.31839433e-02,\n",
       "        -3.82036887e-02,  1.56187374e-02, -8.07874156e-03,\n",
       "         6.06098390e-03],\n",
       "       [-1.06681395e-02, -4.04948496e-02,  1.01153634e-01,\n",
       "         2.11886184e-01,  9.78250866e-04,  4.58426139e-02,\n",
       "        -9.48566007e-02, -2.52023001e-03, -1.75371448e-02,\n",
       "         1.08424720e-02],\n",
       "       [ 1.29918357e-02, -9.59964903e-02,  7.14724927e-02,\n",
       "         1.78823228e-01, -4.94021607e-02, -7.82463419e-03,\n",
       "        -7.42519608e-02,  4.14319899e-02, -9.61669295e-03,\n",
       "         2.30249245e-02],\n",
       "       [ 1.64105988e-02, -4.53578891e-02,  2.07939906e-02,\n",
       "         1.00548205e-02, -2.00035124e-02, -3.15578528e-02,\n",
       "        -2.12774834e-02,  3.86112300e-02,  3.47969431e-03,\n",
       "        -1.64264303e-02],\n",
       "       [ 1.39035890e-03,  8.69991670e-02, -6.81575246e-02,\n",
       "        -1.60462171e-01,  2.53883572e-02,  2.09112388e-02,\n",
       "         8.79159314e-02, -3.42943781e-02, -3.35084584e-03,\n",
       "        -1.24255519e-02],\n",
       "       [ 1.97638581e-02,  1.80138069e-02, -1.10924555e-02,\n",
       "        -3.08326446e-02, -3.68206071e-02,  1.23721859e-02,\n",
       "         6.41235127e-03,  1.64034585e-02, -2.06333578e-02,\n",
       "        -5.70237778e-03],\n",
       "       [ 1.68783183e-02, -5.15441235e-03,  9.29925035e-03,\n",
       "         9.45790931e-02, -7.01485984e-02,  3.72509942e-02,\n",
       "        -5.51896931e-02,  3.38777487e-02, -7.55973849e-03,\n",
       "        -4.42689814e-03],\n",
       "       [ 3.42482865e-03, -4.52572173e-02,  5.06354781e-02,\n",
       "         1.53356686e-01, -3.76484438e-02,  8.65381693e-03,\n",
       "        -8.40397832e-02,  3.28762751e-02, -1.67306180e-02,\n",
       "         1.43310811e-02],\n",
       "       [ 1.35790549e-02,  2.64999545e-02, -9.37742340e-03,\n",
       "        -2.76259603e-02, -2.68196025e-02,  2.12082029e-02,\n",
       "         2.27771293e-02, -2.42774989e-02, -4.20138962e-06,\n",
       "        -3.68165432e-04],\n",
       "       [ 1.06403476e-02, -6.11250325e-02,  7.48500080e-02,\n",
       "         1.87005570e-01, -3.62300656e-02,  1.96645195e-02,\n",
       "        -8.27139531e-02,  4.04139375e-02, -7.15503641e-03,\n",
       "         2.52709430e-03],\n",
       "       [ 1.85982965e-02,  1.02519240e-01, -1.40807300e-01,\n",
       "        -2.89543645e-01, -1.70071624e-02, -2.42663012e-02,\n",
       "         9.55388402e-02,  1.10300822e-02,  5.52098145e-03,\n",
       "        -3.05346207e-02],\n",
       "       [-1.93950608e-03, -5.30294289e-03, -1.17339909e-02,\n",
       "        -7.02759025e-02,  1.88906071e-02, -2.17400112e-02,\n",
       "         1.54106535e-02, -1.01370877e-02,  4.68866000e-03,\n",
       "         5.62820571e-03],\n",
       "       [-2.23061177e-03, -3.57485556e-03,  1.19720978e-03,\n",
       "         1.31029509e-02, -1.10491164e-03, -9.03501020e-04,\n",
       "        -1.75291808e-02,  1.65762056e-02,  6.64240513e-03,\n",
       "        -1.17037917e-03],\n",
       "       [-4.41101337e-03, -3.98448005e-02,  1.90527954e-02,\n",
       "         5.31427097e-02,  1.92086319e-02, -2.23741026e-02,\n",
       "        -2.28606310e-02,  1.00328657e-02,  1.51758443e-02,\n",
       "         2.54472041e-04],\n",
       "       [ 1.25818409e-03, -3.95370912e-02,  6.56837343e-02,\n",
       "         7.01139841e-02, -1.83957309e-03, -3.24044106e-02,\n",
       "        -4.60709330e-02, -3.73168589e-03, -8.90466640e-04,\n",
       "        -2.75169140e-03],\n",
       "       [-1.44787305e-02, -1.31819873e-02, -1.86675231e-02,\n",
       "        -5.51124685e-02,  5.48580924e-02, -2.40578555e-02,\n",
       "         2.78570348e-02, -7.62717217e-03,  1.72822867e-02,\n",
       "         1.06990646e-02],\n",
       "       [-1.73279130e-02, -2.75266738e-02,  3.28077726e-02,\n",
       "         4.42935411e-02,  3.09639207e-02,  6.65911646e-04,\n",
       "        -1.58022168e-02, -4.52664974e-03, -5.40619372e-03,\n",
       "         1.51253640e-02],\n",
       "       [-1.31387252e-02,  3.82298594e-03,  2.22189806e-02,\n",
       "         7.28522675e-02,  1.04462058e-02,  3.35486162e-02,\n",
       "        -2.45457073e-02, -4.30699508e-03, -8.39077007e-03,\n",
       "        -3.97830820e-03],\n",
       "       [ 1.41079465e-03,  8.20047002e-02, -1.03766657e-01,\n",
       "        -2.22976095e-01,  3.18082594e-02, -7.71174151e-03,\n",
       "         1.21725262e-01, -4.02405426e-02,  3.76396953e-02,\n",
       "        -4.35777042e-03],\n",
       "       [ 2.03558709e-03,  4.12305081e-03,  9.15131003e-03,\n",
       "        -2.38848817e-02,  7.95471349e-03, -4.54187960e-03,\n",
       "         1.66911333e-02, -2.29966602e-02, -8.23317205e-03,\n",
       "        -8.48320815e-03],\n",
       "       [-1.02618500e-02,  3.71939707e-02,  1.52660240e-02,\n",
       "         5.08416223e-02, -7.66728814e-03,  5.83911333e-02,\n",
       "        -5.47122993e-03, -3.18124789e-02, -3.43746965e-02,\n",
       "         8.10364660e-03],\n",
       "       [-6.95709060e-04, -7.05891537e-02,  4.14625203e-02,\n",
       "         9.79148519e-02, -2.29061790e-03, -1.56513341e-02,\n",
       "        -6.65252124e-02,  2.97221098e-02, -4.28437444e-03,\n",
       "         2.85110502e-02],\n",
       "       [ 1.12413172e-02, -3.48096394e-02,  5.23128458e-02,\n",
       "         9.26554191e-02, -5.40768175e-02, -7.51932471e-03,\n",
       "        -6.14140115e-02,  1.10115510e-02, -1.15822442e-02,\n",
       "        -1.36401578e-02],\n",
       "       [-1.77542980e-02, -9.94426855e-04, -2.28699222e-02,\n",
       "        -4.72180856e-02,  4.61258343e-02, -2.31972275e-02,\n",
       "         1.14581734e-02,  3.14315008e-04, -1.62490321e-03,\n",
       "         8.37378863e-03],\n",
       "       [ 1.41471119e-02,  1.00358058e-01, -1.20499830e-01,\n",
       "        -2.28116336e-01,  9.61761011e-04, -1.32994096e-02,\n",
       "         8.86019406e-02, -8.55502270e-03,  7.34340187e-03,\n",
       "         4.77358353e-03],\n",
       "       [ 7.01578174e-04, -3.80885381e-02,  4.87350869e-03,\n",
       "        -3.20530410e-03, -2.24568983e-02, -1.84239581e-02,\n",
       "        -1.97323630e-02,  2.90505967e-02, -6.67808820e-03,\n",
       "         6.51377015e-03],\n",
       "       [ 3.00213335e-03,  2.70373197e-02, -2.54796594e-02,\n",
       "        -1.20533780e-01,  1.10800921e-02, -1.57181868e-02,\n",
       "         2.90704287e-02, -2.00018769e-02, -5.65624023e-03,\n",
       "        -1.12379974e-02],\n",
       "       [ 1.90168192e-02,  8.30413051e-02, -8.74148972e-02,\n",
       "        -1.38102795e-01, -3.21195572e-02,  4.00441318e-02,\n",
       "         5.02330443e-02, -7.01330780e-03, -1.47076833e-03,\n",
       "        -1.93392848e-02],\n",
       "       [ 5.32568861e-03,  9.44539472e-02, -1.23690620e-01,\n",
       "        -2.38785180e-01,  1.59718661e-02, -3.20105562e-04,\n",
       "         1.08260833e-01, -2.97925417e-02,  8.41467651e-03,\n",
       "        -1.26265702e-02],\n",
       "       [-3.43350106e-03,  3.65768556e-02, -4.87804118e-02,\n",
       "        -9.74011896e-02,  9.16532315e-03, -4.53509411e-04,\n",
       "         5.12148161e-02, -1.99174099e-02,  5.69645127e-03,\n",
       "         6.27380408e-03],\n",
       "       [-3.51964896e-02, -1.22164138e-02,  6.52860099e-02,\n",
       "         1.39278165e-01,  2.15370156e-02,  5.44579496e-02,\n",
       "        -5.56431567e-02, -1.75443432e-02, -9.41515649e-03,\n",
       "        -4.46822080e-03],\n",
       "       [ 1.93266350e-02,  9.30648166e-02, -1.18273104e-01,\n",
       "        -2.49347135e-01, -1.37007989e-02, -1.48489522e-02,\n",
       "         1.06083808e-01, -1.75254588e-02,  1.03522648e-02,\n",
       "        -1.68043272e-02],\n",
       "       [-8.02456642e-03,  1.33448578e-01, -1.20249446e-01,\n",
       "        -2.22701310e-01,  2.01465327e-02,  2.41899308e-02,\n",
       "         1.08666864e-01, -5.20883641e-02,  2.37710697e-03,\n",
       "        -4.07074091e-03],\n",
       "       [ 1.09515217e-02,  1.40421816e-01, -1.61128094e-01,\n",
       "        -3.12275603e-01, -2.10450247e-02,  6.98957110e-03,\n",
       "         1.39147880e-01, -4.65680142e-02,  1.15397430e-02,\n",
       "        -2.47058996e-02],\n",
       "       [ 2.75319775e-03,  1.31044384e-01, -1.40395027e-01,\n",
       "        -2.46824596e-01,  6.88633113e-04,  5.94198458e-03,\n",
       "         1.02822929e-01, -5.16227052e-02,  1.52294968e-02,\n",
       "        -2.80590653e-03],\n",
       "       [-7.25060565e-04,  8.25943011e-02, -1.40023850e-01,\n",
       "        -2.69733265e-01,  4.37117530e-02, -2.57571490e-02,\n",
       "         9.24121321e-02, -7.08277058e-04,  1.23054210e-03,\n",
       "         3.25993979e-03],\n",
       "       [-3.07376502e-03, -1.70917548e-01,  1.88468778e-01,\n",
       "         3.78242128e-01, -2.10304314e-02,  9.58224989e-03,\n",
       "        -1.74626012e-01,  5.56152972e-02, -2.48842930e-02,\n",
       "         2.90408136e-02],\n",
       "       [-1.54167730e-02,  5.04350311e-02, -6.89019817e-02,\n",
       "        -1.86320788e-01,  7.88758702e-02, -2.19080237e-02,\n",
       "         6.68463514e-02, -3.99325635e-02, -2.00404758e-03,\n",
       "         5.87115964e-03],\n",
       "       [-1.60930434e-02, -6.93265548e-02,  1.06661694e-01,\n",
       "         2.61911630e-01, -7.81347976e-03,  3.35487381e-02,\n",
       "        -8.54062348e-02, -6.62630959e-03,  9.99929078e-03,\n",
       "         2.71037272e-03],\n",
       "       [ 4.42308239e-03, -1.01944686e-02, -3.05318070e-02,\n",
       "        -1.17969544e-01,  3.06735695e-02, -5.04589732e-02,\n",
       "         3.95767500e-02, -1.21566341e-02,  1.15457461e-02,\n",
       "        -1.07923515e-02],\n",
       "       [ 9.36965768e-03, -1.45522864e-02,  1.69947067e-02,\n",
       "         1.79121062e-02,  2.38022116e-02, -6.03795899e-03,\n",
       "        -9.47044506e-03,  1.16810780e-02,  6.42086093e-03,\n",
       "         1.31548674e-02],\n",
       "       [ 2.94071485e-02,  5.14049636e-03,  7.22205209e-03,\n",
       "         9.09454649e-03, -4.01957727e-02, -1.83783338e-04,\n",
       "        -1.05358287e-02,  7.12646378e-03, -5.68634290e-03,\n",
       "         4.57453179e-03],\n",
       "       [ 2.67728540e-03,  2.19397463e-02, -4.52639590e-02,\n",
       "        -1.69802914e-01,  6.53169563e-02, -4.17262065e-02,\n",
       "         6.80054227e-02, -3.53969756e-02,  1.42407436e-02,\n",
       "        -4.00858299e-03],\n",
       "       [-4.37979366e-03, -3.34477128e-02,  4.94786858e-02,\n",
       "         9.97529814e-02, -2.83166121e-02,  2.99889596e-02,\n",
       "        -4.03735041e-02,  1.17241877e-02, -5.71836263e-03,\n",
       "         4.74692920e-03],\n",
       "       [ 3.69838780e-02,  7.57394303e-02, -1.01711274e-01,\n",
       "        -2.08496792e-01, -2.19328690e-02, -2.29451005e-02,\n",
       "         9.81746468e-02, -2.80951238e-02,  3.32056486e-02,\n",
       "        -4.38105374e-03],\n",
       "       [-4.38344797e-03,  8.24676262e-02, -9.78282636e-02,\n",
       "        -2.05497457e-01,  3.45019284e-02, -7.71359481e-03,\n",
       "         1.05093429e-01, -3.26648350e-02,  2.48105849e-02,\n",
       "        -8.11829344e-03],\n",
       "       [-6.44949207e-03,  1.61151303e-01, -1.59036432e-01,\n",
       "        -3.44058572e-01,  5.79457153e-02,  8.21096707e-03,\n",
       "         1.53546806e-01, -8.69577136e-02,  1.21113895e-02,\n",
       "        -6.56455551e-03],\n",
       "       [-1.46799788e-02, -2.40656105e-02,  3.50597741e-02,\n",
       "         2.96932245e-02,  2.83399545e-02,  5.04431986e-03,\n",
       "        -1.54951151e-02, -8.61629336e-04, -1.14802497e-02,\n",
       "         1.21604339e-03],\n",
       "       [-3.19968502e-02, -3.35363469e-02,  1.68504992e-02,\n",
       "         3.07282353e-02,  9.13270930e-02, -2.73705176e-02,\n",
       "        -1.18228180e-02, -2.69505735e-02,  1.38104823e-02,\n",
       "         2.94650702e-02],\n",
       "       [-1.08236423e-02,  2.04413781e-03,  2.99805853e-02,\n",
       "         4.06711027e-02,  5.56964418e-02,  1.09941971e-02,\n",
       "        -1.19009190e-02, -2.38335522e-02, -2.12193982e-02,\n",
       "         8.02686435e-03],\n",
       "       [ 1.08609332e-02,  3.54953883e-02, -2.29796628e-02,\n",
       "        -8.83445872e-02, -9.07067249e-03, -1.37988155e-02,\n",
       "         3.04986747e-02, -2.08050167e-02, -5.93241074e-03,\n",
       "        -1.78183486e-02],\n",
       "       [-9.81978241e-03, -1.91123740e-02,  2.17826749e-02,\n",
       "         2.71860518e-02,  4.75342456e-02, -3.60892637e-03,\n",
       "        -1.42781484e-02, -2.09461098e-03, -2.31617791e-03,\n",
       "         1.78599877e-03],\n",
       "       [ 1.37838610e-02, -5.25925445e-03,  6.62309254e-03,\n",
       "        -2.81584211e-02, -1.53210792e-02, -1.82145174e-02,\n",
       "        -6.70166693e-04,  1.56975773e-02, -8.71045110e-03,\n",
       "        -1.18960625e-02],\n",
       "       [-2.50294692e-04, -4.30446105e-02,  7.61396613e-02,\n",
       "         1.02438879e-01, -1.05072566e-02,  4.28508148e-03,\n",
       "        -1.77010263e-02, -1.46229499e-02,  4.34810731e-03,\n",
       "        -2.05266903e-03],\n",
       "       [-9.58948088e-03, -8.63154886e-02,  8.68139830e-02,\n",
       "         1.81290887e-01, -2.14915301e-02, -5.06868798e-03,\n",
       "        -1.22632682e-01,  4.86821965e-02, -3.15065683e-02,\n",
       "         5.92442767e-03],\n",
       "       [ 3.32434788e-03, -1.02494645e-02,  4.84481848e-02,\n",
       "         1.09342220e-01, -3.49116773e-03,  2.16451160e-02,\n",
       "        -2.99257874e-02, -1.84115548e-02,  9.31849944e-04,\n",
       "        -9.01037490e-03],\n",
       "       [-5.33076918e-04, -8.39987772e-02,  8.20208399e-02,\n",
       "         1.29828685e-01,  1.74651162e-02, -6.32507174e-03,\n",
       "        -7.87519525e-02,  2.35866574e-02, -2.25921267e-02,\n",
       "         1.88281448e-02],\n",
       "       [ 3.94194572e-03,  7.05629184e-02, -5.75829563e-02,\n",
       "        -1.31615840e-01,  1.23454852e-02,  1.78173737e-04,\n",
       "         6.08334292e-02, -3.40254731e-02, -2.18585895e-04,\n",
       "        -1.24533444e-02],\n",
       "       [-6.52704671e-03,  1.88500603e-02,  2.18142901e-02,\n",
       "         6.08307423e-02,  2.55705986e-02,  4.91305123e-02,\n",
       "        -7.70864602e-03, -3.05190323e-02, -1.53150815e-02,\n",
       "         5.22090241e-03],\n",
       "       [ 1.85492130e-02,  2.74378675e-02, -3.40871619e-02,\n",
       "         6.04752450e-03, -6.03212414e-02,  3.33649525e-02,\n",
       "        -1.67865051e-02,  2.35279567e-02, -9.86073991e-03,\n",
       "        -1.47607565e-02],\n",
       "       [ 7.09556693e-03,  3.36628739e-03,  2.61782954e-02,\n",
       "         7.11314035e-02, -3.37055213e-02,  3.33366221e-02,\n",
       "        -4.66157153e-02,  1.14061254e-02, -1.78808004e-02,\n",
       "        -2.22851427e-02],\n",
       "       [-1.46100850e-02, -8.71760054e-02,  7.30267338e-02,\n",
       "         1.30173504e-01,  1.54892732e-02, -9.44923970e-03,\n",
       "        -3.57673419e-02,  1.19201499e-02,  8.61611415e-03,\n",
       "         6.79058235e-03],\n",
       "       [-5.02979961e-03, -5.06702942e-02,  1.03502081e-01,\n",
       "         1.71642573e-01,  1.88616716e-02,  3.62138136e-02,\n",
       "        -7.03281610e-02, -5.28995680e-03, -3.15653218e-02,\n",
       "         6.30804302e-03],\n",
       "       [-9.30463437e-03, -4.38977599e-02,  8.61292399e-02,\n",
       "         1.55000614e-01, -1.22747148e-02,  1.53257695e-02,\n",
       "        -7.68121037e-02,  9.54841712e-03, -1.78368432e-02,\n",
       "        -4.51141191e-03],\n",
       "       [-4.64827757e-03,  1.04633125e-01, -9.71007295e-02,\n",
       "        -1.44320391e-01,  2.04424153e-02,  2.49263940e-02,\n",
       "         5.74085310e-02, -2.27805165e-02, -6.59453976e-03,\n",
       "        -3.27365620e-04]])"
      ]
     },
     "execution_count": 58,
     "metadata": {},
     "output_type": "execute_result"
    }
   ],
   "source": [
    "x_inv[:100,:10].compute()"
   ]
  },
  {
   "cell_type": "markdown",
   "metadata": {
    "slideshow": {
     "slide_type": "-"
    }
   },
   "source": [
    "Being able to take an inverse of an array in parallel with minimal memory is __very powerful__ and __very useful__ in many cases!"
   ]
  },
  {
   "cell_type": "markdown",
   "metadata": {
    "slideshow": {
     "slide_type": "slide"
    }
   },
   "source": [
    "One of the uses of dask arrays would be processing high granularity satelite data.\n",
    "\n",
    "Your workflow might look like:\n",
    "- Read in a numpy array from a raster.\n",
    "- Process the numpy array in the desired way (e.g. clipping, transformations).\n",
    "- Write out the processed file.\n",
    "\n",
    "Potentially useful for doing linear algebra on very large arrays as well."
   ]
  },
  {
   "cell_type": "markdown",
   "metadata": {
    "slideshow": {
     "slide_type": "slide"
    }
   },
   "source": [
    "## Other Application of Dask\n",
    "- Machine learning\n",
    "    - Dask has a package that blends seamlessly with the `sklearn` machine learning packages, which makes processing, cross-validation, and hyperparameter tuning all possible in the `dask` framework.\n",
    "- Cluster programming\n",
    "    - One of the best uses of `dask` is working on __multiple computers__, which is what this framework is usually used for.\n",
    "    - While its useful on a desktop, it is the most powerful when you have multiple clusters on a server you can use.\n"
   ]
  },
  {
   "cell_type": "markdown",
   "metadata": {
    "slideshow": {
     "slide_type": "slide"
    }
   },
   "source": [
    "### Next Topic: Using Clusters and Cloud Computing"
   ]
  }
 ],
 "metadata": {
  "celltoolbar": "Slideshow",
  "kernelspec": {
   "display_name": "Python 3 (ipykernel)",
   "language": "python",
   "name": "python3"
  },
  "language_info": {
   "codemirror_mode": {
    "name": "ipython",
    "version": 3
   },
   "file_extension": ".py",
   "mimetype": "text/x-python",
   "name": "python",
   "nbconvert_exporter": "python",
   "pygments_lexer": "ipython3",
   "version": "3.11.7"
  },
  "rise": {
   "height": "80%",
   "transition": "none"
  }
 },
 "nbformat": 4,
 "nbformat_minor": 4
}
