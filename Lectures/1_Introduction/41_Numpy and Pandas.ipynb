{
 "cells": [
  {
   "cell_type": "markdown",
   "metadata": {
    "slideshow": {
     "slide_type": "slide"
    }
   },
   "source": [
    "# Numpy and Pandas"
   ]
  },
  {
   "cell_type": "markdown",
   "metadata": {
    "slideshow": {
     "slide_type": "slide"
    }
   },
   "source": [
    "## Numpy \n",
    "\n",
    "Numpy works mostly with arrays, much like Matlab and R.\n",
    "\n",
    "Here I'll briefly show some of the functionality of Numpy."
   ]
  },
  {
   "cell_type": "code",
   "execution_count": 1,
   "metadata": {
    "slideshow": {
     "slide_type": "-"
    }
   },
   "outputs": [],
   "source": [
    "import numpy as np"
   ]
  },
  {
   "cell_type": "markdown",
   "metadata": {
    "slideshow": {
     "slide_type": "slide"
    }
   },
   "source": [
    "#### Creating arrays"
   ]
  },
  {
   "cell_type": "code",
   "execution_count": 2,
   "metadata": {
    "slideshow": {
     "slide_type": "-"
    }
   },
   "outputs": [
    {
     "data": {
      "text/plain": [
       "array([1., 1., 1.])"
      ]
     },
     "execution_count": 2,
     "metadata": {},
     "output_type": "execute_result"
    }
   ],
   "source": [
    "np.ones(3)"
   ]
  },
  {
   "cell_type": "code",
   "execution_count": 3,
   "metadata": {
    "slideshow": {
     "slide_type": "-"
    }
   },
   "outputs": [
    {
     "data": {
      "text/plain": [
       "array([0., 0., 0.])"
      ]
     },
     "execution_count": 3,
     "metadata": {},
     "output_type": "execute_result"
    }
   ],
   "source": [
    "np.zeros(3)"
   ]
  },
  {
   "cell_type": "code",
   "execution_count": 4,
   "metadata": {
    "slideshow": {
     "slide_type": "slide"
    }
   },
   "outputs": [
    {
     "data": {
      "text/plain": [
       "array([[1., 0., 0.],\n",
       "       [0., 1., 0.],\n",
       "       [0., 0., 1.]])"
      ]
     },
     "execution_count": 4,
     "metadata": {},
     "output_type": "execute_result"
    }
   ],
   "source": [
    "np.identity(3)"
   ]
  },
  {
   "cell_type": "code",
   "execution_count": 5,
   "metadata": {
    "slideshow": {
     "slide_type": "-"
    }
   },
   "outputs": [
    {
     "data": {
      "text/plain": [
       "array([1., 1., 1.])"
      ]
     },
     "execution_count": 5,
     "metadata": {},
     "output_type": "execute_result"
    }
   ],
   "source": [
    "np.diagonal(np.identity(3))"
   ]
  },
  {
   "cell_type": "code",
   "execution_count": 6,
   "metadata": {
    "slideshow": {
     "slide_type": "slide"
    }
   },
   "outputs": [
    {
     "data": {
      "text/plain": [
       "array([2, 4, 6, 8])"
      ]
     },
     "execution_count": 6,
     "metadata": {},
     "output_type": "execute_result"
    }
   ],
   "source": [
    "np.arange(2,10,2) #(start, stop, step)"
   ]
  },
  {
   "cell_type": "code",
   "execution_count": 7,
   "metadata": {
    "slideshow": {
     "slide_type": "-"
    }
   },
   "outputs": [
    {
     "data": {
      "text/plain": [
       "array([2., 4., 6., 8.])"
      ]
     },
     "execution_count": 7,
     "metadata": {},
     "output_type": "execute_result"
    }
   ],
   "source": [
    "np.linspace(2,8,4) #(start, stop, number of elements)"
   ]
  },
  {
   "cell_type": "markdown",
   "metadata": {
    "slideshow": {
     "slide_type": "slide"
    }
   },
   "source": [
    "Nested lists make a matrix:"
   ]
  },
  {
   "cell_type": "code",
   "execution_count": 8,
   "metadata": {
    "slideshow": {
     "slide_type": "-"
    }
   },
   "outputs": [
    {
     "data": {
      "text/plain": [
       "array([[1, 2, 3],\n",
       "       [4, 5, 6],\n",
       "       [7, 8, 9]])"
      ]
     },
     "execution_count": 8,
     "metadata": {},
     "output_type": "execute_result"
    }
   ],
   "source": [
    "m = np.array([[1,2,3],\n",
    "              [4,5,6],\n",
    "              [7,8,9]])\n",
    "m"
   ]
  },
  {
   "cell_type": "markdown",
   "metadata": {
    "slideshow": {
     "slide_type": "slide"
    }
   },
   "source": [
    "Slicing works the same way as lists, but with two indices instead of one:"
   ]
  },
  {
   "cell_type": "code",
   "execution_count": 9,
   "metadata": {
    "slideshow": {
     "slide_type": "-"
    }
   },
   "outputs": [
    {
     "data": {
      "text/plain": [
       "array([[1, 2, 3],\n",
       "       [4, 5, 6],\n",
       "       [7, 8, 9]])"
      ]
     },
     "execution_count": 9,
     "metadata": {},
     "output_type": "execute_result"
    }
   ],
   "source": [
    "m"
   ]
  },
  {
   "cell_type": "code",
   "execution_count": 10,
   "metadata": {
    "slideshow": {
     "slide_type": "-"
    }
   },
   "outputs": [
    {
     "data": {
      "text/plain": [
       "array([[1, 2],\n",
       "       [4, 5]])"
      ]
     },
     "execution_count": 10,
     "metadata": {},
     "output_type": "execute_result"
    }
   ],
   "source": [
    "m[:2,:2]"
   ]
  },
  {
   "cell_type": "markdown",
   "metadata": {
    "slideshow": {
     "slide_type": "slide"
    }
   },
   "source": [
    "#### Linear Algebra Operations"
   ]
  },
  {
   "cell_type": "code",
   "execution_count": 11,
   "metadata": {
    "slideshow": {
     "slide_type": "-"
    }
   },
   "outputs": [
    {
     "data": {
      "text/plain": [
       "array([[0.5, 0. , 0. ],\n",
       "       [0. , 0.5, 0. ],\n",
       "       [0. , 0. , 0.5]])"
      ]
     },
     "execution_count": 11,
     "metadata": {},
     "output_type": "execute_result"
    }
   ],
   "source": [
    "I = np.identity(3)/2\n",
    "I"
   ]
  },
  {
   "cell_type": "code",
   "execution_count": 12,
   "metadata": {
    "slideshow": {
     "slide_type": "-"
    }
   },
   "outputs": [
    {
     "data": {
      "text/plain": [
       "array([[2., 0., 0.],\n",
       "       [0., 2., 0.],\n",
       "       [0., 0., 2.]])"
      ]
     },
     "execution_count": 12,
     "metadata": {},
     "output_type": "execute_result"
    }
   ],
   "source": [
    "np.linalg.inv(I)"
   ]
  },
  {
   "cell_type": "code",
   "execution_count": 13,
   "metadata": {},
   "outputs": [
    {
     "data": {
      "text/plain": [
       "1.5"
      ]
     },
     "execution_count": 13,
     "metadata": {},
     "output_type": "execute_result"
    }
   ],
   "source": [
    "np.trace(I)"
   ]
  },
  {
   "cell_type": "code",
   "execution_count": 14,
   "metadata": {
    "slideshow": {
     "slide_type": "slide"
    }
   },
   "outputs": [
    {
     "data": {
      "text/plain": [
       "array([0.5, 0.5, 0.5])"
      ]
     },
     "execution_count": 14,
     "metadata": {},
     "output_type": "execute_result"
    }
   ],
   "source": [
    "np.linalg.eigvals(I)"
   ]
  },
  {
   "cell_type": "markdown",
   "metadata": {
    "slideshow": {
     "slide_type": "slide"
    }
   },
   "source": [
    "### Warning: Copying in Numpy\n",
    "What is the difference between these two blocks?"
   ]
  },
  {
   "cell_type": "code",
   "execution_count": 18,
   "metadata": {
    "slideshow": {
     "slide_type": "-"
    }
   },
   "outputs": [
    {
     "data": {
      "text/plain": [
       "array([[1, 0, 3],\n",
       "       [4, 5, 6],\n",
       "       [7, 8, 9]])"
      ]
     },
     "execution_count": 18,
     "metadata": {},
     "output_type": "execute_result"
    }
   ],
   "source": [
    "m = np.arange(1,10,1).reshape(3,3)\n",
    "m1 = m\n",
    "m1[0,1] = 0\n",
    "m"
   ]
  },
  {
   "cell_type": "code",
   "execution_count": 19,
   "metadata": {
    "slideshow": {
     "slide_type": "-"
    }
   },
   "outputs": [
    {
     "data": {
      "text/plain": [
       "array([[1, 2, 3],\n",
       "       [4, 5, 6],\n",
       "       [7, 8, 9]])"
      ]
     },
     "execution_count": 19,
     "metadata": {},
     "output_type": "execute_result"
    }
   ],
   "source": [
    "m = np.arange(1,10,1).reshape(3,3)\n",
    "m2 = np.copy(m)\n",
    "m2[0,1] = 0\n",
    "m"
   ]
  },
  {
   "cell_type": "markdown",
   "metadata": {
    "slideshow": {
     "slide_type": "slide"
    }
   },
   "source": [
    "### Important thing about Arrays:\n",
    "When creating a subset of the array like m1, it is a __view__ and __not a copy__.\n",
    "\n",
    "This means if you edit it, it will actually edit the original one.\n",
    "\n",
    "Basic numpy practice is to use \"np.copy\" to create a new version that you can edit without affecting the underlying array."
   ]
  },
  {
   "cell_type": "markdown",
   "metadata": {
    "slideshow": {
     "slide_type": "slide"
    }
   },
   "source": [
    "Also edits it if you assign values to a slice."
   ]
  },
  {
   "cell_type": "code",
   "execution_count": 21,
   "metadata": {
    "slideshow": {
     "slide_type": "-"
    }
   },
   "outputs": [
    {
     "data": {
      "text/plain": [
       "array([[1, 2, 3],\n",
       "       [4, 5, 6],\n",
       "       [0, 8, 9]])"
      ]
     },
     "execution_count": 21,
     "metadata": {},
     "output_type": "execute_result"
    }
   ],
   "source": [
    "ex = m[2]\n",
    "ex[0] = 0\n",
    "m"
   ]
  },
  {
   "cell_type": "markdown",
   "metadata": {
    "slideshow": {
     "slide_type": "slide"
    }
   },
   "source": [
    "### Random Number Generation\n",
    "In our last example, I prespecified a list. The way I made that list was using numpy functions.\n",
    "\n"
   ]
  },
  {
   "cell_type": "code",
   "execution_count": 22,
   "metadata": {
    "scrolled": true,
    "slideshow": {
     "slide_type": "-"
    }
   },
   "outputs": [
    {
     "data": {
      "text/plain": [
       "array([-2.71172283e-01,  1.67285543e-01,  1.58685586e-03, -1.17760278e+00,\n",
       "       -1.87806718e+00, -1.73264536e-01,  7.06006228e-01, -5.37106460e-01,\n",
       "       -1.34337161e+00, -4.39508015e-02,  9.56211974e-01, -1.54452235e+00,\n",
       "        8.20304062e-01, -1.12271183e+00, -7.42095661e-02,  9.27633641e-02,\n",
       "        9.26382881e-01, -6.03088905e-01, -4.38156667e-02,  3.43578361e-01,\n",
       "       -1.61898924e-01,  1.02261297e+00, -8.68589675e-01, -6.52013142e-02,\n",
       "       -1.50021802e+00, -1.13971373e+00, -5.43493646e-01,  1.15485065e+00,\n",
       "        1.44666727e+00,  1.43339595e+00, -1.91582031e-02,  1.13042048e-01,\n",
       "       -2.31047346e-01,  1.50113723e+00, -4.67102623e-01, -1.18053419e+00,\n",
       "       -5.80482388e-01, -5.59526326e-01,  8.69091463e-01, -4.39791779e-01,\n",
       "        3.30734751e-03, -4.42277625e-02,  1.51410365e+00, -1.18803054e-01,\n",
       "        6.55855067e-01,  1.06296578e+00, -3.73875172e-02,  3.49348851e-01,\n",
       "        3.12822830e-01, -2.84193425e-01, -2.01386451e-01,  8.24009811e-01,\n",
       "        2.56690683e-01, -2.54901231e+00,  9.17914549e-01,  6.19532633e-01,\n",
       "       -2.08030461e+00,  5.93806771e-01, -2.02479387e+00, -7.72734809e-01,\n",
       "        1.51475931e+00,  1.09983259e+00, -1.42762909e+00,  1.45329653e+00,\n",
       "       -3.58430543e-01, -5.50081704e-01, -5.38010462e-01,  1.12312378e+00,\n",
       "        1.30076628e+00,  1.45155331e+00, -3.17692086e-01,  9.45149580e-01,\n",
       "       -1.03955299e+00, -1.69318499e+00,  4.32266171e-01,  1.35923304e+00,\n",
       "        9.08337746e-01,  9.78080226e-01,  1.31759847e-01, -6.56368529e-01,\n",
       "       -1.38230804e+00,  1.60262413e+00,  7.95041158e-02,  8.85349499e-01,\n",
       "       -1.91300093e+00, -5.54532801e-01, -1.80557149e+00, -1.11302927e+00,\n",
       "       -1.11197310e+00,  1.91363034e+00,  2.06706006e+00, -1.09584034e+00,\n",
       "       -3.70228565e-01,  5.49923967e-01,  4.53584885e-01, -1.54342695e-01,\n",
       "        8.03587998e-02, -2.09637833e-01, -3.28037480e-01, -1.23556253e-01])"
      ]
     },
     "execution_count": 22,
     "metadata": {},
     "output_type": "execute_result"
    }
   ],
   "source": [
    "np.random.randn(100) # This generates 100 draws from N(0,1)"
   ]
  },
  {
   "cell_type": "markdown",
   "metadata": {
    "slideshow": {
     "slide_type": "slide"
    }
   },
   "source": [
    "Instead of using for loops, we can do matrix calculations."
   ]
  },
  {
   "cell_type": "code",
   "execution_count": 23,
   "metadata": {
    "slideshow": {
     "slide_type": "-"
    }
   },
   "outputs": [
    {
     "data": {
      "text/plain": [
       "array([[-1.02234556e+00],\n",
       "       [ 2.74077400e+00],\n",
       "       [-7.79397497e-01],\n",
       "       [ 1.39246759e+00],\n",
       "       [-3.24284114e+00],\n",
       "       [-4.16469200e-01],\n",
       "       [-2.79071436e+00],\n",
       "       [ 3.01862079e+00],\n",
       "       [ 2.31075605e+00],\n",
       "       [-1.25772249e-02],\n",
       "       [ 3.50120679e-02],\n",
       "       [-2.12598564e+00],\n",
       "       [-3.75869187e+00],\n",
       "       [ 8.86445173e-01],\n",
       "       [ 8.77074574e-01],\n",
       "       [ 2.32167110e-01],\n",
       "       [-3.43497709e-01],\n",
       "       [-2.48031613e-01],\n",
       "       [ 1.42361078e+00],\n",
       "       [ 1.37621247e+00],\n",
       "       [-1.07543971e+00],\n",
       "       [-4.27202439e-03],\n",
       "       [-3.62583951e+00],\n",
       "       [-6.00310141e-02],\n",
       "       [ 1.56079739e+00],\n",
       "       [-9.02443315e-01],\n",
       "       [-2.77172852e+00],\n",
       "       [ 1.32676453e+00],\n",
       "       [-2.01475401e+00],\n",
       "       [-3.12659028e-01],\n",
       "       [-2.62822214e-01],\n",
       "       [-2.79065239e+00],\n",
       "       [ 7.62310569e-01],\n",
       "       [ 1.26584100e-01],\n",
       "       [-2.44811178e-01],\n",
       "       [ 7.26443769e-01],\n",
       "       [-2.54130783e-01],\n",
       "       [-1.38791873e+00],\n",
       "       [-2.79283911e+00],\n",
       "       [-3.66948301e+00],\n",
       "       [ 5.84713639e-01],\n",
       "       [ 1.61677055e+00],\n",
       "       [ 1.64154731e+00],\n",
       "       [-2.35320308e+00],\n",
       "       [ 1.06688841e+00],\n",
       "       [ 2.87900381e-01],\n",
       "       [-5.36860572e-01],\n",
       "       [ 9.77580562e-01],\n",
       "       [-4.82671066e-01],\n",
       "       [-3.10681755e-01],\n",
       "       [ 3.54030186e+00],\n",
       "       [-3.32419720e+00],\n",
       "       [ 2.81379610e+00],\n",
       "       [-2.34447485e+00],\n",
       "       [-5.14308995e-01],\n",
       "       [ 1.80675891e+00],\n",
       "       [-3.64893071e+00],\n",
       "       [-1.02283076e-01],\n",
       "       [-3.38531961e+00],\n",
       "       [-3.64525237e-02],\n",
       "       [-5.86008538e-01],\n",
       "       [-1.83958254e+00],\n",
       "       [-1.76445419e+00],\n",
       "       [-3.72945797e+00],\n",
       "       [ 1.00530940e+00],\n",
       "       [ 5.73693139e-01],\n",
       "       [-2.39726365e+00],\n",
       "       [ 1.51186658e+00],\n",
       "       [-2.58060192e+00],\n",
       "       [-1.82350830e+00],\n",
       "       [ 5.58080503e-01],\n",
       "       [-1.23793886e-01],\n",
       "       [-1.14207631e+00],\n",
       "       [-7.62369407e-01],\n",
       "       [-4.49663661e+00],\n",
       "       [-3.00890275e+00],\n",
       "       [-5.20359392e-01],\n",
       "       [ 5.82710933e-01],\n",
       "       [-1.42375571e+00],\n",
       "       [ 2.03150507e-01],\n",
       "       [-2.82566535e+00],\n",
       "       [-3.60810970e-01],\n",
       "       [-7.96590153e-01],\n",
       "       [ 2.45568773e+00],\n",
       "       [-5.50473058e-01],\n",
       "       [-8.29980456e-01],\n",
       "       [ 4.12163800e+00],\n",
       "       [-2.90756308e+00],\n",
       "       [ 4.36840791e-02],\n",
       "       [-5.02972283e-01],\n",
       "       [ 1.69856668e+00],\n",
       "       [-3.52258414e+00],\n",
       "       [ 1.89556611e+00],\n",
       "       [-4.25731785e+00],\n",
       "       [ 3.96388736e+00],\n",
       "       [ 2.18815270e-01],\n",
       "       [ 5.81634686e+00],\n",
       "       [ 1.02199286e+00],\n",
       "       [ 8.49749168e-01],\n",
       "       [-2.73250319e+00]])"
      ]
     },
     "execution_count": 23,
     "metadata": {},
     "output_type": "execute_result"
    }
   ],
   "source": [
    "X = np.random.randn(100,1)\n",
    "e = np.random.randn(100,1)\n",
    "\n",
    "Y = 2*X + e\n",
    "Y"
   ]
  },
  {
   "cell_type": "markdown",
   "metadata": {
    "slideshow": {
     "slide_type": "slide"
    }
   },
   "source": [
    "Numpy could estimate the linear regression parameter two different ways:\n",
    "- Matrix way.\n",
    "- Numerical way."
   ]
  },
  {
   "cell_type": "markdown",
   "metadata": {
    "slideshow": {
     "slide_type": "slide"
    }
   },
   "source": [
    "#### The matrix way. \n",
    "\n",
    "What's the formula?\n",
    "\n"
   ]
  },
  {
   "cell_type": "markdown",
   "metadata": {
    "slideshow": {
     "slide_type": "slide"
    }
   },
   "source": [
    "$\\beta = (X'X)^{-1}(X'Y)$"
   ]
  },
  {
   "cell_type": "code",
   "execution_count": 27,
   "metadata": {
    "slideshow": {
     "slide_type": "-"
    }
   },
   "outputs": [
    {
     "data": {
      "text/plain": [
       "array([[1.8344806]])"
      ]
     },
     "execution_count": 27,
     "metadata": {},
     "output_type": "execute_result"
    }
   ],
   "source": [
    "from numpy.linalg import inv as inverse # Renamed the function\n",
    "\n",
    "XX_inv = inverse(X.T@X) # (X'X)^{-1}\n",
    "                        # @ = matrix multiplication\n",
    "XY = X.T@Y              # (X'Y)\n",
    "beta_hat = XX_inv@XY  \n",
    "beta_hat"
   ]
  },
  {
   "cell_type": "markdown",
   "metadata": {
    "slideshow": {
     "slide_type": "-"
    }
   },
   "source": [
    "Easy as that!"
   ]
  },
  {
   "cell_type": "markdown",
   "metadata": {
    "slideshow": {
     "slide_type": "slide"
    }
   },
   "source": [
    "#### The numerical way\n",
    "\n",
    "I'll use the SSE function we used before, but instead of using a for loop to determine things I will use:\n",
    "- Matrix operations to find SSE\n",
    "- A list comprehension to calculate SSE for different $\\beta$\n",
    "- The function \"np.argmin\" to find the array element with the smallest value."
   ]
  },
  {
   "cell_type": "code",
   "execution_count": null,
   "metadata": {
    "slideshow": {
     "slide_type": "slide"
    }
   },
   "outputs": [],
   "source": [
    "def sse(beta,X,Y):\n",
    "    sse_array = ((Y- X*beta)**2) # * = element by element multiplication\n",
    "    sse = sse_array.sum() # Sum the array\n",
    "    return sse\n",
    "\n",
    "beta_grid = [-1,0,1,2,3,4] # Choose some candidates for beta\n",
    "\n",
    "sse_vals = np.array([sse(b,X,Y) for b in beta_grid]) # List comprehension!\n",
    "\n",
    "beta_grid[np.argmin(sse_vals)] # argmin tells me the index \n",
    "                               # for the element of the array with the smallest value"
   ]
  },
  {
   "cell_type": "markdown",
   "metadata": {
    "slideshow": {
     "slide_type": "-"
    }
   },
   "source": [
    "and __voila!__ We can do linear regression with numpy arrays either numerically or with the matrix formula."
   ]
  },
  {
   "attachments": {
    "image.png": {
     "image/png": "[encoded data removed]"
    }
   },
   "cell_type": "markdown",
   "metadata": {
    "slideshow": {
     "slide_type": "slide"
    }
   },
   "source": [
    "### Some other Numpy things that you will find to be useful\n",
    "- Indexing arrays:\n",
    "    - Just like lists, you can use slices like `array[::2]`\n",
    "    - Or pass Boolean vectors to subset: `array[array<2]`\n",
    "![image.png](attachment:image.png)\n",
    "<center>from PyEcon slideshow, slide 118: https://pyecon.org/down/pyecon.pdf </center>\n"
   ]
  },
  {
   "cell_type": "markdown",
   "metadata": {
    "slideshow": {
     "slide_type": "slide"
    }
   },
   "source": [
    "- Concatenating arrays:\n",
    "    - As long as the dimensions align, you can concatenate by specifying \"axis\": `np.concatenate([arr1,arr2],axis=0)`\n",
    "    - Cheat sheet: `axis=0` is the __row axis__, `axis=1` is the __column axis__."
   ]
  },
  {
   "cell_type": "code",
   "execution_count": 28,
   "metadata": {},
   "outputs": [
    {
     "data": {
      "text/plain": [
       "array([[1, 2, 3, 1, 2, 3],\n",
       "       [4, 5, 6, 4, 5, 6],\n",
       "       [0, 8, 9, 0, 8, 9]])"
      ]
     },
     "execution_count": 28,
     "metadata": {},
     "output_type": "execute_result"
    }
   ],
   "source": [
    "np.concatenate([m,m],axis=1)"
   ]
  },
  {
   "cell_type": "code",
   "execution_count": 29,
   "metadata": {
    "slideshow": {
     "slide_type": "slide"
    }
   },
   "outputs": [
    {
     "data": {
      "text/plain": [
       "array([[1, 2, 3],\n",
       "       [4, 5, 6],\n",
       "       [0, 8, 9],\n",
       "       [1, 2, 3],\n",
       "       [4, 5, 6],\n",
       "       [0, 8, 9]])"
      ]
     },
     "execution_count": 29,
     "metadata": {},
     "output_type": "execute_result"
    }
   ],
   "source": [
    "np.concatenate([m,m],axis=0)"
   ]
  },
  {
   "cell_type": "markdown",
   "metadata": {
    "slideshow": {
     "slide_type": "slide"
    }
   },
   "source": [
    "## Pandas\n",
    "\n",
    "The two main objects of Pandas:\n",
    "\n",
    "- `pd.Series()`, which is only one dimension.\n",
    "- `pd.DataFrame()`, which is two dimensions.\n",
    "\n",
    "The functionality is similar to the dataframes in R.\n",
    "\n",
    "What I love about DataFrames, however, is the number of built-in methods!"
   ]
  },
  {
   "cell_type": "code",
   "execution_count": 30,
   "metadata": {
    "slideshow": {
     "slide_type": "-"
    }
   },
   "outputs": [],
   "source": [
    "import pandas as pd"
   ]
  },
  {
   "cell_type": "code",
   "execution_count": 31,
   "metadata": {
    "slideshow": {
     "slide_type": "slide"
    }
   },
   "outputs": [
    {
     "data": {
      "text/plain": [
       "array([[-7.02791315e-01, -1.02234556e+00],\n",
       "       [ 1.34289316e+00,  2.74077400e+00],\n",
       "       [-6.53413064e-01, -7.79397497e-01],\n",
       "       [ 8.81329389e-01,  1.39246759e+00],\n",
       "       [-8.99098875e-01, -3.24284114e+00],\n",
       "       [-9.43378400e-02, -4.16469200e-01],\n",
       "       [-4.75374717e-01, -2.79071436e+00],\n",
       "       [ 1.88807258e+00,  3.01862079e+00],\n",
       "       [-9.18729832e-02,  2.31075605e+00],\n",
       "       [-4.75962355e-01, -1.25772249e-02],\n",
       "       [-7.92553231e-02,  3.50120679e-02],\n",
       "       [-4.64420791e-01, -2.12598564e+00],\n",
       "       [-1.63927903e+00, -3.75869187e+00],\n",
       "       [ 3.70791638e-01,  8.86445173e-01],\n",
       "       [-9.63558066e-04,  8.77074574e-01],\n",
       "       [ 5.52242049e-01,  2.32167110e-01],\n",
       "       [ 6.96471051e-01, -3.43497709e-01],\n",
       "       [-7.64375002e-01, -2.48031613e-01],\n",
       "       [ 1.41974519e+00,  1.42361078e+00],\n",
       "       [ 5.91588405e-01,  1.37621247e+00],\n",
       "       [-9.81183600e-01, -1.07543971e+00],\n",
       "       [-7.83989911e-01, -4.27202439e-03],\n",
       "       [-8.36243950e-01, -3.62583951e+00],\n",
       "       [-6.01306919e-02, -6.00310141e-02],\n",
       "       [ 1.20780193e+00,  1.56079739e+00],\n",
       "       [ 4.11164598e-01, -9.02443315e-01],\n",
       "       [-1.62364125e+00, -2.77172852e+00],\n",
       "       [ 8.56769773e-01,  1.32676453e+00],\n",
       "       [-3.20871123e-01, -2.01475401e+00],\n",
       "       [-3.95151186e-01, -3.12659028e-01],\n",
       "       [-1.65972003e-01, -2.62822214e-01],\n",
       "       [-1.49721061e+00, -2.79065239e+00],\n",
       "       [ 3.44832570e-01,  7.62310569e-01],\n",
       "       [-1.18513674e-01,  1.26584100e-01],\n",
       "       [-6.12390155e-01, -2.44811178e-01],\n",
       "       [ 6.18437397e-01,  7.26443769e-01],\n",
       "       [ 4.84613082e-02, -2.54130783e-01],\n",
       "       [-5.75263346e-01, -1.38791873e+00],\n",
       "       [-9.92012821e-01, -2.79283911e+00],\n",
       "       [-1.84164793e+00, -3.66948301e+00],\n",
       "       [ 1.76261991e-01,  5.84713639e-01],\n",
       "       [ 9.52688315e-01,  1.61677055e+00],\n",
       "       [-3.13377003e-01,  1.64154731e+00],\n",
       "       [-1.05318610e+00, -2.35320308e+00],\n",
       "       [ 4.65976454e-02,  1.06688841e+00],\n",
       "       [ 9.76368009e-01,  2.87900381e-01],\n",
       "       [ 1.28132314e-01, -5.36860572e-01],\n",
       "       [ 5.08961099e-01,  9.77580562e-01],\n",
       "       [-4.58826457e-01, -4.82671066e-01],\n",
       "       [-1.03836571e-01, -3.10681755e-01],\n",
       "       [ 2.09185829e+00,  3.54030186e+00],\n",
       "       [-1.48212298e+00, -3.32419720e+00],\n",
       "       [ 1.35089446e+00,  2.81379610e+00],\n",
       "       [-6.65304632e-01, -2.34447485e+00],\n",
       "       [ 6.39397282e-01, -5.14308995e-01],\n",
       "       [ 1.03652026e+00,  1.80675891e+00],\n",
       "       [-1.34948734e+00, -3.64893071e+00],\n",
       "       [-1.06653632e+00, -1.02283076e-01],\n",
       "       [-1.46488695e+00, -3.38531961e+00],\n",
       "       [-1.40534182e-01, -3.64525237e-02],\n",
       "       [-4.83130949e-01, -5.86008538e-01],\n",
       "       [-9.50711516e-01, -1.83958254e+00],\n",
       "       [-4.78348059e-01, -1.76445419e+00],\n",
       "       [-1.03681887e+00, -3.72945797e+00],\n",
       "       [ 1.23809952e-01,  1.00530940e+00],\n",
       "       [ 2.74773809e-01,  5.73693139e-01],\n",
       "       [-7.50288270e-01, -2.39726365e+00],\n",
       "       [ 7.65319544e-01,  1.51186658e+00],\n",
       "       [-2.42348875e-01, -2.58060192e+00],\n",
       "       [-7.05293965e-01, -1.82350830e+00],\n",
       "       [ 5.11779563e-01,  5.58080503e-01],\n",
       "       [-3.28185604e-01, -1.23793886e-01],\n",
       "       [-8.98096161e-01, -1.14207631e+00],\n",
       "       [ 1.38025253e-01, -7.62369407e-01],\n",
       "       [-1.98641890e+00, -4.49663661e+00],\n",
       "       [-1.17108614e+00, -3.00890275e+00],\n",
       "       [-4.96357978e-02, -5.20359392e-01],\n",
       "       [ 4.65153204e-01,  5.82710933e-01],\n",
       "       [-4.24816216e-01, -1.42375571e+00],\n",
       "       [ 2.47676579e-01,  2.03150507e-01],\n",
       "       [-2.03471216e+00, -2.82566535e+00],\n",
       "       [ 5.00421788e-01, -3.60810970e-01],\n",
       "       [-1.05220207e+00, -7.96590153e-01],\n",
       "       [-2.15426211e-01,  2.45568773e+00],\n",
       "       [ 6.25974717e-01, -5.50473058e-01],\n",
       "       [-2.06398483e-02, -8.29980456e-01],\n",
       "       [ 1.94755877e+00,  4.12163800e+00],\n",
       "       [-1.57353888e+00, -2.90756308e+00],\n",
       "       [-1.02566042e-01,  4.36840791e-02],\n",
       "       [ 4.90416542e-01, -5.02972283e-01],\n",
       "       [ 1.36063813e+00,  1.69856668e+00],\n",
       "       [-3.81553073e-01, -3.52258414e+00],\n",
       "       [ 7.73128428e-01,  1.89556611e+00],\n",
       "       [-2.63819086e+00, -4.25731785e+00],\n",
       "       [ 1.75991247e+00,  3.96388736e+00],\n",
       "       [ 1.92355303e-02,  2.18815270e-01],\n",
       "       [ 1.83301180e+00,  5.81634686e+00],\n",
       "       [ 7.89401792e-01,  1.02199286e+00],\n",
       "       [ 7.42908297e-01,  8.49749168e-01],\n",
       "       [-1.92302426e+00, -2.73250319e+00]])"
      ]
     },
     "execution_count": 31,
     "metadata": {},
     "output_type": "execute_result"
    }
   ],
   "source": [
    "the_array = np.concatenate([X,Y],axis=1)\n",
    "the_array"
   ]
  },
  {
   "cell_type": "code",
   "execution_count": 32,
   "metadata": {
    "slideshow": {
     "slide_type": "slide"
    }
   },
   "outputs": [
    {
     "data": {
      "text/html": [
       "<div>\n",
       "<style scoped>\n",
       "    .dataframe tbody tr th:only-of-type {\n",
       "        vertical-align: middle;\n",
       "    }\n",
       "\n",
       "    .dataframe tbody tr th {\n",
       "        vertical-align: top;\n",
       "    }\n",
       "\n",
       "    .dataframe thead th {\n",
       "        text-align: right;\n",
       "    }\n",
       "</style>\n",
       "<table border=\"1\" class=\"dataframe\">\n",
       "  <thead>\n",
       "    <tr style=\"text-align: right;\">\n",
       "      <th></th>\n",
       "      <th>X</th>\n",
       "      <th>Y</th>\n",
       "    </tr>\n",
       "  </thead>\n",
       "  <tbody>\n",
       "    <tr>\n",
       "      <th>0</th>\n",
       "      <td>-0.702791</td>\n",
       "      <td>-1.022346</td>\n",
       "    </tr>\n",
       "    <tr>\n",
       "      <th>1</th>\n",
       "      <td>1.342893</td>\n",
       "      <td>2.740774</td>\n",
       "    </tr>\n",
       "    <tr>\n",
       "      <th>2</th>\n",
       "      <td>-0.653413</td>\n",
       "      <td>-0.779397</td>\n",
       "    </tr>\n",
       "    <tr>\n",
       "      <th>3</th>\n",
       "      <td>0.881329</td>\n",
       "      <td>1.392468</td>\n",
       "    </tr>\n",
       "    <tr>\n",
       "      <th>4</th>\n",
       "      <td>-0.899099</td>\n",
       "      <td>-3.242841</td>\n",
       "    </tr>\n",
       "  </tbody>\n",
       "</table>\n",
       "</div>"
      ],
      "text/plain": [
       "          X         Y\n",
       "0 -0.702791 -1.022346\n",
       "1  1.342893  2.740774\n",
       "2 -0.653413 -0.779397\n",
       "3  0.881329  1.392468\n",
       "4 -0.899099 -3.242841"
      ]
     },
     "execution_count": 32,
     "metadata": {},
     "output_type": "execute_result"
    }
   ],
   "source": [
    "df = pd.DataFrame(the_array,columns=['X','Y'])\n",
    "df.head()"
   ]
  },
  {
   "cell_type": "markdown",
   "metadata": {
    "slideshow": {
     "slide_type": "slide"
    }
   },
   "source": [
    "Pandas can also convert dictionaries to DataFrames very easily:"
   ]
  },
  {
   "cell_type": "code",
   "execution_count": 33,
   "metadata": {
    "slideshow": {
     "slide_type": "-"
    }
   },
   "outputs": [],
   "source": [
    "Babies = {\"Bart Harley Jarvis\":{\n",
    "                \"Description\" : \"Underbite, flat back of the head\",\n",
    "                \"Weight Percentile\" : 50,\n",
    "                \"Height Percentile\" : 80 },\n",
    "          \"Michael Patrick Porkins\":{\n",
    "                \"Description\" : \"Button nose, apple cheeks\",\n",
    "                \"Weight Percentile\" : 99,\n",
    "                \"Height Percentile\" : 10},\n",
    "          \"Taffy Lee Fubbins\" : {\n",
    "                \"Description\" : \"Tuna can\",\n",
    "                \"Weight Percentile\" : 90,\n",
    "                \"Height Percentile\" : 10}}"
   ]
  },
  {
   "cell_type": "code",
   "execution_count": 34,
   "metadata": {
    "slideshow": {
     "slide_type": "slide"
    }
   },
   "outputs": [
    {
     "data": {
      "text/html": [
       "<div>\n",
       "<style scoped>\n",
       "    .dataframe tbody tr th:only-of-type {\n",
       "        vertical-align: middle;\n",
       "    }\n",
       "\n",
       "    .dataframe tbody tr th {\n",
       "        vertical-align: top;\n",
       "    }\n",
       "\n",
       "    .dataframe thead th {\n",
       "        text-align: right;\n",
       "    }\n",
       "</style>\n",
       "<table border=\"1\" class=\"dataframe\">\n",
       "  <thead>\n",
       "    <tr style=\"text-align: right;\">\n",
       "      <th></th>\n",
       "      <th>Bart Harley Jarvis</th>\n",
       "      <th>Michael Patrick Porkins</th>\n",
       "      <th>Taffy Lee Fubbins</th>\n",
       "    </tr>\n",
       "  </thead>\n",
       "  <tbody>\n",
       "    <tr>\n",
       "      <th>Description</th>\n",
       "      <td>Underbite, flat back of the head</td>\n",
       "      <td>Button nose, apple cheeks</td>\n",
       "      <td>Tuna can</td>\n",
       "    </tr>\n",
       "    <tr>\n",
       "      <th>Weight Percentile</th>\n",
       "      <td>50</td>\n",
       "      <td>99</td>\n",
       "      <td>90</td>\n",
       "    </tr>\n",
       "    <tr>\n",
       "      <th>Height Percentile</th>\n",
       "      <td>80</td>\n",
       "      <td>10</td>\n",
       "      <td>10</td>\n",
       "    </tr>\n",
       "  </tbody>\n",
       "</table>\n",
       "</div>"
      ],
      "text/plain": [
       "                                 Bart Harley Jarvis  \\\n",
       "Description        Underbite, flat back of the head   \n",
       "Weight Percentile                                50   \n",
       "Height Percentile                                80   \n",
       "\n",
       "                     Michael Patrick Porkins Taffy Lee Fubbins  \n",
       "Description        Button nose, apple cheeks          Tuna can  \n",
       "Weight Percentile                         99                90  \n",
       "Height Percentile                         10                10  "
      ]
     },
     "execution_count": 34,
     "metadata": {},
     "output_type": "execute_result"
    }
   ],
   "source": [
    "pd.DataFrame(Babies)"
   ]
  },
  {
   "cell_type": "markdown",
   "metadata": {
    "slideshow": {
     "slide_type": "slide"
    }
   },
   "source": [
    "Selecting one column returns a Series:"
   ]
  },
  {
   "cell_type": "code",
   "execution_count": 35,
   "metadata": {
    "slideshow": {
     "slide_type": "-"
    }
   },
   "outputs": [
    {
     "data": {
      "text/plain": [
       "0   -0.702791\n",
       "1    1.342893\n",
       "2   -0.653413\n",
       "3    0.881329\n",
       "4   -0.899099\n",
       "Name: X, dtype: float64"
      ]
     },
     "execution_count": 35,
     "metadata": {},
     "output_type": "execute_result"
    }
   ],
   "source": [
    "df['X'].head()"
   ]
  },
  {
   "cell_type": "markdown",
   "metadata": {
    "slideshow": {
     "slide_type": "slide"
    }
   },
   "source": [
    "Selecting more columns returns a DataFrame"
   ]
  },
  {
   "cell_type": "code",
   "execution_count": 36,
   "metadata": {
    "slideshow": {
     "slide_type": "-"
    }
   },
   "outputs": [
    {
     "data": {
      "text/html": [
       "<div>\n",
       "<style scoped>\n",
       "    .dataframe tbody tr th:only-of-type {\n",
       "        vertical-align: middle;\n",
       "    }\n",
       "\n",
       "    .dataframe tbody tr th {\n",
       "        vertical-align: top;\n",
       "    }\n",
       "\n",
       "    .dataframe thead th {\n",
       "        text-align: right;\n",
       "    }\n",
       "</style>\n",
       "<table border=\"1\" class=\"dataframe\">\n",
       "  <thead>\n",
       "    <tr style=\"text-align: right;\">\n",
       "      <th></th>\n",
       "      <th>X</th>\n",
       "      <th>Y</th>\n",
       "    </tr>\n",
       "  </thead>\n",
       "  <tbody>\n",
       "    <tr>\n",
       "      <th>0</th>\n",
       "      <td>-0.702791</td>\n",
       "      <td>-1.022346</td>\n",
       "    </tr>\n",
       "    <tr>\n",
       "      <th>1</th>\n",
       "      <td>1.342893</td>\n",
       "      <td>2.740774</td>\n",
       "    </tr>\n",
       "    <tr>\n",
       "      <th>2</th>\n",
       "      <td>-0.653413</td>\n",
       "      <td>-0.779397</td>\n",
       "    </tr>\n",
       "    <tr>\n",
       "      <th>3</th>\n",
       "      <td>0.881329</td>\n",
       "      <td>1.392468</td>\n",
       "    </tr>\n",
       "    <tr>\n",
       "      <th>4</th>\n",
       "      <td>-0.899099</td>\n",
       "      <td>-3.242841</td>\n",
       "    </tr>\n",
       "  </tbody>\n",
       "</table>\n",
       "</div>"
      ],
      "text/plain": [
       "          X         Y\n",
       "0 -0.702791 -1.022346\n",
       "1  1.342893  2.740774\n",
       "2 -0.653413 -0.779397\n",
       "3  0.881329  1.392468\n",
       "4 -0.899099 -3.242841"
      ]
     },
     "execution_count": 36,
     "metadata": {},
     "output_type": "execute_result"
    }
   ],
   "source": [
    "df[['X','Y']].head()"
   ]
  },
  {
   "cell_type": "markdown",
   "metadata": {
    "slideshow": {
     "slide_type": "slide"
    }
   },
   "source": [
    "You can also pass slices just like in arrays, with one critical difference: Pandas indices are __labeled__.\n",
    "\n",
    "Thus you need to tell Pandas whether you are giving it a label or a positional index.\n",
    "\n",
    "- `.loc` is for labeled indices.\n",
    "- `.iloc` is for positional indices (integer based)."
   ]
  },
  {
   "cell_type": "code",
   "execution_count": 37,
   "metadata": {
    "slideshow": {
     "slide_type": "slide"
    }
   },
   "outputs": [
    {
     "data": {
      "text/plain": [
       "-0.7027913154038985"
      ]
     },
     "execution_count": 37,
     "metadata": {},
     "output_type": "execute_result"
    }
   ],
   "source": [
    "df.loc[0,\"X\"]"
   ]
  },
  {
   "cell_type": "code",
   "execution_count": 38,
   "metadata": {
    "scrolled": true,
    "slideshow": {
     "slide_type": "-"
    }
   },
   "outputs": [
    {
     "ename": "ValueError",
     "evalue": "Location based indexing can only have [integer, integer slice (START point is INCLUDED, END point is EXCLUDED), listlike of integers, boolean array] types",
     "output_type": "error",
     "traceback": [
      "\u001b[1;31m---------------------------------------------------------------------------\u001b[0m",
      "\u001b[1;31mValueError\u001b[0m                                Traceback (most recent call last)",
      "File \u001b[1;32m~\\.conda\\envs\\test\\Lib\\site-packages\\pandas\\core\\indexing.py:873\u001b[0m, in \u001b[0;36m_LocationIndexer._validate_tuple_indexer\u001b[1;34m(self, key)\u001b[0m\n\u001b[0;32m    872\u001b[0m \u001b[38;5;28;01mtry\u001b[39;00m:\n\u001b[1;32m--> 873\u001b[0m     \u001b[38;5;28;43mself\u001b[39;49m\u001b[38;5;241;43m.\u001b[39;49m\u001b[43m_validate_key\u001b[49m\u001b[43m(\u001b[49m\u001b[43mk\u001b[49m\u001b[43m,\u001b[49m\u001b[43m \u001b[49m\u001b[43mi\u001b[49m\u001b[43m)\u001b[49m\n\u001b[0;32m    874\u001b[0m \u001b[38;5;28;01mexcept\u001b[39;00m \u001b[38;5;167;01mValueError\u001b[39;00m \u001b[38;5;28;01mas\u001b[39;00m err:\n",
      "File \u001b[1;32m~\\.conda\\envs\\test\\Lib\\site-packages\\pandas\\core\\indexing.py:1483\u001b[0m, in \u001b[0;36m_iLocIndexer._validate_key\u001b[1;34m(self, key, axis)\u001b[0m\n\u001b[0;32m   1482\u001b[0m \u001b[38;5;28;01melse\u001b[39;00m:\n\u001b[1;32m-> 1483\u001b[0m     \u001b[38;5;28;01mraise\u001b[39;00m \u001b[38;5;167;01mValueError\u001b[39;00m(\u001b[38;5;124mf\u001b[39m\u001b[38;5;124m\"\u001b[39m\u001b[38;5;124mCan only index by location with a [\u001b[39m\u001b[38;5;132;01m{\u001b[39;00m\u001b[38;5;28mself\u001b[39m\u001b[38;5;241m.\u001b[39m_valid_types\u001b[38;5;132;01m}\u001b[39;00m\u001b[38;5;124m]\u001b[39m\u001b[38;5;124m\"\u001b[39m)\n",
      "\u001b[1;31mValueError\u001b[0m: Can only index by location with a [integer, integer slice (START point is INCLUDED, END point is EXCLUDED), listlike of integers, boolean array]",
      "\nThe above exception was the direct cause of the following exception:\n",
      "\u001b[1;31mValueError\u001b[0m                                Traceback (most recent call last)",
      "Cell \u001b[1;32mIn[38], line 1\u001b[0m\n\u001b[1;32m----> 1\u001b[0m \u001b[43mdf\u001b[49m\u001b[38;5;241;43m.\u001b[39;49m\u001b[43miloc\u001b[49m\u001b[43m[\u001b[49m\u001b[38;5;241;43m0\u001b[39;49m\u001b[43m,\u001b[49m\u001b[38;5;124;43m\"\u001b[39;49m\u001b[38;5;124;43mX\u001b[39;49m\u001b[38;5;124;43m\"\u001b[39;49m\u001b[43m]\u001b[49m\n",
      "File \u001b[1;32m~\\.conda\\envs\\test\\Lib\\site-packages\\pandas\\core\\indexing.py:1067\u001b[0m, in \u001b[0;36m_LocationIndexer.__getitem__\u001b[1;34m(self, key)\u001b[0m\n\u001b[0;32m   1065\u001b[0m     \u001b[38;5;28;01mif\u001b[39;00m \u001b[38;5;28mself\u001b[39m\u001b[38;5;241m.\u001b[39m_is_scalar_access(key):\n\u001b[0;32m   1066\u001b[0m         \u001b[38;5;28;01mreturn\u001b[39;00m \u001b[38;5;28mself\u001b[39m\u001b[38;5;241m.\u001b[39mobj\u001b[38;5;241m.\u001b[39m_get_value(\u001b[38;5;241m*\u001b[39mkey, takeable\u001b[38;5;241m=\u001b[39m\u001b[38;5;28mself\u001b[39m\u001b[38;5;241m.\u001b[39m_takeable)\n\u001b[1;32m-> 1067\u001b[0m     \u001b[38;5;28;01mreturn\u001b[39;00m \u001b[38;5;28;43mself\u001b[39;49m\u001b[38;5;241;43m.\u001b[39;49m\u001b[43m_getitem_tuple\u001b[49m\u001b[43m(\u001b[49m\u001b[43mkey\u001b[49m\u001b[43m)\u001b[49m\n\u001b[0;32m   1068\u001b[0m \u001b[38;5;28;01melse\u001b[39;00m:\n\u001b[0;32m   1069\u001b[0m     \u001b[38;5;66;03m# we by definition only have the 0th axis\u001b[39;00m\n\u001b[0;32m   1070\u001b[0m     axis \u001b[38;5;241m=\u001b[39m \u001b[38;5;28mself\u001b[39m\u001b[38;5;241m.\u001b[39maxis \u001b[38;5;129;01mor\u001b[39;00m \u001b[38;5;241m0\u001b[39m\n",
      "File \u001b[1;32m~\\.conda\\envs\\test\\Lib\\site-packages\\pandas\\core\\indexing.py:1563\u001b[0m, in \u001b[0;36m_iLocIndexer._getitem_tuple\u001b[1;34m(self, tup)\u001b[0m\n\u001b[0;32m   1561\u001b[0m \u001b[38;5;28;01mdef\u001b[39;00m \u001b[38;5;21m_getitem_tuple\u001b[39m(\u001b[38;5;28mself\u001b[39m, tup: \u001b[38;5;28mtuple\u001b[39m):\n\u001b[1;32m-> 1563\u001b[0m     tup \u001b[38;5;241m=\u001b[39m \u001b[38;5;28;43mself\u001b[39;49m\u001b[38;5;241;43m.\u001b[39;49m\u001b[43m_validate_tuple_indexer\u001b[49m\u001b[43m(\u001b[49m\u001b[43mtup\u001b[49m\u001b[43m)\u001b[49m\n\u001b[0;32m   1564\u001b[0m     \u001b[38;5;28;01mwith\u001b[39;00m suppress(IndexingError):\n\u001b[0;32m   1565\u001b[0m         \u001b[38;5;28;01mreturn\u001b[39;00m \u001b[38;5;28mself\u001b[39m\u001b[38;5;241m.\u001b[39m_getitem_lowerdim(tup)\n",
      "File \u001b[1;32m~\\.conda\\envs\\test\\Lib\\site-packages\\pandas\\core\\indexing.py:875\u001b[0m, in \u001b[0;36m_LocationIndexer._validate_tuple_indexer\u001b[1;34m(self, key)\u001b[0m\n\u001b[0;32m    873\u001b[0m         \u001b[38;5;28mself\u001b[39m\u001b[38;5;241m.\u001b[39m_validate_key(k, i)\n\u001b[0;32m    874\u001b[0m     \u001b[38;5;28;01mexcept\u001b[39;00m \u001b[38;5;167;01mValueError\u001b[39;00m \u001b[38;5;28;01mas\u001b[39;00m err:\n\u001b[1;32m--> 875\u001b[0m         \u001b[38;5;28;01mraise\u001b[39;00m \u001b[38;5;167;01mValueError\u001b[39;00m(\n\u001b[0;32m    876\u001b[0m             \u001b[38;5;124m\"\u001b[39m\u001b[38;5;124mLocation based indexing can only have \u001b[39m\u001b[38;5;124m\"\u001b[39m\n\u001b[0;32m    877\u001b[0m             \u001b[38;5;124mf\u001b[39m\u001b[38;5;124m\"\u001b[39m\u001b[38;5;124m[\u001b[39m\u001b[38;5;132;01m{\u001b[39;00m\u001b[38;5;28mself\u001b[39m\u001b[38;5;241m.\u001b[39m_valid_types\u001b[38;5;132;01m}\u001b[39;00m\u001b[38;5;124m] types\u001b[39m\u001b[38;5;124m\"\u001b[39m\n\u001b[0;32m    878\u001b[0m         ) \u001b[38;5;28;01mfrom\u001b[39;00m \u001b[38;5;21;01merr\u001b[39;00m\n\u001b[0;32m    879\u001b[0m \u001b[38;5;28;01mreturn\u001b[39;00m key\n",
      "\u001b[1;31mValueError\u001b[0m: Location based indexing can only have [integer, integer slice (START point is INCLUDED, END point is EXCLUDED), listlike of integers, boolean array] types"
     ]
    }
   ],
   "source": [
    "df.iloc[0,\"X\"]"
   ]
  },
  {
   "cell_type": "code",
   "execution_count": 39,
   "metadata": {
    "collapsed": true,
    "slideshow": {
     "slide_type": "slide"
    }
   },
   "outputs": [
    {
     "ename": "KeyError",
     "evalue": "1",
     "output_type": "error",
     "traceback": [
      "\u001b[1;31m---------------------------------------------------------------------------\u001b[0m",
      "\u001b[1;31mKeyError\u001b[0m                                  Traceback (most recent call last)",
      "File \u001b[1;32m~\\.conda\\envs\\test\\Lib\\site-packages\\pandas\\core\\indexes\\base.py:3802\u001b[0m, in \u001b[0;36mIndex.get_loc\u001b[1;34m(self, key, method, tolerance)\u001b[0m\n\u001b[0;32m   3801\u001b[0m \u001b[38;5;28;01mtry\u001b[39;00m:\n\u001b[1;32m-> 3802\u001b[0m     \u001b[38;5;28;01mreturn\u001b[39;00m \u001b[38;5;28;43mself\u001b[39;49m\u001b[38;5;241;43m.\u001b[39;49m\u001b[43m_engine\u001b[49m\u001b[38;5;241;43m.\u001b[39;49m\u001b[43mget_loc\u001b[49m\u001b[43m(\u001b[49m\u001b[43mcasted_key\u001b[49m\u001b[43m)\u001b[49m\n\u001b[0;32m   3803\u001b[0m \u001b[38;5;28;01mexcept\u001b[39;00m \u001b[38;5;167;01mKeyError\u001b[39;00m \u001b[38;5;28;01mas\u001b[39;00m err:\n",
      "File \u001b[1;32m~\\.conda\\envs\\test\\Lib\\site-packages\\pandas\\_libs\\index.pyx:138\u001b[0m, in \u001b[0;36mpandas._libs.index.IndexEngine.get_loc\u001b[1;34m()\u001b[0m\n",
      "File \u001b[1;32m~\\.conda\\envs\\test\\Lib\\site-packages\\pandas\\_libs\\index.pyx:165\u001b[0m, in \u001b[0;36mpandas._libs.index.IndexEngine.get_loc\u001b[1;34m()\u001b[0m\n",
      "File \u001b[1;32mpandas\\_libs\\hashtable_class_helper.pxi:5745\u001b[0m, in \u001b[0;36mpandas._libs.hashtable.PyObjectHashTable.get_item\u001b[1;34m()\u001b[0m\n",
      "File \u001b[1;32mpandas\\_libs\\hashtable_class_helper.pxi:5753\u001b[0m, in \u001b[0;36mpandas._libs.hashtable.PyObjectHashTable.get_item\u001b[1;34m()\u001b[0m\n",
      "\u001b[1;31mKeyError\u001b[0m: 1",
      "\nThe above exception was the direct cause of the following exception:\n",
      "\u001b[1;31mKeyError\u001b[0m                                  Traceback (most recent call last)",
      "Cell \u001b[1;32mIn[39], line 1\u001b[0m\n\u001b[1;32m----> 1\u001b[0m \u001b[43mdf\u001b[49m\u001b[38;5;241;43m.\u001b[39;49m\u001b[43mloc\u001b[49m\u001b[43m[\u001b[49m\u001b[38;5;241;43m2\u001b[39;49m\u001b[43m,\u001b[49m\u001b[38;5;241;43m1\u001b[39;49m\u001b[43m]\u001b[49m\n",
      "File \u001b[1;32m~\\.conda\\envs\\test\\Lib\\site-packages\\pandas\\core\\indexing.py:1066\u001b[0m, in \u001b[0;36m_LocationIndexer.__getitem__\u001b[1;34m(self, key)\u001b[0m\n\u001b[0;32m   1064\u001b[0m     key \u001b[38;5;241m=\u001b[39m \u001b[38;5;28mtuple\u001b[39m(com\u001b[38;5;241m.\u001b[39mapply_if_callable(x, \u001b[38;5;28mself\u001b[39m\u001b[38;5;241m.\u001b[39mobj) \u001b[38;5;28;01mfor\u001b[39;00m x \u001b[38;5;129;01min\u001b[39;00m key)\n\u001b[0;32m   1065\u001b[0m     \u001b[38;5;28;01mif\u001b[39;00m \u001b[38;5;28mself\u001b[39m\u001b[38;5;241m.\u001b[39m_is_scalar_access(key):\n\u001b[1;32m-> 1066\u001b[0m         \u001b[38;5;28;01mreturn\u001b[39;00m \u001b[38;5;28;43mself\u001b[39;49m\u001b[38;5;241;43m.\u001b[39;49m\u001b[43mobj\u001b[49m\u001b[38;5;241;43m.\u001b[39;49m\u001b[43m_get_value\u001b[49m\u001b[43m(\u001b[49m\u001b[38;5;241;43m*\u001b[39;49m\u001b[43mkey\u001b[49m\u001b[43m,\u001b[49m\u001b[43m \u001b[49m\u001b[43mtakeable\u001b[49m\u001b[38;5;241;43m=\u001b[39;49m\u001b[38;5;28;43mself\u001b[39;49m\u001b[38;5;241;43m.\u001b[39;49m\u001b[43m_takeable\u001b[49m\u001b[43m)\u001b[49m\n\u001b[0;32m   1067\u001b[0m     \u001b[38;5;28;01mreturn\u001b[39;00m \u001b[38;5;28mself\u001b[39m\u001b[38;5;241m.\u001b[39m_getitem_tuple(key)\n\u001b[0;32m   1068\u001b[0m \u001b[38;5;28;01melse\u001b[39;00m:\n\u001b[0;32m   1069\u001b[0m     \u001b[38;5;66;03m# we by definition only have the 0th axis\u001b[39;00m\n",
      "File \u001b[1;32m~\\.conda\\envs\\test\\Lib\\site-packages\\pandas\\core\\frame.py:3917\u001b[0m, in \u001b[0;36mDataFrame._get_value\u001b[1;34m(self, index, col, takeable)\u001b[0m\n\u001b[0;32m   3914\u001b[0m     series \u001b[38;5;241m=\u001b[39m \u001b[38;5;28mself\u001b[39m\u001b[38;5;241m.\u001b[39m_ixs(col, axis\u001b[38;5;241m=\u001b[39m\u001b[38;5;241m1\u001b[39m)\n\u001b[0;32m   3915\u001b[0m     \u001b[38;5;28;01mreturn\u001b[39;00m series\u001b[38;5;241m.\u001b[39m_values[index]\n\u001b[1;32m-> 3917\u001b[0m series \u001b[38;5;241m=\u001b[39m \u001b[38;5;28;43mself\u001b[39;49m\u001b[38;5;241;43m.\u001b[39;49m\u001b[43m_get_item_cache\u001b[49m\u001b[43m(\u001b[49m\u001b[43mcol\u001b[49m\u001b[43m)\u001b[49m\n\u001b[0;32m   3918\u001b[0m engine \u001b[38;5;241m=\u001b[39m \u001b[38;5;28mself\u001b[39m\u001b[38;5;241m.\u001b[39mindex\u001b[38;5;241m.\u001b[39m_engine\n\u001b[0;32m   3920\u001b[0m \u001b[38;5;28;01mif\u001b[39;00m \u001b[38;5;129;01mnot\u001b[39;00m \u001b[38;5;28misinstance\u001b[39m(\u001b[38;5;28mself\u001b[39m\u001b[38;5;241m.\u001b[39mindex, MultiIndex):\n\u001b[0;32m   3921\u001b[0m     \u001b[38;5;66;03m# CategoricalIndex: Trying to use the engine fastpath may give incorrect\u001b[39;00m\n\u001b[0;32m   3922\u001b[0m     \u001b[38;5;66;03m#  results if our categories are integers that dont match our codes\u001b[39;00m\n\u001b[0;32m   3923\u001b[0m     \u001b[38;5;66;03m# IntervalIndex: IntervalTree has no get_loc\u001b[39;00m\n",
      "File \u001b[1;32m~\\.conda\\envs\\test\\Lib\\site-packages\\pandas\\core\\frame.py:4282\u001b[0m, in \u001b[0;36mDataFrame._get_item_cache\u001b[1;34m(self, item)\u001b[0m\n\u001b[0;32m   4277\u001b[0m res \u001b[38;5;241m=\u001b[39m cache\u001b[38;5;241m.\u001b[39mget(item)\n\u001b[0;32m   4278\u001b[0m \u001b[38;5;28;01mif\u001b[39;00m res \u001b[38;5;129;01mis\u001b[39;00m \u001b[38;5;28;01mNone\u001b[39;00m:\n\u001b[0;32m   4279\u001b[0m     \u001b[38;5;66;03m# All places that call _get_item_cache have unique columns,\u001b[39;00m\n\u001b[0;32m   4280\u001b[0m     \u001b[38;5;66;03m#  pending resolution of GH#33047\u001b[39;00m\n\u001b[1;32m-> 4282\u001b[0m     loc \u001b[38;5;241m=\u001b[39m \u001b[38;5;28;43mself\u001b[39;49m\u001b[38;5;241;43m.\u001b[39;49m\u001b[43mcolumns\u001b[49m\u001b[38;5;241;43m.\u001b[39;49m\u001b[43mget_loc\u001b[49m\u001b[43m(\u001b[49m\u001b[43mitem\u001b[49m\u001b[43m)\u001b[49m\n\u001b[0;32m   4283\u001b[0m     res \u001b[38;5;241m=\u001b[39m \u001b[38;5;28mself\u001b[39m\u001b[38;5;241m.\u001b[39m_ixs(loc, axis\u001b[38;5;241m=\u001b[39m\u001b[38;5;241m1\u001b[39m)\n\u001b[0;32m   4285\u001b[0m     cache[item] \u001b[38;5;241m=\u001b[39m res\n",
      "File \u001b[1;32m~\\.conda\\envs\\test\\Lib\\site-packages\\pandas\\core\\indexes\\base.py:3804\u001b[0m, in \u001b[0;36mIndex.get_loc\u001b[1;34m(self, key, method, tolerance)\u001b[0m\n\u001b[0;32m   3802\u001b[0m     \u001b[38;5;28;01mreturn\u001b[39;00m \u001b[38;5;28mself\u001b[39m\u001b[38;5;241m.\u001b[39m_engine\u001b[38;5;241m.\u001b[39mget_loc(casted_key)\n\u001b[0;32m   3803\u001b[0m \u001b[38;5;28;01mexcept\u001b[39;00m \u001b[38;5;167;01mKeyError\u001b[39;00m \u001b[38;5;28;01mas\u001b[39;00m err:\n\u001b[1;32m-> 3804\u001b[0m     \u001b[38;5;28;01mraise\u001b[39;00m \u001b[38;5;167;01mKeyError\u001b[39;00m(key) \u001b[38;5;28;01mfrom\u001b[39;00m \u001b[38;5;21;01merr\u001b[39;00m\n\u001b[0;32m   3805\u001b[0m \u001b[38;5;28;01mexcept\u001b[39;00m \u001b[38;5;167;01mTypeError\u001b[39;00m:\n\u001b[0;32m   3806\u001b[0m     \u001b[38;5;66;03m# If we have a listlike key, _check_indexing_error will raise\u001b[39;00m\n\u001b[0;32m   3807\u001b[0m     \u001b[38;5;66;03m#  InvalidIndexError. Otherwise we fall through and re-raise\u001b[39;00m\n\u001b[0;32m   3808\u001b[0m     \u001b[38;5;66;03m#  the TypeError.\u001b[39;00m\n\u001b[0;32m   3809\u001b[0m     \u001b[38;5;28mself\u001b[39m\u001b[38;5;241m.\u001b[39m_check_indexing_error(key)\n",
      "\u001b[1;31mKeyError\u001b[0m: 1"
     ]
    }
   ],
   "source": [
    "df.loc[2,1]"
   ]
  },
  {
   "cell_type": "code",
   "execution_count": 40,
   "metadata": {
    "scrolled": true,
    "slideshow": {
     "slide_type": "-"
    }
   },
   "outputs": [
    {
     "data": {
      "text/plain": [
       "-0.7793974970698835"
      ]
     },
     "execution_count": 40,
     "metadata": {},
     "output_type": "execute_result"
    }
   ],
   "source": [
    "df.iloc[2,1]"
   ]
  },
  {
   "cell_type": "markdown",
   "metadata": {
    "slideshow": {
     "slide_type": "slide"
    }
   },
   "source": [
    "### Indexing using Boolean arrays\n",
    "When you pass a DataFrame a Boolean array, it subsets the data to the rows where the value is `True`\n",
    "\n",
    "As long as you understand this, you can do subsetting __very__ easily in Pandas:"
   ]
  },
  {
   "cell_type": "code",
   "execution_count": 41,
   "metadata": {
    "slideshow": {
     "slide_type": "slide"
    }
   },
   "outputs": [
    {
     "data": {
      "text/html": [
       "<div>\n",
       "<style scoped>\n",
       "    .dataframe tbody tr th:only-of-type {\n",
       "        vertical-align: middle;\n",
       "    }\n",
       "\n",
       "    .dataframe tbody tr th {\n",
       "        vertical-align: top;\n",
       "    }\n",
       "\n",
       "    .dataframe thead th {\n",
       "        text-align: right;\n",
       "    }\n",
       "</style>\n",
       "<table border=\"1\" class=\"dataframe\">\n",
       "  <thead>\n",
       "    <tr style=\"text-align: right;\">\n",
       "      <th></th>\n",
       "      <th>X</th>\n",
       "    </tr>\n",
       "  </thead>\n",
       "  <tbody>\n",
       "    <tr>\n",
       "      <th>0</th>\n",
       "      <td>-0.702791</td>\n",
       "    </tr>\n",
       "    <tr>\n",
       "      <th>1</th>\n",
       "      <td>1.342893</td>\n",
       "    </tr>\n",
       "    <tr>\n",
       "      <th>2</th>\n",
       "      <td>-0.653413</td>\n",
       "    </tr>\n",
       "    <tr>\n",
       "      <th>3</th>\n",
       "      <td>0.881329</td>\n",
       "    </tr>\n",
       "    <tr>\n",
       "      <th>4</th>\n",
       "      <td>-0.899099</td>\n",
       "    </tr>\n",
       "  </tbody>\n",
       "</table>\n",
       "</div>"
      ],
      "text/plain": [
       "          X\n",
       "0 -0.702791\n",
       "1  1.342893\n",
       "2 -0.653413\n",
       "3  0.881329\n",
       "4 -0.899099"
      ]
     },
     "execution_count": 41,
     "metadata": {},
     "output_type": "execute_result"
    }
   ],
   "source": [
    "# On axis 1\n",
    "df.iloc[:,[True,False]].head()"
   ]
  },
  {
   "cell_type": "code",
   "execution_count": 42,
   "metadata": {
    "scrolled": true,
    "slideshow": {
     "slide_type": "slide"
    }
   },
   "outputs": [
    {
     "data": {
      "text/html": [
       "<div>\n",
       "<style scoped>\n",
       "    .dataframe tbody tr th:only-of-type {\n",
       "        vertical-align: middle;\n",
       "    }\n",
       "\n",
       "    .dataframe tbody tr th {\n",
       "        vertical-align: top;\n",
       "    }\n",
       "\n",
       "    .dataframe thead th {\n",
       "        text-align: right;\n",
       "    }\n",
       "</style>\n",
       "<table border=\"1\" class=\"dataframe\">\n",
       "  <thead>\n",
       "    <tr style=\"text-align: right;\">\n",
       "      <th></th>\n",
       "      <th>X</th>\n",
       "      <th>Y</th>\n",
       "    </tr>\n",
       "  </thead>\n",
       "  <tbody>\n",
       "    <tr>\n",
       "      <th>0</th>\n",
       "      <td>-0.702791</td>\n",
       "      <td>-1.022346</td>\n",
       "    </tr>\n",
       "    <tr>\n",
       "      <th>2</th>\n",
       "      <td>-0.653413</td>\n",
       "      <td>-0.779397</td>\n",
       "    </tr>\n",
       "    <tr>\n",
       "      <th>4</th>\n",
       "      <td>-0.899099</td>\n",
       "      <td>-3.242841</td>\n",
       "    </tr>\n",
       "    <tr>\n",
       "      <th>6</th>\n",
       "      <td>-0.475375</td>\n",
       "      <td>-2.790714</td>\n",
       "    </tr>\n",
       "    <tr>\n",
       "      <th>8</th>\n",
       "      <td>-0.091873</td>\n",
       "      <td>2.310756</td>\n",
       "    </tr>\n",
       "  </tbody>\n",
       "</table>\n",
       "</div>"
      ],
      "text/plain": [
       "          X         Y\n",
       "0 -0.702791 -1.022346\n",
       "2 -0.653413 -0.779397\n",
       "4 -0.899099 -3.242841\n",
       "6 -0.475375 -2.790714\n",
       "8 -0.091873  2.310756"
      ]
     },
     "execution_count": 42,
     "metadata": {},
     "output_type": "execute_result"
    }
   ],
   "source": [
    "# On axis 0\n",
    "df.iloc[[True,False]*50,:].head()"
   ]
  },
  {
   "cell_type": "markdown",
   "metadata": {
    "slideshow": {
     "slide_type": "-"
    }
   },
   "source": [
    "__What did I just do with the code  `df.iloc[[True,False]*50,:].head()`__?"
   ]
  },
  {
   "cell_type": "markdown",
   "metadata": {
    "slideshow": {
     "slide_type": "slide"
    }
   },
   "source": [
    "Step by step:\n",
    "\n",
    "`[True,False]` is a list with two booleans.\n",
    "\n",
    "\n",
    "`[True,False]*50` is that array duplicated 50 times (total length 100) __(This shouldn't work in other languages)__\n",
    "\n",
    "`df.iloc[[True,False]*50,:]` passed the 100 length list to the first axis (rows). This subsets the dataframe to be every other row.\n",
    "\n",
    "`df.iloc[[True,False]*50,:].head()` returns the first 5 rows of the dataframe.\n",
    "\n",
    "Writing good code, I would have spelled these steps out one by one instead of doing only one line and being lazy..."
   ]
  },
  {
   "cell_type": "markdown",
   "metadata": {
    "slideshow": {
     "slide_type": "slide"
    }
   },
   "source": [
    "__Why is this useful?__\n",
    "\n",
    "I can create a boolean Series just by applying a condition to a Series:\n",
    "\n",
    "`df['X'] > 0`\n",
    "\n",
    "I can feed this boolean array into the index:"
   ]
  },
  {
   "cell_type": "code",
   "execution_count": 43,
   "metadata": {
    "collapsed": true,
    "slideshow": {
     "slide_type": "slide"
    }
   },
   "outputs": [
    {
     "data": {
      "text/html": [
       "<div>\n",
       "<style scoped>\n",
       "    .dataframe tbody tr th:only-of-type {\n",
       "        vertical-align: middle;\n",
       "    }\n",
       "\n",
       "    .dataframe tbody tr th {\n",
       "        vertical-align: top;\n",
       "    }\n",
       "\n",
       "    .dataframe thead th {\n",
       "        text-align: right;\n",
       "    }\n",
       "</style>\n",
       "<table border=\"1\" class=\"dataframe\">\n",
       "  <thead>\n",
       "    <tr style=\"text-align: right;\">\n",
       "      <th></th>\n",
       "      <th>X</th>\n",
       "      <th>Y</th>\n",
       "    </tr>\n",
       "  </thead>\n",
       "  <tbody>\n",
       "    <tr>\n",
       "      <th>1</th>\n",
       "      <td>1.342893</td>\n",
       "      <td>2.740774</td>\n",
       "    </tr>\n",
       "    <tr>\n",
       "      <th>3</th>\n",
       "      <td>0.881329</td>\n",
       "      <td>1.392468</td>\n",
       "    </tr>\n",
       "    <tr>\n",
       "      <th>7</th>\n",
       "      <td>1.888073</td>\n",
       "      <td>3.018621</td>\n",
       "    </tr>\n",
       "    <tr>\n",
       "      <th>13</th>\n",
       "      <td>0.370792</td>\n",
       "      <td>0.886445</td>\n",
       "    </tr>\n",
       "    <tr>\n",
       "      <th>15</th>\n",
       "      <td>0.552242</td>\n",
       "      <td>0.232167</td>\n",
       "    </tr>\n",
       "    <tr>\n",
       "      <th>16</th>\n",
       "      <td>0.696471</td>\n",
       "      <td>-0.343498</td>\n",
       "    </tr>\n",
       "    <tr>\n",
       "      <th>18</th>\n",
       "      <td>1.419745</td>\n",
       "      <td>1.423611</td>\n",
       "    </tr>\n",
       "    <tr>\n",
       "      <th>19</th>\n",
       "      <td>0.591588</td>\n",
       "      <td>1.376212</td>\n",
       "    </tr>\n",
       "    <tr>\n",
       "      <th>24</th>\n",
       "      <td>1.207802</td>\n",
       "      <td>1.560797</td>\n",
       "    </tr>\n",
       "    <tr>\n",
       "      <th>25</th>\n",
       "      <td>0.411165</td>\n",
       "      <td>-0.902443</td>\n",
       "    </tr>\n",
       "    <tr>\n",
       "      <th>27</th>\n",
       "      <td>0.856770</td>\n",
       "      <td>1.326765</td>\n",
       "    </tr>\n",
       "    <tr>\n",
       "      <th>32</th>\n",
       "      <td>0.344833</td>\n",
       "      <td>0.762311</td>\n",
       "    </tr>\n",
       "    <tr>\n",
       "      <th>35</th>\n",
       "      <td>0.618437</td>\n",
       "      <td>0.726444</td>\n",
       "    </tr>\n",
       "    <tr>\n",
       "      <th>36</th>\n",
       "      <td>0.048461</td>\n",
       "      <td>-0.254131</td>\n",
       "    </tr>\n",
       "    <tr>\n",
       "      <th>40</th>\n",
       "      <td>0.176262</td>\n",
       "      <td>0.584714</td>\n",
       "    </tr>\n",
       "    <tr>\n",
       "      <th>41</th>\n",
       "      <td>0.952688</td>\n",
       "      <td>1.616771</td>\n",
       "    </tr>\n",
       "    <tr>\n",
       "      <th>44</th>\n",
       "      <td>0.046598</td>\n",
       "      <td>1.066888</td>\n",
       "    </tr>\n",
       "    <tr>\n",
       "      <th>45</th>\n",
       "      <td>0.976368</td>\n",
       "      <td>0.287900</td>\n",
       "    </tr>\n",
       "    <tr>\n",
       "      <th>46</th>\n",
       "      <td>0.128132</td>\n",
       "      <td>-0.536861</td>\n",
       "    </tr>\n",
       "    <tr>\n",
       "      <th>47</th>\n",
       "      <td>0.508961</td>\n",
       "      <td>0.977581</td>\n",
       "    </tr>\n",
       "    <tr>\n",
       "      <th>50</th>\n",
       "      <td>2.091858</td>\n",
       "      <td>3.540302</td>\n",
       "    </tr>\n",
       "    <tr>\n",
       "      <th>52</th>\n",
       "      <td>1.350894</td>\n",
       "      <td>2.813796</td>\n",
       "    </tr>\n",
       "    <tr>\n",
       "      <th>54</th>\n",
       "      <td>0.639397</td>\n",
       "      <td>-0.514309</td>\n",
       "    </tr>\n",
       "    <tr>\n",
       "      <th>55</th>\n",
       "      <td>1.036520</td>\n",
       "      <td>1.806759</td>\n",
       "    </tr>\n",
       "    <tr>\n",
       "      <th>64</th>\n",
       "      <td>0.123810</td>\n",
       "      <td>1.005309</td>\n",
       "    </tr>\n",
       "    <tr>\n",
       "      <th>65</th>\n",
       "      <td>0.274774</td>\n",
       "      <td>0.573693</td>\n",
       "    </tr>\n",
       "    <tr>\n",
       "      <th>67</th>\n",
       "      <td>0.765320</td>\n",
       "      <td>1.511867</td>\n",
       "    </tr>\n",
       "    <tr>\n",
       "      <th>70</th>\n",
       "      <td>0.511780</td>\n",
       "      <td>0.558081</td>\n",
       "    </tr>\n",
       "    <tr>\n",
       "      <th>73</th>\n",
       "      <td>0.138025</td>\n",
       "      <td>-0.762369</td>\n",
       "    </tr>\n",
       "    <tr>\n",
       "      <th>77</th>\n",
       "      <td>0.465153</td>\n",
       "      <td>0.582711</td>\n",
       "    </tr>\n",
       "    <tr>\n",
       "      <th>79</th>\n",
       "      <td>0.247677</td>\n",
       "      <td>0.203151</td>\n",
       "    </tr>\n",
       "    <tr>\n",
       "      <th>81</th>\n",
       "      <td>0.500422</td>\n",
       "      <td>-0.360811</td>\n",
       "    </tr>\n",
       "    <tr>\n",
       "      <th>84</th>\n",
       "      <td>0.625975</td>\n",
       "      <td>-0.550473</td>\n",
       "    </tr>\n",
       "    <tr>\n",
       "      <th>86</th>\n",
       "      <td>1.947559</td>\n",
       "      <td>4.121638</td>\n",
       "    </tr>\n",
       "    <tr>\n",
       "      <th>89</th>\n",
       "      <td>0.490417</td>\n",
       "      <td>-0.502972</td>\n",
       "    </tr>\n",
       "    <tr>\n",
       "      <th>90</th>\n",
       "      <td>1.360638</td>\n",
       "      <td>1.698567</td>\n",
       "    </tr>\n",
       "    <tr>\n",
       "      <th>92</th>\n",
       "      <td>0.773128</td>\n",
       "      <td>1.895566</td>\n",
       "    </tr>\n",
       "    <tr>\n",
       "      <th>94</th>\n",
       "      <td>1.759912</td>\n",
       "      <td>3.963887</td>\n",
       "    </tr>\n",
       "    <tr>\n",
       "      <th>95</th>\n",
       "      <td>0.019236</td>\n",
       "      <td>0.218815</td>\n",
       "    </tr>\n",
       "    <tr>\n",
       "      <th>96</th>\n",
       "      <td>1.833012</td>\n",
       "      <td>5.816347</td>\n",
       "    </tr>\n",
       "    <tr>\n",
       "      <th>97</th>\n",
       "      <td>0.789402</td>\n",
       "      <td>1.021993</td>\n",
       "    </tr>\n",
       "    <tr>\n",
       "      <th>98</th>\n",
       "      <td>0.742908</td>\n",
       "      <td>0.849749</td>\n",
       "    </tr>\n",
       "  </tbody>\n",
       "</table>\n",
       "</div>"
      ],
      "text/plain": [
       "           X         Y\n",
       "1   1.342893  2.740774\n",
       "3   0.881329  1.392468\n",
       "7   1.888073  3.018621\n",
       "13  0.370792  0.886445\n",
       "15  0.552242  0.232167\n",
       "16  0.696471 -0.343498\n",
       "18  1.419745  1.423611\n",
       "19  0.591588  1.376212\n",
       "24  1.207802  1.560797\n",
       "25  0.411165 -0.902443\n",
       "27  0.856770  1.326765\n",
       "32  0.344833  0.762311\n",
       "35  0.618437  0.726444\n",
       "36  0.048461 -0.254131\n",
       "40  0.176262  0.584714\n",
       "41  0.952688  1.616771\n",
       "44  0.046598  1.066888\n",
       "45  0.976368  0.287900\n",
       "46  0.128132 -0.536861\n",
       "47  0.508961  0.977581\n",
       "50  2.091858  3.540302\n",
       "52  1.350894  2.813796\n",
       "54  0.639397 -0.514309\n",
       "55  1.036520  1.806759\n",
       "64  0.123810  1.005309\n",
       "65  0.274774  0.573693\n",
       "67  0.765320  1.511867\n",
       "70  0.511780  0.558081\n",
       "73  0.138025 -0.762369\n",
       "77  0.465153  0.582711\n",
       "79  0.247677  0.203151\n",
       "81  0.500422 -0.360811\n",
       "84  0.625975 -0.550473\n",
       "86  1.947559  4.121638\n",
       "89  0.490417 -0.502972\n",
       "90  1.360638  1.698567\n",
       "92  0.773128  1.895566\n",
       "94  1.759912  3.963887\n",
       "95  0.019236  0.218815\n",
       "96  1.833012  5.816347\n",
       "97  0.789402  1.021993\n",
       "98  0.742908  0.849749"
      ]
     },
     "execution_count": 43,
     "metadata": {},
     "output_type": "execute_result"
    }
   ],
   "source": [
    "df[(df['X']>0)]"
   ]
  },
  {
   "cell_type": "markdown",
   "metadata": {
    "slideshow": {
     "slide_type": "-"
    }
   },
   "source": [
    "By default, feeding it into brackets feeds it into the first axis.\n",
    "\n",
    "But if I feed it a label, it also knows to first check whether this is a column.\n",
    "\n",
    "This is part of why Python is easy to use, but also __easy to screw things up__."
   ]
  },
  {
   "cell_type": "markdown",
   "metadata": {
    "slideshow": {
     "slide_type": "slide"
    }
   },
   "source": [
    "### Methods\n",
    "This is one of the reasons I got hooked on Python. Pandas DataFrames have several built-in methods that make data manipulation __very easy__.\n",
    "\n",
    "Also, there are ways to easily apply your own functions to dataframes, which is good for data cleaning.\n",
    "\n",
    "Some key ones:\n",
    "- built in data frame methods\n",
    "- `groupby()`\n",
    "- `apply()` and `map()`"
   ]
  },
  {
   "cell_type": "markdown",
   "metadata": {
    "slideshow": {
     "slide_type": "slide"
    }
   },
   "source": [
    "#### Stats functions.\n",
    "All of the major moments:"
   ]
  },
  {
   "cell_type": "code",
   "execution_count": 44,
   "metadata": {
    "scrolled": true,
    "slideshow": {
     "slide_type": "-"
    }
   },
   "outputs": [
    {
     "data": {
      "text/plain": [
       "(X   -0.121831\n",
       " Y   -0.397819\n",
       " dtype: float64,\n",
       " X    0.967398\n",
       " Y    2.027313\n",
       " dtype: float64,\n",
       " X    0.935859\n",
       " Y    4.109998\n",
       " dtype: float64,\n",
       " X    0.015925\n",
       " Y    0.192365\n",
       " dtype: float64,\n",
       " X   -0.143390\n",
       " Y    0.056642\n",
       " dtype: float64)"
      ]
     },
     "execution_count": 44,
     "metadata": {},
     "output_type": "execute_result"
    }
   ],
   "source": [
    "df.mean(), df.std(), df.var(), df.skew(), df.kurtosis()"
   ]
  },
  {
   "cell_type": "markdown",
   "metadata": {
    "slideshow": {
     "slide_type": "slide"
    }
   },
   "source": [
    "Correlations:"
   ]
  },
  {
   "cell_type": "code",
   "execution_count": 45,
   "metadata": {
    "scrolled": false,
    "slideshow": {
     "slide_type": "-"
    }
   },
   "outputs": [
    {
     "data": {
      "text/html": [
       "<div>\n",
       "<style scoped>\n",
       "    .dataframe tbody tr th:only-of-type {\n",
       "        vertical-align: middle;\n",
       "    }\n",
       "\n",
       "    .dataframe tbody tr th {\n",
       "        vertical-align: top;\n",
       "    }\n",
       "\n",
       "    .dataframe thead th {\n",
       "        text-align: right;\n",
       "    }\n",
       "</style>\n",
       "<table border=\"1\" class=\"dataframe\">\n",
       "  <thead>\n",
       "    <tr style=\"text-align: right;\">\n",
       "      <th></th>\n",
       "      <th>X</th>\n",
       "      <th>Y</th>\n",
       "    </tr>\n",
       "  </thead>\n",
       "  <tbody>\n",
       "    <tr>\n",
       "      <th>X</th>\n",
       "      <td>1.000000</td>\n",
       "      <td>0.864444</td>\n",
       "    </tr>\n",
       "    <tr>\n",
       "      <th>Y</th>\n",
       "      <td>0.864444</td>\n",
       "      <td>1.000000</td>\n",
       "    </tr>\n",
       "  </tbody>\n",
       "</table>\n",
       "</div>"
      ],
      "text/plain": [
       "          X         Y\n",
       "X  1.000000  0.864444\n",
       "Y  0.864444  1.000000"
      ]
     },
     "execution_count": 45,
     "metadata": {},
     "output_type": "execute_result"
    }
   ],
   "source": [
    "df.corr()"
   ]
  },
  {
   "cell_type": "markdown",
   "metadata": {
    "slideshow": {
     "slide_type": "slide"
    }
   },
   "source": [
    "#### Sequential operations.\n",
    "Such as differences and shifts:"
   ]
  },
  {
   "cell_type": "code",
   "execution_count": 46,
   "metadata": {
    "slideshow": {
     "slide_type": "-"
    }
   },
   "outputs": [
    {
     "data": {
      "text/html": [
       "<div>\n",
       "<style scoped>\n",
       "    .dataframe tbody tr th:only-of-type {\n",
       "        vertical-align: middle;\n",
       "    }\n",
       "\n",
       "    .dataframe tbody tr th {\n",
       "        vertical-align: top;\n",
       "    }\n",
       "\n",
       "    .dataframe thead th {\n",
       "        text-align: right;\n",
       "    }\n",
       "</style>\n",
       "<table border=\"1\" class=\"dataframe\">\n",
       "  <thead>\n",
       "    <tr style=\"text-align: right;\">\n",
       "      <th></th>\n",
       "      <th>X</th>\n",
       "      <th>Y</th>\n",
       "      <th>D_X</th>\n",
       "      <th>L_X</th>\n",
       "    </tr>\n",
       "  </thead>\n",
       "  <tbody>\n",
       "    <tr>\n",
       "      <th>0</th>\n",
       "      <td>-0.702791</td>\n",
       "      <td>-1.022346</td>\n",
       "      <td>NaN</td>\n",
       "      <td>NaN</td>\n",
       "    </tr>\n",
       "    <tr>\n",
       "      <th>1</th>\n",
       "      <td>1.342893</td>\n",
       "      <td>2.740774</td>\n",
       "      <td>2.045684</td>\n",
       "      <td>-0.702791</td>\n",
       "    </tr>\n",
       "    <tr>\n",
       "      <th>2</th>\n",
       "      <td>-0.653413</td>\n",
       "      <td>-0.779397</td>\n",
       "      <td>-1.996306</td>\n",
       "      <td>1.342893</td>\n",
       "    </tr>\n",
       "    <tr>\n",
       "      <th>3</th>\n",
       "      <td>0.881329</td>\n",
       "      <td>1.392468</td>\n",
       "      <td>1.534742</td>\n",
       "      <td>-0.653413</td>\n",
       "    </tr>\n",
       "    <tr>\n",
       "      <th>4</th>\n",
       "      <td>-0.899099</td>\n",
       "      <td>-3.242841</td>\n",
       "      <td>-1.780428</td>\n",
       "      <td>0.881329</td>\n",
       "    </tr>\n",
       "  </tbody>\n",
       "</table>\n",
       "</div>"
      ],
      "text/plain": [
       "          X         Y       D_X       L_X\n",
       "0 -0.702791 -1.022346       NaN       NaN\n",
       "1  1.342893  2.740774  2.045684 -0.702791\n",
       "2 -0.653413 -0.779397 -1.996306  1.342893\n",
       "3  0.881329  1.392468  1.534742 -0.653413\n",
       "4 -0.899099 -3.242841 -1.780428  0.881329"
      ]
     },
     "execution_count": 46,
     "metadata": {},
     "output_type": "execute_result"
    }
   ],
   "source": [
    "df['D_X'] = df['X'].diff()\n",
    "df['L_X'] = df['X'].shift()\n",
    "\n",
    "df.head()"
   ]
  },
  {
   "cell_type": "markdown",
   "metadata": {
    "slideshow": {
     "slide_type": "slide"
    }
   },
   "source": [
    "Even random things like \"percent change\""
   ]
  },
  {
   "cell_type": "code",
   "execution_count": 47,
   "metadata": {
    "slideshow": {
     "slide_type": "-"
    }
   },
   "outputs": [
    {
     "data": {
      "text/plain": [
       "0           NaN\n",
       "1     -2.910799\n",
       "2     -1.486571\n",
       "3     -2.348809\n",
       "4     -2.020162\n",
       "        ...    \n",
       "95    -0.989070\n",
       "96    94.293021\n",
       "97    -0.569342\n",
       "98    -0.058897\n",
       "99    -3.588508\n",
       "Name: X, Length: 100, dtype: float64"
      ]
     },
     "execution_count": 47,
     "metadata": {},
     "output_type": "execute_result"
    }
   ],
   "source": [
    "df['X'].pct_change()"
   ]
  },
  {
   "cell_type": "markdown",
   "metadata": {
    "slideshow": {
     "slide_type": "slide"
    }
   },
   "source": [
    "#### Useful data exploration ones:"
   ]
  },
  {
   "cell_type": "code",
   "execution_count": 48,
   "metadata": {
    "slideshow": {
     "slide_type": "-"
    }
   },
   "outputs": [
    {
     "data": {
      "text/plain": [
       "99"
      ]
     },
     "execution_count": 48,
     "metadata": {},
     "output_type": "execute_result"
    }
   ],
   "source": [
    "# How many non-null values are there?\n",
    "df['D_X'].count()"
   ]
  },
  {
   "cell_type": "code",
   "execution_count": 49,
   "metadata": {
    "slideshow": {
     "slide_type": "-"
    }
   },
   "outputs": [
    {
     "data": {
      "text/plain": [
       "2"
      ]
     },
     "execution_count": 49,
     "metadata": {},
     "output_type": "execute_result"
    }
   ],
   "source": [
    "df['D_X_neg'] = df['D_X']<0\n",
    "# How many unique values are there?\n",
    "df['D_X_neg'].nunique()"
   ]
  },
  {
   "cell_type": "code",
   "execution_count": 50,
   "metadata": {},
   "outputs": [
    {
     "data": {
      "text/plain": [
       "True     51\n",
       "False    49\n",
       "Name: D_X_neg, dtype: int64"
      ]
     },
     "execution_count": 50,
     "metadata": {},
     "output_type": "execute_result"
    }
   ],
   "source": [
    "# How many occurences of each unique value?\n",
    "df['D_X_neg'].value_counts()"
   ]
  },
  {
   "cell_type": "code",
   "execution_count": 51,
   "metadata": {
    "slideshow": {
     "slide_type": "-"
    }
   },
   "outputs": [
    {
     "data": {
      "text/plain": [
       "array([False,  True])"
      ]
     },
     "execution_count": 51,
     "metadata": {},
     "output_type": "execute_result"
    }
   ],
   "source": [
    "# What are those unique values?\n",
    "df['D_X_neg'].unique()"
   ]
  },
  {
   "cell_type": "code",
   "execution_count": 52,
   "metadata": {
    "slideshow": {
     "slide_type": "slide"
    }
   },
   "outputs": [
    {
     "data": {
      "text/html": [
       "<div>\n",
       "<style scoped>\n",
       "    .dataframe tbody tr th:only-of-type {\n",
       "        vertical-align: middle;\n",
       "    }\n",
       "\n",
       "    .dataframe tbody tr th {\n",
       "        vertical-align: top;\n",
       "    }\n",
       "\n",
       "    .dataframe thead th {\n",
       "        text-align: right;\n",
       "    }\n",
       "</style>\n",
       "<table border=\"1\" class=\"dataframe\">\n",
       "  <thead>\n",
       "    <tr style=\"text-align: right;\">\n",
       "      <th></th>\n",
       "      <th>X</th>\n",
       "      <th>Y</th>\n",
       "      <th>D_X</th>\n",
       "      <th>L_X</th>\n",
       "    </tr>\n",
       "  </thead>\n",
       "  <tbody>\n",
       "    <tr>\n",
       "      <th>count</th>\n",
       "      <td>100.000000</td>\n",
       "      <td>100.000000</td>\n",
       "      <td>99.000000</td>\n",
       "      <td>99.000000</td>\n",
       "    </tr>\n",
       "    <tr>\n",
       "      <th>mean</th>\n",
       "      <td>-0.121831</td>\n",
       "      <td>-0.397819</td>\n",
       "      <td>-0.012326</td>\n",
       "      <td>-0.103637</td>\n",
       "    </tr>\n",
       "    <tr>\n",
       "      <th>std</th>\n",
       "      <td>0.967398</td>\n",
       "      <td>2.027313</td>\n",
       "      <td>1.489573</td>\n",
       "      <td>0.954971</td>\n",
       "    </tr>\n",
       "    <tr>\n",
       "      <th>min</th>\n",
       "      <td>-2.638191</td>\n",
       "      <td>-4.496637</td>\n",
       "      <td>-3.573981</td>\n",
       "      <td>-2.638191</td>\n",
       "    </tr>\n",
       "    <tr>\n",
       "      <th>25%</th>\n",
       "      <td>-0.753810</td>\n",
       "      <td>-1.883375</td>\n",
       "      <td>-0.928878</td>\n",
       "      <td>-0.727791</td>\n",
       "    </tr>\n",
       "    <tr>\n",
       "      <th>50%</th>\n",
       "      <td>-0.103201</td>\n",
       "      <td>-0.286752</td>\n",
       "      <td>-0.052254</td>\n",
       "      <td>-0.102566</td>\n",
       "    </tr>\n",
       "    <tr>\n",
       "      <th>75%</th>\n",
       "      <td>0.521895</td>\n",
       "      <td>0.879417</td>\n",
       "      <td>1.067953</td>\n",
       "      <td>0.532011</td>\n",
       "    </tr>\n",
       "    <tr>\n",
       "      <th>max</th>\n",
       "      <td>2.091858</td>\n",
       "      <td>5.816347</td>\n",
       "      <td>4.398103</td>\n",
       "      <td>2.091858</td>\n",
       "    </tr>\n",
       "  </tbody>\n",
       "</table>\n",
       "</div>"
      ],
      "text/plain": [
       "                X           Y        D_X        L_X\n",
       "count  100.000000  100.000000  99.000000  99.000000\n",
       "mean    -0.121831   -0.397819  -0.012326  -0.103637\n",
       "std      0.967398    2.027313   1.489573   0.954971\n",
       "min     -2.638191   -4.496637  -3.573981  -2.638191\n",
       "25%     -0.753810   -1.883375  -0.928878  -0.727791\n",
       "50%     -0.103201   -0.286752  -0.052254  -0.102566\n",
       "75%      0.521895    0.879417   1.067953   0.532011\n",
       "max      2.091858    5.816347   4.398103   2.091858"
      ]
     },
     "execution_count": 52,
     "metadata": {},
     "output_type": "execute_result"
    }
   ],
   "source": [
    "df.describe()"
   ]
  },
  {
   "cell_type": "code",
   "execution_count": 53,
   "metadata": {
    "slideshow": {
     "slide_type": "-"
    }
   },
   "outputs": [
    {
     "data": {
      "text/html": [
       "<div>\n",
       "<style scoped>\n",
       "    .dataframe tbody tr th:only-of-type {\n",
       "        vertical-align: middle;\n",
       "    }\n",
       "\n",
       "    .dataframe tbody tr th {\n",
       "        vertical-align: top;\n",
       "    }\n",
       "\n",
       "    .dataframe thead th {\n",
       "        text-align: right;\n",
       "    }\n",
       "</style>\n",
       "<table border=\"1\" class=\"dataframe\">\n",
       "  <thead>\n",
       "    <tr style=\"text-align: right;\">\n",
       "      <th></th>\n",
       "      <th>D_X_neg</th>\n",
       "    </tr>\n",
       "  </thead>\n",
       "  <tbody>\n",
       "    <tr>\n",
       "      <th>0</th>\n",
       "      <td>False</td>\n",
       "    </tr>\n",
       "    <tr>\n",
       "      <th>2</th>\n",
       "      <td>True</td>\n",
       "    </tr>\n",
       "  </tbody>\n",
       "</table>\n",
       "</div>"
      ],
      "text/plain": [
       "   D_X_neg\n",
       "0    False\n",
       "2     True"
      ]
     },
     "execution_count": 53,
     "metadata": {},
     "output_type": "execute_result"
    }
   ],
   "source": [
    "df[['D_X_neg']].drop_duplicates()"
   ]
  },
  {
   "cell_type": "markdown",
   "metadata": {
    "slideshow": {
     "slide_type": "slide"
    }
   },
   "source": [
    "#### Making quick plots:"
   ]
  },
  {
   "cell_type": "code",
   "execution_count": 56,
   "metadata": {
    "scrolled": true,
    "slideshow": {
     "slide_type": "-"
    }
   },
   "outputs": [
    {
     "data": {
      "text/plain": [
       "<AxesSubplot: ylabel='Frequency'>"
      ]
     },
     "execution_count": 56,
     "metadata": {},
     "output_type": "execute_result"
    },
    {
     "data": {
      "image/png": "[encoded data removed]",
      "text/plain": [
       "<Figure size 640x480 with 1 Axes>"
      ]
     },
     "metadata": {},
     "output_type": "display_data"
    }
   ],
   "source": [
    "df['X'].plot(kind='hist',bins=20,color=\"C0\")"
   ]
  },
  {
   "cell_type": "code",
   "execution_count": 57,
   "metadata": {
    "slideshow": {
     "slide_type": "slide"
    }
   },
   "outputs": [
    {
     "data": {
      "text/plain": [
       "<AxesSubplot: ylabel='Density'>"
      ]
     },
     "execution_count": 57,
     "metadata": {},
     "output_type": "execute_result"
    },
    {
     "data": {
      "image/png": "[encoded data removed]",
      "text/plain": [
       "<Figure size 640x480 with 1 Axes>"
      ]
     },
     "metadata": {},
     "output_type": "display_data"
    }
   ],
   "source": [
    "df.plot(kind='density',color=[\"C0\",\"C2\",\"C3\"])"
   ]
  },
  {
   "cell_type": "code",
   "execution_count": 58,
   "metadata": {
    "scrolled": true,
    "slideshow": {
     "slide_type": "slide"
    }
   },
   "outputs": [
    {
     "data": {
      "text/plain": [
       "<AxesSubplot: xlabel='X', ylabel='Y'>"
      ]
     },
     "execution_count": 58,
     "metadata": {},
     "output_type": "execute_result"
    },
    {
     "data": {
      "image/png": "[encoded data removed]",
      "text/plain": [
       "<Figure size 640x480 with 1 Axes>"
      ]
     },
     "metadata": {},
     "output_type": "display_data"
    }
   ],
   "source": [
    "df.plot(kind='scatter',x=\"X\",y=\"Y\")"
   ]
  },
  {
   "cell_type": "markdown",
   "metadata": {
    "slideshow": {
     "slide_type": "slide"
    }
   },
   "source": [
    "#### Groupby\n",
    "\n",
    "Ok, now for the really cool one: `groupby`\n",
    "\n",
    "Groupby takes an argument that is a discrete variable and then applies whatever built in function you call to each group."
   ]
  },
  {
   "cell_type": "code",
   "execution_count": 59,
   "metadata": {
    "slideshow": {
     "slide_type": "-"
    }
   },
   "outputs": [
    {
     "data": {
      "text/html": [
       "<div>\n",
       "<style scoped>\n",
       "    .dataframe tbody tr th:only-of-type {\n",
       "        vertical-align: middle;\n",
       "    }\n",
       "\n",
       "    .dataframe tbody tr th {\n",
       "        vertical-align: top;\n",
       "    }\n",
       "\n",
       "    .dataframe thead th {\n",
       "        text-align: right;\n",
       "    }\n",
       "</style>\n",
       "<table border=\"1\" class=\"dataframe\">\n",
       "  <thead>\n",
       "    <tr style=\"text-align: right;\">\n",
       "      <th></th>\n",
       "      <th>X</th>\n",
       "      <th>Y</th>\n",
       "      <th>D_X</th>\n",
       "      <th>L_X</th>\n",
       "    </tr>\n",
       "    <tr>\n",
       "      <th>D_X_neg</th>\n",
       "      <th></th>\n",
       "      <th></th>\n",
       "      <th></th>\n",
       "      <th></th>\n",
       "    </tr>\n",
       "  </thead>\n",
       "  <tbody>\n",
       "    <tr>\n",
       "      <th>False</th>\n",
       "      <td>0.501267</td>\n",
       "      <td>0.830343</td>\n",
       "      <td>1.231610</td>\n",
       "      <td>-0.705259</td>\n",
       "    </tr>\n",
       "    <tr>\n",
       "      <th>True</th>\n",
       "      <td>-0.720493</td>\n",
       "      <td>-1.577819</td>\n",
       "      <td>-1.183089</td>\n",
       "      <td>0.462595</td>\n",
       "    </tr>\n",
       "  </tbody>\n",
       "</table>\n",
       "</div>"
      ],
      "text/plain": [
       "                X         Y       D_X       L_X\n",
       "D_X_neg                                        \n",
       "False    0.501267  0.830343  1.231610 -0.705259\n",
       "True    -0.720493 -1.577819 -1.183089  0.462595"
      ]
     },
     "execution_count": 59,
     "metadata": {},
     "output_type": "execute_result"
    }
   ],
   "source": [
    "df.groupby(\"D_X_neg\").mean()"
   ]
  },
  {
   "cell_type": "code",
   "execution_count": 60,
   "metadata": {
    "slideshow": {
     "slide_type": "-"
    }
   },
   "outputs": [
    {
     "data": {
      "text/html": [
       "<div>\n",
       "<style scoped>\n",
       "    .dataframe tbody tr th:only-of-type {\n",
       "        vertical-align: middle;\n",
       "    }\n",
       "\n",
       "    .dataframe tbody tr th {\n",
       "        vertical-align: top;\n",
       "    }\n",
       "\n",
       "    .dataframe thead th {\n",
       "        text-align: right;\n",
       "    }\n",
       "</style>\n",
       "<table border=\"1\" class=\"dataframe\">\n",
       "  <thead>\n",
       "    <tr style=\"text-align: right;\">\n",
       "      <th></th>\n",
       "      <th>X</th>\n",
       "      <th>Y</th>\n",
       "      <th>D_X</th>\n",
       "      <th>L_X</th>\n",
       "    </tr>\n",
       "    <tr>\n",
       "      <th>D_X_neg</th>\n",
       "      <th></th>\n",
       "      <th></th>\n",
       "      <th></th>\n",
       "      <th></th>\n",
       "    </tr>\n",
       "  </thead>\n",
       "  <tbody>\n",
       "    <tr>\n",
       "      <th>False</th>\n",
       "      <td>24.562088</td>\n",
       "      <td>40.686806</td>\n",
       "      <td>59.117290</td>\n",
       "      <td>-33.852410</td>\n",
       "    </tr>\n",
       "    <tr>\n",
       "      <th>True</th>\n",
       "      <td>-36.745160</td>\n",
       "      <td>-80.468754</td>\n",
       "      <td>-60.337522</td>\n",
       "      <td>23.592363</td>\n",
       "    </tr>\n",
       "  </tbody>\n",
       "</table>\n",
       "</div>"
      ],
      "text/plain": [
       "                 X          Y        D_X        L_X\n",
       "D_X_neg                                            \n",
       "False    24.562088  40.686806  59.117290 -33.852410\n",
       "True    -36.745160 -80.468754 -60.337522  23.592363"
      ]
     },
     "execution_count": 60,
     "metadata": {},
     "output_type": "execute_result"
    }
   ],
   "source": [
    "df.groupby(\"D_X_neg\").sum()"
   ]
  },
  {
   "cell_type": "markdown",
   "metadata": {
    "slideshow": {
     "slide_type": "slide"
    }
   },
   "source": [
    "A really useful application is __panel data__. If you have individual $i$ in time $t$, you can produce first differences of any variable by writing:\n",
    "\n",
    "`df = df.sort_values([\"i\",\"t\"])`\n",
    "\n",
    "`df.groupby('i')['var'].diff()`\n",
    "\n",
    "The first statement is key, because the `diff` function takes the difference based on the order it comes in the dataframe. By putting it in order first, you can use `diff` or `shift` to produce differences or lags.\n",
    "\n",
    "__Note:__ `diff` and `shift` take an argument, which is how many periods you want to shift or diff (order of the lag or difference)"
   ]
  },
  {
   "cell_type": "markdown",
   "metadata": {
    "slideshow": {
     "slide_type": "slide"
    }
   },
   "source": [
    "#### Apply and map\n",
    "Crucially, you can also use your own functions in the dataframe.\n",
    "\n",
    "- Element by element functions.\n",
    "- Group by group functions.\n",
    "\n",
    "__map__ is for Series, whereas __apply__ is for dataframes.\n",
    "\n",
    "Suppose I wanted to add the word \"dog\" to the end of every value of a column. We want to use map for this, and you must write the function as if it is receiving a scalar input."
   ]
  },
  {
   "cell_type": "code",
   "execution_count": 61,
   "metadata": {
    "slideshow": {
     "slide_type": "slide"
    }
   },
   "outputs": [
    {
     "data": {
      "text/plain": [
       "0     -0.7dog\n",
       "1     1.34dog\n",
       "2    -0.65dog\n",
       "3     0.88dog\n",
       "4     -0.9dog\n",
       "Name: X, dtype: object"
      ]
     },
     "execution_count": 61,
     "metadata": {},
     "output_type": "execute_result"
    }
   ],
   "source": [
    "def add_dog(x):\n",
    "    return str( round(x, 2) )+ \"dog\"\n",
    "\n",
    "df['X'].map(add_dog).head()"
   ]
  },
  {
   "cell_type": "markdown",
   "metadata": {
    "slideshow": {
     "slide_type": "slide"
    }
   },
   "source": [
    "#### Another aside: lambda functions\n",
    "\n",
    "In python, these two things are equivalent:\n",
    "- ` def add_dog(x): str( round(x,2) ) + \"dog\"`\n",
    "- ` add_dog = lambda x: str( round(x,2) ) + \"dog\"`\n",
    "\n",
    "The second is an example of a __lambda function__."
   ]
  },
  {
   "cell_type": "markdown",
   "metadata": {
    "slideshow": {
     "slide_type": "slide"
    }
   },
   "source": [
    "Example:"
   ]
  },
  {
   "cell_type": "code",
   "execution_count": 64,
   "metadata": {
    "slideshow": {
     "slide_type": "-"
    }
   },
   "outputs": [
    {
     "data": {
      "text/plain": [
       "'12cat'"
      ]
     },
     "execution_count": 64,
     "metadata": {},
     "output_type": "execute_result"
    }
   ],
   "source": [
    "add_cat = lambda x: str(x) + \"cat\"\n",
    "\n",
    "add_cat(12)"
   ]
  },
  {
   "cell_type": "markdown",
   "metadata": {
    "slideshow": {
     "slide_type": "-"
    }
   },
   "source": [
    "This a quicker way to write small functions very quickly."
   ]
  },
  {
   "cell_type": "markdown",
   "metadata": {
    "slideshow": {
     "slide_type": "slide"
    }
   },
   "source": [
    "Lambda functions can be made on the fly and are ideal for functions you don't want to use more than once. We can make one for this function and `map` will accept it:"
   ]
  },
  {
   "cell_type": "code",
   "execution_count": 65,
   "metadata": {
    "slideshow": {
     "slide_type": "-"
    }
   },
   "outputs": [
    {
     "data": {
      "text/plain": [
       "0     -0.7dog\n",
       "1     1.34dog\n",
       "2    -0.65dog\n",
       "3     0.88dog\n",
       "4     -0.9dog\n",
       "Name: X, dtype: object"
      ]
     },
     "execution_count": 65,
     "metadata": {},
     "output_type": "execute_result"
    }
   ],
   "source": [
    "           # Lambda functions have this form: \n",
    "           #lambda var: then_write_your_function_of_var\n",
    "df['X'].map(lambda x: str( round(x, 2) ) + \"dog\").head()"
   ]
  },
  {
   "cell_type": "markdown",
   "metadata": {
    "slideshow": {
     "slide_type": "slide"
    }
   },
   "source": [
    "If we need a function that applies across an axis, that is when we need __apply__, and you must write the function as if it is receiving a column or row."
   ]
  },
  {
   "cell_type": "code",
   "execution_count": 66,
   "metadata": {
    "slideshow": {
     "slide_type": "-"
    }
   },
   "outputs": [],
   "source": [
    "def stringify(column):\n",
    "    return column.astype(str).sum()"
   ]
  },
  {
   "cell_type": "code",
   "execution_count": 67,
   "metadata": {
    "slideshow": {
     "slide_type": "slide"
    }
   },
   "outputs": [
    {
     "data": {
      "text/plain": [
       "0     -0.7027913154038985-1.0223455614209038nannanFalse\n",
       "1     1.34289316044849732.74077399893861172.04568447...\n",
       "2     -0.6534130641668913-0.7793974970698835-1.99630...\n",
       "3     0.88132938887096351.3924675870482541.534742453...\n",
       "4     -0.8990988748417276-3.2428411392230427-1.78042...\n",
       "                            ...                        \n",
       "95    0.0192355303313911480.21881527016772628-1.7406...\n",
       "96    1.83301180478356665.816346859930281.8137762744...\n",
       "97    0.78940179192861541.0219928603573218-1.0436100...\n",
       "98    0.74290829740185790.8497491682162117-0.0464934...\n",
       "99    -1.9230242551028438-2.7325031940652003-2.66593...\n",
       "Length: 100, dtype: object"
      ]
     },
     "execution_count": 67,
     "metadata": {},
     "output_type": "execute_result"
    }
   ],
   "source": [
    "df.apply(stringify,axis=1)"
   ]
  },
  {
   "cell_type": "code",
   "execution_count": 68,
   "metadata": {
    "slideshow": {
     "slide_type": "-"
    }
   },
   "outputs": [
    {
     "data": {
      "text/plain": [
       "X          -0.70279131540389851.3428931604484973-0.653413...\n",
       "Y          -1.02234556142090382.7407739989386117-0.779397...\n",
       "D_X        nan2.0456844758523958-1.99630622461538861.5347...\n",
       "L_X        nan-0.70279131540389851.3428931604484973-0.653...\n",
       "D_X_neg    FalseFalseTrueFalseTrueFalseTrueFalseTrueTrueF...\n",
       "dtype: object"
      ]
     },
     "execution_count": 68,
     "metadata": {},
     "output_type": "execute_result"
    }
   ],
   "source": [
    "df.apply(stringify,axis=0)"
   ]
  },
  {
   "cell_type": "markdown",
   "metadata": {
    "slideshow": {
     "slide_type": "slide"
    }
   },
   "source": [
    "#### Group functions\n",
    "\n",
    "Suppose we wanted to standardize a variable to mean 0 and standard deviation 1."
   ]
  },
  {
   "cell_type": "code",
   "execution_count": 69,
   "metadata": {
    "scrolled": true,
    "slideshow": {
     "slide_type": "-"
    }
   },
   "outputs": [
    {
     "data": {
      "text/plain": [
       "(4.994651692682698, 0.1940367513103365)"
      ]
     },
     "execution_count": 69,
     "metadata": {},
     "output_type": "execute_result"
    }
   ],
   "source": [
    "df[\"Z\"] = np.random.randn(100)*.2 +5\n",
    "\n",
    "df['Z'].mean(), \\\n",
    "df['Z'].std()"
   ]
  },
  {
   "cell_type": "markdown",
   "metadata": {
    "slideshow": {
     "slide_type": "slide"
    }
   },
   "source": [
    "Let's write a function that does that:"
   ]
  },
  {
   "cell_type": "code",
   "execution_count": 70,
   "metadata": {
    "slideshow": {
     "slide_type": "-"
    }
   },
   "outputs": [],
   "source": [
    "def standardize(column):\n",
    "    return ( column - column.mean() )  /  column.std()"
   ]
  },
  {
   "cell_type": "code",
   "execution_count": 71,
   "metadata": {
    "slideshow": {
     "slide_type": "-"
    }
   },
   "outputs": [
    {
     "data": {
      "text/plain": [
       "(2.2093438190040614e-15, 1.0)"
      ]
     },
     "execution_count": 71,
     "metadata": {},
     "output_type": "execute_result"
    }
   ],
   "source": [
    "standardize(df['Z']).mean(),\\\n",
    "standardize(df['Z']).std()"
   ]
  },
  {
   "cell_type": "markdown",
   "metadata": {
    "slideshow": {
     "slide_type": "slide"
    }
   },
   "source": [
    "__We can also do this operation group by group:__"
   ]
  },
  {
   "cell_type": "code",
   "execution_count": 72,
   "metadata": {
    "collapsed": true,
    "slideshow": {
     "slide_type": "-"
    }
   },
   "outputs": [
    {
     "name": "stderr",
     "output_type": "stream",
     "text": [
      "C:\\Users\\jhtchns2\\AppData\\Local\\Temp\\ipykernel_12176\\1847824600.py:3: FutureWarning: Not prepending group keys to the result index of transform-like apply. In the future, the group keys will be included in the index, regardless of whether the applied function returns a like-indexed object.\n",
      "To preserve the previous behavior, use\n",
      "\n",
      "\t>>> .groupby(..., group_keys=False)\n",
      "\n",
      "To adopt the future behavior and silence this warning, use \n",
      "\n",
      "\t>>> .groupby(..., group_keys=True)\n",
      "  df['Z_stdized_g'] = group_object['Z'].apply(standardize)\n"
     ]
    }
   ],
   "source": [
    "group_object = df.groupby(\"D_X_neg\")\n",
    "\n",
    "df['Z_stdized_g'] = group_object['Z'].apply(standardize)"
   ]
  },
  {
   "cell_type": "code",
   "execution_count": 73,
   "metadata": {
    "slideshow": {
     "slide_type": "-"
    }
   },
   "outputs": [
    {
     "data": {
      "text/plain": [
       "D_X_neg\n",
       "False    5.619088e-16\n",
       "True     5.546761e-15\n",
       "Name: Z_stdized_g, dtype: float64"
      ]
     },
     "execution_count": 73,
     "metadata": {},
     "output_type": "execute_result"
    }
   ],
   "source": [
    "df.groupby(\"D_X_neg\")['Z_stdized_g'].mean()"
   ]
  },
  {
   "cell_type": "markdown",
   "metadata": {
    "slideshow": {
     "slide_type": "-"
    }
   },
   "source": [
    "Super handy for doing data cleaning procedures by groups."
   ]
  },
  {
   "cell_type": "markdown",
   "metadata": {
    "slideshow": {
     "slide_type": "slide"
    }
   },
   "source": [
    "### Another handy use of \".loc\"\n",
    "You can do a \"find and replace\" using .loc in your dataframe.\n",
    "\n",
    "Suppose that you think all values of `X` below zero create mistakes in `Z`, and you want to replace values of `Z` with `NaN` if that is the case.\n",
    "\n",
    "`.loc` allows you to do this kind of conditional replacement."
   ]
  },
  {
   "cell_type": "code",
   "execution_count": 74,
   "metadata": {
    "slideshow": {
     "slide_type": "slide"
    }
   },
   "outputs": [
    {
     "data": {
      "text/html": [
       "<div>\n",
       "<style scoped>\n",
       "    .dataframe tbody tr th:only-of-type {\n",
       "        vertical-align: middle;\n",
       "    }\n",
       "\n",
       "    .dataframe tbody tr th {\n",
       "        vertical-align: top;\n",
       "    }\n",
       "\n",
       "    .dataframe thead th {\n",
       "        text-align: right;\n",
       "    }\n",
       "</style>\n",
       "<table border=\"1\" class=\"dataframe\">\n",
       "  <thead>\n",
       "    <tr style=\"text-align: right;\">\n",
       "      <th></th>\n",
       "      <th>X</th>\n",
       "      <th>Y</th>\n",
       "      <th>D_X</th>\n",
       "      <th>L_X</th>\n",
       "      <th>D_X_neg</th>\n",
       "      <th>Z</th>\n",
       "      <th>Z_stdized_g</th>\n",
       "    </tr>\n",
       "  </thead>\n",
       "  <tbody>\n",
       "    <tr>\n",
       "      <th>0</th>\n",
       "      <td>-0.702791</td>\n",
       "      <td>-1.022346</td>\n",
       "      <td>NaN</td>\n",
       "      <td>NaN</td>\n",
       "      <td>False</td>\n",
       "      <td>NaN</td>\n",
       "      <td>-0.919602</td>\n",
       "    </tr>\n",
       "    <tr>\n",
       "      <th>1</th>\n",
       "      <td>1.342893</td>\n",
       "      <td>2.740774</td>\n",
       "      <td>2.045684</td>\n",
       "      <td>-0.702791</td>\n",
       "      <td>False</td>\n",
       "      <td>4.939440</td>\n",
       "      <td>-0.173585</td>\n",
       "    </tr>\n",
       "    <tr>\n",
       "      <th>2</th>\n",
       "      <td>-0.653413</td>\n",
       "      <td>-0.779397</td>\n",
       "      <td>-1.996306</td>\n",
       "      <td>1.342893</td>\n",
       "      <td>True</td>\n",
       "      <td>NaN</td>\n",
       "      <td>-0.621067</td>\n",
       "    </tr>\n",
       "    <tr>\n",
       "      <th>3</th>\n",
       "      <td>0.881329</td>\n",
       "      <td>1.392468</td>\n",
       "      <td>1.534742</td>\n",
       "      <td>-0.653413</td>\n",
       "      <td>False</td>\n",
       "      <td>4.957863</td>\n",
       "      <td>-0.081293</td>\n",
       "    </tr>\n",
       "    <tr>\n",
       "      <th>4</th>\n",
       "      <td>-0.899099</td>\n",
       "      <td>-3.242841</td>\n",
       "      <td>-1.780428</td>\n",
       "      <td>0.881329</td>\n",
       "      <td>True</td>\n",
       "      <td>NaN</td>\n",
       "      <td>-0.576546</td>\n",
       "    </tr>\n",
       "    <tr>\n",
       "      <th>5</th>\n",
       "      <td>-0.094338</td>\n",
       "      <td>-0.416469</td>\n",
       "      <td>0.804761</td>\n",
       "      <td>-0.899099</td>\n",
       "      <td>False</td>\n",
       "      <td>NaN</td>\n",
       "      <td>-0.694496</td>\n",
       "    </tr>\n",
       "    <tr>\n",
       "      <th>6</th>\n",
       "      <td>-0.475375</td>\n",
       "      <td>-2.790714</td>\n",
       "      <td>-0.381037</td>\n",
       "      <td>-0.094338</td>\n",
       "      <td>True</td>\n",
       "      <td>NaN</td>\n",
       "      <td>-1.722965</td>\n",
       "    </tr>\n",
       "    <tr>\n",
       "      <th>7</th>\n",
       "      <td>1.888073</td>\n",
       "      <td>3.018621</td>\n",
       "      <td>2.363447</td>\n",
       "      <td>-0.475375</td>\n",
       "      <td>False</td>\n",
       "      <td>4.658849</td>\n",
       "      <td>-1.579222</td>\n",
       "    </tr>\n",
       "    <tr>\n",
       "      <th>8</th>\n",
       "      <td>-0.091873</td>\n",
       "      <td>2.310756</td>\n",
       "      <td>-1.979946</td>\n",
       "      <td>1.888073</td>\n",
       "      <td>True</td>\n",
       "      <td>NaN</td>\n",
       "      <td>-0.276691</td>\n",
       "    </tr>\n",
       "    <tr>\n",
       "      <th>9</th>\n",
       "      <td>-0.475962</td>\n",
       "      <td>-0.012577</td>\n",
       "      <td>-0.384089</td>\n",
       "      <td>-0.091873</td>\n",
       "      <td>True</td>\n",
       "      <td>NaN</td>\n",
       "      <td>-1.556598</td>\n",
       "    </tr>\n",
       "  </tbody>\n",
       "</table>\n",
       "</div>"
      ],
      "text/plain": [
       "          X         Y       D_X       L_X  D_X_neg         Z  Z_stdized_g\n",
       "0 -0.702791 -1.022346       NaN       NaN    False       NaN    -0.919602\n",
       "1  1.342893  2.740774  2.045684 -0.702791    False  4.939440    -0.173585\n",
       "2 -0.653413 -0.779397 -1.996306  1.342893     True       NaN    -0.621067\n",
       "3  0.881329  1.392468  1.534742 -0.653413    False  4.957863    -0.081293\n",
       "4 -0.899099 -3.242841 -1.780428  0.881329     True       NaN    -0.576546\n",
       "5 -0.094338 -0.416469  0.804761 -0.899099    False       NaN    -0.694496\n",
       "6 -0.475375 -2.790714 -0.381037 -0.094338     True       NaN    -1.722965\n",
       "7  1.888073  3.018621  2.363447 -0.475375    False  4.658849    -1.579222\n",
       "8 -0.091873  2.310756 -1.979946  1.888073     True       NaN    -0.276691\n",
       "9 -0.475962 -0.012577 -0.384089 -0.091873     True       NaN    -1.556598"
      ]
     },
     "execution_count": 74,
     "metadata": {},
     "output_type": "execute_result"
    }
   ],
   "source": [
    "df.loc[df['X']<0,\"Z\"] = np.nan\n",
    "df.head(10)"
   ]
  },
  {
   "cell_type": "markdown",
   "metadata": {
    "slideshow": {
     "slide_type": "-"
    }
   },
   "source": [
    "__Now what just happened there?__"
   ]
  },
  {
   "cell_type": "markdown",
   "metadata": {
    "slideshow": {
     "slide_type": "slide"
    }
   },
   "source": [
    "Step by step:\n",
    "- Inside `.loc`, it evaluated a condition: `df['X']<0`, which created a Boolean vector.\n",
    "- We fed that boolean vector into the \"row\" position, and gave it the label `Z` for the column vector.\n",
    "- We then __assigned a value__ to this __view__ of the dataframe, which was the missing value object `NaN`\n",
    "\n",
    "We saw before how changing views of the data can lead to issues, but this is a case where it's very useful."
   ]
  },
  {
   "cell_type": "markdown",
   "metadata": {
    "slideshow": {
     "slide_type": "slide"
    }
   },
   "source": [
    "Still, be careful..."
   ]
  },
  {
   "cell_type": "code",
   "execution_count": 75,
   "metadata": {
    "slideshow": {
     "slide_type": "-"
    }
   },
   "outputs": [
    {
     "data": {
      "text/html": [
       "<div>\n",
       "<style scoped>\n",
       "    .dataframe tbody tr th:only-of-type {\n",
       "        vertical-align: middle;\n",
       "    }\n",
       "\n",
       "    .dataframe tbody tr th {\n",
       "        vertical-align: top;\n",
       "    }\n",
       "\n",
       "    .dataframe thead th {\n",
       "        text-align: right;\n",
       "    }\n",
       "</style>\n",
       "<table border=\"1\" class=\"dataframe\">\n",
       "  <thead>\n",
       "    <tr style=\"text-align: right;\">\n",
       "      <th></th>\n",
       "      <th>X</th>\n",
       "      <th>Y</th>\n",
       "      <th>D_X</th>\n",
       "      <th>L_X</th>\n",
       "      <th>D_X_neg</th>\n",
       "      <th>Z</th>\n",
       "      <th>Z_stdized_g</th>\n",
       "    </tr>\n",
       "  </thead>\n",
       "  <tbody>\n",
       "    <tr>\n",
       "      <th>0</th>\n",
       "      <td>-0.702791</td>\n",
       "      <td>-1.022346</td>\n",
       "      <td>NaN</td>\n",
       "      <td>NaN</td>\n",
       "      <td>False</td>\n",
       "      <td>Missing</td>\n",
       "      <td>-0.919602</td>\n",
       "    </tr>\n",
       "    <tr>\n",
       "      <th>1</th>\n",
       "      <td>1.342893</td>\n",
       "      <td>2.740774</td>\n",
       "      <td>2.045684</td>\n",
       "      <td>-0.702791</td>\n",
       "      <td>False</td>\n",
       "      <td>4.93944</td>\n",
       "      <td>-0.173585</td>\n",
       "    </tr>\n",
       "    <tr>\n",
       "      <th>2</th>\n",
       "      <td>-0.653413</td>\n",
       "      <td>-0.779397</td>\n",
       "      <td>-1.996306</td>\n",
       "      <td>1.342893</td>\n",
       "      <td>True</td>\n",
       "      <td>Missing</td>\n",
       "      <td>-0.621067</td>\n",
       "    </tr>\n",
       "    <tr>\n",
       "      <th>3</th>\n",
       "      <td>0.881329</td>\n",
       "      <td>1.392468</td>\n",
       "      <td>1.534742</td>\n",
       "      <td>-0.653413</td>\n",
       "      <td>False</td>\n",
       "      <td>4.957863</td>\n",
       "      <td>-0.081293</td>\n",
       "    </tr>\n",
       "    <tr>\n",
       "      <th>4</th>\n",
       "      <td>-0.899099</td>\n",
       "      <td>-3.242841</td>\n",
       "      <td>-1.780428</td>\n",
       "      <td>0.881329</td>\n",
       "      <td>True</td>\n",
       "      <td>Missing</td>\n",
       "      <td>-0.576546</td>\n",
       "    </tr>\n",
       "  </tbody>\n",
       "</table>\n",
       "</div>"
      ],
      "text/plain": [
       "          X         Y       D_X       L_X  D_X_neg         Z  Z_stdized_g\n",
       "0 -0.702791 -1.022346       NaN       NaN    False   Missing    -0.919602\n",
       "1  1.342893  2.740774  2.045684 -0.702791    False   4.93944    -0.173585\n",
       "2 -0.653413 -0.779397 -1.996306  1.342893     True   Missing    -0.621067\n",
       "3  0.881329  1.392468  1.534742 -0.653413    False  4.957863    -0.081293\n",
       "4 -0.899099 -3.242841 -1.780428  0.881329     True   Missing    -0.576546"
      ]
     },
     "execution_count": 75,
     "metadata": {},
     "output_type": "execute_result"
    }
   ],
   "source": [
    "df_new = df\n",
    "\n",
    "df_new['Z'] = df_new['Z'].fillna(\"Missing\")\n",
    "\n",
    "df.head()"
   ]
  },
  {
   "cell_type": "markdown",
   "metadata": {
    "slideshow": {
     "slide_type": "slide"
    }
   },
   "source": [
    "It does __not do this__ when doing certain operations, however..."
   ]
  },
  {
   "cell_type": "code",
   "execution_count": 76,
   "metadata": {
    "scrolled": true,
    "slideshow": {
     "slide_type": "-"
    }
   },
   "outputs": [
    {
     "name": "stderr",
     "output_type": "stream",
     "text": [
      "C:\\Users\\jhtchns2\\AppData\\Local\\Temp\\ipykernel_12176\\3918616092.py:3: SettingWithCopyWarning: \n",
      "A value is trying to be set on a copy of a slice from a DataFrame.\n",
      "Try using .loc[row_indexer,col_indexer] = value instead\n",
      "\n",
      "See the caveats in the documentation: https://pandas.pydata.org/pandas-docs/stable/user_guide/indexing.html#returning-a-view-versus-a-copy\n",
      "  df_head['X'] = \"all Garfield\"\n"
     ]
    },
    {
     "data": {
      "text/html": [
       "<div>\n",
       "<style scoped>\n",
       "    .dataframe tbody tr th:only-of-type {\n",
       "        vertical-align: middle;\n",
       "    }\n",
       "\n",
       "    .dataframe tbody tr th {\n",
       "        vertical-align: top;\n",
       "    }\n",
       "\n",
       "    .dataframe thead th {\n",
       "        text-align: right;\n",
       "    }\n",
       "</style>\n",
       "<table border=\"1\" class=\"dataframe\">\n",
       "  <thead>\n",
       "    <tr style=\"text-align: right;\">\n",
       "      <th></th>\n",
       "      <th>X</th>\n",
       "      <th>Y</th>\n",
       "      <th>D_X</th>\n",
       "      <th>L_X</th>\n",
       "      <th>D_X_neg</th>\n",
       "      <th>Z</th>\n",
       "      <th>Z_stdized_g</th>\n",
       "    </tr>\n",
       "  </thead>\n",
       "  <tbody>\n",
       "    <tr>\n",
       "      <th>0</th>\n",
       "      <td>-0.702791</td>\n",
       "      <td>-1.022346</td>\n",
       "      <td>NaN</td>\n",
       "      <td>NaN</td>\n",
       "      <td>False</td>\n",
       "      <td>Missing</td>\n",
       "      <td>-0.919602</td>\n",
       "    </tr>\n",
       "    <tr>\n",
       "      <th>1</th>\n",
       "      <td>1.342893</td>\n",
       "      <td>2.740774</td>\n",
       "      <td>2.045684</td>\n",
       "      <td>-0.702791</td>\n",
       "      <td>False</td>\n",
       "      <td>4.93944</td>\n",
       "      <td>-0.173585</td>\n",
       "    </tr>\n",
       "    <tr>\n",
       "      <th>2</th>\n",
       "      <td>-0.653413</td>\n",
       "      <td>-0.779397</td>\n",
       "      <td>-1.996306</td>\n",
       "      <td>1.342893</td>\n",
       "      <td>True</td>\n",
       "      <td>Missing</td>\n",
       "      <td>-0.621067</td>\n",
       "    </tr>\n",
       "    <tr>\n",
       "      <th>3</th>\n",
       "      <td>0.881329</td>\n",
       "      <td>1.392468</td>\n",
       "      <td>1.534742</td>\n",
       "      <td>-0.653413</td>\n",
       "      <td>False</td>\n",
       "      <td>4.957863</td>\n",
       "      <td>-0.081293</td>\n",
       "    </tr>\n",
       "    <tr>\n",
       "      <th>4</th>\n",
       "      <td>-0.899099</td>\n",
       "      <td>-3.242841</td>\n",
       "      <td>-1.780428</td>\n",
       "      <td>0.881329</td>\n",
       "      <td>True</td>\n",
       "      <td>Missing</td>\n",
       "      <td>-0.576546</td>\n",
       "    </tr>\n",
       "  </tbody>\n",
       "</table>\n",
       "</div>"
      ],
      "text/plain": [
       "          X         Y       D_X       L_X  D_X_neg         Z  Z_stdized_g\n",
       "0 -0.702791 -1.022346       NaN       NaN    False   Missing    -0.919602\n",
       "1  1.342893  2.740774  2.045684 -0.702791    False   4.93944    -0.173585\n",
       "2 -0.653413 -0.779397 -1.996306  1.342893     True   Missing    -0.621067\n",
       "3  0.881329  1.392468  1.534742 -0.653413    False  4.957863    -0.081293\n",
       "4 -0.899099 -3.242841 -1.780428  0.881329     True   Missing    -0.576546"
      ]
     },
     "execution_count": 76,
     "metadata": {},
     "output_type": "execute_result"
    }
   ],
   "source": [
    "df_head = df.head()\n",
    "\n",
    "df_head['X'] = \"all Garfield\"\n",
    "\n",
    "df.head()"
   ]
  },
  {
   "cell_type": "markdown",
   "metadata": {
    "slideshow": {
     "slide_type": "-"
    }
   },
   "source": [
    "__Why didn't it change every row of `X` to \"all Garfield\"?__"
   ]
  },
  {
   "cell_type": "markdown",
   "metadata": {
    "slideshow": {
     "slide_type": "slide"
    }
   },
   "source": [
    "__The short answer:__ Operations in Pandas (e.g. `.head()`) __always__ create copies of DataFrames. Therefore we edited a totally new DataFrame.\n",
    "\n",
    "Pandas sends us a `SettingWithCopyWarning` to inform us that we are not modifying the original DataFrame.\n",
    "\n",
    "__The good part:__ You can test out edits before doing it to your main DataFrame. I do this sometimes when I'm not sure what a data cleaning process will do and my data takes a long time to read in.\n",
    "\n",
    "__The bad part:__ if you create a lot of dataframes, you can eat up memory very quickly."
   ]
  },
  {
   "cell_type": "markdown",
   "metadata": {
    "slideshow": {
     "slide_type": "slide"
    }
   },
   "source": [
    "If we wanted to make the first five rows of X \"all Garfield,\" we can use `.loc` instead:"
   ]
  },
  {
   "cell_type": "code",
   "execution_count": 77,
   "metadata": {
    "slideshow": {
     "slide_type": "-"
    }
   },
   "outputs": [
    {
     "data": {
      "text/html": [
       "<div>\n",
       "<style scoped>\n",
       "    .dataframe tbody tr th:only-of-type {\n",
       "        vertical-align: middle;\n",
       "    }\n",
       "\n",
       "    .dataframe tbody tr th {\n",
       "        vertical-align: top;\n",
       "    }\n",
       "\n",
       "    .dataframe thead th {\n",
       "        text-align: right;\n",
       "    }\n",
       "</style>\n",
       "<table border=\"1\" class=\"dataframe\">\n",
       "  <thead>\n",
       "    <tr style=\"text-align: right;\">\n",
       "      <th></th>\n",
       "      <th>X</th>\n",
       "      <th>Y</th>\n",
       "      <th>D_X</th>\n",
       "      <th>L_X</th>\n",
       "      <th>D_X_neg</th>\n",
       "      <th>Z</th>\n",
       "      <th>Z_stdized_g</th>\n",
       "    </tr>\n",
       "  </thead>\n",
       "  <tbody>\n",
       "    <tr>\n",
       "      <th>0</th>\n",
       "      <td>all Garfield</td>\n",
       "      <td>-1.022346</td>\n",
       "      <td>NaN</td>\n",
       "      <td>NaN</td>\n",
       "      <td>False</td>\n",
       "      <td>Missing</td>\n",
       "      <td>-0.919602</td>\n",
       "    </tr>\n",
       "    <tr>\n",
       "      <th>1</th>\n",
       "      <td>all Garfield</td>\n",
       "      <td>2.740774</td>\n",
       "      <td>2.045684</td>\n",
       "      <td>-0.702791</td>\n",
       "      <td>False</td>\n",
       "      <td>4.93944</td>\n",
       "      <td>-0.173585</td>\n",
       "    </tr>\n",
       "    <tr>\n",
       "      <th>2</th>\n",
       "      <td>all Garfield</td>\n",
       "      <td>-0.779397</td>\n",
       "      <td>-1.996306</td>\n",
       "      <td>1.342893</td>\n",
       "      <td>True</td>\n",
       "      <td>Missing</td>\n",
       "      <td>-0.621067</td>\n",
       "    </tr>\n",
       "    <tr>\n",
       "      <th>3</th>\n",
       "      <td>all Garfield</td>\n",
       "      <td>1.392468</td>\n",
       "      <td>1.534742</td>\n",
       "      <td>-0.653413</td>\n",
       "      <td>False</td>\n",
       "      <td>4.957863</td>\n",
       "      <td>-0.081293</td>\n",
       "    </tr>\n",
       "    <tr>\n",
       "      <th>4</th>\n",
       "      <td>all Garfield</td>\n",
       "      <td>-3.242841</td>\n",
       "      <td>-1.780428</td>\n",
       "      <td>0.881329</td>\n",
       "      <td>True</td>\n",
       "      <td>Missing</td>\n",
       "      <td>-0.576546</td>\n",
       "    </tr>\n",
       "    <tr>\n",
       "      <th>5</th>\n",
       "      <td>all Garfield</td>\n",
       "      <td>-0.416469</td>\n",
       "      <td>0.804761</td>\n",
       "      <td>-0.899099</td>\n",
       "      <td>False</td>\n",
       "      <td>Missing</td>\n",
       "      <td>-0.694496</td>\n",
       "    </tr>\n",
       "    <tr>\n",
       "      <th>6</th>\n",
       "      <td>-0.475375</td>\n",
       "      <td>-2.790714</td>\n",
       "      <td>-0.381037</td>\n",
       "      <td>-0.094338</td>\n",
       "      <td>True</td>\n",
       "      <td>Missing</td>\n",
       "      <td>-1.722965</td>\n",
       "    </tr>\n",
       "    <tr>\n",
       "      <th>7</th>\n",
       "      <td>1.888073</td>\n",
       "      <td>3.018621</td>\n",
       "      <td>2.363447</td>\n",
       "      <td>-0.475375</td>\n",
       "      <td>False</td>\n",
       "      <td>4.658849</td>\n",
       "      <td>-1.579222</td>\n",
       "    </tr>\n",
       "    <tr>\n",
       "      <th>8</th>\n",
       "      <td>-0.091873</td>\n",
       "      <td>2.310756</td>\n",
       "      <td>-1.979946</td>\n",
       "      <td>1.888073</td>\n",
       "      <td>True</td>\n",
       "      <td>Missing</td>\n",
       "      <td>-0.276691</td>\n",
       "    </tr>\n",
       "    <tr>\n",
       "      <th>9</th>\n",
       "      <td>-0.475962</td>\n",
       "      <td>-0.012577</td>\n",
       "      <td>-0.384089</td>\n",
       "      <td>-0.091873</td>\n",
       "      <td>True</td>\n",
       "      <td>Missing</td>\n",
       "      <td>-1.556598</td>\n",
       "    </tr>\n",
       "    <tr>\n",
       "      <th>10</th>\n",
       "      <td>-0.079255</td>\n",
       "      <td>0.035012</td>\n",
       "      <td>0.396707</td>\n",
       "      <td>-0.475962</td>\n",
       "      <td>False</td>\n",
       "      <td>Missing</td>\n",
       "      <td>0.415121</td>\n",
       "    </tr>\n",
       "    <tr>\n",
       "      <th>11</th>\n",
       "      <td>-0.464421</td>\n",
       "      <td>-2.125986</td>\n",
       "      <td>-0.385165</td>\n",
       "      <td>-0.079255</td>\n",
       "      <td>True</td>\n",
       "      <td>Missing</td>\n",
       "      <td>-0.623122</td>\n",
       "    </tr>\n",
       "    <tr>\n",
       "      <th>12</th>\n",
       "      <td>-1.639279</td>\n",
       "      <td>-3.758692</td>\n",
       "      <td>-1.174858</td>\n",
       "      <td>-0.464421</td>\n",
       "      <td>True</td>\n",
       "      <td>Missing</td>\n",
       "      <td>0.751510</td>\n",
       "    </tr>\n",
       "    <tr>\n",
       "      <th>13</th>\n",
       "      <td>0.370792</td>\n",
       "      <td>0.886445</td>\n",
       "      <td>2.010071</td>\n",
       "      <td>-1.639279</td>\n",
       "      <td>False</td>\n",
       "      <td>4.919141</td>\n",
       "      <td>-0.275274</td>\n",
       "    </tr>\n",
       "    <tr>\n",
       "      <th>14</th>\n",
       "      <td>-0.000964</td>\n",
       "      <td>0.877075</td>\n",
       "      <td>-0.371755</td>\n",
       "      <td>0.370792</td>\n",
       "      <td>True</td>\n",
       "      <td>Missing</td>\n",
       "      <td>0.926391</td>\n",
       "    </tr>\n",
       "    <tr>\n",
       "      <th>15</th>\n",
       "      <td>0.552242</td>\n",
       "      <td>0.232167</td>\n",
       "      <td>0.553206</td>\n",
       "      <td>-0.000964</td>\n",
       "      <td>False</td>\n",
       "      <td>5.159837</td>\n",
       "      <td>0.930511</td>\n",
       "    </tr>\n",
       "    <tr>\n",
       "      <th>16</th>\n",
       "      <td>0.696471</td>\n",
       "      <td>-0.343498</td>\n",
       "      <td>0.144229</td>\n",
       "      <td>0.552242</td>\n",
       "      <td>False</td>\n",
       "      <td>5.260571</td>\n",
       "      <td>1.435141</td>\n",
       "    </tr>\n",
       "    <tr>\n",
       "      <th>17</th>\n",
       "      <td>-0.764375</td>\n",
       "      <td>-0.248032</td>\n",
       "      <td>-1.460846</td>\n",
       "      <td>0.696471</td>\n",
       "      <td>True</td>\n",
       "      <td>Missing</td>\n",
       "      <td>-0.106498</td>\n",
       "    </tr>\n",
       "    <tr>\n",
       "      <th>18</th>\n",
       "      <td>1.419745</td>\n",
       "      <td>1.423611</td>\n",
       "      <td>2.184120</td>\n",
       "      <td>-0.764375</td>\n",
       "      <td>False</td>\n",
       "      <td>5.079516</td>\n",
       "      <td>0.528134</td>\n",
       "    </tr>\n",
       "    <tr>\n",
       "      <th>19</th>\n",
       "      <td>0.591588</td>\n",
       "      <td>1.376212</td>\n",
       "      <td>-0.828157</td>\n",
       "      <td>1.419745</td>\n",
       "      <td>True</td>\n",
       "      <td>5.057214</td>\n",
       "      <td>0.227257</td>\n",
       "    </tr>\n",
       "  </tbody>\n",
       "</table>\n",
       "</div>"
      ],
      "text/plain": [
       "               X         Y       D_X       L_X  D_X_neg         Z  Z_stdized_g\n",
       "0   all Garfield -1.022346       NaN       NaN    False   Missing    -0.919602\n",
       "1   all Garfield  2.740774  2.045684 -0.702791    False   4.93944    -0.173585\n",
       "2   all Garfield -0.779397 -1.996306  1.342893     True   Missing    -0.621067\n",
       "3   all Garfield  1.392468  1.534742 -0.653413    False  4.957863    -0.081293\n",
       "4   all Garfield -3.242841 -1.780428  0.881329     True   Missing    -0.576546\n",
       "5   all Garfield -0.416469  0.804761 -0.899099    False   Missing    -0.694496\n",
       "6      -0.475375 -2.790714 -0.381037 -0.094338     True   Missing    -1.722965\n",
       "7       1.888073  3.018621  2.363447 -0.475375    False  4.658849    -1.579222\n",
       "8      -0.091873  2.310756 -1.979946  1.888073     True   Missing    -0.276691\n",
       "9      -0.475962 -0.012577 -0.384089 -0.091873     True   Missing    -1.556598\n",
       "10     -0.079255  0.035012  0.396707 -0.475962    False   Missing     0.415121\n",
       "11     -0.464421 -2.125986 -0.385165 -0.079255     True   Missing    -0.623122\n",
       "12     -1.639279 -3.758692 -1.174858 -0.464421     True   Missing     0.751510\n",
       "13      0.370792  0.886445  2.010071 -1.639279    False  4.919141    -0.275274\n",
       "14     -0.000964  0.877075 -0.371755  0.370792     True   Missing     0.926391\n",
       "15      0.552242  0.232167  0.553206 -0.000964    False  5.159837     0.930511\n",
       "16      0.696471 -0.343498  0.144229  0.552242    False  5.260571     1.435141\n",
       "17     -0.764375 -0.248032 -1.460846  0.696471     True   Missing    -0.106498\n",
       "18      1.419745  1.423611  2.184120 -0.764375    False  5.079516     0.528134\n",
       "19      0.591588  1.376212 -0.828157  1.419745     True  5.057214     0.227257"
      ]
     },
     "execution_count": 77,
     "metadata": {},
     "output_type": "execute_result"
    }
   ],
   "source": [
    "df.loc[:5,\"X\"] = \"all Garfield\"\n",
    "\n",
    "df.head(20)"
   ]
  },
  {
   "cell_type": "markdown",
   "metadata": {
    "slideshow": {
     "slide_type": "slide"
    }
   },
   "source": [
    "__Pandas almost never does \"in place\" operations unless you tell it to__.\n",
    "\n",
    "An example is if you wanted to drop columns. The following code will generate an entirely new dataframe without the column."
   ]
  },
  {
   "cell_type": "code",
   "execution_count": 78,
   "metadata": {
    "collapsed": true,
    "slideshow": {
     "slide_type": "-"
    }
   },
   "outputs": [
    {
     "data": {
      "text/html": [
       "<div>\n",
       "<style scoped>\n",
       "    .dataframe tbody tr th:only-of-type {\n",
       "        vertical-align: middle;\n",
       "    }\n",
       "\n",
       "    .dataframe tbody tr th {\n",
       "        vertical-align: top;\n",
       "    }\n",
       "\n",
       "    .dataframe thead th {\n",
       "        text-align: right;\n",
       "    }\n",
       "</style>\n",
       "<table border=\"1\" class=\"dataframe\">\n",
       "  <thead>\n",
       "    <tr style=\"text-align: right;\">\n",
       "      <th></th>\n",
       "      <th>X</th>\n",
       "      <th>Y</th>\n",
       "      <th>L_X</th>\n",
       "      <th>D_X_neg</th>\n",
       "      <th>Z</th>\n",
       "      <th>Z_stdized_g</th>\n",
       "    </tr>\n",
       "  </thead>\n",
       "  <tbody>\n",
       "    <tr>\n",
       "      <th>0</th>\n",
       "      <td>all Garfield</td>\n",
       "      <td>-1.022346</td>\n",
       "      <td>NaN</td>\n",
       "      <td>False</td>\n",
       "      <td>Missing</td>\n",
       "      <td>-0.919602</td>\n",
       "    </tr>\n",
       "    <tr>\n",
       "      <th>1</th>\n",
       "      <td>all Garfield</td>\n",
       "      <td>2.740774</td>\n",
       "      <td>-0.702791</td>\n",
       "      <td>False</td>\n",
       "      <td>4.93944</td>\n",
       "      <td>-0.173585</td>\n",
       "    </tr>\n",
       "    <tr>\n",
       "      <th>2</th>\n",
       "      <td>all Garfield</td>\n",
       "      <td>-0.779397</td>\n",
       "      <td>1.342893</td>\n",
       "      <td>True</td>\n",
       "      <td>Missing</td>\n",
       "      <td>-0.621067</td>\n",
       "    </tr>\n",
       "    <tr>\n",
       "      <th>3</th>\n",
       "      <td>all Garfield</td>\n",
       "      <td>1.392468</td>\n",
       "      <td>-0.653413</td>\n",
       "      <td>False</td>\n",
       "      <td>4.957863</td>\n",
       "      <td>-0.081293</td>\n",
       "    </tr>\n",
       "    <tr>\n",
       "      <th>4</th>\n",
       "      <td>all Garfield</td>\n",
       "      <td>-3.242841</td>\n",
       "      <td>0.881329</td>\n",
       "      <td>True</td>\n",
       "      <td>Missing</td>\n",
       "      <td>-0.576546</td>\n",
       "    </tr>\n",
       "    <tr>\n",
       "      <th>...</th>\n",
       "      <td>...</td>\n",
       "      <td>...</td>\n",
       "      <td>...</td>\n",
       "      <td>...</td>\n",
       "      <td>...</td>\n",
       "      <td>...</td>\n",
       "    </tr>\n",
       "    <tr>\n",
       "      <th>95</th>\n",
       "      <td>0.019236</td>\n",
       "      <td>0.218815</td>\n",
       "      <td>1.759912</td>\n",
       "      <td>True</td>\n",
       "      <td>4.953438</td>\n",
       "      <td>-0.323672</td>\n",
       "    </tr>\n",
       "    <tr>\n",
       "      <th>96</th>\n",
       "      <td>1.833012</td>\n",
       "      <td>5.816347</td>\n",
       "      <td>0.019236</td>\n",
       "      <td>False</td>\n",
       "      <td>5.109644</td>\n",
       "      <td>0.679062</td>\n",
       "    </tr>\n",
       "    <tr>\n",
       "      <th>97</th>\n",
       "      <td>0.789402</td>\n",
       "      <td>1.021993</td>\n",
       "      <td>1.833012</td>\n",
       "      <td>True</td>\n",
       "      <td>5.22205</td>\n",
       "      <td>1.102341</td>\n",
       "    </tr>\n",
       "    <tr>\n",
       "      <th>98</th>\n",
       "      <td>0.742908</td>\n",
       "      <td>0.849749</td>\n",
       "      <td>0.789402</td>\n",
       "      <td>True</td>\n",
       "      <td>5.174515</td>\n",
       "      <td>0.849989</td>\n",
       "    </tr>\n",
       "    <tr>\n",
       "      <th>99</th>\n",
       "      <td>-1.923024</td>\n",
       "      <td>-2.732503</td>\n",
       "      <td>0.742908</td>\n",
       "      <td>True</td>\n",
       "      <td>Missing</td>\n",
       "      <td>-1.438899</td>\n",
       "    </tr>\n",
       "  </tbody>\n",
       "</table>\n",
       "<p>100 rows × 6 columns</p>\n",
       "</div>"
      ],
      "text/plain": [
       "               X         Y       L_X  D_X_neg         Z  Z_stdized_g\n",
       "0   all Garfield -1.022346       NaN    False   Missing    -0.919602\n",
       "1   all Garfield  2.740774 -0.702791    False   4.93944    -0.173585\n",
       "2   all Garfield -0.779397  1.342893     True   Missing    -0.621067\n",
       "3   all Garfield  1.392468 -0.653413    False  4.957863    -0.081293\n",
       "4   all Garfield -3.242841  0.881329     True   Missing    -0.576546\n",
       "..           ...       ...       ...      ...       ...          ...\n",
       "95      0.019236  0.218815  1.759912     True  4.953438    -0.323672\n",
       "96      1.833012  5.816347  0.019236    False  5.109644     0.679062\n",
       "97      0.789402  1.021993  1.833012     True   5.22205     1.102341\n",
       "98      0.742908  0.849749  0.789402     True  5.174515     0.849989\n",
       "99     -1.923024 -2.732503  0.742908     True   Missing    -1.438899\n",
       "\n",
       "[100 rows x 6 columns]"
      ]
     },
     "execution_count": 78,
     "metadata": {},
     "output_type": "execute_result"
    }
   ],
   "source": [
    "df.drop(\"D_X\",axis=1)"
   ]
  },
  {
   "cell_type": "code",
   "execution_count": 79,
   "metadata": {
    "slideshow": {
     "slide_type": "-"
    }
   },
   "outputs": [
    {
     "data": {
      "text/html": [
       "<div>\n",
       "<style scoped>\n",
       "    .dataframe tbody tr th:only-of-type {\n",
       "        vertical-align: middle;\n",
       "    }\n",
       "\n",
       "    .dataframe tbody tr th {\n",
       "        vertical-align: top;\n",
       "    }\n",
       "\n",
       "    .dataframe thead th {\n",
       "        text-align: right;\n",
       "    }\n",
       "</style>\n",
       "<table border=\"1\" class=\"dataframe\">\n",
       "  <thead>\n",
       "    <tr style=\"text-align: right;\">\n",
       "      <th></th>\n",
       "      <th>X</th>\n",
       "      <th>Y</th>\n",
       "      <th>D_X</th>\n",
       "      <th>L_X</th>\n",
       "      <th>D_X_neg</th>\n",
       "      <th>Z</th>\n",
       "      <th>Z_stdized_g</th>\n",
       "    </tr>\n",
       "  </thead>\n",
       "  <tbody>\n",
       "    <tr>\n",
       "      <th>0</th>\n",
       "      <td>all Garfield</td>\n",
       "      <td>-1.022346</td>\n",
       "      <td>NaN</td>\n",
       "      <td>NaN</td>\n",
       "      <td>False</td>\n",
       "      <td>Missing</td>\n",
       "      <td>-0.919602</td>\n",
       "    </tr>\n",
       "    <tr>\n",
       "      <th>1</th>\n",
       "      <td>all Garfield</td>\n",
       "      <td>2.740774</td>\n",
       "      <td>2.045684</td>\n",
       "      <td>-0.702791</td>\n",
       "      <td>False</td>\n",
       "      <td>4.93944</td>\n",
       "      <td>-0.173585</td>\n",
       "    </tr>\n",
       "    <tr>\n",
       "      <th>2</th>\n",
       "      <td>all Garfield</td>\n",
       "      <td>-0.779397</td>\n",
       "      <td>-1.996306</td>\n",
       "      <td>1.342893</td>\n",
       "      <td>True</td>\n",
       "      <td>Missing</td>\n",
       "      <td>-0.621067</td>\n",
       "    </tr>\n",
       "    <tr>\n",
       "      <th>3</th>\n",
       "      <td>all Garfield</td>\n",
       "      <td>1.392468</td>\n",
       "      <td>1.534742</td>\n",
       "      <td>-0.653413</td>\n",
       "      <td>False</td>\n",
       "      <td>4.957863</td>\n",
       "      <td>-0.081293</td>\n",
       "    </tr>\n",
       "    <tr>\n",
       "      <th>4</th>\n",
       "      <td>all Garfield</td>\n",
       "      <td>-3.242841</td>\n",
       "      <td>-1.780428</td>\n",
       "      <td>0.881329</td>\n",
       "      <td>True</td>\n",
       "      <td>Missing</td>\n",
       "      <td>-0.576546</td>\n",
       "    </tr>\n",
       "  </tbody>\n",
       "</table>\n",
       "</div>"
      ],
      "text/plain": [
       "              X         Y       D_X       L_X  D_X_neg         Z  Z_stdized_g\n",
       "0  all Garfield -1.022346       NaN       NaN    False   Missing    -0.919602\n",
       "1  all Garfield  2.740774  2.045684 -0.702791    False   4.93944    -0.173585\n",
       "2  all Garfield -0.779397 -1.996306  1.342893     True   Missing    -0.621067\n",
       "3  all Garfield  1.392468  1.534742 -0.653413    False  4.957863    -0.081293\n",
       "4  all Garfield -3.242841 -1.780428  0.881329     True   Missing    -0.576546"
      ]
     },
     "execution_count": 79,
     "metadata": {},
     "output_type": "execute_result"
    }
   ],
   "source": [
    "df.head()"
   ]
  },
  {
   "cell_type": "markdown",
   "metadata": {
    "slideshow": {
     "slide_type": "slide"
    }
   },
   "source": [
    "So you must assign it back if that's the DataFrame you want."
   ]
  },
  {
   "cell_type": "code",
   "execution_count": 80,
   "metadata": {
    "scrolled": true,
    "slideshow": {
     "slide_type": "-"
    }
   },
   "outputs": [
    {
     "data": {
      "text/html": [
       "<div>\n",
       "<style scoped>\n",
       "    .dataframe tbody tr th:only-of-type {\n",
       "        vertical-align: middle;\n",
       "    }\n",
       "\n",
       "    .dataframe tbody tr th {\n",
       "        vertical-align: top;\n",
       "    }\n",
       "\n",
       "    .dataframe thead th {\n",
       "        text-align: right;\n",
       "    }\n",
       "</style>\n",
       "<table border=\"1\" class=\"dataframe\">\n",
       "  <thead>\n",
       "    <tr style=\"text-align: right;\">\n",
       "      <th></th>\n",
       "      <th>X</th>\n",
       "      <th>Y</th>\n",
       "      <th>L_X</th>\n",
       "      <th>D_X_neg</th>\n",
       "      <th>Z</th>\n",
       "      <th>Z_stdized_g</th>\n",
       "    </tr>\n",
       "  </thead>\n",
       "  <tbody>\n",
       "    <tr>\n",
       "      <th>0</th>\n",
       "      <td>all Garfield</td>\n",
       "      <td>-1.022346</td>\n",
       "      <td>NaN</td>\n",
       "      <td>False</td>\n",
       "      <td>Missing</td>\n",
       "      <td>-0.919602</td>\n",
       "    </tr>\n",
       "    <tr>\n",
       "      <th>1</th>\n",
       "      <td>all Garfield</td>\n",
       "      <td>2.740774</td>\n",
       "      <td>-0.702791</td>\n",
       "      <td>False</td>\n",
       "      <td>4.93944</td>\n",
       "      <td>-0.173585</td>\n",
       "    </tr>\n",
       "    <tr>\n",
       "      <th>2</th>\n",
       "      <td>all Garfield</td>\n",
       "      <td>-0.779397</td>\n",
       "      <td>1.342893</td>\n",
       "      <td>True</td>\n",
       "      <td>Missing</td>\n",
       "      <td>-0.621067</td>\n",
       "    </tr>\n",
       "    <tr>\n",
       "      <th>3</th>\n",
       "      <td>all Garfield</td>\n",
       "      <td>1.392468</td>\n",
       "      <td>-0.653413</td>\n",
       "      <td>False</td>\n",
       "      <td>4.957863</td>\n",
       "      <td>-0.081293</td>\n",
       "    </tr>\n",
       "    <tr>\n",
       "      <th>4</th>\n",
       "      <td>all Garfield</td>\n",
       "      <td>-3.242841</td>\n",
       "      <td>0.881329</td>\n",
       "      <td>True</td>\n",
       "      <td>Missing</td>\n",
       "      <td>-0.576546</td>\n",
       "    </tr>\n",
       "  </tbody>\n",
       "</table>\n",
       "</div>"
      ],
      "text/plain": [
       "              X         Y       L_X  D_X_neg         Z  Z_stdized_g\n",
       "0  all Garfield -1.022346       NaN    False   Missing    -0.919602\n",
       "1  all Garfield  2.740774 -0.702791    False   4.93944    -0.173585\n",
       "2  all Garfield -0.779397  1.342893     True   Missing    -0.621067\n",
       "3  all Garfield  1.392468 -0.653413    False  4.957863    -0.081293\n",
       "4  all Garfield -3.242841  0.881329     True   Missing    -0.576546"
      ]
     },
     "execution_count": 80,
     "metadata": {},
     "output_type": "execute_result"
    }
   ],
   "source": [
    "df = df.drop(\"D_X\",axis=1).head()\n",
    "df.head()"
   ]
  },
  {
   "cell_type": "markdown",
   "metadata": {
    "slideshow": {
     "slide_type": "slide"
    }
   },
   "source": [
    "You can, however, specify that it does it \"in place,\" meaning it will modify the object and not generate a new one."
   ]
  },
  {
   "cell_type": "code",
   "execution_count": 81,
   "metadata": {},
   "outputs": [],
   "source": [
    "df.drop(\"L_X\",axis=1,inplace=True)"
   ]
  },
  {
   "cell_type": "code",
   "execution_count": 82,
   "metadata": {},
   "outputs": [
    {
     "data": {
      "text/html": [
       "<div>\n",
       "<style scoped>\n",
       "    .dataframe tbody tr th:only-of-type {\n",
       "        vertical-align: middle;\n",
       "    }\n",
       "\n",
       "    .dataframe tbody tr th {\n",
       "        vertical-align: top;\n",
       "    }\n",
       "\n",
       "    .dataframe thead th {\n",
       "        text-align: right;\n",
       "    }\n",
       "</style>\n",
       "<table border=\"1\" class=\"dataframe\">\n",
       "  <thead>\n",
       "    <tr style=\"text-align: right;\">\n",
       "      <th></th>\n",
       "      <th>X</th>\n",
       "      <th>Y</th>\n",
       "      <th>D_X_neg</th>\n",
       "      <th>Z</th>\n",
       "      <th>Z_stdized_g</th>\n",
       "    </tr>\n",
       "  </thead>\n",
       "  <tbody>\n",
       "    <tr>\n",
       "      <th>0</th>\n",
       "      <td>all Garfield</td>\n",
       "      <td>-1.022346</td>\n",
       "      <td>False</td>\n",
       "      <td>Missing</td>\n",
       "      <td>-0.919602</td>\n",
       "    </tr>\n",
       "    <tr>\n",
       "      <th>1</th>\n",
       "      <td>all Garfield</td>\n",
       "      <td>2.740774</td>\n",
       "      <td>False</td>\n",
       "      <td>4.93944</td>\n",
       "      <td>-0.173585</td>\n",
       "    </tr>\n",
       "    <tr>\n",
       "      <th>2</th>\n",
       "      <td>all Garfield</td>\n",
       "      <td>-0.779397</td>\n",
       "      <td>True</td>\n",
       "      <td>Missing</td>\n",
       "      <td>-0.621067</td>\n",
       "    </tr>\n",
       "    <tr>\n",
       "      <th>3</th>\n",
       "      <td>all Garfield</td>\n",
       "      <td>1.392468</td>\n",
       "      <td>False</td>\n",
       "      <td>4.957863</td>\n",
       "      <td>-0.081293</td>\n",
       "    </tr>\n",
       "    <tr>\n",
       "      <th>4</th>\n",
       "      <td>all Garfield</td>\n",
       "      <td>-3.242841</td>\n",
       "      <td>True</td>\n",
       "      <td>Missing</td>\n",
       "      <td>-0.576546</td>\n",
       "    </tr>\n",
       "  </tbody>\n",
       "</table>\n",
       "</div>"
      ],
      "text/plain": [
       "              X         Y  D_X_neg         Z  Z_stdized_g\n",
       "0  all Garfield -1.022346    False   Missing    -0.919602\n",
       "1  all Garfield  2.740774    False   4.93944    -0.173585\n",
       "2  all Garfield -0.779397     True   Missing    -0.621067\n",
       "3  all Garfield  1.392468    False  4.957863    -0.081293\n",
       "4  all Garfield -3.242841     True   Missing    -0.576546"
      ]
     },
     "execution_count": 82,
     "metadata": {},
     "output_type": "execute_result"
    }
   ],
   "source": [
    "df.head()"
   ]
  },
  {
   "cell_type": "markdown",
   "metadata": {
    "slideshow": {
     "slide_type": "slide"
    }
   },
   "source": [
    "### Data Merging in Pandas:\n",
    "- `join` is for merging on indices; DataFrames must be the same size for this.\n",
    "- `concat` is for concatenation like in Numpy.\n",
    "- `merge` is for any of the above but includes many to one merges.\n",
    "    - Instead of the \"m:1\" stuff Stata uses, it uses `left`, `right`, `outer` and `inner` (which comes from SQL)."
   ]
  },
  {
   "attachments": {
    "image.png": {
     "image/png": "[encoded data removed]"
    }
   },
   "cell_type": "markdown",
   "metadata": {
    "slideshow": {
     "slide_type": "slide"
    }
   },
   "source": [
    "![image.png](attachment:image.png)\n",
    "\n",
    "\n",
    "[Link to image](https://medium.com/swlh/merging-dataframes-with-pandas-pd-merge-7764c7e2d46d)"
   ]
  },
  {
   "cell_type": "markdown",
   "metadata": {
    "slideshow": {
     "slide_type": "slide"
    }
   },
   "source": [
    "- inner: keep rows that match on the keys in __both__ dataframes.\n",
    "- outer: keep __all__ rows __regardless__ of whether keys match.\n",
    "- left: keep all rows in the right that match and all the left.\n",
    "- right: inverse of left."
   ]
  },
  {
   "cell_type": "code",
   "execution_count": 83,
   "metadata": {
    "slideshow": {
     "slide_type": "slide"
    }
   },
   "outputs": [
    {
     "data": {
      "text/html": [
       "<div>\n",
       "<style scoped>\n",
       "    .dataframe tbody tr th:only-of-type {\n",
       "        vertical-align: middle;\n",
       "    }\n",
       "\n",
       "    .dataframe tbody tr th {\n",
       "        vertical-align: top;\n",
       "    }\n",
       "\n",
       "    .dataframe thead th {\n",
       "        text-align: right;\n",
       "    }\n",
       "</style>\n",
       "<table border=\"1\" class=\"dataframe\">\n",
       "  <thead>\n",
       "    <tr style=\"text-align: right;\">\n",
       "      <th></th>\n",
       "      <th>X</th>\n",
       "      <th>Y</th>\n",
       "      <th>D_X_neg</th>\n",
       "      <th>Z</th>\n",
       "      <th>Z_stdized_g</th>\n",
       "      <th>Missing</th>\n",
       "      <th>Y_mean</th>\n",
       "    </tr>\n",
       "  </thead>\n",
       "  <tbody>\n",
       "    <tr>\n",
       "      <th>0</th>\n",
       "      <td>all Garfield</td>\n",
       "      <td>-1.022346</td>\n",
       "      <td>False</td>\n",
       "      <td>Missing</td>\n",
       "      <td>-0.919602</td>\n",
       "      <td>True</td>\n",
       "      <td>-1.681528</td>\n",
       "    </tr>\n",
       "    <tr>\n",
       "      <th>1</th>\n",
       "      <td>all Garfield</td>\n",
       "      <td>2.740774</td>\n",
       "      <td>False</td>\n",
       "      <td>4.93944</td>\n",
       "      <td>-0.173585</td>\n",
       "      <td>False</td>\n",
       "      <td>2.066621</td>\n",
       "    </tr>\n",
       "    <tr>\n",
       "      <th>2</th>\n",
       "      <td>all Garfield</td>\n",
       "      <td>-0.779397</td>\n",
       "      <td>True</td>\n",
       "      <td>Missing</td>\n",
       "      <td>-0.621067</td>\n",
       "      <td>True</td>\n",
       "      <td>-1.681528</td>\n",
       "    </tr>\n",
       "    <tr>\n",
       "      <th>3</th>\n",
       "      <td>all Garfield</td>\n",
       "      <td>1.392468</td>\n",
       "      <td>False</td>\n",
       "      <td>4.957863</td>\n",
       "      <td>-0.081293</td>\n",
       "      <td>False</td>\n",
       "      <td>2.066621</td>\n",
       "    </tr>\n",
       "    <tr>\n",
       "      <th>4</th>\n",
       "      <td>all Garfield</td>\n",
       "      <td>-3.242841</td>\n",
       "      <td>True</td>\n",
       "      <td>Missing</td>\n",
       "      <td>-0.576546</td>\n",
       "      <td>True</td>\n",
       "      <td>-1.681528</td>\n",
       "    </tr>\n",
       "  </tbody>\n",
       "</table>\n",
       "</div>"
      ],
      "text/plain": [
       "              X         Y  D_X_neg         Z  Z_stdized_g  Missing    Y_mean\n",
       "0  all Garfield -1.022346    False   Missing    -0.919602     True -1.681528\n",
       "1  all Garfield  2.740774    False   4.93944    -0.173585    False  2.066621\n",
       "2  all Garfield -0.779397     True   Missing    -0.621067     True -1.681528\n",
       "3  all Garfield  1.392468    False  4.957863    -0.081293    False  2.066621\n",
       "4  all Garfield -3.242841     True   Missing    -0.576546     True -1.681528"
      ]
     },
     "execution_count": 83,
     "metadata": {},
     "output_type": "execute_result"
    }
   ],
   "source": [
    "df['Missing'] = df['Z'] == \"Missing\" # Make a boolean column for missing values in Z\n",
    "\n",
    "Y_means = df.groupby(\"Missing\")['Y'].mean() # Take the mean of Y by these two groups\n",
    "Y_means = Y_means.reset_index() # Reset index so that \"Missing appears\"\n",
    "\n",
    "df.merge(Y_means,on=\"Missing\",how=\"left\",suffixes=(\"\",\"_mean\"))"
   ]
  },
  {
   "cell_type": "markdown",
   "metadata": {
    "slideshow": {
     "slide_type": "-"
    }
   },
   "source": [
    "__What did this code just do?__"
   ]
  },
  {
   "cell_type": "markdown",
   "metadata": {
    "slideshow": {
     "slide_type": "slide"
    }
   },
   "source": [
    "Step-by-step:\n",
    "- `df['Missing'] = df['Z'] == \"Missing\"` created a column called \"Missing\" that is a Boolean vector.\n",
    "- `Y_means = df.groupby(\"Missing\")['Y'].mean().reset_index()`\n",
    "    - Groupby the variable \"Missing\"\n",
    "    - For the column Y, take the average for all levels of \"Missing\"\n"
   ]
  },
  {
   "cell_type": "code",
   "execution_count": 84,
   "metadata": {
    "collapsed": true
   },
   "outputs": [
    {
     "data": {
      "text/plain": [
       "Missing\n",
       "False    2.066621\n",
       "True    -1.681528\n",
       "Name: Y, dtype: float64"
      ]
     },
     "execution_count": 84,
     "metadata": {},
     "output_type": "execute_result"
    }
   ],
   "source": [
    "df.groupby(\"Missing\")['Y'].mean()"
   ]
  },
  {
   "cell_type": "markdown",
   "metadata": {},
   "source": [
    "- Reset the index so that you have a DataFrame that looks like this:"
   ]
  },
  {
   "cell_type": "code",
   "execution_count": 85,
   "metadata": {
    "slideshow": {
     "slide_type": "-"
    }
   },
   "outputs": [
    {
     "data": {
      "text/html": [
       "<div>\n",
       "<style scoped>\n",
       "    .dataframe tbody tr th:only-of-type {\n",
       "        vertical-align: middle;\n",
       "    }\n",
       "\n",
       "    .dataframe tbody tr th {\n",
       "        vertical-align: top;\n",
       "    }\n",
       "\n",
       "    .dataframe thead th {\n",
       "        text-align: right;\n",
       "    }\n",
       "</style>\n",
       "<table border=\"1\" class=\"dataframe\">\n",
       "  <thead>\n",
       "    <tr style=\"text-align: right;\">\n",
       "      <th></th>\n",
       "      <th>Missing</th>\n",
       "      <th>Y</th>\n",
       "    </tr>\n",
       "  </thead>\n",
       "  <tbody>\n",
       "    <tr>\n",
       "      <th>0</th>\n",
       "      <td>False</td>\n",
       "      <td>2.066621</td>\n",
       "    </tr>\n",
       "    <tr>\n",
       "      <th>1</th>\n",
       "      <td>True</td>\n",
       "      <td>-1.681528</td>\n",
       "    </tr>\n",
       "  </tbody>\n",
       "</table>\n",
       "</div>"
      ],
      "text/plain": [
       "   Missing         Y\n",
       "0    False  2.066621\n",
       "1     True -1.681528"
      ]
     },
     "execution_count": 85,
     "metadata": {},
     "output_type": "execute_result"
    }
   ],
   "source": [
    "df.groupby(\"Missing\")['Y'].mean().reset_index()"
   ]
  },
  {
   "cell_type": "markdown",
   "metadata": {
    "slideshow": {
     "slide_type": "slide"
    }
   },
   "source": [
    "- `df.merge(Y_means,on=\"Missing\",how=\"left\",suffixes=(\"\",\"_mean\"))`\n",
    "    - Do a left merge with the DataFrame I just created.\n",
    "    - Merge on the variable \"Missing.\"\n",
    "    - When there are overlapping columns, give the one on in the \"right\" DataFrame the suffix \"_mean\"\n",
    "    - The above option is because \"Y\" is in both DataFrames."
   ]
  },
  {
   "cell_type": "code",
   "execution_count": 86,
   "metadata": {
    "slideshow": {
     "slide_type": "-"
    }
   },
   "outputs": [
    {
     "data": {
      "text/html": [
       "<div>\n",
       "<style scoped>\n",
       "    .dataframe tbody tr th:only-of-type {\n",
       "        vertical-align: middle;\n",
       "    }\n",
       "\n",
       "    .dataframe tbody tr th {\n",
       "        vertical-align: top;\n",
       "    }\n",
       "\n",
       "    .dataframe thead th {\n",
       "        text-align: right;\n",
       "    }\n",
       "</style>\n",
       "<table border=\"1\" class=\"dataframe\">\n",
       "  <thead>\n",
       "    <tr style=\"text-align: right;\">\n",
       "      <th></th>\n",
       "      <th>X</th>\n",
       "      <th>Y</th>\n",
       "      <th>D_X_neg</th>\n",
       "      <th>Z</th>\n",
       "      <th>Z_stdized_g</th>\n",
       "      <th>Missing</th>\n",
       "      <th>Y_mean</th>\n",
       "    </tr>\n",
       "  </thead>\n",
       "  <tbody>\n",
       "    <tr>\n",
       "      <th>0</th>\n",
       "      <td>all Garfield</td>\n",
       "      <td>-1.022346</td>\n",
       "      <td>False</td>\n",
       "      <td>Missing</td>\n",
       "      <td>-0.919602</td>\n",
       "      <td>True</td>\n",
       "      <td>-1.681528</td>\n",
       "    </tr>\n",
       "    <tr>\n",
       "      <th>1</th>\n",
       "      <td>all Garfield</td>\n",
       "      <td>2.740774</td>\n",
       "      <td>False</td>\n",
       "      <td>4.93944</td>\n",
       "      <td>-0.173585</td>\n",
       "      <td>False</td>\n",
       "      <td>2.066621</td>\n",
       "    </tr>\n",
       "    <tr>\n",
       "      <th>2</th>\n",
       "      <td>all Garfield</td>\n",
       "      <td>-0.779397</td>\n",
       "      <td>True</td>\n",
       "      <td>Missing</td>\n",
       "      <td>-0.621067</td>\n",
       "      <td>True</td>\n",
       "      <td>-1.681528</td>\n",
       "    </tr>\n",
       "    <tr>\n",
       "      <th>3</th>\n",
       "      <td>all Garfield</td>\n",
       "      <td>1.392468</td>\n",
       "      <td>False</td>\n",
       "      <td>4.957863</td>\n",
       "      <td>-0.081293</td>\n",
       "      <td>False</td>\n",
       "      <td>2.066621</td>\n",
       "    </tr>\n",
       "    <tr>\n",
       "      <th>4</th>\n",
       "      <td>all Garfield</td>\n",
       "      <td>-3.242841</td>\n",
       "      <td>True</td>\n",
       "      <td>Missing</td>\n",
       "      <td>-0.576546</td>\n",
       "      <td>True</td>\n",
       "      <td>-1.681528</td>\n",
       "    </tr>\n",
       "  </tbody>\n",
       "</table>\n",
       "</div>"
      ],
      "text/plain": [
       "              X         Y  D_X_neg         Z  Z_stdized_g  Missing    Y_mean\n",
       "0  all Garfield -1.022346    False   Missing    -0.919602     True -1.681528\n",
       "1  all Garfield  2.740774    False   4.93944    -0.173585    False  2.066621\n",
       "2  all Garfield -0.779397     True   Missing    -0.621067     True -1.681528\n",
       "3  all Garfield  1.392468    False  4.957863    -0.081293    False  2.066621\n",
       "4  all Garfield -3.242841     True   Missing    -0.576546     True -1.681528"
      ]
     },
     "execution_count": 86,
     "metadata": {},
     "output_type": "execute_result"
    }
   ],
   "source": [
    "df.merge(Y_means,on=\"Missing\",how=\"left\",suffixes=(\"\",\"_mean\"))"
   ]
  },
  {
   "cell_type": "markdown",
   "metadata": {
    "slideshow": {
     "slide_type": "slide"
    }
   },
   "source": [
    "Another useful argument for `pd.merge()` is `indicator=\"string\"`, which creates something like the Stata `_merge` variable."
   ]
  },
  {
   "cell_type": "code",
   "execution_count": 87,
   "metadata": {
    "slideshow": {
     "slide_type": "-"
    }
   },
   "outputs": [
    {
     "data": {
      "text/html": [
       "<div>\n",
       "<style scoped>\n",
       "    .dataframe tbody tr th:only-of-type {\n",
       "        vertical-align: middle;\n",
       "    }\n",
       "\n",
       "    .dataframe tbody tr th {\n",
       "        vertical-align: top;\n",
       "    }\n",
       "\n",
       "    .dataframe thead th {\n",
       "        text-align: right;\n",
       "    }\n",
       "</style>\n",
       "<table border=\"1\" class=\"dataframe\">\n",
       "  <thead>\n",
       "    <tr style=\"text-align: right;\">\n",
       "      <th></th>\n",
       "      <th>X</th>\n",
       "      <th>Y</th>\n",
       "      <th>D_X_neg</th>\n",
       "      <th>Z</th>\n",
       "      <th>Z_stdized_g</th>\n",
       "      <th>Missing</th>\n",
       "      <th>Y_mean</th>\n",
       "      <th>i</th>\n",
       "    </tr>\n",
       "  </thead>\n",
       "  <tbody>\n",
       "    <tr>\n",
       "      <th>0</th>\n",
       "      <td>all Garfield</td>\n",
       "      <td>-1.022346</td>\n",
       "      <td>False</td>\n",
       "      <td>Missing</td>\n",
       "      <td>-0.919602</td>\n",
       "      <td>True</td>\n",
       "      <td>-1.681528</td>\n",
       "      <td>both</td>\n",
       "    </tr>\n",
       "    <tr>\n",
       "      <th>1</th>\n",
       "      <td>all Garfield</td>\n",
       "      <td>2.740774</td>\n",
       "      <td>False</td>\n",
       "      <td>4.93944</td>\n",
       "      <td>-0.173585</td>\n",
       "      <td>False</td>\n",
       "      <td>2.066621</td>\n",
       "      <td>both</td>\n",
       "    </tr>\n",
       "    <tr>\n",
       "      <th>2</th>\n",
       "      <td>all Garfield</td>\n",
       "      <td>-0.779397</td>\n",
       "      <td>True</td>\n",
       "      <td>Missing</td>\n",
       "      <td>-0.621067</td>\n",
       "      <td>True</td>\n",
       "      <td>-1.681528</td>\n",
       "      <td>both</td>\n",
       "    </tr>\n",
       "    <tr>\n",
       "      <th>3</th>\n",
       "      <td>all Garfield</td>\n",
       "      <td>1.392468</td>\n",
       "      <td>False</td>\n",
       "      <td>4.957863</td>\n",
       "      <td>-0.081293</td>\n",
       "      <td>False</td>\n",
       "      <td>2.066621</td>\n",
       "      <td>both</td>\n",
       "    </tr>\n",
       "    <tr>\n",
       "      <th>4</th>\n",
       "      <td>all Garfield</td>\n",
       "      <td>-3.242841</td>\n",
       "      <td>True</td>\n",
       "      <td>Missing</td>\n",
       "      <td>-0.576546</td>\n",
       "      <td>True</td>\n",
       "      <td>-1.681528</td>\n",
       "      <td>both</td>\n",
       "    </tr>\n",
       "  </tbody>\n",
       "</table>\n",
       "</div>"
      ],
      "text/plain": [
       "              X         Y  D_X_neg         Z  Z_stdized_g  Missing    Y_mean  \\\n",
       "0  all Garfield -1.022346    False   Missing    -0.919602     True -1.681528   \n",
       "1  all Garfield  2.740774    False   4.93944    -0.173585    False  2.066621   \n",
       "2  all Garfield -0.779397     True   Missing    -0.621067     True -1.681528   \n",
       "3  all Garfield  1.392468    False  4.957863    -0.081293    False  2.066621   \n",
       "4  all Garfield -3.242841     True   Missing    -0.576546     True -1.681528   \n",
       "\n",
       "      i  \n",
       "0  both  \n",
       "1  both  \n",
       "2  both  \n",
       "3  both  \n",
       "4  both  "
      ]
     },
     "execution_count": 87,
     "metadata": {},
     "output_type": "execute_result"
    }
   ],
   "source": [
    "df.merge(Y_means,on=\"Missing\",how=\"left\",suffixes=(\"\",\"_mean\"),indicator=\"i\")"
   ]
  },
  {
   "cell_type": "markdown",
   "metadata": {
    "slideshow": {
     "slide_type": "-"
    }
   },
   "source": [
    "Labeled \"both\" because the values of `Missing` are found in both DataFrames. If we had something else it would mess up:"
   ]
  },
  {
   "cell_type": "code",
   "execution_count": 88,
   "metadata": {
    "slideshow": {
     "slide_type": "slide"
    }
   },
   "outputs": [],
   "source": [
    "df.loc[df.Y>1,\"Missing\"] = \"Not Missing\""
   ]
  },
  {
   "cell_type": "code",
   "execution_count": 89,
   "metadata": {
    "slideshow": {
     "slide_type": "-"
    }
   },
   "outputs": [
    {
     "data": {
      "text/html": [
       "<div>\n",
       "<style scoped>\n",
       "    .dataframe tbody tr th:only-of-type {\n",
       "        vertical-align: middle;\n",
       "    }\n",
       "\n",
       "    .dataframe tbody tr th {\n",
       "        vertical-align: top;\n",
       "    }\n",
       "\n",
       "    .dataframe thead th {\n",
       "        text-align: right;\n",
       "    }\n",
       "</style>\n",
       "<table border=\"1\" class=\"dataframe\">\n",
       "  <thead>\n",
       "    <tr style=\"text-align: right;\">\n",
       "      <th></th>\n",
       "      <th>X</th>\n",
       "      <th>Y</th>\n",
       "      <th>D_X_neg</th>\n",
       "      <th>Z</th>\n",
       "      <th>Z_stdized_g</th>\n",
       "      <th>Missing</th>\n",
       "    </tr>\n",
       "  </thead>\n",
       "  <tbody>\n",
       "    <tr>\n",
       "      <th>0</th>\n",
       "      <td>all Garfield</td>\n",
       "      <td>-1.022346</td>\n",
       "      <td>False</td>\n",
       "      <td>Missing</td>\n",
       "      <td>-0.919602</td>\n",
       "      <td>True</td>\n",
       "    </tr>\n",
       "    <tr>\n",
       "      <th>1</th>\n",
       "      <td>all Garfield</td>\n",
       "      <td>2.740774</td>\n",
       "      <td>False</td>\n",
       "      <td>4.93944</td>\n",
       "      <td>-0.173585</td>\n",
       "      <td>Not Missing</td>\n",
       "    </tr>\n",
       "    <tr>\n",
       "      <th>2</th>\n",
       "      <td>all Garfield</td>\n",
       "      <td>-0.779397</td>\n",
       "      <td>True</td>\n",
       "      <td>Missing</td>\n",
       "      <td>-0.621067</td>\n",
       "      <td>True</td>\n",
       "    </tr>\n",
       "    <tr>\n",
       "      <th>3</th>\n",
       "      <td>all Garfield</td>\n",
       "      <td>1.392468</td>\n",
       "      <td>False</td>\n",
       "      <td>4.957863</td>\n",
       "      <td>-0.081293</td>\n",
       "      <td>Not Missing</td>\n",
       "    </tr>\n",
       "    <tr>\n",
       "      <th>4</th>\n",
       "      <td>all Garfield</td>\n",
       "      <td>-3.242841</td>\n",
       "      <td>True</td>\n",
       "      <td>Missing</td>\n",
       "      <td>-0.576546</td>\n",
       "      <td>True</td>\n",
       "    </tr>\n",
       "  </tbody>\n",
       "</table>\n",
       "</div>"
      ],
      "text/plain": [
       "              X         Y  D_X_neg         Z  Z_stdized_g      Missing\n",
       "0  all Garfield -1.022346    False   Missing    -0.919602         True\n",
       "1  all Garfield  2.740774    False   4.93944    -0.173585  Not Missing\n",
       "2  all Garfield -0.779397     True   Missing    -0.621067         True\n",
       "3  all Garfield  1.392468    False  4.957863    -0.081293  Not Missing\n",
       "4  all Garfield -3.242841     True   Missing    -0.576546         True"
      ]
     },
     "execution_count": 89,
     "metadata": {},
     "output_type": "execute_result"
    }
   ],
   "source": [
    "df"
   ]
  },
  {
   "cell_type": "code",
   "execution_count": 90,
   "metadata": {
    "slideshow": {
     "slide_type": "slide"
    }
   },
   "outputs": [
    {
     "data": {
      "text/html": [
       "<div>\n",
       "<style scoped>\n",
       "    .dataframe tbody tr th:only-of-type {\n",
       "        vertical-align: middle;\n",
       "    }\n",
       "\n",
       "    .dataframe tbody tr th {\n",
       "        vertical-align: top;\n",
       "    }\n",
       "\n",
       "    .dataframe thead th {\n",
       "        text-align: right;\n",
       "    }\n",
       "</style>\n",
       "<table border=\"1\" class=\"dataframe\">\n",
       "  <thead>\n",
       "    <tr style=\"text-align: right;\">\n",
       "      <th></th>\n",
       "      <th>X</th>\n",
       "      <th>Y</th>\n",
       "      <th>D_X_neg</th>\n",
       "      <th>Z</th>\n",
       "      <th>Z_stdized_g</th>\n",
       "      <th>Missing</th>\n",
       "      <th>Y_mean</th>\n",
       "      <th>_merge</th>\n",
       "    </tr>\n",
       "  </thead>\n",
       "  <tbody>\n",
       "    <tr>\n",
       "      <th>0</th>\n",
       "      <td>all Garfield</td>\n",
       "      <td>-1.022346</td>\n",
       "      <td>False</td>\n",
       "      <td>Missing</td>\n",
       "      <td>-0.919602</td>\n",
       "      <td>True</td>\n",
       "      <td>-1.681528</td>\n",
       "      <td>both</td>\n",
       "    </tr>\n",
       "    <tr>\n",
       "      <th>1</th>\n",
       "      <td>all Garfield</td>\n",
       "      <td>2.740774</td>\n",
       "      <td>False</td>\n",
       "      <td>4.93944</td>\n",
       "      <td>-0.173585</td>\n",
       "      <td>Not Missing</td>\n",
       "      <td>NaN</td>\n",
       "      <td>left_only</td>\n",
       "    </tr>\n",
       "    <tr>\n",
       "      <th>2</th>\n",
       "      <td>all Garfield</td>\n",
       "      <td>-0.779397</td>\n",
       "      <td>True</td>\n",
       "      <td>Missing</td>\n",
       "      <td>-0.621067</td>\n",
       "      <td>True</td>\n",
       "      <td>-1.681528</td>\n",
       "      <td>both</td>\n",
       "    </tr>\n",
       "    <tr>\n",
       "      <th>3</th>\n",
       "      <td>all Garfield</td>\n",
       "      <td>1.392468</td>\n",
       "      <td>False</td>\n",
       "      <td>4.957863</td>\n",
       "      <td>-0.081293</td>\n",
       "      <td>Not Missing</td>\n",
       "      <td>NaN</td>\n",
       "      <td>left_only</td>\n",
       "    </tr>\n",
       "    <tr>\n",
       "      <th>4</th>\n",
       "      <td>all Garfield</td>\n",
       "      <td>-3.242841</td>\n",
       "      <td>True</td>\n",
       "      <td>Missing</td>\n",
       "      <td>-0.576546</td>\n",
       "      <td>True</td>\n",
       "      <td>-1.681528</td>\n",
       "      <td>both</td>\n",
       "    </tr>\n",
       "  </tbody>\n",
       "</table>\n",
       "</div>"
      ],
      "text/plain": [
       "              X         Y  D_X_neg         Z  Z_stdized_g      Missing  \\\n",
       "0  all Garfield -1.022346    False   Missing    -0.919602         True   \n",
       "1  all Garfield  2.740774    False   4.93944    -0.173585  Not Missing   \n",
       "2  all Garfield -0.779397     True   Missing    -0.621067         True   \n",
       "3  all Garfield  1.392468    False  4.957863    -0.081293  Not Missing   \n",
       "4  all Garfield -3.242841     True   Missing    -0.576546         True   \n",
       "\n",
       "     Y_mean     _merge  \n",
       "0 -1.681528       both  \n",
       "1       NaN  left_only  \n",
       "2 -1.681528       both  \n",
       "3       NaN  left_only  \n",
       "4 -1.681528       both  "
      ]
     },
     "execution_count": 90,
     "metadata": {},
     "output_type": "execute_result"
    }
   ],
   "source": [
    "df.merge(Y_means,on=\"Missing\",how=\"left\",suffixes=(\"\",\"_mean\"),indicator=\"_merge\")"
   ]
  },
  {
   "cell_type": "markdown",
   "metadata": {
    "slideshow": {
     "slide_type": "slide"
    }
   },
   "source": [
    "### Reading data in to Pandas.\n",
    "In addition to converting from dictionaries and arrays, Pandas reads from almost every file format.\n",
    "- `pd.read_csv` for .csv files.\n",
    "- `pd.read_html` for .html files (we will use this when doing scraping).\n",
    "- `pd.read_stata` for Stata data files.\n",
    "- `pd.read_json` for .json files (we will use this when retreiving API data)."
   ]
  },
  {
   "cell_type": "markdown",
   "metadata": {
    "slideshow": {
     "slide_type": "slide"
    }
   },
   "source": [
    "### Pandas vs. Stata\n",
    "- In Stata, there is __only one dataframe in memory at a time__. In Pandas these are objects and there can be as many in memory as you can hold.\n",
    "- Everything you do in Stata is \"in place.\" In Pandas this will __only happen if you specify it__.\n",
    "- When merging or joining, Pandas needs both DataFrames read into memory; this can be an issue if they are very big and requires you to use \"chunking\" or other work arounds.\n",
    "\n",
    "For other questions comparing pandas and Stata, I recommend consulting [this link](http://www.danielmsullivan.com/pages/tutorial_stata_to_python.html)\n",
    "\n",
    "If you want to compare to R, [consult this link](https://towardsdatascience.com/cheat-sheet-for-python-dataframe-r-dataframe-syntax-conversions-450f656b44ca)"
   ]
  }
 ],
 "metadata": {
  "celltoolbar": "Slideshow",
  "kernelspec": {
   "display_name": "Python 3 (ipykernel)",
   "language": "python",
   "name": "python3"
  },
  "language_info": {
   "codemirror_mode": {
    "name": "ipython",
    "version": 3
   },
   "file_extension": ".py",
   "mimetype": "text/x-python",
   "name": "python",
   "nbconvert_exporter": "python",
   "pygments_lexer": "ipython3",
   "version": "3.11.0"
  },
  "rise": {
   "transition": "none"
  }
 },
 "nbformat": 4,
 "nbformat_minor": 4
}
