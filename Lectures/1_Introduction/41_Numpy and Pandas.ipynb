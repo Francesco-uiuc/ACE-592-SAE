{
 "cells": [
  {
   "cell_type": "markdown",
   "metadata": {
    "slideshow": {
     "slide_type": "slide"
    }
   },
   "source": [
    "# Numpy and Pandas"
   ]
  },
  {
   "cell_type": "markdown",
   "metadata": {
    "slideshow": {
     "slide_type": "slide"
    }
   },
   "source": [
    "## Numpy \n",
    "\n",
    "Numpy works mostly with arrays, much like Matlab and R.\n",
    "\n",
    "Here I'll briefly show some of the functionality of Numpy."
   ]
  },
  {
   "cell_type": "code",
   "execution_count": 1,
   "metadata": {
    "slideshow": {
     "slide_type": "-"
    }
   },
   "outputs": [],
   "source": [
    "import numpy as np"
   ]
  },
  {
   "cell_type": "markdown",
   "metadata": {
    "slideshow": {
     "slide_type": "slide"
    }
   },
   "source": [
    "#### Creating arrays"
   ]
  },
  {
   "cell_type": "code",
   "execution_count": 2,
   "metadata": {
    "slideshow": {
     "slide_type": "-"
    }
   },
   "outputs": [
    {
     "data": {
      "text/plain": [
       "array([1., 1.])"
      ]
     },
     "execution_count": 2,
     "metadata": {},
     "output_type": "execute_result"
    }
   ],
   "source": [
    "np.ones(2)"
   ]
  },
  {
   "cell_type": "code",
   "execution_count": 3,
   "metadata": {
    "slideshow": {
     "slide_type": "-"
    }
   },
   "outputs": [
    {
     "data": {
      "text/plain": [
       "array([0., 0., 0.])"
      ]
     },
     "execution_count": 3,
     "metadata": {},
     "output_type": "execute_result"
    }
   ],
   "source": [
    "np.zeros(3)"
   ]
  },
  {
   "cell_type": "code",
   "execution_count": 4,
   "metadata": {
    "slideshow": {
     "slide_type": "slide"
    }
   },
   "outputs": [
    {
     "data": {
      "text/plain": [
       "array([[1., 0., 0.],\n",
       "       [0., 1., 0.],\n",
       "       [0., 0., 1.]])"
      ]
     },
     "execution_count": 4,
     "metadata": {},
     "output_type": "execute_result"
    }
   ],
   "source": [
    "np.identity(3)"
   ]
  },
  {
   "cell_type": "code",
   "execution_count": 5,
   "metadata": {
    "slideshow": {
     "slide_type": "-"
    }
   },
   "outputs": [
    {
     "data": {
      "text/plain": [
       "array([1., 1., 1.])"
      ]
     },
     "execution_count": 5,
     "metadata": {},
     "output_type": "execute_result"
    }
   ],
   "source": [
    "np.diagonal(np.identity(3))"
   ]
  },
  {
   "cell_type": "code",
   "execution_count": 6,
   "metadata": {
    "slideshow": {
     "slide_type": "slide"
    }
   },
   "outputs": [
    {
     "data": {
      "text/plain": [
       "array([2, 4, 6, 8])"
      ]
     },
     "execution_count": 6,
     "metadata": {},
     "output_type": "execute_result"
    }
   ],
   "source": [
    "np.arange(2,10,2) #(start, stop, step)"
   ]
  },
  {
   "cell_type": "code",
   "execution_count": 7,
   "metadata": {
    "slideshow": {
     "slide_type": "-"
    }
   },
   "outputs": [
    {
     "data": {
      "text/plain": [
       "array([2.        , 2.66666667, 3.33333333, 4.        , 4.66666667,\n",
       "       5.33333333, 6.        , 6.66666667, 7.33333333, 8.        ])"
      ]
     },
     "execution_count": 7,
     "metadata": {},
     "output_type": "execute_result"
    }
   ],
   "source": [
    "np.linspace(2,8,10) #(start, stop, number of elements)"
   ]
  },
  {
   "cell_type": "markdown",
   "metadata": {
    "slideshow": {
     "slide_type": "slide"
    }
   },
   "source": [
    "Nested lists make a matrix:"
   ]
  },
  {
   "cell_type": "code",
   "execution_count": 8,
   "metadata": {
    "slideshow": {
     "slide_type": "-"
    }
   },
   "outputs": [
    {
     "data": {
      "text/plain": [
       "array([[1, 2, 3],\n",
       "       [4, 5, 6],\n",
       "       [7, 8, 9]])"
      ]
     },
     "execution_count": 8,
     "metadata": {},
     "output_type": "execute_result"
    }
   ],
   "source": [
    "m = np.array([[1,2,3],\n",
    "              [4,5,6],\n",
    "              [7,8,9]])\n",
    "m"
   ]
  },
  {
   "cell_type": "markdown",
   "metadata": {
    "slideshow": {
     "slide_type": "slide"
    }
   },
   "source": [
    "Slicing works the same way as lists, but with two indices instead of one:"
   ]
  },
  {
   "cell_type": "code",
   "execution_count": 9,
   "metadata": {
    "slideshow": {
     "slide_type": "-"
    }
   },
   "outputs": [
    {
     "data": {
      "text/plain": [
       "array([[1, 2, 3],\n",
       "       [4, 5, 6],\n",
       "       [7, 8, 9]])"
      ]
     },
     "execution_count": 9,
     "metadata": {},
     "output_type": "execute_result"
    }
   ],
   "source": [
    "m"
   ]
  },
  {
   "cell_type": "code",
   "execution_count": 10,
   "metadata": {
    "slideshow": {
     "slide_type": "-"
    }
   },
   "outputs": [
    {
     "data": {
      "text/plain": [
       "array([[1, 2],\n",
       "       [4, 5]])"
      ]
     },
     "execution_count": 10,
     "metadata": {},
     "output_type": "execute_result"
    }
   ],
   "source": [
    "m[:2,:2]"
   ]
  },
  {
   "cell_type": "markdown",
   "metadata": {
    "slideshow": {
     "slide_type": "slide"
    }
   },
   "source": [
    "#### Linear Algebra Operations"
   ]
  },
  {
   "cell_type": "code",
   "execution_count": 11,
   "metadata": {
    "slideshow": {
     "slide_type": "-"
    }
   },
   "outputs": [
    {
     "data": {
      "text/plain": [
       "array([[0.5, 0. , 0. ],\n",
       "       [0. , 0.5, 0. ],\n",
       "       [0. , 0. , 0.5]])"
      ]
     },
     "execution_count": 11,
     "metadata": {},
     "output_type": "execute_result"
    }
   ],
   "source": [
    "I = np.identity(3)/2\n",
    "I"
   ]
  },
  {
   "cell_type": "code",
   "execution_count": 12,
   "metadata": {
    "slideshow": {
     "slide_type": "-"
    }
   },
   "outputs": [
    {
     "data": {
      "text/plain": [
       "array([[2., 0., 0.],\n",
       "       [0., 2., 0.],\n",
       "       [0., 0., 2.]])"
      ]
     },
     "execution_count": 12,
     "metadata": {},
     "output_type": "execute_result"
    }
   ],
   "source": [
    "np.linalg.inv(I)"
   ]
  },
  {
   "cell_type": "code",
   "execution_count": 13,
   "metadata": {},
   "outputs": [
    {
     "data": {
      "text/plain": [
       "1.5"
      ]
     },
     "execution_count": 13,
     "metadata": {},
     "output_type": "execute_result"
    }
   ],
   "source": [
    "np.trace(I)"
   ]
  },
  {
   "cell_type": "code",
   "execution_count": 14,
   "metadata": {
    "slideshow": {
     "slide_type": "slide"
    }
   },
   "outputs": [
    {
     "data": {
      "text/plain": [
       "array([1.5, 1.5, 1.5])"
      ]
     },
     "execution_count": 14,
     "metadata": {},
     "output_type": "execute_result"
    }
   ],
   "source": [
    "np.linalg.eigvals(I*3)"
   ]
  },
  {
   "cell_type": "markdown",
   "metadata": {
    "slideshow": {
     "slide_type": "slide"
    }
   },
   "source": [
    "### Warning: Copying in Numpy\n",
    "What is the difference between these two blocks?"
   ]
  },
  {
   "cell_type": "code",
   "execution_count": 15,
   "metadata": {
    "slideshow": {
     "slide_type": "-"
    }
   },
   "outputs": [
    {
     "data": {
      "text/plain": [
       "array([[1, 0, 3],\n",
       "       [4, 5, 6],\n",
       "       [7, 8, 9]])"
      ]
     },
     "execution_count": 15,
     "metadata": {},
     "output_type": "execute_result"
    }
   ],
   "source": [
    "m = np.arange(1,10,1).reshape(3,3)\n",
    "m1 = m\n",
    "m1[0,1] = 0\n",
    "m"
   ]
  },
  {
   "cell_type": "code",
   "execution_count": 16,
   "metadata": {
    "slideshow": {
     "slide_type": "-"
    }
   },
   "outputs": [
    {
     "data": {
      "text/plain": [
       "array([[1, 2, 3],\n",
       "       [4, 5, 6],\n",
       "       [7, 8, 9]])"
      ]
     },
     "execution_count": 16,
     "metadata": {},
     "output_type": "execute_result"
    }
   ],
   "source": [
    "m = np.arange(1,10,1).reshape(3,3)\n",
    "m2 = np.copy(m)\n",
    "m2[0,1] = 0\n",
    "m"
   ]
  },
  {
   "cell_type": "markdown",
   "metadata": {
    "slideshow": {
     "slide_type": "slide"
    }
   },
   "source": [
    "### Important thing about Arrays:\n",
    "When creating a subset of the array like m1, it is a __view__ and __not a copy__.\n",
    "\n",
    "This means if you edit it, it will actually edit the original one.\n",
    "\n",
    "Basic numpy practice is to use \"np.copy\" to create a new version that you can edit without affecting the underlying array."
   ]
  },
  {
   "cell_type": "markdown",
   "metadata": {
    "slideshow": {
     "slide_type": "slide"
    }
   },
   "source": [
    "Also edits it if you assign values to a slice."
   ]
  },
  {
   "cell_type": "code",
   "execution_count": 17,
   "metadata": {},
   "outputs": [
    {
     "data": {
      "text/plain": [
       "array([7, 8, 9])"
      ]
     },
     "execution_count": 17,
     "metadata": {},
     "output_type": "execute_result"
    }
   ],
   "source": [
    "ex = m[2]\n",
    "ex"
   ]
  },
  {
   "cell_type": "code",
   "execution_count": 18,
   "metadata": {
    "slideshow": {
     "slide_type": "-"
    }
   },
   "outputs": [
    {
     "data": {
      "text/plain": [
       "array([[1, 2, 3],\n",
       "       [4, 5, 6],\n",
       "       [0, 8, 9]])"
      ]
     },
     "execution_count": 18,
     "metadata": {},
     "output_type": "execute_result"
    }
   ],
   "source": [
    "ex = m[2]\n",
    "ex[0] = 0\n",
    "m"
   ]
  },
  {
   "cell_type": "markdown",
   "metadata": {
    "slideshow": {
     "slide_type": "slide"
    }
   },
   "source": [
    "### Random Number Generation\n",
    "In our last example, I prespecified a list. The way I made that list was using numpy functions.\n",
    "\n"
   ]
  },
  {
   "cell_type": "code",
   "execution_count": 19,
   "metadata": {
    "scrolled": true,
    "slideshow": {
     "slide_type": "-"
    }
   },
   "outputs": [
    {
     "data": {
      "text/plain": [
       "array([-0.16551776,  2.29382018,  0.11051775,  0.70689783,  0.2841327 ,\n",
       "       -0.87493202, -3.12091093, -0.62213264,  1.66693896, -0.57840083,\n",
       "        0.93008148, -0.75150276,  0.52473904,  1.06971043, -0.57707033,\n",
       "        0.47021356,  0.17050495,  1.68885937, -0.44704144, -0.42603329,\n",
       "        0.06668924, -0.05912911, -0.74154818, -1.12570222,  0.24172033,\n",
       "        0.04487891, -0.69518854,  0.07547892, -0.08008621, -0.66452885,\n",
       "        1.04262374,  1.14319989, -0.19736966, -0.6869835 , -1.52598643,\n",
       "       -1.39252247,  0.50517898,  0.64221343, -0.86295367,  2.12507081,\n",
       "        0.95649562,  0.64216209, -1.10087387, -0.08369771, -0.58176097,\n",
       "       -1.51915865, -0.99900915,  0.39122935,  0.52402895,  0.37101804,\n",
       "       -0.73046669, -0.84858839, -0.8831255 , -2.76045614,  1.36976033,\n",
       "        0.17647207,  0.14284062, -1.03199051, -0.88706428, -0.49324931,\n",
       "       -0.23880052, -0.09099128, -0.34283873, -0.02068961, -0.96939598,\n",
       "       -0.21843032, -0.5807723 , -0.23005088, -1.13256687, -0.93972808,\n",
       "        0.54613615, -0.47561426,  1.69323883, -0.77686563,  1.59056208,\n",
       "        0.39246136, -0.12380789,  0.58668752,  0.64674187,  0.86864017,\n",
       "        0.07681008,  2.3713734 , -0.68506726,  0.09548684, -0.94062237,\n",
       "        0.83645974,  0.50894952, -1.02529631, -1.72948242, -0.21468834,\n",
       "        0.77285766, -0.04898406, -0.16462118,  0.31586853,  2.05257471,\n",
       "       -1.00273845, -0.2535438 , -0.96945103,  0.86619271, -0.45313293])"
      ]
     },
     "execution_count": 19,
     "metadata": {},
     "output_type": "execute_result"
    }
   ],
   "source": [
    "np.random.randn(100) # This generates 100 draws from N(0,1)"
   ]
  },
  {
   "cell_type": "markdown",
   "metadata": {
    "slideshow": {
     "slide_type": "slide"
    }
   },
   "source": [
    "Instead of using for loops, we can do matrix calculations."
   ]
  },
  {
   "cell_type": "code",
   "execution_count": 20,
   "metadata": {
    "slideshow": {
     "slide_type": "-"
    }
   },
   "outputs": [
    {
     "data": {
      "text/plain": [
       "array([[ 1.3749783 ],\n",
       "       [ 1.94759963],\n",
       "       [-3.36914665],\n",
       "       [-1.66668047],\n",
       "       [ 1.21611179],\n",
       "       [ 0.1396229 ],\n",
       "       [ 1.78948552],\n",
       "       [ 0.72386347],\n",
       "       [-0.73636266],\n",
       "       [ 1.69966689],\n",
       "       [-1.2783979 ],\n",
       "       [ 3.42352443],\n",
       "       [ 0.0732025 ],\n",
       "       [ 3.1483966 ],\n",
       "       [-2.93582215],\n",
       "       [ 0.98069064],\n",
       "       [ 3.34079713],\n",
       "       [-2.82580907],\n",
       "       [ 4.07720735],\n",
       "       [ 3.06090752],\n",
       "       [-1.40121932],\n",
       "       [-1.76924581],\n",
       "       [ 2.85314308],\n",
       "       [-0.78522797],\n",
       "       [ 0.05595723],\n",
       "       [ 0.73674274],\n",
       "       [ 0.60513763],\n",
       "       [ 0.86986256],\n",
       "       [ 2.17935006],\n",
       "       [-0.95161255],\n",
       "       [ 0.08848741],\n",
       "       [-4.19917566],\n",
       "       [-0.35478473],\n",
       "       [ 1.65269458],\n",
       "       [-1.86301796],\n",
       "       [ 1.7361426 ],\n",
       "       [-0.00914434],\n",
       "       [ 0.93562045],\n",
       "       [ 0.22654566],\n",
       "       [-1.10699501],\n",
       "       [ 0.13455339],\n",
       "       [ 0.18937939],\n",
       "       [-2.88105268],\n",
       "       [ 1.04264499],\n",
       "       [ 1.25098246],\n",
       "       [ 1.84192984],\n",
       "       [ 1.65914257],\n",
       "       [-4.9528332 ],\n",
       "       [ 3.43158008],\n",
       "       [-4.78265207],\n",
       "       [-0.92657477],\n",
       "       [ 1.22688966],\n",
       "       [ 0.92820967],\n",
       "       [ 2.19811588],\n",
       "       [-2.35532667],\n",
       "       [-5.41789718],\n",
       "       [ 3.83073248],\n",
       "       [-2.26018715],\n",
       "       [-0.82606678],\n",
       "       [ 0.11751552],\n",
       "       [-1.57155718],\n",
       "       [ 0.36698879],\n",
       "       [ 2.39904641],\n",
       "       [-1.68329356],\n",
       "       [-1.50434061],\n",
       "       [-0.67340625],\n",
       "       [ 0.54634793],\n",
       "       [ 1.43535564],\n",
       "       [ 5.05748794],\n",
       "       [-1.11385873],\n",
       "       [-0.16948447],\n",
       "       [ 0.53874524],\n",
       "       [ 0.61573482],\n",
       "       [ 0.50009576],\n",
       "       [ 4.93698175],\n",
       "       [ 0.21514968],\n",
       "       [ 3.56116746],\n",
       "       [ 2.14047964],\n",
       "       [-2.84093431],\n",
       "       [ 3.30973587],\n",
       "       [ 5.34771417],\n",
       "       [-0.0822491 ],\n",
       "       [ 2.73781312],\n",
       "       [-2.38051095],\n",
       "       [ 2.03526504],\n",
       "       [ 2.28352086],\n",
       "       [-1.17326141],\n",
       "       [ 1.6950477 ],\n",
       "       [ 1.14307376],\n",
       "       [ 0.2704159 ],\n",
       "       [-0.38470288],\n",
       "       [-0.77653509],\n",
       "       [ 2.4544942 ],\n",
       "       [-0.13603639],\n",
       "       [-0.1246486 ],\n",
       "       [ 0.45940976],\n",
       "       [-3.40397369],\n",
       "       [ 0.18494693],\n",
       "       [-2.98875583],\n",
       "       [-2.09996458]])"
      ]
     },
     "execution_count": 20,
     "metadata": {},
     "output_type": "execute_result"
    }
   ],
   "source": [
    "X = np.random.randn(100,1)\n",
    "e = np.random.randn(100,1)\n",
    "\n",
    "Y = 2*X + e\n",
    "Y"
   ]
  },
  {
   "cell_type": "markdown",
   "metadata": {
    "slideshow": {
     "slide_type": "slide"
    }
   },
   "source": [
    "Numpy could estimate the linear regression parameter two different ways:\n",
    "- Matrix way.\n",
    "- Numerical way."
   ]
  },
  {
   "cell_type": "markdown",
   "metadata": {
    "slideshow": {
     "slide_type": "slide"
    }
   },
   "source": [
    "#### The matrix way. \n",
    "\n",
    "What's the formula?\n",
    "\n"
   ]
  },
  {
   "cell_type": "markdown",
   "metadata": {
    "slideshow": {
     "slide_type": "slide"
    }
   },
   "source": [
    "$\\beta = (X'X)^{-1}(X'Y)$"
   ]
  },
  {
   "cell_type": "code",
   "execution_count": 21,
   "metadata": {
    "slideshow": {
     "slide_type": "-"
    }
   },
   "outputs": [
    {
     "data": {
      "text/plain": [
       "array([[1.87544834]])"
      ]
     },
     "execution_count": 21,
     "metadata": {},
     "output_type": "execute_result"
    }
   ],
   "source": [
    "from numpy.linalg import inv as inverse # Renamed the function\n",
    "\n",
    "XX_inv = inverse(X.T@X) # (X'X)^{-1}\n",
    "                        # @ = matrix multiplication\n",
    "XY = X.T@Y              # (X'Y)\n",
    "beta_hat = XX_inv@XY  \n",
    "beta_hat"
   ]
  },
  {
   "cell_type": "markdown",
   "metadata": {
    "slideshow": {
     "slide_type": "-"
    }
   },
   "source": [
    "Easy as that!"
   ]
  },
  {
   "cell_type": "markdown",
   "metadata": {
    "slideshow": {
     "slide_type": "slide"
    }
   },
   "source": [
    "#### The numerical way\n",
    "\n",
    "I'll use the SSE function we used before, but instead of using a for loop to determine things I will use:\n",
    "- Matrix operations to find SSE\n",
    "- A list comprehension to calculate SSE for different $\\beta$\n",
    "- The function \"np.argmin\" to find the array element with the smallest value."
   ]
  },
  {
   "cell_type": "code",
   "execution_count": 22,
   "metadata": {
    "slideshow": {
     "slide_type": "slide"
    }
   },
   "outputs": [
    {
     "data": {
      "text/plain": [
       "2"
      ]
     },
     "execution_count": 22,
     "metadata": {},
     "output_type": "execute_result"
    }
   ],
   "source": [
    "def sse(beta,X,Y):\n",
    "    sse_array = ((Y- X*beta)**2) # * = element by element multiplication\n",
    "    sse = sse_array.sum() # Sum the array\n",
    "    return sse\n",
    "\n",
    "beta_grid = [-1,0,1,2,3,4] # Choose some candidates for beta\n",
    "\n",
    "sse_vals = np.array([sse(b,X,Y) for b in beta_grid]) # List comprehension!\n",
    "\n",
    "beta_grid[np.argmin(sse_vals)] # argmin tells me the index \n",
    "                               # for the element of the array with the smallest value"
   ]
  },
  {
   "cell_type": "markdown",
   "metadata": {
    "slideshow": {
     "slide_type": "-"
    }
   },
   "source": [
    "and __voila!__ We can do linear regression with numpy arrays either numerically or with the matrix formula."
   ]
  },
  {
   "attachments": {
    "image.png": {
     "image/png": "[encoded data removed]"
    }
   },
   "cell_type": "markdown",
   "metadata": {
    "slideshow": {
     "slide_type": "slide"
    }
   },
   "source": [
    "### Some other Numpy things that you will find to be useful\n",
    "- Indexing arrays:\n",
    "    - Just like lists, you can use slices like `array[::2]`\n",
    "    - Or pass Boolean vectors to subset: `array[array<2]`\n",
    "![image.png](attachment:image.png)\n",
    "<center>from PyEcon slideshow, slide 118: https://pyecon.org/down/pyecon.pdf </center>\n"
   ]
  },
  {
   "cell_type": "markdown",
   "metadata": {
    "slideshow": {
     "slide_type": "slide"
    }
   },
   "source": [
    "- Concatenating arrays:\n",
    "    - As long as the dimensions align, you can concatenate by specifying \"axis\": `np.concatenate([arr1,arr2],axis=0)`\n",
    "    - Cheat sheet: `axis=0` is the __row axis__, `axis=1` is the __column axis__."
   ]
  },
  {
   "cell_type": "code",
   "execution_count": 23,
   "metadata": {},
   "outputs": [
    {
     "data": {
      "text/plain": [
       "array([[1, 2, 3, 1, 2, 3],\n",
       "       [4, 5, 6, 4, 5, 6],\n",
       "       [0, 8, 9, 0, 8, 9]])"
      ]
     },
     "execution_count": 23,
     "metadata": {},
     "output_type": "execute_result"
    }
   ],
   "source": [
    "np.concatenate([m,m],axis=1)"
   ]
  },
  {
   "cell_type": "code",
   "execution_count": 24,
   "metadata": {
    "slideshow": {
     "slide_type": "slide"
    }
   },
   "outputs": [
    {
     "data": {
      "text/plain": [
       "array([[1, 2, 3],\n",
       "       [4, 5, 6],\n",
       "       [0, 8, 9],\n",
       "       [1, 2, 3],\n",
       "       [4, 5, 6],\n",
       "       [0, 8, 9]])"
      ]
     },
     "execution_count": 24,
     "metadata": {},
     "output_type": "execute_result"
    }
   ],
   "source": [
    "np.concatenate([m,m],axis=0)"
   ]
  },
  {
   "cell_type": "markdown",
   "metadata": {
    "slideshow": {
     "slide_type": "slide"
    }
   },
   "source": [
    "## Pandas\n",
    "\n",
    "The two main objects of Pandas:\n",
    "\n",
    "- `pd.Series()`, which is only one dimension.\n",
    "- `pd.DataFrame()`, which is two dimensions.\n",
    "\n",
    "The functionality is similar to the dataframes in R.\n",
    "\n",
    "What I love about DataFrames, however, is the number of built-in methods!"
   ]
  },
  {
   "cell_type": "code",
   "execution_count": 25,
   "metadata": {
    "slideshow": {
     "slide_type": "-"
    }
   },
   "outputs": [],
   "source": [
    "import pandas as pd"
   ]
  },
  {
   "cell_type": "code",
   "execution_count": 26,
   "metadata": {
    "slideshow": {
     "slide_type": "slide"
    }
   },
   "outputs": [
    {
     "data": {
      "text/plain": [
       "array([[ 1.27293910e+00,  1.37497830e+00],\n",
       "       [ 1.20587681e+00,  1.94759963e+00],\n",
       "       [-1.84717986e+00, -3.36914665e+00],\n",
       "       [-4.13018077e-02, -1.66668047e+00],\n",
       "       [ 5.06410143e-01,  1.21611179e+00],\n",
       "       [-6.35390572e-01,  1.39622897e-01],\n",
       "       [ 7.62500710e-01,  1.78948552e+00],\n",
       "       [ 1.53946097e-01,  7.23863469e-01],\n",
       "       [ 2.93217607e-01, -7.36362658e-01],\n",
       "       [ 6.64558673e-01,  1.69966689e+00],\n",
       "       [-1.03771091e+00, -1.27839790e+00],\n",
       "       [ 1.45149495e+00,  3.42352443e+00],\n",
       "       [-3.97431882e-02,  7.32024989e-02],\n",
       "       [ 9.08872859e-01,  3.14839660e+00],\n",
       "       [-1.96032585e+00, -2.93582215e+00],\n",
       "       [ 5.45504545e-01,  9.80690645e-01],\n",
       "       [ 1.39544600e+00,  3.34079713e+00],\n",
       "       [-5.98791960e-01, -2.82580907e+00],\n",
       "       [ 1.55685609e+00,  4.07720735e+00],\n",
       "       [ 9.62186707e-01,  3.06090752e+00],\n",
       "       [-1.39923168e-01, -1.40121932e+00],\n",
       "       [-7.41875484e-01, -1.76924581e+00],\n",
       "       [ 1.31533358e+00,  2.85314308e+00],\n",
       "       [-6.38849959e-01, -7.85227974e-01],\n",
       "       [-2.73178425e-01,  5.59572319e-02],\n",
       "       [ 1.20029460e+00,  7.36742736e-01],\n",
       "       [-8.46877582e-01,  6.05137632e-01],\n",
       "       [ 1.99019847e-01,  8.69862561e-01],\n",
       "       [ 1.09945496e+00,  2.17935006e+00],\n",
       "       [-3.94732432e-01, -9.51612551e-01],\n",
       "       [-5.24565323e-01,  8.84874096e-02],\n",
       "       [-2.10518052e+00, -4.19917566e+00],\n",
       "       [-4.95268825e-01, -3.54784730e-01],\n",
       "       [ 8.83551887e-01,  1.65269458e+00],\n",
       "       [-2.38667434e-01, -1.86301796e+00],\n",
       "       [ 5.01819844e-01,  1.73614260e+00],\n",
       "       [-4.95412235e-01, -9.14433610e-03],\n",
       "       [ 6.37712379e-01,  9.35620453e-01],\n",
       "       [ 3.94730853e-01,  2.26545660e-01],\n",
       "       [ 9.48626624e-02, -1.10699501e+00],\n",
       "       [ 5.67175457e-01,  1.34553390e-01],\n",
       "       [ 1.22616659e+00,  1.89379390e-01],\n",
       "       [-9.17696282e-01, -2.88105268e+00],\n",
       "       [ 4.33216606e-01,  1.04264499e+00],\n",
       "       [ 1.20254749e+00,  1.25098246e+00],\n",
       "       [ 7.64889622e-01,  1.84192984e+00],\n",
       "       [ 4.11499868e-01,  1.65914257e+00],\n",
       "       [-1.38255454e+00, -4.95283320e+00],\n",
       "       [ 3.63754176e-01,  3.43158008e+00],\n",
       "       [-1.71870753e+00, -4.78265207e+00],\n",
       "       [ 4.33586678e-01, -9.26574767e-01],\n",
       "       [-8.90877838e-01,  1.22688966e+00],\n",
       "       [ 1.04760634e+00,  9.28209666e-01],\n",
       "       [-5.48490757e-02,  2.19811588e+00],\n",
       "       [-9.71988735e-01, -2.35532667e+00],\n",
       "       [-2.72982857e+00, -5.41789718e+00],\n",
       "       [ 1.69660184e+00,  3.83073248e+00],\n",
       "       [-1.72596548e+00, -2.26018715e+00],\n",
       "       [-1.35080394e+00, -8.26066781e-01],\n",
       "       [ 9.80775234e-01,  1.17515522e-01],\n",
       "       [-9.76942529e-01, -1.57155718e+00],\n",
       "       [ 2.94958885e-01,  3.66988789e-01],\n",
       "       [ 8.89918286e-01,  2.39904641e+00],\n",
       "       [-8.53450365e-01, -1.68329356e+00],\n",
       "       [-1.48638480e+00, -1.50434061e+00],\n",
       "       [ 2.48299601e-02, -6.73406250e-01],\n",
       "       [-3.62935684e-03,  5.46347932e-01],\n",
       "       [-2.20641619e-02,  1.43535564e+00],\n",
       "       [ 2.32149158e+00,  5.05748794e+00],\n",
       "       [-7.52358781e-01, -1.11385873e+00],\n",
       "       [ 3.43805321e-01, -1.69484468e-01],\n",
       "       [ 3.19642996e-01,  5.38745241e-01],\n",
       "       [-1.62354668e-01,  6.15734823e-01],\n",
       "       [-1.09556697e-01,  5.00095756e-01],\n",
       "       [ 2.09534106e+00,  4.93698175e+00],\n",
       "       [ 3.63959929e-01,  2.15149683e-01],\n",
       "       [ 2.13375374e+00,  3.56116746e+00],\n",
       "       [ 1.65739872e+00,  2.14047964e+00],\n",
       "       [-1.11945836e+00, -2.84093431e+00],\n",
       "       [ 1.88163630e+00,  3.30973587e+00],\n",
       "       [ 1.34679192e+00,  5.34771417e+00],\n",
       "       [-2.29254241e-01, -8.22491021e-02],\n",
       "       [ 9.61005368e-01,  2.73781312e+00],\n",
       "       [-6.87092963e-01, -2.38051095e+00],\n",
       "       [ 9.22346792e-01,  2.03526504e+00],\n",
       "       [ 1.42063778e+00,  2.28352086e+00],\n",
       "       [-7.65089717e-02, -1.17326141e+00],\n",
       "       [ 2.42238786e-01,  1.69504770e+00],\n",
       "       [ 6.48631381e-01,  1.14307376e+00],\n",
       "       [-9.30827592e-02,  2.70415905e-01],\n",
       "       [-7.36548491e-01, -3.84702880e-01],\n",
       "       [-2.50256474e-01, -7.76535091e-01],\n",
       "       [ 4.48515855e-01,  2.45449420e+00],\n",
       "       [ 6.58224754e-01, -1.36036391e-01],\n",
       "       [-1.31214458e-01, -1.24648597e-01],\n",
       "       [-1.93276438e-01,  4.59409760e-01],\n",
       "       [-1.75955459e+00, -3.40397369e+00],\n",
       "       [-1.84456101e-01,  1.84946926e-01],\n",
       "       [-1.50744783e+00, -2.98875583e+00],\n",
       "       [-1.18259113e+00, -2.09996458e+00]])"
      ]
     },
     "execution_count": 26,
     "metadata": {},
     "output_type": "execute_result"
    }
   ],
   "source": [
    "the_array = np.concatenate([X,Y],axis=1)\n",
    "the_array"
   ]
  },
  {
   "cell_type": "code",
   "execution_count": 27,
   "metadata": {
    "slideshow": {
     "slide_type": "slide"
    }
   },
   "outputs": [
    {
     "data": {
      "text/html": [
       "<div>\n",
       "<style scoped>\n",
       "    .dataframe tbody tr th:only-of-type {\n",
       "        vertical-align: middle;\n",
       "    }\n",
       "\n",
       "    .dataframe tbody tr th {\n",
       "        vertical-align: top;\n",
       "    }\n",
       "\n",
       "    .dataframe thead th {\n",
       "        text-align: right;\n",
       "    }\n",
       "</style>\n",
       "<table border=\"1\" class=\"dataframe\">\n",
       "  <thead>\n",
       "    <tr style=\"text-align: right;\">\n",
       "      <th></th>\n",
       "      <th>X</th>\n",
       "      <th>Y</th>\n",
       "    </tr>\n",
       "  </thead>\n",
       "  <tbody>\n",
       "    <tr>\n",
       "      <th>0</th>\n",
       "      <td>1.272939</td>\n",
       "      <td>1.374978</td>\n",
       "    </tr>\n",
       "    <tr>\n",
       "      <th>1</th>\n",
       "      <td>1.205877</td>\n",
       "      <td>1.947600</td>\n",
       "    </tr>\n",
       "    <tr>\n",
       "      <th>2</th>\n",
       "      <td>-1.847180</td>\n",
       "      <td>-3.369147</td>\n",
       "    </tr>\n",
       "    <tr>\n",
       "      <th>3</th>\n",
       "      <td>-0.041302</td>\n",
       "      <td>-1.666680</td>\n",
       "    </tr>\n",
       "    <tr>\n",
       "      <th>4</th>\n",
       "      <td>0.506410</td>\n",
       "      <td>1.216112</td>\n",
       "    </tr>\n",
       "  </tbody>\n",
       "</table>\n",
       "</div>"
      ],
      "text/plain": [
       "          X         Y\n",
       "0  1.272939  1.374978\n",
       "1  1.205877  1.947600\n",
       "2 -1.847180 -3.369147\n",
       "3 -0.041302 -1.666680\n",
       "4  0.506410  1.216112"
      ]
     },
     "execution_count": 27,
     "metadata": {},
     "output_type": "execute_result"
    }
   ],
   "source": [
    "df = pd.DataFrame(the_array,columns=['X','Y'])\n",
    "df.head()"
   ]
  },
  {
   "cell_type": "markdown",
   "metadata": {
    "slideshow": {
     "slide_type": "slide"
    }
   },
   "source": [
    "Pandas can also convert dictionaries to DataFrames very easily:"
   ]
  },
  {
   "cell_type": "code",
   "execution_count": 28,
   "metadata": {
    "slideshow": {
     "slide_type": "-"
    }
   },
   "outputs": [],
   "source": [
    "Babies = {\"Bart Harley Jarvis\":{\n",
    "                \"Description\" : \"Underbite, flat back of the head\",\n",
    "                \"Weight Percentile\" : 50,\n",
    "                \"Height Percentile\" : 80 },\n",
    "          \"Michael Patrick Porkins\":{\n",
    "                \"Description\" : \"Button nose, apple cheeks\",\n",
    "                \"Weight Percentile\" : 99,\n",
    "                \"Height Percentile\" : 10},\n",
    "          \"Taffy Lee Fubbins\" : {\n",
    "                \"Description\" : \"Tuna can\",\n",
    "                \"Weight Percentile\" : 90,\n",
    "                \"Height Percentile\" : 10}}"
   ]
  },
  {
   "cell_type": "code",
   "execution_count": 29,
   "metadata": {
    "slideshow": {
     "slide_type": "slide"
    }
   },
   "outputs": [
    {
     "data": {
      "text/html": [
       "<div>\n",
       "<style scoped>\n",
       "    .dataframe tbody tr th:only-of-type {\n",
       "        vertical-align: middle;\n",
       "    }\n",
       "\n",
       "    .dataframe tbody tr th {\n",
       "        vertical-align: top;\n",
       "    }\n",
       "\n",
       "    .dataframe thead th {\n",
       "        text-align: right;\n",
       "    }\n",
       "</style>\n",
       "<table border=\"1\" class=\"dataframe\">\n",
       "  <thead>\n",
       "    <tr style=\"text-align: right;\">\n",
       "      <th></th>\n",
       "      <th>Bart Harley Jarvis</th>\n",
       "      <th>Michael Patrick Porkins</th>\n",
       "      <th>Taffy Lee Fubbins</th>\n",
       "    </tr>\n",
       "  </thead>\n",
       "  <tbody>\n",
       "    <tr>\n",
       "      <th>Description</th>\n",
       "      <td>Underbite, flat back of the head</td>\n",
       "      <td>Button nose, apple cheeks</td>\n",
       "      <td>Tuna can</td>\n",
       "    </tr>\n",
       "    <tr>\n",
       "      <th>Weight Percentile</th>\n",
       "      <td>50</td>\n",
       "      <td>99</td>\n",
       "      <td>90</td>\n",
       "    </tr>\n",
       "    <tr>\n",
       "      <th>Height Percentile</th>\n",
       "      <td>80</td>\n",
       "      <td>10</td>\n",
       "      <td>10</td>\n",
       "    </tr>\n",
       "  </tbody>\n",
       "</table>\n",
       "</div>"
      ],
      "text/plain": [
       "                                 Bart Harley Jarvis  \\\n",
       "Description        Underbite, flat back of the head   \n",
       "Weight Percentile                                50   \n",
       "Height Percentile                                80   \n",
       "\n",
       "                     Michael Patrick Porkins Taffy Lee Fubbins  \n",
       "Description        Button nose, apple cheeks          Tuna can  \n",
       "Weight Percentile                         99                90  \n",
       "Height Percentile                         10                10  "
      ]
     },
     "execution_count": 29,
     "metadata": {},
     "output_type": "execute_result"
    }
   ],
   "source": [
    "pd.DataFrame(Babies)"
   ]
  },
  {
   "cell_type": "markdown",
   "metadata": {
    "slideshow": {
     "slide_type": "slide"
    }
   },
   "source": [
    "Selecting one column returns a Series:"
   ]
  },
  {
   "cell_type": "code",
   "execution_count": 30,
   "metadata": {
    "slideshow": {
     "slide_type": "-"
    }
   },
   "outputs": [
    {
     "data": {
      "text/plain": [
       "0    1.272939\n",
       "1    1.205877\n",
       "2   -1.847180\n",
       "3   -0.041302\n",
       "4    0.506410\n",
       "Name: X, dtype: float64"
      ]
     },
     "execution_count": 30,
     "metadata": {},
     "output_type": "execute_result"
    }
   ],
   "source": [
    "df['X'].head()"
   ]
  },
  {
   "cell_type": "markdown",
   "metadata": {
    "slideshow": {
     "slide_type": "slide"
    }
   },
   "source": [
    "Selecting more columns returns a DataFrame"
   ]
  },
  {
   "cell_type": "code",
   "execution_count": 31,
   "metadata": {
    "slideshow": {
     "slide_type": "-"
    }
   },
   "outputs": [
    {
     "data": {
      "text/plain": [
       "pandas.core.frame.DataFrame"
      ]
     },
     "execution_count": 31,
     "metadata": {},
     "output_type": "execute_result"
    }
   ],
   "source": [
    "type(df[['X','Y']].head())"
   ]
  },
  {
   "cell_type": "markdown",
   "metadata": {
    "slideshow": {
     "slide_type": "slide"
    }
   },
   "source": [
    "You can also pass slices just like in arrays, with one critical difference: Pandas indices are __labeled__.\n",
    "\n",
    "Thus you need to tell Pandas whether you are giving it a label or a positional index.\n",
    "\n",
    "- `.loc` is for labeled indices.\n",
    "- `.iloc` is for positional indices (integer based)."
   ]
  },
  {
   "cell_type": "code",
   "execution_count": 32,
   "metadata": {
    "slideshow": {
     "slide_type": "slide"
    }
   },
   "outputs": [
    {
     "data": {
      "text/plain": [
       "1.2729391032251058"
      ]
     },
     "execution_count": 32,
     "metadata": {},
     "output_type": "execute_result"
    }
   ],
   "source": [
    "df.loc[0,\"X\"]"
   ]
  },
  {
   "cell_type": "code",
   "execution_count": 33,
   "metadata": {
    "scrolled": true,
    "slideshow": {
     "slide_type": "-"
    }
   },
   "outputs": [
    {
     "ename": "ValueError",
     "evalue": "Location based indexing can only have [integer, integer slice (START point is INCLUDED, END point is EXCLUDED), listlike of integers, boolean array] types",
     "output_type": "error",
     "traceback": [
      "\u001b[1;31m---------------------------------------------------------------------------\u001b[0m",
      "\u001b[1;31mValueError\u001b[0m                                Traceback (most recent call last)",
      "File \u001b[1;32m~\\.conda\\envs\\ace592-24\\Lib\\site-packages\\pandas\\core\\indexing.py:940\u001b[0m, in \u001b[0;36m_LocationIndexer._validate_tuple_indexer\u001b[1;34m(self, key)\u001b[0m\n\u001b[0;32m    939\u001b[0m \u001b[38;5;28;01mtry\u001b[39;00m:\n\u001b[1;32m--> 940\u001b[0m     \u001b[38;5;28;43mself\u001b[39;49m\u001b[38;5;241;43m.\u001b[39;49m\u001b[43m_validate_key\u001b[49m\u001b[43m(\u001b[49m\u001b[43mk\u001b[49m\u001b[43m,\u001b[49m\u001b[43m \u001b[49m\u001b[43mi\u001b[49m\u001b[43m)\u001b[49m\n\u001b[0;32m    941\u001b[0m \u001b[38;5;28;01mexcept\u001b[39;00m \u001b[38;5;167;01mValueError\u001b[39;00m \u001b[38;5;28;01mas\u001b[39;00m err:\n",
      "File \u001b[1;32m~\\.conda\\envs\\ace592-24\\Lib\\site-packages\\pandas\\core\\indexing.py:1576\u001b[0m, in \u001b[0;36m_iLocIndexer._validate_key\u001b[1;34m(self, key, axis)\u001b[0m\n\u001b[0;32m   1575\u001b[0m \u001b[38;5;28;01melse\u001b[39;00m:\n\u001b[1;32m-> 1576\u001b[0m     \u001b[38;5;28;01mraise\u001b[39;00m \u001b[38;5;167;01mValueError\u001b[39;00m(\u001b[38;5;124mf\u001b[39m\u001b[38;5;124m\"\u001b[39m\u001b[38;5;124mCan only index by location with a [\u001b[39m\u001b[38;5;132;01m{\u001b[39;00m\u001b[38;5;28mself\u001b[39m\u001b[38;5;241m.\u001b[39m_valid_types\u001b[38;5;132;01m}\u001b[39;00m\u001b[38;5;124m]\u001b[39m\u001b[38;5;124m\"\u001b[39m)\n",
      "\u001b[1;31mValueError\u001b[0m: Can only index by location with a [integer, integer slice (START point is INCLUDED, END point is EXCLUDED), listlike of integers, boolean array]",
      "\nThe above exception was the direct cause of the following exception:\n",
      "\u001b[1;31mValueError\u001b[0m                                Traceback (most recent call last)",
      "Cell \u001b[1;32mIn[33], line 1\u001b[0m\n\u001b[1;32m----> 1\u001b[0m \u001b[43mdf\u001b[49m\u001b[38;5;241;43m.\u001b[39;49m\u001b[43miloc\u001b[49m\u001b[43m[\u001b[49m\u001b[38;5;241;43m0\u001b[39;49m\u001b[43m,\u001b[49m\u001b[38;5;124;43m\"\u001b[39;49m\u001b[38;5;124;43mX\u001b[39;49m\u001b[38;5;124;43m\"\u001b[39;49m\u001b[43m]\u001b[49m\n",
      "File \u001b[1;32m~\\.conda\\envs\\ace592-24\\Lib\\site-packages\\pandas\\core\\indexing.py:1147\u001b[0m, in \u001b[0;36m_LocationIndexer.__getitem__\u001b[1;34m(self, key)\u001b[0m\n\u001b[0;32m   1145\u001b[0m     \u001b[38;5;28;01mif\u001b[39;00m \u001b[38;5;28mself\u001b[39m\u001b[38;5;241m.\u001b[39m_is_scalar_access(key):\n\u001b[0;32m   1146\u001b[0m         \u001b[38;5;28;01mreturn\u001b[39;00m \u001b[38;5;28mself\u001b[39m\u001b[38;5;241m.\u001b[39mobj\u001b[38;5;241m.\u001b[39m_get_value(\u001b[38;5;241m*\u001b[39mkey, takeable\u001b[38;5;241m=\u001b[39m\u001b[38;5;28mself\u001b[39m\u001b[38;5;241m.\u001b[39m_takeable)\n\u001b[1;32m-> 1147\u001b[0m     \u001b[38;5;28;01mreturn\u001b[39;00m \u001b[38;5;28;43mself\u001b[39;49m\u001b[38;5;241;43m.\u001b[39;49m\u001b[43m_getitem_tuple\u001b[49m\u001b[43m(\u001b[49m\u001b[43mkey\u001b[49m\u001b[43m)\u001b[49m\n\u001b[0;32m   1148\u001b[0m \u001b[38;5;28;01melse\u001b[39;00m:\n\u001b[0;32m   1149\u001b[0m     \u001b[38;5;66;03m# we by definition only have the 0th axis\u001b[39;00m\n\u001b[0;32m   1150\u001b[0m     axis \u001b[38;5;241m=\u001b[39m \u001b[38;5;28mself\u001b[39m\u001b[38;5;241m.\u001b[39maxis \u001b[38;5;129;01mor\u001b[39;00m \u001b[38;5;241m0\u001b[39m\n",
      "File \u001b[1;32m~\\.conda\\envs\\ace592-24\\Lib\\site-packages\\pandas\\core\\indexing.py:1652\u001b[0m, in \u001b[0;36m_iLocIndexer._getitem_tuple\u001b[1;34m(self, tup)\u001b[0m\n\u001b[0;32m   1651\u001b[0m \u001b[38;5;28;01mdef\u001b[39;00m \u001b[38;5;21m_getitem_tuple\u001b[39m(\u001b[38;5;28mself\u001b[39m, tup: \u001b[38;5;28mtuple\u001b[39m):\n\u001b[1;32m-> 1652\u001b[0m     tup \u001b[38;5;241m=\u001b[39m \u001b[38;5;28;43mself\u001b[39;49m\u001b[38;5;241;43m.\u001b[39;49m\u001b[43m_validate_tuple_indexer\u001b[49m\u001b[43m(\u001b[49m\u001b[43mtup\u001b[49m\u001b[43m)\u001b[49m\n\u001b[0;32m   1653\u001b[0m     \u001b[38;5;28;01mwith\u001b[39;00m suppress(IndexingError):\n\u001b[0;32m   1654\u001b[0m         \u001b[38;5;28;01mreturn\u001b[39;00m \u001b[38;5;28mself\u001b[39m\u001b[38;5;241m.\u001b[39m_getitem_lowerdim(tup)\n",
      "File \u001b[1;32m~\\.conda\\envs\\ace592-24\\Lib\\site-packages\\pandas\\core\\indexing.py:942\u001b[0m, in \u001b[0;36m_LocationIndexer._validate_tuple_indexer\u001b[1;34m(self, key)\u001b[0m\n\u001b[0;32m    940\u001b[0m         \u001b[38;5;28mself\u001b[39m\u001b[38;5;241m.\u001b[39m_validate_key(k, i)\n\u001b[0;32m    941\u001b[0m     \u001b[38;5;28;01mexcept\u001b[39;00m \u001b[38;5;167;01mValueError\u001b[39;00m \u001b[38;5;28;01mas\u001b[39;00m err:\n\u001b[1;32m--> 942\u001b[0m         \u001b[38;5;28;01mraise\u001b[39;00m \u001b[38;5;167;01mValueError\u001b[39;00m(\n\u001b[0;32m    943\u001b[0m             \u001b[38;5;124m\"\u001b[39m\u001b[38;5;124mLocation based indexing can only have \u001b[39m\u001b[38;5;124m\"\u001b[39m\n\u001b[0;32m    944\u001b[0m             \u001b[38;5;124mf\u001b[39m\u001b[38;5;124m\"\u001b[39m\u001b[38;5;124m[\u001b[39m\u001b[38;5;132;01m{\u001b[39;00m\u001b[38;5;28mself\u001b[39m\u001b[38;5;241m.\u001b[39m_valid_types\u001b[38;5;132;01m}\u001b[39;00m\u001b[38;5;124m] types\u001b[39m\u001b[38;5;124m\"\u001b[39m\n\u001b[0;32m    945\u001b[0m         ) \u001b[38;5;28;01mfrom\u001b[39;00m \u001b[38;5;21;01merr\u001b[39;00m\n\u001b[0;32m    946\u001b[0m \u001b[38;5;28;01mreturn\u001b[39;00m key\n",
      "\u001b[1;31mValueError\u001b[0m: Location based indexing can only have [integer, integer slice (START point is INCLUDED, END point is EXCLUDED), listlike of integers, boolean array] types"
     ]
    }
   ],
   "source": [
    "df.iloc[0,\"X\"]"
   ]
  },
  {
   "cell_type": "code",
   "execution_count": 35,
   "metadata": {
    "scrolled": true,
    "slideshow": {
     "slide_type": "slide"
    }
   },
   "outputs": [
    {
     "data": {
      "text/plain": [
       "-1.8471798629758027"
      ]
     },
     "execution_count": 35,
     "metadata": {},
     "output_type": "execute_result"
    }
   ],
   "source": [
    "df.loc[2,\"X\"]"
   ]
  },
  {
   "cell_type": "code",
   "execution_count": 36,
   "metadata": {
    "scrolled": true,
    "slideshow": {
     "slide_type": "-"
    }
   },
   "outputs": [
    {
     "data": {
      "text/plain": [
       "-1.8471798629758027"
      ]
     },
     "execution_count": 36,
     "metadata": {},
     "output_type": "execute_result"
    }
   ],
   "source": [
    "df.iloc[2,0]"
   ]
  },
  {
   "cell_type": "markdown",
   "metadata": {
    "slideshow": {
     "slide_type": "slide"
    }
   },
   "source": [
    "### Indexing using Boolean arrays\n",
    "When you pass a DataFrame a Boolean array, it subsets the data to the rows where the value is `True`\n",
    "\n",
    "As long as you understand this, you can do subsetting __very__ easily in Pandas:"
   ]
  },
  {
   "cell_type": "code",
   "execution_count": 37,
   "metadata": {
    "slideshow": {
     "slide_type": "slide"
    }
   },
   "outputs": [
    {
     "data": {
      "text/html": [
       "<div>\n",
       "<style scoped>\n",
       "    .dataframe tbody tr th:only-of-type {\n",
       "        vertical-align: middle;\n",
       "    }\n",
       "\n",
       "    .dataframe tbody tr th {\n",
       "        vertical-align: top;\n",
       "    }\n",
       "\n",
       "    .dataframe thead th {\n",
       "        text-align: right;\n",
       "    }\n",
       "</style>\n",
       "<table border=\"1\" class=\"dataframe\">\n",
       "  <thead>\n",
       "    <tr style=\"text-align: right;\">\n",
       "      <th></th>\n",
       "      <th>X</th>\n",
       "    </tr>\n",
       "  </thead>\n",
       "  <tbody>\n",
       "    <tr>\n",
       "      <th>0</th>\n",
       "      <td>1.272939</td>\n",
       "    </tr>\n",
       "    <tr>\n",
       "      <th>1</th>\n",
       "      <td>1.205877</td>\n",
       "    </tr>\n",
       "    <tr>\n",
       "      <th>2</th>\n",
       "      <td>-1.847180</td>\n",
       "    </tr>\n",
       "    <tr>\n",
       "      <th>3</th>\n",
       "      <td>-0.041302</td>\n",
       "    </tr>\n",
       "    <tr>\n",
       "      <th>4</th>\n",
       "      <td>0.506410</td>\n",
       "    </tr>\n",
       "  </tbody>\n",
       "</table>\n",
       "</div>"
      ],
      "text/plain": [
       "          X\n",
       "0  1.272939\n",
       "1  1.205877\n",
       "2 -1.847180\n",
       "3 -0.041302\n",
       "4  0.506410"
      ]
     },
     "execution_count": 37,
     "metadata": {},
     "output_type": "execute_result"
    }
   ],
   "source": [
    "# On axis 1\n",
    "df.iloc[:,[True,False]].head()"
   ]
  },
  {
   "cell_type": "code",
   "execution_count": 38,
   "metadata": {
    "scrolled": true,
    "slideshow": {
     "slide_type": "slide"
    }
   },
   "outputs": [
    {
     "data": {
      "text/html": [
       "<div>\n",
       "<style scoped>\n",
       "    .dataframe tbody tr th:only-of-type {\n",
       "        vertical-align: middle;\n",
       "    }\n",
       "\n",
       "    .dataframe tbody tr th {\n",
       "        vertical-align: top;\n",
       "    }\n",
       "\n",
       "    .dataframe thead th {\n",
       "        text-align: right;\n",
       "    }\n",
       "</style>\n",
       "<table border=\"1\" class=\"dataframe\">\n",
       "  <thead>\n",
       "    <tr style=\"text-align: right;\">\n",
       "      <th></th>\n",
       "      <th>X</th>\n",
       "    </tr>\n",
       "  </thead>\n",
       "  <tbody>\n",
       "    <tr>\n",
       "      <th>0</th>\n",
       "      <td>1.272939</td>\n",
       "    </tr>\n",
       "    <tr>\n",
       "      <th>2</th>\n",
       "      <td>-1.847180</td>\n",
       "    </tr>\n",
       "    <tr>\n",
       "      <th>4</th>\n",
       "      <td>0.506410</td>\n",
       "    </tr>\n",
       "    <tr>\n",
       "      <th>6</th>\n",
       "      <td>0.762501</td>\n",
       "    </tr>\n",
       "    <tr>\n",
       "      <th>8</th>\n",
       "      <td>0.293218</td>\n",
       "    </tr>\n",
       "  </tbody>\n",
       "</table>\n",
       "</div>"
      ],
      "text/plain": [
       "          X\n",
       "0  1.272939\n",
       "2 -1.847180\n",
       "4  0.506410\n",
       "6  0.762501\n",
       "8  0.293218"
      ]
     },
     "execution_count": 38,
     "metadata": {},
     "output_type": "execute_result"
    }
   ],
   "source": [
    "# On axis 0\n",
    "df.iloc[[True,False]*50,[True,False]].head()"
   ]
  },
  {
   "cell_type": "markdown",
   "metadata": {
    "slideshow": {
     "slide_type": "-"
    }
   },
   "source": [
    "__What did I just do with the code  `df.iloc[[True,False]*50,:].head()`__?"
   ]
  },
  {
   "cell_type": "markdown",
   "metadata": {
    "slideshow": {
     "slide_type": "slide"
    }
   },
   "source": [
    "Step by step:\n",
    "\n",
    "`[True,False]` is a list with two booleans.\n",
    "\n",
    "\n",
    "`[True,False]*50` is that array duplicated 50 times (total length 100) __(This shouldn't work in other languages)__\n",
    "\n",
    "`df.iloc[[True,False]*50,:]` passed the 100 length list to the first axis (rows). This subsets the dataframe to be every other row.\n",
    "\n",
    "`df.iloc[[True,False]*50,:].head()` returns the first 5 rows of the dataframe.\n",
    "\n",
    "Writing good code, I would have spelled these steps out one by one instead of doing only one line and being lazy..."
   ]
  },
  {
   "cell_type": "markdown",
   "metadata": {
    "slideshow": {
     "slide_type": "slide"
    }
   },
   "source": [
    "__Why is this useful?__\n",
    "\n",
    "I can create a boolean Series just by applying a condition to a Series:\n",
    "\n",
    "`df['X'] > 0`\n",
    "\n",
    "I can feed this boolean array into the index:"
   ]
  },
  {
   "cell_type": "code",
   "execution_count": 39,
   "metadata": {},
   "outputs": [
    {
     "data": {
      "text/html": [
       "<div>\n",
       "<style scoped>\n",
       "    .dataframe tbody tr th:only-of-type {\n",
       "        vertical-align: middle;\n",
       "    }\n",
       "\n",
       "    .dataframe tbody tr th {\n",
       "        vertical-align: top;\n",
       "    }\n",
       "\n",
       "    .dataframe thead th {\n",
       "        text-align: right;\n",
       "    }\n",
       "</style>\n",
       "<table border=\"1\" class=\"dataframe\">\n",
       "  <thead>\n",
       "    <tr style=\"text-align: right;\">\n",
       "      <th></th>\n",
       "      <th>X</th>\n",
       "      <th>Y</th>\n",
       "    </tr>\n",
       "  </thead>\n",
       "  <tbody>\n",
       "    <tr>\n",
       "      <th>2</th>\n",
       "      <td>-1.847180</td>\n",
       "      <td>-3.369147</td>\n",
       "    </tr>\n",
       "    <tr>\n",
       "      <th>3</th>\n",
       "      <td>-0.041302</td>\n",
       "      <td>-1.666680</td>\n",
       "    </tr>\n",
       "    <tr>\n",
       "      <th>5</th>\n",
       "      <td>-0.635391</td>\n",
       "      <td>0.139623</td>\n",
       "    </tr>\n",
       "    <tr>\n",
       "      <th>10</th>\n",
       "      <td>-1.037711</td>\n",
       "      <td>-1.278398</td>\n",
       "    </tr>\n",
       "    <tr>\n",
       "      <th>12</th>\n",
       "      <td>-0.039743</td>\n",
       "      <td>0.073202</td>\n",
       "    </tr>\n",
       "  </tbody>\n",
       "</table>\n",
       "</div>"
      ],
      "text/plain": [
       "           X         Y\n",
       "2  -1.847180 -3.369147\n",
       "3  -0.041302 -1.666680\n",
       "5  -0.635391  0.139623\n",
       "10 -1.037711 -1.278398\n",
       "12 -0.039743  0.073202"
      ]
     },
     "execution_count": 39,
     "metadata": {},
     "output_type": "execute_result"
    }
   ],
   "source": [
    "df[df['X']<0].head()"
   ]
  },
  {
   "cell_type": "code",
   "execution_count": 40,
   "metadata": {
    "slideshow": {
     "slide_type": "slide"
    }
   },
   "outputs": [
    {
     "data": {
      "text/plain": [
       "-0.0036293568405741084"
      ]
     },
     "execution_count": 40,
     "metadata": {},
     "output_type": "execute_result"
    }
   ],
   "source": [
    "df[(df['X']<0)]['X'].max()"
   ]
  },
  {
   "cell_type": "markdown",
   "metadata": {
    "slideshow": {
     "slide_type": "-"
    }
   },
   "source": [
    "By default, feeding it into brackets feeds it into the first axis.\n",
    "\n",
    "But if I feed it a label, it also knows to first check whether this is a column.\n",
    "\n",
    "This is part of why Python is easy to use, but also __easy to screw things up__."
   ]
  },
  {
   "cell_type": "markdown",
   "metadata": {
    "slideshow": {
     "slide_type": "slide"
    }
   },
   "source": [
    "### Methods\n",
    "This is one of the reasons I got hooked on Python. Pandas DataFrames have several built-in methods that make data manipulation __very easy__.\n",
    "\n",
    "Also, there are ways to easily apply your own functions to dataframes, which is good for data cleaning.\n",
    "\n",
    "Some key ones:\n",
    "- built in data frame methods\n",
    "- `groupby()`\n",
    "- `apply()` and `map()`"
   ]
  },
  {
   "cell_type": "markdown",
   "metadata": {
    "slideshow": {
     "slide_type": "slide"
    }
   },
   "source": [
    "#### Stats functions.\n",
    "All of the major moments:"
   ]
  },
  {
   "cell_type": "code",
   "execution_count": 41,
   "metadata": {
    "scrolled": true,
    "slideshow": {
     "slide_type": "-"
    }
   },
   "outputs": [
    {
     "data": {
      "text/plain": [
       "(X    0.087938\n",
       " Y    0.282597\n",
       " dtype: float64,\n",
       " X    1.034836\n",
       " Y    2.206594\n",
       " dtype: float64,\n",
       " X    1.070885\n",
       " Y    4.869056\n",
       " dtype: float64,\n",
       " X   -0.236591\n",
       " Y   -0.183871\n",
       " dtype: float64,\n",
       " X   -0.252898\n",
       " Y    0.028933\n",
       " dtype: float64)"
      ]
     },
     "execution_count": 41,
     "metadata": {},
     "output_type": "execute_result"
    }
   ],
   "source": [
    "df.mean(), df.std(), df.var(), df.skew(), df.kurtosis()"
   ]
  },
  {
   "cell_type": "markdown",
   "metadata": {
    "slideshow": {
     "slide_type": "slide"
    }
   },
   "source": [
    "Correlations:"
   ]
  },
  {
   "cell_type": "code",
   "execution_count": 42,
   "metadata": {
    "slideshow": {
     "slide_type": "-"
    }
   },
   "outputs": [
    {
     "data": {
      "text/html": [
       "<div>\n",
       "<style scoped>\n",
       "    .dataframe tbody tr th:only-of-type {\n",
       "        vertical-align: middle;\n",
       "    }\n",
       "\n",
       "    .dataframe tbody tr th {\n",
       "        vertical-align: top;\n",
       "    }\n",
       "\n",
       "    .dataframe thead th {\n",
       "        text-align: right;\n",
       "    }\n",
       "</style>\n",
       "<table border=\"1\" class=\"dataframe\">\n",
       "  <thead>\n",
       "    <tr style=\"text-align: right;\">\n",
       "      <th></th>\n",
       "      <th>X</th>\n",
       "      <th>Y</th>\n",
       "    </tr>\n",
       "  </thead>\n",
       "  <tbody>\n",
       "    <tr>\n",
       "      <th>X</th>\n",
       "      <td>1.00000</td>\n",
       "      <td>0.87496</td>\n",
       "    </tr>\n",
       "    <tr>\n",
       "      <th>Y</th>\n",
       "      <td>0.87496</td>\n",
       "      <td>1.00000</td>\n",
       "    </tr>\n",
       "  </tbody>\n",
       "</table>\n",
       "</div>"
      ],
      "text/plain": [
       "         X        Y\n",
       "X  1.00000  0.87496\n",
       "Y  0.87496  1.00000"
      ]
     },
     "execution_count": 42,
     "metadata": {},
     "output_type": "execute_result"
    }
   ],
   "source": [
    "df.corr()"
   ]
  },
  {
   "cell_type": "markdown",
   "metadata": {
    "slideshow": {
     "slide_type": "slide"
    }
   },
   "source": [
    "#### Sequential operations.\n",
    "Such as differences and shifts:"
   ]
  },
  {
   "cell_type": "code",
   "execution_count": 43,
   "metadata": {
    "slideshow": {
     "slide_type": "-"
    }
   },
   "outputs": [
    {
     "data": {
      "text/html": [
       "<div>\n",
       "<style scoped>\n",
       "    .dataframe tbody tr th:only-of-type {\n",
       "        vertical-align: middle;\n",
       "    }\n",
       "\n",
       "    .dataframe tbody tr th {\n",
       "        vertical-align: top;\n",
       "    }\n",
       "\n",
       "    .dataframe thead th {\n",
       "        text-align: right;\n",
       "    }\n",
       "</style>\n",
       "<table border=\"1\" class=\"dataframe\">\n",
       "  <thead>\n",
       "    <tr style=\"text-align: right;\">\n",
       "      <th></th>\n",
       "      <th>X</th>\n",
       "      <th>Y</th>\n",
       "      <th>D_X</th>\n",
       "      <th>L_X</th>\n",
       "    </tr>\n",
       "  </thead>\n",
       "  <tbody>\n",
       "    <tr>\n",
       "      <th>0</th>\n",
       "      <td>1.272939</td>\n",
       "      <td>1.374978</td>\n",
       "      <td>NaN</td>\n",
       "      <td>NaN</td>\n",
       "    </tr>\n",
       "    <tr>\n",
       "      <th>1</th>\n",
       "      <td>1.205877</td>\n",
       "      <td>1.947600</td>\n",
       "      <td>-0.067062</td>\n",
       "      <td>1.272939</td>\n",
       "    </tr>\n",
       "    <tr>\n",
       "      <th>2</th>\n",
       "      <td>-1.847180</td>\n",
       "      <td>-3.369147</td>\n",
       "      <td>-3.053057</td>\n",
       "      <td>1.205877</td>\n",
       "    </tr>\n",
       "    <tr>\n",
       "      <th>3</th>\n",
       "      <td>-0.041302</td>\n",
       "      <td>-1.666680</td>\n",
       "      <td>1.805878</td>\n",
       "      <td>-1.847180</td>\n",
       "    </tr>\n",
       "    <tr>\n",
       "      <th>4</th>\n",
       "      <td>0.506410</td>\n",
       "      <td>1.216112</td>\n",
       "      <td>0.547712</td>\n",
       "      <td>-0.041302</td>\n",
       "    </tr>\n",
       "  </tbody>\n",
       "</table>\n",
       "</div>"
      ],
      "text/plain": [
       "          X         Y       D_X       L_X\n",
       "0  1.272939  1.374978       NaN       NaN\n",
       "1  1.205877  1.947600 -0.067062  1.272939\n",
       "2 -1.847180 -3.369147 -3.053057  1.205877\n",
       "3 -0.041302 -1.666680  1.805878 -1.847180\n",
       "4  0.506410  1.216112  0.547712 -0.041302"
      ]
     },
     "execution_count": 43,
     "metadata": {},
     "output_type": "execute_result"
    }
   ],
   "source": [
    "df['D_X'] = df['X'].diff()\n",
    "df['L_X'] = df['X'].shift()\n",
    "\n",
    "df.head()"
   ]
  },
  {
   "cell_type": "markdown",
   "metadata": {
    "slideshow": {
     "slide_type": "slide"
    }
   },
   "source": [
    "Even random things like \"percent change\""
   ]
  },
  {
   "cell_type": "code",
   "execution_count": 44,
   "metadata": {
    "slideshow": {
     "slide_type": "-"
    }
   },
   "outputs": [
    {
     "data": {
      "text/plain": [
       "0           NaN\n",
       "1     -0.052683\n",
       "2     -2.531815\n",
       "3     -0.977641\n",
       "4    -13.261210\n",
       "        ...    \n",
       "95     0.472981\n",
       "96     8.103824\n",
       "97    -0.895169\n",
       "98     7.172393\n",
       "99    -0.215501\n",
       "Name: X, Length: 100, dtype: float64"
      ]
     },
     "execution_count": 44,
     "metadata": {},
     "output_type": "execute_result"
    }
   ],
   "source": [
    "df['X'].pct_change()"
   ]
  },
  {
   "cell_type": "markdown",
   "metadata": {
    "slideshow": {
     "slide_type": "slide"
    }
   },
   "source": [
    "#### Useful data exploration ones:"
   ]
  },
  {
   "cell_type": "code",
   "execution_count": 45,
   "metadata": {
    "slideshow": {
     "slide_type": "-"
    }
   },
   "outputs": [
    {
     "data": {
      "text/plain": [
       "99"
      ]
     },
     "execution_count": 45,
     "metadata": {},
     "output_type": "execute_result"
    }
   ],
   "source": [
    "# How many non-null values are there?\n",
    "df['D_X'].count()"
   ]
  },
  {
   "cell_type": "code",
   "execution_count": 46,
   "metadata": {
    "slideshow": {
     "slide_type": "-"
    }
   },
   "outputs": [
    {
     "data": {
      "text/plain": [
       "2"
      ]
     },
     "execution_count": 46,
     "metadata": {},
     "output_type": "execute_result"
    }
   ],
   "source": [
    "df['D_X_neg'] = df['D_X']<0\n",
    "# How many unique values are there?\n",
    "df['D_X_neg'].nunique()"
   ]
  },
  {
   "cell_type": "code",
   "execution_count": 47,
   "metadata": {},
   "outputs": [
    {
     "data": {
      "text/plain": [
       "D_X_neg\n",
       "True     51\n",
       "False    49\n",
       "Name: count, dtype: int64"
      ]
     },
     "execution_count": 47,
     "metadata": {},
     "output_type": "execute_result"
    }
   ],
   "source": [
    "# How many occurences of each unique value?\n",
    "df['D_X_neg'].value_counts()"
   ]
  },
  {
   "cell_type": "code",
   "execution_count": 48,
   "metadata": {
    "slideshow": {
     "slide_type": "-"
    }
   },
   "outputs": [
    {
     "data": {
      "text/plain": [
       "array([False,  True])"
      ]
     },
     "execution_count": 48,
     "metadata": {},
     "output_type": "execute_result"
    }
   ],
   "source": [
    "# What are those unique values?\n",
    "df['D_X_neg'].unique()"
   ]
  },
  {
   "cell_type": "code",
   "execution_count": 49,
   "metadata": {
    "slideshow": {
     "slide_type": "slide"
    }
   },
   "outputs": [
    {
     "data": {
      "text/html": [
       "<div>\n",
       "<style scoped>\n",
       "    .dataframe tbody tr th:only-of-type {\n",
       "        vertical-align: middle;\n",
       "    }\n",
       "\n",
       "    .dataframe tbody tr th {\n",
       "        vertical-align: top;\n",
       "    }\n",
       "\n",
       "    .dataframe thead th {\n",
       "        text-align: right;\n",
       "    }\n",
       "</style>\n",
       "<table border=\"1\" class=\"dataframe\">\n",
       "  <thead>\n",
       "    <tr style=\"text-align: right;\">\n",
       "      <th></th>\n",
       "      <th>X</th>\n",
       "      <th>Y</th>\n",
       "      <th>D_X</th>\n",
       "      <th>L_X</th>\n",
       "    </tr>\n",
       "  </thead>\n",
       "  <tbody>\n",
       "    <tr>\n",
       "      <th>count</th>\n",
       "      <td>100.000000</td>\n",
       "      <td>100.000000</td>\n",
       "      <td>99.000000</td>\n",
       "      <td>99.000000</td>\n",
       "    </tr>\n",
       "    <tr>\n",
       "      <th>mean</th>\n",
       "      <td>0.087938</td>\n",
       "      <td>0.282597</td>\n",
       "      <td>-0.024803</td>\n",
       "      <td>0.100772</td>\n",
       "    </tr>\n",
       "    <tr>\n",
       "      <th>std</th>\n",
       "      <td>1.034836</td>\n",
       "      <td>2.206594</td>\n",
       "      <td>1.540455</td>\n",
       "      <td>1.032073</td>\n",
       "    </tr>\n",
       "    <tr>\n",
       "      <th>min</th>\n",
       "      <td>-2.729829</td>\n",
       "      <td>-5.417897</td>\n",
       "      <td>-3.422567</td>\n",
       "      <td>-2.729829</td>\n",
       "    </tr>\n",
       "    <tr>\n",
       "      <th>25%</th>\n",
       "      <td>-0.636255</td>\n",
       "      <td>-1.108711</td>\n",
       "      <td>-1.232396</td>\n",
       "      <td>-0.617091</td>\n",
       "    </tr>\n",
       "    <tr>\n",
       "      <th>50%</th>\n",
       "      <td>0.124404</td>\n",
       "      <td>0.248481</td>\n",
       "      <td>-0.024162</td>\n",
       "      <td>0.153946</td>\n",
       "    </tr>\n",
       "    <tr>\n",
       "      <th>75%</th>\n",
       "      <td>0.885143</td>\n",
       "      <td>1.708786</td>\n",
       "      <td>1.114644</td>\n",
       "      <td>0.886735</td>\n",
       "    </tr>\n",
       "    <tr>\n",
       "      <th>max</th>\n",
       "      <td>2.321492</td>\n",
       "      <td>5.347714</td>\n",
       "      <td>4.426430</td>\n",
       "      <td>2.321492</td>\n",
       "    </tr>\n",
       "  </tbody>\n",
       "</table>\n",
       "</div>"
      ],
      "text/plain": [
       "                X           Y        D_X        L_X\n",
       "count  100.000000  100.000000  99.000000  99.000000\n",
       "mean     0.087938    0.282597  -0.024803   0.100772\n",
       "std      1.034836    2.206594   1.540455   1.032073\n",
       "min     -2.729829   -5.417897  -3.422567  -2.729829\n",
       "25%     -0.636255   -1.108711  -1.232396  -0.617091\n",
       "50%      0.124404    0.248481  -0.024162   0.153946\n",
       "75%      0.885143    1.708786   1.114644   0.886735\n",
       "max      2.321492    5.347714   4.426430   2.321492"
      ]
     },
     "execution_count": 49,
     "metadata": {},
     "output_type": "execute_result"
    }
   ],
   "source": [
    "df.describe()"
   ]
  },
  {
   "cell_type": "code",
   "execution_count": 50,
   "metadata": {
    "slideshow": {
     "slide_type": "-"
    }
   },
   "outputs": [
    {
     "data": {
      "text/html": [
       "<div>\n",
       "<style scoped>\n",
       "    .dataframe tbody tr th:only-of-type {\n",
       "        vertical-align: middle;\n",
       "    }\n",
       "\n",
       "    .dataframe tbody tr th {\n",
       "        vertical-align: top;\n",
       "    }\n",
       "\n",
       "    .dataframe thead th {\n",
       "        text-align: right;\n",
       "    }\n",
       "</style>\n",
       "<table border=\"1\" class=\"dataframe\">\n",
       "  <thead>\n",
       "    <tr style=\"text-align: right;\">\n",
       "      <th></th>\n",
       "      <th>D_X_neg</th>\n",
       "    </tr>\n",
       "  </thead>\n",
       "  <tbody>\n",
       "    <tr>\n",
       "      <th>0</th>\n",
       "      <td>False</td>\n",
       "    </tr>\n",
       "    <tr>\n",
       "      <th>1</th>\n",
       "      <td>True</td>\n",
       "    </tr>\n",
       "  </tbody>\n",
       "</table>\n",
       "</div>"
      ],
      "text/plain": [
       "   D_X_neg\n",
       "0    False\n",
       "1     True"
      ]
     },
     "execution_count": 50,
     "metadata": {},
     "output_type": "execute_result"
    }
   ],
   "source": [
    "df[['D_X_neg']].drop_duplicates()"
   ]
  },
  {
   "cell_type": "markdown",
   "metadata": {
    "slideshow": {
     "slide_type": "slide"
    }
   },
   "source": [
    "#### Making quick plots:"
   ]
  },
  {
   "cell_type": "code",
   "execution_count": 51,
   "metadata": {
    "scrolled": true,
    "slideshow": {
     "slide_type": "-"
    }
   },
   "outputs": [
    {
     "data": {
      "text/plain": [
       "<Axes: ylabel='Frequency'>"
      ]
     },
     "execution_count": 51,
     "metadata": {},
     "output_type": "execute_result"
    },
    {
     "data": {
      "image/png": "[encoded data removed]",
      "text/plain": [
       "<Figure size 640x480 with 1 Axes>"
      ]
     },
     "metadata": {},
     "output_type": "display_data"
    }
   ],
   "source": [
    "df['X'].plot(kind='hist',bins=20,color=\"C0\")"
   ]
  },
  {
   "cell_type": "code",
   "execution_count": 52,
   "metadata": {
    "slideshow": {
     "slide_type": "slide"
    }
   },
   "outputs": [
    {
     "data": {
      "text/plain": [
       "<Axes: ylabel='Density'>"
      ]
     },
     "execution_count": 52,
     "metadata": {},
     "output_type": "execute_result"
    },
    {
     "data": {
      "image/png": "[encoded data removed]",
      "text/plain": [
       "<Figure size 640x480 with 1 Axes>"
      ]
     },
     "metadata": {},
     "output_type": "display_data"
    }
   ],
   "source": [
    "df.plot(kind='density',color=[\"C0\",\"C2\",\"C3\"])"
   ]
  },
  {
   "cell_type": "code",
   "execution_count": 53,
   "metadata": {
    "scrolled": true,
    "slideshow": {
     "slide_type": "slide"
    }
   },
   "outputs": [
    {
     "data": {
      "text/plain": [
       "<Axes: xlabel='X', ylabel='Y'>"
      ]
     },
     "execution_count": 53,
     "metadata": {},
     "output_type": "execute_result"
    },
    {
     "data": {
      "image/png": "[encoded data removed]",
      "text/plain": [
       "<Figure size 640x480 with 1 Axes>"
      ]
     },
     "metadata": {},
     "output_type": "display_data"
    }
   ],
   "source": [
    "df.plot(kind='scatter',x=\"X\",y=\"Y\")"
   ]
  },
  {
   "cell_type": "markdown",
   "metadata": {
    "slideshow": {
     "slide_type": "slide"
    }
   },
   "source": [
    "#### Groupby\n",
    "\n",
    "Ok, now for the really cool one: `groupby`\n",
    "\n",
    "Groupby takes an argument that is a discrete variable and then applies whatever built in function you call to each group."
   ]
  },
  {
   "cell_type": "code",
   "execution_count": 54,
   "metadata": {
    "slideshow": {
     "slide_type": "-"
    }
   },
   "outputs": [
    {
     "data": {
      "text/html": [
       "<div>\n",
       "<style scoped>\n",
       "    .dataframe tbody tr th:only-of-type {\n",
       "        vertical-align: middle;\n",
       "    }\n",
       "\n",
       "    .dataframe tbody tr th {\n",
       "        vertical-align: top;\n",
       "    }\n",
       "\n",
       "    .dataframe thead th {\n",
       "        text-align: right;\n",
       "    }\n",
       "</style>\n",
       "<table border=\"1\" class=\"dataframe\">\n",
       "  <thead>\n",
       "    <tr style=\"text-align: right;\">\n",
       "      <th></th>\n",
       "      <th>X</th>\n",
       "      <th>Y</th>\n",
       "      <th>D_X</th>\n",
       "      <th>L_X</th>\n",
       "    </tr>\n",
       "    <tr>\n",
       "      <th>D_X_neg</th>\n",
       "      <th></th>\n",
       "      <th></th>\n",
       "      <th></th>\n",
       "      <th></th>\n",
       "    </tr>\n",
       "  </thead>\n",
       "  <tbody>\n",
       "    <tr>\n",
       "      <th>False</th>\n",
       "      <td>0.705027</td>\n",
       "      <td>1.373382</td>\n",
       "      <td>1.277134</td>\n",
       "      <td>-0.583938</td>\n",
       "    </tr>\n",
       "    <tr>\n",
       "      <th>True</th>\n",
       "      <td>-0.504952</td>\n",
       "      <td>-0.765413</td>\n",
       "      <td>-1.250156</td>\n",
       "      <td>0.745204</td>\n",
       "    </tr>\n",
       "  </tbody>\n",
       "</table>\n",
       "</div>"
      ],
      "text/plain": [
       "                X         Y       D_X       L_X\n",
       "D_X_neg                                        \n",
       "False    0.705027  1.373382  1.277134 -0.583938\n",
       "True    -0.504952 -0.765413 -1.250156  0.745204"
      ]
     },
     "execution_count": 54,
     "metadata": {},
     "output_type": "execute_result"
    }
   ],
   "source": [
    "df.groupby(\"D_X_neg\").mean()"
   ]
  },
  {
   "cell_type": "code",
   "execution_count": 55,
   "metadata": {
    "slideshow": {
     "slide_type": "-"
    }
   },
   "outputs": [
    {
     "data": {
      "text/html": [
       "<div>\n",
       "<style scoped>\n",
       "    .dataframe tbody tr th:only-of-type {\n",
       "        vertical-align: middle;\n",
       "    }\n",
       "\n",
       "    .dataframe tbody tr th {\n",
       "        vertical-align: top;\n",
       "    }\n",
       "\n",
       "    .dataframe thead th {\n",
       "        text-align: right;\n",
       "    }\n",
       "</style>\n",
       "<table border=\"1\" class=\"dataframe\">\n",
       "  <thead>\n",
       "    <tr style=\"text-align: right;\">\n",
       "      <th></th>\n",
       "      <th>X</th>\n",
       "      <th>Y</th>\n",
       "      <th>D_X</th>\n",
       "      <th>L_X</th>\n",
       "    </tr>\n",
       "    <tr>\n",
       "      <th>D_X_neg</th>\n",
       "      <th></th>\n",
       "      <th></th>\n",
       "      <th></th>\n",
       "      <th></th>\n",
       "    </tr>\n",
       "  </thead>\n",
       "  <tbody>\n",
       "    <tr>\n",
       "      <th>False</th>\n",
       "      <td>34.546341</td>\n",
       "      <td>67.295739</td>\n",
       "      <td>61.302411</td>\n",
       "      <td>-28.029009</td>\n",
       "    </tr>\n",
       "    <tr>\n",
       "      <th>True</th>\n",
       "      <td>-25.752532</td>\n",
       "      <td>-39.036053</td>\n",
       "      <td>-63.757941</td>\n",
       "      <td>38.005409</td>\n",
       "    </tr>\n",
       "  </tbody>\n",
       "</table>\n",
       "</div>"
      ],
      "text/plain": [
       "                 X          Y        D_X        L_X\n",
       "D_X_neg                                            \n",
       "False    34.546341  67.295739  61.302411 -28.029009\n",
       "True    -25.752532 -39.036053 -63.757941  38.005409"
      ]
     },
     "execution_count": 55,
     "metadata": {},
     "output_type": "execute_result"
    }
   ],
   "source": [
    "df.groupby(\"D_X_neg\").sum()"
   ]
  },
  {
   "cell_type": "markdown",
   "metadata": {
    "slideshow": {
     "slide_type": "slide"
    }
   },
   "source": [
    "A really useful application is __panel data__. If you have individual $i$ in time $t$, you can produce first differences of any variable by writing:\n",
    "\n",
    "`df = df.sort_values([\"i\",\"t\"])`\n",
    "\n",
    "`df.groupby('i')['var'].diff()`\n",
    "\n",
    "The first statement is key, because the `diff` function takes the difference based on the order it comes in the dataframe. By putting it in order first, you can use `diff` or `shift` to produce differences or lags.\n",
    "\n",
    "__Note:__ `diff` and `shift` take an argument, which is how many periods you want to shift or diff (order of the lag or difference)"
   ]
  },
  {
   "cell_type": "markdown",
   "metadata": {
    "slideshow": {
     "slide_type": "slide"
    }
   },
   "source": [
    "#### Apply and map\n",
    "Crucially, you can also use your own functions in the dataframe.\n",
    "\n",
    "- Element by element functions.\n",
    "- Group by group functions.\n",
    "\n",
    "__map__ is for Series, whereas __apply__ is for dataframes.\n",
    "\n",
    "Suppose I wanted to add the word \"dog\" to the end of every value of a column. We want to use map for this, and you must write the function as if it is receiving a scalar input."
   ]
  },
  {
   "cell_type": "code",
   "execution_count": 56,
   "metadata": {
    "slideshow": {
     "slide_type": "slide"
    }
   },
   "outputs": [
    {
     "data": {
      "text/plain": [
       "0      1.27dog\n",
       "1      1.21dog\n",
       "2     -1.85dog\n",
       "3     -0.04dog\n",
       "4      0.51dog\n",
       "        ...   \n",
       "95    -0.19dog\n",
       "96    -1.76dog\n",
       "97    -0.18dog\n",
       "98    -1.51dog\n",
       "99    -1.18dog\n",
       "Name: X, Length: 100, dtype: object"
      ]
     },
     "execution_count": 56,
     "metadata": {},
     "output_type": "execute_result"
    }
   ],
   "source": [
    "def add_dog(x):\n",
    "    return str( round(x, 2) )+ \"dog\"\n",
    "\n",
    "df['X'].map(add_dog)"
   ]
  },
  {
   "cell_type": "markdown",
   "metadata": {
    "slideshow": {
     "slide_type": "slide"
    }
   },
   "source": [
    "#### Another aside: lambda functions\n",
    "\n",
    "In python, these two things are equivalent:\n",
    "- ` def add_dog(x): str( round(x,2) ) + \"dog\"`\n",
    "- ` add_dog = lambda x: str( round(x,2) ) + \"dog\"`\n",
    "\n",
    "The second is an example of a __lambda function__."
   ]
  },
  {
   "cell_type": "markdown",
   "metadata": {
    "slideshow": {
     "slide_type": "slide"
    }
   },
   "source": [
    "Example:"
   ]
  },
  {
   "cell_type": "code",
   "execution_count": 57,
   "metadata": {
    "slideshow": {
     "slide_type": "-"
    }
   },
   "outputs": [
    {
     "data": {
      "text/plain": [
       "'dogcat'"
      ]
     },
     "execution_count": 57,
     "metadata": {},
     "output_type": "execute_result"
    }
   ],
   "source": [
    "add_cat = lambda x: str(x) + \"cat\"\n",
    "\n",
    "add_cat(\"dog\")"
   ]
  },
  {
   "cell_type": "markdown",
   "metadata": {
    "slideshow": {
     "slide_type": "-"
    }
   },
   "source": [
    "This a quicker way to write small functions very quickly."
   ]
  },
  {
   "cell_type": "markdown",
   "metadata": {
    "slideshow": {
     "slide_type": "slide"
    }
   },
   "source": [
    "Lambda functions can be made on the fly and are ideal for functions you don't want to use more than once. We can make one for this function and `map` will accept it:"
   ]
  },
  {
   "cell_type": "code",
   "execution_count": 58,
   "metadata": {
    "slideshow": {
     "slide_type": "-"
    }
   },
   "outputs": [
    {
     "data": {
      "text/plain": [
       "0     1.27dog\n",
       "1     1.21dog\n",
       "2    -1.85dog\n",
       "3    -0.04dog\n",
       "4     0.51dog\n",
       "Name: X, dtype: object"
      ]
     },
     "execution_count": 58,
     "metadata": {},
     "output_type": "execute_result"
    }
   ],
   "source": [
    "           # Lambda functions have this form: \n",
    "           #lambda var: then_write_your_function_of_var\n",
    "df['X'].map(lambda x: str( round(x, 2) ) + \"dog\").head()"
   ]
  },
  {
   "cell_type": "markdown",
   "metadata": {
    "slideshow": {
     "slide_type": "slide"
    }
   },
   "source": [
    "If we need a function that applies across an axis, that is when we need __apply__, and you must write the function as if it is receiving a column or row."
   ]
  },
  {
   "cell_type": "code",
   "execution_count": 59,
   "metadata": {
    "slideshow": {
     "slide_type": "-"
    }
   },
   "outputs": [],
   "source": [
    "def stringify(column):\n",
    "    return column.astype(str).sum()"
   ]
  },
  {
   "cell_type": "code",
   "execution_count": 60,
   "metadata": {
    "slideshow": {
     "slide_type": "slide"
    }
   },
   "outputs": [
    {
     "data": {
      "text/plain": [
       "0       1.27293910322510581.3749783045568311nannanFalse\n",
       "1     1.20587681036382491.9475996342948225-0.0670622...\n",
       "2     -1.8471798629758027-3.369146648273445-3.053056...\n",
       "3     -0.041301807687922285-1.6666804656918391.80587...\n",
       "4     0.50641014261635751.21611178767057070.54771195...\n",
       "                            ...                        \n",
       "95    -0.193276438438215350.4594097601328363-0.06206...\n",
       "96    -1.7595545939539952-3.4039736879134948-1.56627...\n",
       "97    -0.18445610118927020.184946926306464921.575098...\n",
       "98    -1.5074478313430582-2.9887558261588354-1.32299...\n",
       "99    -1.182591131933452-2.0999645801593340.32485669...\n",
       "Length: 100, dtype: object"
      ]
     },
     "execution_count": 60,
     "metadata": {},
     "output_type": "execute_result"
    }
   ],
   "source": [
    "df.apply(stringify,axis=1)"
   ]
  },
  {
   "cell_type": "code",
   "execution_count": 61,
   "metadata": {
    "slideshow": {
     "slide_type": "-"
    }
   },
   "outputs": [
    {
     "data": {
      "text/plain": [
       "X          1.27293910322510581.2058768103638249-1.8471798...\n",
       "Y          1.37497830455683111.9475996342948225-3.3691466...\n",
       "D_X        nan-0.06706229286128096-3.05305667333962741.80...\n",
       "L_X        nan1.27293910322510581.2058768103638249-1.8471...\n",
       "D_X_neg    FalseTrueTrueFalseFalseTrueFalseTrueFalseFalse...\n",
       "dtype: object"
      ]
     },
     "execution_count": 61,
     "metadata": {},
     "output_type": "execute_result"
    }
   ],
   "source": [
    "df.apply(stringify,axis=0)"
   ]
  },
  {
   "cell_type": "markdown",
   "metadata": {
    "slideshow": {
     "slide_type": "slide"
    }
   },
   "source": [
    "#### Group functions\n",
    "\n",
    "Suppose we wanted to standardize a variable to mean 0 and standard deviation 1."
   ]
  },
  {
   "cell_type": "code",
   "execution_count": 62,
   "metadata": {
    "scrolled": true,
    "slideshow": {
     "slide_type": "-"
    }
   },
   "outputs": [
    {
     "data": {
      "text/plain": [
       "(4.985207017883968, 0.2045324768469099)"
      ]
     },
     "execution_count": 62,
     "metadata": {},
     "output_type": "execute_result"
    }
   ],
   "source": [
    "df[\"Z\"] = np.random.randn(100)*.2 +5\n",
    "\n",
    "df['Z'].mean(), \\\n",
    "df['Z'].std()"
   ]
  },
  {
   "cell_type": "markdown",
   "metadata": {
    "slideshow": {
     "slide_type": "slide"
    }
   },
   "source": [
    "Let's write a function that does that:"
   ]
  },
  {
   "cell_type": "code",
   "execution_count": 63,
   "metadata": {
    "slideshow": {
     "slide_type": "-"
    }
   },
   "outputs": [],
   "source": [
    "def standardize(column):\n",
    "    return ( column - column.mean() )  /  column.std()"
   ]
  },
  {
   "cell_type": "code",
   "execution_count": 64,
   "metadata": {
    "slideshow": {
     "slide_type": "-"
    }
   },
   "outputs": [
    {
     "data": {
      "text/plain": [
       "(3.3506530883187224e-15, 1.0)"
      ]
     },
     "execution_count": 64,
     "metadata": {},
     "output_type": "execute_result"
    }
   ],
   "source": [
    "standardize(df['Z']).mean(),\\\n",
    "standardize(df['Z']).std()"
   ]
  },
  {
   "cell_type": "markdown",
   "metadata": {
    "slideshow": {
     "slide_type": "slide"
    }
   },
   "source": [
    "__We can also do this operation group by group:__"
   ]
  },
  {
   "cell_type": "code",
   "execution_count": 65,
   "metadata": {
    "slideshow": {
     "slide_type": "-"
    }
   },
   "outputs": [],
   "source": [
    "group_object = df.groupby(\"D_X_neg\",group_keys=False)\n",
    "\n",
    "df['Z_stdized_g'] = group_object['Z'].apply(standardize)"
   ]
  },
  {
   "cell_type": "code",
   "execution_count": 66,
   "metadata": {
    "slideshow": {
     "slide_type": "-"
    }
   },
   "outputs": [
    {
     "data": {
      "text/plain": [
       "D_X_neg\n",
       "False    2.560310e-16\n",
       "True     2.307522e-15\n",
       "Name: Z_stdized_g, dtype: float64"
      ]
     },
     "execution_count": 66,
     "metadata": {},
     "output_type": "execute_result"
    }
   ],
   "source": [
    "df.groupby(\"D_X_neg\")['Z_stdized_g'].mean()"
   ]
  },
  {
   "cell_type": "markdown",
   "metadata": {
    "slideshow": {
     "slide_type": "-"
    }
   },
   "source": [
    "Super handy for doing data cleaning procedures by groups."
   ]
  },
  {
   "cell_type": "markdown",
   "metadata": {
    "slideshow": {
     "slide_type": "slide"
    }
   },
   "source": [
    "### Another handy use of \".loc\"\n",
    "You can do a \"find and replace\" using .loc in your dataframe.\n",
    "\n",
    "Suppose that you think all values of `X` below zero create mistakes in `Z`, and you want to replace values of `Z` with `NaN` if that is the case.\n",
    "\n",
    "`.loc` allows you to do this kind of conditional replacement."
   ]
  },
  {
   "cell_type": "code",
   "execution_count": 67,
   "metadata": {
    "slideshow": {
     "slide_type": "slide"
    }
   },
   "outputs": [
    {
     "data": {
      "text/html": [
       "<div>\n",
       "<style scoped>\n",
       "    .dataframe tbody tr th:only-of-type {\n",
       "        vertical-align: middle;\n",
       "    }\n",
       "\n",
       "    .dataframe tbody tr th {\n",
       "        vertical-align: top;\n",
       "    }\n",
       "\n",
       "    .dataframe thead th {\n",
       "        text-align: right;\n",
       "    }\n",
       "</style>\n",
       "<table border=\"1\" class=\"dataframe\">\n",
       "  <thead>\n",
       "    <tr style=\"text-align: right;\">\n",
       "      <th></th>\n",
       "      <th>X</th>\n",
       "      <th>Y</th>\n",
       "      <th>D_X</th>\n",
       "      <th>L_X</th>\n",
       "      <th>D_X_neg</th>\n",
       "      <th>Z</th>\n",
       "      <th>Z_stdized_g</th>\n",
       "    </tr>\n",
       "  </thead>\n",
       "  <tbody>\n",
       "    <tr>\n",
       "      <th>0</th>\n",
       "      <td>1.272939</td>\n",
       "      <td>1.374978</td>\n",
       "      <td>NaN</td>\n",
       "      <td>NaN</td>\n",
       "      <td>False</td>\n",
       "      <td>4.976000</td>\n",
       "      <td>-0.203789</td>\n",
       "    </tr>\n",
       "    <tr>\n",
       "      <th>1</th>\n",
       "      <td>1.205877</td>\n",
       "      <td>1.947600</td>\n",
       "      <td>-0.067062</td>\n",
       "      <td>1.272939</td>\n",
       "      <td>True</td>\n",
       "      <td>4.679176</td>\n",
       "      <td>-1.391669</td>\n",
       "    </tr>\n",
       "    <tr>\n",
       "      <th>2</th>\n",
       "      <td>-1.847180</td>\n",
       "      <td>-3.369147</td>\n",
       "      <td>-3.053057</td>\n",
       "      <td>1.205877</td>\n",
       "      <td>True</td>\n",
       "      <td>NaN</td>\n",
       "      <td>-1.540960</td>\n",
       "    </tr>\n",
       "    <tr>\n",
       "      <th>3</th>\n",
       "      <td>-0.041302</td>\n",
       "      <td>-1.666680</td>\n",
       "      <td>1.805878</td>\n",
       "      <td>-1.847180</td>\n",
       "      <td>False</td>\n",
       "      <td>NaN</td>\n",
       "      <td>1.899877</td>\n",
       "    </tr>\n",
       "    <tr>\n",
       "      <th>4</th>\n",
       "      <td>0.506410</td>\n",
       "      <td>1.216112</td>\n",
       "      <td>0.547712</td>\n",
       "      <td>-0.041302</td>\n",
       "      <td>False</td>\n",
       "      <td>4.825535</td>\n",
       "      <td>-0.923685</td>\n",
       "    </tr>\n",
       "    <tr>\n",
       "      <th>5</th>\n",
       "      <td>-0.635391</td>\n",
       "      <td>0.139623</td>\n",
       "      <td>-1.141801</td>\n",
       "      <td>0.506410</td>\n",
       "      <td>True</td>\n",
       "      <td>NaN</td>\n",
       "      <td>-0.796900</td>\n",
       "    </tr>\n",
       "    <tr>\n",
       "      <th>6</th>\n",
       "      <td>0.762501</td>\n",
       "      <td>1.789486</td>\n",
       "      <td>1.397891</td>\n",
       "      <td>-0.635391</td>\n",
       "      <td>False</td>\n",
       "      <td>5.050546</td>\n",
       "      <td>0.152875</td>\n",
       "    </tr>\n",
       "    <tr>\n",
       "      <th>7</th>\n",
       "      <td>0.153946</td>\n",
       "      <td>0.723863</td>\n",
       "      <td>-0.608555</td>\n",
       "      <td>0.762501</td>\n",
       "      <td>True</td>\n",
       "      <td>5.347100</td>\n",
       "      <td>2.001347</td>\n",
       "    </tr>\n",
       "    <tr>\n",
       "      <th>8</th>\n",
       "      <td>0.293218</td>\n",
       "      <td>-0.736363</td>\n",
       "      <td>0.139272</td>\n",
       "      <td>0.153946</td>\n",
       "      <td>False</td>\n",
       "      <td>5.141369</td>\n",
       "      <td>0.587413</td>\n",
       "    </tr>\n",
       "    <tr>\n",
       "      <th>9</th>\n",
       "      <td>0.664559</td>\n",
       "      <td>1.699667</td>\n",
       "      <td>0.371341</td>\n",
       "      <td>0.293218</td>\n",
       "      <td>False</td>\n",
       "      <td>5.066565</td>\n",
       "      <td>0.229517</td>\n",
       "    </tr>\n",
       "  </tbody>\n",
       "</table>\n",
       "</div>"
      ],
      "text/plain": [
       "          X         Y       D_X       L_X  D_X_neg         Z  Z_stdized_g\n",
       "0  1.272939  1.374978       NaN       NaN    False  4.976000    -0.203789\n",
       "1  1.205877  1.947600 -0.067062  1.272939     True  4.679176    -1.391669\n",
       "2 -1.847180 -3.369147 -3.053057  1.205877     True       NaN    -1.540960\n",
       "3 -0.041302 -1.666680  1.805878 -1.847180    False       NaN     1.899877\n",
       "4  0.506410  1.216112  0.547712 -0.041302    False  4.825535    -0.923685\n",
       "5 -0.635391  0.139623 -1.141801  0.506410     True       NaN    -0.796900\n",
       "6  0.762501  1.789486  1.397891 -0.635391    False  5.050546     0.152875\n",
       "7  0.153946  0.723863 -0.608555  0.762501     True  5.347100     2.001347\n",
       "8  0.293218 -0.736363  0.139272  0.153946    False  5.141369     0.587413\n",
       "9  0.664559  1.699667  0.371341  0.293218    False  5.066565     0.229517"
      ]
     },
     "execution_count": 67,
     "metadata": {},
     "output_type": "execute_result"
    }
   ],
   "source": [
    "df.loc[df['X']<0,\"Z\"] = np.nan\n",
    "df.head(10)"
   ]
  },
  {
   "cell_type": "markdown",
   "metadata": {
    "slideshow": {
     "slide_type": "-"
    }
   },
   "source": [
    "__Now what just happened there?__"
   ]
  },
  {
   "cell_type": "markdown",
   "metadata": {
    "slideshow": {
     "slide_type": "slide"
    }
   },
   "source": [
    "Step by step:\n",
    "- Inside `.loc`, it evaluated a condition: `df['X']<0`, which created a Boolean vector.\n",
    "- We fed that boolean vector into the \"row\" position, and gave it the label `Z` for the column vector.\n",
    "- We then __assigned a value__ to this __view__ of the dataframe, which was the missing value object `NaN`\n",
    "\n",
    "We saw before how changing views of the data can lead to issues, but this is a case where it's very useful."
   ]
  },
  {
   "cell_type": "markdown",
   "metadata": {
    "slideshow": {
     "slide_type": "slide"
    }
   },
   "source": [
    "Still, be careful..."
   ]
  },
  {
   "cell_type": "code",
   "execution_count": 68,
   "metadata": {
    "slideshow": {
     "slide_type": "-"
    }
   },
   "outputs": [
    {
     "data": {
      "text/html": [
       "<div>\n",
       "<style scoped>\n",
       "    .dataframe tbody tr th:only-of-type {\n",
       "        vertical-align: middle;\n",
       "    }\n",
       "\n",
       "    .dataframe tbody tr th {\n",
       "        vertical-align: top;\n",
       "    }\n",
       "\n",
       "    .dataframe thead th {\n",
       "        text-align: right;\n",
       "    }\n",
       "</style>\n",
       "<table border=\"1\" class=\"dataframe\">\n",
       "  <thead>\n",
       "    <tr style=\"text-align: right;\">\n",
       "      <th></th>\n",
       "      <th>X</th>\n",
       "      <th>Y</th>\n",
       "      <th>D_X</th>\n",
       "      <th>L_X</th>\n",
       "      <th>D_X_neg</th>\n",
       "      <th>Z</th>\n",
       "      <th>Z_stdized_g</th>\n",
       "    </tr>\n",
       "  </thead>\n",
       "  <tbody>\n",
       "    <tr>\n",
       "      <th>0</th>\n",
       "      <td>1.272939</td>\n",
       "      <td>1.374978</td>\n",
       "      <td>NaN</td>\n",
       "      <td>NaN</td>\n",
       "      <td>False</td>\n",
       "      <td>4.976</td>\n",
       "      <td>-0.203789</td>\n",
       "    </tr>\n",
       "    <tr>\n",
       "      <th>1</th>\n",
       "      <td>1.205877</td>\n",
       "      <td>1.947600</td>\n",
       "      <td>-0.067062</td>\n",
       "      <td>1.272939</td>\n",
       "      <td>True</td>\n",
       "      <td>4.679176</td>\n",
       "      <td>-1.391669</td>\n",
       "    </tr>\n",
       "    <tr>\n",
       "      <th>2</th>\n",
       "      <td>-1.847180</td>\n",
       "      <td>-3.369147</td>\n",
       "      <td>-3.053057</td>\n",
       "      <td>1.205877</td>\n",
       "      <td>True</td>\n",
       "      <td>Missing</td>\n",
       "      <td>-1.540960</td>\n",
       "    </tr>\n",
       "    <tr>\n",
       "      <th>3</th>\n",
       "      <td>-0.041302</td>\n",
       "      <td>-1.666680</td>\n",
       "      <td>1.805878</td>\n",
       "      <td>-1.847180</td>\n",
       "      <td>False</td>\n",
       "      <td>Missing</td>\n",
       "      <td>1.899877</td>\n",
       "    </tr>\n",
       "    <tr>\n",
       "      <th>4</th>\n",
       "      <td>0.506410</td>\n",
       "      <td>1.216112</td>\n",
       "      <td>0.547712</td>\n",
       "      <td>-0.041302</td>\n",
       "      <td>False</td>\n",
       "      <td>4.825535</td>\n",
       "      <td>-0.923685</td>\n",
       "    </tr>\n",
       "  </tbody>\n",
       "</table>\n",
       "</div>"
      ],
      "text/plain": [
       "          X         Y       D_X       L_X  D_X_neg         Z  Z_stdized_g\n",
       "0  1.272939  1.374978       NaN       NaN    False     4.976    -0.203789\n",
       "1  1.205877  1.947600 -0.067062  1.272939     True  4.679176    -1.391669\n",
       "2 -1.847180 -3.369147 -3.053057  1.205877     True   Missing    -1.540960\n",
       "3 -0.041302 -1.666680  1.805878 -1.847180    False   Missing     1.899877\n",
       "4  0.506410  1.216112  0.547712 -0.041302    False  4.825535    -0.923685"
      ]
     },
     "execution_count": 68,
     "metadata": {},
     "output_type": "execute_result"
    }
   ],
   "source": [
    "df_new = df\n",
    "\n",
    "df_new['Z'] = df_new['Z'].fillna(\"Missing\")\n",
    "\n",
    "df.head()"
   ]
  },
  {
   "cell_type": "markdown",
   "metadata": {
    "slideshow": {
     "slide_type": "slide"
    }
   },
   "source": [
    "It does __not do this__ when doing certain operations, however..."
   ]
  },
  {
   "cell_type": "code",
   "execution_count": 69,
   "metadata": {
    "slideshow": {
     "slide_type": "-"
    }
   },
   "outputs": [
    {
     "name": "stderr",
     "output_type": "stream",
     "text": [
      "C:\\Users\\jhtchns2\\AppData\\Local\\Temp\\ipykernel_22312\\3918616092.py:3: SettingWithCopyWarning: \n",
      "A value is trying to be set on a copy of a slice from a DataFrame.\n",
      "Try using .loc[row_indexer,col_indexer] = value instead\n",
      "\n",
      "See the caveats in the documentation: https://pandas.pydata.org/pandas-docs/stable/user_guide/indexing.html#returning-a-view-versus-a-copy\n",
      "  df_head['X'] = \"all Garfield\"\n"
     ]
    },
    {
     "data": {
      "text/html": [
       "<div>\n",
       "<style scoped>\n",
       "    .dataframe tbody tr th:only-of-type {\n",
       "        vertical-align: middle;\n",
       "    }\n",
       "\n",
       "    .dataframe tbody tr th {\n",
       "        vertical-align: top;\n",
       "    }\n",
       "\n",
       "    .dataframe thead th {\n",
       "        text-align: right;\n",
       "    }\n",
       "</style>\n",
       "<table border=\"1\" class=\"dataframe\">\n",
       "  <thead>\n",
       "    <tr style=\"text-align: right;\">\n",
       "      <th></th>\n",
       "      <th>X</th>\n",
       "      <th>Y</th>\n",
       "      <th>D_X</th>\n",
       "      <th>L_X</th>\n",
       "      <th>D_X_neg</th>\n",
       "      <th>Z</th>\n",
       "      <th>Z_stdized_g</th>\n",
       "    </tr>\n",
       "  </thead>\n",
       "  <tbody>\n",
       "    <tr>\n",
       "      <th>0</th>\n",
       "      <td>1.272939</td>\n",
       "      <td>1.374978</td>\n",
       "      <td>NaN</td>\n",
       "      <td>NaN</td>\n",
       "      <td>False</td>\n",
       "      <td>4.976</td>\n",
       "      <td>-0.203789</td>\n",
       "    </tr>\n",
       "    <tr>\n",
       "      <th>1</th>\n",
       "      <td>1.205877</td>\n",
       "      <td>1.947600</td>\n",
       "      <td>-0.067062</td>\n",
       "      <td>1.272939</td>\n",
       "      <td>True</td>\n",
       "      <td>4.679176</td>\n",
       "      <td>-1.391669</td>\n",
       "    </tr>\n",
       "    <tr>\n",
       "      <th>2</th>\n",
       "      <td>-1.847180</td>\n",
       "      <td>-3.369147</td>\n",
       "      <td>-3.053057</td>\n",
       "      <td>1.205877</td>\n",
       "      <td>True</td>\n",
       "      <td>Missing</td>\n",
       "      <td>-1.540960</td>\n",
       "    </tr>\n",
       "    <tr>\n",
       "      <th>3</th>\n",
       "      <td>-0.041302</td>\n",
       "      <td>-1.666680</td>\n",
       "      <td>1.805878</td>\n",
       "      <td>-1.847180</td>\n",
       "      <td>False</td>\n",
       "      <td>Missing</td>\n",
       "      <td>1.899877</td>\n",
       "    </tr>\n",
       "    <tr>\n",
       "      <th>4</th>\n",
       "      <td>0.506410</td>\n",
       "      <td>1.216112</td>\n",
       "      <td>0.547712</td>\n",
       "      <td>-0.041302</td>\n",
       "      <td>False</td>\n",
       "      <td>4.825535</td>\n",
       "      <td>-0.923685</td>\n",
       "    </tr>\n",
       "  </tbody>\n",
       "</table>\n",
       "</div>"
      ],
      "text/plain": [
       "          X         Y       D_X       L_X  D_X_neg         Z  Z_stdized_g\n",
       "0  1.272939  1.374978       NaN       NaN    False     4.976    -0.203789\n",
       "1  1.205877  1.947600 -0.067062  1.272939     True  4.679176    -1.391669\n",
       "2 -1.847180 -3.369147 -3.053057  1.205877     True   Missing    -1.540960\n",
       "3 -0.041302 -1.666680  1.805878 -1.847180    False   Missing     1.899877\n",
       "4  0.506410  1.216112  0.547712 -0.041302    False  4.825535    -0.923685"
      ]
     },
     "execution_count": 69,
     "metadata": {},
     "output_type": "execute_result"
    }
   ],
   "source": [
    "df_head = df.head()\n",
    "\n",
    "df_head['X'] = \"all Garfield\"\n",
    "\n",
    "df.head()"
   ]
  },
  {
   "cell_type": "markdown",
   "metadata": {
    "slideshow": {
     "slide_type": "-"
    }
   },
   "source": [
    "__Why didn't it change every row of `X` to \"all Garfield\"?__"
   ]
  },
  {
   "cell_type": "markdown",
   "metadata": {
    "slideshow": {
     "slide_type": "slide"
    }
   },
   "source": [
    "__The short answer:__ Operations in Pandas (e.g. `.head()`) __always__ create copies of DataFrames. Therefore we edited a totally new DataFrame.\n",
    "\n",
    "Pandas sends us a `SettingWithCopyWarning` to inform us that we are not modifying the original DataFrame.\n",
    "\n",
    "__The good part:__ You can test out edits before doing it to your main DataFrame. I do this sometimes when I'm not sure what a data cleaning process will do and my data takes a long time to read in.\n",
    "\n",
    "__The bad part:__ if you create a lot of dataframes, you can eat up memory very quickly."
   ]
  },
  {
   "cell_type": "markdown",
   "metadata": {
    "slideshow": {
     "slide_type": "slide"
    }
   },
   "source": [
    "If we wanted to make the first five rows of X \"all Garfield,\" we can use `.loc` instead:"
   ]
  },
  {
   "cell_type": "code",
   "execution_count": 70,
   "metadata": {
    "slideshow": {
     "slide_type": "-"
    }
   },
   "outputs": [
    {
     "name": "stderr",
     "output_type": "stream",
     "text": [
      "C:\\Users\\jhtchns2\\AppData\\Local\\Temp\\ipykernel_22312\\1668887886.py:1: FutureWarning: Setting an item of incompatible dtype is deprecated and will raise in a future error of pandas. Value 'all Garfield' has dtype incompatible with float64, please explicitly cast to a compatible dtype first.\n",
      "  df.loc[:5,\"X\"] = \"all Garfield\"\n"
     ]
    },
    {
     "data": {
      "text/html": [
       "<div>\n",
       "<style scoped>\n",
       "    .dataframe tbody tr th:only-of-type {\n",
       "        vertical-align: middle;\n",
       "    }\n",
       "\n",
       "    .dataframe tbody tr th {\n",
       "        vertical-align: top;\n",
       "    }\n",
       "\n",
       "    .dataframe thead th {\n",
       "        text-align: right;\n",
       "    }\n",
       "</style>\n",
       "<table border=\"1\" class=\"dataframe\">\n",
       "  <thead>\n",
       "    <tr style=\"text-align: right;\">\n",
       "      <th></th>\n",
       "      <th>X</th>\n",
       "      <th>Y</th>\n",
       "      <th>D_X</th>\n",
       "      <th>L_X</th>\n",
       "      <th>D_X_neg</th>\n",
       "      <th>Z</th>\n",
       "      <th>Z_stdized_g</th>\n",
       "    </tr>\n",
       "  </thead>\n",
       "  <tbody>\n",
       "    <tr>\n",
       "      <th>0</th>\n",
       "      <td>all Garfield</td>\n",
       "      <td>1.374978</td>\n",
       "      <td>NaN</td>\n",
       "      <td>NaN</td>\n",
       "      <td>False</td>\n",
       "      <td>4.976</td>\n",
       "      <td>-0.203789</td>\n",
       "    </tr>\n",
       "    <tr>\n",
       "      <th>1</th>\n",
       "      <td>all Garfield</td>\n",
       "      <td>1.947600</td>\n",
       "      <td>-0.067062</td>\n",
       "      <td>1.272939</td>\n",
       "      <td>True</td>\n",
       "      <td>4.679176</td>\n",
       "      <td>-1.391669</td>\n",
       "    </tr>\n",
       "    <tr>\n",
       "      <th>2</th>\n",
       "      <td>all Garfield</td>\n",
       "      <td>-3.369147</td>\n",
       "      <td>-3.053057</td>\n",
       "      <td>1.205877</td>\n",
       "      <td>True</td>\n",
       "      <td>Missing</td>\n",
       "      <td>-1.540960</td>\n",
       "    </tr>\n",
       "    <tr>\n",
       "      <th>3</th>\n",
       "      <td>all Garfield</td>\n",
       "      <td>-1.666680</td>\n",
       "      <td>1.805878</td>\n",
       "      <td>-1.847180</td>\n",
       "      <td>False</td>\n",
       "      <td>Missing</td>\n",
       "      <td>1.899877</td>\n",
       "    </tr>\n",
       "    <tr>\n",
       "      <th>4</th>\n",
       "      <td>all Garfield</td>\n",
       "      <td>1.216112</td>\n",
       "      <td>0.547712</td>\n",
       "      <td>-0.041302</td>\n",
       "      <td>False</td>\n",
       "      <td>4.825535</td>\n",
       "      <td>-0.923685</td>\n",
       "    </tr>\n",
       "    <tr>\n",
       "      <th>5</th>\n",
       "      <td>all Garfield</td>\n",
       "      <td>0.139623</td>\n",
       "      <td>-1.141801</td>\n",
       "      <td>0.506410</td>\n",
       "      <td>True</td>\n",
       "      <td>Missing</td>\n",
       "      <td>-0.796900</td>\n",
       "    </tr>\n",
       "    <tr>\n",
       "      <th>6</th>\n",
       "      <td>0.762501</td>\n",
       "      <td>1.789486</td>\n",
       "      <td>1.397891</td>\n",
       "      <td>-0.635391</td>\n",
       "      <td>False</td>\n",
       "      <td>5.050546</td>\n",
       "      <td>0.152875</td>\n",
       "    </tr>\n",
       "    <tr>\n",
       "      <th>7</th>\n",
       "      <td>0.153946</td>\n",
       "      <td>0.723863</td>\n",
       "      <td>-0.608555</td>\n",
       "      <td>0.762501</td>\n",
       "      <td>True</td>\n",
       "      <td>5.3471</td>\n",
       "      <td>2.001347</td>\n",
       "    </tr>\n",
       "    <tr>\n",
       "      <th>8</th>\n",
       "      <td>0.293218</td>\n",
       "      <td>-0.736363</td>\n",
       "      <td>0.139272</td>\n",
       "      <td>0.153946</td>\n",
       "      <td>False</td>\n",
       "      <td>5.141369</td>\n",
       "      <td>0.587413</td>\n",
       "    </tr>\n",
       "    <tr>\n",
       "      <th>9</th>\n",
       "      <td>0.664559</td>\n",
       "      <td>1.699667</td>\n",
       "      <td>0.371341</td>\n",
       "      <td>0.293218</td>\n",
       "      <td>False</td>\n",
       "      <td>5.066565</td>\n",
       "      <td>0.229517</td>\n",
       "    </tr>\n",
       "    <tr>\n",
       "      <th>10</th>\n",
       "      <td>-1.037711</td>\n",
       "      <td>-1.278398</td>\n",
       "      <td>-1.702270</td>\n",
       "      <td>0.664559</td>\n",
       "      <td>True</td>\n",
       "      <td>Missing</td>\n",
       "      <td>1.047511</td>\n",
       "    </tr>\n",
       "    <tr>\n",
       "      <th>11</th>\n",
       "      <td>1.451495</td>\n",
       "      <td>3.423524</td>\n",
       "      <td>2.489206</td>\n",
       "      <td>-1.037711</td>\n",
       "      <td>False</td>\n",
       "      <td>5.173443</td>\n",
       "      <td>0.740873</td>\n",
       "    </tr>\n",
       "    <tr>\n",
       "      <th>12</th>\n",
       "      <td>-0.039743</td>\n",
       "      <td>0.073202</td>\n",
       "      <td>-1.491238</td>\n",
       "      <td>1.451495</td>\n",
       "      <td>True</td>\n",
       "      <td>Missing</td>\n",
       "      <td>0.153497</td>\n",
       "    </tr>\n",
       "    <tr>\n",
       "      <th>13</th>\n",
       "      <td>0.908873</td>\n",
       "      <td>3.148397</td>\n",
       "      <td>0.948616</td>\n",
       "      <td>-0.039743</td>\n",
       "      <td>False</td>\n",
       "      <td>4.920818</td>\n",
       "      <td>-0.467807</td>\n",
       "    </tr>\n",
       "    <tr>\n",
       "      <th>14</th>\n",
       "      <td>-1.960326</td>\n",
       "      <td>-2.935822</td>\n",
       "      <td>-2.869199</td>\n",
       "      <td>0.908873</td>\n",
       "      <td>True</td>\n",
       "      <td>Missing</td>\n",
       "      <td>0.703509</td>\n",
       "    </tr>\n",
       "    <tr>\n",
       "      <th>15</th>\n",
       "      <td>0.545505</td>\n",
       "      <td>0.980691</td>\n",
       "      <td>2.505830</td>\n",
       "      <td>-1.960326</td>\n",
       "      <td>False</td>\n",
       "      <td>4.96432</td>\n",
       "      <td>-0.259672</td>\n",
       "    </tr>\n",
       "    <tr>\n",
       "      <th>16</th>\n",
       "      <td>1.395446</td>\n",
       "      <td>3.340797</td>\n",
       "      <td>0.849941</td>\n",
       "      <td>0.545505</td>\n",
       "      <td>False</td>\n",
       "      <td>4.81916</td>\n",
       "      <td>-0.954188</td>\n",
       "    </tr>\n",
       "    <tr>\n",
       "      <th>17</th>\n",
       "      <td>-0.598792</td>\n",
       "      <td>-2.825809</td>\n",
       "      <td>-1.994238</td>\n",
       "      <td>1.395446</td>\n",
       "      <td>True</td>\n",
       "      <td>Missing</td>\n",
       "      <td>0.681406</td>\n",
       "    </tr>\n",
       "    <tr>\n",
       "      <th>18</th>\n",
       "      <td>1.556856</td>\n",
       "      <td>4.077207</td>\n",
       "      <td>2.155648</td>\n",
       "      <td>-0.598792</td>\n",
       "      <td>False</td>\n",
       "      <td>5.26136</td>\n",
       "      <td>1.161507</td>\n",
       "    </tr>\n",
       "    <tr>\n",
       "      <th>19</th>\n",
       "      <td>0.962187</td>\n",
       "      <td>3.060908</td>\n",
       "      <td>-0.594669</td>\n",
       "      <td>1.556856</td>\n",
       "      <td>True</td>\n",
       "      <td>4.504347</td>\n",
       "      <td>-2.279785</td>\n",
       "    </tr>\n",
       "  </tbody>\n",
       "</table>\n",
       "</div>"
      ],
      "text/plain": [
       "               X         Y       D_X       L_X  D_X_neg         Z  Z_stdized_g\n",
       "0   all Garfield  1.374978       NaN       NaN    False     4.976    -0.203789\n",
       "1   all Garfield  1.947600 -0.067062  1.272939     True  4.679176    -1.391669\n",
       "2   all Garfield -3.369147 -3.053057  1.205877     True   Missing    -1.540960\n",
       "3   all Garfield -1.666680  1.805878 -1.847180    False   Missing     1.899877\n",
       "4   all Garfield  1.216112  0.547712 -0.041302    False  4.825535    -0.923685\n",
       "5   all Garfield  0.139623 -1.141801  0.506410     True   Missing    -0.796900\n",
       "6       0.762501  1.789486  1.397891 -0.635391    False  5.050546     0.152875\n",
       "7       0.153946  0.723863 -0.608555  0.762501     True    5.3471     2.001347\n",
       "8       0.293218 -0.736363  0.139272  0.153946    False  5.141369     0.587413\n",
       "9       0.664559  1.699667  0.371341  0.293218    False  5.066565     0.229517\n",
       "10     -1.037711 -1.278398 -1.702270  0.664559     True   Missing     1.047511\n",
       "11      1.451495  3.423524  2.489206 -1.037711    False  5.173443     0.740873\n",
       "12     -0.039743  0.073202 -1.491238  1.451495     True   Missing     0.153497\n",
       "13      0.908873  3.148397  0.948616 -0.039743    False  4.920818    -0.467807\n",
       "14     -1.960326 -2.935822 -2.869199  0.908873     True   Missing     0.703509\n",
       "15      0.545505  0.980691  2.505830 -1.960326    False   4.96432    -0.259672\n",
       "16      1.395446  3.340797  0.849941  0.545505    False   4.81916    -0.954188\n",
       "17     -0.598792 -2.825809 -1.994238  1.395446     True   Missing     0.681406\n",
       "18      1.556856  4.077207  2.155648 -0.598792    False   5.26136     1.161507\n",
       "19      0.962187  3.060908 -0.594669  1.556856     True  4.504347    -2.279785"
      ]
     },
     "execution_count": 70,
     "metadata": {},
     "output_type": "execute_result"
    }
   ],
   "source": [
    "df.loc[:5,\"X\"] = \"all Garfield\"\n",
    "\n",
    "df.head(20)"
   ]
  },
  {
   "cell_type": "markdown",
   "metadata": {
    "slideshow": {
     "slide_type": "slide"
    }
   },
   "source": [
    "__Pandas almost never does \"in place\" operations unless you tell it to__.\n",
    "\n",
    "An example is if you wanted to drop columns. The following code will generate an entirely new dataframe without the column."
   ]
  },
  {
   "cell_type": "code",
   "execution_count": 71,
   "metadata": {
    "slideshow": {
     "slide_type": "-"
    }
   },
   "outputs": [
    {
     "data": {
      "text/html": [
       "<div>\n",
       "<style scoped>\n",
       "    .dataframe tbody tr th:only-of-type {\n",
       "        vertical-align: middle;\n",
       "    }\n",
       "\n",
       "    .dataframe tbody tr th {\n",
       "        vertical-align: top;\n",
       "    }\n",
       "\n",
       "    .dataframe thead th {\n",
       "        text-align: right;\n",
       "    }\n",
       "</style>\n",
       "<table border=\"1\" class=\"dataframe\">\n",
       "  <thead>\n",
       "    <tr style=\"text-align: right;\">\n",
       "      <th></th>\n",
       "      <th>X</th>\n",
       "      <th>Y</th>\n",
       "      <th>L_X</th>\n",
       "      <th>D_X_neg</th>\n",
       "      <th>Z</th>\n",
       "      <th>Z_stdized_g</th>\n",
       "    </tr>\n",
       "  </thead>\n",
       "  <tbody>\n",
       "    <tr>\n",
       "      <th>0</th>\n",
       "      <td>all Garfield</td>\n",
       "      <td>1.374978</td>\n",
       "      <td>NaN</td>\n",
       "      <td>False</td>\n",
       "      <td>4.976</td>\n",
       "      <td>-0.203789</td>\n",
       "    </tr>\n",
       "    <tr>\n",
       "      <th>1</th>\n",
       "      <td>all Garfield</td>\n",
       "      <td>1.947600</td>\n",
       "      <td>1.272939</td>\n",
       "      <td>True</td>\n",
       "      <td>4.679176</td>\n",
       "      <td>-1.391669</td>\n",
       "    </tr>\n",
       "    <tr>\n",
       "      <th>2</th>\n",
       "      <td>all Garfield</td>\n",
       "      <td>-3.369147</td>\n",
       "      <td>1.205877</td>\n",
       "      <td>True</td>\n",
       "      <td>Missing</td>\n",
       "      <td>-1.540960</td>\n",
       "    </tr>\n",
       "    <tr>\n",
       "      <th>3</th>\n",
       "      <td>all Garfield</td>\n",
       "      <td>-1.666680</td>\n",
       "      <td>-1.847180</td>\n",
       "      <td>False</td>\n",
       "      <td>Missing</td>\n",
       "      <td>1.899877</td>\n",
       "    </tr>\n",
       "    <tr>\n",
       "      <th>4</th>\n",
       "      <td>all Garfield</td>\n",
       "      <td>1.216112</td>\n",
       "      <td>-0.041302</td>\n",
       "      <td>False</td>\n",
       "      <td>4.825535</td>\n",
       "      <td>-0.923685</td>\n",
       "    </tr>\n",
       "    <tr>\n",
       "      <th>...</th>\n",
       "      <td>...</td>\n",
       "      <td>...</td>\n",
       "      <td>...</td>\n",
       "      <td>...</td>\n",
       "      <td>...</td>\n",
       "      <td>...</td>\n",
       "    </tr>\n",
       "    <tr>\n",
       "      <th>95</th>\n",
       "      <td>-0.193276</td>\n",
       "      <td>0.459410</td>\n",
       "      <td>-0.131214</td>\n",
       "      <td>True</td>\n",
       "      <td>Missing</td>\n",
       "      <td>0.683774</td>\n",
       "    </tr>\n",
       "    <tr>\n",
       "      <th>96</th>\n",
       "      <td>-1.759555</td>\n",
       "      <td>-3.403974</td>\n",
       "      <td>-0.193276</td>\n",
       "      <td>True</td>\n",
       "      <td>Missing</td>\n",
       "      <td>-0.428185</td>\n",
       "    </tr>\n",
       "    <tr>\n",
       "      <th>97</th>\n",
       "      <td>-0.184456</td>\n",
       "      <td>0.184947</td>\n",
       "      <td>-1.759555</td>\n",
       "      <td>False</td>\n",
       "      <td>Missing</td>\n",
       "      <td>0.090123</td>\n",
       "    </tr>\n",
       "    <tr>\n",
       "      <th>98</th>\n",
       "      <td>-1.507448</td>\n",
       "      <td>-2.988756</td>\n",
       "      <td>-0.184456</td>\n",
       "      <td>True</td>\n",
       "      <td>Missing</td>\n",
       "      <td>0.882182</td>\n",
       "    </tr>\n",
       "    <tr>\n",
       "      <th>99</th>\n",
       "      <td>-1.182591</td>\n",
       "      <td>-2.099965</td>\n",
       "      <td>-1.507448</td>\n",
       "      <td>False</td>\n",
       "      <td>Missing</td>\n",
       "      <td>0.510634</td>\n",
       "    </tr>\n",
       "  </tbody>\n",
       "</table>\n",
       "<p>100 rows × 6 columns</p>\n",
       "</div>"
      ],
      "text/plain": [
       "               X         Y       L_X  D_X_neg         Z  Z_stdized_g\n",
       "0   all Garfield  1.374978       NaN    False     4.976    -0.203789\n",
       "1   all Garfield  1.947600  1.272939     True  4.679176    -1.391669\n",
       "2   all Garfield -3.369147  1.205877     True   Missing    -1.540960\n",
       "3   all Garfield -1.666680 -1.847180    False   Missing     1.899877\n",
       "4   all Garfield  1.216112 -0.041302    False  4.825535    -0.923685\n",
       "..           ...       ...       ...      ...       ...          ...\n",
       "95     -0.193276  0.459410 -0.131214     True   Missing     0.683774\n",
       "96     -1.759555 -3.403974 -0.193276     True   Missing    -0.428185\n",
       "97     -0.184456  0.184947 -1.759555    False   Missing     0.090123\n",
       "98     -1.507448 -2.988756 -0.184456     True   Missing     0.882182\n",
       "99     -1.182591 -2.099965 -1.507448    False   Missing     0.510634\n",
       "\n",
       "[100 rows x 6 columns]"
      ]
     },
     "execution_count": 71,
     "metadata": {},
     "output_type": "execute_result"
    }
   ],
   "source": [
    "df.drop(\"D_X\",axis=1)"
   ]
  },
  {
   "cell_type": "code",
   "execution_count": 72,
   "metadata": {
    "slideshow": {
     "slide_type": "-"
    }
   },
   "outputs": [
    {
     "data": {
      "text/html": [
       "<div>\n",
       "<style scoped>\n",
       "    .dataframe tbody tr th:only-of-type {\n",
       "        vertical-align: middle;\n",
       "    }\n",
       "\n",
       "    .dataframe tbody tr th {\n",
       "        vertical-align: top;\n",
       "    }\n",
       "\n",
       "    .dataframe thead th {\n",
       "        text-align: right;\n",
       "    }\n",
       "</style>\n",
       "<table border=\"1\" class=\"dataframe\">\n",
       "  <thead>\n",
       "    <tr style=\"text-align: right;\">\n",
       "      <th></th>\n",
       "      <th>X</th>\n",
       "      <th>Y</th>\n",
       "      <th>D_X</th>\n",
       "      <th>L_X</th>\n",
       "      <th>D_X_neg</th>\n",
       "      <th>Z</th>\n",
       "      <th>Z_stdized_g</th>\n",
       "    </tr>\n",
       "  </thead>\n",
       "  <tbody>\n",
       "    <tr>\n",
       "      <th>0</th>\n",
       "      <td>all Garfield</td>\n",
       "      <td>1.374978</td>\n",
       "      <td>NaN</td>\n",
       "      <td>NaN</td>\n",
       "      <td>False</td>\n",
       "      <td>4.976</td>\n",
       "      <td>-0.203789</td>\n",
       "    </tr>\n",
       "    <tr>\n",
       "      <th>1</th>\n",
       "      <td>all Garfield</td>\n",
       "      <td>1.947600</td>\n",
       "      <td>-0.067062</td>\n",
       "      <td>1.272939</td>\n",
       "      <td>True</td>\n",
       "      <td>4.679176</td>\n",
       "      <td>-1.391669</td>\n",
       "    </tr>\n",
       "    <tr>\n",
       "      <th>2</th>\n",
       "      <td>all Garfield</td>\n",
       "      <td>-3.369147</td>\n",
       "      <td>-3.053057</td>\n",
       "      <td>1.205877</td>\n",
       "      <td>True</td>\n",
       "      <td>Missing</td>\n",
       "      <td>-1.540960</td>\n",
       "    </tr>\n",
       "    <tr>\n",
       "      <th>3</th>\n",
       "      <td>all Garfield</td>\n",
       "      <td>-1.666680</td>\n",
       "      <td>1.805878</td>\n",
       "      <td>-1.847180</td>\n",
       "      <td>False</td>\n",
       "      <td>Missing</td>\n",
       "      <td>1.899877</td>\n",
       "    </tr>\n",
       "    <tr>\n",
       "      <th>4</th>\n",
       "      <td>all Garfield</td>\n",
       "      <td>1.216112</td>\n",
       "      <td>0.547712</td>\n",
       "      <td>-0.041302</td>\n",
       "      <td>False</td>\n",
       "      <td>4.825535</td>\n",
       "      <td>-0.923685</td>\n",
       "    </tr>\n",
       "  </tbody>\n",
       "</table>\n",
       "</div>"
      ],
      "text/plain": [
       "              X         Y       D_X       L_X  D_X_neg         Z  Z_stdized_g\n",
       "0  all Garfield  1.374978       NaN       NaN    False     4.976    -0.203789\n",
       "1  all Garfield  1.947600 -0.067062  1.272939     True  4.679176    -1.391669\n",
       "2  all Garfield -3.369147 -3.053057  1.205877     True   Missing    -1.540960\n",
       "3  all Garfield -1.666680  1.805878 -1.847180    False   Missing     1.899877\n",
       "4  all Garfield  1.216112  0.547712 -0.041302    False  4.825535    -0.923685"
      ]
     },
     "execution_count": 72,
     "metadata": {},
     "output_type": "execute_result"
    }
   ],
   "source": [
    "df.head()"
   ]
  },
  {
   "cell_type": "markdown",
   "metadata": {
    "slideshow": {
     "slide_type": "slide"
    }
   },
   "source": [
    "So you must assign it back if that's the DataFrame you want."
   ]
  },
  {
   "cell_type": "code",
   "execution_count": 73,
   "metadata": {
    "scrolled": true,
    "slideshow": {
     "slide_type": "-"
    }
   },
   "outputs": [
    {
     "data": {
      "text/html": [
       "<div>\n",
       "<style scoped>\n",
       "    .dataframe tbody tr th:only-of-type {\n",
       "        vertical-align: middle;\n",
       "    }\n",
       "\n",
       "    .dataframe tbody tr th {\n",
       "        vertical-align: top;\n",
       "    }\n",
       "\n",
       "    .dataframe thead th {\n",
       "        text-align: right;\n",
       "    }\n",
       "</style>\n",
       "<table border=\"1\" class=\"dataframe\">\n",
       "  <thead>\n",
       "    <tr style=\"text-align: right;\">\n",
       "      <th></th>\n",
       "      <th>X</th>\n",
       "      <th>Y</th>\n",
       "      <th>L_X</th>\n",
       "      <th>D_X_neg</th>\n",
       "      <th>Z</th>\n",
       "      <th>Z_stdized_g</th>\n",
       "    </tr>\n",
       "  </thead>\n",
       "  <tbody>\n",
       "    <tr>\n",
       "      <th>0</th>\n",
       "      <td>all Garfield</td>\n",
       "      <td>1.374978</td>\n",
       "      <td>NaN</td>\n",
       "      <td>False</td>\n",
       "      <td>4.976</td>\n",
       "      <td>-0.203789</td>\n",
       "    </tr>\n",
       "    <tr>\n",
       "      <th>1</th>\n",
       "      <td>all Garfield</td>\n",
       "      <td>1.947600</td>\n",
       "      <td>1.272939</td>\n",
       "      <td>True</td>\n",
       "      <td>4.679176</td>\n",
       "      <td>-1.391669</td>\n",
       "    </tr>\n",
       "    <tr>\n",
       "      <th>2</th>\n",
       "      <td>all Garfield</td>\n",
       "      <td>-3.369147</td>\n",
       "      <td>1.205877</td>\n",
       "      <td>True</td>\n",
       "      <td>Missing</td>\n",
       "      <td>-1.540960</td>\n",
       "    </tr>\n",
       "    <tr>\n",
       "      <th>3</th>\n",
       "      <td>all Garfield</td>\n",
       "      <td>-1.666680</td>\n",
       "      <td>-1.847180</td>\n",
       "      <td>False</td>\n",
       "      <td>Missing</td>\n",
       "      <td>1.899877</td>\n",
       "    </tr>\n",
       "    <tr>\n",
       "      <th>4</th>\n",
       "      <td>all Garfield</td>\n",
       "      <td>1.216112</td>\n",
       "      <td>-0.041302</td>\n",
       "      <td>False</td>\n",
       "      <td>4.825535</td>\n",
       "      <td>-0.923685</td>\n",
       "    </tr>\n",
       "  </tbody>\n",
       "</table>\n",
       "</div>"
      ],
      "text/plain": [
       "              X         Y       L_X  D_X_neg         Z  Z_stdized_g\n",
       "0  all Garfield  1.374978       NaN    False     4.976    -0.203789\n",
       "1  all Garfield  1.947600  1.272939     True  4.679176    -1.391669\n",
       "2  all Garfield -3.369147  1.205877     True   Missing    -1.540960\n",
       "3  all Garfield -1.666680 -1.847180    False   Missing     1.899877\n",
       "4  all Garfield  1.216112 -0.041302    False  4.825535    -0.923685"
      ]
     },
     "execution_count": 73,
     "metadata": {},
     "output_type": "execute_result"
    }
   ],
   "source": [
    "df = df.drop(\"D_X\",axis=1).head()\n",
    "df.head()"
   ]
  },
  {
   "cell_type": "markdown",
   "metadata": {
    "slideshow": {
     "slide_type": "slide"
    }
   },
   "source": [
    "You can, however, specify that it does it \"in place,\" meaning it will modify the object and not generate a new one."
   ]
  },
  {
   "cell_type": "code",
   "execution_count": 74,
   "metadata": {},
   "outputs": [],
   "source": [
    "df.drop(\"L_X\",axis=1,inplace=True)"
   ]
  },
  {
   "cell_type": "code",
   "execution_count": 75,
   "metadata": {},
   "outputs": [
    {
     "data": {
      "text/html": [
       "<div>\n",
       "<style scoped>\n",
       "    .dataframe tbody tr th:only-of-type {\n",
       "        vertical-align: middle;\n",
       "    }\n",
       "\n",
       "    .dataframe tbody tr th {\n",
       "        vertical-align: top;\n",
       "    }\n",
       "\n",
       "    .dataframe thead th {\n",
       "        text-align: right;\n",
       "    }\n",
       "</style>\n",
       "<table border=\"1\" class=\"dataframe\">\n",
       "  <thead>\n",
       "    <tr style=\"text-align: right;\">\n",
       "      <th></th>\n",
       "      <th>X</th>\n",
       "      <th>Y</th>\n",
       "      <th>D_X_neg</th>\n",
       "      <th>Z</th>\n",
       "      <th>Z_stdized_g</th>\n",
       "    </tr>\n",
       "  </thead>\n",
       "  <tbody>\n",
       "    <tr>\n",
       "      <th>0</th>\n",
       "      <td>all Garfield</td>\n",
       "      <td>1.374978</td>\n",
       "      <td>False</td>\n",
       "      <td>4.976</td>\n",
       "      <td>-0.203789</td>\n",
       "    </tr>\n",
       "    <tr>\n",
       "      <th>1</th>\n",
       "      <td>all Garfield</td>\n",
       "      <td>1.947600</td>\n",
       "      <td>True</td>\n",
       "      <td>4.679176</td>\n",
       "      <td>-1.391669</td>\n",
       "    </tr>\n",
       "    <tr>\n",
       "      <th>2</th>\n",
       "      <td>all Garfield</td>\n",
       "      <td>-3.369147</td>\n",
       "      <td>True</td>\n",
       "      <td>Missing</td>\n",
       "      <td>-1.540960</td>\n",
       "    </tr>\n",
       "    <tr>\n",
       "      <th>3</th>\n",
       "      <td>all Garfield</td>\n",
       "      <td>-1.666680</td>\n",
       "      <td>False</td>\n",
       "      <td>Missing</td>\n",
       "      <td>1.899877</td>\n",
       "    </tr>\n",
       "    <tr>\n",
       "      <th>4</th>\n",
       "      <td>all Garfield</td>\n",
       "      <td>1.216112</td>\n",
       "      <td>False</td>\n",
       "      <td>4.825535</td>\n",
       "      <td>-0.923685</td>\n",
       "    </tr>\n",
       "  </tbody>\n",
       "</table>\n",
       "</div>"
      ],
      "text/plain": [
       "              X         Y  D_X_neg         Z  Z_stdized_g\n",
       "0  all Garfield  1.374978    False     4.976    -0.203789\n",
       "1  all Garfield  1.947600     True  4.679176    -1.391669\n",
       "2  all Garfield -3.369147     True   Missing    -1.540960\n",
       "3  all Garfield -1.666680    False   Missing     1.899877\n",
       "4  all Garfield  1.216112    False  4.825535    -0.923685"
      ]
     },
     "execution_count": 75,
     "metadata": {},
     "output_type": "execute_result"
    }
   ],
   "source": [
    "df.head()"
   ]
  },
  {
   "cell_type": "markdown",
   "metadata": {
    "slideshow": {
     "slide_type": "slide"
    }
   },
   "source": [
    "### Data Merging in Pandas:\n",
    "- `join` is for merging on indices; DataFrames must be the same size for this.\n",
    "- `concat` is for concatenation like in Numpy.\n",
    "- `merge` is for any of the above but includes many to one merges.\n",
    "    - Instead of the \"m:1\" stuff Stata uses, it uses `left`, `right`, `outer` and `inner` (which comes from SQL)."
   ]
  },
  {
   "attachments": {
    "image.png": {
     "image/png": "[encoded data removed]"
    }
   },
   "cell_type": "markdown",
   "metadata": {
    "slideshow": {
     "slide_type": "slide"
    }
   },
   "source": [
    "![image.png](attachment:image.png)\n",
    "\n",
    "\n",
    "[Link to image](https://medium.com/swlh/merging-dataframes-with-pandas-pd-merge-7764c7e2d46d)"
   ]
  },
  {
   "cell_type": "markdown",
   "metadata": {
    "slideshow": {
     "slide_type": "slide"
    }
   },
   "source": [
    "- inner: keep rows that match on the keys in __both__ dataframes.\n",
    "- outer: keep __all__ rows __regardless__ of whether keys match.\n",
    "- left: keep all rows in the right that match and all the left.\n",
    "- right: inverse of left."
   ]
  },
  {
   "cell_type": "code",
   "execution_count": 76,
   "metadata": {
    "slideshow": {
     "slide_type": "slide"
    }
   },
   "outputs": [
    {
     "data": {
      "text/html": [
       "<div>\n",
       "<style scoped>\n",
       "    .dataframe tbody tr th:only-of-type {\n",
       "        vertical-align: middle;\n",
       "    }\n",
       "\n",
       "    .dataframe tbody tr th {\n",
       "        vertical-align: top;\n",
       "    }\n",
       "\n",
       "    .dataframe thead th {\n",
       "        text-align: right;\n",
       "    }\n",
       "</style>\n",
       "<table border=\"1\" class=\"dataframe\">\n",
       "  <thead>\n",
       "    <tr style=\"text-align: right;\">\n",
       "      <th></th>\n",
       "      <th>X</th>\n",
       "      <th>Y</th>\n",
       "      <th>D_X_neg</th>\n",
       "      <th>Z</th>\n",
       "      <th>Z_stdized_g</th>\n",
       "      <th>Missing</th>\n",
       "      <th>Y_mean</th>\n",
       "    </tr>\n",
       "  </thead>\n",
       "  <tbody>\n",
       "    <tr>\n",
       "      <th>0</th>\n",
       "      <td>all Garfield</td>\n",
       "      <td>1.374978</td>\n",
       "      <td>False</td>\n",
       "      <td>4.976</td>\n",
       "      <td>-0.203789</td>\n",
       "      <td>False</td>\n",
       "      <td>1.512897</td>\n",
       "    </tr>\n",
       "    <tr>\n",
       "      <th>1</th>\n",
       "      <td>all Garfield</td>\n",
       "      <td>1.947600</td>\n",
       "      <td>True</td>\n",
       "      <td>4.679176</td>\n",
       "      <td>-1.391669</td>\n",
       "      <td>False</td>\n",
       "      <td>1.512897</td>\n",
       "    </tr>\n",
       "    <tr>\n",
       "      <th>2</th>\n",
       "      <td>all Garfield</td>\n",
       "      <td>-3.369147</td>\n",
       "      <td>True</td>\n",
       "      <td>Missing</td>\n",
       "      <td>-1.540960</td>\n",
       "      <td>True</td>\n",
       "      <td>-2.517914</td>\n",
       "    </tr>\n",
       "    <tr>\n",
       "      <th>3</th>\n",
       "      <td>all Garfield</td>\n",
       "      <td>-1.666680</td>\n",
       "      <td>False</td>\n",
       "      <td>Missing</td>\n",
       "      <td>1.899877</td>\n",
       "      <td>True</td>\n",
       "      <td>-2.517914</td>\n",
       "    </tr>\n",
       "    <tr>\n",
       "      <th>4</th>\n",
       "      <td>all Garfield</td>\n",
       "      <td>1.216112</td>\n",
       "      <td>False</td>\n",
       "      <td>4.825535</td>\n",
       "      <td>-0.923685</td>\n",
       "      <td>False</td>\n",
       "      <td>1.512897</td>\n",
       "    </tr>\n",
       "  </tbody>\n",
       "</table>\n",
       "</div>"
      ],
      "text/plain": [
       "              X         Y  D_X_neg         Z  Z_stdized_g  Missing    Y_mean\n",
       "0  all Garfield  1.374978    False     4.976    -0.203789    False  1.512897\n",
       "1  all Garfield  1.947600     True  4.679176    -1.391669    False  1.512897\n",
       "2  all Garfield -3.369147     True   Missing    -1.540960     True -2.517914\n",
       "3  all Garfield -1.666680    False   Missing     1.899877     True -2.517914\n",
       "4  all Garfield  1.216112    False  4.825535    -0.923685    False  1.512897"
      ]
     },
     "execution_count": 76,
     "metadata": {},
     "output_type": "execute_result"
    }
   ],
   "source": [
    "df['Missing'] = df['Z'] == \"Missing\" # Make a boolean column for missing values in Z\n",
    "\n",
    "Y_means = df.groupby(\"Missing\")['Y'].mean() # Take the mean of Y by these two groups\n",
    "Y_means = Y_means.reset_index() # Reset index so that \"Missing appears\"\n",
    "\n",
    "df.merge(Y_means,on=\"Missing\",how=\"left\",suffixes=(\"\",\"_mean\"))"
   ]
  },
  {
   "cell_type": "markdown",
   "metadata": {
    "slideshow": {
     "slide_type": "-"
    }
   },
   "source": [
    "__What did this code just do?__"
   ]
  },
  {
   "cell_type": "markdown",
   "metadata": {
    "slideshow": {
     "slide_type": "slide"
    }
   },
   "source": [
    "Step-by-step:\n",
    "- `df['Missing'] = df['Z'] == \"Missing\"` created a column called \"Missing\" that is a Boolean vector.\n",
    "- `Y_means = df.groupby(\"Missing\")['Y'].mean().reset_index()`\n",
    "    - Groupby the variable \"Missing\"\n",
    "    - For the column Y, take the average for all levels of \"Missing\"\n"
   ]
  },
  {
   "cell_type": "code",
   "execution_count": 77,
   "metadata": {},
   "outputs": [
    {
     "data": {
      "text/plain": [
       "Missing\n",
       "False    1.512897\n",
       "True    -2.517914\n",
       "Name: Y, dtype: float64"
      ]
     },
     "execution_count": 77,
     "metadata": {},
     "output_type": "execute_result"
    }
   ],
   "source": [
    "df.groupby(\"Missing\")['Y'].mean()"
   ]
  },
  {
   "cell_type": "markdown",
   "metadata": {},
   "source": [
    "- Reset the index so that you have a DataFrame that looks like this:"
   ]
  },
  {
   "cell_type": "code",
   "execution_count": 78,
   "metadata": {
    "slideshow": {
     "slide_type": "-"
    }
   },
   "outputs": [
    {
     "data": {
      "text/html": [
       "<div>\n",
       "<style scoped>\n",
       "    .dataframe tbody tr th:only-of-type {\n",
       "        vertical-align: middle;\n",
       "    }\n",
       "\n",
       "    .dataframe tbody tr th {\n",
       "        vertical-align: top;\n",
       "    }\n",
       "\n",
       "    .dataframe thead th {\n",
       "        text-align: right;\n",
       "    }\n",
       "</style>\n",
       "<table border=\"1\" class=\"dataframe\">\n",
       "  <thead>\n",
       "    <tr style=\"text-align: right;\">\n",
       "      <th></th>\n",
       "      <th>Missing</th>\n",
       "      <th>Y</th>\n",
       "    </tr>\n",
       "  </thead>\n",
       "  <tbody>\n",
       "    <tr>\n",
       "      <th>0</th>\n",
       "      <td>False</td>\n",
       "      <td>1.512897</td>\n",
       "    </tr>\n",
       "    <tr>\n",
       "      <th>1</th>\n",
       "      <td>True</td>\n",
       "      <td>-2.517914</td>\n",
       "    </tr>\n",
       "  </tbody>\n",
       "</table>\n",
       "</div>"
      ],
      "text/plain": [
       "   Missing         Y\n",
       "0    False  1.512897\n",
       "1     True -2.517914"
      ]
     },
     "execution_count": 78,
     "metadata": {},
     "output_type": "execute_result"
    }
   ],
   "source": [
    "df.groupby(\"Missing\")['Y'].mean().reset_index()"
   ]
  },
  {
   "cell_type": "markdown",
   "metadata": {
    "slideshow": {
     "slide_type": "slide"
    }
   },
   "source": [
    "- `df.merge(Y_means,on=\"Missing\",how=\"left\",suffixes=(\"\",\"_mean\"))`\n",
    "    - Do a left merge with the DataFrame I just created.\n",
    "    - Merge on the variable \"Missing.\"\n",
    "    - When there are overlapping columns, give the one on in the \"right\" DataFrame the suffix \"_mean\"\n",
    "    - The above option is because \"Y\" is in both DataFrames."
   ]
  },
  {
   "cell_type": "code",
   "execution_count": 79,
   "metadata": {
    "slideshow": {
     "slide_type": "-"
    }
   },
   "outputs": [
    {
     "data": {
      "text/html": [
       "<div>\n",
       "<style scoped>\n",
       "    .dataframe tbody tr th:only-of-type {\n",
       "        vertical-align: middle;\n",
       "    }\n",
       "\n",
       "    .dataframe tbody tr th {\n",
       "        vertical-align: top;\n",
       "    }\n",
       "\n",
       "    .dataframe thead th {\n",
       "        text-align: right;\n",
       "    }\n",
       "</style>\n",
       "<table border=\"1\" class=\"dataframe\">\n",
       "  <thead>\n",
       "    <tr style=\"text-align: right;\">\n",
       "      <th></th>\n",
       "      <th>X</th>\n",
       "      <th>Y</th>\n",
       "      <th>D_X_neg</th>\n",
       "      <th>Z</th>\n",
       "      <th>Z_stdized_g</th>\n",
       "      <th>Missing</th>\n",
       "      <th>Y_mean</th>\n",
       "    </tr>\n",
       "  </thead>\n",
       "  <tbody>\n",
       "    <tr>\n",
       "      <th>0</th>\n",
       "      <td>all Garfield</td>\n",
       "      <td>1.374978</td>\n",
       "      <td>False</td>\n",
       "      <td>4.976</td>\n",
       "      <td>-0.203789</td>\n",
       "      <td>False</td>\n",
       "      <td>1.512897</td>\n",
       "    </tr>\n",
       "    <tr>\n",
       "      <th>1</th>\n",
       "      <td>all Garfield</td>\n",
       "      <td>1.947600</td>\n",
       "      <td>True</td>\n",
       "      <td>4.679176</td>\n",
       "      <td>-1.391669</td>\n",
       "      <td>False</td>\n",
       "      <td>1.512897</td>\n",
       "    </tr>\n",
       "    <tr>\n",
       "      <th>2</th>\n",
       "      <td>all Garfield</td>\n",
       "      <td>-3.369147</td>\n",
       "      <td>True</td>\n",
       "      <td>Missing</td>\n",
       "      <td>-1.540960</td>\n",
       "      <td>True</td>\n",
       "      <td>-2.517914</td>\n",
       "    </tr>\n",
       "    <tr>\n",
       "      <th>3</th>\n",
       "      <td>all Garfield</td>\n",
       "      <td>-1.666680</td>\n",
       "      <td>False</td>\n",
       "      <td>Missing</td>\n",
       "      <td>1.899877</td>\n",
       "      <td>True</td>\n",
       "      <td>-2.517914</td>\n",
       "    </tr>\n",
       "    <tr>\n",
       "      <th>4</th>\n",
       "      <td>all Garfield</td>\n",
       "      <td>1.216112</td>\n",
       "      <td>False</td>\n",
       "      <td>4.825535</td>\n",
       "      <td>-0.923685</td>\n",
       "      <td>False</td>\n",
       "      <td>1.512897</td>\n",
       "    </tr>\n",
       "  </tbody>\n",
       "</table>\n",
       "</div>"
      ],
      "text/plain": [
       "              X         Y  D_X_neg         Z  Z_stdized_g  Missing    Y_mean\n",
       "0  all Garfield  1.374978    False     4.976    -0.203789    False  1.512897\n",
       "1  all Garfield  1.947600     True  4.679176    -1.391669    False  1.512897\n",
       "2  all Garfield -3.369147     True   Missing    -1.540960     True -2.517914\n",
       "3  all Garfield -1.666680    False   Missing     1.899877     True -2.517914\n",
       "4  all Garfield  1.216112    False  4.825535    -0.923685    False  1.512897"
      ]
     },
     "execution_count": 79,
     "metadata": {},
     "output_type": "execute_result"
    }
   ],
   "source": [
    "df.merge(Y_means,on=\"Missing\",how=\"left\",suffixes=(\"\",\"_mean\"))"
   ]
  },
  {
   "cell_type": "markdown",
   "metadata": {
    "slideshow": {
     "slide_type": "slide"
    }
   },
   "source": [
    "Another useful argument for `pd.merge()` is `indicator=\"string\"`, which creates something like the Stata `_merge` variable."
   ]
  },
  {
   "cell_type": "code",
   "execution_count": 80,
   "metadata": {
    "slideshow": {
     "slide_type": "-"
    }
   },
   "outputs": [
    {
     "data": {
      "text/html": [
       "<div>\n",
       "<style scoped>\n",
       "    .dataframe tbody tr th:only-of-type {\n",
       "        vertical-align: middle;\n",
       "    }\n",
       "\n",
       "    .dataframe tbody tr th {\n",
       "        vertical-align: top;\n",
       "    }\n",
       "\n",
       "    .dataframe thead th {\n",
       "        text-align: right;\n",
       "    }\n",
       "</style>\n",
       "<table border=\"1\" class=\"dataframe\">\n",
       "  <thead>\n",
       "    <tr style=\"text-align: right;\">\n",
       "      <th></th>\n",
       "      <th>X</th>\n",
       "      <th>Y</th>\n",
       "      <th>D_X_neg</th>\n",
       "      <th>Z</th>\n",
       "      <th>Z_stdized_g</th>\n",
       "      <th>Missing</th>\n",
       "      <th>Y_mean</th>\n",
       "      <th>i</th>\n",
       "    </tr>\n",
       "  </thead>\n",
       "  <tbody>\n",
       "    <tr>\n",
       "      <th>0</th>\n",
       "      <td>all Garfield</td>\n",
       "      <td>1.374978</td>\n",
       "      <td>False</td>\n",
       "      <td>4.976</td>\n",
       "      <td>-0.203789</td>\n",
       "      <td>False</td>\n",
       "      <td>1.512897</td>\n",
       "      <td>both</td>\n",
       "    </tr>\n",
       "    <tr>\n",
       "      <th>1</th>\n",
       "      <td>all Garfield</td>\n",
       "      <td>1.947600</td>\n",
       "      <td>True</td>\n",
       "      <td>4.679176</td>\n",
       "      <td>-1.391669</td>\n",
       "      <td>False</td>\n",
       "      <td>1.512897</td>\n",
       "      <td>both</td>\n",
       "    </tr>\n",
       "    <tr>\n",
       "      <th>2</th>\n",
       "      <td>all Garfield</td>\n",
       "      <td>-3.369147</td>\n",
       "      <td>True</td>\n",
       "      <td>Missing</td>\n",
       "      <td>-1.540960</td>\n",
       "      <td>True</td>\n",
       "      <td>-2.517914</td>\n",
       "      <td>both</td>\n",
       "    </tr>\n",
       "    <tr>\n",
       "      <th>3</th>\n",
       "      <td>all Garfield</td>\n",
       "      <td>-1.666680</td>\n",
       "      <td>False</td>\n",
       "      <td>Missing</td>\n",
       "      <td>1.899877</td>\n",
       "      <td>True</td>\n",
       "      <td>-2.517914</td>\n",
       "      <td>both</td>\n",
       "    </tr>\n",
       "    <tr>\n",
       "      <th>4</th>\n",
       "      <td>all Garfield</td>\n",
       "      <td>1.216112</td>\n",
       "      <td>False</td>\n",
       "      <td>4.825535</td>\n",
       "      <td>-0.923685</td>\n",
       "      <td>False</td>\n",
       "      <td>1.512897</td>\n",
       "      <td>both</td>\n",
       "    </tr>\n",
       "  </tbody>\n",
       "</table>\n",
       "</div>"
      ],
      "text/plain": [
       "              X         Y  D_X_neg         Z  Z_stdized_g  Missing    Y_mean  \\\n",
       "0  all Garfield  1.374978    False     4.976    -0.203789    False  1.512897   \n",
       "1  all Garfield  1.947600     True  4.679176    -1.391669    False  1.512897   \n",
       "2  all Garfield -3.369147     True   Missing    -1.540960     True -2.517914   \n",
       "3  all Garfield -1.666680    False   Missing     1.899877     True -2.517914   \n",
       "4  all Garfield  1.216112    False  4.825535    -0.923685    False  1.512897   \n",
       "\n",
       "      i  \n",
       "0  both  \n",
       "1  both  \n",
       "2  both  \n",
       "3  both  \n",
       "4  both  "
      ]
     },
     "execution_count": 80,
     "metadata": {},
     "output_type": "execute_result"
    }
   ],
   "source": [
    "df.merge(Y_means,on=\"Missing\",how=\"left\",suffixes=(\"\",\"_mean\"),indicator=\"i\")"
   ]
  },
  {
   "cell_type": "markdown",
   "metadata": {
    "slideshow": {
     "slide_type": "-"
    }
   },
   "source": [
    "Labeled \"both\" because the values of `Missing` are found in both DataFrames. If we had something else it would mess up:"
   ]
  },
  {
   "cell_type": "code",
   "execution_count": 81,
   "metadata": {
    "slideshow": {
     "slide_type": "slide"
    }
   },
   "outputs": [
    {
     "name": "stderr",
     "output_type": "stream",
     "text": [
      "C:\\Users\\jhtchns2\\AppData\\Local\\Temp\\ipykernel_22312\\206848529.py:1: FutureWarning: Setting an item of incompatible dtype is deprecated and will raise in a future error of pandas. Value 'Not Missing' has dtype incompatible with bool, please explicitly cast to a compatible dtype first.\n",
      "  df.loc[df.Y>1,\"Missing\"] = \"Not Missing\"\n"
     ]
    }
   ],
   "source": [
    "df.loc[df.Y>1,\"Missing\"] = \"Not Missing\""
   ]
  },
  {
   "cell_type": "code",
   "execution_count": 82,
   "metadata": {
    "slideshow": {
     "slide_type": "-"
    }
   },
   "outputs": [
    {
     "data": {
      "text/html": [
       "<div>\n",
       "<style scoped>\n",
       "    .dataframe tbody tr th:only-of-type {\n",
       "        vertical-align: middle;\n",
       "    }\n",
       "\n",
       "    .dataframe tbody tr th {\n",
       "        vertical-align: top;\n",
       "    }\n",
       "\n",
       "    .dataframe thead th {\n",
       "        text-align: right;\n",
       "    }\n",
       "</style>\n",
       "<table border=\"1\" class=\"dataframe\">\n",
       "  <thead>\n",
       "    <tr style=\"text-align: right;\">\n",
       "      <th></th>\n",
       "      <th>X</th>\n",
       "      <th>Y</th>\n",
       "      <th>D_X_neg</th>\n",
       "      <th>Z</th>\n",
       "      <th>Z_stdized_g</th>\n",
       "      <th>Missing</th>\n",
       "    </tr>\n",
       "  </thead>\n",
       "  <tbody>\n",
       "    <tr>\n",
       "      <th>0</th>\n",
       "      <td>all Garfield</td>\n",
       "      <td>1.374978</td>\n",
       "      <td>False</td>\n",
       "      <td>4.976</td>\n",
       "      <td>-0.203789</td>\n",
       "      <td>Not Missing</td>\n",
       "    </tr>\n",
       "    <tr>\n",
       "      <th>1</th>\n",
       "      <td>all Garfield</td>\n",
       "      <td>1.947600</td>\n",
       "      <td>True</td>\n",
       "      <td>4.679176</td>\n",
       "      <td>-1.391669</td>\n",
       "      <td>Not Missing</td>\n",
       "    </tr>\n",
       "    <tr>\n",
       "      <th>2</th>\n",
       "      <td>all Garfield</td>\n",
       "      <td>-3.369147</td>\n",
       "      <td>True</td>\n",
       "      <td>Missing</td>\n",
       "      <td>-1.540960</td>\n",
       "      <td>True</td>\n",
       "    </tr>\n",
       "    <tr>\n",
       "      <th>3</th>\n",
       "      <td>all Garfield</td>\n",
       "      <td>-1.666680</td>\n",
       "      <td>False</td>\n",
       "      <td>Missing</td>\n",
       "      <td>1.899877</td>\n",
       "      <td>True</td>\n",
       "    </tr>\n",
       "    <tr>\n",
       "      <th>4</th>\n",
       "      <td>all Garfield</td>\n",
       "      <td>1.216112</td>\n",
       "      <td>False</td>\n",
       "      <td>4.825535</td>\n",
       "      <td>-0.923685</td>\n",
       "      <td>Not Missing</td>\n",
       "    </tr>\n",
       "  </tbody>\n",
       "</table>\n",
       "</div>"
      ],
      "text/plain": [
       "              X         Y  D_X_neg         Z  Z_stdized_g      Missing\n",
       "0  all Garfield  1.374978    False     4.976    -0.203789  Not Missing\n",
       "1  all Garfield  1.947600     True  4.679176    -1.391669  Not Missing\n",
       "2  all Garfield -3.369147     True   Missing    -1.540960         True\n",
       "3  all Garfield -1.666680    False   Missing     1.899877         True\n",
       "4  all Garfield  1.216112    False  4.825535    -0.923685  Not Missing"
      ]
     },
     "execution_count": 82,
     "metadata": {},
     "output_type": "execute_result"
    }
   ],
   "source": [
    "df"
   ]
  },
  {
   "cell_type": "code",
   "execution_count": 83,
   "metadata": {
    "slideshow": {
     "slide_type": "slide"
    }
   },
   "outputs": [
    {
     "data": {
      "text/html": [
       "<div>\n",
       "<style scoped>\n",
       "    .dataframe tbody tr th:only-of-type {\n",
       "        vertical-align: middle;\n",
       "    }\n",
       "\n",
       "    .dataframe tbody tr th {\n",
       "        vertical-align: top;\n",
       "    }\n",
       "\n",
       "    .dataframe thead th {\n",
       "        text-align: right;\n",
       "    }\n",
       "</style>\n",
       "<table border=\"1\" class=\"dataframe\">\n",
       "  <thead>\n",
       "    <tr style=\"text-align: right;\">\n",
       "      <th></th>\n",
       "      <th>X</th>\n",
       "      <th>Y</th>\n",
       "      <th>D_X_neg</th>\n",
       "      <th>Z</th>\n",
       "      <th>Z_stdized_g</th>\n",
       "      <th>Missing</th>\n",
       "      <th>Y_mean</th>\n",
       "      <th>_merge</th>\n",
       "    </tr>\n",
       "  </thead>\n",
       "  <tbody>\n",
       "    <tr>\n",
       "      <th>0</th>\n",
       "      <td>all Garfield</td>\n",
       "      <td>1.374978</td>\n",
       "      <td>False</td>\n",
       "      <td>4.976</td>\n",
       "      <td>-0.203789</td>\n",
       "      <td>Not Missing</td>\n",
       "      <td>NaN</td>\n",
       "      <td>left_only</td>\n",
       "    </tr>\n",
       "    <tr>\n",
       "      <th>1</th>\n",
       "      <td>all Garfield</td>\n",
       "      <td>1.947600</td>\n",
       "      <td>True</td>\n",
       "      <td>4.679176</td>\n",
       "      <td>-1.391669</td>\n",
       "      <td>Not Missing</td>\n",
       "      <td>NaN</td>\n",
       "      <td>left_only</td>\n",
       "    </tr>\n",
       "    <tr>\n",
       "      <th>2</th>\n",
       "      <td>all Garfield</td>\n",
       "      <td>-3.369147</td>\n",
       "      <td>True</td>\n",
       "      <td>Missing</td>\n",
       "      <td>-1.540960</td>\n",
       "      <td>True</td>\n",
       "      <td>-2.517914</td>\n",
       "      <td>both</td>\n",
       "    </tr>\n",
       "    <tr>\n",
       "      <th>3</th>\n",
       "      <td>all Garfield</td>\n",
       "      <td>-1.666680</td>\n",
       "      <td>False</td>\n",
       "      <td>Missing</td>\n",
       "      <td>1.899877</td>\n",
       "      <td>True</td>\n",
       "      <td>-2.517914</td>\n",
       "      <td>both</td>\n",
       "    </tr>\n",
       "    <tr>\n",
       "      <th>4</th>\n",
       "      <td>all Garfield</td>\n",
       "      <td>1.216112</td>\n",
       "      <td>False</td>\n",
       "      <td>4.825535</td>\n",
       "      <td>-0.923685</td>\n",
       "      <td>Not Missing</td>\n",
       "      <td>NaN</td>\n",
       "      <td>left_only</td>\n",
       "    </tr>\n",
       "  </tbody>\n",
       "</table>\n",
       "</div>"
      ],
      "text/plain": [
       "              X         Y  D_X_neg         Z  Z_stdized_g      Missing  \\\n",
       "0  all Garfield  1.374978    False     4.976    -0.203789  Not Missing   \n",
       "1  all Garfield  1.947600     True  4.679176    -1.391669  Not Missing   \n",
       "2  all Garfield -3.369147     True   Missing    -1.540960         True   \n",
       "3  all Garfield -1.666680    False   Missing     1.899877         True   \n",
       "4  all Garfield  1.216112    False  4.825535    -0.923685  Not Missing   \n",
       "\n",
       "     Y_mean     _merge  \n",
       "0       NaN  left_only  \n",
       "1       NaN  left_only  \n",
       "2 -2.517914       both  \n",
       "3 -2.517914       both  \n",
       "4       NaN  left_only  "
      ]
     },
     "execution_count": 83,
     "metadata": {},
     "output_type": "execute_result"
    }
   ],
   "source": [
    "df.merge(Y_means,on=\"Missing\",how=\"left\",suffixes=(\"\",\"_mean\"),indicator=\"_merge\")"
   ]
  },
  {
   "cell_type": "markdown",
   "metadata": {
    "slideshow": {
     "slide_type": "slide"
    }
   },
   "source": [
    "### Reading data in to Pandas.\n",
    "In addition to converting from dictionaries and arrays, Pandas reads from almost every file format.\n",
    "- `pd.read_csv` for .csv files.\n",
    "- `pd.read_html` for .html files (we will use this when doing scraping).\n",
    "- `pd.read_stata` for Stata data files.\n",
    "- `pd.read_json` for .json files (we will use this when retreiving API data)."
   ]
  },
  {
   "cell_type": "markdown",
   "metadata": {
    "slideshow": {
     "slide_type": "slide"
    }
   },
   "source": [
    "### Pandas vs. Stata\n",
    "- In Stata, there is __only one dataframe in memory at a time__. In Pandas these are objects and there can be as many in memory as you can hold.\n",
    "- Everything you do in Stata is \"in place.\" In Pandas this will __only happen if you specify it__.\n",
    "- When merging or joining, Pandas needs both DataFrames read into memory; this can be an issue if they are very big and requires you to use \"chunking\" or other work arounds.\n",
    "\n",
    "For other questions comparing pandas and Stata, I recommend consulting [this link](http://www.danielmsullivan.com/pages/tutorial_stata_to_python.html)\n",
    "\n",
    "If you want to compare to R, [consult this link](https://towardsdatascience.com/cheat-sheet-for-python-dataframe-r-dataframe-syntax-conversions-450f656b44ca)"
   ]
  }
 ],
 "metadata": {
  "celltoolbar": "Slideshow",
  "kernelspec": {
   "display_name": "Python 3 (ipykernel)",
   "language": "python",
   "name": "python3"
  },
  "language_info": {
   "codemirror_mode": {
    "name": "ipython",
    "version": 3
   },
   "file_extension": ".py",
   "mimetype": "text/x-python",
   "name": "python",
   "nbconvert_exporter": "python",
   "pygments_lexer": "ipython3",
   "version": "3.12.1"
  },
  "rise": {
   "transition": "none"
  }
 },
 "nbformat": 4,
 "nbformat_minor": 4
}
