{
 "cells": [
  {
   "cell_type": "code",
   "execution_count": null,
   "metadata": {
    "slideshow": {
     "slide_type": "skip"
    }
   },
   "outputs": [],
   "source": [
    "import numpy as np\n",
    "import matplotlib.pyplot as plt\n",
    "%matplotlib inline\n",
    "\n",
    "# The standard library for data in tables\n",
    "import pandas as pd\n",
    "\n",
    "# A tiny function to read a file directly from a URL\n",
    "from urllib.request import urlopen "
   ]
  },
  {
   "cell_type": "markdown",
   "metadata": {
    "slideshow": {
     "slide_type": "slide"
    }
   },
   "source": [
    "# Feeling Misérable\n",
    "\n",
    "For our first case study, we will look at a French novel classic: Les Misérables by Victor Hugo.\n",
    "\n",
    "Using an English translation of this book, we can demonstrate the workflow common in text analysis:\n",
    "1. Reading in the data.\n",
    "2. Cleaning the text.\n",
    "3. Tokenize the text.\n",
    "4. Extract features.\n",
    "5. Do an analysis."
   ]
  },
  {
   "cell_type": "markdown",
   "metadata": {
    "slideshow": {
     "slide_type": "slide"
    }
   },
   "source": [
    "## Part 1: Reading in the Data\n",
    "\n",
    "www.gutenberg.org has free copies of books that are in the public domain. Using their website, I found the link to the text file and can retrieve it using `requests`."
   ]
  },
  {
   "cell_type": "markdown",
   "metadata": {
    "slideshow": {
     "slide_type": "slide"
    }
   },
   "source": [
    "#### Reading the book"
   ]
  },
  {
   "cell_type": "code",
   "execution_count": null,
   "metadata": {
    "slideshow": {
     "slide_type": "-"
    }
   },
   "outputs": [],
   "source": [
    "import requests\n",
    "\n",
    "r = requests.get('http://www.gutenberg.org/files/135/135-0.txt')\n",
    "r.status_code"
   ]
  },
  {
   "cell_type": "code",
   "execution_count": null,
   "metadata": {
    "slideshow": {
     "slide_type": "-"
    }
   },
   "outputs": [],
   "source": [
    "print(r.text[:90])"
   ]
  },
  {
   "cell_type": "markdown",
   "metadata": {
    "slideshow": {
     "slide_type": "-"
    }
   },
   "source": [
    "Uh oh, what just happened here?"
   ]
  },
  {
   "cell_type": "markdown",
   "metadata": {
    "slideshow": {
     "slide_type": "slide"
    }
   },
   "source": [
    "### __Unicode__\n",
    "If you've ever typed in another language other than English and had it come out garbled, you have bumped up against encoding problems.\n",
    "\n",
    "In the original character set, called ASCII, there was usually only space for English characters.\n",
    "\n",
    "__Unicode__ came around and become a standard adopted across the web, especially UTF-8.\n",
    "\n",
    "UTF-8 is now the encoding that represents all languages."
   ]
  },
  {
   "cell_type": "markdown",
   "metadata": {
    "slideshow": {
     "slide_type": "slide"
    }
   },
   "source": [
    "So what did our request read in?"
   ]
  },
  {
   "cell_type": "code",
   "execution_count": null,
   "metadata": {
    "slideshow": {
     "slide_type": "-"
    }
   },
   "outputs": [],
   "source": [
    "r.encoding"
   ]
  },
  {
   "cell_type": "markdown",
   "metadata": {
    "slideshow": {
     "slide_type": "-"
    }
   },
   "source": [
    "Which is a Latin encoding that misinterpreted the accented e in Misérable."
   ]
  },
  {
   "cell_type": "code",
   "execution_count": null,
   "metadata": {
    "slideshow": {
     "slide_type": "-"
    }
   },
   "outputs": [],
   "source": [
    "r.encoding = \"utf-8\"\n",
    "\n",
    "print(r.text[:90])"
   ]
  },
  {
   "cell_type": "markdown",
   "metadata": {
    "slideshow": {
     "slide_type": "-"
    }
   },
   "source": [
    "Much better!"
   ]
  },
  {
   "cell_type": "markdown",
   "metadata": {
    "slideshow": {
     "slide_type": "slide"
    }
   },
   "source": [
    "## Part 2: Text Cleaning\n",
    "There are a few issues I need to address with this text before continuing.\n",
    "- Accent characters are hard to type on an American keyboard.\n",
    "- There are still characters like `\\n` and `\\r` in the text.\n",
    "- Capitalization and punctuation.\n",
    "\n",
    "Most of this can be taken care of with built-in Python string methods."
   ]
  },
  {
   "cell_type": "markdown",
   "metadata": {
    "slideshow": {
     "slide_type": "slide"
    }
   },
   "source": [
    "### Decoding accented characters\n",
    "\n",
    "Since the book is originally in French (and so the place names and names are in French), I'm going to strip all the letters of their accents to make it easier to use an English keyboard."
   ]
  },
  {
   "cell_type": "code",
   "execution_count": null,
   "metadata": {
    "slideshow": {
     "slide_type": "slide"
    }
   },
   "outputs": [],
   "source": [
    "book_text = r.text\n",
    "\n",
    "from unidecode import unidecode as unidec\n",
    "\n",
    "book_text = unidec(book_text)\n",
    "\n",
    "book_text[:90]"
   ]
  },
  {
   "cell_type": "markdown",
   "metadata": {
    "slideshow": {
     "slide_type": "-"
    }
   },
   "source": [
    "Now it's back to ASCII\n",
    "\n",
    "__When would this not be a good idea?__"
   ]
  },
  {
   "cell_type": "markdown",
   "metadata": {
    "slideshow": {
     "slide_type": "slide"
    }
   },
   "source": [
    "### Main Text Extraction\n",
    "Before we go any farther, I'm going to extract the actual main text.\n",
    "\n",
    "#### Finding the main text\n",
    "\n",
    "This book actually has a ton a preamble to it, including publisher information and a table of contents."
   ]
  },
  {
   "cell_type": "code",
   "execution_count": null,
   "metadata": {
    "slideshow": {
     "slide_type": "-"
    }
   },
   "outputs": [],
   "source": [
    "print(book_text[:25000])"
   ]
  },
  {
   "cell_type": "markdown",
   "metadata": {
    "slideshow": {
     "slide_type": "slide"
    }
   },
   "source": [
    "How do we strip away all of this unneccesary information? Two ways:\n",
    "\n",
    "1. Just find at which character the book actually begins.\n",
    "2. Find a key word to split on.\n",
    "\n",
    "Both of these work, the second one is by far the best use of our time. After searching through the text for a while, you'll notice that the book begins with a part called \"Preface.\" If we split on this word, we will have three parts because the word Preface appears in the TOC and also before the main text:"
   ]
  },
  {
   "cell_type": "code",
   "execution_count": null,
   "metadata": {
    "slideshow": {
     "slide_type": "-"
    }
   },
   "outputs": [],
   "source": [
    "[len(x) for x in book_text.split(\"PREFACE\")]"
   ]
  },
  {
   "cell_type": "markdown",
   "metadata": {
    "slideshow": {
     "slide_type": "slide"
    }
   },
   "source": [
    "Using that list comprehension we see three chunks, the last one is the biggest, and upon inspection:"
   ]
  },
  {
   "cell_type": "code",
   "execution_count": null,
   "metadata": {
    "slideshow": {
     "slide_type": "-"
    }
   },
   "outputs": [],
   "source": [
    "print(book_text.split(\"PREFACE\")[2][:1155])"
   ]
  },
  {
   "cell_type": "markdown",
   "metadata": {
    "slideshow": {
     "slide_type": "slide"
    }
   },
   "source": [
    "We would notice that this is the beginning Preface, whereas the first and second:"
   ]
  },
  {
   "cell_type": "code",
   "execution_count": null,
   "metadata": {
    "slideshow": {
     "slide_type": "-"
    }
   },
   "outputs": [],
   "source": [
    "print(book_text.split(\"PREFACE\")[0][:50])"
   ]
  },
  {
   "cell_type": "code",
   "execution_count": null,
   "metadata": {
    "slideshow": {
     "slide_type": "-"
    }
   },
   "outputs": [],
   "source": [
    "print(book_text.split(\"PREFACE\")[1][:50])"
   ]
  },
  {
   "cell_type": "markdown",
   "metadata": {
    "slideshow": {
     "slide_type": "-"
    }
   },
   "source": [
    "are not the parts we want. So let's just get the ``main text''"
   ]
  },
  {
   "cell_type": "code",
   "execution_count": null,
   "metadata": {
    "slideshow": {
     "slide_type": "-"
    }
   },
   "outputs": [],
   "source": [
    "main_text = book_text.split(\"PREFACE\")[-1]"
   ]
  },
  {
   "cell_type": "markdown",
   "metadata": {
    "slideshow": {
     "slide_type": "slide"
    }
   },
   "source": [
    "__Also: You might notice that theres a bunch of junk at the end of this text that is not the book__:"
   ]
  },
  {
   "cell_type": "code",
   "execution_count": null,
   "metadata": {
    "slideshow": {
     "slide_type": "-"
    }
   },
   "outputs": [],
   "source": [
    "print(main_text[-3000:])"
   ]
  },
  {
   "cell_type": "markdown",
   "metadata": {
    "slideshow": {
     "slide_type": "-"
    }
   },
   "source": [
    "This information about the book, not the text itself. After searching for a while, you would find the phrase:\n",
    "\n",
    "\"END OF THE PROJECT GUTENBERG EBOOK LES MISERABLES\"\n",
    "\n",
    "Which is a place you can do a split:"
   ]
  },
  {
   "cell_type": "code",
   "execution_count": null,
   "metadata": {},
   "outputs": [],
   "source": [
    "[len(x) for x in main_text.split(\"END OF THE PROJECT GUTENBERG EBOOK LES MISERABLES\")]"
   ]
  },
  {
   "cell_type": "code",
   "execution_count": null,
   "metadata": {
    "slideshow": {
     "slide_type": "slide"
    }
   },
   "outputs": [],
   "source": [
    "main_text = main_text.split(\"END OF THE PROJECT GUTENBERG EBOOK LES MISERABLES \")[0]"
   ]
  },
  {
   "cell_type": "code",
   "execution_count": null,
   "metadata": {
    "scrolled": true,
    "slideshow": {
     "slide_type": "-"
    }
   },
   "outputs": [],
   "source": [
    "print(main_text[-1000:])"
   ]
  },
  {
   "cell_type": "markdown",
   "metadata": {
    "slideshow": {
     "slide_type": "-"
    }
   },
   "source": [
    "Those are the footnotes, so we now have all the text."
   ]
  },
  {
   "cell_type": "markdown",
   "metadata": {
    "slideshow": {
     "slide_type": "slide"
    }
   },
   "source": [
    "### Lesson here: the use of `.split()`\n",
    "\n",
    "Finding the parts of a text document you need can involve a lot of trial and error. While I did need to inspect the text alot, you'll notice that using `.split()` makes it so I don't need to search too much."
   ]
  },
  {
   "cell_type": "markdown",
   "metadata": {
    "slideshow": {
     "slide_type": "slide"
    }
   },
   "source": [
    "### Removing `\\n` and `\\r`\n",
    "\n",
    "This can be done using the replace function for strings. You will notice that they always appear in pairs:"
   ]
  },
  {
   "cell_type": "code",
   "execution_count": null,
   "metadata": {
    "slideshow": {
     "slide_type": "-"
    }
   },
   "outputs": [],
   "source": [
    "main_text = main_text.replace(\"\\r\\n\",\" \")\n",
    "\n",
    "main_text[:75]"
   ]
  },
  {
   "cell_type": "markdown",
   "metadata": {
    "slideshow": {
     "slide_type": "-"
    }
   },
   "source": [
    "__When is this not a good idea?__"
   ]
  },
  {
   "cell_type": "markdown",
   "metadata": {
    "slideshow": {
     "slide_type": "slide"
    }
   },
   "source": [
    "#### This is not a good idea if \"paragraphs\" were the unit of analysis I cared about.\n",
    "\n",
    "In this example, I'm going to analyze chapters instead of paragraphs."
   ]
  },
  {
   "cell_type": "markdown",
   "metadata": {
    "slideshow": {
     "slide_type": "slide"
    }
   },
   "source": [
    "### Capitalization and punctuation\n",
    "Why do we not want it?\n",
    "   - Capitalization will make words be treated differently if they come at the beginning of a sentence.\n",
    "   - Punctuation such as colons or apostraphes make new words: `\"therefore:\" != \"therefore\"`"
   ]
  },
  {
   "cell_type": "code",
   "execution_count": null,
   "metadata": {
    "slideshow": {
     "slide_type": "slide"
    }
   },
   "outputs": [],
   "source": [
    "import string\n",
    "string.punctuation\n",
    "\n",
    "# This maketrans function can be used to remove a list of characters from a string.\n",
    "remv_punc = str.maketrans('','',string.punctuation)\n",
    "\n",
    "book_text.translate(remv_punc)[:200]"
   ]
  },
  {
   "cell_type": "markdown",
   "metadata": {
    "slideshow": {
     "slide_type": "-"
    }
   },
   "source": [
    "__When is this a bad idea?__"
   ]
  },
  {
   "cell_type": "markdown",
   "metadata": {
    "slideshow": {
     "slide_type": "slide"
    }
   },
   "source": [
    "__It's a bad idea when punctuation is important__\n",
    "- It takes out hyphens of words: \"e-books\" becomes \"ebooks\"\n",
    "- Sentence structure will be completely gone.\n",
    "- Quotations can no longer be found."
   ]
  },
  {
   "cell_type": "markdown",
   "metadata": {
    "slideshow": {
     "slide_type": "slide"
    }
   },
   "source": [
    "### An Aside: A Use for Regular Expressions\n",
    "I pointed out that we could try and extract quotes from the book using the quotation marks. How would we do this?\n",
    "\n",
    "A regular expression can do this. Regular expressions (regex for short) are a language that uses normal characters and also \"meta characters\" match patterns in strings."
   ]
  },
  {
   "cell_type": "markdown",
   "metadata": {
    "slideshow": {
     "slide_type": "slide"
    }
   },
   "source": [
    "A very short list of regex meta characters:\n",
    "- `\\s` whitespace\n",
    "- `\\d` digit\n",
    "- `\\w` word\n",
    "- `.` any character but linebreak\n",
    "\n",
    "Where capitals of these same characters is the complement of them (`\\D` is \"not a digit\")\n"
   ]
  },
  {
   "cell_type": "code",
   "execution_count": null,
   "metadata": {
    "slideshow": {
     "slide_type": "slide"
    }
   },
   "outputs": [],
   "source": [
    "import re\n",
    "ex = \"find 2 this digit: 82\"\n",
    "re.findall(\"\\d\",ex), re.findall(\": \\d\",ex)"
   ]
  },
  {
   "cell_type": "markdown",
   "metadata": {
    "slideshow": {
     "slide_type": "-"
    }
   },
   "source": [
    "In the first one I asked for all digits, in the second one I just asked for the digit coming after a colon."
   ]
  },
  {
   "cell_type": "markdown",
   "metadata": {
    "slideshow": {
     "slide_type": "slide"
    }
   },
   "source": [
    "We also have \"quantifiers\":\n",
    "- `+` one or more\n",
    "- `{2}` exactly two instances\n",
    "- `{2,9}` at least two, no more than nine instances.\n",
    "- `*` zero or more times.\n",
    "- `?` zero or one times."
   ]
  },
  {
   "cell_type": "code",
   "execution_count": null,
   "metadata": {
    "scrolled": true,
    "slideshow": {
     "slide_type": "slide"
    }
   },
   "outputs": [],
   "source": [
    "ex = \"find 2 this digit: 897 23\"\n",
    "re.findall(\"\\d\",ex), re.findall(\"\\d+\",ex),re.findall(\"\\d{3}\",ex)"
   ]
  },
  {
   "cell_type": "markdown",
   "metadata": {
    "slideshow": {
     "slide_type": "slide"
    }
   },
   "source": [
    "Greedy versus lazy quantifiers:"
   ]
  },
  {
   "cell_type": "code",
   "execution_count": null,
   "metadata": {},
   "outputs": [],
   "source": [
    "ex"
   ]
  },
  {
   "cell_type": "code",
   "execution_count": null,
   "metadata": {
    "slideshow": {
     "slide_type": "-"
    }
   },
   "outputs": [],
   "source": [
    "re.findall(\"(\\w.*) \",ex), re.findall(\"(\\w.*?) \",ex)"
   ]
  },
  {
   "cell_type": "markdown",
   "metadata": {
    "slideshow": {
     "slide_type": "-"
    }
   },
   "source": [
    "Why did one return one long string and the other the individual words?"
   ]
  },
  {
   "cell_type": "markdown",
   "metadata": {
    "slideshow": {
     "slide_type": "slide"
    }
   },
   "source": [
    "__Greedy__ quantifiers (no `?`) find the first instance and don't stop until it finds the last closing character.\n",
    "\n",
    "__Lazy__ quantifiers (with `?`) find the first instance and stop at the first closing character and then starts again.\n",
    "\n",
    "In this case the greedy version kept looking for a white space until it couldn't find one anymore.\n",
    "\n",
    "The lazy version found whitespace after `find` and so stopped and started again.\n",
    "\n",
    "Regex takes (in my experience) a stupid amount of time to master, but is VERY powerful."
   ]
  },
  {
   "cell_type": "markdown",
   "metadata": {
    "slideshow": {
     "slide_type": "slide"
    }
   },
   "source": [
    "### How do we find quotes?\n",
    "Use this regex: `\"(.*?)\"`"
   ]
  },
  {
   "cell_type": "code",
   "execution_count": null,
   "metadata": {
    "slideshow": {
     "slide_type": "-"
    }
   },
   "outputs": [],
   "source": [
    "re.findall(r'\"(.*?)\"',main_text)"
   ]
  },
  {
   "cell_type": "markdown",
   "metadata": {
    "slideshow": {
     "slide_type": "slide"
    }
   },
   "source": [
    "### More string methods\n",
    "Finally, to make things lowercase there is a built-in string method:"
   ]
  },
  {
   "cell_type": "code",
   "execution_count": null,
   "metadata": {
    "slideshow": {
     "slide_type": "-"
    }
   },
   "outputs": [],
   "source": [
    "main_text.lower()[:200]"
   ]
  },
  {
   "cell_type": "markdown",
   "metadata": {
    "slideshow": {
     "slide_type": "slide"
    }
   },
   "source": [
    "Some other methods:"
   ]
  },
  {
   "cell_type": "code",
   "execution_count": null,
   "metadata": {
    "slideshow": {
     "slide_type": "-"
    }
   },
   "outputs": [],
   "source": [
    "main_text.upper()[:200]"
   ]
  },
  {
   "cell_type": "code",
   "execution_count": null,
   "metadata": {
    "slideshow": {
     "slide_type": "-"
    }
   },
   "outputs": [],
   "source": [
    "main_text.title()[:200]"
   ]
  },
  {
   "cell_type": "markdown",
   "metadata": {
    "slideshow": {
     "slide_type": "slide"
    }
   },
   "source": [
    "## Part 3: Tokenizing\n",
    "### Example 1: Words"
   ]
  },
  {
   "cell_type": "code",
   "execution_count": null,
   "metadata": {
    "slideshow": {
     "slide_type": "-"
    }
   },
   "outputs": [],
   "source": [
    "clean_text = book_text.split(\"PREFACE\")[-1].replace(\"\\r\\n\",\" \")\n",
    "clean_text = clean_text.translate(remv_punc)\n",
    "clean_text = clean_text.lower()\n",
    "\n",
    "clean_text[:100]"
   ]
  },
  {
   "cell_type": "markdown",
   "metadata": {
    "slideshow": {
     "slide_type": "slide"
    }
   },
   "source": [
    "\n",
    "Easiest way to \"tokenize\" is to split on the whitespace\n"
   ]
  },
  {
   "cell_type": "code",
   "execution_count": null,
   "metadata": {
    "slideshow": {
     "slide_type": "-"
    }
   },
   "outputs": [],
   "source": [
    "all_words = clean_text.split(\" \")"
   ]
  },
  {
   "cell_type": "markdown",
   "metadata": {
    "slideshow": {
     "slide_type": "slide"
    }
   },
   "source": [
    "Going to cheat and use Pandas to get a top count of all the words really fast. I'm going to put this list into a series and call the function \"value_counts\" on it:"
   ]
  },
  {
   "cell_type": "code",
   "execution_count": null,
   "metadata": {
    "slideshow": {
     "slide_type": "-"
    }
   },
   "outputs": [],
   "source": [
    "pd.Series(all_words).value_counts().head(100)"
   ]
  },
  {
   "cell_type": "markdown",
   "metadata": {
    "slideshow": {
     "slide_type": "slide"
    }
   },
   "source": [
    "Problem here is that its picking up words we don't care about like \"the\" and \"of\" and also punctuation. This is why we use stopwords!\n",
    "\n",
    "Now we will use a list of stopwords and remove them."
   ]
  },
  {
   "cell_type": "code",
   "execution_count": null,
   "metadata": {
    "scrolled": true,
    "slideshow": {
     "slide_type": "-"
    }
   },
   "outputs": [],
   "source": [
    "from nltk.corpus import stopwords\n",
    "\n",
    "# Using a series and index selection\n",
    "WC = pd.Series(all_words).value_counts()\n",
    "\n",
    "WC = WC[~WC.index.isin(stopwords.words(\"english\"))]"
   ]
  },
  {
   "cell_type": "markdown",
   "metadata": {
    "slideshow": {
     "slide_type": "slide"
    }
   },
   "source": [
    "Top ten words:"
   ]
  },
  {
   "cell_type": "code",
   "execution_count": null,
   "metadata": {
    "slideshow": {
     "slide_type": "-"
    }
   },
   "outputs": [],
   "source": [
    "WC.head(10)"
   ]
  },
  {
   "cell_type": "markdown",
   "metadata": {
    "slideshow": {
     "slide_type": "slide"
    }
   },
   "source": [
    "So we picked up some white space, but we can add to the list of stopwords:"
   ]
  },
  {
   "cell_type": "code",
   "execution_count": null,
   "metadata": {
    "slideshow": {
     "slide_type": "-"
    }
   },
   "outputs": [],
   "source": [
    "stopwords_=stopwords.words(\"english\")+[\"\",\"m\",\"said\",\"will\",\"one\",\"two\"]\n",
    "\n",
    "WC = WC[~WC.index.isin(stopwords_)]\n",
    "\n",
    "WC.head(10)"
   ]
  },
  {
   "cell_type": "markdown",
   "metadata": {
    "slideshow": {
     "slide_type": "slide"
    }
   },
   "source": [
    "#### Bonus Assignment 1: N-Grams in Les Mis\n",
    "\n",
    "What if we used n-grams to do the above analysis? Would what we see change?\n",
    "\n",
    "#### Bonus Assignment 2: Stemming in Les Mis\n",
    "\n",
    "How would our word counts change if first applied a stemming algorithm?"
   ]
  },
  {
   "cell_type": "markdown",
   "metadata": {
    "slideshow": {
     "slide_type": "slide"
    }
   },
   "source": [
    "### Visualizations of Word Counts\n",
    "I'm going to call from a package called \"wordcloud,\" which does a lot of the work for us. All we need to do is feed it a string:"
   ]
  },
  {
   "cell_type": "code",
   "execution_count": null,
   "metadata": {
    "slideshow": {
     "slide_type": "-"
    }
   },
   "outputs": [],
   "source": [
    "from wordcloud import WordCloud\n",
    "import matplotlib.pyplot as plt"
   ]
  },
  {
   "cell_type": "markdown",
   "metadata": {
    "slideshow": {
     "slide_type": "slide"
    }
   },
   "source": [
    "Call the function:"
   ]
  },
  {
   "cell_type": "code",
   "execution_count": null,
   "metadata": {
    "slideshow": {
     "slide_type": "-"
    }
   },
   "outputs": [],
   "source": [
    "wordcloud = WordCloud(stopwords=stopwords_ +['one','said',\"two\"])\n",
    "wordcloud.generate(clean_text)"
   ]
  },
  {
   "cell_type": "markdown",
   "metadata": {
    "slideshow": {
     "slide_type": "slide"
    }
   },
   "source": [
    "The object we create here actually can be displayed by calling the matplotlib function \"imshow\":"
   ]
  },
  {
   "cell_type": "code",
   "execution_count": null,
   "metadata": {
    "slideshow": {
     "slide_type": "-"
    }
   },
   "outputs": [],
   "source": [
    "plt.figure(figsize = (8, 8), facecolor = None) \n",
    "plt.imshow(wordcloud) \n",
    "plt.axis(\"off\") \n",
    "plt.tight_layout(pad = 0) \n",
    "  \n",
    "plt.show() "
   ]
  },
  {
   "cell_type": "markdown",
   "metadata": {
    "slideshow": {
     "slide_type": "slide"
    }
   },
   "source": [
    "__Bonus: Use a mask to put the words in a certain shape__\n",
    "\n",
    "I'm reading in an image from the internet which is the title text used for the musical version."
   ]
  },
  {
   "cell_type": "code",
   "execution_count": null,
   "metadata": {
    "slideshow": {
     "slide_type": "-"
    }
   },
   "outputs": [],
   "source": [
    "from PIL import Image\n",
    "import numpy as np\n",
    "\n",
    "# We're going to read in the image like an array\n",
    "mask = np.array(Image.open(\"./Les-Miserables-Black.png\"))[:-100,:,:]\n",
    "\n",
    "mask"
   ]
  },
  {
   "cell_type": "markdown",
   "metadata": {
    "slideshow": {
     "slide_type": "slide"
    }
   },
   "source": [
    "The word cloud function requires that the image \"background\" be 255.\n",
    "\n",
    "Here's what it looks like."
   ]
  },
  {
   "cell_type": "code",
   "execution_count": null,
   "metadata": {
    "slideshow": {
     "slide_type": "-"
    }
   },
   "outputs": [],
   "source": [
    "plt.imshow(mask[:,:,:])"
   ]
  },
  {
   "cell_type": "markdown",
   "metadata": {
    "slideshow": {
     "slide_type": "slide"
    }
   },
   "source": [
    "Now here's the wordcloud object, but using the \"mask\" argument."
   ]
  },
  {
   "cell_type": "code",
   "execution_count": null,
   "metadata": {
    "slideshow": {
     "slide_type": "-"
    }
   },
   "outputs": [],
   "source": [
    "wordcloud = WordCloud(stopwords=stopwords_,\\\n",
    "                      mask=mask,\n",
    "                      colormap=\"RdBu\",\n",
    "                      max_words=1000,\n",
    "                      width=1200, \n",
    "                      height=800,\n",
    "                      background_color=\"black\",\n",
    "                      font_path='arial').generate(clean_text)"
   ]
  },
  {
   "cell_type": "code",
   "execution_count": null,
   "metadata": {
    "slideshow": {
     "slide_type": "slide"
    }
   },
   "outputs": [],
   "source": [
    "plt.figure(figsize = (20, 20), facecolor = None) \n",
    "plt.imshow(wordcloud) \n",
    "plt.axis(\"off\") \n",
    "plt.tight_layout(pad = 0) \n",
    "plt.savefig(\"Les_Mis_wc.png\",dpi=350,bbox_inches=\"tight\")"
   ]
  },
  {
   "attachments": {
    "image.png": {
     "image/png": "[encoded data removed]"
    }
   },
   "cell_type": "markdown",
   "metadata": {
    "slideshow": {
     "slide_type": "slide"
    }
   },
   "source": [
    "### Example 2: Chapters\n",
    "\n",
    "How many times does a character appear in each chapter?\n",
    "\n",
    "To do this kind of analyis, we will use chapters as units of analysis. In the \"Coding for Data Science\" course they did a count of number of times a character gets mentioned in a chapter of Pride and Prejudice:\n",
    "![image.png](attachment:image.png)"
   ]
  },
  {
   "cell_type": "markdown",
   "metadata": {
    "slideshow": {
     "slide_type": "slide"
    }
   },
   "source": [
    "For Les Mis, its an even greater undertaking given the number of characters.\n",
    "\n",
    "This book has several characters that cycle throughout the story, so one analysis we could do is: how does the focus of the story shift from one character to another throughout the book?"
   ]
  },
  {
   "cell_type": "markdown",
   "metadata": {
    "slideshow": {
     "slide_type": "slide"
    }
   },
   "source": [
    "### Step 1: Split the book into chapters.\n",
    "\n",
    "Note that there are 365 chapters in the book. The easiest thing to start with the main text that we used before."
   ]
  },
  {
   "cell_type": "code",
   "execution_count": null,
   "metadata": {
    "slideshow": {
     "slide_type": "-"
    }
   },
   "outputs": [],
   "source": [
    "chapters = main_text.split(\"CHAPTER\")"
   ]
  },
  {
   "cell_type": "markdown",
   "metadata": {
    "slideshow": {
     "slide_type": "slide"
    }
   },
   "source": [
    "To check whether we did it alright, let's look at the number of chapters"
   ]
  },
  {
   "cell_type": "code",
   "execution_count": null,
   "metadata": {
    "slideshow": {
     "slide_type": "-"
    }
   },
   "outputs": [],
   "source": [
    "len(chapters)"
   ]
  },
  {
   "cell_type": "markdown",
   "metadata": {
    "slideshow": {
     "slide_type": "slide"
    }
   },
   "source": [
    "Uh oh, what went wrong? Let's look at the length of the chapters."
   ]
  },
  {
   "cell_type": "code",
   "execution_count": null,
   "metadata": {
    "slideshow": {
     "slide_type": "-"
    }
   },
   "outputs": [],
   "source": [
    "chapter_lengths = pd.Series([len(x) for x  in chapters])\n",
    "chapter_lengths.sort_values()"
   ]
  },
  {
   "cell_type": "markdown",
   "metadata": {
    "slideshow": {
     "slide_type": "slide"
    }
   },
   "source": [
    "Hmmmm, so the 33rd chapter has only 7 characters, meaning its likely an error. We've also included the Preface, but we will keep that in.\n",
    "\n",
    "Let's plug those index numbers in to see what they look like."
   ]
  },
  {
   "cell_type": "code",
   "execution_count": null,
   "metadata": {
    "slideshow": {
     "slide_type": "-"
    }
   },
   "outputs": [],
   "source": [
    "chapters[33], chapters[34][:100],chapters[0]"
   ]
  },
  {
   "cell_type": "markdown",
   "metadata": {
    "slideshow": {
     "slide_type": "slide"
    }
   },
   "source": [
    "So we can confirm that we have an error at position 33 and we have the preface 0. We can use the \"pop\" function, which will remove an element from a list."
   ]
  },
  {
   "cell_type": "code",
   "execution_count": null,
   "metadata": {
    "slideshow": {
     "slide_type": "-"
    }
   },
   "outputs": [],
   "source": [
    "chapters.pop(33)"
   ]
  },
  {
   "cell_type": "code",
   "execution_count": null,
   "metadata": {
    "slideshow": {
     "slide_type": "-"
    }
   },
   "outputs": [],
   "source": [
    "chapter_lengths = pd.Series([len(x) for x  in chapters])\n",
    "chapter_lengths.sort_values()"
   ]
  },
  {
   "cell_type": "markdown",
   "metadata": {
    "slideshow": {
     "slide_type": "-"
    }
   },
   "source": [
    "Now it is gone!"
   ]
  },
  {
   "cell_type": "markdown",
   "metadata": {
    "slideshow": {
     "slide_type": "slide"
    }
   },
   "source": [
    "### Side Note: A Good Application for TF-IDF\n",
    "When we did our word counts, we sometimes got far too many common words and not enough meaningful words.\n",
    "\n",
    "... but what is a \"meaningful word\"?\n",
    "\n",
    "One definition search algorithms often use is __Term Frequency - Inverse Document Frequency (TF-IDF)__. Here we introduce the idea of a \"document\" which is the unit of analysis we are using (in this case chapters)."
   ]
  },
  {
   "cell_type": "markdown",
   "metadata": {
    "slideshow": {
     "slide_type": "slide"
    }
   },
   "source": [
    "__Term frequency__: how often does a  word appear in a document?\n",
    "\n",
    "__Document frequency__: How many documents contain this word?\n",
    "\n",
    "Then $TF-IDF = TF/DF$, so we divide term frequency by the total number of documents that have that word.\n",
    "\n",
    "__What is the advantage of doing this instead of just using term frequency?__"
   ]
  },
  {
   "cell_type": "markdown",
   "metadata": {
    "slideshow": {
     "slide_type": "slide"
    }
   },
   "source": [
    "Essentially, this gives a high score to words that feature in a document but are __specific to a document__.\n",
    "\n",
    "For example, the word \"man\" may be a very frequent word but it could be used as a broad term for humanity and would appear in every chapter.\n",
    "\n",
    "In contrast, the word \"barricade\" is likely to feature heavily in the last part of the book but not in the whole text. Indeed, the word \"barricade\" is a large part of the story at that point, so it is somewhat meaningful.\n",
    "\n",
    "Why is this useful?"
   ]
  },
  {
   "cell_type": "markdown",
   "metadata": {
    "slideshow": {
     "slide_type": "slide"
    }
   },
   "source": [
    "Let's do it. First, I wrote a function to clean our chapters."
   ]
  },
  {
   "cell_type": "code",
   "execution_count": null,
   "metadata": {
    "scrolled": true,
    "slideshow": {
     "slide_type": "-"
    }
   },
   "outputs": [],
   "source": [
    "def tokenize(string):\n",
    "    string = string.replace(\"\\r\\n\",\" \")\n",
    "    string = string.lower()\n",
    "    string = string.replace(\"-\",\" \")\n",
    "    string = string.translate(remv_punc)\n",
    "    words = string.split(\" \")\n",
    "    words = [x for x in words if x!=\"\"]\n",
    "    words = [x for x in words if x not in stopwords_]\n",
    "    return words\n",
    "\n",
    "chapters_tokenized = [tokenize(x) for x in chapters]"
   ]
  },
  {
   "cell_type": "markdown",
   "metadata": {
    "slideshow": {
     "slide_type": "slide"
    }
   },
   "source": [
    "Next let's create a word matrix like we have done before:"
   ]
  },
  {
   "cell_type": "code",
   "execution_count": null,
   "metadata": {
    "slideshow": {
     "slide_type": "-"
    }
   },
   "outputs": [],
   "source": [
    "word_matrix = pd.concat([pd.Series(x).value_counts() for x in chapters_tokenized],axis=1).fillna(0)\n",
    "word_matrix.head()"
   ]
  },
  {
   "cell_type": "markdown",
   "metadata": {
    "slideshow": {
     "slide_type": "slide"
    }
   },
   "source": [
    "Method \\#1: Groupby\n",
    "\n",
    "One way to get tf is just with a groupby method:"
   ]
  },
  {
   "cell_type": "code",
   "execution_count": null,
   "metadata": {
    "slideshow": {
     "slide_type": "-"
    }
   },
   "outputs": [],
   "source": [
    "def tf_calc(column):\n",
    "    return column/column.sum()\n",
    "\n",
    "tf = word_matrix.apply(tf_calc,axis=1)\n",
    "tf"
   ]
  },
  {
   "cell_type": "markdown",
   "metadata": {
    "slideshow": {
     "slide_type": "-"
    }
   },
   "source": [
    "Notice how slow it is..."
   ]
  },
  {
   "cell_type": "markdown",
   "metadata": {
    "slideshow": {
     "slide_type": "slide"
    }
   },
   "source": [
    "Now calculate IDF:"
   ]
  },
  {
   "cell_type": "code",
   "execution_count": null,
   "metadata": {
    "slideshow": {
     "slide_type": "-"
    }
   },
   "outputs": [],
   "source": [
    "inv_doc_freq = np.log(tf.shape[1]/(word_matrix!=0).sum(axis=1))\n",
    "inv_doc_freq"
   ]
  },
  {
   "cell_type": "markdown",
   "metadata": {
    "slideshow": {
     "slide_type": "slide"
    }
   },
   "source": [
    "Method \\#2: VECTORIZE"
   ]
  },
  {
   "cell_type": "code",
   "execution_count": null,
   "metadata": {
    "slideshow": {
     "slide_type": "-"
    }
   },
   "outputs": [],
   "source": [
    "idf_mat= np.repeat(np.array(inv_doc_freq)[:,np.newaxis],\\\n",
    "                   tf.shape[1],\\\n",
    "                   axis=1)\n",
    "\n",
    "tf_idf = tf*idf_mat"
   ]
  },
  {
   "cell_type": "markdown",
   "metadata": {
    "slideshow": {
     "slide_type": "-"
    }
   },
   "source": [
    "What did I just do there, and why was it so much faster?"
   ]
  },
  {
   "cell_type": "markdown",
   "metadata": {
    "slideshow": {
     "slide_type": "slide"
    }
   },
   "source": [
    "Now let's look at different chapters and their top words:"
   ]
  },
  {
   "cell_type": "code",
   "execution_count": null,
   "metadata": {
    "slideshow": {
     "slide_type": "-"
    }
   },
   "outputs": [],
   "source": [
    "chapter_no = 200\n",
    "tf_idf[chapter_no].sort_values(ascending=False).head(30)"
   ]
  },
  {
   "cell_type": "markdown",
   "metadata": {
    "slideshow": {
     "slide_type": "slide"
    }
   },
   "source": [
    "### Step 2: Take Character Counts\n",
    "Using the other python tutorial, we can steal their count_character function."
   ]
  },
  {
   "cell_type": "code",
   "execution_count": null,
   "metadata": {
    "slideshow": {
     "slide_type": "-"
    }
   },
   "outputs": [],
   "source": [
    "def count_character(chapter,name):\n",
    "    return np.char.count(chapter,name)"
   ]
  },
  {
   "cell_type": "markdown",
   "metadata": {
    "slideshow": {
     "slide_type": "slide"
    }
   },
   "source": [
    "Now let's make a list of some main characters."
   ]
  },
  {
   "cell_type": "code",
   "execution_count": null,
   "metadata": {
    "slideshow": {
     "slide_type": "-"
    }
   },
   "outputs": [],
   "source": [
    "characters = [\"Fantine\",\"Marius\",\"Cosette\",\"Jean Valjean\",\"Javert\",\"Bishop\"]"
   ]
  },
  {
   "cell_type": "markdown",
   "metadata": {
    "slideshow": {
     "slide_type": "-"
    }
   },
   "source": [
    "And now we can evaluate the function. Notice that the numpy function accepts a list:"
   ]
  },
  {
   "cell_type": "code",
   "execution_count": null,
   "metadata": {
    "slideshow": {
     "slide_type": "-"
    }
   },
   "outputs": [],
   "source": [
    "count_character(chapters,characters)"
   ]
  },
  {
   "cell_type": "markdown",
   "metadata": {
    "slideshow": {
     "slide_type": "slide"
    }
   },
   "source": [
    "There are many ways to do this, but the easiest way to plot is actually to create a DataFrame."
   ]
  },
  {
   "cell_type": "code",
   "execution_count": null,
   "metadata": {
    "slideshow": {
     "slide_type": "-"
    }
   },
   "outputs": [],
   "source": [
    "# This creates a list of Pandas Series objexts.\n",
    "character_counts = [pd.Series(count_character(chapters,character)) for character in characters]\n",
    "\n",
    "# pd.concat accepts a list of series objects and can make a Dataframe.\n",
    "character_df = pd.concat(character_counts,axis=1)\n",
    "\n",
    "# Rename the colums now.\n",
    "character_df.columns = characters\n",
    "\n",
    "character_df"
   ]
  },
  {
   "cell_type": "markdown",
   "metadata": {
    "slideshow": {
     "slide_type": "slide"
    }
   },
   "source": [
    "### Step 3: Plot the Data"
   ]
  },
  {
   "cell_type": "markdown",
   "metadata": {
    "slideshow": {
     "slide_type": "slide"
    }
   },
   "source": [
    "Now we can just call plot:"
   ]
  },
  {
   "cell_type": "code",
   "execution_count": null,
   "metadata": {
    "slideshow": {
     "slide_type": "-"
    }
   },
   "outputs": [],
   "source": [
    "f,a = plt.subplots(figsize = (20, 5))\n",
    "\n",
    "character_df.plot(ax=a)\n",
    "plt.xticks(np.arange(1,365,20));\n",
    "plt.xlim(0,370)\n",
    "plt.xlabel(\"Chapter Number\")"
   ]
  },
  {
   "cell_type": "markdown",
   "metadata": {
    "slideshow": {
     "slide_type": "slide"
    }
   },
   "source": [
    "Oof, this isn't very pretty. So two options:\n",
    "\n",
    "1. Do \"cumulative sum\" like in the tutorial\n",
    "\n",
    "2. Take a rolling average to smooth it out"
   ]
  },
  {
   "cell_type": "markdown",
   "metadata": {
    "slideshow": {
     "slide_type": "slide"
    }
   },
   "source": [
    "__Cumulative Sum__:"
   ]
  },
  {
   "cell_type": "code",
   "execution_count": null,
   "metadata": {
    "slideshow": {
     "slide_type": "-"
    }
   },
   "outputs": [],
   "source": [
    "f,a = plt.subplots(figsize = (20, 5))\n",
    "\n",
    "character_df.cumsum().rolling(3).mean().plot(ax=a)\n",
    "plt.xticks(np.arange(1,365,20));\n",
    "plt.xlim(0,370)\n",
    "plt.xlabel(\"Chapter Number\")\n",
    "plt.ylabel(\"Total Mentions)\")"
   ]
  },
  {
   "cell_type": "markdown",
   "metadata": {
    "slideshow": {
     "slide_type": "slide"
    }
   },
   "source": [
    "__Rolling Mean, 10 chapters:__"
   ]
  },
  {
   "cell_type": "code",
   "execution_count": null,
   "metadata": {
    "slideshow": {
     "slide_type": "-"
    }
   },
   "outputs": [],
   "source": [
    "f,a = plt.subplots(figsize = (20, 5))\n",
    "\n",
    "character_df.rolling(10).mean().plot(ax=a)\n",
    "plt.xticks(np.arange(1,365,20));\n",
    "plt.xlim(0,370)\n",
    "plt.ylim(0,20)\n",
    "plt.ylabel(\"Average Mentions (10 Chapter Average)\")\n",
    "plt.xlabel(\"Chapter Number\")"
   ]
  },
  {
   "cell_type": "markdown",
   "metadata": {
    "slideshow": {
     "slide_type": "slide"
    }
   },
   "source": [
    "### Example 3: Sentiment Analysis\n",
    "Now that we have it broken on chapters, we can do a sentiment analysis.\n",
    "\n",
    "Sentiment analysis is an example of a NLP routine to analyze whether a text is positive or negative. We can use the nltk package, feed in a chapter, and then get the \"compound score.\""
   ]
  },
  {
   "cell_type": "code",
   "execution_count": null,
   "metadata": {
    "slideshow": {
     "slide_type": "-"
    }
   },
   "outputs": [],
   "source": [
    "import nltk\n",
    "nltk.download('vader_lexicon')\n",
    "from nltk.sentiment.vader import SentimentIntensityAnalyzer"
   ]
  },
  {
   "cell_type": "markdown",
   "metadata": {
    "slideshow": {
     "slide_type": "slide"
    }
   },
   "source": [
    "First creat a sentiment analysis instance:"
   ]
  },
  {
   "cell_type": "code",
   "execution_count": null,
   "metadata": {
    "slideshow": {
     "slide_type": "-"
    }
   },
   "outputs": [],
   "source": [
    "sid = SentimentIntensityAnalyzer()"
   ]
  },
  {
   "cell_type": "markdown",
   "metadata": {
    "slideshow": {
     "slide_type": "slide"
    }
   },
   "source": [
    "Now using a list comprehension, we can run each chapter through the algorithm"
   ]
  },
  {
   "cell_type": "code",
   "execution_count": null,
   "metadata": {
    "slideshow": {
     "slide_type": "-"
    }
   },
   "outputs": [],
   "source": [
    "pol_scores = [sid.polarity_scores(x)['compound'] for x in chapters]\n",
    "\n",
    "pol_scores"
   ]
  },
  {
   "cell_type": "markdown",
   "metadata": {
    "slideshow": {
     "slide_type": "slide"
    }
   },
   "source": [
    "Basic histogram:"
   ]
  },
  {
   "cell_type": "code",
   "execution_count": null,
   "metadata": {
    "slideshow": {
     "slide_type": "-"
    }
   },
   "outputs": [],
   "source": [
    "pd.Series(pol_scores).plot(kind='hist',bins=20)"
   ]
  },
  {
   "cell_type": "markdown",
   "metadata": {
    "slideshow": {
     "slide_type": "slide"
    }
   },
   "source": [
    "One thing you should notice at this point is that the alogorithm predicts really close to zero and one. This is likely because the algorithm is for social media, and we just fed it a 19th century French novel. \n",
    "\n",
    "It would make sense then that this rule based method doesn't find a lot of nuance."
   ]
  },
  {
   "cell_type": "markdown",
   "metadata": {
    "slideshow": {
     "slide_type": "slide"
    }
   },
   "source": [
    "### Plotting Sentiment over the Book"
   ]
  },
  {
   "cell_type": "code",
   "execution_count": null,
   "metadata": {
    "slideshow": {
     "slide_type": "-"
    }
   },
   "outputs": [],
   "source": [
    "f,a = plt.subplots(figsize = (10, 5))\n",
    "pd.Series(pol_scores).plot(ax=a)\n",
    "plt.xticks(np.arange(1,365,20));\n",
    "plt.xlim(0,370)\n",
    "\n",
    "plt.axhline(0,color='black',)"
   ]
  },
  {
   "cell_type": "markdown",
   "metadata": {
    "slideshow": {
     "slide_type": "slide"
    }
   },
   "source": [
    "Gross.\n",
    "\n",
    "But from this we can see that there are periods of sustained positivity and then more negative parts.\n",
    "\n",
    "Using our rolling average, we can make it look a little clearer:"
   ]
  },
  {
   "cell_type": "code",
   "execution_count": null,
   "metadata": {
    "slideshow": {
     "slide_type": "-"
    }
   },
   "outputs": [],
   "source": [
    "f,a = plt.subplots(figsize = (10, 5))\n",
    "pd.Series(pol_scores).plot(ax=a,alpha=.2)\n",
    "pd.Series(pol_scores).rolling(20).mean().plot(ax=a,color=\"black\")\n",
    "a.axhline(0,color='black',ls='--')\n",
    "plt.ylabel(\"Sentiment Score\")\n",
    "plt.xticks(np.arange(1,365,20));\n",
    "plt.xlim(0,370)"
   ]
  },
  {
   "cell_type": "markdown",
   "metadata": {
    "slideshow": {
     "slide_type": "slide"
    }
   },
   "source": [
    "We can try to graph all of them together to give it this look:"
   ]
  },
  {
   "cell_type": "code",
   "execution_count": null,
   "metadata": {
    "slideshow": {
     "slide_type": "-"
    }
   },
   "outputs": [],
   "source": [
    "f,a = plt.subplots(figsize = (20, 5))\n",
    "pd.Series(pol_scores).plot(ax=a,alpha=.05,color='grey',label=\"Raw Sentiment Score\")\n",
    "pd.Series(pol_scores).rolling(20).mean().plot(ax=a,color=\"black\",alpha=1,label=\"Average Sentiment Score\")\n",
    "a.axhline(0,color='black',ls='--')\n",
    "a.set_ylabel(\"Sentiment Score\")\n",
    "a.legend(loc=(0,-.25))\n",
    "plt.xticks(np.arange(1,365,20));\n",
    "plt.xlim(0,370)\n",
    "\n",
    "ax2 = a.twinx()\n",
    "\n",
    "ax2.set_ylabel(\"Average Character Count\")\n",
    "character_df.rolling(10).mean().plot(ax=ax2,alpha=.5)\n",
    "ax2.legend(loc=(.935,-.4))"
   ]
  },
  {
   "cell_type": "markdown",
   "metadata": {
    "slideshow": {
     "slide_type": "slide"
    }
   },
   "source": [
    "How does it match up with the Hedonometer readings?\n",
    "<center>\n",
    "\n",
    "<img src=\"hedonometer_reading.png\">\n",
    "</center>\n"
   ]
  },
  {
   "cell_type": "markdown",
   "metadata": {
    "slideshow": {
     "slide_type": "slide"
    }
   },
   "source": [
    "Note: a look at the plot of the book can give you details about some things that happen. For example:\n",
    "1. Fantine appears around Chapter 30 as noted in the character plots, but begins a slow slide into poverty, leading her to give charge of her daughter Cosette to the Thenardiers, a cruel family that mistreats her. Fantine loses her job at the mill and becomes a prostitute. She later dies after giving Valjean the task of taking care of her daughter. This is somewhat shown by a gradual decline in sentiment after her appearence.\n",
    "2. Victor Hugo at about chapter 70 starts ranting about the battle of Waterloo. This causes a big swing towards negative sentiment (the French lost that battle).\n"
   ]
  },
  {
   "cell_type": "markdown",
   "metadata": {
    "slideshow": {
     "slide_type": "slide"
    }
   },
   "source": [
    "3. Some decades later, Marius appears at chapter 160, and he is an idealistic young revolutionary. He also falls in love with the now older Cosette, which appears to cause a spike in sentiment.\n",
    "4. The final conflict of the book is the revolution, which ultimately fails and leads to the deaths of some other major characters such as Gavroche, Enjolras, and Eponine. This decline in sentiment from the highs of Marius and Cosette being in love are reflected in the scores. Javert also dies, thus why his character trend dissapears.\n",
    "5. Marius and Cosette get married, while Valjean runs away to live at a convent (ironically) and wrestle with the guilt of his past life as a criminal. The book ends with him dying, but with Cosette and Marius at his side. This somewhat hopeful ending contributes to the spike in sentiment at the end."
   ]
  },
  {
   "cell_type": "markdown",
   "metadata": {
    "slideshow": {
     "slide_type": "slide"
    }
   },
   "source": [
    "### Example 4: Character Correlations"
   ]
  },
  {
   "cell_type": "markdown",
   "metadata": {
    "slideshow": {
     "slide_type": "-"
    }
   },
   "source": [
    "Let's add this to our \"character\" dataframe and then call \"correlation\" on the dataframe."
   ]
  },
  {
   "cell_type": "code",
   "execution_count": null,
   "metadata": {
    "slideshow": {
     "slide_type": "slide"
    }
   },
   "outputs": [],
   "source": [
    "character_df['sentiment'] = pd.Series(pol_scores)\n",
    "character_df['sentiment_rm20'] = pd.Series(pol_scores).rolling(20).mean()\n",
    "character_df['sentiment_rm10'] = pd.Series(pol_scores).rolling(10).mean()\n",
    "\n",
    "character_df.corr().iloc[:-3,-3:]"
   ]
  },
  {
   "cell_type": "markdown",
   "metadata": {
    "slideshow": {
     "slide_type": "-"
    }
   },
   "source": [
    "Javert, being the main villain of the book, has the lowest sentiment while Cosette and Marius, the heros of the book, have the highest sentiment score (as well as Cosette's mother Fantine, who dies early on in the book). Interestingly, Valjean has an almost neutral sentiment, possibly because he is the character who is \"reforming himself\" throughout the book."
   ]
  },
  {
   "cell_type": "markdown",
   "metadata": {
    "slideshow": {
     "slide_type": "slide"
    }
   },
   "source": [
    "### LDA Analysis"
   ]
  },
  {
   "cell_type": "code",
   "execution_count": null,
   "metadata": {
    "slideshow": {
     "slide_type": "-"
    }
   },
   "outputs": [],
   "source": [
    "import gensim\n",
    "from gensim.corpora.dictionary import Dictionary\n",
    "from gensim.test.utils import common_texts\n",
    "from gensim.models.ldamodel import LdaModel\n",
    "import nltk\n",
    "nltk.download('wordnet')\n",
    "from nltk.corpus import wordnet as wn\n",
    "from gensim import models"
   ]
  },
  {
   "cell_type": "code",
   "execution_count": null,
   "metadata": {
    "slideshow": {
     "slide_type": "skip"
    }
   },
   "outputs": [],
   "source": [
    "def get_lemma(word):\n",
    "    lemma = wn.morphy(word)\n",
    "    if lemma is None:\n",
    "        return word\n",
    "    else:\n",
    "        return lemma\n",
    "\n",
    "def tokenize(string):\n",
    "    string = string.replace(\"\\r\\n\",\" \")\n",
    "    string = string.lower()\n",
    "    string = string.replace(\"-\",\" \")\n",
    "    string = string.translate(remv_punc)\n",
    "    words = string.split(\" \")\n",
    "    words = [x for x in words if x!=\"\"]\n",
    "    words = [x for x in words if x not in stopwords_+['man']]\n",
    "    words = [get_lemma(x) for x in words]\n",
    "    return words"
   ]
  },
  {
   "cell_type": "markdown",
   "metadata": {
    "slideshow": {
     "slide_type": "slide"
    }
   },
   "source": [
    "Regular LDA model"
   ]
  },
  {
   "cell_type": "code",
   "execution_count": null,
   "metadata": {
    "slideshow": {
     "slide_type": "-"
    }
   },
   "outputs": [],
   "source": [
    "chapters_tokens = [tokenize(x) for x in chapters]\n",
    "chapter_dict =  Dictionary(chapters_tokens)\n",
    "chapter_corpus = [chapter_dict.doc2bow(text) for text in chapters_tokens]\n",
    "lda = LdaModel(chapter_corpus, num_topics=3,id2word=chapter_dict)\n",
    "\n",
    "lda.print_topics(num_words=10)"
   ]
  },
  {
   "cell_type": "markdown",
   "metadata": {
    "slideshow": {
     "slide_type": "slide"
    }
   },
   "source": [
    "LDA model using TF-IDF scoring"
   ]
  },
  {
   "cell_type": "code",
   "execution_count": null,
   "metadata": {
    "slideshow": {
     "slide_type": "-"
    }
   },
   "outputs": [],
   "source": [
    "tfidf = models.TfidfModel(chapter_corpus)\n",
    "corpus_tfidf = tfidf[chapter_corpus]\n",
    "lda = LdaModel(corpus_tfidf, num_topics=5,id2word=chapter_dict)\n",
    "lda.print_topics(num_words=10)"
   ]
  }
 ],
 "metadata": {
  "celltoolbar": "Slideshow",
  "kernelspec": {
   "display_name": "Python 3 (ipykernel)",
   "language": "python",
   "name": "python3"
  },
  "language_info": {
   "codemirror_mode": {
    "name": "ipython",
    "version": 3
   },
   "file_extension": ".py",
   "mimetype": "text/x-python",
   "name": "python",
   "nbconvert_exporter": "python",
   "pygments_lexer": "ipython3",
   "version": "3.10.9"
  },
  "rise": {
   "height": "80%",
   "transition": "none"
  }
 },
 "nbformat": 4,
 "nbformat_minor": 4
}
